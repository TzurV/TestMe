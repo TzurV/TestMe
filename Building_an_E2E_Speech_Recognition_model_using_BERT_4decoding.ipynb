{
  "nbformat": 4,
  "nbformat_minor": 0,
  "metadata": {
    "accelerator": "GPU",
    "colab": {
      "name": "Building_an_E2E_Speech_Recognition_model_using_BERT_4decoding",
      "provenance": [],
      "collapsed_sections": [],
      "include_colab_link": true
    },
    "kernelspec": {
      "display_name": "Python 3",
      "language": "python",
      "name": "python3"
    },
    "language_info": {
      "codemirror_mode": {
        "name": "ipython",
        "version": 3
      },
      "file_extension": ".py",
      "mimetype": "text/x-python",
      "name": "python",
      "nbconvert_exporter": "python",
      "pygments_lexer": "ipython3",
      "version": "3.7.6"
    },
    "widgets": {
      "application/vnd.jupyter.widget-state+json": {
        "523bc3432443426aaed4802bb9341582": {
          "model_module": "@jupyter-widgets/controls",
          "model_name": "HBoxModel",
          "state": {
            "_view_name": "HBoxView",
            "_dom_classes": [],
            "_model_name": "HBoxModel",
            "_view_module": "@jupyter-widgets/controls",
            "_model_module_version": "1.5.0",
            "_view_count": null,
            "_view_module_version": "1.5.0",
            "box_style": "",
            "layout": "IPY_MODEL_4e4ee5b07f414636933dc8c824a63cbb",
            "_model_module": "@jupyter-widgets/controls",
            "children": [
              "IPY_MODEL_325613e5e5fd4001aecde3ab67103b57",
              "IPY_MODEL_2548010c588541ababb19199b9f6b67a"
            ]
          }
        },
        "4e4ee5b07f414636933dc8c824a63cbb": {
          "model_module": "@jupyter-widgets/base",
          "model_name": "LayoutModel",
          "state": {
            "_view_name": "LayoutView",
            "grid_template_rows": null,
            "right": null,
            "justify_content": null,
            "_view_module": "@jupyter-widgets/base",
            "overflow": null,
            "_model_module_version": "1.2.0",
            "_view_count": null,
            "flex_flow": null,
            "width": null,
            "min_width": null,
            "border": null,
            "align_items": null,
            "bottom": null,
            "_model_module": "@jupyter-widgets/base",
            "top": null,
            "grid_column": null,
            "overflow_y": null,
            "overflow_x": null,
            "grid_auto_flow": null,
            "grid_area": null,
            "grid_template_columns": null,
            "flex": null,
            "_model_name": "LayoutModel",
            "justify_items": null,
            "grid_row": null,
            "max_height": null,
            "align_content": null,
            "visibility": null,
            "align_self": null,
            "height": null,
            "min_height": null,
            "padding": null,
            "grid_auto_rows": null,
            "grid_gap": null,
            "max_width": null,
            "order": null,
            "_view_module_version": "1.2.0",
            "grid_template_areas": null,
            "object_position": null,
            "object_fit": null,
            "grid_auto_columns": null,
            "margin": null,
            "display": null,
            "left": null
          }
        },
        "325613e5e5fd4001aecde3ab67103b57": {
          "model_module": "@jupyter-widgets/controls",
          "model_name": "FloatProgressModel",
          "state": {
            "_view_name": "ProgressView",
            "style": "IPY_MODEL_7d61a765f593478482e3c9601ab6103e",
            "_dom_classes": [],
            "description": "Downloading: 100%",
            "_model_name": "FloatProgressModel",
            "bar_style": "success",
            "max": 411,
            "_view_module": "@jupyter-widgets/controls",
            "_model_module_version": "1.5.0",
            "value": 411,
            "_view_count": null,
            "_view_module_version": "1.5.0",
            "orientation": "horizontal",
            "min": 0,
            "description_tooltip": null,
            "_model_module": "@jupyter-widgets/controls",
            "layout": "IPY_MODEL_acd1df917b524351976880cb4cc60ca0"
          }
        },
        "2548010c588541ababb19199b9f6b67a": {
          "model_module": "@jupyter-widgets/controls",
          "model_name": "HTMLModel",
          "state": {
            "_view_name": "HTMLView",
            "style": "IPY_MODEL_8c472618f7a94728a9cc68a77b62f848",
            "_dom_classes": [],
            "description": "",
            "_model_name": "HTMLModel",
            "placeholder": "​",
            "_view_module": "@jupyter-widgets/controls",
            "_model_module_version": "1.5.0",
            "value": " 411/411 [00:00&lt;00:00, 573B/s]",
            "_view_count": null,
            "_view_module_version": "1.5.0",
            "description_tooltip": null,
            "_model_module": "@jupyter-widgets/controls",
            "layout": "IPY_MODEL_8905a8143b504fd08928dad8e5014e78"
          }
        },
        "7d61a765f593478482e3c9601ab6103e": {
          "model_module": "@jupyter-widgets/controls",
          "model_name": "ProgressStyleModel",
          "state": {
            "_view_name": "StyleView",
            "_model_name": "ProgressStyleModel",
            "description_width": "initial",
            "_view_module": "@jupyter-widgets/base",
            "_model_module_version": "1.5.0",
            "_view_count": null,
            "_view_module_version": "1.2.0",
            "bar_color": null,
            "_model_module": "@jupyter-widgets/controls"
          }
        },
        "acd1df917b524351976880cb4cc60ca0": {
          "model_module": "@jupyter-widgets/base",
          "model_name": "LayoutModel",
          "state": {
            "_view_name": "LayoutView",
            "grid_template_rows": null,
            "right": null,
            "justify_content": null,
            "_view_module": "@jupyter-widgets/base",
            "overflow": null,
            "_model_module_version": "1.2.0",
            "_view_count": null,
            "flex_flow": null,
            "width": null,
            "min_width": null,
            "border": null,
            "align_items": null,
            "bottom": null,
            "_model_module": "@jupyter-widgets/base",
            "top": null,
            "grid_column": null,
            "overflow_y": null,
            "overflow_x": null,
            "grid_auto_flow": null,
            "grid_area": null,
            "grid_template_columns": null,
            "flex": null,
            "_model_name": "LayoutModel",
            "justify_items": null,
            "grid_row": null,
            "max_height": null,
            "align_content": null,
            "visibility": null,
            "align_self": null,
            "height": null,
            "min_height": null,
            "padding": null,
            "grid_auto_rows": null,
            "grid_gap": null,
            "max_width": null,
            "order": null,
            "_view_module_version": "1.2.0",
            "grid_template_areas": null,
            "object_position": null,
            "object_fit": null,
            "grid_auto_columns": null,
            "margin": null,
            "display": null,
            "left": null
          }
        },
        "8c472618f7a94728a9cc68a77b62f848": {
          "model_module": "@jupyter-widgets/controls",
          "model_name": "DescriptionStyleModel",
          "state": {
            "_view_name": "StyleView",
            "_model_name": "DescriptionStyleModel",
            "description_width": "",
            "_view_module": "@jupyter-widgets/base",
            "_model_module_version": "1.5.0",
            "_view_count": null,
            "_view_module_version": "1.2.0",
            "_model_module": "@jupyter-widgets/controls"
          }
        },
        "8905a8143b504fd08928dad8e5014e78": {
          "model_module": "@jupyter-widgets/base",
          "model_name": "LayoutModel",
          "state": {
            "_view_name": "LayoutView",
            "grid_template_rows": null,
            "right": null,
            "justify_content": null,
            "_view_module": "@jupyter-widgets/base",
            "overflow": null,
            "_model_module_version": "1.2.0",
            "_view_count": null,
            "flex_flow": null,
            "width": null,
            "min_width": null,
            "border": null,
            "align_items": null,
            "bottom": null,
            "_model_module": "@jupyter-widgets/base",
            "top": null,
            "grid_column": null,
            "overflow_y": null,
            "overflow_x": null,
            "grid_auto_flow": null,
            "grid_area": null,
            "grid_template_columns": null,
            "flex": null,
            "_model_name": "LayoutModel",
            "justify_items": null,
            "grid_row": null,
            "max_height": null,
            "align_content": null,
            "visibility": null,
            "align_self": null,
            "height": null,
            "min_height": null,
            "padding": null,
            "grid_auto_rows": null,
            "grid_gap": null,
            "max_width": null,
            "order": null,
            "_view_module_version": "1.2.0",
            "grid_template_areas": null,
            "object_position": null,
            "object_fit": null,
            "grid_auto_columns": null,
            "margin": null,
            "display": null,
            "left": null
          }
        },
        "7555328ceb054c5e8d7e8a0ee11f3977": {
          "model_module": "@jupyter-widgets/controls",
          "model_name": "HBoxModel",
          "state": {
            "_view_name": "HBoxView",
            "_dom_classes": [],
            "_model_name": "HBoxModel",
            "_view_module": "@jupyter-widgets/controls",
            "_model_module_version": "1.5.0",
            "_view_count": null,
            "_view_module_version": "1.5.0",
            "box_style": "",
            "layout": "IPY_MODEL_85f20ae494aa40478ef6834d7407c240",
            "_model_module": "@jupyter-widgets/controls",
            "children": [
              "IPY_MODEL_3e5f0d32c97c4a6a8cba590206121afe",
              "IPY_MODEL_4c67776298f349f7beaf0e72df602f4b"
            ]
          }
        },
        "85f20ae494aa40478ef6834d7407c240": {
          "model_module": "@jupyter-widgets/base",
          "model_name": "LayoutModel",
          "state": {
            "_view_name": "LayoutView",
            "grid_template_rows": null,
            "right": null,
            "justify_content": null,
            "_view_module": "@jupyter-widgets/base",
            "overflow": null,
            "_model_module_version": "1.2.0",
            "_view_count": null,
            "flex_flow": null,
            "width": null,
            "min_width": null,
            "border": null,
            "align_items": null,
            "bottom": null,
            "_model_module": "@jupyter-widgets/base",
            "top": null,
            "grid_column": null,
            "overflow_y": null,
            "overflow_x": null,
            "grid_auto_flow": null,
            "grid_area": null,
            "grid_template_columns": null,
            "flex": null,
            "_model_name": "LayoutModel",
            "justify_items": null,
            "grid_row": null,
            "max_height": null,
            "align_content": null,
            "visibility": null,
            "align_self": null,
            "height": null,
            "min_height": null,
            "padding": null,
            "grid_auto_rows": null,
            "grid_gap": null,
            "max_width": null,
            "order": null,
            "_view_module_version": "1.2.0",
            "grid_template_areas": null,
            "object_position": null,
            "object_fit": null,
            "grid_auto_columns": null,
            "margin": null,
            "display": null,
            "left": null
          }
        },
        "3e5f0d32c97c4a6a8cba590206121afe": {
          "model_module": "@jupyter-widgets/controls",
          "model_name": "FloatProgressModel",
          "state": {
            "_view_name": "ProgressView",
            "style": "IPY_MODEL_f540961a85cb415aa2e2b74d66c8d8e8",
            "_dom_classes": [],
            "description": "Downloading: 100%",
            "_model_name": "FloatProgressModel",
            "bar_style": "success",
            "max": 213450,
            "_view_module": "@jupyter-widgets/controls",
            "_model_module_version": "1.5.0",
            "value": 213450,
            "_view_count": null,
            "_view_module_version": "1.5.0",
            "orientation": "horizontal",
            "min": 0,
            "description_tooltip": null,
            "_model_module": "@jupyter-widgets/controls",
            "layout": "IPY_MODEL_56a121d57f3048ab945fec85e6646c05"
          }
        },
        "4c67776298f349f7beaf0e72df602f4b": {
          "model_module": "@jupyter-widgets/controls",
          "model_name": "HTMLModel",
          "state": {
            "_view_name": "HTMLView",
            "style": "IPY_MODEL_7321022d55e945f58628293840994ce0",
            "_dom_classes": [],
            "description": "",
            "_model_name": "HTMLModel",
            "placeholder": "​",
            "_view_module": "@jupyter-widgets/controls",
            "_model_module_version": "1.5.0",
            "value": " 213k/213k [00:00&lt;00:00, 1.35MB/s]",
            "_view_count": null,
            "_view_module_version": "1.5.0",
            "description_tooltip": null,
            "_model_module": "@jupyter-widgets/controls",
            "layout": "IPY_MODEL_65e019a34ada4a67bb577f003bc6724b"
          }
        },
        "f540961a85cb415aa2e2b74d66c8d8e8": {
          "model_module": "@jupyter-widgets/controls",
          "model_name": "ProgressStyleModel",
          "state": {
            "_view_name": "StyleView",
            "_model_name": "ProgressStyleModel",
            "description_width": "initial",
            "_view_module": "@jupyter-widgets/base",
            "_model_module_version": "1.5.0",
            "_view_count": null,
            "_view_module_version": "1.2.0",
            "bar_color": null,
            "_model_module": "@jupyter-widgets/controls"
          }
        },
        "56a121d57f3048ab945fec85e6646c05": {
          "model_module": "@jupyter-widgets/base",
          "model_name": "LayoutModel",
          "state": {
            "_view_name": "LayoutView",
            "grid_template_rows": null,
            "right": null,
            "justify_content": null,
            "_view_module": "@jupyter-widgets/base",
            "overflow": null,
            "_model_module_version": "1.2.0",
            "_view_count": null,
            "flex_flow": null,
            "width": null,
            "min_width": null,
            "border": null,
            "align_items": null,
            "bottom": null,
            "_model_module": "@jupyter-widgets/base",
            "top": null,
            "grid_column": null,
            "overflow_y": null,
            "overflow_x": null,
            "grid_auto_flow": null,
            "grid_area": null,
            "grid_template_columns": null,
            "flex": null,
            "_model_name": "LayoutModel",
            "justify_items": null,
            "grid_row": null,
            "max_height": null,
            "align_content": null,
            "visibility": null,
            "align_self": null,
            "height": null,
            "min_height": null,
            "padding": null,
            "grid_auto_rows": null,
            "grid_gap": null,
            "max_width": null,
            "order": null,
            "_view_module_version": "1.2.0",
            "grid_template_areas": null,
            "object_position": null,
            "object_fit": null,
            "grid_auto_columns": null,
            "margin": null,
            "display": null,
            "left": null
          }
        },
        "7321022d55e945f58628293840994ce0": {
          "model_module": "@jupyter-widgets/controls",
          "model_name": "DescriptionStyleModel",
          "state": {
            "_view_name": "StyleView",
            "_model_name": "DescriptionStyleModel",
            "description_width": "",
            "_view_module": "@jupyter-widgets/base",
            "_model_module_version": "1.5.0",
            "_view_count": null,
            "_view_module_version": "1.2.0",
            "_model_module": "@jupyter-widgets/controls"
          }
        },
        "65e019a34ada4a67bb577f003bc6724b": {
          "model_module": "@jupyter-widgets/base",
          "model_name": "LayoutModel",
          "state": {
            "_view_name": "LayoutView",
            "grid_template_rows": null,
            "right": null,
            "justify_content": null,
            "_view_module": "@jupyter-widgets/base",
            "overflow": null,
            "_model_module_version": "1.2.0",
            "_view_count": null,
            "flex_flow": null,
            "width": null,
            "min_width": null,
            "border": null,
            "align_items": null,
            "bottom": null,
            "_model_module": "@jupyter-widgets/base",
            "top": null,
            "grid_column": null,
            "overflow_y": null,
            "overflow_x": null,
            "grid_auto_flow": null,
            "grid_area": null,
            "grid_template_columns": null,
            "flex": null,
            "_model_name": "LayoutModel",
            "justify_items": null,
            "grid_row": null,
            "max_height": null,
            "align_content": null,
            "visibility": null,
            "align_self": null,
            "height": null,
            "min_height": null,
            "padding": null,
            "grid_auto_rows": null,
            "grid_gap": null,
            "max_width": null,
            "order": null,
            "_view_module_version": "1.2.0",
            "grid_template_areas": null,
            "object_position": null,
            "object_fit": null,
            "grid_auto_columns": null,
            "margin": null,
            "display": null,
            "left": null
          }
        },
        "f5d9fdc32c8f4a35a50d17e2850efc8d": {
          "model_module": "@jupyter-widgets/controls",
          "model_name": "HBoxModel",
          "state": {
            "_view_name": "HBoxView",
            "_dom_classes": [],
            "_model_name": "HBoxModel",
            "_view_module": "@jupyter-widgets/controls",
            "_model_module_version": "1.5.0",
            "_view_count": null,
            "_view_module_version": "1.5.0",
            "box_style": "",
            "layout": "IPY_MODEL_11e3ca8b0d9a4fc3b2feef791baece02",
            "_model_module": "@jupyter-widgets/controls",
            "children": [
              "IPY_MODEL_e3891a08ce634e8c9867d7d2d4ac33a0",
              "IPY_MODEL_7134fdd8c9d743c0a7640e62038e0a36"
            ]
          }
        },
        "11e3ca8b0d9a4fc3b2feef791baece02": {
          "model_module": "@jupyter-widgets/base",
          "model_name": "LayoutModel",
          "state": {
            "_view_name": "LayoutView",
            "grid_template_rows": null,
            "right": null,
            "justify_content": null,
            "_view_module": "@jupyter-widgets/base",
            "overflow": null,
            "_model_module_version": "1.2.0",
            "_view_count": null,
            "flex_flow": null,
            "width": null,
            "min_width": null,
            "border": null,
            "align_items": null,
            "bottom": null,
            "_model_module": "@jupyter-widgets/base",
            "top": null,
            "grid_column": null,
            "overflow_y": null,
            "overflow_x": null,
            "grid_auto_flow": null,
            "grid_area": null,
            "grid_template_columns": null,
            "flex": null,
            "_model_name": "LayoutModel",
            "justify_items": null,
            "grid_row": null,
            "max_height": null,
            "align_content": null,
            "visibility": null,
            "align_self": null,
            "height": null,
            "min_height": null,
            "padding": null,
            "grid_auto_rows": null,
            "grid_gap": null,
            "max_width": null,
            "order": null,
            "_view_module_version": "1.2.0",
            "grid_template_areas": null,
            "object_position": null,
            "object_fit": null,
            "grid_auto_columns": null,
            "margin": null,
            "display": null,
            "left": null
          }
        },
        "e3891a08ce634e8c9867d7d2d4ac33a0": {
          "model_module": "@jupyter-widgets/controls",
          "model_name": "FloatProgressModel",
          "state": {
            "_view_name": "ProgressView",
            "style": "IPY_MODEL_1ce94a0def0f4962aec80761efb2dcbc",
            "_dom_classes": [],
            "description": "Downloading: 100%",
            "_model_name": "FloatProgressModel",
            "bar_style": "success",
            "max": 263273408,
            "_view_module": "@jupyter-widgets/controls",
            "_model_module_version": "1.5.0",
            "value": 263273408,
            "_view_count": null,
            "_view_module_version": "1.5.0",
            "orientation": "horizontal",
            "min": 0,
            "description_tooltip": null,
            "_model_module": "@jupyter-widgets/controls",
            "layout": "IPY_MODEL_d5f20bc3dbc743af907c8d9e48f6dd21"
          }
        },
        "7134fdd8c9d743c0a7640e62038e0a36": {
          "model_module": "@jupyter-widgets/controls",
          "model_name": "HTMLModel",
          "state": {
            "_view_name": "HTMLView",
            "style": "IPY_MODEL_f8b1df0162924356888c904d144c21db",
            "_dom_classes": [],
            "description": "",
            "_model_name": "HTMLModel",
            "placeholder": "​",
            "_view_module": "@jupyter-widgets/controls",
            "_model_module_version": "1.5.0",
            "value": " 263M/263M [00:03&lt;00:00, 66.7MB/s]",
            "_view_count": null,
            "_view_module_version": "1.5.0",
            "description_tooltip": null,
            "_model_module": "@jupyter-widgets/controls",
            "layout": "IPY_MODEL_870d394005e34edfbf686681149a677b"
          }
        },
        "1ce94a0def0f4962aec80761efb2dcbc": {
          "model_module": "@jupyter-widgets/controls",
          "model_name": "ProgressStyleModel",
          "state": {
            "_view_name": "StyleView",
            "_model_name": "ProgressStyleModel",
            "description_width": "initial",
            "_view_module": "@jupyter-widgets/base",
            "_model_module_version": "1.5.0",
            "_view_count": null,
            "_view_module_version": "1.2.0",
            "bar_color": null,
            "_model_module": "@jupyter-widgets/controls"
          }
        },
        "d5f20bc3dbc743af907c8d9e48f6dd21": {
          "model_module": "@jupyter-widgets/base",
          "model_name": "LayoutModel",
          "state": {
            "_view_name": "LayoutView",
            "grid_template_rows": null,
            "right": null,
            "justify_content": null,
            "_view_module": "@jupyter-widgets/base",
            "overflow": null,
            "_model_module_version": "1.2.0",
            "_view_count": null,
            "flex_flow": null,
            "width": null,
            "min_width": null,
            "border": null,
            "align_items": null,
            "bottom": null,
            "_model_module": "@jupyter-widgets/base",
            "top": null,
            "grid_column": null,
            "overflow_y": null,
            "overflow_x": null,
            "grid_auto_flow": null,
            "grid_area": null,
            "grid_template_columns": null,
            "flex": null,
            "_model_name": "LayoutModel",
            "justify_items": null,
            "grid_row": null,
            "max_height": null,
            "align_content": null,
            "visibility": null,
            "align_self": null,
            "height": null,
            "min_height": null,
            "padding": null,
            "grid_auto_rows": null,
            "grid_gap": null,
            "max_width": null,
            "order": null,
            "_view_module_version": "1.2.0",
            "grid_template_areas": null,
            "object_position": null,
            "object_fit": null,
            "grid_auto_columns": null,
            "margin": null,
            "display": null,
            "left": null
          }
        },
        "f8b1df0162924356888c904d144c21db": {
          "model_module": "@jupyter-widgets/controls",
          "model_name": "DescriptionStyleModel",
          "state": {
            "_view_name": "StyleView",
            "_model_name": "DescriptionStyleModel",
            "description_width": "",
            "_view_module": "@jupyter-widgets/base",
            "_model_module_version": "1.5.0",
            "_view_count": null,
            "_view_module_version": "1.2.0",
            "_model_module": "@jupyter-widgets/controls"
          }
        },
        "870d394005e34edfbf686681149a677b": {
          "model_module": "@jupyter-widgets/base",
          "model_name": "LayoutModel",
          "state": {
            "_view_name": "LayoutView",
            "grid_template_rows": null,
            "right": null,
            "justify_content": null,
            "_view_module": "@jupyter-widgets/base",
            "overflow": null,
            "_model_module_version": "1.2.0",
            "_view_count": null,
            "flex_flow": null,
            "width": null,
            "min_width": null,
            "border": null,
            "align_items": null,
            "bottom": null,
            "_model_module": "@jupyter-widgets/base",
            "top": null,
            "grid_column": null,
            "overflow_y": null,
            "overflow_x": null,
            "grid_auto_flow": null,
            "grid_area": null,
            "grid_template_columns": null,
            "flex": null,
            "_model_name": "LayoutModel",
            "justify_items": null,
            "grid_row": null,
            "max_height": null,
            "align_content": null,
            "visibility": null,
            "align_self": null,
            "height": null,
            "min_height": null,
            "padding": null,
            "grid_auto_rows": null,
            "grid_gap": null,
            "max_width": null,
            "order": null,
            "_view_module_version": "1.2.0",
            "grid_template_areas": null,
            "object_position": null,
            "object_fit": null,
            "grid_auto_columns": null,
            "margin": null,
            "display": null,
            "left": null
          }
        },
        "7d94c42902d3449bbe433be697fb1765": {
          "model_module": "@jupyter-widgets/controls",
          "model_name": "HBoxModel",
          "state": {
            "_view_name": "HBoxView",
            "_dom_classes": [],
            "_model_name": "HBoxModel",
            "_view_module": "@jupyter-widgets/controls",
            "_model_module_version": "1.5.0",
            "_view_count": null,
            "_view_module_version": "1.5.0",
            "box_style": "",
            "layout": "IPY_MODEL_d7eda1dea8854fe192d865301d6bb628",
            "_model_module": "@jupyter-widgets/controls",
            "children": [
              "IPY_MODEL_4e51ddeea2d54243b996e76ea1c7355d",
              "IPY_MODEL_8b52d318358a417dabc7543aa921a637"
            ]
          }
        },
        "d7eda1dea8854fe192d865301d6bb628": {
          "model_module": "@jupyter-widgets/base",
          "model_name": "LayoutModel",
          "state": {
            "_view_name": "LayoutView",
            "grid_template_rows": null,
            "right": null,
            "justify_content": null,
            "_view_module": "@jupyter-widgets/base",
            "overflow": null,
            "_model_module_version": "1.2.0",
            "_view_count": null,
            "flex_flow": null,
            "width": null,
            "min_width": null,
            "border": null,
            "align_items": null,
            "bottom": null,
            "_model_module": "@jupyter-widgets/base",
            "top": null,
            "grid_column": null,
            "overflow_y": null,
            "overflow_x": null,
            "grid_auto_flow": null,
            "grid_area": null,
            "grid_template_columns": null,
            "flex": null,
            "_model_name": "LayoutModel",
            "justify_items": null,
            "grid_row": null,
            "max_height": null,
            "align_content": null,
            "visibility": null,
            "align_self": null,
            "height": null,
            "min_height": null,
            "padding": null,
            "grid_auto_rows": null,
            "grid_gap": null,
            "max_width": null,
            "order": null,
            "_view_module_version": "1.2.0",
            "grid_template_areas": null,
            "object_position": null,
            "object_fit": null,
            "grid_auto_columns": null,
            "margin": null,
            "display": null,
            "left": null
          }
        },
        "4e51ddeea2d54243b996e76ea1c7355d": {
          "model_module": "@jupyter-widgets/controls",
          "model_name": "FloatProgressModel",
          "state": {
            "_view_name": "ProgressView",
            "style": "IPY_MODEL_09386b5e29064229b270a801b186335c",
            "_dom_classes": [],
            "description": "Downloading: 100%",
            "_model_name": "FloatProgressModel",
            "bar_style": "success",
            "max": 665,
            "_view_module": "@jupyter-widgets/controls",
            "_model_module_version": "1.5.0",
            "value": 665,
            "_view_count": null,
            "_view_module_version": "1.5.0",
            "orientation": "horizontal",
            "min": 0,
            "description_tooltip": null,
            "_model_module": "@jupyter-widgets/controls",
            "layout": "IPY_MODEL_88f774bdf0f540e492fa348a8fa12e73"
          }
        },
        "8b52d318358a417dabc7543aa921a637": {
          "model_module": "@jupyter-widgets/controls",
          "model_name": "HTMLModel",
          "state": {
            "_view_name": "HTMLView",
            "style": "IPY_MODEL_5d3c0fb19a6d41bdbf03f5df3e18b9e0",
            "_dom_classes": [],
            "description": "",
            "_model_name": "HTMLModel",
            "placeholder": "​",
            "_view_module": "@jupyter-widgets/controls",
            "_model_module_version": "1.5.0",
            "value": " 665/665 [00:01&lt;00:00, 531B/s]",
            "_view_count": null,
            "_view_module_version": "1.5.0",
            "description_tooltip": null,
            "_model_module": "@jupyter-widgets/controls",
            "layout": "IPY_MODEL_f8a4a363a9304c90849df4b5e10ac9fa"
          }
        },
        "09386b5e29064229b270a801b186335c": {
          "model_module": "@jupyter-widgets/controls",
          "model_name": "ProgressStyleModel",
          "state": {
            "_view_name": "StyleView",
            "_model_name": "ProgressStyleModel",
            "description_width": "initial",
            "_view_module": "@jupyter-widgets/base",
            "_model_module_version": "1.5.0",
            "_view_count": null,
            "_view_module_version": "1.2.0",
            "bar_color": null,
            "_model_module": "@jupyter-widgets/controls"
          }
        },
        "88f774bdf0f540e492fa348a8fa12e73": {
          "model_module": "@jupyter-widgets/base",
          "model_name": "LayoutModel",
          "state": {
            "_view_name": "LayoutView",
            "grid_template_rows": null,
            "right": null,
            "justify_content": null,
            "_view_module": "@jupyter-widgets/base",
            "overflow": null,
            "_model_module_version": "1.2.0",
            "_view_count": null,
            "flex_flow": null,
            "width": null,
            "min_width": null,
            "border": null,
            "align_items": null,
            "bottom": null,
            "_model_module": "@jupyter-widgets/base",
            "top": null,
            "grid_column": null,
            "overflow_y": null,
            "overflow_x": null,
            "grid_auto_flow": null,
            "grid_area": null,
            "grid_template_columns": null,
            "flex": null,
            "_model_name": "LayoutModel",
            "justify_items": null,
            "grid_row": null,
            "max_height": null,
            "align_content": null,
            "visibility": null,
            "align_self": null,
            "height": null,
            "min_height": null,
            "padding": null,
            "grid_auto_rows": null,
            "grid_gap": null,
            "max_width": null,
            "order": null,
            "_view_module_version": "1.2.0",
            "grid_template_areas": null,
            "object_position": null,
            "object_fit": null,
            "grid_auto_columns": null,
            "margin": null,
            "display": null,
            "left": null
          }
        },
        "5d3c0fb19a6d41bdbf03f5df3e18b9e0": {
          "model_module": "@jupyter-widgets/controls",
          "model_name": "DescriptionStyleModel",
          "state": {
            "_view_name": "StyleView",
            "_model_name": "DescriptionStyleModel",
            "description_width": "",
            "_view_module": "@jupyter-widgets/base",
            "_model_module_version": "1.5.0",
            "_view_count": null,
            "_view_module_version": "1.2.0",
            "_model_module": "@jupyter-widgets/controls"
          }
        },
        "f8a4a363a9304c90849df4b5e10ac9fa": {
          "model_module": "@jupyter-widgets/base",
          "model_name": "LayoutModel",
          "state": {
            "_view_name": "LayoutView",
            "grid_template_rows": null,
            "right": null,
            "justify_content": null,
            "_view_module": "@jupyter-widgets/base",
            "overflow": null,
            "_model_module_version": "1.2.0",
            "_view_count": null,
            "flex_flow": null,
            "width": null,
            "min_width": null,
            "border": null,
            "align_items": null,
            "bottom": null,
            "_model_module": "@jupyter-widgets/base",
            "top": null,
            "grid_column": null,
            "overflow_y": null,
            "overflow_x": null,
            "grid_auto_flow": null,
            "grid_area": null,
            "grid_template_columns": null,
            "flex": null,
            "_model_name": "LayoutModel",
            "justify_items": null,
            "grid_row": null,
            "max_height": null,
            "align_content": null,
            "visibility": null,
            "align_self": null,
            "height": null,
            "min_height": null,
            "padding": null,
            "grid_auto_rows": null,
            "grid_gap": null,
            "max_width": null,
            "order": null,
            "_view_module_version": "1.2.0",
            "grid_template_areas": null,
            "object_position": null,
            "object_fit": null,
            "grid_auto_columns": null,
            "margin": null,
            "display": null,
            "left": null
          }
        },
        "510c464ce075411696b951d366573e2b": {
          "model_module": "@jupyter-widgets/controls",
          "model_name": "HBoxModel",
          "state": {
            "_view_name": "HBoxView",
            "_dom_classes": [],
            "_model_name": "HBoxModel",
            "_view_module": "@jupyter-widgets/controls",
            "_model_module_version": "1.5.0",
            "_view_count": null,
            "_view_module_version": "1.5.0",
            "box_style": "",
            "layout": "IPY_MODEL_2c1758b6639949fc9542b3c65a00aae1",
            "_model_module": "@jupyter-widgets/controls",
            "children": [
              "IPY_MODEL_c308cda253474a77b521638d410406b6",
              "IPY_MODEL_d2f42e595ef74aebaeebbf5e16f19495"
            ]
          }
        },
        "2c1758b6639949fc9542b3c65a00aae1": {
          "model_module": "@jupyter-widgets/base",
          "model_name": "LayoutModel",
          "state": {
            "_view_name": "LayoutView",
            "grid_template_rows": null,
            "right": null,
            "justify_content": null,
            "_view_module": "@jupyter-widgets/base",
            "overflow": null,
            "_model_module_version": "1.2.0",
            "_view_count": null,
            "flex_flow": null,
            "width": null,
            "min_width": null,
            "border": null,
            "align_items": null,
            "bottom": null,
            "_model_module": "@jupyter-widgets/base",
            "top": null,
            "grid_column": null,
            "overflow_y": null,
            "overflow_x": null,
            "grid_auto_flow": null,
            "grid_area": null,
            "grid_template_columns": null,
            "flex": null,
            "_model_name": "LayoutModel",
            "justify_items": null,
            "grid_row": null,
            "max_height": null,
            "align_content": null,
            "visibility": null,
            "align_self": null,
            "height": null,
            "min_height": null,
            "padding": null,
            "grid_auto_rows": null,
            "grid_gap": null,
            "max_width": null,
            "order": null,
            "_view_module_version": "1.2.0",
            "grid_template_areas": null,
            "object_position": null,
            "object_fit": null,
            "grid_auto_columns": null,
            "margin": null,
            "display": null,
            "left": null
          }
        },
        "c308cda253474a77b521638d410406b6": {
          "model_module": "@jupyter-widgets/controls",
          "model_name": "FloatProgressModel",
          "state": {
            "_view_name": "ProgressView",
            "style": "IPY_MODEL_f25a073266d84345a37ebdbc3fc4733e",
            "_dom_classes": [],
            "description": "Downloading: 100%",
            "_model_name": "FloatProgressModel",
            "bar_style": "success",
            "max": 1042301,
            "_view_module": "@jupyter-widgets/controls",
            "_model_module_version": "1.5.0",
            "value": 1042301,
            "_view_count": null,
            "_view_module_version": "1.5.0",
            "orientation": "horizontal",
            "min": 0,
            "description_tooltip": null,
            "_model_module": "@jupyter-widgets/controls",
            "layout": "IPY_MODEL_a1c701c0937f4fa58daa05616d500095"
          }
        },
        "d2f42e595ef74aebaeebbf5e16f19495": {
          "model_module": "@jupyter-widgets/controls",
          "model_name": "HTMLModel",
          "state": {
            "_view_name": "HTMLView",
            "style": "IPY_MODEL_f8d59938f0574c3290b64e0188865c60",
            "_dom_classes": [],
            "description": "",
            "_model_name": "HTMLModel",
            "placeholder": "​",
            "_view_module": "@jupyter-widgets/controls",
            "_model_module_version": "1.5.0",
            "value": " 1.04M/1.04M [00:00&lt;00:00, 1.81MB/s]",
            "_view_count": null,
            "_view_module_version": "1.5.0",
            "description_tooltip": null,
            "_model_module": "@jupyter-widgets/controls",
            "layout": "IPY_MODEL_72802764d72641c2b152c2898bac2906"
          }
        },
        "f25a073266d84345a37ebdbc3fc4733e": {
          "model_module": "@jupyter-widgets/controls",
          "model_name": "ProgressStyleModel",
          "state": {
            "_view_name": "StyleView",
            "_model_name": "ProgressStyleModel",
            "description_width": "initial",
            "_view_module": "@jupyter-widgets/base",
            "_model_module_version": "1.5.0",
            "_view_count": null,
            "_view_module_version": "1.2.0",
            "bar_color": null,
            "_model_module": "@jupyter-widgets/controls"
          }
        },
        "a1c701c0937f4fa58daa05616d500095": {
          "model_module": "@jupyter-widgets/base",
          "model_name": "LayoutModel",
          "state": {
            "_view_name": "LayoutView",
            "grid_template_rows": null,
            "right": null,
            "justify_content": null,
            "_view_module": "@jupyter-widgets/base",
            "overflow": null,
            "_model_module_version": "1.2.0",
            "_view_count": null,
            "flex_flow": null,
            "width": null,
            "min_width": null,
            "border": null,
            "align_items": null,
            "bottom": null,
            "_model_module": "@jupyter-widgets/base",
            "top": null,
            "grid_column": null,
            "overflow_y": null,
            "overflow_x": null,
            "grid_auto_flow": null,
            "grid_area": null,
            "grid_template_columns": null,
            "flex": null,
            "_model_name": "LayoutModel",
            "justify_items": null,
            "grid_row": null,
            "max_height": null,
            "align_content": null,
            "visibility": null,
            "align_self": null,
            "height": null,
            "min_height": null,
            "padding": null,
            "grid_auto_rows": null,
            "grid_gap": null,
            "max_width": null,
            "order": null,
            "_view_module_version": "1.2.0",
            "grid_template_areas": null,
            "object_position": null,
            "object_fit": null,
            "grid_auto_columns": null,
            "margin": null,
            "display": null,
            "left": null
          }
        },
        "f8d59938f0574c3290b64e0188865c60": {
          "model_module": "@jupyter-widgets/controls",
          "model_name": "DescriptionStyleModel",
          "state": {
            "_view_name": "StyleView",
            "_model_name": "DescriptionStyleModel",
            "description_width": "",
            "_view_module": "@jupyter-widgets/base",
            "_model_module_version": "1.5.0",
            "_view_count": null,
            "_view_module_version": "1.2.0",
            "_model_module": "@jupyter-widgets/controls"
          }
        },
        "72802764d72641c2b152c2898bac2906": {
          "model_module": "@jupyter-widgets/base",
          "model_name": "LayoutModel",
          "state": {
            "_view_name": "LayoutView",
            "grid_template_rows": null,
            "right": null,
            "justify_content": null,
            "_view_module": "@jupyter-widgets/base",
            "overflow": null,
            "_model_module_version": "1.2.0",
            "_view_count": null,
            "flex_flow": null,
            "width": null,
            "min_width": null,
            "border": null,
            "align_items": null,
            "bottom": null,
            "_model_module": "@jupyter-widgets/base",
            "top": null,
            "grid_column": null,
            "overflow_y": null,
            "overflow_x": null,
            "grid_auto_flow": null,
            "grid_area": null,
            "grid_template_columns": null,
            "flex": null,
            "_model_name": "LayoutModel",
            "justify_items": null,
            "grid_row": null,
            "max_height": null,
            "align_content": null,
            "visibility": null,
            "align_self": null,
            "height": null,
            "min_height": null,
            "padding": null,
            "grid_auto_rows": null,
            "grid_gap": null,
            "max_width": null,
            "order": null,
            "_view_module_version": "1.2.0",
            "grid_template_areas": null,
            "object_position": null,
            "object_fit": null,
            "grid_auto_columns": null,
            "margin": null,
            "display": null,
            "left": null
          }
        },
        "2d75023aaf67435ca7dc0f19f5a89741": {
          "model_module": "@jupyter-widgets/controls",
          "model_name": "HBoxModel",
          "state": {
            "_view_name": "HBoxView",
            "_dom_classes": [],
            "_model_name": "HBoxModel",
            "_view_module": "@jupyter-widgets/controls",
            "_model_module_version": "1.5.0",
            "_view_count": null,
            "_view_module_version": "1.5.0",
            "box_style": "",
            "layout": "IPY_MODEL_8e7c3a72a30d47fba67c7b013fb931e4",
            "_model_module": "@jupyter-widgets/controls",
            "children": [
              "IPY_MODEL_1c68eeb843ce4fbe9c83070721c153b2",
              "IPY_MODEL_6408feef835446609fbd83a13b500b62"
            ]
          }
        },
        "8e7c3a72a30d47fba67c7b013fb931e4": {
          "model_module": "@jupyter-widgets/base",
          "model_name": "LayoutModel",
          "state": {
            "_view_name": "LayoutView",
            "grid_template_rows": null,
            "right": null,
            "justify_content": null,
            "_view_module": "@jupyter-widgets/base",
            "overflow": null,
            "_model_module_version": "1.2.0",
            "_view_count": null,
            "flex_flow": null,
            "width": null,
            "min_width": null,
            "border": null,
            "align_items": null,
            "bottom": null,
            "_model_module": "@jupyter-widgets/base",
            "top": null,
            "grid_column": null,
            "overflow_y": null,
            "overflow_x": null,
            "grid_auto_flow": null,
            "grid_area": null,
            "grid_template_columns": null,
            "flex": null,
            "_model_name": "LayoutModel",
            "justify_items": null,
            "grid_row": null,
            "max_height": null,
            "align_content": null,
            "visibility": null,
            "align_self": null,
            "height": null,
            "min_height": null,
            "padding": null,
            "grid_auto_rows": null,
            "grid_gap": null,
            "max_width": null,
            "order": null,
            "_view_module_version": "1.2.0",
            "grid_template_areas": null,
            "object_position": null,
            "object_fit": null,
            "grid_auto_columns": null,
            "margin": null,
            "display": null,
            "left": null
          }
        },
        "1c68eeb843ce4fbe9c83070721c153b2": {
          "model_module": "@jupyter-widgets/controls",
          "model_name": "FloatProgressModel",
          "state": {
            "_view_name": "ProgressView",
            "style": "IPY_MODEL_ce49aaf582b34efcac45c74faa8eae72",
            "_dom_classes": [],
            "description": "Downloading: 100%",
            "_model_name": "FloatProgressModel",
            "bar_style": "success",
            "max": 456318,
            "_view_module": "@jupyter-widgets/controls",
            "_model_module_version": "1.5.0",
            "value": 456318,
            "_view_count": null,
            "_view_module_version": "1.5.0",
            "orientation": "horizontal",
            "min": 0,
            "description_tooltip": null,
            "_model_module": "@jupyter-widgets/controls",
            "layout": "IPY_MODEL_294e76ac70b54ac5ab91c98c2e64729a"
          }
        },
        "6408feef835446609fbd83a13b500b62": {
          "model_module": "@jupyter-widgets/controls",
          "model_name": "HTMLModel",
          "state": {
            "_view_name": "HTMLView",
            "style": "IPY_MODEL_6e1220e45def4f57a673c3ec2e9bd988",
            "_dom_classes": [],
            "description": "",
            "_model_name": "HTMLModel",
            "placeholder": "​",
            "_view_module": "@jupyter-widgets/controls",
            "_model_module_version": "1.5.0",
            "value": " 456k/456k [00:00&lt;00:00, 2.09MB/s]",
            "_view_count": null,
            "_view_module_version": "1.5.0",
            "description_tooltip": null,
            "_model_module": "@jupyter-widgets/controls",
            "layout": "IPY_MODEL_a92b89bab5ed46f78f2b76fbab2d81e5"
          }
        },
        "ce49aaf582b34efcac45c74faa8eae72": {
          "model_module": "@jupyter-widgets/controls",
          "model_name": "ProgressStyleModel",
          "state": {
            "_view_name": "StyleView",
            "_model_name": "ProgressStyleModel",
            "description_width": "initial",
            "_view_module": "@jupyter-widgets/base",
            "_model_module_version": "1.5.0",
            "_view_count": null,
            "_view_module_version": "1.2.0",
            "bar_color": null,
            "_model_module": "@jupyter-widgets/controls"
          }
        },
        "294e76ac70b54ac5ab91c98c2e64729a": {
          "model_module": "@jupyter-widgets/base",
          "model_name": "LayoutModel",
          "state": {
            "_view_name": "LayoutView",
            "grid_template_rows": null,
            "right": null,
            "justify_content": null,
            "_view_module": "@jupyter-widgets/base",
            "overflow": null,
            "_model_module_version": "1.2.0",
            "_view_count": null,
            "flex_flow": null,
            "width": null,
            "min_width": null,
            "border": null,
            "align_items": null,
            "bottom": null,
            "_model_module": "@jupyter-widgets/base",
            "top": null,
            "grid_column": null,
            "overflow_y": null,
            "overflow_x": null,
            "grid_auto_flow": null,
            "grid_area": null,
            "grid_template_columns": null,
            "flex": null,
            "_model_name": "LayoutModel",
            "justify_items": null,
            "grid_row": null,
            "max_height": null,
            "align_content": null,
            "visibility": null,
            "align_self": null,
            "height": null,
            "min_height": null,
            "padding": null,
            "grid_auto_rows": null,
            "grid_gap": null,
            "max_width": null,
            "order": null,
            "_view_module_version": "1.2.0",
            "grid_template_areas": null,
            "object_position": null,
            "object_fit": null,
            "grid_auto_columns": null,
            "margin": null,
            "display": null,
            "left": null
          }
        },
        "6e1220e45def4f57a673c3ec2e9bd988": {
          "model_module": "@jupyter-widgets/controls",
          "model_name": "DescriptionStyleModel",
          "state": {
            "_view_name": "StyleView",
            "_model_name": "DescriptionStyleModel",
            "description_width": "",
            "_view_module": "@jupyter-widgets/base",
            "_model_module_version": "1.5.0",
            "_view_count": null,
            "_view_module_version": "1.2.0",
            "_model_module": "@jupyter-widgets/controls"
          }
        },
        "a92b89bab5ed46f78f2b76fbab2d81e5": {
          "model_module": "@jupyter-widgets/base",
          "model_name": "LayoutModel",
          "state": {
            "_view_name": "LayoutView",
            "grid_template_rows": null,
            "right": null,
            "justify_content": null,
            "_view_module": "@jupyter-widgets/base",
            "overflow": null,
            "_model_module_version": "1.2.0",
            "_view_count": null,
            "flex_flow": null,
            "width": null,
            "min_width": null,
            "border": null,
            "align_items": null,
            "bottom": null,
            "_model_module": "@jupyter-widgets/base",
            "top": null,
            "grid_column": null,
            "overflow_y": null,
            "overflow_x": null,
            "grid_auto_flow": null,
            "grid_area": null,
            "grid_template_columns": null,
            "flex": null,
            "_model_name": "LayoutModel",
            "justify_items": null,
            "grid_row": null,
            "max_height": null,
            "align_content": null,
            "visibility": null,
            "align_self": null,
            "height": null,
            "min_height": null,
            "padding": null,
            "grid_auto_rows": null,
            "grid_gap": null,
            "max_width": null,
            "order": null,
            "_view_module_version": "1.2.0",
            "grid_template_areas": null,
            "object_position": null,
            "object_fit": null,
            "grid_auto_columns": null,
            "margin": null,
            "display": null,
            "left": null
          }
        },
        "949adbfe27dd4501a2ed361a19e08823": {
          "model_module": "@jupyter-widgets/controls",
          "model_name": "HBoxModel",
          "state": {
            "_view_name": "HBoxView",
            "_dom_classes": [],
            "_model_name": "HBoxModel",
            "_view_module": "@jupyter-widgets/controls",
            "_model_module_version": "1.5.0",
            "_view_count": null,
            "_view_module_version": "1.5.0",
            "box_style": "",
            "layout": "IPY_MODEL_f1d113e39ac34f0d8b6d54a61170b690",
            "_model_module": "@jupyter-widgets/controls",
            "children": [
              "IPY_MODEL_fa388d3467e6479394649727bdda5ced",
              "IPY_MODEL_4adac396ce804e18a04b2a29d2e20a24"
            ]
          }
        },
        "f1d113e39ac34f0d8b6d54a61170b690": {
          "model_module": "@jupyter-widgets/base",
          "model_name": "LayoutModel",
          "state": {
            "_view_name": "LayoutView",
            "grid_template_rows": null,
            "right": null,
            "justify_content": null,
            "_view_module": "@jupyter-widgets/base",
            "overflow": null,
            "_model_module_version": "1.2.0",
            "_view_count": null,
            "flex_flow": null,
            "width": null,
            "min_width": null,
            "border": null,
            "align_items": null,
            "bottom": null,
            "_model_module": "@jupyter-widgets/base",
            "top": null,
            "grid_column": null,
            "overflow_y": null,
            "overflow_x": null,
            "grid_auto_flow": null,
            "grid_area": null,
            "grid_template_columns": null,
            "flex": null,
            "_model_name": "LayoutModel",
            "justify_items": null,
            "grid_row": null,
            "max_height": null,
            "align_content": null,
            "visibility": null,
            "align_self": null,
            "height": null,
            "min_height": null,
            "padding": null,
            "grid_auto_rows": null,
            "grid_gap": null,
            "max_width": null,
            "order": null,
            "_view_module_version": "1.2.0",
            "grid_template_areas": null,
            "object_position": null,
            "object_fit": null,
            "grid_auto_columns": null,
            "margin": null,
            "display": null,
            "left": null
          }
        },
        "fa388d3467e6479394649727bdda5ced": {
          "model_module": "@jupyter-widgets/controls",
          "model_name": "FloatProgressModel",
          "state": {
            "_view_name": "ProgressView",
            "style": "IPY_MODEL_30b81dcb3e29487384e15bede163888e",
            "_dom_classes": [],
            "description": "Downloading: 100%",
            "_model_name": "FloatProgressModel",
            "bar_style": "success",
            "max": 548118077,
            "_view_module": "@jupyter-widgets/controls",
            "_model_module_version": "1.5.0",
            "value": 548118077,
            "_view_count": null,
            "_view_module_version": "1.5.0",
            "orientation": "horizontal",
            "min": 0,
            "description_tooltip": null,
            "_model_module": "@jupyter-widgets/controls",
            "layout": "IPY_MODEL_3b1e13f962144d57b5246f37b1e9fb1c"
          }
        },
        "4adac396ce804e18a04b2a29d2e20a24": {
          "model_module": "@jupyter-widgets/controls",
          "model_name": "HTMLModel",
          "state": {
            "_view_name": "HTMLView",
            "style": "IPY_MODEL_44849f66c6a9405f97c2d07e06408085",
            "_dom_classes": [],
            "description": "",
            "_model_name": "HTMLModel",
            "placeholder": "​",
            "_view_module": "@jupyter-widgets/controls",
            "_model_module_version": "1.5.0",
            "value": " 548M/548M [00:30&lt;00:00, 18.1MB/s]",
            "_view_count": null,
            "_view_module_version": "1.5.0",
            "description_tooltip": null,
            "_model_module": "@jupyter-widgets/controls",
            "layout": "IPY_MODEL_e3a191145129438db72246f9776b2cfc"
          }
        },
        "30b81dcb3e29487384e15bede163888e": {
          "model_module": "@jupyter-widgets/controls",
          "model_name": "ProgressStyleModel",
          "state": {
            "_view_name": "StyleView",
            "_model_name": "ProgressStyleModel",
            "description_width": "initial",
            "_view_module": "@jupyter-widgets/base",
            "_model_module_version": "1.5.0",
            "_view_count": null,
            "_view_module_version": "1.2.0",
            "bar_color": null,
            "_model_module": "@jupyter-widgets/controls"
          }
        },
        "3b1e13f962144d57b5246f37b1e9fb1c": {
          "model_module": "@jupyter-widgets/base",
          "model_name": "LayoutModel",
          "state": {
            "_view_name": "LayoutView",
            "grid_template_rows": null,
            "right": null,
            "justify_content": null,
            "_view_module": "@jupyter-widgets/base",
            "overflow": null,
            "_model_module_version": "1.2.0",
            "_view_count": null,
            "flex_flow": null,
            "width": null,
            "min_width": null,
            "border": null,
            "align_items": null,
            "bottom": null,
            "_model_module": "@jupyter-widgets/base",
            "top": null,
            "grid_column": null,
            "overflow_y": null,
            "overflow_x": null,
            "grid_auto_flow": null,
            "grid_area": null,
            "grid_template_columns": null,
            "flex": null,
            "_model_name": "LayoutModel",
            "justify_items": null,
            "grid_row": null,
            "max_height": null,
            "align_content": null,
            "visibility": null,
            "align_self": null,
            "height": null,
            "min_height": null,
            "padding": null,
            "grid_auto_rows": null,
            "grid_gap": null,
            "max_width": null,
            "order": null,
            "_view_module_version": "1.2.0",
            "grid_template_areas": null,
            "object_position": null,
            "object_fit": null,
            "grid_auto_columns": null,
            "margin": null,
            "display": null,
            "left": null
          }
        },
        "44849f66c6a9405f97c2d07e06408085": {
          "model_module": "@jupyter-widgets/controls",
          "model_name": "DescriptionStyleModel",
          "state": {
            "_view_name": "StyleView",
            "_model_name": "DescriptionStyleModel",
            "description_width": "",
            "_view_module": "@jupyter-widgets/base",
            "_model_module_version": "1.5.0",
            "_view_count": null,
            "_view_module_version": "1.2.0",
            "_model_module": "@jupyter-widgets/controls"
          }
        },
        "e3a191145129438db72246f9776b2cfc": {
          "model_module": "@jupyter-widgets/base",
          "model_name": "LayoutModel",
          "state": {
            "_view_name": "LayoutView",
            "grid_template_rows": null,
            "right": null,
            "justify_content": null,
            "_view_module": "@jupyter-widgets/base",
            "overflow": null,
            "_model_module_version": "1.2.0",
            "_view_count": null,
            "flex_flow": null,
            "width": null,
            "min_width": null,
            "border": null,
            "align_items": null,
            "bottom": null,
            "_model_module": "@jupyter-widgets/base",
            "top": null,
            "grid_column": null,
            "overflow_y": null,
            "overflow_x": null,
            "grid_auto_flow": null,
            "grid_area": null,
            "grid_template_columns": null,
            "flex": null,
            "_model_name": "LayoutModel",
            "justify_items": null,
            "grid_row": null,
            "max_height": null,
            "align_content": null,
            "visibility": null,
            "align_self": null,
            "height": null,
            "min_height": null,
            "padding": null,
            "grid_auto_rows": null,
            "grid_gap": null,
            "max_width": null,
            "order": null,
            "_view_module_version": "1.2.0",
            "grid_template_areas": null,
            "object_position": null,
            "object_fit": null,
            "grid_auto_columns": null,
            "margin": null,
            "display": null,
            "left": null
          }
        },
        "c697566eef4d41d38edaf2c3d6baf483": {
          "model_module": "@jupyter-widgets/controls",
          "model_name": "HBoxModel",
          "state": {
            "_view_name": "HBoxView",
            "_dom_classes": [],
            "_model_name": "HBoxModel",
            "_view_module": "@jupyter-widgets/controls",
            "_model_module_version": "1.5.0",
            "_view_count": null,
            "_view_module_version": "1.5.0",
            "box_style": "",
            "layout": "IPY_MODEL_7a00e8bd185742908eaa24c3468785ba",
            "_model_module": "@jupyter-widgets/controls",
            "children": [
              "IPY_MODEL_8ef4486f9a6c474a9a662dd767835a77",
              "IPY_MODEL_02b1d78b31644a07bdb2eb72a5d28997"
            ]
          }
        },
        "7a00e8bd185742908eaa24c3468785ba": {
          "model_module": "@jupyter-widgets/base",
          "model_name": "LayoutModel",
          "state": {
            "_view_name": "LayoutView",
            "grid_template_rows": null,
            "right": null,
            "justify_content": null,
            "_view_module": "@jupyter-widgets/base",
            "overflow": null,
            "_model_module_version": "1.2.0",
            "_view_count": null,
            "flex_flow": null,
            "width": null,
            "min_width": null,
            "border": null,
            "align_items": null,
            "bottom": null,
            "_model_module": "@jupyter-widgets/base",
            "top": null,
            "grid_column": null,
            "overflow_y": null,
            "overflow_x": null,
            "grid_auto_flow": null,
            "grid_area": null,
            "grid_template_columns": null,
            "flex": null,
            "_model_name": "LayoutModel",
            "justify_items": null,
            "grid_row": null,
            "max_height": null,
            "align_content": null,
            "visibility": null,
            "align_self": null,
            "height": null,
            "min_height": null,
            "padding": null,
            "grid_auto_rows": null,
            "grid_gap": null,
            "max_width": null,
            "order": null,
            "_view_module_version": "1.2.0",
            "grid_template_areas": null,
            "object_position": null,
            "object_fit": null,
            "grid_auto_columns": null,
            "margin": null,
            "display": null,
            "left": null
          }
        },
        "8ef4486f9a6c474a9a662dd767835a77": {
          "model_module": "@jupyter-widgets/controls",
          "model_name": "FloatProgressModel",
          "state": {
            "_view_name": "ProgressView",
            "style": "IPY_MODEL_ac447372360246288af48f4a4b8d4434",
            "_dom_classes": [],
            "description": "100%",
            "_model_name": "FloatProgressModel",
            "bar_style": "success",
            "max": 346663984,
            "_view_module": "@jupyter-widgets/controls",
            "_model_module_version": "1.5.0",
            "value": 346663984,
            "_view_count": null,
            "_view_module_version": "1.5.0",
            "orientation": "horizontal",
            "min": 0,
            "description_tooltip": null,
            "_model_module": "@jupyter-widgets/controls",
            "layout": "IPY_MODEL_8d3e79b0a91947458287016dd6efc895"
          }
        },
        "02b1d78b31644a07bdb2eb72a5d28997": {
          "model_module": "@jupyter-widgets/controls",
          "model_name": "HTMLModel",
          "state": {
            "_view_name": "HTMLView",
            "style": "IPY_MODEL_6885770e1f5d4bd39e8778d55efe2177",
            "_dom_classes": [],
            "description": "",
            "_model_name": "HTMLModel",
            "placeholder": "​",
            "_view_module": "@jupyter-widgets/controls",
            "_model_module_version": "1.5.0",
            "value": " 331M/331M [00:06&lt;00:00, 52.3MB/s]",
            "_view_count": null,
            "_view_module_version": "1.5.0",
            "description_tooltip": null,
            "_model_module": "@jupyter-widgets/controls",
            "layout": "IPY_MODEL_e72e7b7cfc334368aeaf58b2859df1fa"
          }
        },
        "ac447372360246288af48f4a4b8d4434": {
          "model_module": "@jupyter-widgets/controls",
          "model_name": "ProgressStyleModel",
          "state": {
            "_view_name": "StyleView",
            "_model_name": "ProgressStyleModel",
            "description_width": "initial",
            "_view_module": "@jupyter-widgets/base",
            "_model_module_version": "1.5.0",
            "_view_count": null,
            "_view_module_version": "1.2.0",
            "bar_color": null,
            "_model_module": "@jupyter-widgets/controls"
          }
        },
        "8d3e79b0a91947458287016dd6efc895": {
          "model_module": "@jupyter-widgets/base",
          "model_name": "LayoutModel",
          "state": {
            "_view_name": "LayoutView",
            "grid_template_rows": null,
            "right": null,
            "justify_content": null,
            "_view_module": "@jupyter-widgets/base",
            "overflow": null,
            "_model_module_version": "1.2.0",
            "_view_count": null,
            "flex_flow": null,
            "width": null,
            "min_width": null,
            "border": null,
            "align_items": null,
            "bottom": null,
            "_model_module": "@jupyter-widgets/base",
            "top": null,
            "grid_column": null,
            "overflow_y": null,
            "overflow_x": null,
            "grid_auto_flow": null,
            "grid_area": null,
            "grid_template_columns": null,
            "flex": null,
            "_model_name": "LayoutModel",
            "justify_items": null,
            "grid_row": null,
            "max_height": null,
            "align_content": null,
            "visibility": null,
            "align_self": null,
            "height": null,
            "min_height": null,
            "padding": null,
            "grid_auto_rows": null,
            "grid_gap": null,
            "max_width": null,
            "order": null,
            "_view_module_version": "1.2.0",
            "grid_template_areas": null,
            "object_position": null,
            "object_fit": null,
            "grid_auto_columns": null,
            "margin": null,
            "display": null,
            "left": null
          }
        },
        "6885770e1f5d4bd39e8778d55efe2177": {
          "model_module": "@jupyter-widgets/controls",
          "model_name": "DescriptionStyleModel",
          "state": {
            "_view_name": "StyleView",
            "_model_name": "DescriptionStyleModel",
            "description_width": "",
            "_view_module": "@jupyter-widgets/base",
            "_model_module_version": "1.5.0",
            "_view_count": null,
            "_view_module_version": "1.2.0",
            "_model_module": "@jupyter-widgets/controls"
          }
        },
        "e72e7b7cfc334368aeaf58b2859df1fa": {
          "model_module": "@jupyter-widgets/base",
          "model_name": "LayoutModel",
          "state": {
            "_view_name": "LayoutView",
            "grid_template_rows": null,
            "right": null,
            "justify_content": null,
            "_view_module": "@jupyter-widgets/base",
            "overflow": null,
            "_model_module_version": "1.2.0",
            "_view_count": null,
            "flex_flow": null,
            "width": null,
            "min_width": null,
            "border": null,
            "align_items": null,
            "bottom": null,
            "_model_module": "@jupyter-widgets/base",
            "top": null,
            "grid_column": null,
            "overflow_y": null,
            "overflow_x": null,
            "grid_auto_flow": null,
            "grid_area": null,
            "grid_template_columns": null,
            "flex": null,
            "_model_name": "LayoutModel",
            "justify_items": null,
            "grid_row": null,
            "max_height": null,
            "align_content": null,
            "visibility": null,
            "align_self": null,
            "height": null,
            "min_height": null,
            "padding": null,
            "grid_auto_rows": null,
            "grid_gap": null,
            "max_width": null,
            "order": null,
            "_view_module_version": "1.2.0",
            "grid_template_areas": null,
            "object_position": null,
            "object_fit": null,
            "grid_auto_columns": null,
            "margin": null,
            "display": null,
            "left": null
          }
        }
      }
    }
  },
  "cells": [
    {
      "cell_type": "markdown",
      "metadata": {
        "id": "view-in-github",
        "colab_type": "text"
      },
      "source": [
        "<a href=\"https://colab.research.google.com/github/TzurV/TestMe/blob/BERT-based-Decoder/Building_an_E2E_Speech_Recognition_model_using_BERT_4decoding.ipynb\" target=\"_parent\"><img src=\"https://colab.research.google.com/assets/colab-badge.svg\" alt=\"Open In Colab\"/></a>"
      ]
    },
    {
      "cell_type": "markdown",
      "metadata": {
        "id": "ibD6bsRPl8Qu"
      },
      "source": [
        "# Building an end-to-end Speech Recognition model in PyTorch - [AssemblyAI](https://www.assemblyai.com/)\n",
        "\n",
        "Adding BERT based Decoder.\n",
        "Using Private Google drive as Drive for storing.\n"
      ]
    },
    {
      "cell_type": "code",
      "metadata": {
        "id": "QauXvQpPQj_c",
        "outputId": "3384b1d7-305f-44c4-8353-95b6093e1839",
        "colab": {
          "base_uri": "https://localhost:8080/"
        }
      },
      "source": [
        "!python -V"
      ],
      "execution_count": null,
      "outputs": [
        {
          "output_type": "stream",
          "text": [
            "Python 3.6.9\n"
          ],
          "name": "stdout"
        }
      ]
    },
    {
      "cell_type": "markdown",
      "metadata": {
        "id": "NEjK9atBuZ4w"
      },
      "source": [
        "## Speller \n",
        "\n",
        "https://stackoverflow.com/questions/13928155/spell-checker-for-python\n"
      ]
    },
    {
      "cell_type": "code",
      "metadata": {
        "id": "elY3NhXAuUAJ",
        "outputId": "61fc4582-3200-482c-8baa-6c2308e6e854",
        "colab": {
          "base_uri": "https://localhost:8080/",
          "height": 185
        }
      },
      "source": [
        "!pip install autocorrect\n"
      ],
      "execution_count": 1,
      "outputs": [
        {
          "output_type": "stream",
          "text": [
            "Collecting autocorrect\n",
            "\u001b[?25l  Downloading https://files.pythonhosted.org/packages/92/e9/138a0f19b9c02f3e1795f24940c9e771ff262a4e6f9585f05e9da09db658/autocorrect-2.1.0.tar.gz (1.8MB)\n",
            "\u001b[K     |████████████████████████████████| 1.8MB 5.8MB/s \n",
            "\u001b[?25hBuilding wheels for collected packages: autocorrect\n",
            "  Building wheel for autocorrect (setup.py) ... \u001b[?25l\u001b[?25hdone\n",
            "  Created wheel for autocorrect: filename=autocorrect-2.1.0-cp36-none-any.whl size=1811979 sha256=cef888c1e58791dadfa1eaa540eb2976839012fb2b1d4bc9458cfb000e266500\n",
            "  Stored in directory: /root/.cache/pip/wheels/d1/33/69/a42db65d595bb685429c788ab45e11aa2a4b6549298ee38e02\n",
            "Successfully built autocorrect\n",
            "Installing collected packages: autocorrect\n",
            "Successfully installed autocorrect-2.1.0\n"
          ],
          "name": "stdout"
        }
      ]
    },
    {
      "cell_type": "code",
      "metadata": {
        "id": "DCysVLaEx8Pq",
        "outputId": "a7e4472f-3670-4a56-b369-d3dda08a5b07",
        "colab": {
          "base_uri": "https://localhost:8080/",
          "height": 154
        }
      },
      "source": [
        "from autocorrect import Speller\n",
        "\n",
        "spell = Speller(lang='en')\n",
        "\n",
        "print(spell('caaaar'))\n",
        "print(spell('mussage'))\n",
        "print(spell('survice'))\n",
        "print(spell('hte'))\n",
        "\n",
        "str1 = \"i wil make no onjest yus of what i know he replid with frmees\"\n",
        "print([(w, spell(w)) for w in str1.split()])\n",
        "\n",
        "print(dir(Speller))\n",
        "print(spell.autocorrect_sentence(str1))\n"
      ],
      "execution_count": 2,
      "outputs": [
        {
          "output_type": "stream",
          "text": [
            "caesar\n",
            "message\n",
            "service\n",
            "the\n",
            "[('i', 'i'), ('wil', 'will'), ('make', 'make'), ('no', 'no'), ('onjest', 'object'), ('yus', 'yus'), ('of', 'of'), ('what', 'what'), ('i', 'i'), ('know', 'know'), ('he', 'he'), ('replid', 'replied'), ('with', 'with'), ('frmees', 'frees')]\n",
            "['__call__', '__class__', '__delattr__', '__dict__', '__dir__', '__doc__', '__eq__', '__format__', '__ge__', '__getattribute__', '__gt__', '__hash__', '__init__', '__init_subclass__', '__le__', '__lt__', '__module__', '__ne__', '__new__', '__reduce__', '__reduce_ex__', '__repr__', '__setattr__', '__sizeof__', '__str__', '__subclasshook__', '__weakref__', 'autocorrect_sentence', 'autocorrect_word', 'existing']\n",
            "i will make no object yus of what i know he replied with frees\n"
          ],
          "name": "stdout"
        }
      ]
    },
    {
      "cell_type": "code",
      "metadata": {
        "id": "i569QjB52AUF",
        "outputId": "cf7f79bd-b2e9-41e4-a050-f947154bdca3",
        "colab": {
          "base_uri": "https://localhost:8080/",
          "height": 34
        }
      },
      "source": [
        "print(spell(\"Tzuaaar is here\"))"
      ],
      "execution_count": 3,
      "outputs": [
        {
          "output_type": "stream",
          "text": [
            "Tzuaaar is here\n"
          ],
          "name": "stdout"
        }
      ]
    },
    {
      "cell_type": "code",
      "metadata": {
        "id": "EmQCJFhIMHPr",
        "outputId": "439aefcd-4c3a-4b00-e0ce-5afba715cf41",
        "colab": {
          "base_uri": "https://localhost:8080/",
          "height": 489
        }
      },
      "source": [
        "# use inline debuger\n",
        "from IPython.core.debugger import set_trace\n",
        "def bad_function(var):\n",
        "    set_trace()\n",
        "    return var\n",
        "bad_function(\"Mike\")"
      ],
      "execution_count": null,
      "outputs": [
        {
          "output_type": "stream",
          "text": [
            "> \u001b[0;32m<ipython-input-33-17a0bbede356>\u001b[0m(5)\u001b[0;36mbad_function\u001b[0;34m()\u001b[0m\n",
            "\u001b[0;32m      2 \u001b[0;31m\u001b[0;32mfrom\u001b[0m \u001b[0mIPython\u001b[0m\u001b[0;34m.\u001b[0m\u001b[0mcore\u001b[0m\u001b[0;34m.\u001b[0m\u001b[0mdebugger\u001b[0m \u001b[0;32mimport\u001b[0m \u001b[0mset_trace\u001b[0m\u001b[0;34m\u001b[0m\u001b[0;34m\u001b[0m\u001b[0m\n",
            "\u001b[0m\u001b[0;32m      3 \u001b[0;31m\u001b[0;32mdef\u001b[0m \u001b[0mbad_function\u001b[0m\u001b[0;34m(\u001b[0m\u001b[0mvar\u001b[0m\u001b[0;34m)\u001b[0m\u001b[0;34m:\u001b[0m\u001b[0;34m\u001b[0m\u001b[0;34m\u001b[0m\u001b[0m\n",
            "\u001b[0m\u001b[0;32m      4 \u001b[0;31m    \u001b[0mset_trace\u001b[0m\u001b[0;34m(\u001b[0m\u001b[0;34m)\u001b[0m\u001b[0;34m\u001b[0m\u001b[0;34m\u001b[0m\u001b[0m\n",
            "\u001b[0m\u001b[0;32m----> 5 \u001b[0;31m    \u001b[0;32mreturn\u001b[0m \u001b[0mvar\u001b[0m\u001b[0;34m\u001b[0m\u001b[0;34m\u001b[0m\u001b[0m\n",
            "\u001b[0m\u001b[0;32m      6 \u001b[0;31m\u001b[0mbad_function\u001b[0m\u001b[0;34m(\u001b[0m\u001b[0;34m\"Mike\"\u001b[0m\u001b[0;34m)\u001b[0m\u001b[0;34m\u001b[0m\u001b[0;34m\u001b[0m\u001b[0m\n",
            "\u001b[0m\n",
            "ipdb> n\n",
            "--Return--\n",
            "'Mike'\n",
            "> \u001b[0;32m<ipython-input-33-17a0bbede356>\u001b[0m(5)\u001b[0;36mbad_function\u001b[0;34m()\u001b[0m\n",
            "\u001b[0;32m      2 \u001b[0;31m\u001b[0;32mfrom\u001b[0m \u001b[0mIPython\u001b[0m\u001b[0;34m.\u001b[0m\u001b[0mcore\u001b[0m\u001b[0;34m.\u001b[0m\u001b[0mdebugger\u001b[0m \u001b[0;32mimport\u001b[0m \u001b[0mset_trace\u001b[0m\u001b[0;34m\u001b[0m\u001b[0;34m\u001b[0m\u001b[0m\n",
            "\u001b[0m\u001b[0;32m      3 \u001b[0;31m\u001b[0;32mdef\u001b[0m \u001b[0mbad_function\u001b[0m\u001b[0;34m(\u001b[0m\u001b[0mvar\u001b[0m\u001b[0;34m)\u001b[0m\u001b[0;34m:\u001b[0m\u001b[0;34m\u001b[0m\u001b[0;34m\u001b[0m\u001b[0m\n",
            "\u001b[0m\u001b[0;32m      4 \u001b[0;31m    \u001b[0mset_trace\u001b[0m\u001b[0;34m(\u001b[0m\u001b[0;34m)\u001b[0m\u001b[0;34m\u001b[0m\u001b[0;34m\u001b[0m\u001b[0m\n",
            "\u001b[0m\u001b[0;32m----> 5 \u001b[0;31m    \u001b[0;32mreturn\u001b[0m \u001b[0mvar\u001b[0m\u001b[0;34m\u001b[0m\u001b[0;34m\u001b[0m\u001b[0m\n",
            "\u001b[0m\u001b[0;32m      6 \u001b[0;31m\u001b[0mbad_function\u001b[0m\u001b[0;34m(\u001b[0m\u001b[0;34m\"Mike\"\u001b[0m\u001b[0;34m)\u001b[0m\u001b[0;34m\u001b[0m\u001b[0;34m\u001b[0m\u001b[0m\n",
            "\u001b[0m\n",
            "ipdb> r\n"
          ],
          "name": "stdout"
        },
        {
          "output_type": "execute_result",
          "data": {
            "application/vnd.google.colaboratory.intrinsic+json": {
              "type": "string"
            },
            "text/plain": [
              "'Mike'"
            ]
          },
          "metadata": {
            "tags": []
          },
          "execution_count": 33
        },
        {
          "output_type": "stream",
          "text": [
            "--Return--\n",
            "None\n",
            "> \u001b[0;32m<ipython-input-33-17a0bbede356>\u001b[0m(6)\u001b[0;36m<module>\u001b[0;34m()\u001b[0m\n",
            "\u001b[0;32m      2 \u001b[0;31m\u001b[0;32mfrom\u001b[0m \u001b[0mIPython\u001b[0m\u001b[0;34m.\u001b[0m\u001b[0mcore\u001b[0m\u001b[0;34m.\u001b[0m\u001b[0mdebugger\u001b[0m \u001b[0;32mimport\u001b[0m \u001b[0mset_trace\u001b[0m\u001b[0;34m\u001b[0m\u001b[0;34m\u001b[0m\u001b[0m\n",
            "\u001b[0m\u001b[0;32m      3 \u001b[0;31m\u001b[0;32mdef\u001b[0m \u001b[0mbad_function\u001b[0m\u001b[0;34m(\u001b[0m\u001b[0mvar\u001b[0m\u001b[0;34m)\u001b[0m\u001b[0;34m:\u001b[0m\u001b[0;34m\u001b[0m\u001b[0;34m\u001b[0m\u001b[0m\n",
            "\u001b[0m\u001b[0;32m      4 \u001b[0;31m    \u001b[0mset_trace\u001b[0m\u001b[0;34m(\u001b[0m\u001b[0;34m)\u001b[0m\u001b[0;34m\u001b[0m\u001b[0;34m\u001b[0m\u001b[0m\n",
            "\u001b[0m\u001b[0;32m      5 \u001b[0;31m    \u001b[0;32mreturn\u001b[0m \u001b[0mvar\u001b[0m\u001b[0;34m\u001b[0m\u001b[0;34m\u001b[0m\u001b[0m\n",
            "\u001b[0m\u001b[0;32m----> 6 \u001b[0;31m\u001b[0mbad_function\u001b[0m\u001b[0;34m(\u001b[0m\u001b[0;34m\"Mike\"\u001b[0m\u001b[0;34m)\u001b[0m\u001b[0;34m\u001b[0m\u001b[0;34m\u001b[0m\u001b[0m\n",
            "\u001b[0m\n",
            "ipdb> c\n"
          ],
          "name": "stdout"
        }
      ]
    },
    {
      "cell_type": "markdown",
      "metadata": {
        "id": "DVfrfGVmwR20"
      },
      "source": [
        "## Mount Google Drive"
      ]
    },
    {
      "cell_type": "code",
      "metadata": {
        "id": "XhWH6jX-we8f",
        "outputId": "63198de2-b1dc-498b-8f12-2d5f7f0e9cb8",
        "colab": {
          "base_uri": "https://localhost:8080/",
          "height": 50
        }
      },
      "source": [
        "# mount Google Drive\n",
        "from datetime import datetime\n",
        "from google.colab import drive\n",
        "from os import listdir\n",
        "from os.path import isfile, join\n",
        "import re \n",
        "\n",
        "# mounting is required once every time you start this notebook  \n",
        "drive.mount('/content/gdrive')\n",
        "filesRootDirectory = \"/content/gdrive/My Drive/Colab_files/CTCmodels/\"\n",
        "\n",
        "# Set to True if you want to check that you have access to google drive\n",
        "if True:\n",
        "    # output file \n",
        "    # on PC it is located in <Google Drive directory>\\Colab_files\\CTCmodels\n",
        "    testOutputFileName = filesRootDirectory + \"testOutputFile.txt\"\n",
        "    testOutputFile = open(testOutputFileName,\"w\") \n",
        "    FORMAT = '%Y%m%d%H%M%S'\n",
        "    TodayDate = datetime.now().strftime(FORMAT)\n",
        "    print(f\" look for {TodayDate} in output file {testOutputFileName}.\")\n",
        "    testOutputFile.write(TodayDate+'\\n')\n",
        "    testOutputFile.close()\n"
      ],
      "execution_count": 4,
      "outputs": [
        {
          "output_type": "stream",
          "text": [
            "Mounted at /content/gdrive\n",
            " look for 20201008120504 in output file /content/gdrive/My Drive/Colab_files/CTCmodels/testOutputFile.txt.\n"
          ],
          "name": "stdout"
        }
      ]
    },
    {
      "cell_type": "markdown",
      "metadata": {
        "id": "WzAdqpdtVRl4"
      },
      "source": [
        "## Install Transformenrs (BERT) \n",
        "Run basic examples as provided in Transformers (https://huggingface.co/transformers/index.html)\n",
        "\n",
        "* Masked Language Modeling https://huggingface.co/transformers/task_summary.html#masked-language-modeling\n",
        "\n",
        "* Causal Language Modeling\n",
        "https://huggingface.co/transformers/task_summary.html#causal-language-modeling\n"
      ]
    },
    {
      "cell_type": "code",
      "metadata": {
        "id": "86RZb0VXI5LE",
        "outputId": "38e59607-7607-4d08-d195-40e5d72f9f56",
        "colab": {
          "base_uri": "https://localhost:8080/"
        }
      },
      "source": [
        "!pip install transformers"
      ],
      "execution_count": null,
      "outputs": [
        {
          "output_type": "stream",
          "text": [
            "Collecting transformers\n",
            "\u001b[?25l  Downloading https://files.pythonhosted.org/packages/19/22/aff234f4a841f8999e68a7a94bdd4b60b4cebcfeca5d67d61cd08c9179de/transformers-3.3.1-py3-none-any.whl (1.1MB)\n",
            "\r\u001b[K     |▎                               | 10kB 21.5MB/s eta 0:00:01\r\u001b[K     |▋                               | 20kB 1.9MB/s eta 0:00:01\r\u001b[K     |█                               | 30kB 2.5MB/s eta 0:00:01\r\u001b[K     |█▎                              | 40kB 1.9MB/s eta 0:00:01\r\u001b[K     |█▌                              | 51kB 2.3MB/s eta 0:00:01\r\u001b[K     |█▉                              | 61kB 2.7MB/s eta 0:00:01\r\u001b[K     |██▏                             | 71kB 2.9MB/s eta 0:00:01\r\u001b[K     |██▌                             | 81kB 3.1MB/s eta 0:00:01\r\u001b[K     |██▉                             | 92kB 3.4MB/s eta 0:00:01\r\u001b[K     |███                             | 102kB 3.2MB/s eta 0:00:01\r\u001b[K     |███▍                            | 112kB 3.2MB/s eta 0:00:01\r\u001b[K     |███▊                            | 122kB 3.2MB/s eta 0:00:01\r\u001b[K     |████                            | 133kB 3.2MB/s eta 0:00:01\r\u001b[K     |████▎                           | 143kB 3.2MB/s eta 0:00:01\r\u001b[K     |████▋                           | 153kB 3.2MB/s eta 0:00:01\r\u001b[K     |█████                           | 163kB 3.2MB/s eta 0:00:01\r\u001b[K     |█████▎                          | 174kB 3.2MB/s eta 0:00:01\r\u001b[K     |█████▋                          | 184kB 3.2MB/s eta 0:00:01\r\u001b[K     |█████▉                          | 194kB 3.2MB/s eta 0:00:01\r\u001b[K     |██████▏                         | 204kB 3.2MB/s eta 0:00:01\r\u001b[K     |██████▌                         | 215kB 3.2MB/s eta 0:00:01\r\u001b[K     |██████▉                         | 225kB 3.2MB/s eta 0:00:01\r\u001b[K     |███████                         | 235kB 3.2MB/s eta 0:00:01\r\u001b[K     |███████▍                        | 245kB 3.2MB/s eta 0:00:01\r\u001b[K     |███████▊                        | 256kB 3.2MB/s eta 0:00:01\r\u001b[K     |████████                        | 266kB 3.2MB/s eta 0:00:01\r\u001b[K     |████████▍                       | 276kB 3.2MB/s eta 0:00:01\r\u001b[K     |████████▋                       | 286kB 3.2MB/s eta 0:00:01\r\u001b[K     |█████████                       | 296kB 3.2MB/s eta 0:00:01\r\u001b[K     |█████████▎                      | 307kB 3.2MB/s eta 0:00:01\r\u001b[K     |█████████▋                      | 317kB 3.2MB/s eta 0:00:01\r\u001b[K     |█████████▉                      | 327kB 3.2MB/s eta 0:00:01\r\u001b[K     |██████████▏                     | 337kB 3.2MB/s eta 0:00:01\r\u001b[K     |██████████▌                     | 348kB 3.2MB/s eta 0:00:01\r\u001b[K     |██████████▉                     | 358kB 3.2MB/s eta 0:00:01\r\u001b[K     |███████████▏                    | 368kB 3.2MB/s eta 0:00:01\r\u001b[K     |███████████▍                    | 378kB 3.2MB/s eta 0:00:01\r\u001b[K     |███████████▊                    | 389kB 3.2MB/s eta 0:00:01\r\u001b[K     |████████████                    | 399kB 3.2MB/s eta 0:00:01\r\u001b[K     |████████████▍                   | 409kB 3.2MB/s eta 0:00:01\r\u001b[K     |████████████▋                   | 419kB 3.2MB/s eta 0:00:01\r\u001b[K     |█████████████                   | 430kB 3.2MB/s eta 0:00:01\r\u001b[K     |█████████████▎                  | 440kB 3.2MB/s eta 0:00:01\r\u001b[K     |█████████████▋                  | 450kB 3.2MB/s eta 0:00:01\r\u001b[K     |██████████████                  | 460kB 3.2MB/s eta 0:00:01\r\u001b[K     |██████████████▏                 | 471kB 3.2MB/s eta 0:00:01\r\u001b[K     |██████████████▌                 | 481kB 3.2MB/s eta 0:00:01\r\u001b[K     |██████████████▉                 | 491kB 3.2MB/s eta 0:00:01\r\u001b[K     |███████████████▏                | 501kB 3.2MB/s eta 0:00:01\r\u001b[K     |███████████████▍                | 512kB 3.2MB/s eta 0:00:01\r\u001b[K     |███████████████▊                | 522kB 3.2MB/s eta 0:00:01\r\u001b[K     |████████████████                | 532kB 3.2MB/s eta 0:00:01\r\u001b[K     |████████████████▍               | 542kB 3.2MB/s eta 0:00:01\r\u001b[K     |████████████████▊               | 552kB 3.2MB/s eta 0:00:01\r\u001b[K     |█████████████████               | 563kB 3.2MB/s eta 0:00:01\r\u001b[K     |█████████████████▎              | 573kB 3.2MB/s eta 0:00:01\r\u001b[K     |█████████████████▋              | 583kB 3.2MB/s eta 0:00:01\r\u001b[K     |██████████████████              | 593kB 3.2MB/s eta 0:00:01\r\u001b[K     |██████████████████▏             | 604kB 3.2MB/s eta 0:00:01\r\u001b[K     |██████████████████▌             | 614kB 3.2MB/s eta 0:00:01\r\u001b[K     |██████████████████▉             | 624kB 3.2MB/s eta 0:00:01\r\u001b[K     |███████████████████▏            | 634kB 3.2MB/s eta 0:00:01\r\u001b[K     |███████████████████▌            | 645kB 3.2MB/s eta 0:00:01\r\u001b[K     |███████████████████▊            | 655kB 3.2MB/s eta 0:00:01\r\u001b[K     |████████████████████            | 665kB 3.2MB/s eta 0:00:01\r\u001b[K     |████████████████████▍           | 675kB 3.2MB/s eta 0:00:01\r\u001b[K     |████████████████████▊           | 686kB 3.2MB/s eta 0:00:01\r\u001b[K     |█████████████████████           | 696kB 3.2MB/s eta 0:00:01\r\u001b[K     |█████████████████████▎          | 706kB 3.2MB/s eta 0:00:01\r\u001b[K     |█████████████████████▋          | 716kB 3.2MB/s eta 0:00:01\r\u001b[K     |██████████████████████          | 727kB 3.2MB/s eta 0:00:01\r\u001b[K     |██████████████████████▎         | 737kB 3.2MB/s eta 0:00:01\r\u001b[K     |██████████████████████▌         | 747kB 3.2MB/s eta 0:00:01\r\u001b[K     |██████████████████████▉         | 757kB 3.2MB/s eta 0:00:01\r\u001b[K     |███████████████████████▏        | 768kB 3.2MB/s eta 0:00:01\r\u001b[K     |███████████████████████▌        | 778kB 3.2MB/s eta 0:00:01\r\u001b[K     |███████████████████████▊        | 788kB 3.2MB/s eta 0:00:01\r\u001b[K     |████████████████████████        | 798kB 3.2MB/s eta 0:00:01\r\u001b[K     |████████████████████████▍       | 808kB 3.2MB/s eta 0:00:01\r\u001b[K     |████████████████████████▊       | 819kB 3.2MB/s eta 0:00:01\r\u001b[K     |█████████████████████████       | 829kB 3.2MB/s eta 0:00:01\r\u001b[K     |█████████████████████████▎      | 839kB 3.2MB/s eta 0:00:01\r\u001b[K     |█████████████████████████▋      | 849kB 3.2MB/s eta 0:00:01\r\u001b[K     |██████████████████████████      | 860kB 3.2MB/s eta 0:00:01\r\u001b[K     |██████████████████████████▎     | 870kB 3.2MB/s eta 0:00:01\r\u001b[K     |██████████████████████████▌     | 880kB 3.2MB/s eta 0:00:01\r\u001b[K     |██████████████████████████▉     | 890kB 3.2MB/s eta 0:00:01\r\u001b[K     |███████████████████████████▏    | 901kB 3.2MB/s eta 0:00:01\r\u001b[K     |███████████████████████████▌    | 911kB 3.2MB/s eta 0:00:01\r\u001b[K     |███████████████████████████▉    | 921kB 3.2MB/s eta 0:00:01\r\u001b[K     |████████████████████████████    | 931kB 3.2MB/s eta 0:00:01\r\u001b[K     |████████████████████████████▍   | 942kB 3.2MB/s eta 0:00:01\r\u001b[K     |████████████████████████████▊   | 952kB 3.2MB/s eta 0:00:01\r\u001b[K     |█████████████████████████████   | 962kB 3.2MB/s eta 0:00:01\r\u001b[K     |█████████████████████████████▎  | 972kB 3.2MB/s eta 0:00:01\r\u001b[K     |█████████████████████████████▋  | 983kB 3.2MB/s eta 0:00:01\r\u001b[K     |██████████████████████████████  | 993kB 3.2MB/s eta 0:00:01\r\u001b[K     |██████████████████████████████▎ | 1.0MB 3.2MB/s eta 0:00:01\r\u001b[K     |██████████████████████████████▋ | 1.0MB 3.2MB/s eta 0:00:01\r\u001b[K     |██████████████████████████████▉ | 1.0MB 3.2MB/s eta 0:00:01\r\u001b[K     |███████████████████████████████▏| 1.0MB 3.2MB/s eta 0:00:01\r\u001b[K     |███████████████████████████████▌| 1.0MB 3.2MB/s eta 0:00:01\r\u001b[K     |███████████████████████████████▉| 1.1MB 3.2MB/s eta 0:00:01\r\u001b[K     |████████████████████████████████| 1.1MB 3.2MB/s \n",
            "\u001b[?25hRequirement already satisfied: numpy in /usr/local/lib/python3.6/dist-packages (from transformers) (1.18.5)\n",
            "Requirement already satisfied: requests in /usr/local/lib/python3.6/dist-packages (from transformers) (2.23.0)\n",
            "Collecting tokenizers==0.8.1.rc2\n",
            "\u001b[?25l  Downloading https://files.pythonhosted.org/packages/80/83/8b9fccb9e48eeb575ee19179e2bdde0ee9a1904f97de5f02d19016b8804f/tokenizers-0.8.1rc2-cp36-cp36m-manylinux1_x86_64.whl (3.0MB)\n",
            "\u001b[K     |████████████████████████████████| 3.0MB 16.8MB/s \n",
            "\u001b[?25hRequirement already satisfied: packaging in /usr/local/lib/python3.6/dist-packages (from transformers) (20.4)\n",
            "Requirement already satisfied: tqdm>=4.27 in /usr/local/lib/python3.6/dist-packages (from transformers) (4.41.1)\n",
            "Requirement already satisfied: regex!=2019.12.17 in /usr/local/lib/python3.6/dist-packages (from transformers) (2019.12.20)\n",
            "Collecting sentencepiece!=0.1.92\n",
            "\u001b[?25l  Downloading https://files.pythonhosted.org/packages/d4/a4/d0a884c4300004a78cca907a6ff9a5e9fe4f090f5d95ab341c53d28cbc58/sentencepiece-0.1.91-cp36-cp36m-manylinux1_x86_64.whl (1.1MB)\n",
            "\u001b[K     |████████████████████████████████| 1.1MB 41.6MB/s \n",
            "\u001b[?25hRequirement already satisfied: dataclasses; python_version < \"3.7\" in /usr/local/lib/python3.6/dist-packages (from transformers) (0.7)\n",
            "Requirement already satisfied: filelock in /usr/local/lib/python3.6/dist-packages (from transformers) (3.0.12)\n",
            "Collecting sacremoses\n",
            "\u001b[?25l  Downloading https://files.pythonhosted.org/packages/7d/34/09d19aff26edcc8eb2a01bed8e98f13a1537005d31e95233fd48216eed10/sacremoses-0.0.43.tar.gz (883kB)\n",
            "\u001b[K     |████████████████████████████████| 890kB 42.3MB/s \n",
            "\u001b[?25hRequirement already satisfied: certifi>=2017.4.17 in /usr/local/lib/python3.6/dist-packages (from requests->transformers) (2020.6.20)\n",
            "Requirement already satisfied: idna<3,>=2.5 in /usr/local/lib/python3.6/dist-packages (from requests->transformers) (2.10)\n",
            "Requirement already satisfied: urllib3!=1.25.0,!=1.25.1,<1.26,>=1.21.1 in /usr/local/lib/python3.6/dist-packages (from requests->transformers) (1.24.3)\n",
            "Requirement already satisfied: chardet<4,>=3.0.2 in /usr/local/lib/python3.6/dist-packages (from requests->transformers) (3.0.4)\n",
            "Requirement already satisfied: pyparsing>=2.0.2 in /usr/local/lib/python3.6/dist-packages (from packaging->transformers) (2.4.7)\n",
            "Requirement already satisfied: six in /usr/local/lib/python3.6/dist-packages (from packaging->transformers) (1.15.0)\n",
            "Requirement already satisfied: click in /usr/local/lib/python3.6/dist-packages (from sacremoses->transformers) (7.1.2)\n",
            "Requirement already satisfied: joblib in /usr/local/lib/python3.6/dist-packages (from sacremoses->transformers) (0.16.0)\n",
            "Building wheels for collected packages: sacremoses\n",
            "  Building wheel for sacremoses (setup.py) ... \u001b[?25l\u001b[?25hdone\n",
            "  Created wheel for sacremoses: filename=sacremoses-0.0.43-cp36-none-any.whl size=893257 sha256=20833a0512b71b57d93f01f2464d2726e7627e7941bd460aab8c44f55ccbd6e1\n",
            "  Stored in directory: /root/.cache/pip/wheels/29/3c/fd/7ce5c3f0666dab31a50123635e6fb5e19ceb42ce38d4e58f45\n",
            "Successfully built sacremoses\n",
            "Installing collected packages: tokenizers, sentencepiece, sacremoses, transformers\n",
            "Successfully installed sacremoses-0.0.43 sentencepiece-0.1.91 tokenizers-0.8.1rc2 transformers-3.3.1\n"
          ],
          "name": "stdout"
        }
      ]
    },
    {
      "cell_type": "code",
      "metadata": {
        "id": "HOkvhqQcIr07",
        "outputId": "d7fffb8a-1258-421f-ec0d-220d31e1fabe",
        "colab": {
          "base_uri": "https://localhost:8080/",
          "height": 217,
          "referenced_widgets": [
            "523bc3432443426aaed4802bb9341582",
            "4e4ee5b07f414636933dc8c824a63cbb",
            "325613e5e5fd4001aecde3ab67103b57",
            "2548010c588541ababb19199b9f6b67a",
            "7d61a765f593478482e3c9601ab6103e",
            "acd1df917b524351976880cb4cc60ca0",
            "8c472618f7a94728a9cc68a77b62f848",
            "8905a8143b504fd08928dad8e5014e78",
            "7555328ceb054c5e8d7e8a0ee11f3977",
            "85f20ae494aa40478ef6834d7407c240",
            "3e5f0d32c97c4a6a8cba590206121afe",
            "4c67776298f349f7beaf0e72df602f4b",
            "f540961a85cb415aa2e2b74d66c8d8e8",
            "56a121d57f3048ab945fec85e6646c05",
            "7321022d55e945f58628293840994ce0",
            "65e019a34ada4a67bb577f003bc6724b",
            "f5d9fdc32c8f4a35a50d17e2850efc8d",
            "11e3ca8b0d9a4fc3b2feef791baece02",
            "e3891a08ce634e8c9867d7d2d4ac33a0",
            "7134fdd8c9d743c0a7640e62038e0a36",
            "1ce94a0def0f4962aec80761efb2dcbc",
            "d5f20bc3dbc743af907c8d9e48f6dd21",
            "f8b1df0162924356888c904d144c21db",
            "870d394005e34edfbf686681149a677b"
          ]
        }
      },
      "source": [
        "from transformers import AutoModelWithLMHead, AutoTokenizer\n",
        "import torch\n",
        "tokenizer = AutoTokenizer.from_pretrained(\"distilbert-base-cased\")\n",
        "model = AutoModelWithLMHead.from_pretrained(\"distilbert-base-cased\")\n",
        "sequence = f\"Distilled models are smaller than the models they mimic. Using them instead of the large versions would help {tokenizer.mask_token} our carbon footprint.\"\n",
        "input = tokenizer.encode(sequence, return_tensors=\"pt\")\n",
        "mask_token_index = torch.where(input == tokenizer.mask_token_id)[1]\n",
        "token_logits = model(input, return_dict=True).logits \n",
        "mask_token_logits = token_logits[0, mask_token_index, :]\n",
        "top_5_tokens = torch.topk(mask_token_logits, 5, dim=1).indices[0].tolist()"
      ],
      "execution_count": null,
      "outputs": [
        {
          "output_type": "display_data",
          "data": {
            "application/vnd.jupyter.widget-view+json": {
              "model_id": "523bc3432443426aaed4802bb9341582",
              "version_minor": 0,
              "version_major": 2
            },
            "text/plain": [
              "HBox(children=(FloatProgress(value=0.0, description='Downloading', max=411.0, style=ProgressStyle(description_…"
            ]
          },
          "metadata": {
            "tags": []
          }
        },
        {
          "output_type": "stream",
          "text": [
            "\n"
          ],
          "name": "stdout"
        },
        {
          "output_type": "display_data",
          "data": {
            "application/vnd.jupyter.widget-view+json": {
              "model_id": "7555328ceb054c5e8d7e8a0ee11f3977",
              "version_minor": 0,
              "version_major": 2
            },
            "text/plain": [
              "HBox(children=(FloatProgress(value=0.0, description='Downloading', max=213450.0, style=ProgressStyle(descripti…"
            ]
          },
          "metadata": {
            "tags": []
          }
        },
        {
          "output_type": "stream",
          "text": [
            "\n"
          ],
          "name": "stdout"
        },
        {
          "output_type": "stream",
          "text": [
            "/usr/local/lib/python3.6/dist-packages/transformers/modeling_auto.py:785: FutureWarning: The class `AutoModelWithLMHead` is deprecated and will be removed in a future version. Please use `AutoModelForCausalLM` for causal language models, `AutoModelForMaskedLM` for masked language models and `AutoModelForSeq2SeqLM` for encoder-decoder models.\n",
            "  FutureWarning,\n"
          ],
          "name": "stderr"
        },
        {
          "output_type": "display_data",
          "data": {
            "application/vnd.jupyter.widget-view+json": {
              "model_id": "f5d9fdc32c8f4a35a50d17e2850efc8d",
              "version_minor": 0,
              "version_major": 2
            },
            "text/plain": [
              "HBox(children=(FloatProgress(value=0.0, description='Downloading', max=263273408.0, style=ProgressStyle(descri…"
            ]
          },
          "metadata": {
            "tags": []
          }
        },
        {
          "output_type": "stream",
          "text": [
            "\n"
          ],
          "name": "stdout"
        }
      ]
    },
    {
      "cell_type": "code",
      "metadata": {
        "id": "GPOlyBpHT8V-",
        "outputId": "a86f5f2a-9d5e-488e-92da-19e062f5fe68",
        "colab": {
          "base_uri": "https://localhost:8080/"
        }
      },
      "source": [
        "for token in top_5_tokens:\n",
        "    print(sequence.replace(tokenizer.mask_token, tokenizer.decode([token])))"
      ],
      "execution_count": null,
      "outputs": [
        {
          "output_type": "stream",
          "text": [
            "Distilled models are smaller than the models they mimic. Using them instead of the large versions would help reduce our carbon footprint.\n",
            "Distilled models are smaller than the models they mimic. Using them instead of the large versions would help increase our carbon footprint.\n",
            "Distilled models are smaller than the models they mimic. Using them instead of the large versions would help decrease our carbon footprint.\n",
            "Distilled models are smaller than the models they mimic. Using them instead of the large versions would help offset our carbon footprint.\n",
            "Distilled models are smaller than the models they mimic. Using them instead of the large versions would help improve our carbon footprint.\n"
          ],
          "name": "stdout"
        }
      ]
    },
    {
      "cell_type": "code",
      "metadata": {
        "id": "qYT2a-WUNDi4",
        "outputId": "2ad53659-0bd8-49c7-d3fa-52a06a33118e",
        "colab": {
          "base_uri": "https://localhost:8080/"
        }
      },
      "source": [
        "token_logits = model(input)\n",
        "print(type(token_logits))\n",
        "print(token_logits[0].size())\n"
      ],
      "execution_count": null,
      "outputs": [
        {
          "output_type": "stream",
          "text": [
            "<class 'tuple'>\n",
            "torch.Size([1, 30, 28996])\n"
          ],
          "name": "stdout"
        }
      ]
    },
    {
      "cell_type": "code",
      "metadata": {
        "id": "8hY8k2IQUsvD",
        "outputId": "13130175-673e-4a0f-b076-b04ba0cc2b6e",
        "colab": {
          "base_uri": "https://localhost:8080/",
          "height": 266,
          "referenced_widgets": [
            "7d94c42902d3449bbe433be697fb1765",
            "d7eda1dea8854fe192d865301d6bb628",
            "4e51ddeea2d54243b996e76ea1c7355d",
            "8b52d318358a417dabc7543aa921a637",
            "09386b5e29064229b270a801b186335c",
            "88f774bdf0f540e492fa348a8fa12e73",
            "5d3c0fb19a6d41bdbf03f5df3e18b9e0",
            "f8a4a363a9304c90849df4b5e10ac9fa",
            "510c464ce075411696b951d366573e2b",
            "2c1758b6639949fc9542b3c65a00aae1",
            "c308cda253474a77b521638d410406b6",
            "d2f42e595ef74aebaeebbf5e16f19495",
            "f25a073266d84345a37ebdbc3fc4733e",
            "a1c701c0937f4fa58daa05616d500095",
            "f8d59938f0574c3290b64e0188865c60",
            "72802764d72641c2b152c2898bac2906",
            "2d75023aaf67435ca7dc0f19f5a89741",
            "8e7c3a72a30d47fba67c7b013fb931e4",
            "1c68eeb843ce4fbe9c83070721c153b2",
            "6408feef835446609fbd83a13b500b62",
            "ce49aaf582b34efcac45c74faa8eae72",
            "294e76ac70b54ac5ab91c98c2e64729a",
            "6e1220e45def4f57a673c3ec2e9bd988",
            "a92b89bab5ed46f78f2b76fbab2d81e5",
            "949adbfe27dd4501a2ed361a19e08823",
            "f1d113e39ac34f0d8b6d54a61170b690",
            "fa388d3467e6479394649727bdda5ced",
            "4adac396ce804e18a04b2a29d2e20a24",
            "30b81dcb3e29487384e15bede163888e",
            "3b1e13f962144d57b5246f37b1e9fb1c",
            "44849f66c6a9405f97c2d07e06408085",
            "e3a191145129438db72246f9776b2cfc"
          ]
        }
      },
      "source": [
        "from transformers import AutoModelWithLMHead, AutoTokenizer, top_k_top_p_filtering\n",
        "import torch\n",
        "from torch.nn import functional as F\n",
        "tokenizer = AutoTokenizer.from_pretrained(\"gpt2\")\n",
        "model = AutoModelWithLMHead.from_pretrained(\"gpt2\")\n",
        "sequence = f\"Hugging Face is based in DUMBO, New York City, and \"\n",
        "input_ids = tokenizer.encode(sequence, return_tensors=\"pt\")\n",
        "# get logits of last hidden state\n",
        "next_token_logits = model(input_ids, return_dict=True).logits[:, -1, :]\n",
        "# filter\n",
        "filtered_next_token_logits = top_k_top_p_filtering(next_token_logits, top_k=50, top_p=1.0)\n",
        "# sample\n",
        "probs = F.softmax(filtered_next_token_logits, dim=-1)\n",
        "next_token = torch.multinomial(probs, num_samples=1)\n",
        "generated = torch.cat([input_ids, next_token], dim=-1)\n",
        "resulting_string = tokenizer.decode(generated.tolist()[0])"
      ],
      "execution_count": null,
      "outputs": [
        {
          "output_type": "display_data",
          "data": {
            "application/vnd.jupyter.widget-view+json": {
              "model_id": "7d94c42902d3449bbe433be697fb1765",
              "version_minor": 0,
              "version_major": 2
            },
            "text/plain": [
              "HBox(children=(FloatProgress(value=0.0, description='Downloading', max=665.0, style=ProgressStyle(description_…"
            ]
          },
          "metadata": {
            "tags": []
          }
        },
        {
          "output_type": "stream",
          "text": [
            "\n"
          ],
          "name": "stdout"
        },
        {
          "output_type": "display_data",
          "data": {
            "application/vnd.jupyter.widget-view+json": {
              "model_id": "510c464ce075411696b951d366573e2b",
              "version_minor": 0,
              "version_major": 2
            },
            "text/plain": [
              "HBox(children=(FloatProgress(value=0.0, description='Downloading', max=1042301.0, style=ProgressStyle(descript…"
            ]
          },
          "metadata": {
            "tags": []
          }
        },
        {
          "output_type": "stream",
          "text": [
            "\n"
          ],
          "name": "stdout"
        },
        {
          "output_type": "display_data",
          "data": {
            "application/vnd.jupyter.widget-view+json": {
              "model_id": "2d75023aaf67435ca7dc0f19f5a89741",
              "version_minor": 0,
              "version_major": 2
            },
            "text/plain": [
              "HBox(children=(FloatProgress(value=0.0, description='Downloading', max=456318.0, style=ProgressStyle(descripti…"
            ]
          },
          "metadata": {
            "tags": []
          }
        },
        {
          "output_type": "stream",
          "text": [
            "\n"
          ],
          "name": "stdout"
        },
        {
          "output_type": "stream",
          "text": [
            "/usr/local/lib/python3.6/dist-packages/transformers/modeling_auto.py:785: FutureWarning: The class `AutoModelWithLMHead` is deprecated and will be removed in a future version. Please use `AutoModelForCausalLM` for causal language models, `AutoModelForMaskedLM` for masked language models and `AutoModelForSeq2SeqLM` for encoder-decoder models.\n",
            "  FutureWarning,\n"
          ],
          "name": "stderr"
        },
        {
          "output_type": "display_data",
          "data": {
            "application/vnd.jupyter.widget-view+json": {
              "model_id": "949adbfe27dd4501a2ed361a19e08823",
              "version_minor": 0,
              "version_major": 2
            },
            "text/plain": [
              "HBox(children=(FloatProgress(value=0.0, description='Downloading', max=548118077.0, style=ProgressStyle(descri…"
            ]
          },
          "metadata": {
            "tags": []
          }
        },
        {
          "output_type": "stream",
          "text": [
            "\n"
          ],
          "name": "stdout"
        }
      ]
    },
    {
      "cell_type": "code",
      "metadata": {
        "id": "-0PnkL4VVKh8",
        "outputId": "6850d228-50a6-44d3-cee8-98194a0fc498",
        "colab": {
          "base_uri": "https://localhost:8080/"
        }
      },
      "source": [
        "print(resulting_string)"
      ],
      "execution_count": null,
      "outputs": [
        {
          "output_type": "stream",
          "text": [
            "Hugging Face is based in DUMBO, New York City, and  \n"
          ],
          "name": "stdout"
        }
      ]
    },
    {
      "cell_type": "markdown",
      "metadata": {
        "id": "q1fXgsDQmK09"
      },
      "source": [
        "## Original CTC code"
      ]
    },
    {
      "cell_type": "markdown",
      "metadata": {
        "id": "DZ_cIbLtGihs"
      },
      "source": [
        "## installing the requirements"
      ]
    },
    {
      "cell_type": "code",
      "metadata": {
        "id": "gwfN8o17Bdp2",
        "outputId": "b2c83fba-48b0-4af7-bd53-b48546dd086a",
        "colab": {
          "base_uri": "https://localhost:8080/",
          "height": 722
        }
      },
      "source": [
        "!pip install torchaudio==0.4.0 torch==1.4.0 comet-ml==3.0.2"
      ],
      "execution_count": 5,
      "outputs": [
        {
          "output_type": "stream",
          "text": [
            "Collecting torchaudio==0.4.0\n",
            "\u001b[?25l  Downloading https://files.pythonhosted.org/packages/6e/bc/3ebc127162d27bed33dc914606f10117d106680baae7ce83603ea09985fd/torchaudio-0.4.0-cp36-cp36m-manylinux1_x86_64.whl (3.1MB)\n",
            "\u001b[K     |████████████████████████████████| 3.1MB 6.6MB/s \n",
            "\u001b[?25hCollecting torch==1.4.0\n",
            "\u001b[?25l  Downloading https://files.pythonhosted.org/packages/24/19/4804aea17cd136f1705a5e98a00618cb8f6ccc375ad8bfa437408e09d058/torch-1.4.0-cp36-cp36m-manylinux1_x86_64.whl (753.4MB)\n",
            "\u001b[K     |████████████████████████████████| 753.4MB 23kB/s \n",
            "\u001b[?25hCollecting comet-ml==3.0.2\n",
            "\u001b[?25l  Downloading https://files.pythonhosted.org/packages/99/c6/fac88f43f2aa61a09fee4ffb769c73fe93fe7de75764246e70967d31da09/comet_ml-3.0.2-py3-none-any.whl (170kB)\n",
            "\u001b[K     |████████████████████████████████| 174kB 41.2MB/s \n",
            "\u001b[?25hRequirement already satisfied: jsonschema<3.1.0,>=2.6.0 in /usr/local/lib/python3.6/dist-packages (from comet-ml==3.0.2) (2.6.0)\n",
            "Collecting comet-git-pure>=0.19.11\n",
            "\u001b[?25l  Downloading https://files.pythonhosted.org/packages/72/7a/483413046e48908986a0f9a1d8a917e1da46ae58e6ba16b2ac71b3adf8d7/comet_git_pure-0.19.16-py3-none-any.whl (409kB)\n",
            "\u001b[K     |████████████████████████████████| 419kB 41.7MB/s \n",
            "\u001b[?25hRequirement already satisfied: six in /usr/local/lib/python3.6/dist-packages (from comet-ml==3.0.2) (1.15.0)\n",
            "Collecting everett[ini]>=1.0.1; python_version >= \"3.0\"\n",
            "  Downloading https://files.pythonhosted.org/packages/12/34/de70a3d913411e40ce84966f085b5da0c6df741e28c86721114dd290aaa0/everett-1.0.2-py2.py3-none-any.whl\n",
            "Collecting wurlitzer>=1.0.2\n",
            "  Downloading https://files.pythonhosted.org/packages/0c/1e/52f4effa64a447c4ec0fb71222799e2ac32c55b4b6c1725fccdf6123146e/wurlitzer-2.0.1-py2.py3-none-any.whl\n",
            "Collecting netifaces>=0.10.7\n",
            "  Downloading https://files.pythonhosted.org/packages/0c/9b/c4c7eb09189548d45939a3d3a6b3d53979c67d124459b27a094c365c347f/netifaces-0.10.9-cp36-cp36m-manylinux1_x86_64.whl\n",
            "Requirement already satisfied: nvidia-ml-py3>=7.352.0 in /usr/local/lib/python3.6/dist-packages (from comet-ml==3.0.2) (7.352.0)\n",
            "Requirement already satisfied: requests>=2.18.4 in /usr/local/lib/python3.6/dist-packages (from comet-ml==3.0.2) (2.23.0)\n",
            "Collecting websocket-client>=0.55.0\n",
            "\u001b[?25l  Downloading https://files.pythonhosted.org/packages/4c/5f/f61b420143ed1c8dc69f9eaec5ff1ac36109d52c80de49d66e0c36c3dfdf/websocket_client-0.57.0-py2.py3-none-any.whl (200kB)\n",
            "\u001b[K     |████████████████████████████████| 204kB 45.7MB/s \n",
            "\u001b[?25hRequirement already satisfied: certifi in /usr/local/lib/python3.6/dist-packages (from comet-git-pure>=0.19.11->comet-ml==3.0.2) (2020.6.20)\n",
            "Requirement already satisfied: urllib3>=1.24.1 in /usr/local/lib/python3.6/dist-packages (from comet-git-pure>=0.19.11->comet-ml==3.0.2) (1.24.3)\n",
            "Collecting configobj; extra == \"ini\"\n",
            "  Downloading https://files.pythonhosted.org/packages/64/61/079eb60459c44929e684fa7d9e2fdca403f67d64dd9dbac27296be2e0fab/configobj-5.0.6.tar.gz\n",
            "Requirement already satisfied: chardet<4,>=3.0.2 in /usr/local/lib/python3.6/dist-packages (from requests>=2.18.4->comet-ml==3.0.2) (3.0.4)\n",
            "Requirement already satisfied: idna<3,>=2.5 in /usr/local/lib/python3.6/dist-packages (from requests>=2.18.4->comet-ml==3.0.2) (2.10)\n",
            "Building wheels for collected packages: configobj\n",
            "  Building wheel for configobj (setup.py) ... \u001b[?25l\u001b[?25hdone\n",
            "  Created wheel for configobj: filename=configobj-5.0.6-cp36-none-any.whl size=34547 sha256=47bbd71ec60af6101b932e423e3f37505298948a25c73f7ea45223c4b61bc40b\n",
            "  Stored in directory: /root/.cache/pip/wheels/f1/e4/16/4981ca97c2d65106b49861e0b35e2660695be7219a2d351ee0\n",
            "Successfully built configobj\n",
            "\u001b[31mERROR: torchvision 0.7.0+cu101 has requirement torch==1.6.0, but you'll have torch 1.4.0 which is incompatible.\u001b[0m\n",
            "Installing collected packages: torch, torchaudio, comet-git-pure, configobj, everett, wurlitzer, netifaces, websocket-client, comet-ml\n",
            "  Found existing installation: torch 1.6.0+cu101\n",
            "    Uninstalling torch-1.6.0+cu101:\n",
            "      Successfully uninstalled torch-1.6.0+cu101\n",
            "Successfully installed comet-git-pure-0.19.16 comet-ml-3.0.2 configobj-5.0.6 everett-1.0.2 netifaces-0.10.9 torch-1.4.0 torchaudio-0.4.0 websocket-client-0.57.0 wurlitzer-2.0.1\n"
          ],
          "name": "stdout"
        }
      ]
    },
    {
      "cell_type": "markdown",
      "metadata": {
        "id": "tSKHvy8DmOCQ"
      },
      "source": [
        "## Setting up your data pipeline"
      ]
    },
    {
      "cell_type": "code",
      "metadata": {
        "id": "RVJs4Bk8FjjO"
      },
      "source": [
        "import os\n",
        "\n",
        "# The core class of Comet.ml is an Experiment, a specific run of a script that \n",
        "# generated a result such as training a model on a single set of hyper parameters. \n",
        "# An Experiment will automatically log scripts output (stdout/stderr), code, \n",
        "# and command line arguments on any script and for the supported libraries will\n",
        "#  also log hyper parameters, metrics and model configuration.\n",
        "from comet_ml import Experiment\n",
        "\n",
        "import torch\n",
        "import torch.nn as nn\n",
        "import torch.utils.data as data\n",
        "import torch.optim as optim\n",
        "import torch.nn.functional as F\n",
        "import torchaudio\n",
        "\n",
        "import numpy as np\n",
        "\n",
        "def avg_wer(wer_scores, combined_ref_len):\n",
        "    return float(sum(wer_scores)) / float(combined_ref_len)\n",
        "\n",
        "\n",
        "def _levenshtein_distance(ref, hyp):\n",
        "    \"\"\"Levenshtein distance is a string metric for measuring the difference\n",
        "    between two sequences. Informally, the levenshtein disctance is defined as\n",
        "    the minimum number of single-character edits (substitutions, insertions or\n",
        "    deletions) required to change one word into the other. We can naturally\n",
        "    extend the edits to word level when calculate levenshtein disctance for\n",
        "    two sentences.\n",
        "    \"\"\"\n",
        "    m = len(ref)\n",
        "    n = len(hyp)\n",
        "\n",
        "    # special case\n",
        "    if ref == hyp:\n",
        "        return 0\n",
        "    if m == 0:\n",
        "        return n\n",
        "    if n == 0:\n",
        "        return m\n",
        "\n",
        "    if m < n:\n",
        "        ref, hyp = hyp, ref\n",
        "        m, n = n, m\n",
        "\n",
        "    # use O(min(m, n)) space\n",
        "    distance = np.zeros((2, n + 1), dtype=np.int32)\n",
        "\n",
        "    # initialize distance matrix\n",
        "    for j in range(0,n + 1):\n",
        "        distance[0][j] = j\n",
        "\n",
        "    # calculate levenshtein distance\n",
        "    for i in range(1, m + 1):\n",
        "        prev_row_idx = (i - 1) % 2\n",
        "        cur_row_idx = i % 2\n",
        "        distance[cur_row_idx][0] = i\n",
        "        for j in range(1, n + 1):\n",
        "            if ref[i - 1] == hyp[j - 1]:\n",
        "                distance[cur_row_idx][j] = distance[prev_row_idx][j - 1]\n",
        "            else:\n",
        "                s_num = distance[prev_row_idx][j - 1] + 1\n",
        "                i_num = distance[cur_row_idx][j - 1] + 1\n",
        "                d_num = distance[prev_row_idx][j] + 1\n",
        "                distance[cur_row_idx][j] = min(s_num, i_num, d_num)\n",
        "\n",
        "    return distance[m % 2][n]\n",
        "\n",
        "\n",
        "def word_errors(reference, hypothesis, ignore_case=False, delimiter=' '):\n",
        "    \"\"\"Compute the levenshtein distance between reference sequence and\n",
        "    hypothesis sequence in word-level.\n",
        "    :param reference: The reference sentence.\n",
        "    :type reference: basestring\n",
        "    :param hypothesis: The hypothesis sentence.\n",
        "    :type hypothesis: basestring\n",
        "    :param ignore_case: Whether case-sensitive or not.\n",
        "    :type ignore_case: bool\n",
        "    :param delimiter: Delimiter of input sentences.\n",
        "    :type delimiter: char\n",
        "    :return: Levenshtein distance and word number of reference sentence.\n",
        "    :rtype: list\n",
        "    \"\"\"\n",
        "    if ignore_case == True:\n",
        "        reference = reference.lower()\n",
        "        hypothesis = hypothesis.lower()\n",
        "\n",
        "    ref_words = reference.split(delimiter)\n",
        "    hyp_words = hypothesis.split(delimiter)\n",
        "\n",
        "    edit_distance = _levenshtein_distance(ref_words, hyp_words)\n",
        "    return float(edit_distance), len(ref_words)\n",
        "\n",
        "\n",
        "def char_errors(reference, hypothesis, ignore_case=False, remove_space=False):\n",
        "    \"\"\"Compute the levenshtein distance between reference sequence and\n",
        "    hypothesis sequence in char-level.\n",
        "    :param reference: The reference sentence.\n",
        "    :type reference: basestring\n",
        "    :param hypothesis: The hypothesis sentence.\n",
        "    :type hypothesis: basestring\n",
        "    :param ignore_case: Whether case-sensitive or not.\n",
        "    :type ignore_case: bool\n",
        "    :param remove_space: Whether remove internal space characters\n",
        "    :type remove_space: bool\n",
        "    :return: Levenshtein distance and length of reference sentence.\n",
        "    :rtype: list\n",
        "    \"\"\"\n",
        "    if ignore_case == True:\n",
        "        reference = reference.lower()\n",
        "        hypothesis = hypothesis.lower()\n",
        "\n",
        "    join_char = ' '\n",
        "    if remove_space == True:\n",
        "        join_char = ''\n",
        "\n",
        "    reference = join_char.join(filter(None, reference.split(' ')))\n",
        "    hypothesis = join_char.join(filter(None, hypothesis.split(' ')))\n",
        "\n",
        "    edit_distance = _levenshtein_distance(reference, hypothesis)\n",
        "    return float(edit_distance), len(reference)\n",
        "\n",
        "\n",
        "def wer(reference, hypothesis, ignore_case=False, delimiter=' '):\n",
        "    \"\"\"Calculate word error rate (WER). WER compares reference text and\n",
        "    hypothesis text in word-level. WER is defined as:\n",
        "    .. math::\n",
        "        WER = (Sw + Dw + Iw) / Nw\n",
        "    where\n",
        "    .. code-block:: text\n",
        "        Sw is the number of words subsituted,\n",
        "        Dw is the number of words deleted,\n",
        "        Iw is the number of words inserted,\n",
        "        Nw is the number of words in the reference\n",
        "    We can use levenshtein distance to calculate WER. Please draw an attention\n",
        "    that empty items will be removed when splitting sentences by delimiter.\n",
        "    :param reference: The reference sentence.\n",
        "    :type reference: basestring\n",
        "    :param hypothesis: The hypothesis sentence.\n",
        "    :type hypothesis: basestring\n",
        "    :param ignore_case: Whether case-sensitive or not.\n",
        "    :type ignore_case: bool\n",
        "    :param delimiter: Delimiter of input sentences.\n",
        "    :type delimiter: char\n",
        "    :return: Word error rate.\n",
        "    :rtype: float\n",
        "    :raises ValueError: If word number of reference is zero.\n",
        "    \"\"\"\n",
        "    edit_distance, ref_len = word_errors(reference, hypothesis, ignore_case,\n",
        "                                         delimiter)\n",
        "\n",
        "    if ref_len == 0:\n",
        "        raise ValueError(\"Reference's word number should be greater than 0.\")\n",
        "\n",
        "    wer = float(edit_distance) / ref_len\n",
        "    return wer\n",
        "\n",
        "\n",
        "def cer(reference, hypothesis, ignore_case=False, remove_space=False):\n",
        "    \"\"\"Calculate charactor error rate (CER). CER compares reference text and\n",
        "    hypothesis text in char-level. CER is defined as:\n",
        "    .. math::\n",
        "        CER = (Sc + Dc + Ic) / Nc\n",
        "    where\n",
        "    .. code-block:: text\n",
        "        Sc is the number of characters substituted,\n",
        "        Dc is the number of characters deleted,\n",
        "        Ic is the number of characters inserted\n",
        "        Nc is the number of characters in the reference\n",
        "    We can use levenshtein distance to calculate CER. Chinese input should be\n",
        "    encoded to unicode. Please draw an attention that the leading and tailing\n",
        "    space characters will be truncated and multiple consecutive space\n",
        "    characters in a sentence will be replaced by one space character.\n",
        "    :param reference: The reference sentence.\n",
        "    :type reference: basestring\n",
        "    :param hypothesis: The hypothesis sentence.\n",
        "    :type hypothesis: basestring\n",
        "    :param ignore_case: Whether case-sensitive or not.\n",
        "    :type ignore_case: bool\n",
        "    :param remove_space: Whether remove internal space characters\n",
        "    :type remove_space: bool\n",
        "    :return: Character error rate.\n",
        "    :rtype: float\n",
        "    :raises ValueError: If the reference length is zero.\n",
        "    \"\"\"\n",
        "    edit_distance, ref_len = char_errors(reference, hypothesis, ignore_case,\n",
        "                                         remove_space)\n",
        "\n",
        "    if ref_len == 0:\n",
        "        raise ValueError(\"Length of reference should be greater than 0.\")\n",
        "\n",
        "    cer = float(edit_distance) / ref_len\n",
        "    return cer\n",
        "\n",
        "class TextTransform:\n",
        "    \"\"\"Maps characters to integers and vice versa\"\"\"\n",
        "    def __init__(self):\n",
        "        char_map_str = \"\"\"\n",
        "        ' 0\n",
        "        <SPACE> 1\n",
        "        a 2\n",
        "        b 3\n",
        "        c 4\n",
        "        d 5\n",
        "        e 6\n",
        "        f 7\n",
        "        g 8\n",
        "        h 9\n",
        "        i 10\n",
        "        j 11\n",
        "        k 12\n",
        "        l 13\n",
        "        m 14\n",
        "        n 15\n",
        "        o 16\n",
        "        p 17\n",
        "        q 18\n",
        "        r 19\n",
        "        s 20\n",
        "        t 21\n",
        "        u 22\n",
        "        v 23\n",
        "        w 24\n",
        "        x 25\n",
        "        y 26\n",
        "        z 27\n",
        "        \"\"\"\n",
        "        self.char_map = {}\n",
        "        self.index_map = {}\n",
        "        for line in char_map_str.strip().split('\\n'):\n",
        "            ch, index = line.split()\n",
        "            self.char_map[ch] = int(index)\n",
        "            self.index_map[int(index)] = ch\n",
        "        self.index_map[1] = ' '\n",
        "\n",
        "    def text_to_int(self, text):\n",
        "        \"\"\" Use a character map and convert text to an integer sequence \"\"\"\n",
        "        int_sequence = []\n",
        "        for c in text:\n",
        "            if c == ' ':\n",
        "                ch = self.char_map['<SPACE>']\n",
        "            else:\n",
        "                ch = self.char_map[c]\n",
        "            int_sequence.append(ch)\n",
        "        return int_sequence\n",
        "\n",
        "    def int_to_text(self, labels):\n",
        "        \"\"\" Use a character map and convert integer labels to an text sequence \"\"\"\n",
        "        string = []\n",
        "        for i in labels:\n",
        "            string.append(self.index_map[i])\n",
        "        return ''.join(string).replace('<SPACE>', ' ')\n",
        "\n",
        "    def int_to_char(self, index):\n",
        "        if index == 28:\n",
        "            return '-'\n",
        "        assert len(self.index_map)>int(index), \"Index exceeds map dimension \"\n",
        "        return self.index_map[int(index)]\n",
        "\n",
        "train_audio_transforms = nn.Sequential(\n",
        "    torchaudio.transforms.MelSpectrogram(sample_rate=16000, n_mels=128),\n",
        "    torchaudio.transforms.FrequencyMasking(freq_mask_param=30),\n",
        "    torchaudio.transforms.TimeMasking(time_mask_param=100)\n",
        ")\n",
        "\n",
        "valid_audio_transforms = torchaudio.transforms.MelSpectrogram()\n",
        "\n",
        "text_transform = TextTransform()\n",
        "\n",
        "def data_processing(data, data_type=\"train\"):\n",
        "    spectrograms = []\n",
        "    labels = []\n",
        "    input_lengths = []\n",
        "    label_lengths = []\n",
        "    for (waveform, _, utterance, _, _, _) in data:\n",
        "        if data_type == 'train':\n",
        "            spec = train_audio_transforms(waveform).squeeze(0).transpose(0, 1)\n",
        "        elif data_type == 'valid':\n",
        "            spec = valid_audio_transforms(waveform).squeeze(0).transpose(0, 1)\n",
        "        else:\n",
        "            raise Exception('data_type should be train or valid')\n",
        "        spectrograms.append(spec)\n",
        "        label = torch.Tensor(text_transform.text_to_int(utterance.lower()))\n",
        "        labels.append(label)\n",
        "        input_lengths.append(spec.shape[0]//2)\n",
        "        label_lengths.append(len(label))\n",
        "\n",
        "    # https://pytorch.org/docs/master/generated/torch.nn.utils.rnn.pad_sequence.html#torch-nn-utils-rnn-pad-sequence\n",
        "    # pad_sequence stacks a list of Tensors along a new dimension, and pads them to equal length. \n",
        "    # batch_first (bool, optional) – output will be in B x T x * if True, or in T x B x * otherwise\n",
        "    spectrograms = nn.utils.rnn.pad_sequence(spectrograms, batch_first=True).unsqueeze(1).transpose(2, 3)\n",
        "    labels = nn.utils.rnn.pad_sequence(labels, batch_first=True)\n",
        "\n",
        "    return spectrograms, labels, input_lengths, label_lengths\n",
        "\n",
        "\n",
        "def GreedyDecoder(output, labels, label_lengths, blank_label=28, collapse_repeated=True, dbg=False):\n",
        "    if dbg:\n",
        "        print(\"# Debugging GreedyDecoder.\")\n",
        "    arg_maxes = torch.argmax(output, dim=2)\n",
        "    decodes = []\n",
        "    targets = []\n",
        "    for i, args in enumerate(arg_maxes):\n",
        "        decode = []\n",
        "        targets.append(text_transform.int_to_text(labels[i][:label_lengths[i]].tolist()))\n",
        "        for j, index in enumerate(args):\n",
        "            if index != blank_label:\n",
        "                if collapse_repeated and j != 0 and index == args[j -1]:\n",
        "                    continue\n",
        "                if dbg:\n",
        "                    print(f\"({j},{index.item()})\")\n",
        "                decode.append(index.item())\n",
        "        if dbg and False:\n",
        "            print(f\"({i},text len:{len(decode)})\")\n",
        "        decodes.append(text_transform.int_to_text(decode))\n",
        "    return decodes, targets\n"
      ],
      "execution_count": 6,
      "outputs": []
    },
    {
      "cell_type": "markdown",
      "metadata": {
        "id": "4XdSlhAQnDEA"
      },
      "source": [
        "## The Model\n",
        "Base of of Deep Speech 2 with some personal improvements"
      ]
    },
    {
      "cell_type": "code",
      "metadata": {
        "id": "65H1-PCjm-FB"
      },
      "source": [
        "class CNNLayerNorm(nn.Module):\n",
        "    \"\"\"Layer normalization built for cnns input\"\"\"\n",
        "    def __init__(self, n_feats):\n",
        "        super(CNNLayerNorm, self).__init__()\n",
        "        self.layer_norm = nn.LayerNorm(n_feats)\n",
        "\n",
        "    def forward(self, x):\n",
        "        # x (batch, channel, feature, time)\n",
        "        x = x.transpose(2, 3).contiguous() # (batch, channel, time, feature)\n",
        "        x = self.layer_norm(x)\n",
        "        return x.transpose(2, 3).contiguous() # (batch, channel, feature, time) \n",
        "\n",
        "\n",
        "class ResidualCNN(nn.Module):\n",
        "    \"\"\"Residual CNN inspired by https://arxiv.org/pdf/1603.05027.pdf\n",
        "        except with layer norm instead of batch norm\n",
        "    \"\"\"\n",
        "    def __init__(self, in_channels, out_channels, kernel, stride, dropout, n_feats):\n",
        "        super(ResidualCNN, self).__init__()\n",
        "\n",
        "        self.cnn1 = nn.Conv2d(in_channels, out_channels, kernel, stride, padding=kernel//2)\n",
        "        self.cnn2 = nn.Conv2d(out_channels, out_channels, kernel, stride, padding=kernel//2)\n",
        "        self.dropout1 = nn.Dropout(dropout)\n",
        "        self.dropout2 = nn.Dropout(dropout)\n",
        "        self.layer_norm1 = CNNLayerNorm(n_feats)\n",
        "        self.layer_norm2 = CNNLayerNorm(n_feats)\n",
        "\n",
        "    def forward(self, x):\n",
        "        residual = x  # (batch, channel, feature, time)\n",
        "        x = self.layer_norm1(x)\n",
        "        x = F.gelu(x)\n",
        "        x = self.dropout1(x)\n",
        "        x = self.cnn1(x)\n",
        "        x = self.layer_norm2(x)\n",
        "        x = F.gelu(x)\n",
        "        x = self.dropout2(x)\n",
        "        x = self.cnn2(x)\n",
        "        x += residual\n",
        "        return x # (batch, channel, feature, time)\n",
        "\n",
        "\n",
        "class BidirectionalGRU(nn.Module):\n",
        "\n",
        "    def __init__(self, rnn_dim, hidden_size, dropout, batch_first):\n",
        "        super(BidirectionalGRU, self).__init__()\n",
        "        self.__name__ = 'BidirectionalGRU'\n",
        "\n",
        "        self.BiGRU = nn.GRU(\n",
        "            input_size=rnn_dim, hidden_size=hidden_size,\n",
        "            num_layers=1, batch_first=batch_first, bidirectional=True)\n",
        "        self.layer_norm = nn.LayerNorm(rnn_dim)\n",
        "        self.dropout = nn.Dropout(dropout)\n",
        "\n",
        "    def forward(self, x):\n",
        "        x = self.layer_norm(x)\n",
        "        x = F.gelu(x)\n",
        "        x, _ = self.BiGRU(x)\n",
        "        x = self.dropout(x)\n",
        "        return x\n",
        "\n",
        "\n",
        "class SpeechRecognitionModel(nn.Module):\n",
        "    \n",
        "    def __init__(self, n_cnn_layers, n_rnn_layers, rnn_dim, n_class, n_feats, stride=2, dropout=0.1):\n",
        "        super(SpeechRecognitionModel, self).__init__()\n",
        "        n_feats = n_feats//2\n",
        "        self.cnn = nn.Conv2d(1, 32, 3, stride=stride, padding=3//2)  # cnn for extracting heirachal features\n",
        "\n",
        "        # n residual cnn layers with filter size of 32\n",
        "        self.rescnn_layers = nn.Sequential(*[\n",
        "            ResidualCNN(32, 32, kernel=3, stride=1, dropout=dropout, n_feats=n_feats) \n",
        "            for _ in range(n_cnn_layers)\n",
        "        ])\n",
        "        self.fully_connected = nn.Linear(n_feats*32, rnn_dim)\n",
        "        self.birnn_layers = nn.Sequential(*[\n",
        "            BidirectionalGRU(rnn_dim=rnn_dim if i==0 else rnn_dim*2,\n",
        "                             hidden_size=rnn_dim, dropout=dropout, batch_first=i==0)\n",
        "            for i in range(n_rnn_layers)\n",
        "        ])\n",
        "        self.classifier = nn.Sequential(\n",
        "            nn.Linear(rnn_dim*2, rnn_dim),  # birnn returns rnn_dim*2\n",
        "            nn.GELU(),\n",
        "            nn.Dropout(dropout),\n",
        "            nn.Linear(rnn_dim, n_class)\n",
        "        )\n",
        "\n",
        "    def forward(self, x):\n",
        "        x = self.cnn(x)\n",
        "        x = self.rescnn_layers(x)\n",
        "        sizes = x.size()\n",
        "        x = x.view(sizes[0], sizes[1] * sizes[2], sizes[3])  # (batch, feature, time)\n",
        "        x = x.transpose(1, 2) # (batch, time, feature)\n",
        "        x = self.fully_connected(x)\n",
        "        x = self.birnn_layers(x)\n",
        "        x = self.classifier(x)\n",
        "        return x\n"
      ],
      "execution_count": 7,
      "outputs": []
    },
    {
      "cell_type": "markdown",
      "metadata": {
        "id": "CuguNEzKnMOn"
      },
      "source": [
        "## The Training and Evaluating Script"
      ]
    },
    {
      "cell_type": "code",
      "metadata": {
        "id": "swaC12JeDhhc"
      },
      "source": [
        "def CreateModel(hparams, device):\n",
        "    ''' create model beased on hparams dictionary'''\n",
        "    return SpeechRecognitionModel(\n",
        "            hparams['n_cnn_layers'], hparams['n_rnn_layers'], hparams['rnn_dim'],\n",
        "            hparams['n_class'], hparams['n_feats'], hparams['stride'], hparams['dropout']\n",
        "            ).to(device)"
      ],
      "execution_count": 8,
      "outputs": []
    },
    {
      "cell_type": "code",
      "metadata": {
        "id": "ydkqGeOwnPGY"
      },
      "source": [
        "class IterMeter(object):\n",
        "    \"\"\"keeps track of total iterations\"\"\"\n",
        "    def __init__(self):\n",
        "        self.val = 0\n",
        "\n",
        "    def step(self):\n",
        "        self.val += 1\n",
        "\n",
        "    def get(self):\n",
        "        return self.val\n",
        "\n",
        "\n",
        "def train(model, device, train_loader, criterion, optimizer, scheduler, epoch, iter_meter, experiment):\n",
        "    model.train()\n",
        "    data_len = len(train_loader.dataset)\n",
        "    with experiment.train():\n",
        "        for batch_idx, _data in enumerate(train_loader):\n",
        "            spectrograms, labels, input_lengths, label_lengths = _data \n",
        "            spectrograms, labels = spectrograms.to(device), labels.to(device)\n",
        "\n",
        "            optimizer.zero_grad()\n",
        "\n",
        "            output = model(spectrograms)  # (batch, time, n_class)\n",
        "            output = F.log_softmax(output, dim=2)\n",
        "            output = output.transpose(0, 1) # (time, batch, n_class)\n",
        "\n",
        "            loss = criterion(output, labels, input_lengths, label_lengths)\n",
        "            loss.backward()\n",
        "\n",
        "            experiment.log_metric('loss', loss.item(), step=iter_meter.get())\n",
        "            experiment.log_metric('learning_rate', scheduler.get_lr(), step=iter_meter.get())\n",
        "\n",
        "            optimizer.step()\n",
        "            scheduler.step()\n",
        "            iter_meter.step()\n",
        "            if batch_idx % 100 == 0 or batch_idx == data_len:\n",
        "                print('Train Epoch: {} [{}/{} ({:.0f}%)]\\tLoss: {:.6f}'.format(\n",
        "                    epoch, batch_idx * len(spectrograms), data_len,\n",
        "                    100. * batch_idx / len(train_loader), loss.item()))\n",
        "\n",
        "\n",
        "def test(model, device, test_loader, criterion, epoch, iter_meter, speller=None, \n",
        "         experiment=Experiment(api_key='dummy_key', disabled=True)):\n",
        "    print('\\nevaluating...')\n",
        "    model.eval()\n",
        "    test_loss = 0\n",
        "    test_cer, test_wer = [], []\n",
        "    confMat = dict()\n",
        "    corr = dict()\n",
        "    with experiment.test():\n",
        "        with torch.no_grad():\n",
        "            for i, _data in enumerate(test_loader):\n",
        "                spectrograms, labels, input_lengths, label_lengths = _data \n",
        "                spectrograms, labels = spectrograms.to(device), labels.to(device)\n",
        "\n",
        "                output = model(spectrograms)  # (batch, time, n_class)\n",
        "                output = F.log_softmax(output, dim=2)\n",
        "                output = output.transpose(0, 1) # (time, batch, n_class)\n",
        "\n",
        "                loss = criterion(output, labels, input_lengths, label_lengths)\n",
        "                test_loss += loss.item() / len(test_loader)\n",
        "\n",
        "                #print(f\"dbg: calling GreedyDecoder {i}\")\n",
        "                decoded_preds, decoded_targets = GreedyDecoder(output.transpose(0, 1), labels, label_lengths)\n",
        "                #print(f\"#Ref: {decoded_targets[0]}\")\n",
        "                #print(f\"#Rec: {decoded_preds[0]} {type(decoded_preds[0])}\")\n",
        "\n",
        "                for j in range(len(decoded_preds)):\n",
        "                    if speller is not None:\n",
        "                        originalCTCout = decoded_preds[j]\n",
        "                        decoded_preds[j] = speller(originalCTCout)\n",
        "\n",
        "                        for out, spl in zip(originalCTCout.split(), decoded_preds[j].split()):\n",
        "                            # collect correct statistics\n",
        "                            if out == spl:\n",
        "                                if out in corr:\n",
        "                                    corr[out] += 1\n",
        "                                else:\n",
        "                                    corr[out] = 1\n",
        "                                continue\n",
        "                                \n",
        "                            # collect confutions in statistics\n",
        "                            if not out in confMat:\n",
        "                                confMat[out] = dict()\n",
        "                                confMat[out]['_Total'] = 0\n",
        "                            \n",
        "                            confMat[out]['_Total'] += 1\n",
        "                            #if spl in confMat[out]:\n",
        "                            #    confMat[out][spl] += 1\n",
        "                            #else:\n",
        "                            #    confMat[out][spl] = 1\n",
        "                            \n",
        "                    # evaluate performance\n",
        "                    test_cer.append(cer(decoded_targets[j], decoded_preds[j]))\n",
        "                    test_wer.append(wer(decoded_targets[j], decoded_preds[j]))\n",
        "                #break\n",
        "\n",
        "    avg_cer = sum(test_cer)/len(test_cer)\n",
        "    avg_wer = sum(test_wer)/len(test_wer)\n",
        "    experiment.log_metric('test_loss', test_loss, step=iter_meter.get())\n",
        "    experiment.log_metric('cer', avg_cer, step=iter_meter.get())\n",
        "    experiment.log_metric('wer', avg_wer, step=iter_meter.get())\n",
        "    \n",
        "    print(corr)\n",
        "    print(confMat)\n",
        "\n",
        "    print('Test set: Average loss: {:.4f}, Average CER: {:4f} Average WER: {:.4f}\\n'.format(test_loss, avg_cer, avg_wer))\n",
        "\n",
        "\n",
        "def main(learning_rate=5e-4, batch_size=20, epochs=10,\n",
        "        train_url=\"train-clean-100\", test_url=\"test-clean\",\n",
        "        experiment=Experiment(api_key='dummy_key', disabled=True)):\n",
        "\n",
        "    hparams = {\n",
        "        \"n_cnn_layers\": 3,\n",
        "        \"n_rnn_layers\": 5,\n",
        "        \"rnn_dim\": 512,\n",
        "        \"n_class\": 29,\n",
        "        \"n_feats\": 128,\n",
        "        \"stride\":2,\n",
        "        \"dropout\": 0.1,\n",
        "        \"learning_rate\": learning_rate,\n",
        "        \"batch_size\": batch_size,\n",
        "        \"epochs\": epochs\n",
        "    }\n",
        "\n",
        "    experiment.log_parameters(hparams)\n",
        "\n",
        "    use_cuda = torch.cuda.is_available()\n",
        "    torch.manual_seed(7)\n",
        "    device = torch.device(\"cuda\" if use_cuda else \"cpu\")\n",
        "\n",
        "    if not os.path.isdir(\"./data\"):\n",
        "        os.makedirs(\"./data\")\n",
        "\n",
        "    train_dataset = torchaudio.datasets.LIBRISPEECH(\"./data\", url=train_url, download=True)\n",
        "    test_dataset = torchaudio.datasets.LIBRISPEECH(\"./data\", url=test_url, download=True)\n",
        "\n",
        "    kwargs = {'num_workers': 1, 'pin_memory': True} if use_cuda else {}\n",
        "    train_loader = data.DataLoader(dataset=train_dataset,\n",
        "                                batch_size=hparams['batch_size'],\n",
        "                                shuffle=True,\n",
        "                                collate_fn=lambda x: data_processing(x, 'train'),\n",
        "                                **kwargs)\n",
        "    test_loader = data.DataLoader(dataset=test_dataset,\n",
        "                                batch_size=hparams['batch_size'],\n",
        "                                shuffle=False,\n",
        "                                collate_fn=lambda x: data_processing(x, 'valid'),\n",
        "                                **kwargs)\n",
        "\n",
        "    # local creation\n",
        "    if True:\n",
        "        model = SpeechRecognitionModel(\n",
        "            hparams['n_cnn_layers'], hparams['n_rnn_layers'], hparams['rnn_dim'],\n",
        "            hparams['n_class'], hparams['n_feats'], hparams['stride'], hparams['dropout']\n",
        "            ).to(device)\n",
        "    else:\n",
        "        model = CreateModel(hparams, device)\n",
        "        \n",
        "    print(model)\n",
        "    print('Num Model Parameters', sum([param.nelement() for param in model.parameters()]))\n",
        "\n",
        "    optimizer = optim.AdamW(model.parameters(), hparams['learning_rate'])\n",
        "    criterion = nn.CTCLoss(blank=28).to(device)\n",
        "    # torch.optim.lr_scheduler provides several methods to adjust the learning rate based on the number of epochs\n",
        "    #Sets the learning rate of each parameter group according to the 1cycle learning rate policy. \n",
        "    #The 1cycle policy anneals the learning rate from an initial learning rate to \n",
        "    # some maximum learning rate and then from that maximum learning rate to some \n",
        "    # minimum learning rate much lower than the initial learning rate. \n",
        "    # This policy was initially described in the paper Super-Convergence: Very Fast Training of Neural Networks Using Large Learning Rates.\n",
        "    scheduler = optim.lr_scheduler.OneCycleLR(optimizer, max_lr=hparams['learning_rate'], \n",
        "                                            steps_per_epoch=int(len(train_loader)),\n",
        "                                            epochs=hparams['epochs'],\n",
        "                                            anneal_strategy='linear')\n",
        "    \n",
        "    iter_meter = IterMeter()\n",
        "    for epoch in range(1, epochs + 1):\n",
        "        train(model, device, train_loader, criterion, optimizer, scheduler, epoch, iter_meter, experiment)\n",
        "        if epoch % 10 == 9 or epoch == epochs:\n",
        "            test(model, device, test_loader, criterion, epoch, iter_meter, experiment)\n",
        "\n",
        "    # return the final model\n",
        "    return model, hparams, device\n"
      ],
      "execution_count": 30,
      "outputs": []
    },
    {
      "cell_type": "markdown",
      "metadata": {
        "id": "4qBGdkQSmW3a"
      },
      "source": [
        "## Setting up Comet\n",
        "If you have a comet account, fill in teh api key, project name and experiment name below. You can create an account at [comet.ml](comet.ml)."
      ]
    },
    {
      "cell_type": "code",
      "metadata": {
        "id": "edo8shRBFt4V"
      },
      "source": [
        "comet_api_key = \"\" # add your api key here\n",
        "project_name = \"speechrecognition\"\n",
        "experiment_name = \"speechrecognition-colab\"\n",
        "\n",
        "if comet_api_key:\n",
        "  experiment = Experiment(api_key=comet_api_key, project_name=project_name, parse_args=False)\n",
        "  experiment.set_name(experiment_name)\n",
        "  experiment.display()\n",
        "else:\n",
        "  experiment = Experiment(api_key='dummy_key', disabled=True)"
      ],
      "execution_count": 10,
      "outputs": []
    },
    {
      "cell_type": "markdown",
      "metadata": {
        "id": "HxRIb_WempDq"
      },
      "source": [
        "## GPU runtime\n",
        "If you are using a GPU runtime, this will let you know what GPU and how much memory is available. Adjust your batch_size depending on which GPU"
      ]
    },
    {
      "cell_type": "code",
      "metadata": {
        "id": "nlUSuAJwlzo8",
        "outputId": "5f124009-8fe5-4a1a-a9e6-556e51d92d29",
        "colab": {
          "base_uri": "https://localhost:8080/",
          "height": 353
        }
      },
      "source": [
        "!nvidia-smi"
      ],
      "execution_count": 11,
      "outputs": [
        {
          "output_type": "stream",
          "text": [
            "Thu Oct  8 12:09:22 2020       \n",
            "+-----------------------------------------------------------------------------+\n",
            "| NVIDIA-SMI 455.23.05    Driver Version: 418.67       CUDA Version: 10.1     |\n",
            "|-------------------------------+----------------------+----------------------+\n",
            "| GPU  Name        Persistence-M| Bus-Id        Disp.A | Volatile Uncorr. ECC |\n",
            "| Fan  Temp  Perf  Pwr:Usage/Cap|         Memory-Usage | GPU-Util  Compute M. |\n",
            "|                               |                      |               MIG M. |\n",
            "|===============================+======================+======================|\n",
            "|   0  Tesla K80           Off  | 00000000:00:04.0 Off |                    0 |\n",
            "| N/A   35C    P8    26W / 149W |      0MiB / 11441MiB |      0%      Default |\n",
            "|                               |                      |                 ERR! |\n",
            "+-------------------------------+----------------------+----------------------+\n",
            "                                                                               \n",
            "+-----------------------------------------------------------------------------+\n",
            "| Processes:                                                                  |\n",
            "|  GPU   GI   CI        PID   Type   Process name                  GPU Memory |\n",
            "|        ID   ID                                                   Usage      |\n",
            "|=============================================================================|\n",
            "|  No running processes found                                                 |\n",
            "+-----------------------------------------------------------------------------+\n"
          ],
          "name": "stdout"
        }
      ]
    },
    {
      "cell_type": "markdown",
      "metadata": {
        "id": "vBT776XweV8R"
      },
      "source": [
        "## ORIGINAL code sequence "
      ]
    },
    {
      "cell_type": "code",
      "metadata": {
        "id": "N1LsgT-m7HA_"
      },
      "source": [
        "def saveModel(model, outputFileName):\n",
        "    ''' Save NN model into  a file ''' \n",
        "    print(f\"saving {outputFileName}\")\n",
        "    torch.save(model, outputFileName)\n",
        "\n",
        "# update save/load as recommended here  \n",
        "# https://pytorch.org/tutorials/recipes/recipes/saving_and_loading_a_general_checkpoint.html\n",
        "\n",
        "def saveModelAsDictionaryWithOptionalExtra(model, outputFileName, extra={}):\n",
        "    ''' Save NN model into  a file ''' \n",
        "    print(f\"saving {outputFileName}\")\n",
        "\n",
        "    torch.save({'model':model,\n",
        "                'model_state_dict': model.state_dict(),\n",
        "                **extra,\n",
        "                }, outputFileName)\n"
      ],
      "execution_count": 12,
      "outputs": []
    },
    {
      "cell_type": "markdown",
      "metadata": {
        "id": "hXvlWZeVpXfX"
      },
      "source": [
        "## Train\n",
        "this will download the data on first run and may take a while. \n",
        "\n",
        "If you have Comet.ml setup, you can start seeing your progress in the comet cell above."
      ]
    },
    {
      "cell_type": "markdown",
      "metadata": {
        "id": "rXAaegPIe6TF"
      },
      "source": [
        ""
      ]
    },
    {
      "cell_type": "code",
      "metadata": {
        "id": "y7sRfxHNjiGw",
        "outputId": "f60efa0d-3e94-4471-9541-984f8e4ec3f6",
        "colab": {
          "base_uri": "https://localhost:8080/",
          "height": 1000
        }
      },
      "source": [
        "# Phase I - to make sure things are working\n",
        "# short training cycle using the the test set for training and \n",
        "# evaluation \n",
        "learning_rate = 5e-4\n",
        "batch_size = 10\n",
        "epochs = 10\n",
        "libri_train_set = \"train-clean-100\"\n",
        "libri_test_set = \"test-clean\"\n",
        "\n",
        "learning_rate = 1e-3\n",
        "batch_size = 10\n",
        "epochs = 30\n",
        "libri_train_set = \"test-clean\"\n",
        "libri_test_set = \"test-clean\"\n",
        "\n",
        "model, hparams, device  = main(learning_rate, batch_size, epochs, libri_train_set, libri_test_set, experiment)\n",
        "\n",
        "modelFileName = filesRootDirectory + \"PhaseImodel_20Iter_test.pt\"\n",
        "saveModelAsDictionaryWithOptionalExtra(model, modelFileName, hparams)\n",
        "\n"
      ],
      "execution_count": null,
      "outputs": [
        {
          "output_type": "stream",
          "text": [
            "SpeechRecognitionModel(\n",
            "  (cnn): Conv2d(1, 32, kernel_size=(3, 3), stride=(2, 2), padding=(1, 1))\n",
            "  (rescnn_layers): Sequential(\n",
            "    (0): ResidualCNN(\n",
            "      (cnn1): Conv2d(32, 32, kernel_size=(3, 3), stride=(1, 1), padding=(1, 1))\n",
            "      (cnn2): Conv2d(32, 32, kernel_size=(3, 3), stride=(1, 1), padding=(1, 1))\n",
            "      (dropout1): Dropout(p=0.1, inplace=False)\n",
            "      (dropout2): Dropout(p=0.1, inplace=False)\n",
            "      (layer_norm1): CNNLayerNorm(\n",
            "        (layer_norm): LayerNorm((64,), eps=1e-05, elementwise_affine=True)\n",
            "      )\n",
            "      (layer_norm2): CNNLayerNorm(\n",
            "        (layer_norm): LayerNorm((64,), eps=1e-05, elementwise_affine=True)\n",
            "      )\n",
            "    )\n",
            "    (1): ResidualCNN(\n",
            "      (cnn1): Conv2d(32, 32, kernel_size=(3, 3), stride=(1, 1), padding=(1, 1))\n",
            "      (cnn2): Conv2d(32, 32, kernel_size=(3, 3), stride=(1, 1), padding=(1, 1))\n",
            "      (dropout1): Dropout(p=0.1, inplace=False)\n",
            "      (dropout2): Dropout(p=0.1, inplace=False)\n",
            "      (layer_norm1): CNNLayerNorm(\n",
            "        (layer_norm): LayerNorm((64,), eps=1e-05, elementwise_affine=True)\n",
            "      )\n",
            "      (layer_norm2): CNNLayerNorm(\n",
            "        (layer_norm): LayerNorm((64,), eps=1e-05, elementwise_affine=True)\n",
            "      )\n",
            "    )\n",
            "    (2): ResidualCNN(\n",
            "      (cnn1): Conv2d(32, 32, kernel_size=(3, 3), stride=(1, 1), padding=(1, 1))\n",
            "      (cnn2): Conv2d(32, 32, kernel_size=(3, 3), stride=(1, 1), padding=(1, 1))\n",
            "      (dropout1): Dropout(p=0.1, inplace=False)\n",
            "      (dropout2): Dropout(p=0.1, inplace=False)\n",
            "      (layer_norm1): CNNLayerNorm(\n",
            "        (layer_norm): LayerNorm((64,), eps=1e-05, elementwise_affine=True)\n",
            "      )\n",
            "      (layer_norm2): CNNLayerNorm(\n",
            "        (layer_norm): LayerNorm((64,), eps=1e-05, elementwise_affine=True)\n",
            "      )\n",
            "    )\n",
            "  )\n",
            "  (fully_connected): Linear(in_features=2048, out_features=512, bias=True)\n",
            "  (birnn_layers): Sequential(\n",
            "    (0): BidirectionalGRU(\n",
            "      (BiGRU): GRU(512, 512, batch_first=True, bidirectional=True)\n",
            "      (layer_norm): LayerNorm((512,), eps=1e-05, elementwise_affine=True)\n",
            "      (dropout): Dropout(p=0.1, inplace=False)\n",
            "    )\n",
            "    (1): BidirectionalGRU(\n",
            "      (BiGRU): GRU(1024, 512, bidirectional=True)\n",
            "      (layer_norm): LayerNorm((1024,), eps=1e-05, elementwise_affine=True)\n",
            "      (dropout): Dropout(p=0.1, inplace=False)\n",
            "    )\n",
            "    (2): BidirectionalGRU(\n",
            "      (BiGRU): GRU(1024, 512, bidirectional=True)\n",
            "      (layer_norm): LayerNorm((1024,), eps=1e-05, elementwise_affine=True)\n",
            "      (dropout): Dropout(p=0.1, inplace=False)\n",
            "    )\n",
            "    (3): BidirectionalGRU(\n",
            "      (BiGRU): GRU(1024, 512, bidirectional=True)\n",
            "      (layer_norm): LayerNorm((1024,), eps=1e-05, elementwise_affine=True)\n",
            "      (dropout): Dropout(p=0.1, inplace=False)\n",
            "    )\n",
            "    (4): BidirectionalGRU(\n",
            "      (BiGRU): GRU(1024, 512, bidirectional=True)\n",
            "      (layer_norm): LayerNorm((1024,), eps=1e-05, elementwise_affine=True)\n",
            "      (dropout): Dropout(p=0.1, inplace=False)\n",
            "    )\n",
            "  )\n",
            "  (classifier): Sequential(\n",
            "    (0): Linear(in_features=1024, out_features=512, bias=True)\n",
            "    (1): GELU()\n",
            "    (2): Dropout(p=0.1, inplace=False)\n",
            "    (3): Linear(in_features=512, out_features=29, bias=True)\n",
            "  )\n",
            ")\n",
            "Num Model Parameters 23705373\n",
            "Train Epoch: 1 [0/2620 (0%)]\tLoss: 7.350742\n",
            "Train Epoch: 1 [1000/2620 (38%)]\tLoss: 2.905401\n",
            "Train Epoch: 1 [2000/2620 (76%)]\tLoss: 2.974809\n",
            "Train Epoch: 2 [0/2620 (0%)]\tLoss: 2.914457\n",
            "Train Epoch: 2 [1000/2620 (38%)]\tLoss: 2.897297\n",
            "Train Epoch: 2 [2000/2620 (76%)]\tLoss: 3.050220\n",
            "Train Epoch: 3 [0/2620 (0%)]\tLoss: 2.856240\n",
            "Train Epoch: 3 [1000/2620 (38%)]\tLoss: 2.876239\n",
            "Train Epoch: 3 [2000/2620 (76%)]\tLoss: 2.980936\n",
            "Train Epoch: 4 [0/2620 (0%)]\tLoss: 2.876346\n",
            "Train Epoch: 4 [1000/2620 (38%)]\tLoss: 2.877251\n",
            "Train Epoch: 4 [2000/2620 (76%)]\tLoss: 2.958915\n",
            "Train Epoch: 5 [0/2620 (0%)]\tLoss: 2.841392\n",
            "Train Epoch: 5 [1000/2620 (38%)]\tLoss: 2.814801\n",
            "Train Epoch: 5 [2000/2620 (76%)]\tLoss: 2.702391\n",
            "Train Epoch: 6 [0/2620 (0%)]\tLoss: 2.632119\n",
            "Train Epoch: 6 [1000/2620 (38%)]\tLoss: 2.709934\n",
            "Train Epoch: 6 [2000/2620 (76%)]\tLoss: 2.605756\n",
            "Train Epoch: 7 [0/2620 (0%)]\tLoss: 2.590572\n",
            "Train Epoch: 7 [1000/2620 (38%)]\tLoss: 2.477906\n",
            "Train Epoch: 7 [2000/2620 (76%)]\tLoss: 2.387838\n",
            "Train Epoch: 8 [0/2620 (0%)]\tLoss: 2.360018\n",
            "Train Epoch: 8 [1000/2620 (38%)]\tLoss: 2.306580\n",
            "Train Epoch: 8 [2000/2620 (76%)]\tLoss: 2.400244\n",
            "Train Epoch: 9 [0/2620 (0%)]\tLoss: 2.186271\n",
            "Train Epoch: 9 [1000/2620 (38%)]\tLoss: 2.128504\n",
            "Train Epoch: 9 [2000/2620 (76%)]\tLoss: 2.232259\n",
            "\n",
            "evaluating...\n",
            "Test set: Average loss: 1.8495, Average CER: 0.551929 Average WER: 0.9771\n",
            "\n",
            "Train Epoch: 10 [0/2620 (0%)]\tLoss: 2.261687\n",
            "Train Epoch: 10 [1000/2620 (38%)]\tLoss: 2.157374\n",
            "Train Epoch: 10 [2000/2620 (76%)]\tLoss: 2.190257\n",
            "Train Epoch: 11 [0/2620 (0%)]\tLoss: 2.091645\n",
            "Train Epoch: 11 [1000/2620 (38%)]\tLoss: 1.931495\n",
            "Train Epoch: 11 [2000/2620 (76%)]\tLoss: 2.106536\n",
            "Train Epoch: 12 [0/2620 (0%)]\tLoss: 1.798792\n",
            "Train Epoch: 12 [1000/2620 (38%)]\tLoss: 1.810762\n",
            "Train Epoch: 12 [2000/2620 (76%)]\tLoss: 1.820139\n",
            "Train Epoch: 13 [0/2620 (0%)]\tLoss: 1.722200\n",
            "Train Epoch: 13 [1000/2620 (38%)]\tLoss: 1.925577\n",
            "Train Epoch: 13 [2000/2620 (76%)]\tLoss: 1.784346\n",
            "Train Epoch: 14 [0/2620 (0%)]\tLoss: 1.782389\n",
            "Train Epoch: 14 [1000/2620 (38%)]\tLoss: 1.722148\n",
            "Train Epoch: 14 [2000/2620 (76%)]\tLoss: 1.783051\n",
            "Train Epoch: 15 [0/2620 (0%)]\tLoss: 1.500917\n",
            "Train Epoch: 15 [1000/2620 (38%)]\tLoss: 1.718363\n",
            "Train Epoch: 15 [2000/2620 (76%)]\tLoss: 1.593000\n",
            "Train Epoch: 16 [0/2620 (0%)]\tLoss: 1.641265\n",
            "Train Epoch: 16 [1000/2620 (38%)]\tLoss: 1.446268\n",
            "Train Epoch: 16 [2000/2620 (76%)]\tLoss: 1.703795\n",
            "Train Epoch: 17 [0/2620 (0%)]\tLoss: 1.490871\n",
            "Train Epoch: 17 [1000/2620 (38%)]\tLoss: 1.510363\n",
            "Train Epoch: 17 [2000/2620 (76%)]\tLoss: 1.531161\n",
            "Train Epoch: 18 [0/2620 (0%)]\tLoss: 1.421934\n",
            "Train Epoch: 18 [1000/2620 (38%)]\tLoss: 1.445351\n",
            "Train Epoch: 18 [2000/2620 (76%)]\tLoss: 1.814815\n",
            "Train Epoch: 19 [0/2620 (0%)]\tLoss: 1.505493\n",
            "Train Epoch: 19 [1000/2620 (38%)]\tLoss: 1.402501\n",
            "Train Epoch: 19 [2000/2620 (76%)]\tLoss: 1.533130\n",
            "\n",
            "evaluating...\n",
            "Test set: Average loss: 0.9460, Average CER: 0.292333 Average WER: 0.7736\n",
            "\n",
            "Train Epoch: 20 [0/2620 (0%)]\tLoss: 1.419605\n",
            "Train Epoch: 20 [1000/2620 (38%)]\tLoss: 1.383905\n",
            "Train Epoch: 20 [2000/2620 (76%)]\tLoss: 1.157683\n",
            "Train Epoch: 21 [0/2620 (0%)]\tLoss: 1.435914\n",
            "Train Epoch: 21 [1000/2620 (38%)]\tLoss: 1.381098\n",
            "Train Epoch: 21 [2000/2620 (76%)]\tLoss: 1.625488\n",
            "Train Epoch: 22 [0/2620 (0%)]\tLoss: 1.377834\n",
            "Train Epoch: 22 [1000/2620 (38%)]\tLoss: 1.249529\n",
            "Train Epoch: 22 [2000/2620 (76%)]\tLoss: 1.320476\n",
            "Train Epoch: 23 [0/2620 (0%)]\tLoss: 1.218402\n",
            "Train Epoch: 23 [1000/2620 (38%)]\tLoss: 1.220171\n",
            "Train Epoch: 23 [2000/2620 (76%)]\tLoss: 1.183203\n",
            "Train Epoch: 24 [0/2620 (0%)]\tLoss: 1.353891\n",
            "Train Epoch: 24 [1000/2620 (38%)]\tLoss: 1.148715\n",
            "Train Epoch: 24 [2000/2620 (76%)]\tLoss: 1.283353\n",
            "Train Epoch: 25 [0/2620 (0%)]\tLoss: 1.293580\n",
            "Train Epoch: 25 [1000/2620 (38%)]\tLoss: 1.067300\n",
            "Train Epoch: 25 [2000/2620 (76%)]\tLoss: 1.280764\n",
            "Train Epoch: 26 [0/2620 (0%)]\tLoss: 1.205322\n",
            "Train Epoch: 26 [1000/2620 (38%)]\tLoss: 1.507396\n",
            "Train Epoch: 26 [2000/2620 (76%)]\tLoss: 1.357357\n",
            "Train Epoch: 27 [0/2620 (0%)]\tLoss: 1.200938\n",
            "Train Epoch: 27 [1000/2620 (38%)]\tLoss: 1.127960\n",
            "Train Epoch: 27 [2000/2620 (76%)]\tLoss: 1.069447\n",
            "Train Epoch: 28 [0/2620 (0%)]\tLoss: 1.226590\n",
            "Train Epoch: 28 [1000/2620 (38%)]\tLoss: 1.295735\n",
            "Train Epoch: 28 [2000/2620 (76%)]\tLoss: 1.198493\n",
            "Train Epoch: 29 [0/2620 (0%)]\tLoss: 1.147354\n",
            "Train Epoch: 29 [1000/2620 (38%)]\tLoss: 1.210603\n",
            "Train Epoch: 29 [2000/2620 (76%)]\tLoss: 1.144868\n",
            "\n",
            "evaluating...\n",
            "Test set: Average loss: 0.6003, Average CER: 0.185754 Average WER: 0.5778\n",
            "\n",
            "Train Epoch: 30 [0/2620 (0%)]\tLoss: 1.201770\n",
            "Train Epoch: 30 [1000/2620 (38%)]\tLoss: 1.151219\n",
            "Train Epoch: 30 [2000/2620 (76%)]\tLoss: 1.141629\n",
            "\n",
            "evaluating...\n",
            "Test set: Average loss: 0.5916, Average CER: 0.183877 Average WER: 0.5701\n",
            "\n",
            "saving /content/gdrive/My Drive/Colab_files/CTCmodels/PhaseImodel_20Iter_test.pt\n"
          ],
          "name": "stdout"
        },
        {
          "output_type": "stream",
          "text": [
            "/usr/local/lib/python3.6/dist-packages/torch/serialization.py:360: UserWarning: Couldn't retrieve source code for container of type SpeechRecognitionModel. It won't be checked for correctness upon loading.\n",
            "  \"type \" + obj.__name__ + \". It won't be checked \"\n",
            "/usr/local/lib/python3.6/dist-packages/torch/serialization.py:360: UserWarning: Couldn't retrieve source code for container of type ResidualCNN. It won't be checked for correctness upon loading.\n",
            "  \"type \" + obj.__name__ + \". It won't be checked \"\n",
            "/usr/local/lib/python3.6/dist-packages/torch/serialization.py:360: UserWarning: Couldn't retrieve source code for container of type CNNLayerNorm. It won't be checked for correctness upon loading.\n",
            "  \"type \" + obj.__name__ + \". It won't be checked \"\n",
            "/usr/local/lib/python3.6/dist-packages/torch/serialization.py:360: UserWarning: Couldn't retrieve source code for container of type BidirectionalGRU. It won't be checked for correctness upon loading.\n",
            "  \"type \" + obj.__name__ + \". It won't be checked \"\n"
          ],
          "name": "stderr"
        }
      ]
    },
    {
      "cell_type": "markdown",
      "metadata": {
        "id": "EYB9Myjjbs73"
      },
      "source": [
        "# Just recognition\n",
        "* load stored model\n",
        "* run recognition\n"
      ]
    },
    {
      "cell_type": "code",
      "metadata": {
        "id": "wtxGZQkzbA7k",
        "outputId": "af11a966-fb17-40c8-c60a-8912f5670d99",
        "colab": {
          "base_uri": "https://localhost:8080/",
          "height": 66,
          "referenced_widgets": [
            "c697566eef4d41d38edaf2c3d6baf483",
            "7a00e8bd185742908eaa24c3468785ba",
            "8ef4486f9a6c474a9a662dd767835a77",
            "02b1d78b31644a07bdb2eb72a5d28997",
            "ac447372360246288af48f4a4b8d4434",
            "8d3e79b0a91947458287016dd6efc895",
            "6885770e1f5d4bd39e8778d55efe2177",
            "e72e7b7cfc334368aeaf58b2859df1fa"
          ]
        }
      },
      "source": [
        "if not os.path.isdir(\"./data\"):\n",
        "        os.makedirs(\"./data\")\n",
        "        \n",
        "test_url=\"test-clean\"\n",
        "test_dataset = torchaudio.datasets.LIBRISPEECH(\"./data\", url=test_url, download=True)\n"
      ],
      "execution_count": 13,
      "outputs": [
        {
          "output_type": "display_data",
          "data": {
            "application/vnd.jupyter.widget-view+json": {
              "model_id": "c697566eef4d41d38edaf2c3d6baf483",
              "version_minor": 0,
              "version_major": 2
            },
            "text/plain": [
              "HBox(children=(FloatProgress(value=0.0, max=346663984.0), HTML(value='')))"
            ]
          },
          "metadata": {
            "tags": []
          }
        },
        {
          "output_type": "stream",
          "text": [
            "\n"
          ],
          "name": "stdout"
        }
      ]
    },
    {
      "cell_type": "code",
      "metadata": {
        "id": "kmBcOJcVa1M_",
        "outputId": "cd50f574-cf29-4117-8309-92c86f5a59f0",
        "colab": {
          "base_uri": "https://localhost:8080/",
          "height": 67
        }
      },
      "source": [
        "print(type(test_dataset))\n",
        "\n",
        "# https://pytorch.org/docs/stable/data.html\n",
        "\n",
        "use_cuda = torch.cuda.is_available()\n",
        "torch.manual_seed(7)\n",
        "device = torch.device(\"cuda\" if use_cuda else \"cpu\")\n",
        "\n",
        "print(use_cuda)\n",
        "kwargs = {'num_workers': 1, 'pin_memory': True} if use_cuda else {}\n",
        "\n",
        "test_loader = data.DataLoader(dataset=test_dataset,\n",
        "                                batch_size=5, # originaly 20\n",
        "                                shuffle=False,\n",
        "                                collate_fn=lambda x: data_processing(x, 'valid'),\n",
        "                                **kwargs)\n",
        "\n",
        "print(type(test_loader))"
      ],
      "execution_count": 14,
      "outputs": [
        {
          "output_type": "stream",
          "text": [
            "<class 'torchaudio.datasets.librispeech.LIBRISPEECH'>\n",
            "True\n",
            "<class 'torch.utils.data.dataloader.DataLoader'>\n"
          ],
          "name": "stdout"
        }
      ]
    },
    {
      "cell_type": "code",
      "metadata": {
        "id": "hp4CICMOB4Sr",
        "outputId": "749183ce-59d0-442f-8d97-e8b2e142c5e6",
        "colab": {
          "base_uri": "https://localhost:8080/",
          "height": 101
        }
      },
      "source": [
        "\n",
        "\n",
        "#print(model.state_dict())\n",
        "#hparams = {\n",
        "#        \"n_cnn_layers\": 3,\n",
        "#        \"n_rnn_layers\": 5,\n",
        "#        \"rnn_dim\": 512,\n",
        "#        \"n_class\": 29,\n",
        "#        \"n_feats\": 128,\n",
        "#        \"stride\":2,\n",
        "#        \"dropout\": 0.1,}\n",
        "#saveModelAsDictionaryWithOptionalExtra(model, modelFileName, extra=hparams)\n",
        "\n",
        "# test loading\n",
        "modelFileName = filesRootDirectory + \"PhaseImodel_20Iter_test.pt\"\n",
        "\n",
        "checkpoint = torch.load(modelFileName)\n",
        "print(checkpoint.keys())\n",
        "\n",
        "model1 = CreateModel(checkpoint, device)\n",
        "model1.load_state_dict(checkpoint['model_state_dict'])\n",
        "model1.eval()\n",
        "\n",
        "criterion1 = nn.CTCLoss(blank=28).to(device)\n",
        "iter_meter = IterMeter()\n",
        "test(model1, device, test_loader, criterion1, 0, iter_meter, experiment=Experiment(api_key='dummy_key', disabled=True))"
      ],
      "execution_count": 15,
      "outputs": [
        {
          "output_type": "stream",
          "text": [
            "dict_keys(['model', 'model_state_dict', 'n_cnn_layers', 'n_rnn_layers', 'rnn_dim', 'n_class', 'n_feats', 'stride', 'dropout', 'learning_rate', 'batch_size', 'epochs'])\n",
            "\n",
            "evaluating...\n",
            "Test set: Average loss: 0.5925, Average CER: 0.184016 Average WER: 0.5699\n",
            "\n"
          ],
          "name": "stdout"
        }
      ]
    },
    {
      "cell_type": "code",
      "metadata": {
        "id": "y_fcLUeXKHMr",
        "outputId": "e8bf65cf-299d-4722-e2a7-3a36ad692c9b",
        "colab": {
          "base_uri": "https://localhost:8080/",
          "height": 138
        }
      },
      "source": [
        "# test with speller\n",
        "test(model1, device, test_loader, criterion1, 0, iter_meter, speller=Speller(lang='en'), experiment=Experiment(api_key='dummy_key', disabled=True))"
      ],
      "execution_count": 31,
      "outputs": [
        {
          "output_type": "stream",
          "text": [
            "\n",
            "evaluating...\n",
            "{'he': 492, 'born': 5, 'to': 1259, 'wit': 62, 'hout': 12, 'being': 14, 'of': 1447, 'the': 3204, 'bon': 6, 'do': 115, 'gung': 1, 'him': 134, 'busifectid': 1, 'could': 33, 'never': 46, 'and': 1412, 'bend': 3, 'a': 998, 'had': 182, 'tha': 49, 'er': 68, 'firmly': 1, 'te': 110, 'al': 164, 'ore': 15, 'any': 60, 'that': 422, 'might': 15, 'part': 9, 'from': 133, 'his': 396, 'whet': 12, 'ha': 68, 'oat': 4, 'in': 815, 'ate': 2, 'beno': 2, 'n': 41, 'quiting': 1, 'ad': 91, 'at': 259, 'age': 3, 'but': 259, 'unepeckedmly': 1, 'puinthitd': 1, 'serv': 2, 'ack': 1, 'um': 2, 'master': 12, 'mad': 30, 'no': 168, 'pretention': 1, 'inejostbl': 1, 'maed': 5, 'living': 2, 'scklapeta': 1, 'fore': 33, 'stock': 1, 'dote': 4, 'was': 496, 'macles': 1, 'benin': 2, 'mose': 3, 'amvitiost': 1, 'dess': 1, 'ire': 1, 'go': 37, 'days': 1, 'much': 38, 'loved': 3, 'hol': 13, 'so': 167, 'ndsesitly': 1, 'wer': 71, 'ers': 9, 'be': 354, 'un': 46, 'this': 204, 'ar': 142, 'pers': 1, 'coutsscarcsely': 1, 'her': 237, 'man': 75, 'mont': 3, 'ay': 10, 'it': 342, 'must': 49, 'one': 82, 'mor': 51, 'than': 30, 'himself': 11, 'is': 494, 'literary': 2, 'by': 216, 'nowmiins': 1, 'hi': 32, 'order': 8, 'co': 10, 'mo': 17, 'bur': 1, 'gos': 4, 'itself': 7, 'with': 258, 'church': 12, 'we': 150, 'spin': 1, 'af': 87, 'sain': 2, 'amonstartiery': 1, 'aoffasers': 1, 'they': 161, 'their': 115, 'doty': 1, 'most': 28, 'servethac': 1, 'big': 1, 'idle': 1, 'tops': 3, 'servus': 1, 'years': 3, 'tre': 36, 'five': 7, 'das': 9, 'once': 5, 'ind': 157, 'action': 6, 'e': 134, 'an': 372, 'sfomtums': 1, 'old': 9, 'wander': 2, 'on': 331, 'fort': 9, 'sandy': 2, 'rid': 1, 'altogether': 1, 'bring': 7, 'tas': 6, 'would': 22, 'not': 271, 'emmenenses': 1, 'city': 6, 'least': 3, 'visible': 1, 'for': 318, 'fe': 10, 'mils': 6, 'she': 267, 'line': 3, 'hither': 1, 'prsemiply': 1, 'accyupid': 1, 'cost': 4, 'out': 62, 'land': 12, 'pretishepe': 1, 'ant': 11, 'ranke': 1, 'tenet': 1, 'count': 10, 'id': 27, 'charge': 4, 'own': 19, 'prided': 1, 'wich': 38, 'yous': 2, 'custom': 1, 'grater': 3, 'tie': 4, 'trout': 2, 'wint': 2, 'ter': 24, 'mettiturami': 1, 'roust': 1, 'summer': 2, 'hevisititd': 1, 'norther': 1, 'waters': 6, 'ocean': 1, 'supreme': 1, 'moder': 1, 'se': 57, 'sercomsencs': 1, 'coutafor': 1, 'dimenationat': 1, 'forces': 1, 'ot': 57, 'traction': 1, 'rendering': 1, 'mer': 7, 'i': 725, 'able': 2, 'coled': 4, 'work': 15, 'which': 142, 'become': 7, 'mormerdalound': 1, 'should': 23, 'sir': 27, 'han': 23, 'yu': 7, 'dept': 4, 'ford': 3, 'fi': 6, 'per': 12, 'aver': 4, 'continiustly': 1, 'can': 25, 'ednifern': 1, 'im': 37, 'what': 62, 'set': 17, 'another': 8, 'rermarkulble': 1, 'after': 33, 'pondering': 1, 'if': 85, 'wey': 6, 'were': 58, 'farther': 3, 'det': 4, 'fathoms': 2, 'you': 342, 'mus': 7, 'seed': 5, 'tement': 1, 'are': 26, 'nea': 1, 'coset': 1, 'ou': 15, 'yo': 35, 'has': 93, 'ly': 21, 'entered': 7, 'upon': 8, 'ing': 27, 'curing': 2, 'rist': 2, 'sunt': 1, 't': 35, 're': 53, 'don': 31, 'put': 16, 'about': 43, 'disuppqointmet': 1, 'north': 4, 'see': 29, 'going': 12, 'wut': 3, 'hav': 30, 'amply': 1, 'sercamnavigation': 1, 'glob': 1, 'wat': 19, 'servedact': 1, 'spread': 2, 'started': 2, 'its': 50, 'or': 104, 'mosh': 1, 'ats': 6, 'bout': 17, 'am': 70, 'siguisly': 1, 'dredged': 1, 'probit': 1, 'barn': 3, 'tike': 1, 'past': 15, 'life': 18, 'spend': 2, 'wa': 43, 'only': 34, 'retermiygan': 1, 'wet': 14, 'thetroples': 1, 'late': 4, 'as': 358, 'stounding': 1, 'however': 10, 'render': 3, 'men': 57, 'les': 24, 'nothing': 21, 'more': 38, 'yourself': 5, 'xtessivbly': 1, 'change': 7, 'o': 248, 'wust': 2, 'alteration': 1, 'ert': 1, 'sorbet': 1, 'r': 30, 'dase': 3, 'tod': 10, 'took': 12, 'some': 69, 'force': 6, 'ton': 21, 'hab': 4, 'brot': 9, 'ingqurices': 1, 'responded': 2, 'ca': 4, 'fasterfhy': 1, 'shook': 3, 'head': 19, 'clam': 1, 'servadac': 3, 'tellosscope': 1, 'douts': 2, 'now': 100, 'discussion': 1, 'whether': 3, 'wore': 12, 'bored': 3, 'strange': 7, 'fay': 2, 'toity': 1, 'brining': 3, 'presences': 1, 'hit': 10, 'engin': 2, 'sal': 6, 'under': 16, 'wod': 12, 'contrary': 2, 'wins': 4, 'ses': 10, 'both': 12, 'take': 21, 'me': 163, 'bord': 6, 'wily': 2, 'changing': 2, 'first': 22, 'son': 33, 'carid': 3, 'regintinmeg': 1, 'jim': 1, 'bat': 25, 'countimichafs': 1, 'yot': 1, 'right': 7, 'las': 21, 'tay': 4, 'th': 39, 'compleated': 1, 'when': 56, 'bing': 9, 'bors': 1, 'did': 30, 'dot': 15, 'wether': 6, 'remand': 1, 'come': 48, 'cors': 5, 'fast': 3, 'wae': 6, 'top': 8, 'capt': 3, 'tho': 32, 'ridge': 1, 'ros': 5, 'open': 14, 'even': 13, 'here': 48, 'have': 81, 'arn': 5, 'seme': 8, 'then': 127, 'rer': 14, 'covering': 1, 'questions': 1, 'my': 218, 'your': 71, 'require': 1, 'mak': 8, 'tor': 27, 'roun': 6, 'world': 12, 'mettituranian': 1, 'qui': 2, 'sec': 3, 'shore': 3, 'combectity': 1, 'counssoqen': 1, 'lemetationof': 1, 'mast': 5, 's': 27, 'ofbouf': 1, 'water': 14, 'mine': 6, 'w': 10, 'le': 21, 'pager': 1, 'fo': 25, 'red': 24, 'lo': 15, 'chapter': 3, 'origin': 2, 'why': 26, 'education': 1, 'science': 1, 'who': 40, 'doe': 3, 'backer': 1, 'these': 17, 'wlacknissis': 1, 'compos': 2, 'slang': 11, 'ave': 21, 'uninteligebl': 1, 'dark': 6, 'suffer': 5, 'tone': 9, 'herr': 2, 'hes': 18, 'wi': 15, 'spoken': 4, 'til': 6, 'lis': 10, 'tesenteped': 1, 'wid': 4, 'them': 70, 'sang': 5, 'how': 17, 'without': 3, 'pane': 2, 'hart': 18, 'wolds': 1, 'sov': 1, 'every': 18, 'where': 19, 'sence': 6, 'facts': 2, 'form': 12, 'other': 43, 'there': 50, 'word': 11, 'mass': 1, 'rages': 1, 'meat': 1, 'comefiict': 1, 'wrechednis': 1, 'invented': 1, 'com': 10, 'es': 31, 'ever': 38, 'study': 4, 'shady': 2, 'number': 1, 'limens': 1, 'properly': 2, 'wha': 14, 'halt': 1, 'way': 78, 'stat': 14, 'factmaby': 1, 'us': 38, 'geneelterns': 1, 'atauading': 1, 'et': 19, 'altrices': 1, 'la': 9, 'hirartaan': 1, 'forms': 5, 'haf': 12, 'thus': 10, 'mother': 26, 'myansistuplonit': 1, 'ofsosiol': 1, 'de': 60, 'end': 6, 'firmiteas': 1, 'oe': 6, 'bu': 11, 'bises': 2, 'sis': 5, 'affected': 1, 'since': 2, 'theft': 1, 'doter': 6, 'hunger': 1, 'dos': 8, 'nescusaily': 1, 'say': 40, 'joy': 4, 'flame': 3, 'wing': 4, 'moretegigryas': 1, 'ain': 9, 'bo': 29, 'fat': 10, 'shopermany': 1, 'clar': 1, 'fied': 2, 'burnt': 1, 'ornnust': 1, 'may': 14, 'tak': 21, 'stot': 3, 'act': 2, 'worthy': 1, 'simpefetick': 1, 'aceptedin': 1, 'ech': 3, 'day': 38, 'grat': 15, 'gre': 9, 'care': 7, 'hollyjois': 1, 'sunny': 1, 'panter': 1, 'scipepf': 1, 'back': 26, 'coe': 2, 'hers': 9, 'taking': 5, 'bern': 3, 'tes': 3, 'maks': 4, 'flot': 3, 'eu': 2, 'ovbovion': 1, 'som': 24, 'belast': 1, 'worn': 2, 'amentcsbod': 1, 'bi': 18, 'wakxtend': 1, 'amsevaition': 1, 'tiserfvf': 1, 'idsefh': 1, 'very': 48, 'god': 47, 'hard': 8, 'fu': 8, 'same': 23, 'thos': 26, 'inpenetrber': 1, 'pell': 1, 'ho': 48, 'wh': 3, 'blo': 3, 'wee': 8, 'en': 43, 'those': 5, 'whocursets': 1, 'fas': 2, 'wu': 2, 'anflrictitd': 1, 'yes': 29, 'y': 23, 'fri': 2, 'fortis': 1, 'dan': 2, 'p': 5, 'fen': 1, 'tene': 2, 'sopetheg': 1, 'metes': 1, 'last': 18, 'yer': 10, 'con': 33, 'cu': 2, 'ba': 13, 'gen': 5, 'cours': 1, 'ofpuble': 1, 'fars': 1, 'reding': 1, 'mens': 10, 'lit': 7, 'fier': 1, 'speed': 1, 'mit': 8, 'bin': 8, 'far': 19, 'bein': 4, 'tr': 11, 'concideto': 1, 'brenforf': 1, 'look': 16, 'rely': 2, 'well': 14, 'cavern': 2, 'earth': 1, 'sma': 1, 'happy': 13, 'let': 23, 'pas': 3, 'sod': 6, 'thing': 27, 'everything': 2, 'inlanguege': 1, 'thelosoffer': 2, 'tocrtinace': 1, 'onderstarning': 1, 'd': 18, 'soning': 1, 'risemlig': 1, 'nertiguat': 1, 'sone': 8, 'brit': 1, 'fod': 4, 'hen': 11, 'wen': 25, 'sa': 24, 'hat': 34, 'among': 7, 'ie': 19, 'crsiffixk': 1, 'staning': 4, 'ne': 25, 'winnow': 1, 'edollffha': 1, 'toa': 2, 'shoe': 2, 'self': 9, 'l': 20, 'ongdieful': 1, 'bed': 16, 'cat': 12, 'gif': 2, 'ma': 36, 'nout': 9, 'thenticadte': 1, 'time': 59, 'heredalivlry': 1, 'mate': 3, 'wite': 2, 'gae': 6, 'whone': 1, 'mange': 2, 'bight': 1, 'min': 5, 'dedfother': 1, 'dater': 1, 'gin': 2, 'als': 2, 'cod': 8, 'soh': 1, 'sake': 4, 'lay': 13, 'gid': 4, 'wold': 15, 'di': 27, 'cust': 1, 'bote': 1, 'gi': 4, 'impose': 1, 'ous': 4, 'ans': 7, 'thed': 2, 'poling': 2, 'des': 11, 'resale': 1, 'repenting': 1, 'moved': 6, 'ale': 2, 'card': 4, 'rvlecte': 1, 'merse': 1, 'shes': 5, 'stod': 4, 'bee': 4, 'rache': 1, 'heramotions': 1, 'hore': 1, 'dropt': 2, 'dissmaedis': 1, 'boy': 13, 'blessings': 1, 'si': 12, 'blessing': 2, 'apron': 1, 'bore': 3, 'father': 18, 'up': 33, 'wo': 17, 'rich': 7, 'prince': 3, 'ae': 13, 'herclaccnd': 1, 'fin': 6, 'paine': 2, 'price': 1, 'banes': 1, 'river': 3, 'remember': 1, 'cabinet': 1, 'spot': 4, 'fother': 9, 'plan': 3, 'berryconning': 1, 'dout': 8, 'ene': 2, 'omer': 2, 'wind': 3, 'down': 52, 'rome': 6, 'md': 1, 'rong': 5, 'san': 11, 'pressing': 1, 'prusuffic': 1, 'dol': 4, 'nat': 4, 'pity': 4, 'couldtyis': 1, 'mam': 1, 'prest': 2, 'fantinggo': 1, 'ears': 3, 'coverlocatia': 1, 'boe': 3, 'sent': 3, 'grand': 3, 'whichtht': 1, 'great': 34, 'cond': 3, 'fol': 19, 'whit': 24, 'thin': 13, 'clokes': 1, 'stared': 1, 'insolently': 1, 'dahdoren': 1, 'secure': 1, 'carter': 2, 'good': 6, 'thinking': 2, 'abemntook': 1, 'prolimmanery': 1, 'sol': 15, 'bes': 9, 'ceaopitd': 1, 'itd': 10, 'wl': 16, 'dang': 1, 'bhendicake': 1, 'cos': 7, 'ice': 1, 'hos': 9, 'rod': 3, 'folorrived': 1, 'hose': 4, 'impediment': 1, 'oca': 1, 'paren': 1, 'theres': 2, 'kang': 4, 'brassing': 1, 'tars': 4, 'hadbepeated': 1, 'hm': 1, 'cand': 4, 'whole': 1, 'hade': 4, 'comfrmdit': 1, 'moment': 16, 'mnunicad': 1, 'turme': 2, 'backing': 1, 'carlyarlof': 1, 'ware': 8, 'ben': 97, 'always': 5, 'bad': 6, 'cummunikadet': 1, 'po': 5, 'ratissio': 1, 'tou': 7, 'carle': 1, 'deisin': 1, 'into': 32, 'fict': 2, 'mem': 2, 'meverleting': 1, 'herself': 6, 'sen': 2, 'mis': 16, 'face': 22, 'bering': 3, 'hind': 4, 'wad': 4, 'mags': 1, 'wac': 1, 'coud': 6, 'dames': 1, 'ro': 8, 'party': 6, 'offhexelting': 1, 'left': 7, 'doh': 1, 'faces': 1, 'theflape': 1, 'bac': 8, 'front': 3, 'ye': 17, 'scat': 1, 'el': 2, 'lose': 1, 'herreverncs': 1, 'something': 13, 'haven': 3, 'nemackilis': 1, 'before': 15, 'andtranse': 1, 'withthatmeation': 1, 'cingle': 2, 'lorn': 2, 'hed': 10, 'amotion': 1, 'ta': 43, 'sind': 1, 'alone': 2, 'found': 4, 'dor': 25, 'buat': 2, 'locke': 2, 'roed': 1, 'olfuore': 1, 'hin': 18, 'onoparttment': 1, 'sope': 1, 'sos': 3, 'strong': 4, 'col': 6, 'reselvto': 1, 'fes': 3, 'night': 11, 'av': 15, 'friend': 6, 'beng': 8, 'whemerdoful': 1, 'rest': 12, 'tang': 1, 'gret': 4, 'tri': 2, 'cote': 1, 'things': 22, 'tad': 3, 'yos': 1, 'said': 136, 'fainting': 1, 'gie': 1, 'dust': 3, 'eyjactelations': 1, 'mosexpressend': 1, 'dispar': 1, 'gad': 3, 'sines': 2, 'harts': 4, 'sit': 11, 'wiltdedrof': 1, 'redolfu': 1, 'wy': 12, 'gons': 1, 'changed': 4, 'mid': 3, 'weem': 1, 'gurl': 1, 'mos': 15, 'mone': 5, 'rose': 4, 'fro': 10, 'ed': 19, 'rand': 1, 'lother': 1, 'hols': 3, 'chimed': 1, 'hance': 1, 'capacity': 1, 'hartely': 1, 'suckingdid': 1, 'gas': 2, 'bot': 17, 'james': 1, 'bandigll': 1, 'mister': 26, 'hery': 2, 'h': 14, 'sister': 4, 'chal': 2, 'mete': 2, 'hied': 1, 'inters': 2, 'ban': 8, 'lase': 3, 'bye': 1, 'wase': 4, 'slated': 1, 'simifikantly': 1, 'corpasity': 1, 'differs': 2, 'belee': 3, 'sommegucation': 1, 'ask': 2, 'mary': 5, 'taler': 5, 'chel': 2, 'mes': 11, 'brother': 6, 'brace': 2, 'pal': 14, 'fortimadmy': 1, 'misteboderpr': 1, 'laving': 1, 'steding': 1, 'tame': 4, 'greases': 1, 'later': 12, 'mistercreswel': 1, 'approving': 1, 'megrelegication': 1, 'intillget': 1, 'woman': 12, 'mire': 2, 'others': 16, 'vanderprls': 1, 'gra': 6, 'misteffied': 1, 'cobercetions': 1, 'shop': 1, 'alod': 2, 'creminleto': 1, 'such': 41, 'muslosoppitun': 1, 'ides': 1, 'met': 13, 'mi': 16, 'negros': 1, 'mae': 12, 'afpuoye': 1, 'ef': 5, 'antodussing': 1, 'fork': 2, 'wath': 9, 'sisters': 3, 'swap': 1, 'cruel': 1, 'swamp': 1, 'char': 6, 'empty': 2, 'borders': 2, 'love': 23, 'dr': 3, 'wone': 13, 'long': 21, 'ga': 3, 'atter': 1, 'lang': 1, 'ned': 7, 'tangs': 1, 'ten': 9, 'nod': 2, 'creping': 1, 'stold': 4, 'turned': 7, 'pon': 11, 'shed': 2, 'place': 31, 'mas': 7, 'gren': 5, 'tall': 2, 'wents': 1, 'rt': 2, 'sadly': 1, 'hesxblashed': 1, 'mere': 1, 'pot': 7, 'brage': 1, 'wos': 3, 'gathered': 1, 'gliding': 1, 'slioetecrase': 1, 'swom': 1, 'zo': 1, 'whited': 1, 'mists': 1, 'creature': 3, 'firs': 9, 'lif': 10, 'nut': 1, 'coting': 1, 'hopes': 1, 'panted': 1, 'know': 35, 'nu': 2, 'cared': 2, 'sharp': 4, 'just': 23, 'suddngthat': 1, 'shot': 3, 'breth': 7, 'orthstemet': 1, 'logon': 1, 'workkinpan': 1, 'hid': 8, 'witch': 1, 'lowing': 1, 'gaze': 1, 'prplechd': 1, 'ding': 1, 'tn': 2, 'harvest': 1, 'sat': 22, 'weak': 1, 'siver': 3, 'tres': 14, 'tol': 13, 'slimly': 1, 'cher': 3, 'sond': 3, 'burd': 1, 'lies': 2, 'over': 30, 'lect': 2, 'talerdyod': 1, 'st': 2, 'mat': 13, 'mittle': 2, 'ean': 1, 'toking': 2, 'jo': 5, 'stens': 2, 'won': 20, 'plantations': 1, 'thous': 7, 'dolls': 1, 'shited': 1, 'lees': 1, 'gan': 12, 'meu': 1, 'bines': 1, 'tin': 10, 'deme': 1, 'wont': 13, 'morth': 1, 'obo': 1, 'whilly': 1, 'commented': 1, 'mender': 1, 'ow': 4, 'ras': 2, 'use': 7, 'thon': 1, 'kame': 4, 'bit': 16, 'bhut': 13, 'pros': 2, 'intirstid': 1, 'posed': 1, 'bike': 1, 'war': 9, 'thefiotend': 1, 'intisiasom': 1, 'larn': 2, 'useful': 1, 'better': 11, 'hears': 4, 'times': 16, 'ondverbl': 1, 'looking': 5, 'op': 24, 'tos': 5, 'county': 3, 'teach': 1, 'seem': 4, 'clues': 1, 'bose': 2, 'bok': 3, 'yotikls': 1, 'lantepeas': 1, 'yet': 18, 'nong': 1, 'xammidet': 1, 'oud': 2, 'hans': 7, 'om': 25, 'cot': 10, 'fot': 9, 'ugly': 1, 'anywhere': 2, 'ls': 1, 'speaking': 3, 'toll': 2, 'plass': 1, 'ham': 22, 'prove': 4, 'tat': 12, 'think': 21, 'leve': 3, 'france': 3, 'rel': 7, 'support': 2, 'fer': 11, 'li': 6, 'gond': 2, 'ard': 2, 'cami': 1, 'forctiind': 1, 'siling': 1, 'cjennouin': 1, 'falls': 2, 'firstcace': 1, 'wellgelof': 1, 'tan': 12, 'teseckand': 1, 'aper': 1, 'fortioneti': 1, 'knot': 11, 'ged': 2, 'hr': 4, 'lot': 8, 'itibidat': 1, 'sais': 4, 'shine': 2, 'cad': 5, 'comxpicyoe': 1, 'meridtyin': 1, 'thats': 10, 'epprobl': 1, 'rattiffitation': 1, 'icininixprestd': 1, 'princes': 3, 'affection': 2, 'nation': 1, 'extent': 1, 'theybelly': 1, 'tu': 5, 'cloformd': 1, 'marian': 1, 'comity': 1, 'gl': 1, 'port': 3, 'king': 14, 'comes': 5, 'pars': 2, 'evereybutty': 1, 'cals': 3, 'vee': 1, 'service': 2, 'wie': 3, 'prusceation': 1, 'ated': 4, 'oke': 1, 'pares': 1, 'shall': 4, 'cal': 6, 'esprit': 1, 'indherdus': 1, 'gave': 7, 'noleywil': 1, 'na': 4, 'tors': 1, 'mea': 2, 'like': 43, 'ins': 4, 'spek': 5, 'sidi': 1, 'theaters': 1, 'offers': 1, 'turn': 6, 'git': 14, 'filed': 2, 'give': 8, 'sair': 1, 'feare': 3, 'foe': 2, 'prencimbo': 1, 'volt': 1, 'french': 5, 'therepoblic': 1, 'family': 1, 'vary': 6, 'asking': 1, 'iryquir': 1, 'ouf': 6, 'bay': 8, 'make': 22, 'ento': 1, 'finding': 1, 'sim': 1, 'ply': 2, 'sha': 3, 'speld': 1, 'bact': 1, 'bocks': 2, 'best': 9, 'paris': 2, 'loe': 5, 'dere': 6, 'eten': 2, 'mei': 1, 'performing': 1, 'spary': 1, 'umpusont': 1, 'tascwhent': 1, 'dis': 13, 'aberybaty': 1, 'standing': 5, 'manie': 1, 'diveverything': 1, 'anything': 8, 'together': 10, 'bud': 1, 'sides': 5, 'sharing': 1, 'hinder': 1, 'nother': 13, 'sus': 2, 'ol': 17, 'pala': 1, 'mostexact': 1, 'gouodouppetit': 1, 'cor': 2, 'telly': 1, 'selaratif': 1, 'sushoebl': 1, 'lie': 7, 'gog': 1, 'becasyoallways': 1, 'mou': 1, 'nus': 2, 'spoke': 4, 'lins': 3, 'aga': 2, 'gis': 2, 'ron': 7, 'stoup': 3, 'task': 2, 'hae': 6, 'crow': 1, 'stilkenssiter': 1, 'wis': 34, 'awater': 1, 'quire': 2, 'wiches': 1, 'chars': 4, 'nis': 4, 'andor': 1, 'shad': 3, 'arow': 1, 'rappidlygoing': 1, 'dow': 4, 'star': 4, 'case': 6, 'freciedad': 1, 'ty': 8, 'poinktit': 1, 'parts': 3, 'nife': 2, 'pad': 5, 'attention': 2, 'doing': 5, 'ared': 2, 'bons': 2, 'whan': 4, 'jus': 7, 'song': 2, 'shiver': 1, 'mot': 13, 'fine': 13, 'hod': 4, 'bast': 1, 'somas': 2, 'copy': 2, 'm': 9, 'ill': 2, 'nie': 2, 'pat': 5, \"ca'\": 2, 'bol': 4, 'made': 7, \"got's\": 1, 'worligkt': 1, 'rosed': 1, 'tap': 2, 'suppose': 3, \"it's\": 7, 'blue': 1, 'clliterd': 1, 'stap': 1, 'suffuriiosly': 1, 'xfarnedto': 1, 'mon': 17, 'morning': 17, 'nils': 1, 'pe': 6, 'cane': 5, 'got': 9, 'vastly': 1, 'hem': 3, 'caf': 1, 'porns': 1, 'nil': 1, 'fly': 3, 'bort': 2, 'wages': 1, 'bolero': 2, 'chide': 1, 'wied': 6, 'frame': 3, 'doncsuct': 1, 'rushed': 4, 'stars': 7, 'molyfor': 1, 'thretningtopach': 1, 'os': 18, 'ming': 4, 'myself': 12, 'bait': 1, 'ait': 3, 'plat': 3, 'sic': 1, 'tis': 19, 'princesses': 1, 'ge': 7, 'lep': 1, 'seders': 2, 'bod': 1, 'round': 2, 'suit': 1, 'gor': 3, 'oar': 3, 'corder': 1, 'tangle': 1, 'pron': 3, 'thy': 23, 'terf': 1, 'fit': 3, \"wer's\": 1, 'punish': 1, 'butt': 1, 'praty': 1, 'rat': 2, 'knave': 1, 'yell': 1, 'disuplinat': 1, 'sente': 1, 'floras': 1, 'hand': 32, 'dons': 1, 'bel': 4, 'indii': 1, 'bancs': 2, 'sci': 2, 'brake': 3, 'whs': 2, 'hon': 2, 'ski': 1, 'clouds': 1, 'greave': 1, 'courtyard': 1, 'hole': 3, 'gardens': 2, 'roks': 1, 'gon': 14, 'sels': 2, 'sem': 3, 'wonder': 2, 'shor': 6, 'staned': 2, 'batter': 1, 'gus': 2, 'tack': 3, 'ower': 1, 'aclastiong': 1, 'od': 18, 'dances': 1, 'sune': 4, 'sect': 2, 'gory': 1, 'sals': 1, 'teppistrs': 1, 'lone': 8, 'venice': 1, 'soft': 2, 'strone': 3, 'cam': 4, 'black': 12, 'ran': 12, 'sane': 2, 'bars': 2, 'lined': 2, 'sidy': 1, 'stree': 1, 'yon': 7, 'wroslyd': 1, 'crang': 1, 'tanking': 1, 'tined': 2, 'ee': 3, 'chap': 1, 'bola': 1, 'sop': 2, 'gickhisis': 1, 'race': 2, 'sho': 14, 'reform': 1, 'willing': 1, 'gilqulne': 1, 'short': 7, 'blast': 1, 'hrumepits': 1, 'anclastiong': 1, 'trat': 2, 'ont': 6, 'befur': 1, 'pales': 1, 'bans': 1, 'supper': 3, 'sitissin': 1, 'wise': 2, 'replied': 3, 'gods': 2, 'boro': 1, 'tid': 2, 'pinkens': 1, 'gicthisisl': 1, 'bright': 3, 'pere': 2, 'capkinclorly': 1, 'win': 12, 'trownrem': 1, 'scornful': 1, 'tut': 4, 'blasewere': 1, 'simglperson': 1, 'counter': 1, 'grond': 1, 'trot': 2, 'ball': 2, 'palis': 1, 'whory': 1, 'der': 14, 'pr': 8, 'gip': 1, 'ghicisol': 1, 'home': 10, 'clin': 1, 'ame': 5, 'ti': 16, 'att': 1, 'march': 5, 'sata': 1, 'littlwanto': 1, 'army': 1, 'staettilyt': 1, 'il': 9, 'waly': 1, 'gol': 9, 'cans': 1, 'gras': 9, 'inter': 5, 'peng': 1, 'cang': 1, 'oms': 2, 'wark': 2, 'modes': 1, 'suppos': 9, 'sup': 1, 'stake': 4, 'tact': 1, 'scil': 1, 'young': 14, 'colpabatding': 1, 'reason': 7, 'sub': 1, 'gro': 5, 'sins': 8, 'sene': 6, 'girl': 1, 'stay': 9, 'patly': 1, 'partly': 3, 'chace': 2, 'tries': 2, 'stanes': 1, 'hecinmet': 1, 'distrust': 1, 'bhecsation': 1, 'sarge': 1, 'doli': 1, 'ber': 7, 'haps': 7, 'almost': 4, 'aways': 1, 'umesesary': 1, 'fa': 5, 'pomtenence': 1, 'smile': 1, 'coplaceonsy': 1, 'faction': 1, 'suchperns': 1, 'trun': 1, 'children': 4, 'rather': 12, 'spesiuly': 1, 'moreafectwl': 1, 'making': 4, 'pa': 4, 'thiplegur': 1, 'means': 4, 'dols': 1, 'name': 4, 'janes': 1, 'visit': 1, 'quick': 3, 'tome': 8, 'birl': 1, 'glad': 9, 'ane': 5, 'mistry': 2, 'whee': 1, 'rosily': 1, 'della': 1, 'sine': 2, 'vrebhings': 1, 'stad': 4, 'puting': 3, 'tom': 7, 'places': 1, 'ads': 1, 'oct': 1, 'led': 7, 'au': 1, 'sercutiswo': 1, 'dea': 2, 'report': 1, 'pam': 1, 'ac': 8, 'hasty': 1, 'pass': 2, 'ut': 9, 'hut': 3, 'gong': 4, 'roerflrection': 1, 'rast': 1, 'paction': 2, 'inserted': 1, 'chil': 1, 'imprest': 2, 'formed': 1, 'combinations': 1, 'pressions': 1, 'hot': 3, 'impressions': 1, 'jack': 3, 'brothers': 5, 'rownd': 2, 'mous': 3, 'drest': 3, 'tup': 2, 'miser': 2, 'hap': 4, 'lat': 8, 'golden': 4, 'chare': 7, 'sie': 6, 'anders': 8, 'haded': 2, 'clos': 4, 'delly': 1, 'cap': 10, 'hs': 5, 'thro': 2, 'hals': 2, 'all': 25, 'crost': 4, 'yard': 3, 'herd': 13, 'kings': 3, 'stuped': 2, 'unto': 1, 'mothers': 5, 'jump': 1, 'gat': 5, 'get': 9, 'away': 10, 'gr': 4, 'f': 12, 'silver': 1, 'platers': 1, 'wong': 3, 'sparkled': 1, 'decanters': 1, 'hall': 3, 'table': 14, 'cope': 1, 'plates': 2, 'wow': 2, 'sad': 14, 'heavy': 4, 'gold': 9, 'chang': 1, 'kist': 1, 'little': 17, 'braking': 1, 'founded': 1, 'whin': 5, 'blad': 1, 'gone': 4, 'noting': 7, 'enders': 1, 'wok': 4, 'bra': 1, 'soe': 4, 'step': 3, 'courters': 1, 'bowing': 1, 'court': 2, 'herappearencs': 1, 'gildloking': 1, 'complection': 2, 'shapen': 1, 'fon': 2, 'want': 7, 'rachel': 10, 'toty': 1, 'feat': 1, 'poiser': 3, 'caring': 4, 'ir': 8, 'iv': 3, 'surance': 1, 'will': 3, 'uncled': 1, 'common': 1, 'serr': 1, 'polish': 2, 'forte': 1, 'termed': 1, 'yus': 6, 'peterdithes': 1, 'ranged': 2, 'dither': 1, 'jasper': 6, 'linin': 1, 'spar': 2, 'br': 2, 'hee': 2, 'sed': 5, 'takin': 6, 'shure': 2, 'foun': 5, 'dors': 3, 'trone': 1, 'mending': 2, 'mistergoby': 1, 'tens': 1, 'tretlstan': 1, 'fir': 23, 'flor': 6, 'stack': 1, 'dop': 2, 'corn': 1, 'mention': 2, 'hister': 1, 'house': 7, 'cole': 1, 'darling': 1, 'blest': 2, 'soled': 2, 'hend': 3, 'halid': 1, 'spang': 1, 'b': 9, 'sin': 16, 'par': 3, 'palings': 1, 'plane': 2, 'ment': 9, \"she's\": 2, 'mist': 4, 'west': 6, 'sun': 2, 'poring': 1, 'mong': 6, 'lighting': 2, 'tils': 1, 'dye': 1, 'du': 4, 'tharffetoedy': 1, 'mech': 9, 'ase': 4, 'scold': 2, 'moly': 3, 'host': 1, 'help': 3, 'kan': 1, 'thesis': 1, 'holl': 1, 'wald': 3, 'danger': 3, 'heaper': 1, 'direction': 1, 'shat': 2, 'oup': 9, 'pre': 1, 'lett': 1, 'avine': 1, 'sore': 2, 'naderaant': 1, 'hrfamlaes': 1, \"that's\": 2, 'wist': 1, 'yor': 9, 'wan': 3, 'worses': 1, 'farm': 5, 'pos': 2, 'misipoiscer': 1, 'lushthig': 1, 'andbeledingtht': 1, 'interested': 1, 'nor': 11, 'pans': 1, 'gary': 1, 'preach': 1, 'bots': 1, 'rexemeblence': 1, 'ispstily': 1, 'lass': 1, 'nos': 4, 'spinning': 1, 'door': 4, 'tane': 2, 'siting': 1, 'nown': 10, 'vi': 1, 'nese': 1, 'contras': 2, 'dines': 1, 'su': 5, 'guntumossof': 1, 'serve': 3, 'sojestin': 1, 'youd': 2, 'longs': 1, 'breck': 1, 'pel': 2, 'likin': 2, 'int': 8, 'turmes': 2, 'conspanin': 1, 'lime': 1, 'taedorplace': 1, 'ive': 8, 'capel': 1, 'sended': 1, 'tret': 3, 'sord': 4, 'rin': 1, 'nd': 5, 'map': 3, 'metamortisis': 1, 'suckling': 1, 'duing': 3, 'servist': 1, 'smiling': 2, 'theirs': 1, 'our': 8, 'lays': 1, 'warm': 1, 'cast': 6, 'sorts': 2, 'intollsos': 1, 'toit': 3, 'dat': 4, 'esxempery': 1, 'manner': 5, 'kamet': 1, 'sumissiply': 1, 'ifs': 1, 'sait': 3, 'eng': 1, 'poser': 1, 'monny': 2, 'birn': 1, 'tommy': 1, 'stately': 1, 'nock': 2, 'non': 19, 'res': 9, 'icsxpeck': 1, 'wirtdhouthe': 1, 'fililcrishtin': 1, 'chose': 1, 'rush': 2, 'coning': 1, 'contin': 1, 'andproing': 1, 'stand': 14, 'battled': 1, 'dare': 1, 'uncasing': 1, 'nones': 1, 'countimencs': 1, 'wons': 1, 'tine': 2, 'read': 2, 'scan': 1, 'dispositions': 1, 'wr': 4, 'parting': 1, 'dave': 2, 'breading': 1, 'truth': 5, 'scout': 3, 'inbondege': 1, 'whitnessim': 1, 'sech': 3, 'macsevition': 1, 'greatly': 7, 'sah': 1, 'totes': 1, 'nee': 1, 'peaking': 1, 'words': 15, 'wane': 2, 'hadimplisit': 1, 'fath': 3, 'sured': 1, 'ownmexquisitd': 1, 'dae': 2, 'u': 10, 'lee': 4, 'falllawere': 1, 'latter': 3, 'ofboncos': 1, 'wary': 2, 'close': 6, 'yis': 1, 'dy': 1, 'beanddin': 1, 'outhiss': 1, 'solomdeliberation': 1, 'sice': 1, 'singer': 1, 'bear': 3, 'boce': 2, 'motion': 2, 'enter': 4, 'camp': 1, 'gaged': 1, 'counteract': 1, 'prlmesensusxpition': 1, 'enennys': 1, 'dime': 1, 'liked': 1, 'cached': 1, 'done': 5, 'sercomvention': 1, 'ofxervped': 1, 'topreserf': 1, 'confursgin': 1, 'mind': 10, 'pet': 2, 'ani': 1, 'conderfitid': 1, 'pert': 1, 'deuvbelre': 1, 'cen': 1, 'matter': 11, 'duly': 1, 'ise': 3, 'rom': 14, 'otonmtation': 1, 'inselfoncs': 1, 'boom': 1, 'loge': 1, 'fullycomper': 1, 'dificlkes': 1, 'incur': 1, 'trust': 6, 'pandounedt': 1, 'wile': 4, 'ded': 9, 'situation': 1, 'ofpeasfle': 1, 'temper': 2, 'givin': 2, 'soderecte': 1, 'areverforgot': 1, 'hn': 2, 'mord': 4, 'thegreagius': 1, 'mangtanme': 1, 'growed': 1, 'delay': 2, 'cries': 1, 'ecstentof': 1, 'corner': 8, 'hands': 8, 'inpamefol': 1, 'white': 1, 'dine': 2, 'ld': 4, 'skin': 1, 'sped': 1, 'kep': 1, 'ht': 2, 'yod': 1, 'shoutings': 1, 'servtoremine': 1, 'anes': 1, 'menshould': 1, 'tortis': 1, 'outstrip': 1, 'return': 1, 'yourpresence': 1, 'wote': 1, 'happyfortions': 1, 'unces': 1, 'brod': 6, 'dar': 1, 'chin': 2, 'gook': 1, 'motioning': 1, 'oa': 9, 'une': 1, 'steps': 1, 'examen': 1, 'rack': 2, 'avers': 1, 'lines': 2, 'clo': 2, 'scot': 1, 'rendered': 1, 'momentnecesary': 1, 'hackee': 1, 'rane': 1, 'sing': 3, 'wonderful': 1, 'biting': 1, 'sprotwhere': 1, 'omecisportid': 1, 'impression': 1, 'levleom': 1, 'acxpectid': 1, 'movement': 1, 'yuh': 1, 'stoped': 2, 'exam': 1, 'nore': 4, 'outatentev': 1, 'couler': 1, 'wanters': 1, 'trusting': 2, 'onjughment': 1, 'appeals': 1, 'frequent': 1, 'anderrnest': 1, 'run': 1, 'size': 1, \"singer's\": 1, 'discovery': 2, 'brands': 1, 'ling': 6, 'trees': 1, 'evident': 3, 'mark': 4, 'having': 7, 'artal': 1, 'suroundidit': 1, 'savirgegis': 1, 'wild': 16, 'recesses': 1, 'fet': 7, 'sercomefrence': 1, 'each': 9, 'portion': 1, 'forth': 7, 'rout': 2, 'lestderect': 1, 'yow': 1, 'instructions': 1, 'ship': 4, 'manasgurie': 1, 'del': 5, 'ammotionles': 1, 'contentment': 1, 'credit': 1, 'coper': 2, 'heels': 1, 'monster': 1, 'torus': 1, 'nar': 2, 'comment': 1, 'chips': 1, 'dit': 6, 'ci': 1, 'off': 3, 'telae': 1, 'acquorterf': 1, 'orly': 1, 'gomwihthout': 1, 'onparftly': 1, 'ixtrrdnery': 1, 'trs': 4, 'story': 21, 'mee': 2, 'sumescpticisom': 1, 'leaving': 2, 'deck': 1, 'abord': 1, 'wishes': 1, 'handed': 1, 'bray': 1, 'miting': 1, 'forty': 1, 'aboard': 1, 'cabin': 1, 'coul': 6, 'hold': 5, 'agin': 2, 'ist': 4, 'asked': 2, 'commander': 2, 'teld': 3, 'owly': 1, 'stern': 1, 'threseckans': 1, 'ja': 2, 'letter': 9, 'mar': 5, 'acorn': 1, 'trined': 1, 'game': 4, 'galant': 1, 'lad': 7, 'ophakrchips': 1, 'pact': 1, 'masses': 1, 'haling': 1, 'emwankkan': 1, 'huinrever': 1, 'tip': 3, 'pore': 3, 'yar': 4, 'rever': 2, 'withcurastity': 1, 'officer': 1, 'third': 1, 'reast': 2, 'crasiffing': 1, 'banothingyos': 1, 'ofclasfication': 1, 'porlyferset': 1, 'ido': 1, 'tela': 1, 'wall': 1, 'yinavarsed': 1, 'nole': 1, 'pack': 1, \"do't\": 4, 'bother': 2, 'counting': 1, 'cace': 6, 'grown': 2, 'raged': 1, 'slap': 1, 'fr': 14, 'ren': 3, 'feu': 1, 'ors': 6, 'large': 9, 'homely': 2, 'women': 4, 'nane': 2, 'ponshnent': 1, 'pory': 1, 'seventy': 1, 'dard': 1, 'raver': 1, 'lan': 4, 'marbly': 1, 'inger': 1, 'slipt': 1, 'coming': 6, 'hartly': 1, 'colled': 2, 'abo': 3, 'became': 3, 'fract': 1, 'dod': 6, 'beting': 2, 'tim': 10, 'concern': 1, 'starting': 1, 'nt': 1, 'jeakcrobs': 1, 'misters': 1, 'fathom': 1, 'six': 4, 'nemo': 2, 'nerlyparichis': 1, 'groingdpression': 1, 'terse': 1, 'mout': 2, 'fhentlyy': 1, 'poler': 1, 'fascination': 1, 'den': 2, 'inplellentiel': 1, 'rite': 1, 'forsuchhousintest': 1, 'dhescoverrers': 1, 'lak': 7, 'ushetnotderferr': 1, 'poller': 1, 'ser': 5, 'ic': 9, 'comcotionlede': 1, 'pongeditions': 1, 'hey': 4, 'sae': 3, 'lives': 1, 'clame': 1, 'diffecot': 1, 'beyond': 1, 'meter': 3, 'inches': 1, 'cur': 4, 'tecxterse': 1, 'sparkling': 1, 'supporting': 2, 'profess': 1, 'cosey': 1, 'crasifir': 1, 'lant': 2, 'const': 1, 'liter': 3, 'quart': 1, 'gram': 1, 'ounce': 1, 'meraccoh': 1, 'meatituranian': 1, 'sum': 2, 'remforsment': 1, 'len': 3, 'losaponlit': 1, 'boing': 1, 'hoses': 2, 'hovitents': 1, 'cose': 4, 'perth': 1, 'sixtosin': 1, 'fers': 3, 'former': 1, 'covenanters': 1, 'secrtlyfoming': 1, 'stinincited': 1, 'tent': 4, 'precippetaht': 1, 'wises': 1, 'mnobemins': 1, 'prose': 1, 'worsted': 1, 'lod': 4, 'antes': 1, 'tinty': 1, 'peaces': 2, 'sif': 2, 'por': 16, 'heps': 1, 'inxperiints': 1, 'hove': 4, 'bt': 3, 'porty': 2, 'herying': 1, 'moler': 1, 'toturmin': 1, 'succes': 1, 'conciderobl': 2, 'mac': 1, 'irs': 3, 'proposed': 1, 'daring': 2, 'verity': 1, 'aneloltitykancs': 1, 'bheminmyn': 1, 'theponter': 1, 'locky': 1, 'icxpectid': 1, 'suppriined': 1, 'afrikengd': 1, 'coven': 1, 'iccestibl': 1, 'fred': 1, 'superi': 2, 'hel': 6, 'prison': 3, 'spirit': 2, 'inte': 4, 'distrest': 1, 'thee': 4, 'polanentery': 1, 'mudrislyacshecuted': 1, 'stiction': 1, 'fanes': 1, 'loberenos': 1, 'person': 4, 'too': 8, 'hong': 2, 'uther': 1, 'vale': 2, 'indeed': 3, 'platy': 1, 'dissieplen': 1, 'plans': 1, 'sits': 2, 'hf': 1, 'maser': 1, 'seles': 1, 'ts': 1, 'manyaolfices': 1, 'frociletated': 1, 'fiction': 1, 'tem': 5, 'vis': 1, 'grin': 1, 'rang': 8, 'welitiurns': 1, 'prudent': 1, 'compimith': 1, 'thacomations': 1, 'lord': 11, 'pray': 5, 'bor': 4, 'begins': 2, 'previstnasiod': 1, 'kin': 3, 'conciderwl': 1, 'usstofteonces': 1, 'ting': 3, 'wisxpect': 1, 'insteplacit': 1, 'apprisinner': 1, 'goodnatur': 1, 'cold': 8, 'fond': 5, 'teng': 2, 'lish': 1, 'incident': 1, 'possed': 1, 'seit': 2, 'lens': 1, 'came': 17, 'hero': 2, 'pubic': 1, 'hath': 1, 'given': 5, 'gift': 2, 'cecttllint': 1, 'turms': 2, 'bepessest': 1, 'incompatible': 1, 'sc': 2, 'asiomogind': 1, 'parly': 2, 'town': 2, 'demanded': 2, 'evendermatdi': 1, 'nol': 2, 'mayed': 1, 'faring': 1, 'fad': 2, 'promise': 1, 'hote': 2, 'began': 11, 'nacxdag': 1, 'pross': 1, 'slept': 2, 'escort': 2, 'crose': 3, 'ni': 5, 'taces': 1, 'upertunades': 1, 'necessities': 1, 'rits': 2, 'sometimes': 5, 'outvightke': 1, 'insseinment': 1, 'factions': 1, 'imegernt': 1, 'vine': 1, 'consxparicy': 1, 'tearetriao': 1, 'legislature': 1, 'misierbl': 1, 'rage': 1, 'gros': 3, 'scused': 1, 'bortherroffians': 1, 'ofcaptin': 1, 'martin': 2, 'inprtecttin': 1, 'prom': 1, 'intentions': 1, 'holed': 3, 'leven': 3, 'worth': 3, 'foot': 1, 'sommer': 4, 'leaders': 1, 'conpirescy': 1, 'doven': 2, 'ease': 2, 'stean': 1, 'stopt': 2, 'chapters': 1, 'onelyteche': 1, 'indevigul': 1, 'wd': 1, 'startllayng': 1, 'aguerget': 1, 'bar': 3, 'spreng': 1, 'partis': 3, 'derillovans': 1, 'andtoot': 1, 'prisoner': 1, 'apfterwers': 1, 'cansiscity': 1, 'pan': 4, 'refused': 1, 'emmybration': 1, 'manly': 2, 'roi': 1, 'dif': 2, 'ey': 2, 'thelenthings': 1, 'murders': 1, 'weld': 6, 'amponceble': 1, 'ixceppin': 1, 'shale': 2, 'ki': 1, 'alt': 3, 'worse': 5, 'theworshd': 1, 'array': 1, 'slavery': 1, 'dice': 1, 'compt': 1, 'writ': 1, 'contempt': 2, 'thegaity': 1, 'meserileletion': 1, 'alco': 1, 'eer': 1, 'trues': 1, 'inddimentions': 1, 'sevindyfent': 1, 'pied': 1, 'incs': 1, 'prbitetay': 1, 'frey': 1, 'diner': 3, 'oner': 2, 'lagowlity': 1, 'trminationto': 1, 'leased': 2, 'tel': 9, 'varios': 1, 'ap': 12, 'present': 7, 'clon': 1, 'towns': 1, 'rings': 1, 'ofcincy': 1, 'curage': 1, 'homes': 4, 'jones': 1, 'ax': 1, 'governerreater': 1, 'martiulto': 1, 'seteretorial': 1, 'nit': 3, 'sever': 2, 'mand': 4, 'mats': 1, 'bals': 1, 'fired': 2, 'stone': 1, 'frerjenelsuvmes': 1, 'quiring': 1, 'noxpesiol': 1, 'strenth': 1, 'whar': 1, 'ord': 2, 'tothousan': 1, 'borteruffyan': 1, 'reserve': 1, 'lin': 7, 'esolyturn': 1, 'scale': 1, 'taretoriyl': 1, 'sham': 2, 'ginunceration': 1, 'topetilovment': 1, 'cotingnefy': 1, 'cation': 1, 'taretoril': 1, 'bodeslase': 1, 'tons': 2, 'branded': 1, 'abllitiunusom': 1, 'toi': 2, 'thuprolet': 1, 'puicedow': 1, 'prsionlal': 1, 'ixxplosin': 1, 'pretqoutlydeth': 1, 'miseryrever': 1, 'amon': 4, 'borteruppyin': 1, 'mode': 1, 'ns': 1, 'free': 1, 'sta': 2, 'fact': 10, 'dance': 2, 'bro': 4, 'thirty': 1, 'members': 3, 'inserectiones': 1, 'quair': 1, 'sharps': 1, 'rifles': 1, 'rot': 3, 'hint': 1, 'goer': 1, 'def': 1, 'fie': 3, 'fammiyce': 1, 'bae': 3, 'brust': 1, 'lick': 3, 'lash': 2, 'groned': 1, 'cate': 2, 'cousin': 2, 'mike': 1, 'happening': 2, 'along': 3, \"don't\": 3, 'dont': 8, 'wish': 9, 'simply': 3, 'bent': 3, 'dover': 2, 'moth': 2, 'didnt': 1, 'cant': 9, 'seeing': 1, 'again': 1, 'roftlyin': 1, 'haled': 1, 'whish': 2, 'trmllisly': 1, 'alaxanderdid': 1, 'wrong': 1, 'paced': 2, 'sher': 1, 'liting': 2, 'quivered': 1, 'tortured': 1, 'imaginable': 1, 'tave': 1, 'misery': 3, 'ether': 3, 'pose': 1, 'tore': 1, 'fire': 12, 'opisitsid': 1, 'drone': 1, 'blushed': 1, 'cart': 2, 'confusion': 1, 'hamselfanggwily': 1, 'snow': 1, 'ago': 1, 'blase': 1, 'comebartly': 1, 'happen': 4, 'terne': 1, 'mene': 2, 'mather': 1, 'tenge': 1, 'didn': 2, 'sight': 3, 'ce': 2, 'sicxcesl': 1, 'queens': 1, 'teet': 1, 'toe': 5, 'copinencsut': 1, 'beginning': 1, 'sensible': 1, 'loke': 4, 'prplecithy': 1, 'finder': 1, 'someprimse': 1, 'crdissisinsceiius': 1, \"e's\": 1, 'ars': 1, 'meer': 2, 'trmentisewly': 1, 'teli': 1, 'slender': 2, 'refoot': 1, 'gile': 1, 'theqlayt': 1, 'sining': 2, 'leke': 2, 'thilly': 1, 'sar': 1, 'gils': 2, 'isn': 1, 'prekenswlh': 1, 'qua': 1, 'vest': 2, 'winifurd': 1, 'tole': 6, 'thetiteler': 1, 'astor': 1, 'withe': 2, 'easy': 5, 'lap': 3, 'mistebartle': 1, 'elxandere': 1, 'enginer': 1, 'possibly': 1, 'halboucht': 1, 'icihtet': 1, 'dil': 1, 'lam': 2, 'many': 13, 'worm': 5, 'pertikelelly': 1, 'rare': 1, 'sharply': 1, 'vel': 1, 'alexander': 1, 'parse': 1, \"the'se\": 1, 'member': 3, 'gish': 1, 'coopery': 1, 'flowers': 3, 'youth': 3, 'hir': 1, 'crs': 1, 'delit': 1, 'stof': 1, 'two': 1, 'rear': 1, 'ducplengcs': 1, 'ev': 1, 'oft': 3, 'sids': 3, 'thou': 15, 'sory': 3, 'tur': 2, 'answered': 3, 'chancsgent': 1, 'tell': 2, 'wot': 7, 'jelly': 1, 'sav': 1, 'year': 2, 'mikcovr': 1, 'rived': 2, 'square': 1, 'pry': 1, 'frenchgrl': 1, 'july': 1, 'gether': 4, 'jolly': 1, 'trike': 1, 'misty': 1, 'flacks': 1, 'bis': 1, 'nose': 1, 'touks': 1, 'coing': 1, 'band': 4, 'elts': 1, 'ear': 4, 'chance': 3, 'finished': 1, 'acxsep': 2, 'greanmmothr': 1, 'play': 7, 'hafevher': 1, 'smoke': 2, 'hildanor': 1, 'barly': 1, 'bell': 1, 'dear': 2, 'comvercatiol': 1, 'chan': 1, 'overs': 1, 'caller': 1, 'thank': 5, 'plant': 2, 'jove': 1, 'bottles': 1, 'hoscurdce': 1, 'andes': 1, 'edison': 1, 'ahead': 1, 'woe': 5, 'condition': 6, 'station': 3, 'commrsialpart': 1, 'ken': 1, 'apreatiderf': 1, 'dissiplrn': 1, 'alectrlitic': 1, 'meader': 1, 'axemplfise': 1, 'poe': 2, 'dekconpos': 1, 'torn': 1, 'fere': 6, 'lamps': 2, 'tels': 2, 'dong': 3, 'arlrectrit': 1, 'bosh': 1, 'bhicissotudes': 1, 'onto': 2, 'lied': 1, 'amaginoblye': 1, 'ws': 3, 'springy': 1, 'anomouscly': 1, 'try': 2, 'wire': 3, 'dissofligding': 1, 'ombuctus': 1, 'pul': 2, 'wime': 1, 'construction': 1, 'andequcsentel': 1, 'evisonahad': 1, 'stoln': 1, 'bl': 6, 'coveredbyn': 1, 'nanginventuo': 1, 'lamp': 1, 'staldrou': 1, 'sidecoustemers': 1, 'stret': 5, 'nigh': 1, 'thatd': 3, 'problem': 2, 'solved': 1, 'chold': 1, 'thelinading': 1, 'ere': 6, 'notexpence': 1, 'stations': 1, 'femantiel': 1, 'oh': 2, 'seling': 1, 'sojeatid': 1, 'simple': 1, 'reke': 1, 'curet': 1, 'dags': 1, 'horse': 4, 'regelation': 2, 'intolierento': 1, 'satirsfliom': 1, 'clossexamenation': 1, 'mikgriscot': 1, 'test': 2, 'gabenomeder': 1, 'soll': 2, 'lige': 3, 'dering': 2, \"a's\": 1, 'fry': 1, 'wens': 3, 'swekthem': 1, 'mhegrect': 1, 'smother': 1, 'lim': 1, 'evisorealise': 1, 'whirs': 2, 'country': 3, 'popely': 1, 'safe': 3, 'profilobl': 1, 'alectercul': 1, 'splolcurn': 1, 'cored': 2, 'foryxamminatio': 1, 'sobtitipen': 1, 'shroretha': 1, 'ley': 1, 'around': 1, 'din': 5, 'banters': 1, 'diving': 1, 'grated': 1, 'vin': 1, 'olartrssityy': 1, 'sickanvary': 1, 'thexacportde': 1, 'ackurotd': 1, 'beasiblld': 1, 'opera': 1, 'alter': 2, 'urged': 2, 'tit': 5, 'anon': 1, 'thistredison': 1, 'forme': 5, 'mospedosh': 1, 'topractis': 1, 'meny': 11, 'data': 1, 'worokkid': 1, 'rk': 1, 'eaengim': 1, 'fromsurvis': 1, 'colictionoed': 1, 'reman': 2, 'inpractegly': 1, 'staled': 1, 'anedhat': 1, 'energy': 2, 'contraction': 2, 'tumtipekation': 1, 'alectorplaing': 1, 'duppisetion': 1, 'ure': 1, 'easily': 1, 'hence': 2, 'longer': 4, 'used': 2, 'wir': 3, 'hapkinsin': 1, 'bolt': 2, 'ock': 1, 'benders': 1, 'practticgye': 1, 'december': 1, 'gey': 1, 'inninterseting': 1, 'ofvefule': 1, 'ininstitud': 1, 'ofblectercolengte': 1, 'practiclixpiryincs': 1, 'wutafirction': 1, 'variebollity': 1, 'woan': 1, 'ratas': 1, 'mang': 1, 'cid': 2, 'vryiabollity': 1, 'increased': 1, 'disuse': 1, 'parte': 2, 'rober': 1, 'viking': 2, 'whare': 4, 'prow': 1, 'carve': 2, 'norway': 1, 'spark': 1, 'pound': 1, 'fists': 1, 'spring': 6, 'glar': 1, 'rasklol': 1, 'haring': 1, 'coses': 2, 'abraicelth': 1, 'shame': 1, 'hang': 1, 'nine': 2, 'trapt': 1, 'stingy': 2, 'ships': 2, 'fingers': 1, 'went': 8, 'frolic': 2, 'satd': 1, 'ais': 7, 'stood': 2, 'noswordreaching': 1, 'youarever': 1, 'haves': 1, 'sunk': 1, 'drink': 3, 'dant': 1, 'bank': 3, 'rase': 1, 'horns': 1, 'raze': 1, 'crops': 1, 'meals': 1, 'working': 2, 'belly': 3, 'fren': 4, 'trest': 1, \"farmer's\": 1, 'baby': 1, 'smiled': 3, 'winer': 1, 'crane': 1, 'thesupper': 1, 'biking': 1, 'nanes': 2, 'bal': 3, 'bench': 1, 'bred': 1, 'da': 6, 'drank': 1, 'morn': 2, 'farmer': 3, 'bayed': 1, 'laved': 1, 'luck': 1, 'thralls': 1, 'ringing': 1, 'puther': 1, 'hammer': 1, 'thor': 1, 'grim': 3, 'fra': 1, 'yours': 4, 'flashed': 2, 'fease': 1, 'beare': 1, 'cried': 8, 'wove': 1, 'joke': 1, 'acts': 1, 'expected': 1, 'ich': 1, 'formly': 1, 'sount': 1, 'comppermiing': 1, 'regions': 1, 'amarecon': 1, 'grove': 1, 'sime': 2, 'sollimmenty': 1, 'tract': 1, 'room': 5, 'dotinglyfro': 1, 'gain': 1, 'frown': 1, 'coly': 1, 'ligvliis': 1, 'sou': 1, 'bony': 1, 'inblichare': 1, 'fair': 2, 'grate': 1, 'erforthing': 1, 'prochfuly': 1, 'sturty': 1, 'masterly': 1, 'moe': 3, 'dre': 2, 'nowt': 4, 'mettacrouf': 1, 'fare': 5, 'comer': 2, 'gise': 1, 'sons': 3, 'notes': 1, 'frerturne': 1, 'ur': 4, 'poppelarfrase': 1, 'amepretionof': 1, 'unchuarblmes': 1, 'thecerffus': 1, 'prised': 1, 'hern': 1, 'bros': 2, 'whf': 1, 'pances': 1, 'scrived': 1, 'hergeerly': 1, 'cha': 2, 'small': 1, 'tllightlill': 1, 'sly': 2, 'notions': 1, 'arerthingin': 1, 'pliesonly': 1, 'ingglasheers': 1, 'conversation': 1, 'tale': 1, 'amber': 1, 'slonkcae': 1, 'protest': 1, 'ambrstiis': 1, 'peace': 6, 'lefter': 1, 'woke': 1, 'glass': 1, 'dore': 5, 'seven': 6, 'owl': 1, 'formes': 1, 'rink': 1, 'erpraticlygid': 1, 'whame': 1, 'sisrerlahto': 1, 'strouctiur': 1, 'fisyologh': 1, 'pomeportents': 1, 'thof': 1, 'intens': 1, 'sliping': 1, 'polys': 2, 'closed': 1, 'pempulssitly': 1, 'bely': 3, 'slae': 1, 'pop': 3, 'ours': 3, 'mans': 6, 'wilt': 4, 'comper': 3, 'ted': 3, 'richeslotic': 1, 'hared': 3, 'winking': 1, 'polly': 3, 'splendid': 1, 'bather': 1, 'doit': 2, 'pronszye': 1, \"poly's\": 1, 'pussy': 1, 'sall': 1, 'youmust': 1, 'hone': 3, \"won't\": 3, 'pie': 2, 'space': 4, 'jap': 1, 'jaspers': 1, 'pace': 2, 'somehow': 2, 'wash': 2, 'bere': 3, 'somewhere': 1, 'fears': 2, 'workedtet': 1, 'paly': 1, 'hadn': 1, 'frons': 1, 'semes': 5, 'cine': 1, 'pick': 3, 'softly': 4, 'ranchafter': 1, 'drop': 1, 'driving': 1, 'puffy': 1, 'clods': 1, 'season': 1, 'tired': 5, 'ifeumoment': 1, 'swing': 1, 'cut': 2, 'sere': 2, 'pol': 3, 'corners': 4, 'rad': 1, 'em': 3, 'golttiimes': 1, 'nice': 2, 'returned': 4, 'shortly': 1, 'car': 2, 'orcturdt': 1, \"o't\": 1, 'linens': 1, 'feal': 1, \"an't\": 1, 'splashed': 1, \"whey's\": 1, 'tolt': 2, 'lof': 3, 'swee': 1, 'sipid': 1, 'pen': 3, 'gase': 1, 'roses': 1, 'spicy': 1, 'ra': 1, 'decided': 1, 'prayed': 1, 'chary': 1, 'surely': 1, 'handful': 1, 'bet': 7, 'wife': 6, 'shap': 4, 'marks': 2, 'gravs': 1, 'fels': 2, 'yusolal': 1, 'mut': 2, \"brow'\": 1, 'grout': 1, 'los': 4, 'brave': 1, 'looks': 3, 'jeckerbord': 1, 'bouts': 1, 'toed': 2, 'divied': 1, 'alexanterberson': 1, 'alaxangar': 1, 'died': 4, 'cencouwnd': 1, 'tot': 6, 'boson': 1, 'hosses': 1, 'vans': 2, 'barns': 1, 'acrose': 1, 'brown': 4, 'prod': 1, 'caus': 1, 'pall': 5, 'pin': 1, 'stormy': 1, 'sett': 1, 'please': 2, 'meri': 2, 'mild': 1, 'stoot': 1, 'osage': 1, 'haster': 1, 'prin': 2, 'slave': 1, 'scare': 2, 'screamed': 1, 'cosed': 2, 'quake': 1, 'costly': 1, 'rd': 1, 'chruveriy': 1, 'wases': 1, 'gleaming': 1, 'armer': 1, 'mear': 1, 'brestplaht': 1, 'manyvariations': 1, 'suegustid': 1, 'golding': 1, 'belling': 1, 'hame': 1, 'residences': 1, 'nah': 1, 'anamberavoupper': 1, 'dosendencse': 1, 'planted': 1, 'reverend': 1, 'sevener': 1, 'pienincela': 1, 'thelogigl': 1, 'ride': 1, 'annals': 1, 'baft': 1, 'tourpren': 1, 'timvoriter': 1, 'somebraication': 1, 'pockilerluction': 1, 'sformervolar': 1, 'stepper': 1, 'held': 3, 'onnerbol': 1, 'imfllentel': 1, 'collonnil': 1, 'afverlinquished': 1, 'atlantic': 1, 'soil': 1, 'frsobcistencs': 1, 'yea': 2, 'within': 2, 'godly': 1, 'minister': 1, 'pacified': 1, 'matters': 3, 'intrensxicwat': 1, 'pester': 1, 'chile': 1, 'hardly': 6, 'contest': 1, 'legisleatdef': 1, 'lut': 3, 'contrive': 1, 'troth': 2, 'seemed': 2, 'ab': 3, 'peter': 1, 'frothy': 1, 'draft': 1, 'archd': 1, 'eh': 1, 'tower': 1, 'owverdtheam': 1, 'med': 3, 'louk': 1, 'cerfllyrot': 1, 'bid': 2, 'intonowity': 1, 'creat': 3, 'shaking': 2, 'veri': 1, 'treason': 1, 'hemvorderd': 1, 'gloves': 2, 'hy': 3, 'purcinanche': 1, 'power': 4, 'afars': 1, 'grans': 2, 'quet': 2, 'aged': 1, 'lusuriyan': 1, 'dep': 3, 'tents': 2, 'pare': 1, 'hop': 3, 'lader': 2, 'storm': 2, 'resh': 1, 'child': 6, 'sothelirtleouf': 1, 'parnistkuces': 1, 'lesion': 1, 'outerly': 1, 'mhisfortiens': 1, 'tender': 1, 'vor': 1, 'dicipplenm': 1, 'mined': 10, 'acourdice': 1, 'stend': 2, 'grot': 1, 'thetine': 1, 'intelligence': 1, 'quivering': 1, 'tiny': 1, 'lubing': 1, 'ering': 1, 'sot': 5, 'spekcagan': 1, 'consiculence': 1, 'lovely': 2, 'whoas': 1, 'buss': 1, 'mudtabelithy': 1, 'indicated': 2, 'bouk': 1, 'telligents': 1, 'ixplickible': 1, 'flo': 2, 'questioning': 1, 'sch': 1, 'momes': 1, 'grace': 10, 'oas': 2, 'tire': 2, 'gare': 1, 'childes': 1, 'ferth': 1, 'image': 2, 'art': 6, 'banish': 1, 'fae': 2, 'wort': 5, 'whirl': 1, 'scatters': 1, 'humid': 1, 'blay': 1, 'springs': 1, 'revives': 1, 'tams': 1, 'sted': 2, 'graces': 1, 'showring': 1, 'frits': 1, 'fant': 1, 'clod': 4, 'kindldthat': 1, 'rising': 4, 'tron': 3, 'shrine': 1, 'holly': 4, 'shin': 1, 'els': 1, 'risen': 1, 'cloud': 3, 'shod': 4, 'voice': 4, 'vales': 1, 'pancsivfe': 1, 'hover': 4, 'matis': 1, 'thow': 1, 'fed': 2, 'het': 2, 'nots': 2, 'voce': 1, 'shining': 2, 'fined': 4, 'parking': 1, 'reflection': 1, 'thehumpl': 1, 'weed': 1, 'wop': 2, 'lily': 1, 'lods': 1, 'sols': 3, 'cund': 1, 'loves': 2, 'onmcroud': 1, 'wits': 3, 'fold': 3, 'proud': 1, 'neth': 2, 'tremble': 1, 'porn': 1, 'stare': 1, 'nay': 5, 'tried': 4, 'light': 14, 'gild': 1, 'path': 3, 'meng': 1, 'lend': 1, 'passion': 2, 'putto': 1, 'gres': 2, 'placed': 2, 'dits': 1, 'told': 5, 'hew': 1, 'hastily': 1, 'sorrow': 1, 'dast': 1, 'strive': 2, 'forrit': 1, 'tanks': 1, 'siren': 1, 'rerneoble': 1, 'ring': 1, 'planer': 1, 'mussolmens': 1, 'list': 1, 'angel': 2, 'lover': 1, 'beloved': 1, 'cis': 2, 'coms': 3, 'tern': 3, 'drat': 1, 'range': 1, 'lobi': 1, 'lost': 8, 'ales': 3, 'dork': 1, 'reality': 1, 'angry': 2, 'marge': 1, 'bus': 3, 'toys': 1, 'hunderencs': 1, 'hunvrencs': 1, 'boshes': 1, 'ivin': 1, 'bords': 1, 'already': 1, 'tree': 11, 'sunshine': 1, 'mice': 3, 'inde': 1, 'loft': 2, 'rejoice': 3, 'stories': 1, 'glittering': 1, 'ground': 6, 'hare': 5, 'happens': 1, 'moro': 1, 'fan': 4, 'glorious': 1, 'rejoicing': 1, 'waled': 2, 'branches': 1, 'squeak': 2, 'revery': 1, 'trembled': 1, 'lop': 1, 'recked': 1, 'carts': 1, 'horsesdragd': 1, 've': 4, 'weds': 2, 'hebe': 1, 'corer': 1, 'grander': 1, 'whats': 3, 'rander': 1, 'ornament': 1, 'moon': 1, 'splender': 1, 'miifficece': 1, 'oder': 3, 'pang': 1, 'hom': 7, 'also': 8, 'bom': 1, 'shone': 1, 'laree': 1, 'cimes': 1, 'kind': 1, 'tods': 1, 'blazed': 1, 'dounxstas': 1, 'sunbeams': 1, 'winter': 1, 'mening': 2, 'decperatid': 1, 'acor': 1, 'core': 1, 'atom': 1, 'meant': 1, 'rats': 1, 'sam': 5, 'dopotsom': 1, 'flamed': 1, 'splendidly': 1, 'copper': 1, 'deeply': 1, 'presence': 2, 'stage': 4, 'halo': 2, 'massrpece': 1, 'lirghspuirster': 1, 'timed': 1, 'mel': 3, 'brer': 2, 'mod': 4, 'themes': 1, 'question': 3, 'wither': 2, 'nobler': 1, 'slings': 1, 'hearlelin': 1, 'mogninli': 1, 'stag': 1, 'corse': 10, 'appraciad': 1, 'save': 5, 'coenfaert': 1, 'lored': 3, 'tuppeny': 1, 'frankly': 1, 'alay': 1, 'granted': 1, 'sacinblyt': 1, 'innoppisition': 1, 'falolque': 1, 'filoliqly': 1, 'somlextent': 1, 'silage': 1, 'j': 1, 'finer': 1, 'drommitist': 1, 'moderns': 1, 'hiver': 1, 'obcertity': 1, 'thesiende': 1, 'twi': 1, 'sets': 1, 'contrerdice': 1, 'dobl': 3, 'fid': 1, 'hamlet': 1, 'perfection': 1, 'begin': 6, 'soliloquy': 1, 'obe': 1, 'sort': 2, 'hound': 1, 'becomes': 2, 'moments': 1, 'successful': 1, 'baterkuopa': 1, 'happing': 1, 'mall': 1, 'ortafver': 1, 'moss': 1, 'kepingwhat': 1, 'secritistery': 1, 'noh': 1, 'tra': 1, 'hens': 1, 'cop': 2, 'thedengmone': 1, 'oppercerkld': 1, 'ally': 1, 'nufforpunch': 1, 'saiglretk': 1, 'upper': 1, 'waist': 1, 'buster': 1, 'sage': 1, 'wonecalled': 1, 'mars': 1, 'badly': 1, 'fl': 4, 'becarctrs': 1, 'comepittencs': 1, 'parded': 1, 'hak': 4, 'glided': 2, 'darted': 1, 'umfortiont': 1, 'dec': 1, 'hading': 1, 'despirly': 1, 'dock': 1, 'thedreful': 1, 'semeed': 1, 'awing': 1, 'perch': 1, 'fee': 1, 'maro': 1, 'torrent': 1, 'indserck': 1, 'shout': 1, 'brack': 1, 'wight': 2, 'wangs': 1, 'brest': 1, 'hest': 1, 'flu': 2, 'branch': 2, 'prie': 1, 'bushes': 1, 'jisttini': 1, 'tal': 5, 'spas': 1, 'gout': 1, 'drad': 1, 'beak': 2, 'chack': 1, 'wings': 1, 'axxplickiblfh': 1, 'paling': 1, 'dodd': 1, 'frequnterofe': 1, 'leaping': 1, 'tossing': 1, 'wert': 2, 'hesitated': 1, 'intent': 1, 'closer': 1, 'withing': 1, 'grasping': 1, 'reach': 1, 'rinding': 1, 'scattered': 1, 'thespare': 1, 'tuck': 1, 'coking': 1, 'gel': 2, 'tend': 3, 'dolors': 1, 'different': 3, 'altering': 1, 'roin': 1, 'fresh': 2, 'gates': 3, 'intellighin': 1, 'asensitd': 1, 'mott': 1, 'whose': 2, 'sined': 3, 'check': 3, 'cennethh': 1, 'sixty': 2, 'farvyoe': 1, 'mals': 1, 'theyjuup': 1, 'erer': 1, 'sich': 1, 'anerangeven': 1, 'lest': 4, 'lock': 1, 'disxpiioustion': 1, 'whatd': 1, 'merely': 1, 'anno': 1, 'crim': 1, 'lats': 1, 'gats': 1, 'states': 2, 'aconsqurence': 1, 'rash': 1, 'havent': 2, 'lets': 1, 'beth': 10, 'doling': 1, 'onclecjon': 1, 'forforton': 1, 'prostincation': 1, 'victim': 1, 'forge': 1, 'oangraciosly': 1, \"gan'\": 1, 'called': 1, 'youre': 2, 'wye': 1, 'graf': 1, 'felaponit': 1, 'forged': 1, 'concert': 1, 'proven': 1, 'trets': 1, 'bick': 1, 'ese': 2, 'forche': 1, 'deserves': 1, 'termin': 1, 'fellow': 2, 'sinsmisss': 1, 'rogers': 1, 'renning': 1, 'repersenidiv': 1, 'repuvliconticket': 1, 'succession': 1, 'gate': 1, 'find': 6, 'pay': 1, 'besides': 2, 'afire': 1, 'tam': 1, 'stop': 3, 'whither': 1, 'foi': 1, 'saved': 3, 'fifty': 1, 'checke': 2, 'quash': 1, 'prceatingks': 1, 'behinder': 1, 'slam': 1, 'click': 1, 'oy': 1, 'nessscariy': 1, 'seth': 1, 'pand': 1, 'wese': 1, 'hercousin': 1, 'mads': 3, 'staring': 1, 'geuldaful': 1, 'fister': 1, 'tass': 1, 'aftercollyn': 1, 'voters': 1, 'anal': 2, 'bister': 1, 'eqlallegresnis': 1, 'dolingsel': 1, 'nessosary': 1, 'bey': 2, 'musd': 1, 'served': 1, 'bath': 1, \"can't\": 1, 'excused': 1, 'ockpent': 1, 'vteacol': 1, 'fy': 1, 'visiter': 1, 'cath': 1, 'caneththan': 1, 'yom': 1, 'rocking': 1, 'clasping': 1, 'coste': 1, 'pling': 1, 'gown': 1, 'gang': 2, 'herse': 2, 'younwaty': 1, 'nisterfordms': 1, 'eccollit': 1, 'ordemisation': 1, 'wished': 1, 'urtanemin': 1, 'fecdivf': 1, 'wining': 1, 'ernislyfor': 1, 'conttintonsy': 1, 'strnthend': 1, 'ofpengerd': 1, 'vots': 1, 'hoe': 4, 'demmecraic': 1, 'figurdout': 1, 'ortinaryconditions': 1, 'sure': 4, 'trecousins': 1, 'aware': 1, 'firsticasion': 1, 'tajeneration': 1, 'enertameben': 1, 'contr': 2, 'beme': 1, 'lye': 2, 'girls': 3, 'lighted': 4, 'ascerdif': 1, 'pred': 1, 'composure': 1, 'emlen': 1, 'battlaacs': 1, 'duty': 1, 'afore': 1, 'concerned': 1, 'mission': 2, 'sier': 1, 'nan': 1, 'elswhear': 1, 'serpresiten': 1, 'progressing': 1, 'whom': 3, 'start': 1, 'slt': 1, 'retire': 1, 'mal': 2, 'suclohim': 1, 'bamstaning': 1, 'touking': 1, 'reduced': 1, 'quit': 7, 'flite': 1, 'pertish': 1, 'thexectetife': 1, 'chambers': 1, 'missus': 4, 'deed': 3, 'ferd': 1, 'crosstrees': 1, 'alffuiscere': 1, 'cerkomsancses': 1, 'ecsellenses': 1, 'propose': 1, 'turning': 2, 'sennerditself': 1, 'hearie': 1, 'dudes': 1, 'whale': 1, 'ancturty': 1, 'netverben': 1, 'droned': 1, 'fele': 1, 'dissfraiace': 1, 'toby': 1, 'melty': 1, 'fiottyecasion': 1, 'ranting': 1, 'misternevervend': 1, 'aly': 1, 'unplasotmition': 1, 'therese': 1, 'ast': 2, 'tromenitcs': 1, 'britt': 1, 'tolan': 1, 'shack': 1, 'athing': 1, 'gree': 2, 'shit': 1, 'bertin': 1, 'onefortur': 1, 'alothemselve': 1, 'liber': 1, 'presindeffacoltes': 1, 'subjects': 1, 'destruction': 1, 'hospetity': 1, 'agre': 1, 'woithther': 1, 'evecresfeller': 1, 'bori': 1, 'stopping': 1, 'stract': 1, 'woledepart': 1, 'masters': 3, 'innings': 1, 'miss': 2, 'talk': 1, 'terce': 1, 'tear': 1, 'orders': 1, 'uctiolencyy': 1, 'brite': 1, 'gome': 1, 'takt': 2, 'chard': 1, 'alf': 2, 'people': 3, 'impossible': 1, 'diffulcultis': 1, 'sese': 3, 'shoed': 1, 'death': 3, 'alas': 1, 'heart': 3, 'maneged': 1, 'quite': 1, 'true': 2, 'abl': 3, 'dee': 2, 'oi': 1, 'wives': 1, 'fathers': 3, 'cre': 3, 'oer': 2, 'poly': 1, 'tdr': 1, 'gart': 1, 'nervus': 1, 'ii': 1, 'dorcas': 2, 'wader': 1, 'forker': 1, 'frit': 1, 'ai': 2, 'abouthim': 1, 'arms': 2, 'cosins': 2, 'neck': 1, 'breaverachol': 1, 'burst': 1, 'amentiputy': 1, 'dur': 2, 'pertook': 1, 'flash': 2, 'commingsdolaed': 1, 'brad': 4, 'iw': 1, 'infrecxibl': 1, 'tomes': 1, 'heanddixtended': 1, 'hide': 1, 'beer': 1, 'cholis': 1, 'reachelll': 1, 'moch': 3, 'gard': 1, 'leak': 1, 'torcterad': 1, 'appal': 1, 'tour': 2, 'flams': 1, 'laft': 1, 'ace': 2, 'hearts': 2, 'brandon': 1, 'dinner': 1, 'amusing': 1, 'lake': 3, 'ranced': 1, 'jentlmensfinggers': 1, 'cuencsemplted': 1, 'pailelaglram': 1, 'gle': 1, 'gale': 1, 'perseevet': 1, 'marking': 1, 'real': 2, 'angrewould': 1, 'addressing': 1, 'arf': 1, \"silen't\": 1, 'greater': 2, 'shant': 1, 'lek': 3, 'ajentlmin': 1, 'exparmentely': 1, 'hanted': 1, 'plaster': 1, 'conpodidly': 1, 'nerves': 1, 'contra': 1, 'marid': 1, \"don'\": 1, 'insol': 1, 'mistery': 3, 'vie': 1, 'rebites': 1, 'bornjunration': 1, 'socedtad': 1, 'humin': 1, 'wart': 3, 'add': 1, 'still': 2, 'meantime': 1, 'ide': 3, 'cont': 1, 'shoulder': 1, 'somber': 1, 'jentemindofine': 1, 'wiokdnes': 1, 'sur': 4, 'ag': 1, 'thick': 4, 'faded': 1, 'bob': 1, 'eevintake': 1, 'smoking': 1, 'deal': 1, 'fuds': 1, 'improve': 1, 'bakers': 1, 'craned': 1, 'brandy': 1, 'cerflexamation': 1, 'fonda': 1, 'spece': 1, 'papers': 6, 'stuns': 1, 'habit': 2, 'passing': 2, 'hope': 2, 'limit': 1, 'ia': 2, 'relydont': 1, 'holmes': 2, \"the's\": 2, 'thunlicly': 1, 'hala': 1, 'teltundeve': 1, 'someone': 1, 'ky': 1, 'ways': 1, 'brestlase': 1, 'pihticilricasion': 1, 'annusuol': 1, 'heuridrtdreat': 1, 'vd': 1, 'somelitl': 1, 'prepare': 1, 'amergienscy': 1, 'opening': 3, 'gied': 1, 'likes': 1, 'tray': 1, 'intr': 2, 'shee': 2, 'window': 2, 'doo': 1, 'piu': 1, 'chit': 1, 'existed': 1, 'banister': 3, 'fortannyers': 1, 'ecationlly': 1, 'hoping': 1, 'bhat': 2, 'paper': 9, 'rote': 1, 'trace': 1, 'polissirfas': 1, 'tost': 1, 'next': 1, 'brokintip': 1, 'slips': 1, 'theme': 3, 'sudinditervbencs': 1, 'above': 1, 'ec': 1, 'chip': 1, 'letters': 2, 'profs': 3, 'printer': 2, 'mols': 1, 'hour': 1, 'soms': 1, 'glare': 1, 'lecxtrc': 1, 'ancomfoerble': 1, 'afraid': 1, 'watson': 1, 'swiftly': 1, 'serment': 1, 'lease': 1, 'wats': 2, 'possiblthay': 1, 'rut': 2, 'mentelititation': 1, 'hames': 1, 'outstruechd': 1, 'comm': 1, 'setafroms': 1, 'oldest': 1, 'visiters': 2, 'pubbliktk': 1, 'ole': 3, 'cort': 4, 'ell': 1, 'answer': 1, 'listen': 1, 'cul': 1, 'lsxanmin': 1, \"paper's\": 1, 'office': 1, 'realise': 1, 'nocking': 1, 'cercomstansis': 1, 'reteruxpisios': 1, 'indian': 1, 'blancsdtit': 1, 'rested': 2, 'dismay': 1, 'ao': 1, 'clear': 1, 'whot': 3, 'alow': 1, 'examination': 1, 'fone': 5, 'bentambered': 1, 'treliltlpermends': 1, 'clay': 2, 'cuttings': 1, 'conclusion': 1, 'several': 1, 'onerbalman': 1, 'ofvestrda': 1, 'mitloperestles': 1, 'gicristd': 1, 'dolemboa': 1, 'makkingtha': 1, 'pu': 1, 'andlongthe': 1, 'scolisiep': 1, 'names': 1, 'nocket': 1, \"on't\": 1, 'position': 2, 'harm': 1, 'foul': 1, 'conpitencs': 1, 'worinfectind': 1, 'contain': 1, 'choginportion': 1, 'levers': 1, 'lown': 1, 'hampresored': 1, 'fah': 1, 'visipplen': 1, 'knowentof': 1, 'thecaffi': 1, 'cristy': 1, 'bishupsevodens': 1, 'obfjectinto': 1, 'thissgrace': 1, 'gommitists': 1, 'pro': 2, 'wene': 3, 'crete': 1, 'empire': 1, 'bretikelily': 1, 'temityah': 1, 'comestenten': 1, 'moders': 1, 'lasting': 1, 'pone': 2, 'nedicksof': 1, 'conversion': 1, 'ildfolld': 1, 'pleated': 1, 'theirpasiens': 1, 'toleration': 1, 'privlrid': 1, 'professing': 1, 'peke': 2, 'flat': 1, 'goldin': 1, 'bels': 1, 'seprahthid': 1, 'munchkins': 1, 'myselftha': 1, 'live': 6, 'eat': 1, 'dikemofied': 1, 'munchkinsdir': 1, 'ny': 2, 'ka': 1, 'brains': 1, 'mise': 1, 'meus': 1, 'toles': 1, 'longed': 1, 'houwhork': 1, 'cook': 1, 'lathing': 1, 'fur': 1, 'thecolto': 1, 'fem': 1, 'cooked': 1, 'strangers': 2, 'betefallan': 1, 'hun': 3, 'awol': 1, 'steming': 1, 'rate': 1, 'stockings': 1, 'blnlypans': 1, 'wuplidol': 1, 'afrissiorselvs': 1, 'lived': 1, 'faced': 2, 'quilt': 1, 'colors': 1, 'wingdocet': 1, 'filitiolagae': 1, 'nae': 1, 'aplace': 1, 'lache': 1, 'coed': 3, 'tae': 3, 'date': 2, 'pocket': 2, 'baking': 1, 'gld': 2, 'abet': 1, 'forerperpers': 1, 'patches': 1, 'cines': 1, 'clat': 2, 'lucky': 1, 'pasch': 1, 'exsqlaiime': 1, 'becusidis': 1, 'talks': 1, 'curiuspar': 1, 'moed': 1, 'pouder': 2, 'placing': 1, 'dish': 2, 'mix': 1, 'accents': 1, 'ascervit': 1, 'brans': 1, 'mity': 1, 'aloud': 1, 'thesisiters': 1, 'cooking': 1, 'stem': 1, 'caderboc': 1, 'pleased': 1, 'ala': 1, 'noon': 1, 'goll': 1, 'bos': 7, 'poot': 1, 'quid': 2, 'bras': 1, 'lessens': 1, 'wised': 1, 'hasistindto': 1, 'pored': 3, 'diss': 2, 'commits': 1, 'amb': 1, 'fits': 1, 'deid': 1, 'urth': 1, 'doth': 3, 'fled': 1, 'himmedost': 1, 'lint': 1, 'lese': 1, 'slow': 1, 'nods': 1, 'hilooketec': 1, 'steed': 1, 'consequence': 1, 'groin': 1, 'axplangd': 1, 'chair': 1, 'send': 2, 'bas': 1, 'maniscirp': 1, 'thirt': 1, 'amens': 2, 'hush': 1, 'theforthh': 1, 'departerehavd': 1, 'yoleslyjudge': 1, 'fhinghad': 1, 'beg': 2, 'fil': 3, 'spoils': 1, 'assi': 1, 'morse': 1, 'main': 1, 'qed': 1, 'storys': 1, 'written': 1, 'asxprestd': 1, 'trid': 1, 'hip': 1, 'herpsition': 1, 'pusponment': 1, 'charmed': 1, 'rerplinty': 1, 'spertengd': 1, 'helder': 1, 'sackerfice': 1, 'che': 2, 'worded': 1, 'hor': 5, 'heaven': 2, 'stey': 1, 'consecrencs': 1, 'prdusetd': 1, 'opt': 2, 'point': 1, 'womans': 1, 'pages': 1, 'toc': 1, 'orf': 3, 'mors': 1, 'reword': 1, 'post': 2, 'nows': 2, 'lassi': 1, 'thirst': 1, 'shames': 1, 'frmyouar': 1, 'stele': 1, 'reckkaningtime': 1, 'crease': 1, 'tans': 2, 'blunt': 1, 'shouptstondtence': 1, 'divert': 1, 'conning': 1, 'douting': 1, 'content': 1, 'thoricshe': 1, 'spent': 2, 'cleaning': 2, 'govern': 1, 'besespended': 1, 'pickeseson': 1, 'panful': 1, 'sens': 2, 'keps': 1, 'frombething': 1, 'races': 1, 'rased': 2, 'hay': 1, 'fever': 1, 'hark': 1, 'cased': 1, 'falling': 1, 'hedge': 1, 'fence': 1, 'heredity': 1, 'porters': 1, 'hows': 1, 'excuse': 1, 'tied': 2, 'harang': 1, 'pridthepurscen': 1, 'crise': 5, 'taken': 1, 'lightly': 2, 'verst': 1, 'kneverlusis': 1, 'provines': 1, 'dome': 1, 'hepplof': 1, 'bone': 1, 'prfecretuers': 1, 'angels': 2, 'boc': 1, \"wi's\": 1, 'meme': 1, 'gaed': 1, 'chris': 2, 'fac': 1, 'palt': 1, 'ministry': 2, 'gade': 2, 'title': 2, 'crown': 1, 'kingdom': 1, 'undermine': 1, 'sank': 1, 'apparfron': 1, 'ojustifkation': 1, \"sin'e\": 1, 'stands': 1, 'cannot': 2, 'conception': 1, 'smalmatter': 1, 'takkancareof': 1, 'prsenorsels': 1, 'gov': 1, 'fell': 1, 'wereverthe': 1, 'ofgreace': 1, 'rens': 2, 'sinful': 1, 'lite': 3, 'comemethtunto': 1, 'pollascrivesd': 1, 'pores': 1, 'frencstence': 1, 'spence': 1, 'rs': 1, 'soffitren': 1, 'mamsdovine': 1, 'resist': 1, 'works': 1, 'themboth': 1, 'nature': 3, 'ones': 1, 'prdoumenin': 1, 'agon': 2, 'ory': 1, 'cauls': 1, 'tarble': 1, 'sekt': 1, 'teclarsit': 1, 'greantmis': 1, 'indicates': 1, 'forget': 2, 'flesh': 3, 'hate': 2, 'enterdinto': 1, 'shouldgol': 1, 'bold': 1, 'apastollir': 1, 'sticks': 1, 'jesus': 1, 'commintermes': 1, 'ondresterd': 1, 'mentions': 1, 'frs': 1, 'pine': 1, 'breclyby': 1, 'confirms': 1, 'creed': 1, 'umeverstl': 1, 'signifekans': 1, 'lams': 1, 'ended': 2, 'cris': 4, 'hollpistl': 1, 'wohthren': 1, 'heretics': 1, 'dition': 2, 'latin': 2, 'repolish': 1, 'boks': 3, 'mygalations': 1, 'forencstencs': 1, 'dom': 1, 'rore': 1, 'manisrerth': 1, 'essences': 1, \"lither's\": 1, 'publish': 1, 'someleding': 1, 'workcoftethers': 1, 'revelother': 1, 'maecontstak': 1, 'tech': 1, 'writing': 1, 'forever': 1, 'justification': 1, 'sinner': 1, 'merits': 1, 'track': 1, 'tificlt': 1, 'crit': 1, 'declare': 2, 'hads': 4, 'goup': 1, 'govs': 1, 'fanning': 1, 'yesterday': 1, 'rother': 1, 'punished': 1, 'drown': 1, 'hear': 1, 'wotderfe': 1, 'hownetle': 1, 'wekkcomlittl': 1, 'cep': 1, 'wading': 2, 'splindilyjras': 1, 'canlememver': 1, 'hadnecrid': 1, 'trine': 1, 'becomefinl': 1, 'tores': 1, 'fils': 3, 'teulactrsttygeneratitd': 1, 'avacpration': 1, 'stifling': 1, 'pands': 1, 'bacs': 1, 'yat': 5, 'sail': 1, 'shock': 3, 'hert': 2, 'mown': 1, 'poutermaggis': 1, 'supplidthe': 1, 'vac': 1, 'wend': 3, 'consent': 3, 'est': 1, 'undercerpis': 1, 'clous': 1, 'continwtnitions': 1, 'thalectert': 1, 'begasshos': 1, 'slait': 1, 'nemmoble': 1, 'whey': 1, 'apanitrbl': 1, 'daslendis': 1, 'leas': 1, 'pho': 1, 'treat': 1, 'wt': 1, 'rise': 1, 'heads': 1, 'haff': 1, 'sise': 1, 'raft': 5, 'aces': 1, 'wick': 1, 'sel': 4, 'caches': 1, 'wand': 2, 'hangs': 1, 'ick': 2, 'battle': 1, 'waged': 1, 'atmisspere': 1, 'chared': 1, 'surcharged': 1, 'ablaitratin': 1, 'stirs': 1, 'lashed': 1, 'vast': 1, 'heatycouds': 1, 'huge': 4, 'fearful': 1, 'storms': 1, 'sunday': 1, 'during': 5, 'creating': 1, 'monsters': 1, \"do'\": 1, 'pond': 4, 'sorus': 1, 'fear': 1, 'agust': 1, 'eaghtent': 1, 'abtwordts': 1, 'truly': 2, 'unchanged': 1, 'freshens': 1, 'waise': 1, 'tiestinwish': 1, 'hemin': 1, 'natr': 1, 'sway': 1, 'brock': 1, 'sherd': 1, 'tackheaceh': 1, 'heed': 1, 'toey': 1, 'seems': 1, 'extreme': 1, 'distent': 1, 'towage': 1, 'lid': 3, 'hamber': 1, 'agitidieg': 1, 'magenationt': 1, 'sle': 1, 'noles': 1, 'prerfesser': 1, 'leps': 1, 'matitreangn': 1, 'moves': 1, 'leaning': 1, 'idly': 1, 'repent': 1, 'impulsed': 1, 'giving': 3, 'baptism': 1, 'bap': 1, 'howe': 1, 'compound': 1, 'nom': 1, 'couodniht': 1, 'desk': 1, 'begar': 1, 'holp': 1, 'cingdommof': 1, 'dag': 1, 'stick': 1, 'herholinges': 1, 'music': 1, 'frigtementopon': 1, 'saint': 4, 'francis': 1, 'mistake': 1, 'ufternonin': 1, 'dusk': 2, 'glow': 1, 'wastrangge': 1, 'treading': 1, 'condemnation': 1, 'mornings': 1, 'confession': 1, 'ofter': 1, 'beds': 1, 'instituted': 1, 'oaf': 1, 'bread': 2, 'wine': 2, 'botty': 1, 'divinity': 1, 'wined': 1, 'behind': 1, 'difficult': 2, 'belatldout': 1, 'helo': 2, 'arder': 1, 'page': 2, 'notherequlation': 1, 'omfoldit': 1, 'fens': 1, 'gilty': 1, 'grope': 1, 'fras': 1, 'cord': 1, 'roud': 1, 'roking': 1, 'stones': 1, 'hors': 1, 'luster': 1, 'bound': 1, 'brie': 1, 'waes': 1, 'indefrencs': 1, 'banter': 1, 'everlasting': 1, 'jennerustoord': 1, 'rond': 2, 'soon': 1, 'bridge': 1, 'trembling': 1, 'resounding': 1, 'tye': 2, 'coth': 1, 'yellow': 1, 'indifrencet': 1, 'clote': 1, 'hombllend': 1, 'acseptebl': 1, 'pried': 1, 'dim': 1, 'dimity': 1, 'sey': 1, 'tongs': 1, 'begartand': 1, 'rases': 1, 'danes': 1, 'vesture': 1, 'taginstisond': 1, 'sirtetod': 1, 'lobar': 1, 'omondand': 1, 'dofnove': 1, 'pained': 1, 'sored': 1, 'sinds': 1, 'atalesstncs': 1, 'shallow': 1, 'brig': 1, 'cats': 1, 'exactly': 1, 'ariginmorble': 1, 'invitation': 1, 'packing': 1, 'forming': 1, 'hegnevera': 1, 'appere': 1, 'rim': 1, 'bise': 1, 'fhisingflyre': 1, 'jest': 1, 'tefremg': 1, 'conspihios': 1, 'preaced': 1, 'rpintencs': 1, 'aityven': 1, 'gels': 1, 'sings': 1, 'tet': 4, 'dely': 1, 'grad': 2, 'aline': 1, 'grid': 1, 'aster': 2, 'mu': 1, 'thanking': 1, 'uncle': 1, 'practical': 1, 'ver': 1, 'library': 1, 'warks': 1, 'compeletention': 1, 'wany': 1, 'waned': 1, 'fide': 1, 'intrince': 1, 'pipework': 1, 'foundation': 1, 'pirls': 1, 'lurking': 1, 'dangers': 1, \"wen't\": 1, 'walls': 1, 'hinrsukl': 1, 'bute': 1, 'fortin': 1, 'tar': 2, 'ob': 2, 'gisebilidies': 1, 'reh': 1, 'alders': 1, 'rum': 1, 'nere': 2, 'totrurmin': 1, 'compensation': 1, 'filidelf': 1, 'beleve': 2, 'arppetectrl': 1, 'weary': 1, 'curer': 1, 'deppationts': 1, 'practice': 1, 'ruth': 2, 'sears': 1, 'hask': 1, 'wulebik': 1, 'mosilyam': 1, 'combterbl': 1, 'wiling': 1, 'blae': 1, 'shops': 1, 'shaved': 1, 'goe': 1, 'meting': 1, 'jurmintone': 1, 'ster': 1, 'enderstede': 1, 'yum': 1, 'wuththa': 1, 'dose': 1, 'cert': 1, 'boltin': 1, 'mether': 1, 'fothers': 1, 'alway': 1, 'chest': 2, 'etxstret': 1, 'ocrasshiolt': 1, 'arc': 1, \"der's\": 1, 'seewliooking': 1, 'mademossel': 1, 'tinichalnt': 1, 'conte': 2, 'spokcoud': 1, 'flatters': 1, 'youerver': 1, 'pleases': 1, 'finish': 1, 'quarter': 1, 'afteourds': 1, 'beleed': 1, 'effort': 1, 'greaticsihtmen': 1, 'togobeack': 1, 'horperhaps': 1, 'lobes': 1, 'toncstituded': 1, 'impocibl': 1, 'heventureman': 1, 'superated': 1, 'fronmthe': 1, 'yas': 1, 'shan': 1, 'lebolle': 1, 'perced': 1, 'mortally': 1, 'mademasel': 1, 'oad': 2, 'maters': 1, 'dancing': 2, 'remembernow': 1, 'congregullate': 1, 'dand': 1, 'fords': 1, 'observing': 1, 'forsertnly': 1, 'brat': 1, 'athena': 1, 'eres': 1, 'devoted': 1, 'mevolliea': 1, 'remain': 1, 'evening': 1, 'princess': 1, 'inquired': 2, 'gud': 1, 'madam': 4, 'happingnes': 1, 'frinhiop': 1, 'hisagitation': 1, 'lhistlihtly': 1, 'humming': 1, 'presently': 1, 'sound': 2, 'dams': 1, 'queans': 1, 'lifting': 1, 'cover': 1, 'ah': 1, 'thins': 1, 'degresahis': 1, 'sob': 1, 'regret': 1, 'lust': 1, 'sire': 2, 'quoaddril': 1, 'flatter': 1, 'comencsmon': 1, 'musick': 1, 'alestreusdancers': 1, 'acting': 2, 'tits': 1, 'comenainpoind': 1, 'issupprestd': 1, 'nessisery': 1, 'frond': 1, 'magistyse': 1, 'seal': 1, 'sirkilatid': 1, 'rapetityaf': 1, 'lightning': 1, 'virid': 1, 'majesty': 1, 'attempt': 1, 'storing': 1, 'dain': 1, 'posts': 1, 'legs': 1, 'solkkcan': 1, 'parent': 1, 'dies': 1, 'aolligencs': 1, 'benmecening': 1, 'perps': 1, 'prenoncst': 1, 'required': 1, 'pres': 2, 'fieteclock': 1, 'repersendig': 1, 'affere': 1, 'thetes': 2, 'workers': 1, 'cour': 1, 'understand': 1, 'wasumptingin': 1, 'resembled': 1, 'odd': 1, 'ferfunenle': 1, 'sola': 1, 'sithe': 1, 'lumination': 1, 'remarked': 1, \"lit's\": 1, 'monie': 1, 'stompthiggan': 1, 'gane': 1, 'hent': 1, 'elligencs': 1, 'c': 2, 'benlistinin': 1, 'intisiasti': 1, 'kam': 1, 'esfriskly': 1, 'twin': 1, \"din't\": 1, 'criatcinthiathink': 1, 'walt': 1, 'onecasiono': 1, 'makes': 1, 'cosier': 1, 'quoankto': 1, 'decseof': 1, 'wilder': 1, 'fantom': 1, 'mol': 2, 'pike': 1, 'looked': 1, 'ertikiellat': 1, 'disstkintly': 1, 'thoth': 1, 'ords': 1, 'waling': 1, 'hissing': 1, 'iffitixisted': 1, 'fancy': 1, 'imreaidy': 1, 'herden': 1, 'noise': 1, 'turd': 1, 'caffer': 1, 'knife': 3, 'awake': 1, \"gaffer's\": 1, 'voices': 1, 'tente': 1, 'flak': 1, 'bucking': 1, 'spect': 1, 'convinced': 1, 'lenin': 1, 'heting': 1, 'reslaslims': 1, 'starlit': 1, 'tother': 2, 'affectionforat': 1, 'rly': 1, 'repose': 1, 'thecondut': 1, 'lovers': 2, 'sert': 1, 'rersspeckt': 1, 'ored': 1, 'sheppeared': 1, 'clem': 1, 'rerseptiond': 1, 'forded': 1, 'aplentiple': 1, 'super': 1, 'wast': 3, 'three': 1, 'themervers': 1, 'agitation': 1, 'frank': 1, 'cone': 1, 'jecdtmet': 1, 'inbortentcs': 1, 'derived': 1, 'filing': 7, 'baetrnme': 1, 'ofmemery': 1, 'erie': 1, 'recking': 2, 'reckeniet': 1, 'ixperintcs': 1, 'reckagnistion': 1, 'ixxpernce': 1, 'compitentcs': 1, 'fromtementlcaes': 1, 'acarturistic': 1, 'passicrencess': 1, 'mins': 1, 'imegistrfir': 1, 'acrmences': 1, 'tinebelity': 1, 'hep': 1, 'carcturistec': 1, 'arles': 1, 'ri': 2, 'portions': 2, 'habet': 2, 'weer': 1, 'ata': 1, 'tory': 2, 'carteristeck': 1, 'reckecnise': 1, 'ampostabolity': 1, 'menetsego': 1, 'thein': 1, 'porvisinaly': 1, 'rank': 2, 'wuothmemry': 1, 'icy': 1, 'va': 1, 'dibitipl': 1, 'tolus': 1, 'encimencs': 1, 'ounjertt': 1, 'houve': 1, 'frecknition': 1, 'axxprincs': 1, 'sensations': 1, 'siccaligy': 1, 'hiders': 1, 'recent': 1, 'conbeplacet': 1, 'aal': 1, 'hisqueare': 1, 'filings': 1, 'subject': 1, 'comparititly': 1, 'lecture': 1, 'teuch': 1, 'hipestioly': 1, 'trumcensation': 1, 'indistemqiciuble': 1, 'thesencation': 1, 'serting': 2, 'ticintiong': 1, 'cancer': 1, 'tirling': 1, 'whenever': 1, 'fmelliarty': 1, 'satisfied': 1, 'apropreat': 1, 'amos': 1, 'teverboty': 1, 'elision': 1, 'aquectranslation': 1, 'swherlyd': 1, 'boat': 1, 'afvoitapl': 1, 'framed': 1, 'primetevf': 1, 'incaplpl': 1, 'ixpresinsuctian': 1, 'reckanision': 1, 'vecinnition': 1, 'innatequrt': 1, 'recidmition': 1, 'ixpeinsin': 1, 'inks': 1, 'portent': 1, 'degrees': 1, 'witigre': 1, 'brodmesur': 1, 'procsinnatlyd': 1, 'pucugerly': 1, 'amflontes': 1, 'bifidly': 1, 'warintod': 1, 'plucking': 1, 'speave': 1, 'henry': 1, 'squire': 8, 'purs': 1, 'squires': 1, 'whoturnd': 1, 'picture': 1, 'quickly': 2, 'robin': 8, 'onn': 1, 'montficha': 3, 'mightly': 1, 'toled': 2, 'felt': 1, 'wissrlcs': 1, 'montfichey': 1, 'castle': 1, 'heare': 1, 'disuppuinmet': 1, 'deeses': 1, 'weber': 1, 'request': 1, 'stroller': 1, 'perse': 1, 'felo': 1, 'ernest': 1, 'nave': 1, 'esquire': 1, 'ecclnscy': 1, 'sherif': 1, 'hartyxest': 1, 'chout': 2, 'louter': 1, 'thenotingham': 1, 'treating': 1, 'monfichey': 1, 'lady': 1, 'strollers': 1, 'ounprceved': 1, 'itativly': 1, 'thong': 1, 'robe': 1, 'lording': 1, 'goldenfortun': 1, 'proper': 2, 'confused': 1, 'woad': 1, 'sherifs': 1, 'mend': 2, 'devices': 1, 'blush': 1, 'tricks': 1, 'surly': 2, 'cansubemit': 1, 'flet': 1, 'arm': 2, 'leach': 1, 'whispergrobind': 1, 'mistresfisoth': 1, 'cardo': 1, 'shurafsscater': 1, 'motfichay': 1, 'inturdecelncs': 1, 'coue': 1, 'vere': 1, 'trap': 1, 'treoteole': 1, 'edge': 1, 'ped': 1, 'surventld': 1, 'cup': 1, 'togamewele': 1, 'lede': 1, 'heplessencs': 1, 'whisper': 1, 'fitzoththad': 1, 'chamber': 2, 'converse': 1, 'holding': 1, 'mistreusfitoth': 1, 'aryuingfor': 1, 'dismiss': 1, 'startled': 1, 'warientens': 1, 'soth': 2, 'holla': 1, 'treks': 1, 'apartment': 1, 'disturbing': 1, 'tones': 1, 'worintens': 1, 'sisxpitions': 1, 'firm': 1, 'rocky': 1, 'groping': 1, 'shamed': 1, 'sugifikaencs': 1, 'thinkjeffrys': 1, 'crames': 1, 'lantern': 1, 'asstertame': 1, 'sheld': 1, 'brae': 1, 'rem': 1, 'yeat': 1, 'fitsoths': 1, 'trt': 1, 'wolegelout': 1, 'cork': 1, 'decidedstep': 1, 'mach': 2, 'notinghim': 1, 'mypbpervligh': 1, 'nations': 2, 'purity': 1, 'thatn': 1, 'nonvollyce': 1, 'tested': 1, 'verging': 1, 'uncoscetotionaty': 1, 'tats': 1, 'mormennisom': 1, 'inatiquisy': 1, 'orth': 1, 'andmentistration': 1, 'ort': 1, 'bguokad': 1, 'dersentens': 1, 'duration': 1, 'sud': 2, 'constitution': 1, 'arty': 1, 'wally': 1, 'resxpondedtd': 1, 'natinalsene': 1, 'itspascige': 1, 'dead': 1, 'lattertaysances': 1, 'worovere': 1, 'oppertety': 1, 'sori': 1, 'curn': 1, 'prespesencs': 1, 'hits': 3, 'divolemencs': 1, 'aits': 1, 'plain': 1, 'colalestiemarige': 1, 'garterestye': 1, 'vrygenl': 1, 'isunchul': 1, 'meaner': 1, 'mactomom': 1, 'mig': 1, 'macs': 1, 'codes': 1, 'doers': 1, 'state': 2, 'aveysanke': 1, 'otherisellation': 1, 'hasmetnin': 1, 'dissnclopbratedt': 1, 'alto': 1, 'vo': 1, 'property': 1, 'ward': 1, 'fourther': 1, 'concerning': 1, 'ecxxpeditiond': 1, 'infintolrer': 1, 'comme': 1, 'sececionests': 1, 'officers': 1, 'intrusted': 1, 'rethe': 1, 'desiabetind': 1, 'mom': 1, 'bohs': 1, 'prone': 1, 'apers': 1, 'hatred': 1, 'score': 2, 'temple': 2, 'polting': 1, 'scolbwice': 1, 'driven': 1, 'ik': 1, 'feck': 1, 'istabised': 1, 'heman': 1, 'mustered': 1, 'burds': 1, 'insbranthes': 1, 'offering': 1, 'ern': 1, 'eaten': 1, 'follappon': 1, 'haply': 1, 'rented': 1, 'pomes': 1, 'ompoppler': 1, 'saver': 1, 'greammendt': 1, 'onfrditions': 1, 'gathering': 1, 'extensive': 1, 'orgenexations': 1, 'net': 1, 'arouse': 1, 'tode': 1, 'terdlind': 1, 'apl': 1, 'dees': 1, 'ormer': 1, 'verxkand': 1, 'themitionerys': 1, 'erlytternd': 1, 'thir': 1, 'hops': 1, 'fros': 1, 'cords': 1, 'gevernerh': 1, 'hater': 1, 'maniffics': 1, 'sample': 1, 'commence': 1, 'ugencsot': 1, 'misseriencs': 1, 'pergresh': 1, 'couldhavf': 1, 'stakes': 1, 'coplenmen': 1, 'obfofficers': 1, 'qorgenesationcs': 1, 'fergetfonest': 1, 'full': 1, 'rermemberincsmen': 1, 'hereplyed': 1, 'fha': 1, 'loningastd': 1, 'apetioncs': 1, 'woirhtha': 1, 'nad': 1, 'relie': 1, 'breaking': 1, 'inggagmencs': 1, 'osstecls': 1, 'metigatitigancs': 1, 'oponnesuccagion': 1, 'ms': 1, 'afectioly': 1, 'woot': 1, 'refind': 1, \"moner's\": 1, 'haver': 1, 'peterccuer': 1, 'dau': 1, 'curly': 1, 'cro': 1, 'bleck': 1, 'storahtway': 1, 'pushnatfer': 1, 'coy': 1, 'breakers': 1, 'meet': 1, 'neingglend': 1, 'rie': 1, 'agjeackuland': 1, 'cake': 2, 'ons': 1, 'ondepoan': 1, 'chase': 1, 'eager': 2, 'deisuppoainmet': 1, 'olielord': 1, 'injury': 1, 'shi': 1, 'rapidly': 1, 'pase': 1, 'axagurated': 1, 'conter': 1, 'huse': 1, 'morts': 1, 'atersncs': 1, 'yrs': 1, 'verd': 1, 'bonce': 1, 'loment': 1, 'burn': 1, 'flicker': 2, 'netty': 1, 'frt': 1, 'giobouther': 1, 'shaver': 1, 'chas': 1, 'neverceen': 1, 'toop': 1, 'littlfelller': 1, 'boh': 1, 'based': 1, 'yt': 1, 'lav': 1, 'potin': 1, 'dogathert': 1, 'stut': 1, 'wefte': 1, 'ovecxtr': 1, 'observed': 1, 'shins': 1, \"ain't\": 1, 'doning': 1, 'clot': 1, 'citing': 1, 'missis': 1, 'natty': 1, 'andlaligoy': 1, 'miring': 1, 'aandhriling': 1, 'bens': 1, 'mehageny': 1, 'almes': 1, 'thingwouldhin': 1, 'mells': 1, 'toter': 1, 'canary': 1, 'bard': 1, 'cury': 1, 'chaqulit': 1, 'catling': 1, 'linds': 1, 'ethe': 1, 'peftirlogucl': 1, 'comesucurences': 1, 'ofstimeants': 1, 'omeryfick': 1, 'sack': 1, 'indotionc': 1, 'tiffrencietion': 1, 'herisincs': 1, 'concurntin': 1, 'theirlerck': 1, 'mencedto': 1, 'consembptiond': 1, 'tericxtet': 1, 'prim': 1, 'andprimencs': 1, 'henting': 1, 'frictiedt': 1, 'uneryfecarcto': 1, 'comeperhencs': 1, 'couter': 1, 'cimplcusten': 1, 'mantanedt': 1, 'ality': 1, 'commentionol': 1, 'aby': 1, 'qouotrments': 1, 'thrytame': 1, 'patron': 1, 'quokfications': 1, 'clpridition': 1, 'thenfict': 1, 'ovetuentidin': 1, 'metis': 1, 'tyelosty': 1, 'latoedebelopent': 1, 'mentis': 1, 'overlit': 1, 'yin': 1, 'ommicevrmlotion': 1, 'stating': 1, 'themegencs': 1, 'spestulise': 1, 'pekunerirstrinth': 1, 'derectit': 1, 'comfit': 1, 'tile': 2, 'anevdences': 1, 'duravich': 1, 'grote': 1, 'ofnotios': 1, 'ry': 1, 'ffirlae': 1, 'ofsepsthencs': 1, 'rit': 1, 'skasertell': 1, 'waring': 1, 'implies': 1, 'beokgly': 1, 'ostensible': 1, 'tobe': 1, 'ticarnny': 1, 'strckkyriservd': 1, 'coss': 1, 'hixpenicture': 1, 'parfrnaly': 1, 'xtuptionto': 1, 'thisicxteption': 1, 'softentil': 1, 'van': 1, 'conditions': 2, 'body': 1, 'arising': 1, 'frmsuchn': 1, 'noble': 2, 'contedthat': 1, 'fhisicol': 1, 'temsellvs': 1, 'theraselk': 1, 'pont': 1, 'paps': 1, 'cull': 1, 'consitebl': 1, 'swoldlswof': 1, 'thisstericxiontan': 1, 'personkiyolsof': 1, 'gits': 1, 'forperinces': 1, 'pertly': 1, 'exxpomend': 1, 'penmen': 1, 'perst': 1, 'beincitetion': 1, 'nembrepersncs': 1, 'male': 1, 'tolite': 1, 'conxpikise': 1, 'toil': 1, 'servepobout': 1, 'sociol': 1, 'sned': 1, 'social': 1, 'scaled': 1, 'seckonsstancsif': 1, 'eds': 1, 'commenbensevse': 1, 'onmlicomo': 1, 'general': 1, 'holy': 2, 'greps': 1, 'qurestienis': 1, 'stander': 1, 'terlitife': 1, 'nsistinwomt': 1, 'anerlamanton': 1, 'pes': 1, 'potions': 1, 'dobetois': 1, 'pupenolition': 1, 'presonfome': 1, 'trinket': 1, 'lospretents': 1, 'decincsese': 1, 'thentakin': 1, 'samederecxtion': 1, 'ruse': 1, 'varing': 1, 'proportions': 1, 'mistic': 1, 'havbolradtibine': 1, 'tume': 1, 'thelinwirge': 1, 'carctlrse': 1, 'pompordetivetitioncy': 1, 'evenly': 1, 'develipant': 1, 'ng': 1, 'frenfromdes': 1, 'dyascnthe': 1, 'leer': 1, 'toother': 1, 'thar': 1, 'daric': 1, 'cespormint': 1, 'froth': 1, 'cise': 1, 'pl': 1, 'iconceietion': 1, 'isfectiefd': 1, 'ansurtiol': 1, 'scomspetios': 1, 'ofticteoverneeration': 1, 'onbothigd': 1, 'stid': 1, 'conn': 1, 'oftollk': 1, 'ok': 1, 'oreveckt': 1, 'comnomedotye': 1, 'oo': 1, 'tocencrten': 1, 'motives': 1, 'ence': 1, 'concpikase': 1, 'beentedevd': 1, 'expenditure': 1, 'grountof': 1, 'comparison': 1, 'theintireglition': 1, 'conspickis': 1, 'thissingplocation': 1, 'ode': 1, 'mest': 2, 'siopefcletes': 1, 'solon': 2, 'pertculers': 1, 'ree': 1, 'rud': 1, 'yoelapsd': 1, 'anils': 1, 'oon': 1, 'register': 1, 'temples': 1, 'socregese': 1, 'whow': 1, 'parl': 2, 'anlyxistencs': 1, 'veter': 1, 'rhe': 1, 'appling': 1, 'subget': 1, 'scried': 1, 'wakes': 1, 'offhelosifer': 1, 'stamen': 1, 'alo': 1, 'teneamitgies': 1, 'siti': 1, 'solan': 1, 'aer': 1, 'conterpartof': 1, 'folasiffer': 1, 'creation': 1, 'somlfwho': 1, 'heave': 1, 'offuon': 1, 'lhecgiction': 1, 'poms': 1, 'pom': 2, 'inwocieon': 1, 'theaxtintion': 1, 'refresh': 1, 'ura': 1, 'dha': 1, 'plato': 1, 'dilos': 1, 'ranging': 1, 'intiprtation': 1, 'splat': 1, 'apposes': 1, 'sil': 1, 'grenktlawhuch': 1, 'anypolit': 1, 'scrive': 1, 'hititmenns': 1, 'connections': 1, 'qi': 1, 'sput': 1, 'plate': 1, 'rises': 1, 'thlosopcol': 1, 'wacreatius': 1, 'wlangwheg': 1, 'untemetintaritoy': 1, 'sumwhaared': 1, 'betliemg': 1, 'mettescen': 1, 'thuttmatis': 1, 'fhisisfurs': 1, 'heraveites': 1, 'itnojos': 1, 'perplatil': 1, 'flus': 1, 'pedoenens': 1, 'admitting': 1, 'thecesity': 1, 'pifedrins': 1, 'umber': 1, 'modern': 1, 'serditece': 1, 'thisaolithy': 1, 'rether': 1, 'snot': 1, 'scur': 1, 'rititistion': 1, 'thelosifthy': 1, 'ofslorfve': 1, 'trlycrecturisci': 1, 'amxstrections': 1, 'ention': 1, 'fholosoffer': 1, 'nturpetet': 1, 'stile': 2, 'plontonit': 1, 'aimolcreation': 1, 'thisturm': 1, 'command': 1, 'enabled': 1, 'deas': 1, 'fiches': 1, 'tiferntle': 1, 'peto': 1, 'acustom': 1, 'sein': 1, 'tait': 1, 'wights': 1, 'pil': 1, 'thengsher': 1, 'justly': 1, 'thistvinnet': 1, 'coped': 1, 'theterilas': 1, 'baled': 1, 'division': 1, 'womsefto': 1, 'theirfontion': 1, 'beatiffulm': 1, 'acer': 1, 'ady': 1, 'stet': 1, 'bain': 1, 'geryebl': 1, 'wholly': 1, 'trinquolty': 1, 'nessesery': 1, 'peris': 1, 'panting': 1, 'glenmgaed': 1, 'fulriste': 1, 'naglgtion': 1, 'mettitatef': 1, 'cones': 1, 'refiring': 1, 'turner': 1, 'duret': 1, 'grex': 1, 'scllancskcat': 1, 'engoldnest': 1, 'perpiclye': 1, 'cocisindeed': 1, 'pons': 1, 'piment': 1, 'cristelis': 1, 'suvearedis': 1, 'sqoisit': 1, 'nevorcol': 1, 'fake': 1, 'verses': 1, 'ither': 1, 'tai': 1, 'tink': 1, 'itselffon': 1, 'morne': 1, 'nather': 1, 'emus': 1, 'anestiden': 1, 'temp': 1, 'thecoppe': 1, 'pitreusemes': 1, 'meth': 1, 'tach': 1, 'hollow': 1, 'outer': 1, 'curve': 1, 'ade': 2, 'peininnat': 1, 'carccrovenis': 1, 'scilvart': 1, 'beprcestion': 1, 'stane': 1, 'amageneted': 1, 'deccrtef': 1, 'fins': 1, 'tecuirist': 1, 'doles': 1, 'nothigart': 1, 'distortion': 1, 'repos': 1, 'shefefof': 1, 'rent': 1, 'terns': 1, 'yoe': 1, 'afslotely': 1, 'thesplining': 1, 'fromhepicturf': 1, 'knows': 1, 'outline': 1, 'elisstration': 1, 'cit': 1, 'lode': 1, 'nist': 1, 'bestentodoction': 1, 'absollly': 1, 'afer': 1, 'nasty': 1, 'riper': 1, 'yearth': 1, 'utmost': 1, 'cases': 1, 'marche': 1, 'feus': 1, 'vice': 1, 'mature': 1, 'denideach': 1, 'really': 1, 'commenikatd': 1, 'ixxpres': 1, 'shroblbout': 1, 'mimed': 1, 'aplesintevent': 1, 'trash': 1, 'frombeginin': 1, 'seen': 1, 'evenings': 1, 'anyu': 1, 'alls': 1, 'fots': 1, 'contrast': 1, 'blessofsuch': 1, 'figure': 1, 'colevenisticdo': 1, 'grotifficution': 1, 'distention': 1, 'cuotobae': 1, 'unforhtnatly': 1, 'sicsacuock': 1, 'smoring': 1, 'mater': 1, 'hire': 1, 'bresimations': 1, 'didy': 1, 'disappliman': 1, 'recon': 1, 'imjerminc': 1, 'stie': 1, 'sixteenth': 1, 'gut': 1, 'kept': 1, 'store': 1, 'prcecion': 1, 'thans': 1, 'delliccocy': 1, 'chollanday': 1, 'sutdinpangs': 1, 'desuvevergjos': 1, 'yondercisturs': 1, 'jellispeguens': 1, 'welevrercur': 1, 'agen': 1, 'strangimenti': 1, 'yourkshur': 1, 'ukapation': 1, 'harxpeaencs': 1, 'ecxsolen': 1, 'manny': 1, 'hust': 1, 'hoed': 1, 'sick': 1, 'ibperincs': 1, 'mons': 1, 'suspect': 1, 'rf': 1, 'dispersed': 1, 'dotter': 1, 'duties': 1, 'acompirstiment': 1, 'ratecoesom': 1, 'nessexary': 1, 'sintlthutes': 1, 'scarsesar': 1, 'direr': 1, 'feragurcxtion': 1, 'dolahtded': 1, 'yorctur': 1, 'prascerixtes': 1, 'rating': 2, 'sackcantime': 1, 'forypranes': 1, 'lictonmly': 1, 'fersspallod': 1, 'ness': 1, 'nogs': 1, 'theperty': 1, 'crtionfath': 1, 'belegedon': 1, 'descending': 1, 'fut': 1, 'darckcin': 1, 'herm': 1, 'grones': 1, 'hoth': 1, 'yeving': 1, 'couldnever': 1, 'litlsistere': 1, 'bran': 1, 'till': 1, 'conciderit': 1, 'mart': 1, 'leman': 1, 'losing': 1, 'governess': 1, 'vestwishous': 1, 'io': 1, 'maszorch': 1, 'prmmnink': 1, 'hearing': 1, 'trie': 1, 'doni': 1, 'amplerewortded': 1, 'none': 1, 'dopreacieing': 1, 'seventh': 1, 'rites': 1}\n",
            "{'seemee': {'_Total': 1}, 'plese': {'_Total': 2}, 'contios': {'_Total': 1}, 'poer': {'_Total': 6}, 'posestd': {'_Total': 1}, 'beseverd': {'_Total': 1}, 'albo': {'_Total': 3}, 'zefs': {'_Total': 1}, 'cheements': {'_Total': 1}, 'farly': {'_Total': 3}, 'urnd': {'_Total': 1}, 'righe': {'_Total': 1}, 'tirment': {'_Total': 1}, 'cind': {'_Total': 3}, 'aners': {'_Total': 2}, 'pention': {'_Total': 1}, 'superier': {'_Total': 1}, 'afficer': {'_Total': 1}, 'prid': {'_Total': 7}, 'cablry': {'_Total': 1}, 'plit': {'_Total': 2}, 'arbly': {'_Total': 1}, 'tornty': {'_Total': 1}, 'yers': {'_Total': 10}, 'orgelyt': {'_Total': 1}, 'captein': {'_Total': 2}, 'migke': {'_Total': 1}, 'anygift': {'_Total': 1}, 'poettit': {'_Total': 1}, 'proer': {'_Total': 1}, 'memmry': {'_Total': 1}, 'anic': {'_Total': 1}, 'trepers': {'_Total': 1}, 'tals': {'_Total': 2}, 'sofs': {'_Total': 1}, 'whast': {'_Total': 1}, 'indused': {'_Total': 1}, 'capton': {'_Total': 1}, 'wifh': {'_Total': 2}, 'servedac': {'_Total': 2}, 'scege': {'_Total': 1}, 'scriptions': {'_Total': 1}, 'ofthe': {'_Total': 3}, 'paralo': {'_Total': 1}, 'beates': {'_Total': 1}, 'vantiges': {'_Total': 1}, 'acint': {'_Total': 1}, 'dicemmal': {'_Total': 1}, 'martre': {'_Total': 1}, 'whithat': {'_Total': 1}, 'conthos': {'_Total': 1}, 'thri': {'_Total': 2}, 'ofba': {'_Total': 1}, 'bersion': {'_Total': 1}, 'ond': {'_Total': 12}, 'redy': {'_Total': 1}, 'confesit': {'_Total': 1}, 'attamements': {'_Total': 1}, 'wher': {'_Total': 20}, 'thedrl': {'_Total': 1}, 'evem': {'_Total': 1}, 'bie': {'_Total': 2}, 'marter': {'_Total': 1}, 'dount': {'_Total': 2}, 'totis': {'_Total': 1}, 'fabert': {'_Total': 1}, 'decading': {'_Total': 1}, 'donot': {'_Total': 2}, 'shurk': {'_Total': 1}, 'forvlis': {'_Total': 1}, 'prcets': {'_Total': 1}, 'comfest': {'_Total': 1}, 'thet': {'_Total': 33}, 'mactiolly': {'_Total': 1}, 'vermuch': {'_Total': 1}, 'gian': {'_Total': 1}, 'spining': {'_Total': 1}, 'lenk': {'_Total': 1}, 'forteem': {'_Total': 1}, 'monts': {'_Total': 3}, 'leating': {'_Total': 1}, 'achmen': {'_Total': 1}, 'infentret': {'_Total': 1}, 'trenchment': {'_Total': 1}, 'tyo': {'_Total': 3}, 'apon': {'_Total': 35}, 'shour': {'_Total': 2}, 'sometumes': {'_Total': 1}, 'wetl': {'_Total': 1}, 'doya': {'_Total': 1}, 'ong': {'_Total': 19}, 'summeth': {'_Total': 1}, 'quif': {'_Total': 2}, 'pery': {'_Total': 3}, 'loftist': {'_Total': 1}, 'folloed': {'_Total': 1}, 'jerie': {'_Total': 1}, 'apeare': {'_Total': 2}, 'selteh': {'_Total': 1}, 'affer': {'_Total': 3}, 'merctont': {'_Total': 1}, 'shepead': {'_Total': 1}, 'entod': {'_Total': 1}, 'amperiy': {'_Total': 1}, 'amavy': {'_Total': 1}, 'oready': {'_Total': 1}, 'reache': {'_Total': 4}, 'wou': {'_Total': 5}, 'apond': {'_Total': 1}, 'himto': {'_Total': 2}, 'doct': {'_Total': 2}, 'spen': {'_Total': 2}, 'fartha': {'_Total': 1}, 'partof': {'_Total': 1}, 'jenerly': {'_Total': 1}, 'cresing': {'_Total': 1}, 'reaned': {'_Total': 1}, 'onnly': {'_Total': 1}, 'greas': {'_Total': 1}, 'bloing': {'_Total': 1}, 'roufh': {'_Total': 1}, 'honly': {'_Total': 2}, 'urptes': {'_Total': 1}, 'dhe': {'_Total': 8}, 'licquld': {'_Total': 1}, 'paricl': {'_Total': 1}, 'boiept': {'_Total': 1}, 'thatp': {'_Total': 1}, 'afec': {'_Total': 1}, 'ocalation': {'_Total': 1}, 'recaryd': {'_Total': 1}, 'igke': {'_Total': 1}, 'quihtd': {'_Total': 2}, 'pressedented': {'_Total': 1}, 'laed': {'_Total': 4}, 'comepos': {'_Total': 1}, 'theirfore': {'_Total': 3}, 'sectant': {'_Total': 1}, 'atterly': {'_Total': 1}, 'yusles': {'_Total': 1}, 'imposcible': {'_Total': 1}, 'anny': {'_Total': 6}, 'dissappear': {'_Total': 1}, 'completly': {'_Total': 2}, 'ther': {'_Total': 136}, 'hno': {'_Total': 1}, 'ferf': {'_Total': 1}, 'supris': {'_Total': 1}, 'oll': {'_Total': 4}, 'asprestly': {'_Total': 1}, 'proocop': {'_Total': 1}, 'decaded': {'_Total': 1}, 'botem': {'_Total': 1}, 'amearly': {'_Total': 1}, 'oform': {'_Total': 1}, 'fatems': {'_Total': 1}, 'andnal': {'_Total': 1}, 'bhoe': {'_Total': 1}, 'soundhing': {'_Total': 1}, 'mored': {'_Total': 4}, 'owors': {'_Total': 1}, 'overa': {'_Total': 1}, 'siter': {'_Total': 2}, 'blarlie': {'_Total': 1}, 'tiffenc': {'_Total': 1}, 'sas': {'_Total': 8}, 'leble': {'_Total': 2}, 'wre': {'_Total': 3}, 'corssponding': {'_Total': 1}, 'edin': {'_Total': 2}, 'togr': {'_Total': 1}, 'especkend': {'_Total': 1}, 'ove': {'_Total': 8}, 'cike': {'_Total': 1}, 'sity': {'_Total': 4}, 'thit': {'_Total': 10}, 'adeben': {'_Total': 1}, 'terst': {'_Total': 1}, 'bik': {'_Total': 3}, 'ambp': {'_Total': 1}, 'otearer': {'_Total': 1}, 'sircomstance': {'_Total': 1}, 'mostd': {'_Total': 1}, 'wil': {'_Total': 75}, 'seid': {'_Total': 2}, 'shuxpect': {'_Total': 1}, 'tofind': {'_Total': 1}, 'hunverd': {'_Total': 1}, 'instet': {'_Total': 1}, 'fapoms': {'_Total': 1}, 'fatums': {'_Total': 1}, 'rey': {'_Total': 3}, 'thinke': {'_Total': 4}, 'geria': {'_Total': 1}, 'amagend': {'_Total': 1}, 'bearf': {'_Total': 1}, 'doutid': {'_Total': 1}, 'orbitd': {'_Total': 1}, 'buth': {'_Total': 12}, 'problble': {'_Total': 1}, 'prcipetated': {'_Total': 1}, 'nothingwas': {'_Total': 1}, 'retarne': {'_Total': 1}, 'tord': {'_Total': 3}, 'qualitys': {'_Total': 1}, 'wor': {'_Total': 22}, 'ectlen': {'_Total': 1}, 'sufised': {'_Total': 1}, 'demmenstration': {'_Total': 1}, 'haffer': {'_Total': 1}, 'askth': {'_Total': 1}, 'egerly': {'_Total': 1}, 'hepen': {'_Total': 1}, 'steempben': {'_Total': 1}, 'canves': {'_Total': 1}, 'scroner': {'_Total': 1}, 'eastords': {'_Total': 1}, 'remaned': {'_Total': 1}, 'invarible': {'_Total': 1}, 'sti': {'_Total': 4}, 'fathems': {'_Total': 1}, 'albho': {'_Total': 1}, 'ownly': {'_Total': 1}, 'mareme': {'_Total': 1}, 'prduction': {'_Total': 1}, 'imeges': {'_Total': 2}, 'floterf': {'_Total': 1}, 'memery': {'_Total': 10}, 'thots': {'_Total': 4}, 'naetif': {'_Total': 1}, 'frants': {'_Total': 1}, 'onder': {'_Total': 8}, 'othon': {'_Total': 1}, 'wered': {'_Total': 3}, 'rveall': {'_Total': 1}, 'trations': {'_Total': 1}, 'ogery': {'_Total': 1}, 'aventcs': {'_Total': 1}, 'procop': {'_Total': 1}, 'afestly': {'_Total': 1}, 'ameasy': {'_Total': 1}, 'contiostes': {'_Total': 1}, 'secrtly': {'_Total': 1}, 'partiok': {'_Total': 1}, 'angxity': {'_Total': 1}, 'kno': {'_Total': 29}, 'flihe': {'_Total': 1}, 'dimnination': {'_Total': 1}, 'tempertur': {'_Total': 1}, 'prebaled': {'_Total': 1}, 'thelest': {'_Total': 1}, 'weas': {'_Total': 1}, 'apparan': {'_Total': 1}, 'jene': {'_Total': 1}, 'ofthings': {'_Total': 1}, 'apributed': {'_Total': 1}, 'wais': {'_Total': 4}, 'apquestion': {'_Total': 1}, 'stil': {'_Total': 28}, 'requi': {'_Total': 1}, 'sevl': {'_Total': 1}, 'sied': {'_Total': 14}, 'itf': {'_Total': 11}, 'grantid': {'_Total': 1}, 'debrino': {'_Total': 1}, 'andevering': {'_Total': 1}, 'misterious': {'_Total': 1}, 'semed': {'_Total': 7}, 'combotion': {'_Total': 1}, 'eloments': {'_Total': 1}, \"whe's\": {'_Total': 1}, 'afirmetive': {'_Total': 1}, 'reckin': {'_Total': 1}, 'assertaning': {'_Total': 1}, 'ixtenth': {'_Total': 1}, 'lahte': {'_Total': 1}, 'merning': {'_Total': 1}, 'cas': {'_Total': 13}, 'kepng': {'_Total': 1}, 'anmoved': {'_Total': 1}, 'aros': {'_Total': 2}, 'sume': {'_Total': 6}, 'follod': {'_Total': 2}, 'disirbl': {'_Total': 1}, 'benszof': {'_Total': 1}, 'acompeny': {'_Total': 1}, 'rible': {'_Total': 1}, 'bufor': {'_Total': 1}, 'stoarting': {'_Total': 1}, 'despensble': {'_Total': 1}, 'dobrene': {'_Total': 1}, 'recard': {'_Total': 1}, 'canbus': {'_Total': 1}, 'rof': {'_Total': 1}, 'teatius': {'_Total': 1}, 'dificlt': {'_Total': 2}, \"coun'\": {'_Total': 1}, 'tlightly': {'_Total': 1}, 'hecorse': {'_Total': 1}, 'stru': {'_Total': 2}, 'shal': {'_Total': 11}, 'orh': {'_Total': 1}, 'offe': {'_Total': 1}, 'solitahd': {'_Total': 1}, 'movlence': {'_Total': 1}, 'hasmon': {'_Total': 1}, 'topsals': {'_Total': 1}, 'jeanyuary': {'_Total': 1}, 'repars': {'_Total': 1}, 'sconner': {'_Total': 1}, 'doabrin': {'_Total': 1}, 'mapeary': {'_Total': 1}, 'rapad': {'_Total': 1}, 'prongres': {'_Total': 1}, 'spigd': {'_Total': 1}, 'cloude': {'_Total': 1}, 'scee': {'_Total': 1}, 'quihte': {'_Total': 1}, 'moh': {'_Total': 1}, 'anabled': {'_Total': 2}, 'tohl': {'_Total': 1}, 'staty': {'_Total': 1}, 'lekces': {'_Total': 1}, 'cary': {'_Total': 7}, 'hacons': {'_Total': 1}, 'nero': {'_Total': 2}, 'chanl': {'_Total': 2}, 'formd': {'_Total': 3}, 'passege': {'_Total': 1}, 'pertecte': {'_Total': 1}, 'roftest': {'_Total': 1}, 'shord': {'_Total': 2}, 'cammes': {'_Total': 1}, 'lef': {'_Total': 6}, 'contiment': {'_Total': 1}, 'honner': {'_Total': 1}, 'finmding': {'_Total': 1}, 'illend': {'_Total': 1}, 'momen': {'_Total': 2}, 'perficcly': {'_Total': 1}, 'stfafied': {'_Total': 1}, 'begant': {'_Total': 1}, 'wown': {'_Total': 2}, 'tarend': {'_Total': 1}, 'yoht': {'_Total': 2}, 'servis': {'_Total': 3}, 'sertin': {'_Total': 5}, 'trae': {'_Total': 1}, 'bessl': {'_Total': 1}, 'wasan': {'_Total': 1}, 'sigt': {'_Total': 2}, 'pardly': {'_Total': 1}, 'morten': {'_Total': 1}, 'oing': {'_Total': 2}, 'incres': {'_Total': 1}, 'erps': {'_Total': 1}, 'randge': {'_Total': 1}, 'veim': {'_Total': 1}, 'riging': {'_Total': 1}, 'alon': {'_Total': 6}, 'vesible': {'_Total': 1}, 'trposed': {'_Total': 1}, 'captin': {'_Total': 7}, 'witle': {'_Total': 4}, 'topk': {'_Total': 3}, 'ingenders': {'_Total': 1}, 'hil': {'_Total': 4}, 'teft': {'_Total': 1}, 'andty': {'_Total': 1}, 'peglen': {'_Total': 1}, 'hother': {'_Total': 1}, 'cri': {'_Total': 3}, 'denise': {'_Total': 1}, 'quorse': {'_Total': 1}, 'languige': {'_Total': 1}, 'wrec': {'_Total': 1}, 'idnes': {'_Total': 1}, 'bla': {'_Total': 1}, 'misfortion': {'_Total': 1}, 'stilllin': {'_Total': 1}, 'cron': {'_Total': 3}, 'amol': {'_Total': 2}, 'gamated': {'_Total': 1}, 'whe': {'_Total': 41}, 'understod': {'_Total': 1}, 'sortd': {'_Total': 1}, 'objrections': {'_Total': 1}, 'peopl': {'_Total': 4}, 'liht': {'_Total': 9}, 'exces': {'_Total': 1}, 'berns': {'_Total': 1}, 'surledly': {'_Total': 1}, 'tenation': {'_Total': 1}, 'prabencs': {'_Total': 1}, 'spokin': {'_Total': 4}, 'wornty': {'_Total': 1}, 'intrest': {'_Total': 3}, 'langod': {'_Total': 1}, 'amisery': {'_Total': 1}, 'oworthy': {'_Total': 1}, 'atentumen': {'_Total': 1}, 'stoty': {'_Total': 1}, 'kamon': {'_Total': 1}, 'inagon': {'_Total': 1}, 'anatr': {'_Total': 1}, 'trefesing': {'_Total': 1}, 'tostedy': {'_Total': 1}, 'theviber': {'_Total': 1}, 'scorpon': {'_Total': 1}, 'torantu': {'_Total': 1}, 'backingto': {'_Total': 1}, 'darmnes': {'_Total': 1}, 'uglethat': {'_Total': 1}, 'reckining': {'_Total': 1}, 'gose': {'_Total': 2}, 'afedently': {'_Total': 1}, 'vestibu': {'_Total': 1}, 'enother': {'_Total': 2}, 'fortenet': {'_Total': 1}, 'fel': {'_Total': 14}, 'poichnt': {'_Total': 1}, 'thes': {'_Total': 55}, 'ites': {'_Total': 1}, 'cloce': {'_Total': 1}, 'megefor': {'_Total': 1}, 'nendes': {'_Total': 1}, 'mangod': {'_Total': 1}, 'horor': {'_Total': 1}, 'excuded': {'_Total': 1}, 'deninish': {'_Total': 1}, 'mumber': {'_Total': 1}, 'amente': {'_Total': 1}, 'thatt': {'_Total': 1}, 'abjet': {'_Total': 1}, 'spaking': {'_Total': 1}, 'agebre': {'_Total': 1}, 'mediscin': {'_Total': 1}, 'botyn': {'_Total': 1}, 'bech': {'_Total': 1}, 'whela': {'_Total': 1}, 'pucs': {'_Total': 1}, 'whech': {'_Total': 5}, 'ofe': {'_Total': 14}, 'whenaby': {'_Total': 1}, 'thath': {'_Total': 5}, 'profetions': {'_Total': 1}, 'aterd': {'_Total': 1}, 'althe': {'_Total': 3}, 'acdente': {'_Total': 1}, 'susuel': {'_Total': 1}, 'intellegens': {'_Total': 1}, 'odius': {'_Total': 1}, 'idlnis': {'_Total': 1}, 'sedy': {'_Total': 1}, 'fometyas': {'_Total': 1}, 'tasbo': {'_Total': 1}, 'plinting': {'_Total': 1}, 'woh': {'_Total': 1}, 'renidy': {'_Total': 1}, 'chroce': {'_Total': 1}, 'prmited': {'_Total': 1}, 'laty': {'_Total': 5}, 'wel': {'_Total': 47}, 'prescuses': {'_Total': 1}, 'mady': {'_Total': 2}, 'banishd': {'_Total': 1}, 'medicin': {'_Total': 2}, 'becoms': {'_Total': 1}, 'horibl': {'_Total': 1}, 'hewever': {'_Total': 1}, 'ennimy': {'_Total': 1}, 'contomplation': {'_Total': 1}, 'itmedity': {'_Total': 1}, 'lighte': {'_Total': 3}, 'hobel': {'_Total': 1}, 'sorming': {'_Total': 1}, 'facturrer': {'_Total': 1}, 'lovfe': {'_Total': 1}, 'lumts': {'_Total': 1}, 'basterd': {'_Total': 1}, 'commen': {'_Total': 1}, 'thist': {'_Total': 1}, 'facturer': {'_Total': 1}, 'alwy': {'_Total': 1}, 'whas': {'_Total': 20}, 'sometines': {'_Total': 1}, 'acoieis': {'_Total': 1}, 'leset': {'_Total': 1}, 'simplan': {'_Total': 1}, 'usfulded': {'_Total': 1}, 'atention': {'_Total': 3}, 'dity': {'_Total': 1}, 'fufed': {'_Total': 1}, 'maredts': {'_Total': 1}, 'forwits': {'_Total': 1}, 'litl': {'_Total': 10}, 'herly': {'_Total': 2}, 'offher': {'_Total': 1}, 'hungrd': {'_Total': 1}, 'whi': {'_Total': 9}, 'mygrinder': {'_Total': 1}, 'nontery': {'_Total': 1}, 'guter': {'_Total': 1}, 'hardrsser': {'_Total': 1}, 'nelle': {'_Total': 1}, 'cablor': {'_Total': 1}, 'miy': {'_Total': 1}, 'toks': {'_Total': 1}, 'slamng': {'_Total': 1}, 'thingkes': {'_Total': 1}, 'hidrs': {'_Total': 1}, 'withthout': {'_Total': 3}, 'secin': {'_Total': 1}, 'tofli': {'_Total': 1}, 'thererin': {'_Total': 1}, 'marvl': {'_Total': 1}, 'jeus': {'_Total': 2}, 'humen': {'_Total': 2}, 'dovicion': {'_Total': 1}, 'lominus': {'_Total': 1}, 'shaty': {'_Total': 1}, 'shuder': {'_Total': 2}, 'kiok': {'_Total': 1}, 'lhes': {'_Total': 1}, 'hald': {'_Total': 3}, 'gof': {'_Total': 1}, 'whoret': {'_Total': 1}, 'afridment': {'_Total': 1}, 'langgoge': {'_Total': 1}, 'othewas': {'_Total': 1}, 'tosay': {'_Total': 1}, 'abatd': {'_Total': 1}, 'siveliation': {'_Total': 1}, 'compecated': {'_Total': 1}, 'recclds': {'_Total': 1}, 'sotiol': {'_Total': 1}, 'siblaation': {'_Total': 1}, 'fernition': {'_Total': 1}, 'dicen': {'_Total': 1}, 'charty': {'_Total': 1}, 'suvarity': {'_Total': 1}, 'tomme': {'_Total': 1}, 'arother': {'_Total': 1}, 'ijudgd': {'_Total': 1}, 'cacesmates': {'_Total': 1}, 'pra': {'_Total': 2}, 'bltedan': {'_Total': 1}, 'dilthe': {'_Total': 1}, 'yhou': {'_Total': 2}, 'hou': {'_Total': 5}, 'devouor': {'_Total': 1}, 'whu': {'_Total': 5}, 'stirder': {'_Total': 1}, 'trumlng': {'_Total': 1}, 'hellfe': {'_Total': 1}, 'ferfr': {'_Total': 1}, 'moiful': {'_Total': 1}, 'tbe': {'_Total': 4}, 'anxty': {'_Total': 1}, 'muny': {'_Total': 1}, 'whoarl': {'_Total': 1}, 'diatribl': {'_Total': 1}, 'slandeer': {'_Total': 1}, 'afte': {'_Total': 2}, 'misforction': {'_Total': 1}, 'opf': {'_Total': 1}, 'prvilin': {'_Total': 1}, 'wevher': {'_Total': 1}, 'bengol': {'_Total': 1}, 'oppleser': {'_Total': 1}, 'arcomtion': {'_Total': 1}, 'bervebl': {'_Total': 1}, 'sibl': {'_Total': 1}, 'sparkls': {'_Total': 2}, 'aquestin': {'_Total': 1}, 'porbing': {'_Total': 1}, 'agof': {'_Total': 1}, 'sociity': {'_Total': 1}, 'sance': {'_Total': 1}, 'consiver': {'_Total': 2}, 'trong': {'_Total': 1}, 'botom': {'_Total': 1}, 'histery': {'_Total': 1}, 'amicture': {'_Total': 1}, 'lthins': {'_Total': 1}, 'histiria': {'_Total': 1}, 'mingls': {'_Total': 1}, 'eveything': {'_Total': 1}, 'differnt': {'_Total': 2}, 'orters': {'_Total': 1}, 'offacxs': {'_Total': 1}, 'whigh': {'_Total': 1}, 'bont': {'_Total': 1}, 'chethere': {'_Total': 1}, 'whicht': {'_Total': 3}, 'alliys': {'_Total': 1}, 'intolaced': {'_Total': 1}, 'ofthen': {'_Total': 3}, 'recelts': {'_Total': 1}, 'closly': {'_Total': 2}, 'geply': {'_Total': 1}, 'oly': {'_Total': 9}, 'monto': {'_Total': 1}, 'acqulanted': {'_Total': 1}, 'notkt': {'_Total': 1}, 'vod': {'_Total': 1}, 'semblense': {'_Total': 1}, 'cjal': {'_Total': 1}, 'belon': {'_Total': 2}, 'clas': {'_Total': 5}, 'dilect': {'_Total': 1}, 'icxplore': {'_Total': 1}, 'belik': {'_Total': 1}, 'fhiil': {'_Total': 1}, 'ajust': {'_Total': 1}, 'trfesing': {'_Total': 1}, 'xamin': {'_Total': 1}, 'afact': {'_Total': 2}, 'hesetatin': {'_Total': 1}, 'factin': {'_Total': 1}, 'hemanity': {'_Total': 1}, 'prces': {'_Total': 1}, 'wathou': {'_Total': 1}, 'hidyyus': {'_Total': 1}, 'mermer': {'_Total': 1}, 'aloset': {'_Total': 1}, 'tumen': {'_Total': 1}, 'acxintes': {'_Total': 1}, 'nely': {'_Total': 2}, 'fanting': {'_Total': 2}, 'yol': {'_Total': 3}, 'reu': {'_Total': 1}, 'cou': {'_Total': 4}, 'whor': {'_Total': 4}, 'nyou': {'_Total': 1}, 'chuls': {'_Total': 1}, 'nfor': {'_Total': 1}, 'portrit': {'_Total': 1}, 'apreatens': {'_Total': 1}, 'lefh': {'_Total': 4}, 'beang': {'_Total': 1}, 'dest': {'_Total': 2}, 'prtectur': {'_Total': 1}, 'insencible': {'_Total': 1}, 'amaking': {'_Total': 1}, 'tir': {'_Total': 3}, 'cometo': {'_Total': 1}, 'castd': {'_Total': 1}, 'smal': {'_Total': 12}, 'sollid': {'_Total': 1}, 'sover': {'_Total': 1}, 'cobbinet': {'_Total': 1}, 'supprised': {'_Total': 2}, 'thn': {'_Total': 6}, 'beter': {'_Total': 7}, 'tikin': {'_Total': 1}, 'porfectly': {'_Total': 1}, 'cear': {'_Total': 1}, 'inded': {'_Total': 14}, 'dbeld': {'_Total': 1}, 'sinsit': {'_Total': 2}, 'uf': {'_Total': 16}, 'pantes': {'_Total': 1}, 'wol': {'_Total': 15}, 'tyeoaer': {'_Total': 1}, 'arived': {'_Total': 1}, 'tooplase': {'_Total': 1}, 'otbo': {'_Total': 1}, 'secrcy': {'_Total': 1}, 'takng': {'_Total': 1}, 'nubon': {'_Total': 1}, 'offis': {'_Total': 6}, 'berit': {'_Total': 1}, 'utiful': {'_Total': 1}, 'thusti': {'_Total': 1}, 'comfert': {'_Total': 3}, 'hatby': {'_Total': 1}, 'imbraing': {'_Total': 1}, 'felnes': {'_Total': 1}, 'motther': {'_Total': 2}, 'wif': {'_Total': 3}, 'agreble': {'_Total': 3}, 'companin': {'_Total': 2}, 'mhey': {'_Total': 1}, 'bary': {'_Total': 3}, 'evely': {'_Total': 1}, 'nutrl': {'_Total': 1}, 'goled': {'_Total': 2}, 'hevn': {'_Total': 1}, 'fresting': {'_Total': 1}, 'thothe': {'_Total': 1}, 'telthem': {'_Total': 1}, 'bilencs': {'_Total': 1}, 'aters': {'_Total': 4}, 'towords': {'_Total': 1}, 'hous': {'_Total': 9}, 'crices': {'_Total': 1}, 'beturmen': {'_Total': 1}, 'weth': {'_Total': 5}, 'blestor': {'_Total': 1}, 'ound': {'_Total': 1}, 'happefor': {'_Total': 1}, 'intencsitd': {'_Total': 1}, 'shese': {'_Total': 1}, 'sudebnly': {'_Total': 1}, 'chranged': {'_Total': 1}, 'coer': {'_Total': 3}, 'havd': {'_Total': 12}, 'fowere': {'_Total': 1}, 'swo': {'_Total': 2}, 'amce': {'_Total': 1}, 'tofo': {'_Total': 1}, 'waokh': {'_Total': 1}, 'thi': {'_Total': 28}, 'streates': {'_Total': 1}, 'shoered': {'_Total': 1}, 'obong': {'_Total': 1}, 'upong': {'_Total': 1}, 'bedy': {'_Total': 2}, 'wue': {'_Total': 1}, 'gothim': {'_Total': 1}, 'whol': {'_Total': 8}, 'broh': {'_Total': 1}, 'gided': {'_Total': 1}, 'seeme': {'_Total': 8}, 'prived': {'_Total': 1}, 'gjintem': {'_Total': 1}, 'toucties': {'_Total': 1}, 'amm': {'_Total': 1}, 'lovit': {'_Total': 1}, 'struk': {'_Total': 1}, 'clearnit': {'_Total': 1}, 'persscons': {'_Total': 1}, 'rord': {'_Total': 1}, 'sonterd': {'_Total': 1}, 'lagully': {'_Total': 1}, 'voyd': {'_Total': 1}, 'fhetee': {'_Total': 1}, 'rectreation': {'_Total': 1}, 'prvitied': {'_Total': 1}, 'toleadens': {'_Total': 1}, 'voly': {'_Total': 1}, 'und': {'_Total': 10}, 'imme': {'_Total': 1}, 'tacin': {'_Total': 1}, 'wayy': {'_Total': 1}, 'chiled': {'_Total': 6}, 'tigd': {'_Total': 1}, 'lible': {'_Total': 1}, 'frustrye': {'_Total': 1}, 'wored': {'_Total': 14}, 'imigh': {'_Total': 1}, 'albertdy': {'_Total': 1}, 'misd': {'_Total': 2}, 'seidid': {'_Total': 1}, 'sertien': {'_Total': 1}, 'wistakin': {'_Total': 1}, 'preison': {'_Total': 1}, 'lok': {'_Total': 7}, 'opther': {'_Total': 1}, 'donm': {'_Total': 1}, 'hrbes': {'_Total': 1}, 'omsofe': {'_Total': 1}, 'suffine': {'_Total': 1}, 'whw': {'_Total': 1}, 'genvle': {'_Total': 1}, 'wlmen': {'_Total': 1}, 'natrl': {'_Total': 1}, 'instepme': {'_Total': 1}, 'helli': {'_Total': 1}, 'shating': {'_Total': 2}, 'olver': {'_Total': 1}, 'har': {'_Total': 10}, 'somin': {'_Total': 1}, 'metid': {'_Total': 1}, 'sprintieg': {'_Total': 1}, 'whn': {'_Total': 12}, 'fothere': {'_Total': 1}, 'messeg': {'_Total': 1}, 'trarelation': {'_Total': 1}, 'heu': {'_Total': 3}, 'passelong': {'_Total': 1}, 'stretd': {'_Total': 2}, 'acorses': {'_Total': 1}, 'wors': {'_Total': 6}, 'retdal': {'_Total': 1}, 'companens': {'_Total': 1}, 'faseas': {'_Total': 1}, 'mofle': {'_Total': 1}, 'rodly': {'_Total': 1}, 'servent': {'_Total': 4}, 'aus': {'_Total': 1}, 'foht': {'_Total': 1}, 'carmfl': {'_Total': 1}, 'nistratin': {'_Total': 1}, 'jestis': {'_Total': 2}, 'spose': {'_Total': 2}, 'havitins': {'_Total': 1}, 'augel': {'_Total': 1}, 'anydis': {'_Total': 1}, 'astere': {'_Total': 1}, 'coum': {'_Total': 2}, 'befole': {'_Total': 1}, 'sfae': {'_Total': 1}, 'plase': {'_Total': 4}, 'tiime': {'_Total': 1}, 'wih': {'_Total': 8}, 'comcend': {'_Total': 1}, 'tof': {'_Total': 13}, 'paties': {'_Total': 1}, 'siffition': {'_Total': 1}, 'selebratio': {'_Total': 1}, 'maricged': {'_Total': 1}, 'eanny': {'_Total': 1}, 'molitese': {'_Total': 1}, 'bequired': {'_Total': 1}, 'whact': {'_Total': 1}, 'myi': {'_Total': 2}, 'shalve': {'_Total': 1}, 'pratrit': {'_Total': 1}, 'witnes': {'_Total': 1}, 'ondei': {'_Total': 1}, 'wach': {'_Total': 3}, 'jutd': {'_Total': 1}, 'iny': {'_Total': 6}, 'sreached': {'_Total': 1}, 'brokin': {'_Total': 1}, 'disparn': {'_Total': 1}, 'sjus': {'_Total': 1}, 'cadec': {'_Total': 1}, 'esef': {'_Total': 1}, 'cros': {'_Total': 7}, 'chanein': {'_Total': 1}, 'gentlmen': {'_Total': 2}, 'manig': {'_Total': 1}, 'uttr': {'_Total': 1}, 'rher': {'_Total': 1}, 'wiovement': {'_Total': 1}, 'unf': {'_Total': 1}, 'whife': {'_Total': 1}, 'thegan': {'_Total': 4}, 'wrend': {'_Total': 1}, 'tyeur': {'_Total': 1}, 'stoe': {'_Total': 2}, 'beledit': {'_Total': 1}, 'bles': {'_Total': 2}, 'dispensationg': {'_Total': 1}, 'hevemn': {'_Total': 1}, 'somany': {'_Total': 1}, 'combencs': {'_Total': 1}, 'injesteons': {'_Total': 1}, 'sthoctes': {'_Total': 1}, 'cabenens': {'_Total': 1}, 'nict': {'_Total': 1}, 'resalv': {'_Total': 1}, 'toplease': {'_Total': 1}, 'whenolh': {'_Total': 1}, 'handetd': {'_Total': 1}, 'frine': {'_Total': 1}, 'parlossis': {'_Total': 1}, 'raty': {'_Total': 2}, 'twan': {'_Total': 1}, 'cuihthe': {'_Total': 1}, 'prpensitis': {'_Total': 1}, 'dhos': {'_Total': 2}, 'odseed': {'_Total': 1}, 'wik': {'_Total': 3}, 'disin': {'_Total': 1}, 'lict': {'_Total': 1}, 'wissie': {'_Total': 1}, 'ocatea': {'_Total': 1}, 'workk': {'_Total': 1}, 'ovemod': {'_Total': 1}, 'herlie': {'_Total': 1}, 'worh': {'_Total': 1}, 'parencs': {'_Total': 1}, 'strickges': {'_Total': 1}, 'retirmment': {'_Total': 1}, 'shonning': {'_Total': 1}, 'evevrey': {'_Total': 1}, 'ilesthe': {'_Total': 1}, 'gred': {'_Total': 1}, 'fortun': {'_Total': 1}, 'grasefull': {'_Total': 1}, 'anmated': {'_Total': 1}, 'letd': {'_Total': 1}, 'befor': {'_Total': 20}, 'sovher': {'_Total': 1}, 'canl': {'_Total': 1}, 'stiks': {'_Total': 1}, 'succeedad': {'_Total': 1}, 'nopening': {'_Total': 1}, 'windo': {'_Total': 7}, 'moligh': {'_Total': 1}, 'shong': {'_Total': 1}, 'gritly': {'_Total': 1}, 'distingwish': {'_Total': 1}, 'colerf': {'_Total': 1}, 'haning': {'_Total': 2}, 'herme': {'_Total': 1}, 'finly': {'_Total': 3}, 'oter': {'_Total': 4}, 'disslation': {'_Total': 1}, 'sorde': {'_Total': 1}, 'cloks': {'_Total': 1}, 'ckan': {'_Total': 1}, 'itle': {'_Total': 2}, 'giding': {'_Total': 1}, 'datios': {'_Total': 1}, 'gasing': {'_Total': 2}, 'aebl': {'_Total': 1}, 'hagres': {'_Total': 1}, 'werd': {'_Total': 6}, 'tro': {'_Total': 7}, 'herles': {'_Total': 1}, 'comfomed': {'_Total': 1}, 'avboh': {'_Total': 1}, 'thact': {'_Total': 3}, 'choloking': {'_Total': 1}, 'locadia': {'_Total': 1}, 'parence': {'_Total': 1}, 'whishe': {'_Total': 2}, 'outsie': {'_Total': 1}, 'leca': {'_Total': 1}, 'ias': {'_Total': 3}, 'saf': {'_Total': 1}, 'coussity': {'_Total': 1}, 'wasid': {'_Total': 1}, 'tredeses': {'_Total': 1}, 'rsurinse': {'_Total': 1}, 'whant': {'_Total': 1}, 'froli': {'_Total': 1}, 'fomationg': {'_Total': 1}, 'duse': {'_Total': 1}, 'sommers': {'_Total': 1}, 'santhe': {'_Total': 1}, 'vention': {'_Total': 1}, 'hemtsels': {'_Total': 1}, 'annother': {'_Total': 1}, 'odona': {'_Total': 1}, 'strol': {'_Total': 1}, 'wetd': {'_Total': 1}, 'redoful': {'_Total': 1}, 'comcernin': {'_Total': 1}, 'dotion': {'_Total': 1}, 'hegirl': {'_Total': 1}, 'caryd': {'_Total': 2}, 'whos': {'_Total': 2}, 'famly': {'_Total': 10}, 'whmat': {'_Total': 1}, 'defene': {'_Total': 1}, 'hersh': {'_Total': 1}, 'sinnor': {'_Total': 1}, 'doise': {'_Total': 1}, 'fineto': {'_Total': 1}, 'husben': {'_Total': 2}, 'creame': {'_Total': 1}, 'subtins': {'_Total': 1}, 'befo': {'_Total': 1}, 'pidiing': {'_Total': 1}, 'tehldes': {'_Total': 1}, 'flod': {'_Total': 1}, 'fastecsd': {'_Total': 1}, 'nocaty': {'_Total': 1}, 'recomvery': {'_Total': 1}, 'broght': {'_Total': 1}, 'galadnes': {'_Total': 1}, 'sto': {'_Total': 5}, 'camed': {'_Total': 3}, 'sencses': {'_Total': 1}, 'lussing': {'_Total': 1}, 'frind': {'_Total': 4}, 'herselvf': {'_Total': 1}, 'whedelf': {'_Total': 1}, 'armes': {'_Total': 4}, 'wheld': {'_Total': 2}, 'dissengage': {'_Total': 1}, 'hoursef': {'_Total': 1}, 'sidnur': {'_Total': 1}, 'stried': {'_Total': 1}, 'fof': {'_Total': 3}, 'houms': {'_Total': 1}, 'ufh': {'_Total': 1}, 'hollde': {'_Total': 1}, 'percin': {'_Total': 1}, 'wotbho': {'_Total': 1}, 'friens': {'_Total': 1}, 'prixpeck': {'_Total': 1}, 'thingking': {'_Total': 1}, 'bisibles': {'_Total': 1}, 'cuant': {'_Total': 1}, 'bht': {'_Total': 2}, 'danjur': {'_Total': 1}, 'afort': {'_Total': 1}, 'nuht': {'_Total': 1}, 'andduing': {'_Total': 1}, 'bisit': {'_Total': 1}, 'danly': {'_Total': 1}, 'treteid': {'_Total': 1}, 'byt': {'_Total': 6}, 'mastr': {'_Total': 1}, 'mistrs': {'_Total': 3}, 'abeled': {'_Total': 1}, 'thei': {'_Total': 5}, 'tranin': {'_Total': 1}, 'peaopl': {'_Total': 2}, 'einglishmen': {'_Total': 1}, 'shoul': {'_Total': 11}, 'watet': {'_Total': 1}, 'servrey': {'_Total': 1}, 'tablwod': {'_Total': 1}, 'satixpaction': {'_Total': 1}, 'quitod': {'_Total': 1}, 'sosiel': {'_Total': 1}, 'fontiens': {'_Total': 1}, 'ject': {'_Total': 1}, 'opon': {'_Total': 11}, 'fangers': {'_Total': 1}, 'sirr': {'_Total': 4}, 'crightnin': {'_Total': 1}, 'ingwish': {'_Total': 1}, 'yofactur': {'_Total': 1}, 'crihten': {'_Total': 1}, 'mousteri': {'_Total': 1}, 'creswo': {'_Total': 1}, 'hessister': {'_Total': 1}, 'jon': {'_Total': 7}, 'talrer': {'_Total': 1}, 'weng': {'_Total': 2}, 'eding': {'_Total': 1}, 'pabers': {'_Total': 1}, 'mentien': {'_Total': 1}, 'likly': {'_Total': 2}, 'youti': {'_Total': 1}, 'sndeder': {'_Total': 1}, 'begursy': {'_Total': 1}, 'selectin': {'_Total': 1}, 'geasit': {'_Total': 1}, 'deterland': {'_Total': 1}, 'nowns': {'_Total': 1}, 'hostes': {'_Total': 1}, 'theneaing': {'_Total': 1}, 'codten': {'_Total': 1}, 'elyere': {'_Total': 1}, 'cotin': {'_Total': 1}, 'pearnces': {'_Total': 1}, 'senet': {'_Total': 1}, 'creswel': {'_Total': 1}, 'eaded': {'_Total': 1}, 'nomeslae': {'_Total': 1}, 'betee': {'_Total': 1}, 'racies': {'_Total': 1}, 'onnbl': {'_Total': 1}, 'smath': {'_Total': 1}, 'siras': {'_Total': 1}, 'woking': {'_Total': 1}, 'wiotly': {'_Total': 1}, 'optown': {'_Total': 1}, 'fom': {'_Total': 10}, 'eastelys': {'_Total': 1}, 'malsterd': {'_Total': 1}, 'afese': {'_Total': 1}, 'suide': {'_Total': 1}, 'norbernos': {'_Total': 1}, 'setheners': {'_Total': 1}, 'batno': {'_Total': 1}, 'metrl': {'_Total': 1}, 'ounder': {'_Total': 3}, 'thesmaters': {'_Total': 1}, 'wreladet': {'_Total': 1}, 'zoe': {'_Total': 1}, 'mhis': {'_Total': 3}, 'prile': {'_Total': 1}, 'therfor': {'_Total': 1}, 'moster': {'_Total': 1}, 'gravbly': {'_Total': 1}, 'serprised': {'_Total': 1}, 'anxpres': {'_Total': 1}, 'inself': {'_Total': 2}, 'qorgely': {'_Total': 1}, 'ersef': {'_Total': 1}, 'notibly': {'_Total': 1}, 'greahtly': {'_Total': 1}, 'intelligen': {'_Total': 1}, 'sor': {'_Total': 6}, 'rvter': {'_Total': 1}, 'lokh': {'_Total': 1}, 'herlik': {'_Total': 1}, 'intelligencs': {'_Total': 1}, 'ov': {'_Total': 8}, 'enlishmen': {'_Total': 1}, 'intencsin': {'_Total': 1}, 'inbea': {'_Total': 1}, 'bekan': {'_Total': 1}, 'quiht': {'_Total': 4}, 'eloquet': {'_Total': 1}, 'harvdly': {'_Total': 1}, 'derde': {'_Total': 1}, 'miit': {'_Total': 1}, 'jenl': {'_Total': 1}, 'treand': {'_Total': 1}, 'devigu': {'_Total': 2}, 'neted': {'_Total': 1}, 'sudmittecd': {'_Total': 1}, 'scooty': {'_Total': 1}, 'egication': {'_Total': 1}, 'asfor': {'_Total': 1}, 'moar': {'_Total': 2}, 'rasis': {'_Total': 1}, 'semly': {'_Total': 1}, 'olped': {'_Total': 1}, 'misus': {'_Total': 5}, 'grea': {'_Total': 4}, 'soteners': {'_Total': 1}, 'refor': {'_Total': 2}, 'intimitly': {'_Total': 1}, 'oways': {'_Total': 1}, 'bividly': {'_Total': 1}, 'clulty': {'_Total': 1}, 'pord': {'_Total': 4}, 'subdec': {'_Total': 1}, 'notter': {'_Total': 1}, 'axatly': {'_Total': 1}, 'welcom': {'_Total': 1}, 'posatively': {'_Total': 1}, 'haoick': {'_Total': 1}, 'aded': {'_Total': 2}, 'creswell': {'_Total': 1}, 'avorting': {'_Total': 1}, 'kne': {'_Total': 1}, 'borters': {'_Total': 1}, 'avd': {'_Total': 8}, 'liveding': {'_Total': 1}, 'glo': {'_Total': 4}, 'ets': {'_Total': 1}, 'borther': {'_Total': 1}, 'lookd': {'_Total': 1}, 'lgom': {'_Total': 1}, 'momothe': {'_Total': 1}, 'posd': {'_Total': 1}, 'stipl': {'_Total': 1}, 'amasement': {'_Total': 1}, 'disily': {'_Total': 1}, 'agenst': {'_Total': 1}, 'tetr': {'_Total': 2}, 'inles': {'_Total': 1}, 'croling': {'_Total': 1}, 'creaping': {'_Total': 1}, 'strugld': {'_Total': 1}, 'speatulas': {'_Total': 1}, 'terrg': {'_Total': 1}, 'myghtdy': {'_Total': 1}, 'glasping': {'_Total': 1}, 'stu': {'_Total': 2}, 'fror': {'_Total': 2}, 'tanders': {'_Total': 1}, 'wekly': {'_Total': 1}, 'oben': {'_Total': 3}, 'queshting': {'_Total': 1}, 'tht': {'_Total': 15}, 'worderd': {'_Total': 1}, 'lusht': {'_Total': 1}, 'ilend': {'_Total': 2}, 'dassily': {'_Total': 1}, 'lih': {'_Total': 1}, 'sweota': {'_Total': 1}, 'neadth': {'_Total': 1}, 'migt': {'_Total': 1}, 'wurloly': {'_Total': 1}, 'starteid': {'_Total': 1}, 'dhot': {'_Total': 1}, 'heryd': {'_Total': 1}, 'staf': {'_Total': 3}, 'firthere': {'_Total': 1}, 'onwor': {'_Total': 1}, 'intobe': {'_Total': 1}, 'rampard': {'_Total': 1}, 'cuering': {'_Total': 1}, 'foth': {'_Total': 1}, 'fleating': {'_Total': 1}, 'gancs': {'_Total': 2}, 'shol': {'_Total': 18}, 'rounther': {'_Total': 1}, 'fowerd': {'_Total': 1}, 'wabeng': {'_Total': 1}, 'tros': {'_Total': 5}, 'sigrome': {'_Total': 1}, 'littl': {'_Total': 20}, 'emagining': {'_Total': 1}, 'veldi': {'_Total': 1}, 'fumand': {'_Total': 1}, 'hapf': {'_Total': 2}, 'mighe': {'_Total': 1}, 'wating': {'_Total': 6}, 'wekping': {'_Total': 1}, 'sorof': {'_Total': 1}, 'mucht': {'_Total': 2}, 'thisef': {'_Total': 1}, 'tantecy': {'_Total': 1}, 'drns': {'_Total': 1}, 'belte': {'_Total': 1}, 'roundete': {'_Total': 1}, 'reried': {'_Total': 1}, 'entil': {'_Total': 1}, 'slekping': {'_Total': 1}, 'legon': {'_Total': 1}, 'iland': {'_Total': 1}, 'cohton': {'_Total': 1}, 'forher': {'_Total': 1}, 'quars': {'_Total': 1}, 'coide': {'_Total': 1}, 'ege': {'_Total': 1}, 'hervy': {'_Total': 1}, 'bursed': {'_Total': 1}, 'bols': {'_Total': 1}, 'thenf': {'_Total': 1}, 'mie': {'_Total': 1}, 'auft': {'_Total': 1}, 'sterd': {'_Total': 2}, 'sgi': {'_Total': 1}, 'ligke': {'_Total': 12}, 'ste': {'_Total': 5}, 'dikhs': {'_Total': 1}, 'weake': {'_Total': 1}, 'herlay': {'_Total': 1}, 'reating': {'_Total': 1}, 'ritl': {'_Total': 2}, 'kifin': {'_Total': 1}, 'tever': {'_Total': 2}, 'thelagon': {'_Total': 1}, 'gcreak': {'_Total': 1}, 'formen': {'_Total': 1}, 'draned': {'_Total': 1}, 'longen': {'_Total': 1}, 'prooked': {'_Total': 1}, 'thuss': {'_Total': 1}, 'imty': {'_Total': 1}, 'derectly': {'_Total': 1}, 'astlonished': {'_Total': 1}, 'holpe': {'_Total': 2}, 'drem': {'_Total': 2}, 'widered': {'_Total': 1}, 'toht': {'_Total': 2}, 'uppermoset': {'_Total': 1}, 'flese': {'_Total': 1}, 'anzoras': {'_Total': 1}, 'uind': {'_Total': 1}, 'darte': {'_Total': 1}, 'pased': {'_Total': 1}, 'stronly': {'_Total': 1}, 'fhou': {'_Total': 1}, 'dreemy': {'_Total': 1}, 'pleaur': {'_Total': 1}, 'revelationg': {'_Total': 1}, 'ligted': {'_Total': 1}, 'pliht': {'_Total': 1}, 'sloly': {'_Total': 9}, 'toird': {'_Total': 1}, 'flaned': {'_Total': 1}, 'bornning': {'_Total': 1}, 'ebout': {'_Total': 1}, 'cotpen': {'_Total': 1}, 'caled': {'_Total': 7}, 'nhow': {'_Total': 1}, 'hafowr': {'_Total': 1}, 'noythe': {'_Total': 1}, 'tarking': {'_Total': 1}, 'jis': {'_Total': 2}, 'pocens': {'_Total': 1}, 'cavesation': {'_Total': 1}, 'thang': {'_Total': 2}, 'cutn': {'_Total': 1}, 'frins': {'_Total': 2}, 'creswels': {'_Total': 1}, 'reatitid': {'_Total': 1}, 'hunderd': {'_Total': 2}, 'fiopty': {'_Total': 1}, 'stoks': {'_Total': 1}, 'starte': {'_Total': 1}, 'wewa': {'_Total': 1}, 'gogen': {'_Total': 1}, 'flece': {'_Total': 1}, 'sve': {'_Total': 1}, 'flce': {'_Total': 1}, 'harkend': {'_Total': 1}, 'gobas': {'_Total': 1}, 'goond': {'_Total': 1}, 'bup': {'_Total': 1}, 'onde': {'_Total': 1}, 'gron': {'_Total': 4}, 'ots': {'_Total': 1}, 'somp': {'_Total': 1}, 'bplese': {'_Total': 1}, 'grlimmering': {'_Total': 1}, 'delickate': {'_Total': 1}, 'leves': {'_Total': 2}, 'whispertend': {'_Total': 1}, 'momerd': {'_Total': 2}, 'sreching': {'_Total': 1}, 'rahte': {'_Total': 1}, 'wle': {'_Total': 3}, 'faigs': {'_Total': 1}, 'bonin': {'_Total': 1}, 'cotten': {'_Total': 1}, 'mecshs': {'_Total': 1}, 'ternd': {'_Total': 1}, 'egan': {'_Total': 2}, 'supos': {'_Total': 3}, 'itcs': {'_Total': 1}, 'arli': {'_Total': 1}, 'mhe': {'_Total': 3}, 'ksxplosion': {'_Total': 1}, 'migh': {'_Total': 1}, 'poritr': {'_Total': 1}, 'duspert': {'_Total': 1}, 'almos': {'_Total': 3}, 'wihin': {'_Total': 1}, 'tuch': {'_Total': 5}, 'siht': {'_Total': 7}, 'jontaler': {'_Total': 1}, 'upported': {'_Total': 1}, 'colege': {'_Total': 1}, 'coten': {'_Total': 1}, 'cotkon': {'_Total': 1}, 'behtworn': {'_Total': 1}, 'simers': {'_Total': 1}, 'susites': {'_Total': 1}, 'finc': {'_Total': 1}, 'menment': {'_Total': 1}, 'nottomn': {'_Total': 1}, 'anotible': {'_Total': 1}, 'resning': {'_Total': 1}, 'liverd': {'_Total': 2}, 'counl': {'_Total': 1}, 'sontentiusly': {'_Total': 1}, 'teahen': {'_Total': 1}, 'derty': {'_Total': 1}, 'chiering': {'_Total': 1}, 'comfpes': {'_Total': 1}, 'dolters': {'_Total': 1}, 'botely': {'_Total': 2}, 'presberation': {'_Total': 1}, 'hiffa': {'_Total': 1}, 'megres': {'_Total': 1}, 'scerly': {'_Total': 1}, 'beple': {'_Total': 1}, 'coton': {'_Total': 2}, 'monderful': {'_Total': 1}, 'eter': {'_Total': 2}, 'premly': {'_Total': 1}, 'sof': {'_Total': 10}, 'hunedrth': {'_Total': 1}, 'thenking': {'_Total': 2}, 'wak': {'_Total': 4}, 'lon': {'_Total': 11}, 'laing': {'_Total': 2}, 'bime': {'_Total': 1}, 'botems': {'_Total': 1}, 'glancs': {'_Total': 2}, 'inper': {'_Total': 1}, 'fhe': {'_Total': 5}, 'tefoms': {'_Total': 1}, 'thers': {'_Total': 10}, 'socity': {'_Total': 1}, 'elametery': {'_Total': 1}, 'sefe': {'_Total': 1}, 'seriesly': {'_Total': 1}, 'ligktful': {'_Total': 1}, 'hus': {'_Total': 2}, 'petallity': {'_Total': 1}, 'cuiment': {'_Total': 1}, 'barst': {'_Total': 1}, 'tochls': {'_Total': 1}, 'orlans': {'_Total': 1}, 'anitma': {'_Total': 1}, 'sfired': {'_Total': 1}, 'everyon': {'_Total': 1}, 'withth': {'_Total': 1}, 'ormist': {'_Total': 1}, 'simpity': {'_Total': 1}, 'eua': {'_Total': 1}, 'tentivly': {'_Total': 1}, 'gutoful': {'_Total': 1}, 'featur': {'_Total': 1}, 'becl': {'_Total': 1}, 'noong': {'_Total': 1}, 'tru': {'_Total': 8}, 'badeper': {'_Total': 1}, 'adres': {'_Total': 2}, 'atain': {'_Total': 1}, 'ansers': {'_Total': 1}, 'vey': {'_Total': 3}, 'whittolly': {'_Total': 1}, 'whay': {'_Total': 1}, 'smil': {'_Total': 8}, 'rymark': {'_Total': 1}, 'dispek': {'_Total': 1}, 'ovevrer': {'_Total': 1}, 'prerficts': {'_Total': 1}, 'langwith': {'_Total': 1}, 'vriter': {'_Total': 1}, 'silya': {'_Total': 1}, 'ateration': {'_Total': 1}, 'hertalent': {'_Total': 1}, 'comitis': {'_Total': 1}, 'ofters': {'_Total': 1}, 'rookt': {'_Total': 1}, 'stesiu': {'_Total': 1}, 'owf': {'_Total': 1}, 'plas': {'_Total': 2}, 'marybo': {'_Total': 1}, 'comedis': {'_Total': 1}, 'wiul': {'_Total': 2}, 'pustardy': {'_Total': 1}, 'contrin': {'_Total': 1}, 'wict': {'_Total': 2}, 'orof': {'_Total': 1}, 'ardecl': {'_Total': 1}, 'recevs': {'_Total': 1}, 'entoliging': {'_Total': 1}, 'tilanto': {'_Total': 1}, 'pepl': {'_Total': 8}, 'fos': {'_Total': 2}, 'alwas': {'_Total': 4}, 'wrety': {'_Total': 1}, 'wortdit': {'_Total': 1}, 'forseling': {'_Total': 1}, 'trly': {'_Total': 5}, 'carteristic': {'_Total': 1}, 'halever': {'_Total': 2}, 'wundevl': {'_Total': 1}, 'sily': {'_Total': 1}, 'noufh': {'_Total': 1}, 'soly': {'_Total': 3}, 'thut': {'_Total': 18}, 'condece': {'_Total': 1}, 'amarit': {'_Total': 1}, 'vertuwes': {'_Total': 1}, 'sef': {'_Total': 14}, 'compeolled': {'_Total': 1}, 'nevber': {'_Total': 1}, 'shom': {'_Total': 2}, 'yse': {'_Total': 1}, 'peryardy': {'_Total': 1}, 'theact': {'_Total': 1}, 'clcisters': {'_Total': 1}, 'talind': {'_Total': 1}, 'mudy': {'_Total': 1}, 'bitl': {'_Total': 2}, 'randering': {'_Total': 1}, 'dever': {'_Total': 5}, 'everywere': {'_Total': 1}, 'sems': {'_Total': 4}, 'irplid': {'_Total': 1}, 'saich': {'_Total': 1}, 'thecime': {'_Total': 1}, 'blated': {'_Total': 1}, 'sittera': {'_Total': 1}, 'ratherer': {'_Total': 1}, 'proh': {'_Total': 1}, 'frenh': {'_Total': 2}, 'haifection': {'_Total': 1}, 'themen': {'_Total': 2}, 'faloble': {'_Total': 1}, 'deth': {'_Total': 8}, 'careicter': {'_Total': 1}, 'marabol': {'_Total': 1}, 'spiht': {'_Total': 1}, 'herage': {'_Total': 1}, 'clining': {'_Total': 2}, 'hefth': {'_Total': 1}, 'yoision': {'_Total': 1}, 'complet': {'_Total': 2}, 'resxid': {'_Total': 1}, 'mava': {'_Total': 1}, 'talo': {'_Total': 1}, 'crecktet': {'_Total': 1}, 'paturnis': {'_Total': 1}, 'scover': {'_Total': 1}, 'bitetd': {'_Total': 1}, 'saing': {'_Total': 9}, 'prnounced': {'_Total': 1}, 'ceer': {'_Total': 1}, 'gla': {'_Total': 1}, 'oflarn': {'_Total': 1}, 'muthtom': {'_Total': 1}, 'forst': {'_Total': 3}, 'aribl': {'_Total': 1}, 'tili': {'_Total': 1}, 'orkot': {'_Total': 1}, 'wal': {'_Total': 16}, 'hergest': {'_Total': 1}, 'pertickulars': {'_Total': 1}, 'erspecting': {'_Total': 1}, 'ververy': {'_Total': 1}, 'thelafre': {'_Total': 1}, 'wes': {'_Total': 4}, 'snof': {'_Total': 1}, 'suvett': {'_Total': 1}, 'bele': {'_Total': 1}, 'youndas': {'_Total': 1}, 'forbottin': {'_Total': 1}, 'ent': {'_Total': 4}, 'sinc': {'_Total': 3}, 'tuing': {'_Total': 1}, 'teo': {'_Total': 3}, 'fortder': {'_Total': 1}, 'saye': {'_Total': 2}, 'itali': {'_Total': 1}, 'cordt': {'_Total': 1}, 'atalase': {'_Total': 1}, 'compenig': {'_Total': 1}, 'averywer': {'_Total': 1}, 'perions': {'_Total': 1}, 'snuf': {'_Total': 2}, 'bohis': {'_Total': 1}, 'teol': {'_Total': 1}, 'ine': {'_Total': 3}, 'coffe': {'_Total': 1}, 'beleev': {'_Total': 1}, 'whald': {'_Total': 1}, 'ubjice': {'_Total': 1}, 'ris': {'_Total': 3}, 'sofwan': {'_Total': 1}, 'tirly': {'_Total': 2}, 'stuty': {'_Total': 1}, 'wlingage': {'_Total': 1}, 'whithout': {'_Total': 1}, 'poetily': {'_Total': 1}, 'unders': {'_Total': 1}, 'stan': {'_Total': 1}, 'hersefe': {'_Total': 1}, 'ilustry': {'_Total': 1}, 'membere': {'_Total': 2}, 'oletters': {'_Total': 1}, 'wellowar': {'_Total': 1}, 'speking': {'_Total': 5}, 'insat': {'_Total': 1}, 'onnor': {'_Total': 1}, 'unplesint': {'_Total': 1}, 'gupl': {'_Total': 1}, 'quistions': {'_Total': 1}, 'curius': {'_Total': 3}, 'troble': {'_Total': 3}, 'satil': {'_Total': 1}, 'suposing': {'_Total': 1}, 'thult': {'_Total': 1}, 'mekt': {'_Total': 2}, 'tefrad': {'_Total': 1}, 'rition': {'_Total': 1}, 'translaht': {'_Total': 1}, 'afraed': {'_Total': 1}, 'insatiubl': {'_Total': 1}, 'stouping': {'_Total': 1}, 'carigs': {'_Total': 1}, 'toer': {'_Total': 1}, 'drtimes': {'_Total': 1}, 'nof': {'_Total': 2}, 'youn': {'_Total': 6}, 'grofthe': {'_Total': 1}, 'handat': {'_Total': 1}, 'thad': {'_Total': 5}, 'getd': {'_Total': 1}, 'youwil': {'_Total': 1}, 'forgit': {'_Total': 2}, 'reterif': {'_Total': 1}, 'fenerl': {'_Total': 1}, 'sote': {'_Total': 1}, 'buleve': {'_Total': 1}, 'intentin': {'_Total': 1}, 'mearipul': {'_Total': 1}, 'consoyour': {'_Total': 1}, 'etea': {'_Total': 1}, 'porsity': {'_Total': 1}, 'crod': {'_Total': 3}, 'qorner': {'_Total': 1}, 'gartn': {'_Total': 1}, 'stellin': {'_Total': 1}, 'luoking': {'_Total': 1}, 'keper': {'_Total': 4}, 'gever': {'_Total': 2}, 'allou': {'_Total': 1}, 'nedo': {'_Total': 1}, 'munny': {'_Total': 2}, 'caushe': {'_Total': 1}, 'askd': {'_Total': 7}, 'anhy': {'_Total': 1}, 'aconces': {'_Total': 1}, 'howdid': {'_Total': 1}, 'manise': {'_Total': 1}, 'fasionble': {'_Total': 1}, 'onerbly': {'_Total': 1}, 'thurc': {'_Total': 1}, 'tosans': {'_Total': 1}, 'vher': {'_Total': 2}, 'whith': {'_Total': 27}, 'opeition': {'_Total': 1}, 'vetterle': {'_Total': 1}, 'breassed': {'_Total': 1}, 'farfor': {'_Total': 1}, 'anticristion': {'_Total': 1}, 'intolerinsy': {'_Total': 1}, 'cirgy': {'_Total': 1}, 'jeneral': {'_Total': 2}, 'prpetion': {'_Total': 1}, 'asan': {'_Total': 1}, 'aptrs': {'_Total': 1}, 'cristion': {'_Total': 4}, 'urith': {'_Total': 1}, 'coman': {'_Total': 3}, 'manbeings': {'_Total': 1}, 'crid': {'_Total': 8}, 'thesaer': {'_Total': 1}, 'antingd': {'_Total': 1}, 'merityan': {'_Total': 1}, 'roya': {'_Total': 1}, 'sjory': {'_Total': 1}, 'witd': {'_Total': 5}, 'outlathing': {'_Total': 1}, 'frse': {'_Total': 1}, 'rebirtase': {'_Total': 1}, 'manders': {'_Total': 1}, 'spenhis': {'_Total': 1}, 'inm': {'_Total': 4}, 'nou': {'_Total': 5}, 'seing': {'_Total': 4}, 'ome': {'_Total': 5}, 'pieben': {'_Total': 1}, 'serrounded': {'_Total': 1}, 'alesed': {'_Total': 1}, 'twhente': {'_Total': 1}, 'himshelf': {'_Total': 1}, 'avy': {'_Total': 1}, 'conty': {'_Total': 2}, 'acasan': {'_Total': 1}, 'quok': {'_Total': 1}, 'prfoun': {'_Total': 1}, 'ritere': {'_Total': 1}, 'selebrat': {'_Total': 1}, 'amivl': {'_Total': 1}, 'solvy': {'_Total': 1}, 'splended': {'_Total': 2}, 'sepfer': {'_Total': 1}, 'inbided': {'_Total': 1}, 'reletis': {'_Total': 1}, 'ouppertunity': {'_Total': 1}, 'quantencs': {'_Total': 1}, 'ithin': {'_Total': 1}, 'whake': {'_Total': 1}, 'raptend': {'_Total': 1}, 'progers': {'_Total': 1}, 'wlat': {'_Total': 1}, 'letty': {'_Total': 1}, 'ronn': {'_Total': 1}, 'croave': {'_Total': 1}, 'provedt': {'_Total': 1}, 'buct': {'_Total': 1}, 'prvit': {'_Total': 1}, 'dedtha': {'_Total': 1}, 'dhit': {'_Total': 1}, 'ficoot': {'_Total': 1}, 'cus': {'_Total': 3}, 'madou': {'_Total': 1}, 'quenso': {'_Total': 1}, 'bisids': {'_Total': 1}, 'aner': {'_Total': 5}, 'inquiris': {'_Total': 1}, 'smaol': {'_Total': 1}, 'tabl': {'_Total': 8}, 'comesi': {'_Total': 1}, 'meadiely': {'_Total': 1}, 'quoneta': {'_Total': 1}, 'hier': {'_Total': 2}, 'rae': {'_Total': 2}, 'menreading': {'_Total': 1}, 'paber': {'_Total': 1}, 'stres': {'_Total': 1}, 'gors': {'_Total': 1}, 'bracfiting': {'_Total': 1}, 'compeny': {'_Total': 3}, 'noro': {'_Total': 2}, 'mendor': {'_Total': 1}, 'foliege': {'_Total': 1}, 'pasidg': {'_Total': 1}, 'polike': {'_Total': 1}, 'outh': {'_Total': 1}, 'improed': {'_Total': 1}, 'riginl': {'_Total': 1}, 'anotion': {'_Total': 1}, 'mey': {'_Total': 3}, 'theyrfor': {'_Total': 1}, 'magistyn': {'_Total': 1}, 'wanyown': {'_Total': 1}, 'onpade': {'_Total': 1}, 'atintion': {'_Total': 1}, 'comind': {'_Total': 1}, 'mololo': {'_Total': 1}, 'benthes': {'_Total': 1}, 'shuver': {'_Total': 1}, 'muc': {'_Total': 1}, 'diht': {'_Total': 1}, 'simmin': {'_Total': 1}, 'buvd': {'_Total': 1}, 'relye': {'_Total': 1}, 'felens': {'_Total': 1}, 'glorius': {'_Total': 1}, 'tokekin': {'_Total': 1}, 'ronm': {'_Total': 1}, 'etemt': {'_Total': 1}, 'knoling': {'_Total': 1}, 'usles': {'_Total': 1}, 'spireit': {'_Total': 1}, 'sucxcesfll': {'_Total': 1}, 'ath': {'_Total': 3}, 'afrand': {'_Total': 2}, 'ricth': {'_Total': 1}, 'towase': {'_Total': 1}, 'stons': {'_Total': 3}, 'persins': {'_Total': 1}, 'roa': {'_Total': 1}, 'latis': {'_Total': 4}, 'werflly': {'_Total': 1}, 'corgesas': {'_Total': 1}, 'haty': {'_Total': 4}, 'vebarn': {'_Total': 1}, 'bhe': {'_Total': 19}, 'phim': {'_Total': 1}, 'buttee': {'_Total': 1}, 'magisty': {'_Total': 3}, 'thekang': {'_Total': 1}, 'sorvd': {'_Total': 1}, 'tembl': {'_Total': 1}, 'benges': {'_Total': 1}, 'moning': {'_Total': 2}, 'wrony': {'_Total': 1}, 'tere': {'_Total': 3}, 'welays': {'_Total': 1}, 'cauptin': {'_Total': 1}, 'idiar': {'_Total': 1}, 'potcting': {'_Total': 1}, 'ameasing': {'_Total': 1}, 'thot': {'_Total': 15}, 'lafter': {'_Total': 1}, 'sik': {'_Total': 3}, 'diveth': {'_Total': 1}, 'thefers': {'_Total': 1}, 'litting': {'_Total': 1}, 'crutuwe': {'_Total': 1}, 'bepli': {'_Total': 1}, 'penting': {'_Total': 1}, 'hal': {'_Total': 12}, 'fhaste': {'_Total': 1}, 'gatcs': {'_Total': 1}, 'aok': {'_Total': 1}, 'sujest': {'_Total': 1}, 'cakin': {'_Total': 1}, 'gards': {'_Total': 3}, 'lioking': {'_Total': 2}, 'ethere': {'_Total': 1}, 'mely': {'_Total': 5}, 'sivs': {'_Total': 1}, 'stiee': {'_Total': 1}, 'whis': {'_Total': 9}, 'sliht': {'_Total': 4}, 'kis': {'_Total': 1}, 'theboth': {'_Total': 1}, 'thf': {'_Total': 1}, 'thom': {'_Total': 3}, 'abtin': {'_Total': 1}, 'thop': {'_Total': 2}, 'mikeca': {'_Total': 1}, 'pach': {'_Total': 1}, 'plandid': {'_Total': 1}, 'ths': {'_Total': 1}, 'acomplese': {'_Total': 1}, 'langd': {'_Total': 1}, 'scever': {'_Total': 1}, 'seingay': {'_Total': 1}, 'ecord': {'_Total': 1}, 'pasl': {'_Total': 1}, 'mever': {'_Total': 2}, 'tefor': {'_Total': 1}, 'oun': {'_Total': 5}, 'curtard': {'_Total': 1}, 'soders': {'_Total': 2}, 'evrbonin': {'_Total': 1}, 'minmins': {'_Total': 1}, 'sarla': {'_Total': 1}, 'ecaterd': {'_Total': 1}, 'weulty': {'_Total': 1}, 'acotherg': {'_Total': 1}, 'cmlerl': {'_Total': 1}, 'iav': {'_Total': 1}, 'consi': {'_Total': 1}, 'sersie': {'_Total': 1}, 'mornan': {'_Total': 1}, 'oal': {'_Total': 1}, 'raandy': {'_Total': 1}, 'bretis': {'_Total': 1}, 'blace': {'_Total': 2}, 'hatd': {'_Total': 4}, 'rastd': {'_Total': 1}, 'forne': {'_Total': 1}, 'roel': {'_Total': 1}, 'fammely': {'_Total': 1}, 'elagant': {'_Total': 1}, 'tronjers': {'_Total': 1}, 'queann': {'_Total': 1}, 'smoter': {'_Total': 1}, 'ritly': {'_Total': 1}, 'apostere': {'_Total': 1}, 'charse': {'_Total': 1}, 'nomosd': {'_Total': 1}, 'antce': {'_Total': 1}, 'gort': {'_Total': 1}, 'scate': {'_Total': 1}, 'reshet': {'_Total': 1}, 'bolono': {'_Total': 1}, 'vige': {'_Total': 1}, 'rman': {'_Total': 1}, 'bentes': {'_Total': 1}, 'spectaters': {'_Total': 1}, 'appron': {'_Total': 1}, 'scatin': {'_Total': 1}, 'hase': {'_Total': 3}, 'vefinld': {'_Total': 1}, 'butthes': {'_Total': 1}, 'sontarro': {'_Total': 1}, 'alatyse': {'_Total': 1}, 'ditin': {'_Total': 1}, 'sreke': {'_Total': 1}, 'maner': {'_Total': 7}, 'thenson': {'_Total': 1}, 'boses': {'_Total': 1}, 'comtlrol': {'_Total': 1}, 'selvfs': {'_Total': 1}, 'myders': {'_Total': 1}, 'boloi': {'_Total': 1}, 'hodl': {'_Total': 1}, 'entiot': {'_Total': 1}, 'eimin': {'_Total': 1}, 'persmes': {'_Total': 1}, 'pething': {'_Total': 1}, 'royadoters': {'_Total': 1}, 'simg': {'_Total': 1}, 'intered': {'_Total': 2}, 'bolorol': {'_Total': 1}, 'plesint': {'_Total': 1}, 'yord': {'_Total': 1}, 'mentl': {'_Total': 2}, 'siberse': {'_Total': 1}, 'fild': {'_Total': 4}, 'strl': {'_Total': 2}, 'metitation': {'_Total': 1}, 'ees': {'_Total': 1}, 'viters': {'_Total': 1}, 'ely': {'_Total': 2}, 'pln': {'_Total': 1}, 'cluer': {'_Total': 1}, 'colo': {'_Total': 1}, 'srl': {'_Total': 1}, 'leht': {'_Total': 1}, 'lik': {'_Total': 13}, 'lanbey': {'_Total': 1}, 'dese': {'_Total': 1}, 'bover': {'_Total': 1}, 'restling': {'_Total': 1}, 'trpping': {'_Total': 1}, 'plance': {'_Total': 3}, 'petrn': {'_Total': 1}, 'floers': {'_Total': 3}, 'brokeng': {'_Total': 1}, 'cuortyard': {'_Total': 1}, 'trol': {'_Total': 1}, 'stieth': {'_Total': 1}, 'fowr': {'_Total': 1}, 'necace': {'_Total': 1}, 'sprethth': {'_Total': 1}, 'intimet': {'_Total': 1}, 'hoaks': {'_Total': 1}, 'siant': {'_Total': 1}, 'popings': {'_Total': 1}, 'betrn': {'_Total': 1}, 'bertus': {'_Total': 1}, 'coupfi': {'_Total': 1}, 'upbeth': {'_Total': 1}, 'scumed': {'_Total': 1}, 'leli': {'_Total': 1}, 'plancs': {'_Total': 2}, 'drn': {'_Total': 2}, 'menos': {'_Total': 1}, 'onl': {'_Total': 1}, 'strgle': {'_Total': 1}, 'lae': {'_Total': 3}, 'watterly': {'_Total': 1}, 'etos': {'_Total': 1}, 'simklfied': {'_Total': 1}, 'yerning': {'_Total': 1}, 'blechd': {'_Total': 1}, 'indhe': {'_Total': 1}, 'gling': {'_Total': 1}, 'cunson': {'_Total': 1}, 'beacht': {'_Total': 1}, 'kus': {'_Total': 1}, 'galy': {'_Total': 2}, 'ferlt': {'_Total': 1}, 'grich': {'_Total': 1}, 'noht': {'_Total': 1}, 'wyl': {'_Total': 2}, 'owld': {'_Total': 1}, 'goed': {'_Total': 1}, 'marbl': {'_Total': 2}, 'stas': {'_Total': 1}, 'forvher': {'_Total': 1}, 'gleing': {'_Total': 1}, 'bllase': {'_Total': 1}, 'erly': {'_Total': 8}, 'eveng': {'_Total': 1}, 'troh': {'_Total': 1}, 'ctrack': {'_Total': 1}, 'grening': {'_Total': 1}, 'gaved': {'_Total': 1}, 'wiched': {'_Total': 1}, 'finose': {'_Total': 1}, 'cherfly': {'_Total': 1}, 'scus': {'_Total': 2}, 'guet': {'_Total': 1}, 'tey': {'_Total': 2}, 'rolan': {'_Total': 1}, 'whon': {'_Total': 6}, 'blaskans': {'_Total': 1}, 'thefaver': {'_Total': 1}, 'varyg': {'_Total': 1}, 'popkiler': {'_Total': 1}, 'paeopl': {'_Total': 1}, 'wiken': {'_Total': 1}, 'boori': {'_Total': 1}, 'wequit': {'_Total': 1}, 'oters': {'_Total': 2}, 'mnd': {'_Total': 1}, 'rol': {'_Total': 2}, 'drons': {'_Total': 1}, 'hof': {'_Total': 4}, 'sembls': {'_Total': 1}, 'captoen': {'_Total': 1}, 'ble': {'_Total': 6}, 'seble': {'_Total': 1}, 'combyned': {'_Total': 1}, 'contrs': {'_Total': 1}, 'plae': {'_Total': 2}, 'musik': {'_Total': 1}, 'afin': {'_Total': 2}, 'sirved': {'_Total': 1}, 'apridit': {'_Total': 1}, 'motl': {'_Total': 2}, 'deportmet': {'_Total': 1}, 'becus': {'_Total': 1}, 'wiuld': {'_Total': 8}, 'danturs': {'_Total': 1}, 'ather': {'_Total': 8}, 'satisflaction': {'_Total': 1}, 'matet': {'_Total': 2}, 'samor': {'_Total': 1}, 'teroble': {'_Total': 1}, 'struble': {'_Total': 1}, 'losin': {'_Total': 1}, 'finry': {'_Total': 1}, 'siddeed': {'_Total': 1}, 'amo': {'_Total': 2}, 'natif': {'_Total': 1}, 'franes': {'_Total': 2}, 'dhegot': {'_Total': 1}, 'beforquing': {'_Total': 1}, 'watied': {'_Total': 1}, 'tementhe': {'_Total': 1}, 'thronrm': {'_Total': 1}, 'paluse': {'_Total': 1}, 'shoter': {'_Total': 1}, 'supporte': {'_Total': 1}, 'catin': {'_Total': 1}, 'timn': {'_Total': 1}, 'tant': {'_Total': 2}, 'rossily': {'_Total': 1}, 'ferst': {'_Total': 6}, 'chied': {'_Total': 1}, 'sembl': {'_Total': 1}, 'lafht': {'_Total': 1}, 'andeared': {'_Total': 1}, 'theie': {'_Total': 2}, 'athav': {'_Total': 1}, 'prences': {'_Total': 2}, 'themlest': {'_Total': 1}, 'bhet': {'_Total': 2}, 'formwer': {'_Total': 1}, 'eevon': {'_Total': 1}, 'infordint': {'_Total': 1}, 'pinkis': {'_Total': 1}, 'wiskans': {'_Total': 1}, 'bigtded': {'_Total': 1}, \"dton'e\": {'_Total': 1}, 'siszl': {'_Total': 1}, 'itl': {'_Total': 3}, 'miht': {'_Total': 9}, 'somn': {'_Total': 1}, 'orderf': {'_Total': 1}, 'afil': {'_Total': 1}, 'escould': {'_Total': 1}, 'rading': {'_Total': 1}, 'putes': {'_Total': 1}, 'therne': {'_Total': 1}, 'gissis': {'_Total': 1}, 'lafl': {'_Total': 1}, 'beoro': {'_Total': 1}, 'contryy': {'_Total': 1}, 'acomper': {'_Total': 1}, 'supalls': {'_Total': 1}, 'cromker': {'_Total': 1}, 'firds': {'_Total': 1}, 'thoung': {'_Total': 1}, 'pinkingcs': {'_Total': 1}, 'alredy': {'_Total': 2}, 'bantting': {'_Total': 1}, 'thenm': {'_Total': 1}, 'promis': {'_Total': 2}, 'bolro': {'_Total': 1}, 'alll': {'_Total': 4}, 'fhed': {'_Total': 1}, 'onerbl': {'_Total': 2}, 'athe': {'_Total': 1}, 'shatings': {'_Total': 1}, 'lether': {'_Total': 1}, 'canet': {'_Total': 1}, 'tesives': {'_Total': 1}, 'lectes': {'_Total': 1}, 'jid': {'_Total': 1}, 'fece': {'_Total': 2}, 'merly': {'_Total': 3}, 'stame': {'_Total': 1}, 'scon': {'_Total': 1}, 'gring': {'_Total': 2}, 'hardde': {'_Total': 1}, 'thre': {'_Total': 11}, 'manegment': {'_Total': 1}, 'abjeact': {'_Total': 1}, 'fectthing': {'_Total': 1}, 'sitution': {'_Total': 1}, 'antilly': {'_Total': 1}, 'matur': {'_Total': 1}, 'gesi': {'_Total': 1}, 'trome': {'_Total': 1}, 'purtencs': {'_Total': 1}, 'traning': {'_Total': 1}, 'afection': {'_Total': 1}, 'oerated': {'_Total': 1}, 'grrl': {'_Total': 1}, 'sholl': {'_Total': 3}, 'makingus': {'_Total': 1}, 'hape': {'_Total': 1}, 'grode': {'_Total': 1}, 'trble': {'_Total': 1}, 'conpentidly': {'_Total': 1}, 'momenging': {'_Total': 1}, 'convencing': {'_Total': 1}, 'peld': {'_Total': 1}, 'ofection': {'_Total': 1}, 'merig': {'_Total': 1}, 'wigerd': {'_Total': 1}, 'perplase': {'_Total': 1}, 'tep': {'_Total': 3}, 'itn': {'_Total': 1}, 'tomot': {'_Total': 1}, 'wuich': {'_Total': 2}, 'hetrd': {'_Total': 1}, 'suxpition': {'_Total': 1}, 'supponmen': {'_Total': 1}, 'iul': {'_Total': 1}, 'humo': {'_Total': 1}, 'swe': {'_Total': 1}, 'monmhos': {'_Total': 1}, 'omisations': {'_Total': 1}, 'whichd': {'_Total': 2}, 'scructur': {'_Total': 1}, 'botment': {'_Total': 1}, 'cuole': {'_Total': 1}, 'pund': {'_Total': 1}, 'reperble': {'_Total': 1}, 'itury': {'_Total': 1}, 'thisslas': {'_Total': 1}, 'soppisition': {'_Total': 1}, 'habituily': {'_Total': 1}, 'maniged': {'_Total': 1}, 'prensible': {'_Total': 1}, 'mahke': {'_Total': 1}, 'nmary': {'_Total': 1}, 'onbe': {'_Total': 1}, 'woch': {'_Total': 2}, 'axpretion': {'_Total': 1}, 'awy': {'_Total': 1}, 'seinnes': {'_Total': 1}, 'neity': {'_Total': 1}, 'seces': {'_Total': 1}, 'artifes': {'_Total': 1}, 'interect': {'_Total': 1}, 'habites': {'_Total': 1}, 'subodination': {'_Total': 1}, 'yeting': {'_Total': 1}, 'inflence': {'_Total': 2}, 'nusfl': {'_Total': 1}, 'mafted': {'_Total': 1}, 'treing': {'_Total': 1}, 'chae': {'_Total': 3}, 'commting': {'_Total': 1}, 'simlor': {'_Total': 1}, 'folt': {'_Total': 3}, 'onother': {'_Total': 1}, 'derreck': {'_Total': 1}, 'ues': {'_Total': 1}, 'ixpretions': {'_Total': 1}, 'adrest': {'_Total': 2}, 'perte': {'_Total': 1}, 'tham': {'_Total': 4}, 'gelya': {'_Total': 1}, 'contrid': {'_Total': 1}, 'greaht': {'_Total': 4}, 'infulence': {'_Total': 1}, 'simensy': {'_Total': 1}, 'minde': {'_Total': 1}, 'plaing': {'_Total': 6}, 'palor': {'_Total': 1}, 'delo': {'_Total': 1}, 'delon': {'_Total': 1}, 'dho': {'_Total': 2}, 'rosile': {'_Total': 1}, 'plathings': {'_Total': 1}, 'carfly': {'_Total': 2}, 'abou': {'_Total': 1}, 'leing': {'_Total': 1}, 'thenou': {'_Total': 1}, 'trne': {'_Total': 3}, 'jang': {'_Total': 2}, 'asktd': {'_Total': 4}, 'whert': {'_Total': 1}, 'altere': {'_Total': 1}, 'goud': {'_Total': 2}, 'jaing': {'_Total': 1}, 'ponting': {'_Total': 2}, 'plratthings': {'_Total': 1}, 'delya': {'_Total': 1}, 'camt': {'_Total': 1}, 'porlour': {'_Total': 1}, 'thac': {'_Total': 2}, 'cin': {'_Total': 6}, 'childrern': {'_Total': 2}, 'acied': {'_Total': 1}, 'wuisper': {'_Total': 1}, 'pxpect': {'_Total': 1}, 'gil': {'_Total': 1}, 'finstance': {'_Total': 1}, 'bem': {'_Total': 5}, 'peap': {'_Total': 1}, 'ofther': {'_Total': 4}, 'ploa': {'_Total': 1}, 'finmely': {'_Total': 2}, 'leting': {'_Total': 2}, 'forf': {'_Total': 1}, 'peopse': {'_Total': 1}, 'titto': {'_Total': 1}, 'foli': {'_Total': 1}, 'chilren': {'_Total': 1}, 'rown': {'_Total': 2}, 'pasa': {'_Total': 1}, 'giul': {'_Total': 1}, 'conbesations': {'_Total': 1}, 'dela': {'_Total': 1}, 'sisterman': {'_Total': 1}, 'mra': {'_Total': 1}, 'cusin': {'_Total': 3}, 'mamewas': {'_Total': 1}, 'prducsed': {'_Total': 1}, 'vilence': {'_Total': 1}, 'subjecs': {'_Total': 1}, 'menmry': {'_Total': 1}, 'passiwayy': {'_Total': 1}, 'exstrim': {'_Total': 1}, 'wrikant': {'_Total': 1}, 'eslsyy': {'_Total': 1}, 'inuences': {'_Total': 1}, 'theih': {'_Total': 1}, 'dous': {'_Total': 2}, 'consectiens': {'_Total': 1}, 'prinsibls': {'_Total': 1}, 'chur': {'_Total': 1}, 'natur': {'_Total': 4}, 'caricter': {'_Total': 2}, 'imiges': {'_Total': 2}, 'periet': {'_Total': 1}, 'infincy': {'_Total': 1}, 'minmd': {'_Total': 1}, 'chefly': {'_Total': 2}, 'chils': {'_Total': 1}, 'vrast': {'_Total': 1}, 'importence': {'_Total': 1}, 'inflornce': {'_Total': 1}, 'fririting': {'_Total': 1}, 'compartively': {'_Total': 1}, 'meture': {'_Total': 1}, 'afect': {'_Total': 4}, 'prorduced': {'_Total': 1}, 'hih': {'_Total': 2}, 'botes': {'_Total': 2}, 'nif': {'_Total': 1}, 'lisceng': {'_Total': 1}, 'opem': {'_Total': 1}, 'yheur': {'_Total': 1}, 'bittle': {'_Total': 1}, 'precos': {'_Total': 1}, 'ondr': {'_Total': 1}, 'ablo': {'_Total': 1}, 'camopy': {'_Total': 1}, 'cae': {'_Total': 3}, 'rosis': {'_Total': 1}, 'ander': {'_Total': 6}, 'thoht': {'_Total': 4}, 'thinm': {'_Total': 1}, 'beatiful': {'_Total': 1}, 'jistd': {'_Total': 1}, 'notk': {'_Total': 1}, 'vop': {'_Total': 1}, 'olition': {'_Total': 1}, 'dotid': {'_Total': 1}, 'ner': {'_Total': 5}, 'andvis': {'_Total': 1}, 'foore': {'_Total': 1}, 'haive': {'_Total': 1}, 'saind': {'_Total': 2}, 'refues': {'_Total': 1}, 'hanes': {'_Total': 1}, 'cotig': {'_Total': 1}, 'bhest': {'_Total': 1}, 'yorn': {'_Total': 1}, 'mnited': {'_Total': 1}, 'hersef': {'_Total': 4}, 'boty': {'_Total': 7}, 'wonce': {'_Total': 3}, 'thay': {'_Total': 4}, 'perneds': {'_Total': 1}, 'caks': {'_Total': 2}, 'glitering': {'_Total': 3}, 'farterend': {'_Total': 1}, 'lorge': {'_Total': 1}, 'godin': {'_Total': 1}, 'goveng': {'_Total': 1}, 'wros': {'_Total': 2}, 'princses': {'_Total': 1}, 'pockices': {'_Total': 1}, 'aroun': {'_Total': 4}, 'knek': {'_Total': 1}, 'bhent': {'_Total': 1}, 'madt': {'_Total': 1}, 'contaly': {'_Total': 1}, 'knoblty': {'_Total': 1}, 'nihfe': {'_Total': 1}, 'asplande': {'_Total': 1}, 'lil': {'_Total': 2}, 'crat': {'_Total': 3}, 'amders': {'_Total': 1}, 'moset': {'_Total': 2}, 'ema': {'_Total': 1}, 'jacnive': {'_Total': 1}, 'woth': {'_Total': 5}, 'rerposted': {'_Total': 1}, 'fornd': {'_Total': 1}, 'toeta': {'_Total': 1}, 'edis': {'_Total': 1}, 'inhalls': {'_Total': 1}, 'geldetd': {'_Total': 1}, 'stord': {'_Total': 3}, 'balll': {'_Total': 1}, 'answere': {'_Total': 1}, 'nent': {'_Total': 1}, 'supose': {'_Total': 1}, 'hoever': {'_Total': 2}, 'misis': {'_Total': 4}, 'pacere': {'_Total': 1}, 'oderly': {'_Total': 2}, 'stuich': {'_Total': 1}, 'tirty': {'_Total': 1}, 'inds': {'_Total': 1}, 'lihte': {'_Total': 1}, 'fotet': {'_Total': 1}, 'evole': {'_Total': 1}, 'happin': {'_Total': 1}, 'childern': {'_Total': 1}, 'mennething': {'_Total': 1}, 'aved': {'_Total': 1}, 'pationcs': {'_Total': 1}, 'hein': {'_Total': 1}, 'appertinenty': {'_Total': 1}, 'bhact': {'_Total': 1}, 'turnd': {'_Total': 5}, 'weoking': {'_Total': 1}, 'pleaccing': {'_Total': 1}, 'refluectiong': {'_Total': 1}, 'survices': {'_Total': 1}, 'syerly': {'_Total': 1}, 'byie': {'_Total': 1}, 'screng': {'_Total': 1}, 'arnament': {'_Total': 1}, 'sersef': {'_Total': 1}, 'shons': {'_Total': 1}, 'hambs': {'_Total': 1}, 'olly': {'_Total': 1}, 'shon': {'_Total': 4}, 'houce': {'_Total': 1}, 'cald': {'_Total': 5}, 'sheting': {'_Total': 2}, 'plorthing': {'_Total': 1}, 'toliing': {'_Total': 1}, 'emess': {'_Total': 1}, 'aleveig': {'_Total': 1}, 'eurs': {'_Total': 2}, 'olnd': {'_Total': 1}, 'donerth': {'_Total': 1}, 'yora': {'_Total': 1}, 'racel': {'_Total': 1}, 'iam': {'_Total': 4}, 'akine': {'_Total': 1}, 'bisy': {'_Total': 1}, 'hernes': {'_Total': 1}, 'ditdis': {'_Total': 1}, 'scuperin': {'_Total': 1}, 'kindence': {'_Total': 1}, 'atha': {'_Total': 1}, 'sattler': {'_Total': 1}, 'withtha': {'_Total': 1}, 'lates': {'_Total': 1}, 'dossat': {'_Total': 1}, 'lrge': {'_Total': 1}, 'rustky': {'_Total': 1}, 'beara': {'_Total': 1}, 'borted': {'_Total': 2}, 'farind': {'_Total': 2}, 'flesis': {'_Total': 1}, 'anty': {'_Total': 1}, 'bages': {'_Total': 2}, 'surdot': {'_Total': 1}, 'sevvr': {'_Total': 1}, 'horces': {'_Total': 1}, 'polin': {'_Total': 1}, 'spening': {'_Total': 3}, 'whel': {'_Total': 7}, 'stuf': {'_Total': 2}, 'ful': {'_Total': 8}, 'colered': {'_Total': 1}, 'plaiing': {'_Total': 1}, 'dilight': {'_Total': 1}, 'kitin': {'_Total': 1}, 'swet': {'_Total': 2}, 'fori': {'_Total': 1}, 'hedy': {'_Total': 1}, 'sheding': {'_Total': 1}, 'suner': {'_Total': 1}, 'hinm': {'_Total': 2}, 'meliver': {'_Total': 1}, 'dlcky': {'_Total': 1}, 'grons': {'_Total': 2}, 'carie': {'_Total': 2}, 'jenton': {'_Total': 1}, 'rech': {'_Total': 1}, 'frm': {'_Total': 3}, 'porces': {'_Total': 1}, 'temian': {'_Total': 1}, 'bputh': {'_Total': 1}, 'arning': {'_Total': 1}, 'isndt': {'_Total': 1}, 'goned': {'_Total': 1}, 'rossiter': {'_Total': 1}, 'thefacter': {'_Total': 1}, 'buet': {'_Total': 1}, 'theire': {'_Total': 14}, 'owas': {'_Total': 1}, 'stroner': {'_Total': 1}, 'lifte': {'_Total': 1}, 'brly': {'_Total': 1}, 'andafter': {'_Total': 1}, 'heging': {'_Total': 1}, 'stro': {'_Total': 2}, 'evry': {'_Total': 2}, 'tivid': {'_Total': 1}, 'terny': {'_Total': 1}, 'evin': {'_Total': 6}, 'muty': {'_Total': 1}, 'whater': {'_Total': 2}, 'hring': {'_Total': 1}, 'dran': {'_Total': 1}, 'forl': {'_Total': 2}, 'yalo': {'_Total': 1}, 'sesin': {'_Total': 2}, 'giting': {'_Total': 1}, 'greankt': {'_Total': 1}, 'baty': {'_Total': 1}, 'possivl': {'_Total': 1}, 'fanct': {'_Total': 1}, 'thied': {'_Total': 1}, 'crurning': {'_Total': 1}, 'resond': {'_Total': 1}, 'inconvenint': {'_Total': 1}, 'consimently': {'_Total': 1}, 'ploaser': {'_Total': 1}, 'utulal': {'_Total': 1}, 'suverity': {'_Total': 1}, 'kcin': {'_Total': 1}, 'morer': {'_Total': 1}, 'trinme': {'_Total': 1}, 'wht': {'_Total': 3}, 'ofbothers': {'_Total': 1}, 'youcald': {'_Total': 1}, 'braning': {'_Total': 1}, 'ith': {'_Total': 6}, 'lild': {'_Total': 1}, 'taty': {'_Total': 1}, 'criing': {'_Total': 1}, 'pouse': {'_Total': 1}, 'wose': {'_Total': 2}, 'chra': {'_Total': 1}, 'frorbler': {'_Total': 1}, 'haout': {'_Total': 1}, 'rening': {'_Total': 2}, 'comeprt': {'_Total': 1}, 'kene': {'_Total': 1}, 'iy': {'_Total': 2}, 'averi': {'_Total': 1}, 'damsoll': {'_Total': 1}, 'camewitt': {'_Total': 1}, 'unfinihe': {'_Total': 1}, 'lectur': {'_Total': 1}, 'berl': {'_Total': 1}, 'sisly': {'_Total': 1}, 'hifd': {'_Total': 1}, 'otfh': {'_Total': 1}, 'wheht': {'_Total': 1}, 'aand': {'_Total': 1}, 'herdther': {'_Total': 1}, 'knever': {'_Total': 2}, 'herld': {'_Total': 1}, 'worke': {'_Total': 4}, 'yould': {'_Total': 2}, 'conssltatio': {'_Total': 1}, 'ite': {'_Total': 2}, 'weare': {'_Total': 2}, 'menet': {'_Total': 1}, 'ratther': {'_Total': 1}, 'larmed': {'_Total': 1}, 'woul': {'_Total': 4}, 'wnot': {'_Total': 2}, 'capten': {'_Total': 2}, 'rily': {'_Total': 2}, 'wutd': {'_Total': 1}, 'ijustis': {'_Total': 1}, 'apinin': {'_Total': 1}, 'perincs': {'_Total': 1}, 'dedent': {'_Total': 1}, 'drection': {'_Total': 1}, 'ato': {'_Total': 1}, 'wolen': {'_Total': 1}, 'soufar': {'_Total': 1}, 'mutalationis': {'_Total': 1}, 'censern': {'_Total': 1}, 'bers': {'_Total': 4}, 'scrong': {'_Total': 1}, 'fingis': {'_Total': 1}, 'grek': {'_Total': 1}, 'scoptere': {'_Total': 1}, 'toltly': {'_Total': 1}, 'whinnos': {'_Total': 1}, 'pachd': {'_Total': 1}, 'whouoden': {'_Total': 1}, 'bpans': {'_Total': 1}, 'gaht': {'_Total': 1}, 'opend': {'_Total': 2}, 'rar': {'_Total': 2}, 'yur': {'_Total': 2}, 'etcs': {'_Total': 1}, 'niver': {'_Total': 2}, 'knou': {'_Total': 1}, 'equls': {'_Total': 1}, 'gallosnes': {'_Total': 1}, 'vhele': {'_Total': 1}, 'likthis': {'_Total': 1}, 'betleme': {'_Total': 1}, 'withthe': {'_Total': 3}, 'wlen': {'_Total': 1}, 'fher': {'_Total': 4}, 'kendes': {'_Total': 1}, 'rafik': {'_Total': 1}, 'extrestion': {'_Total': 1}, 'mih': {'_Total': 2}, 'penter': {'_Total': 1}, 'ecslent': {'_Total': 1}, 'marte': {'_Total': 1}, 'screb': {'_Total': 1}, 'rolin': {'_Total': 1}, 'ivery': {'_Total': 1}, 'soffens': {'_Total': 1}, 'poutery': {'_Total': 1}, 'dospursed': {'_Total': 1}, 'iragularity': {'_Total': 1}, 'saas': {'_Total': 1}, 'frinly': {'_Total': 3}, 'shep': {'_Total': 3}, 'stomn': {'_Total': 1}, 'ornmecs': {'_Total': 1}, 'surouning': {'_Total': 1}, 'regavls': {'_Total': 1}, 'cindos': {'_Total': 1}, 'avible': {'_Total': 1}, 'aarnt': {'_Total': 1}, 'digtat': {'_Total': 1}, 'rbout': {'_Total': 1}, 'poty': {'_Total': 1}, 'nowliver': {'_Total': 1}, 'switpes': {'_Total': 1}, 'arady': {'_Total': 1}, 'pordcs': {'_Total': 1}, 'dary': {'_Total': 3}, 'watling': {'_Total': 1}, 'hamout': {'_Total': 1}, 'nac': {'_Total': 2}, 'plikte': {'_Total': 1}, 'wihtt': {'_Total': 1}, 'houd': {'_Total': 2}, 'sfarm': {'_Total': 1}, 'orter': {'_Total': 1}, 'inkind': {'_Total': 1}, 'kicchien': {'_Total': 1}, 'bllee': {'_Total': 1}, 'kingd': {'_Total': 1}, 'betet': {'_Total': 1}, 'wepe': {'_Total': 1}, 'mesigge': {'_Total': 1}, 'sheperd': {'_Total': 2}, 'misterot': {'_Total': 1}, 'myr': {'_Total': 1}, 'tliht': {'_Total': 1}, 'bese': {'_Total': 1}, 'suvencs': {'_Total': 1}, 'wheretever': {'_Total': 1}, 'givs': {'_Total': 2}, 'differn': {'_Total': 2}, 'worck': {'_Total': 1}, 'acorting': {'_Total': 1}, 'forit': {'_Total': 4}, 'doytworn': {'_Total': 1}, 'sitig': {'_Total': 2}, 'hamsell': {'_Total': 1}, 'pascege': {'_Total': 1}, 'oopan': {'_Total': 1}, 'comed': {'_Total': 1}, 'tloat': {'_Total': 1}, 'opernce': {'_Total': 1}, 'teorf': {'_Total': 1}, 'cleng': {'_Total': 1}, 'orsefe': {'_Total': 1}, 'tospach': {'_Total': 1}, 'noping': {'_Total': 1}, 'ditd': {'_Total': 2}, 'scrimed': {'_Total': 1}, 'pocer': {'_Total': 1}, 'fordce': {'_Total': 1}, 'faler': {'_Total': 1}, 'strem': {'_Total': 1}, 'nevers': {'_Total': 3}, 'daryg': {'_Total': 1}, 'tild': {'_Total': 1}, 'nik': {'_Total': 1}, 'eron': {'_Total': 1}, 'cordeality': {'_Total': 1}, 'hurans': {'_Total': 1}, 'theind': {'_Total': 1}, 'heaadf': {'_Total': 1}, 'baing': {'_Total': 3}, 'composso': {'_Total': 1}, 'preteck': {'_Total': 1}, 'digng': {'_Total': 1}, 'eving': {'_Total': 1}, 'hevy': {'_Total': 3}, 'problel': {'_Total': 1}, 'rerdrl': {'_Total': 1}, 'pinding': {'_Total': 1}, 'condistion': {'_Total': 1}, 'owng': {'_Total': 2}, 'tabandin': {'_Total': 1}, 'whishd': {'_Total': 2}, 'opractis': {'_Total': 1}, 'blod': {'_Total': 3}, 'wasesy': {'_Total': 1}, 'deo': {'_Total': 1}, 'indyin': {'_Total': 1}, 'tary': {'_Total': 1}, 'afra': {'_Total': 1}, 'brehfle': {'_Total': 1}, 'loopon': {'_Total': 1}, 'andtake': {'_Total': 1}, 'curige': {'_Total': 1}, 'daved': {'_Total': 2}, 'receed': {'_Total': 1}, 'frther': {'_Total': 1}, 'braebly': {'_Total': 1}, 'angenerosly': {'_Total': 1}, 'hafh': {'_Total': 1}, 'weterned': {'_Total': 1}, 'haccai': {'_Total': 1}, 'toicure': {'_Total': 1}, 'rabering': {'_Total': 1}, 'comfetencs': {'_Total': 1}, 'compain': {'_Total': 1}, 'scin': {'_Total': 1}, 'hitd': {'_Total': 1}, 'wihe': {'_Total': 2}, 'gaentle': {'_Total': 1}, 'hevern': {'_Total': 1}, 'sumd': {'_Total': 1}, 'thestida': {'_Total': 1}, 'letus': {'_Total': 1}, 'disnes': {'_Total': 1}, 'uncis': {'_Total': 1}, 'forh': {'_Total': 1}, 'geatifl': {'_Total': 1}, 'puportions': {'_Total': 1}, 'scotturn': {'_Total': 1}, 'daeben': {'_Total': 1}, 'structions': {'_Total': 1}, 'returnd': {'_Total': 4}, 'frely': {'_Total': 2}, 'begand': {'_Total': 2}, 'satisfiged': {'_Total': 1}, 'safty': {'_Total': 2}, 'pusistion': {'_Total': 1}, 'antered': {'_Total': 3}, 'youne': {'_Total': 1}, 'decred': {'_Total': 1}, 'esent': {'_Total': 1}, 'andnountce': {'_Total': 1}, 'grattiffication': {'_Total': 1}, 'savige': {'_Total': 2}, 'wole': {'_Total': 3}, 'rerce': {'_Total': 1}, 'wetemes': {'_Total': 1}, 'aninmy': {'_Total': 1}, 'fuerd': {'_Total': 1}, 'mornd': {'_Total': 1}, 'spised': {'_Total': 1}, 'inonce': {'_Total': 1}, 'bidly': {'_Total': 1}, 'himkan': {'_Total': 1}, 'hackid': {'_Total': 1}, 'accopigd': {'_Total': 1}, 'movment': {'_Total': 1}, 'contid': {'_Total': 1}, 'sellf': {'_Total': 1}, 'fhin': {'_Total': 1}, 'companim': {'_Total': 1}, 'aboity': {'_Total': 1}, 'beloms': {'_Total': 1}, 'oaas': {'_Total': 1}, 'scepticol': {'_Total': 1}, 'supget': {'_Total': 1}, 'thelater': {'_Total': 1}, 'testomony': {'_Total': 1}, 'orgins': {'_Total': 1}, 'prceving': {'_Total': 1}, 'withthis': {'_Total': 2}, 'chuence': {'_Total': 1}, 'werbout': {'_Total': 1}, 'morthy': {'_Total': 1}, 'hombl': {'_Total': 2}, 'dammobl': {'_Total': 1}, 'prinsiplo': {'_Total': 1}, 'rvenge': {'_Total': 1}, 'rfine': {'_Total': 1}, 'lengdet': {'_Total': 1}, 'prisin': {'_Total': 1}, 'ofervers': {'_Total': 1}, 'capteve': {'_Total': 1}, 'ingen': {'_Total': 1}, 'hockee': {'_Total': 1}, 'hu': {'_Total': 5}, 'recald': {'_Total': 2}, 'othere': {'_Total': 1}, 'poset': {'_Total': 1}, 'sicwomen': {'_Total': 1}, 'withd': {'_Total': 1}, 'susxpitions': {'_Total': 1}, 'concerding': {'_Total': 1}, 'subgectof': {'_Total': 1}, 'mengos': {'_Total': 1}, 'coune': {'_Total': 1}, 'gouot': {'_Total': 1}, 'shuok': {'_Total': 3}, 'shagdy': {'_Total': 1}, 'drur': {'_Total': 1}, 'entrence': {'_Total': 1}, 'suposed': {'_Total': 1}, 'conjur': {'_Total': 1}, 'acut': {'_Total': 2}, 'practistd': {'_Total': 1}, 'intolece': {'_Total': 1}, 'woer': {'_Total': 1}, 'inetently': {'_Total': 1}, 'devrise': {'_Total': 1}, 'nodegre': {'_Total': 1}, 'infarur': {'_Total': 1}, 'delawer': {'_Total': 1}, 'docd': {'_Total': 1}, 'lening': {'_Total': 2}, 'forrd': {'_Total': 1}, 'peringh': {'_Total': 1}, 'pxpretion': {'_Total': 1}, 'fetures': {'_Total': 1}, 'afrad': {'_Total': 1}, 'courige': {'_Total': 1}, 'daverd': {'_Total': 1}, 'assertame': {'_Total': 1}, 'fhot': {'_Total': 3}, 'prident': {'_Total': 1}, 'discise': {'_Total': 1}, 'privicy': {'_Total': 1}, 'somming': {'_Total': 1}, 'betrad': {'_Total': 1}, 'uter': {'_Total': 2}, 'stae': {'_Total': 2}, 'coubir': {'_Total': 1}, 'tomik': {'_Total': 1}, 'effert': {'_Total': 3}, 'gotd': {'_Total': 3}, 'greatl': {'_Total': 1}, 'wron': {'_Total': 3}, 'conciterd': {'_Total': 1}, 'cekping': {'_Total': 1}, 'aterrdy': {'_Total': 1}, 'beforethe': {'_Total': 1}, 'tepenes': {'_Total': 1}, 'thenatu': {'_Total': 1}, 'gifs': {'_Total': 1}, 'forss': {'_Total': 1}, 'oncis': {'_Total': 1}, 'alrt': {'_Total': 1}, 'apruchd': {'_Total': 1}, 'retynes': {'_Total': 1}, 'tolye': {'_Total': 1}, 'recorled': {'_Total': 1}, 'resolotion': {'_Total': 1}, 'hokie': {'_Total': 1}, 'hindid': {'_Total': 1}, 'hif': {'_Total': 1}, 'fhowever': {'_Total': 1}, 'sco': {'_Total': 1}, 'telee': {'_Total': 1}, 'uncisin': {'_Total': 1}, 'venggit': {'_Total': 1}, 'becomge': {'_Total': 1}, 'worhurs': {'_Total': 1}, 'aind': {'_Total': 3}, 'trustyn': {'_Total': 1}, 'frns': {'_Total': 1}, 'lagegin': {'_Total': 1}, 'oncas': {'_Total': 1}, 'cemfime': {'_Total': 1}, 'senter': {'_Total': 2}, 'ilege': {'_Total': 1}, 'difvicul': {'_Total': 1}, 'apoch': {'_Total': 1}, 'orn': {'_Total': 3}, 'whut': {'_Total': 11}, 'obzervation': {'_Total': 1}, 'prcucs': {'_Total': 1}, 'homebly': {'_Total': 2}, 'tomerty': {'_Total': 1}, 'ricturn': {'_Total': 1}, 'daeber': {'_Total': 1}, 'litle': {'_Total': 8}, 'metle': {'_Total': 1}, 'ataccon': {'_Total': 1}, 'manbed': {'_Total': 1}, 'nh': {'_Total': 1}, 'consa': {'_Total': 1}, 'stratce': {'_Total': 1}, 'anstet': {'_Total': 1}, 'acaion': {'_Total': 1}, 'necstd': {'_Total': 1}, 'instent': {'_Total': 1}, 'burshe': {'_Total': 1}, 'ouer': {'_Total': 1}, 'rilege': {'_Total': 1}, 'ontes': {'_Total': 1}, 'ackepie': {'_Total': 1}, 'dissen': {'_Total': 1}, 'erclining': {'_Total': 1}, 'atitud': {'_Total': 2}, 'regidly': {'_Total': 1}, 'bouwnd': {'_Total': 1}, 'featd': {'_Total': 1}, 'silild': {'_Total': 1}, 'glme': {'_Total': 1}, 'beaing': {'_Total': 1}, 'tenntedo': {'_Total': 1}, 'solly': {'_Total': 1}, 'captivf': {'_Total': 1}, 'ligtod': {'_Total': 1}, 'imbers': {'_Total': 1}, 'ufir': {'_Total': 1}, 'nused': {'_Total': 1}, 'prpis': {'_Total': 1}, 'cocury': {'_Total': 1}, 'buter': {'_Total': 1}, 'whyi': {'_Total': 1}, 'cuning': {'_Total': 1}, 'whene': {'_Total': 5}, 'spe': {'_Total': 2}, 'vak': {'_Total': 1}, 'sutenly': {'_Total': 1}, 'yeur': {'_Total': 2}, 'inbhe': {'_Total': 1}, 'orno': {'_Total': 1}, 'spanseble': {'_Total': 1}, 'bep': {'_Total': 1}, 'deawars': {'_Total': 1}, 'difficuled': {'_Total': 1}, 'hesitading': {'_Total': 1}, 'crese': {'_Total': 1}, 'mitegaed': {'_Total': 1}, 'hamseth': {'_Total': 1}, 'evidint': {'_Total': 1}, 'markes': {'_Total': 1}, 'tral': {'_Total': 1}, 'thim': {'_Total': 3}, 'forist': {'_Total': 1}, 'gach': {'_Total': 1}, 'coukt': {'_Total': 1}, 'speake': {'_Total': 2}, 'ehal': {'_Total': 1}, 'suny': {'_Total': 1}, 'bispershed': {'_Total': 1}, 'mests': {'_Total': 1}, 'shanding': {'_Total': 1}, 'cuer': {'_Total': 1}, 'theforist': {'_Total': 1}, 'trapblars': {'_Total': 1}, 'jurnny': {'_Total': 1}, 'retrece': {'_Total': 1}, 'cener': {'_Total': 1}, 'rivelit': {'_Total': 1}, 'harter': {'_Total': 1}, 'comen': {'_Total': 1}, 'seivered': {'_Total': 1}, 'followd': {'_Total': 1}, 'caverd': {'_Total': 1}, 'distence': {'_Total': 2}, 'seldem': {'_Total': 1}, 'preceeting': {'_Total': 1}, 'pagres': {'_Total': 1}, 'adbancs': {'_Total': 1}, 'bekame': {'_Total': 3}, 'librites': {'_Total': 1}, 'wachfule': {'_Total': 1}, 'yetf': {'_Total': 1}, 'scorons': {'_Total': 1}, 'trale': {'_Total': 1}, 'crostd': {'_Total': 1}, 'wouled': {'_Total': 1}, 'crouted': {'_Total': 1}, 'mockisn': {'_Total': 1}, 'moiset': {'_Total': 1}, 'folowed': {'_Total': 1}, 'supces': {'_Total': 1}, 'oftrimf': {'_Total': 1}, 'sund': {'_Total': 1}, 'othinm': {'_Total': 1}, 'iridiletd': {'_Total': 1}, 'conciderng': {'_Total': 1}, 'cuontity': {'_Total': 1}, 'elocity': {'_Total': 1}, 'apenn': {'_Total': 1}, 'chingach': {'_Total': 1}, 'gookwe': {'_Total': 1}, 'guncos': {'_Total': 1}, 'xaminnation': {'_Total': 1}, 'resoltid': {'_Total': 1}, 'icten': {'_Total': 1}, 'spreing': {'_Total': 1}, 'affls': {'_Total': 1}, 'scatere': {'_Total': 1}, 'brosed': {'_Total': 1}, 'worces': {'_Total': 1}, 'simce': {'_Total': 1}, 'actof': {'_Total': 1}, 'spearit': {'_Total': 1}, 'contrye': {'_Total': 1}, 'bellts': {'_Total': 1}, 'riction': {'_Total': 1}, 'triving': {'_Total': 1}, 'seplmenc': {'_Total': 1}, 'thour': {'_Total': 1}, 'hemter': {'_Total': 1}, 'panatrat': {'_Total': 1}, 'serpl': {'_Total': 1}, 'handrerd': {'_Total': 1}, 'dron': {'_Total': 5}, 'tookche': {'_Total': 1}, 'sedmen': {'_Total': 1}, 'defaring': {'_Total': 1}, 'inderd': {'_Total': 1}, 'thowsind': {'_Total': 1}, 'therds': {'_Total': 1}, 'chers': {'_Total': 1}, 'berse': {'_Total': 1}, 'suxcession': {'_Total': 1}, 'slitly': {'_Total': 1}, 'thatsal': {'_Total': 1}, 'cosee': {'_Total': 1}, 'manservent': {'_Total': 1}, 'lefv': {'_Total': 1}, 'halle': {'_Total': 1}, 'wele': {'_Total': 2}, 'gatd': {'_Total': 2}, 'reasin': {'_Total': 2}, 'stouppand': {'_Total': 1}, 'forthe': {'_Total': 1}, 'worls': {'_Total': 1}, 'perfeict': {'_Total': 1}, 'sifition': {'_Total': 1}, 'buberi': {'_Total': 1}, 'conse': {'_Total': 3}, 'jumpt': {'_Total': 1}, 'ecarihe': {'_Total': 1}, 'sumanme': {'_Total': 1}, 'entring': {'_Total': 2}, 'frend': {'_Total': 3}, 'isso': {'_Total': 1}, 'lefeh': {'_Total': 1}, 'instrutioncs': {'_Total': 1}, 'sheping': {'_Total': 1}, 'cantaners': {'_Total': 1}, 'stufht': {'_Total': 1}, 'anamals': {'_Total': 1}, 'drid': {'_Total': 1}, 'onsed': {'_Total': 1}, 'lenkth': {'_Total': 1}, 'jary': {'_Total': 1}, 'objecd': {'_Total': 1}, 'bokling': {'_Total': 1}, 'crontery': {'_Total': 1}, 'congow': {'_Total': 1}, 'foan': {'_Total': 2}, 'frget': {'_Total': 2}, 'witl': {'_Total': 3}, 'ilitd': {'_Total': 1}, 'mestdout': {'_Total': 1}, 'inconsebable': {'_Total': 1}, 'ecpidition': {'_Total': 1}, 'aberham': {'_Total': 1}, 'linkon': {'_Total': 1}, 'bagidge': {'_Total': 1}, 'imealy': {'_Total': 1}, 'frigit': {'_Total': 1}, 'plece': {'_Total': 2}, 'fooegive': {'_Total': 1}, 'ternt': {'_Total': 1}, 'persin': {'_Total': 1}, 'weke': {'_Total': 2}, 'profasser': {'_Total': 1}, 'whaneded': {'_Total': 1}, 'contry': {'_Total': 7}, 'frans': {'_Total': 2}, 'cuorters': {'_Total': 1}, 'betacl': {'_Total': 1}, 'gartent': {'_Total': 1}, 'darly': {'_Total': 1}, 'belave': {'_Total': 1}, 'colections': {'_Total': 1}, 'farget': {'_Total': 1}, 'quiktd': {'_Total': 1}, 'coftibl': {'_Total': 1}, 'conseiy': {'_Total': 1}, 'finattic': {'_Total': 1}, 'formouity': {'_Total': 1}, 'terd': {'_Total': 2}, 'persson': {'_Total': 1}, 'plitd': {'_Total': 1}, 'atd': {'_Total': 4}, 'iresom': {'_Total': 1}, 'satsfid': {'_Total': 1}, 'caben': {'_Total': 1}, 'locatitd': {'_Total': 1}, 'offisers': {'_Total': 1}, \"dou't\": {'_Total': 1}, 'rabl': {'_Total': 2}, 'hobsens': {'_Total': 1}, 'dramed': {'_Total': 1}, 'chaing': {'_Total': 1}, 'passige': {'_Total': 3}, 'thasns': {'_Total': 1}, 'wavhing': {'_Total': 1}, 'abouve': {'_Total': 1}, 'tihtly': {'_Total': 1}, 'theabern': {'_Total': 1}, 'andtelet': {'_Total': 1}, 'reachd': {'_Total': 4}, 'entulet': {'_Total': 1}, 'yartity': {'_Total': 1}, 'sertinly': {'_Total': 1}, 'eplint': {'_Total': 1}, 'evacivly': {'_Total': 1}, 'mighte': {'_Total': 1}, 'detoer': {'_Total': 1}, 'warvs': {'_Total': 1}, 'bruklan': {'_Total': 1}, 'andevery': {'_Total': 1}, 'tne': {'_Total': 1}, 'bortering': {'_Total': 1}, 'easet': {'_Total': 1}, 'securs': {'_Total': 1}, 'salers': {'_Total': 1}, 'gac': {'_Total': 1}, 'sturd': {'_Total': 2}, 'presonce': {'_Total': 1}, 'smah': {'_Total': 1}, 'xtindid': {'_Total': 1}, 'appeard': {'_Total': 1}, 'justre': {'_Total': 1}, 'argu': {'_Total': 1}, 'jorny': {'_Total': 1}, 'axusted': {'_Total': 1}, 'baly': {'_Total': 1}, 'neting': {'_Total': 1}, 'welverse': {'_Total': 1}, 'tery': {'_Total': 3}, 'prachgl': {'_Total': 1}, 'appication': {'_Total': 1}, 'thice': {'_Total': 1}, 'xprm': {'_Total': 1}, 'mobelan': {'_Total': 1}, 'reving': {'_Total': 1}, 'shollders': {'_Total': 1}, 'sintist': {'_Total': 1}, 'betaica': {'_Total': 1}, 'boiy': {'_Total': 1}, 'trnk': {'_Total': 1}, 'crabling': {'_Total': 1}, 'ckit': {'_Total': 1}, 'sevtes': {'_Total': 1}, 'sherct': {'_Total': 1}, 'soks': {'_Total': 1}, 'squeas': {'_Total': 1}, 'ollin': {'_Total': 1}, 'hariy': {'_Total': 1}, 'nety': {'_Total': 1}, 'gjon': {'_Total': 1}, 'wesly': {'_Total': 2}, 'gerl': {'_Total': 2}, 'wartiong': {'_Total': 1}, 'wendos': {'_Total': 1}, 'upstars': {'_Total': 1}, 'onda': {'_Total': 1}, 'anm': {'_Total': 3}, 'lekely': {'_Total': 1}, 'felasly': {'_Total': 1}, 'wendow': {'_Total': 1}, 'fisision': {'_Total': 1}, 'fown': {'_Total': 2}, 'themistrs': {'_Total': 1}, 'hevby': {'_Total': 1}, 'nont': {'_Total': 2}, 'affets': {'_Total': 1}, 'therof': {'_Total': 1}, 'comand': {'_Total': 1}, 'peapl': {'_Total': 3}, 'repegration': {'_Total': 1}, 'commonity': {'_Total': 1}, 'oso': {'_Total': 1}, 'statemnt': {'_Total': 1}, 'avertsment': {'_Total': 1}, 'jong': {'_Total': 1}, 'combash': {'_Total': 1}, 'jakcob': {'_Total': 1}, 'tmes': {'_Total': 1}, 'skiner': {'_Total': 1}, 'sholt': {'_Total': 1}, 'edwered': {'_Total': 1}, 'simpithy': {'_Total': 1}, 'quamed': {'_Total': 1}, 'holon': {'_Total': 1}, 'shexprest': {'_Total': 1}, 'woith': {'_Total': 2}, 'houl': {'_Total': 2}, 'hollan': {'_Total': 1}, 'horange': {'_Total': 1}, 'rekletions': {'_Total': 1}, 'longder': {'_Total': 2}, 'rememrer': {'_Total': 1}, 'troment': {'_Total': 1}, 'holan': {'_Total': 1}, 'foboten': {'_Total': 1}, 'doton': {'_Total': 1}, 'radjanded': {'_Total': 1}, 'stase': {'_Total': 1}, 'simly': {'_Total': 1}, 'falldown': {'_Total': 1}, 'mestars': {'_Total': 1}, 'doan': {'_Total': 1}, 'nessesary': {'_Total': 1}, 'thu': {'_Total': 4}, 'yurs': {'_Total': 2}, 'otheir': {'_Total': 1}, 'slas': {'_Total': 1}, 'corsmen': {'_Total': 1}, 'cept': {'_Total': 1}, 'couce': {'_Total': 1}, 'bamks': {'_Total': 1}, 'niht': {'_Total': 4}, 'ourt': {'_Total': 1}, 'anule': {'_Total': 1}, 'omos': {'_Total': 1}, 'frosin': {'_Total': 1}, 'anfrmery': {'_Total': 1}, 'affectces': {'_Total': 1}, 'frostd': {'_Total': 1}, 'gaptwets': {'_Total': 1}, 'werve': {'_Total': 1}, 'hord': {'_Total': 1}, 'whad': {'_Total': 1}, 'mishede': {'_Total': 1}, 'sofare': {'_Total': 1}, 'runing': {'_Total': 2}, 'lowf': {'_Total': 1}, 'eeplese': {'_Total': 1}, 'substantiely': {'_Total': 1}, 'barnishd': {'_Total': 1}, 'discrition': {'_Total': 1}, 'swifly': {'_Total': 1}, 'ponisheed': {'_Total': 1}, 'beldts': {'_Total': 1}, 'lus': {'_Total': 4}, 'futuristix': {'_Total': 1}, 'submaring': {'_Total': 1}, 'noteles': {'_Total': 1}, 'thend': {'_Total': 5}, 'cindouts': {'_Total': 1}, 'unnder': {'_Total': 1}, 'worter': {'_Total': 1}, 'campang': {'_Total': 1}, 'ventiencs': {'_Total': 1}, 'ganst': {'_Total': 1}, 'perielist': {'_Total': 1}, 'aprescer': {'_Total': 1}, 'notalest': {'_Total': 1}, 'antartick': {'_Total': 1}, 'nemosines': {'_Total': 1}, 'spes': {'_Total': 1}, 'fications': {'_Total': 1}, 'sumarin': {'_Total': 1}, 'contranning': {'_Total': 1}, 'dibing': {'_Total': 1}, 'jeccages': {'_Total': 1}, 'motern': {'_Total': 3}, 'tikt': {'_Total': 1}, 'nowigy': {'_Total': 1}, 'trime': {'_Total': 1}, 'owty': {'_Total': 1}, 'begansd': {'_Total': 1}, 'xplame': {'_Total': 1}, 'wordly': {'_Total': 1}, 'twony': {'_Total': 2}, 'oundor': {'_Total': 1}, 'forminy': {'_Total': 1}, 'asors': {'_Total': 1}, 'fassination': {'_Total': 1}, 'sherly': {'_Total': 1}, 'noubls': {'_Total': 1}, 'insfration': {'_Total': 1}, 'inginer': {'_Total': 1}, 'siman': {'_Total': 1}, 'bhebe': {'_Total': 1}, 'javler': {'_Total': 1}, 'shacltin': {'_Total': 1}, 'thiss': {'_Total': 2}, 'lastaction': {'_Total': 1}, 'novls': {'_Total': 1}, 'briting': {'_Total': 1}, 'powr': {'_Total': 2}, 'coumse': {'_Total': 1}, 'nemow': {'_Total': 1}, 'intealy': {'_Total': 1}, 'fiter': {'_Total': 1}, 'fretom': {'_Total': 2}, 'yhe': {'_Total': 1}, 'ampresind': {'_Total': 1}, 'wurs': {'_Total': 1}, 'hemmen': {'_Total': 1}, 'anamo': {'_Total': 1}, 'omsef': {'_Total': 2}, 'creace': {'_Total': 1}, 'ditests': {'_Total': 1}, 'imperialesom': {'_Total': 1}, 'persinol': {'_Total': 1}, 'seffal': {'_Total': 1}, 'nobl': {'_Total': 3}, 'jestation': {'_Total': 1}, 'amost': {'_Total': 3}, 'conjectur': {'_Total': 1}, 'roly': {'_Total': 1}, 'sutltese': {'_Total': 1}, 'insihd': {'_Total': 1}, 'appesed': {'_Total': 1}, 'infrmation': {'_Total': 1}, 'indsight': {'_Total': 1}, 'mellemeter': {'_Total': 1}, 'rouftly': {'_Total': 1}, 'twanty': {'_Total': 2}, 'fifh': {'_Total': 1}, 'aninch': {'_Total': 1}, 'elv': {'_Total': 1}, 'srudly': {'_Total': 1}, 'arnax': {'_Total': 1}, 'colear': {'_Total': 1}, 'situst': {'_Total': 1}, 'esticl': {'_Total': 1}, 'conflect': {'_Total': 1}, 'composs': {'_Total': 1}, 'supplis': {'_Total': 1}, 'hemers': {'_Total': 1}, 'linses': {'_Total': 1}, 'vrirnce': {'_Total': 1}, 'fastd': {'_Total': 1}, 'facs': {'_Total': 3}, 'poner': {'_Total': 1}, 'appe': {'_Total': 1}, 'tites': {'_Total': 1}, 'roic': {'_Total': 1}, 'anamal': {'_Total': 1}, 'meligram': {'_Total': 1}, 'rougfly': {'_Total': 1}, 'twany': {'_Total': 1}, 'eighte': {'_Total': 1}, 'thousent': {'_Total': 1}, 'ontce': {'_Total': 1}, 'rougfhtly': {'_Total': 1}, 'rofhly': {'_Total': 1}, 'twnt': {'_Total': 1}, 'aght': {'_Total': 1}, 'firsed': {'_Total': 1}, 'apparis': {'_Total': 1}, 'broher': {'_Total': 1}, 'aselebrated': {'_Total': 1}, 'yacsmen': {'_Total': 1}, 'frequen': {'_Total': 1}, 'foiges': {'_Total': 1}, 'britnon': {'_Total': 1}, 'ves': {'_Total': 1}, 'eper': {'_Total': 1}, 'andd': {'_Total': 7}, 'golce': {'_Total': 1}, 'reqold': {'_Total': 1}, 'somel': {'_Total': 1}, 'ogils': {'_Total': 1}, 'lilat': {'_Total': 1}, 'karing': {'_Total': 1}, 'catle': {'_Total': 1}, 'hmgred': {'_Total': 1}, 'mevyd': {'_Total': 1}, 'comenanters': {'_Total': 1}, 'werk': {'_Total': 3}, 'persladedt': {'_Total': 1}, 'commin': {'_Total': 1}, 'forc': {'_Total': 1}, 'hacend': {'_Total': 1}, 'weelaatd': {'_Total': 1}, 'arly': {'_Total': 1}, 'simbod': {'_Total': 1}, 'ams': {'_Total': 3}, 'irsh': {'_Total': 1}, 'vasion': {'_Total': 1}, 'scutish': {'_Total': 1}, 'ometh': {'_Total': 1}, 'inmish': {'_Total': 1}, 'pannemet': {'_Total': 1}, 'tandd': {'_Total': 1}, 'cotated': {'_Total': 1}, 'ecescity': {'_Total': 1}, 'prmenting': {'_Total': 1}, 'vigurs': {'_Total': 1}, 'detating': {'_Total': 1}, 'balater': {'_Total': 1}, 'resuch': {'_Total': 1}, 'intomaturs': {'_Total': 1}, 'theyn': {'_Total': 1}, 'beheps': {'_Total': 1}, 'clind': {'_Total': 1}, 'selebrated': {'_Total': 1}, 'pomnit': {'_Total': 1}, 'carrge': {'_Total': 1}, 'condukt': {'_Total': 1}, 'miltery': {'_Total': 1}, 'notti': {'_Total': 1}, 'scemithes': {'_Total': 1}, 'trosed': {'_Total': 1}, 'scae': {'_Total': 1}, 'reguence': {'_Total': 1}, 'compeisd': {'_Total': 1}, 'diferint': {'_Total': 1}, 'affisers': {'_Total': 1}, 'aponted': {'_Total': 1}, 'meltery': {'_Total': 1}, 'forcse': {'_Total': 1}, 'ingto': {'_Total': 1}, 'indepindentes': {'_Total': 1}, 'condut': {'_Total': 1}, 'presince': {'_Total': 1}, 'mingd': {'_Total': 1}, 'emorgencs': {'_Total': 1}, 'apearved': {'_Total': 1}, 'conspiciuus': {'_Total': 1}, 'wmon': {'_Total': 1}, 'weah': {'_Total': 1}, 'cuberery': {'_Total': 1}, 'touop': {'_Total': 1}, 'corce': {'_Total': 1}, 'infintry': {'_Total': 1}, 'noutte': {'_Total': 1}, 'piting': {'_Total': 2}, 'worce': {'_Total': 1}, 'oted': {'_Total': 1}, 'opom': {'_Total': 2}, 'thefot': {'_Total': 1}, 'cupt': {'_Total': 2}, 'eent': {'_Total': 1}, 'gordin': {'_Total': 1}, 'theport': {'_Total': 1}, 'woilists': {'_Total': 1}, 'storins': {'_Total': 1}, 'atlest': {'_Total': 1}, 'imons': {'_Total': 1}, 'remart': {'_Total': 1}, 'anh': {'_Total': 1}, 'thimn': {'_Total': 1}, 'inpitus': {'_Total': 1}, 'pondu': {'_Total': 1}, 'rvatl': {'_Total': 1}, 'fortrun': {'_Total': 1}, 'dradig': {'_Total': 1}, 'hisse': {'_Total': 1}, 'peryar': {'_Total': 1}, 'joringd': {'_Total': 1}, 'dascls': {'_Total': 1}, 'forch': {'_Total': 1}, 'nevyd': {'_Total': 1}, 'prmlik': {'_Total': 1}, 'aprotin': {'_Total': 1}, 'armly': {'_Total': 2}, 'ontros': {'_Total': 1}, 'hasen': {'_Total': 1}, 'morword': {'_Total': 1}, 'orde': {'_Total': 1}, 'agang': {'_Total': 1}, 'ke': {'_Total': 6}, 'hrutly': {'_Total': 1}, 'gortins': {'_Total': 1}, 'hastinly': {'_Total': 1}, 'omns': {'_Total': 1}, 'instetly': {'_Total': 1}, 'supprestd': {'_Total': 1}, 'covernanters': {'_Total': 1}, 'thecis': {'_Total': 1}, 'opro': {'_Total': 1}, 'montrosis': {'_Total': 1}, 'constls': {'_Total': 1}, 'boldist': {'_Total': 1}, 'geeably': {'_Total': 1}, 'desprt': {'_Total': 1}, 'rorl': {'_Total': 1}, 'scropted': {'_Total': 1}, 'lhis': {'_Total': 2}, 'trose': {'_Total': 1}, 'solyed': {'_Total': 1}, 'bicteris': {'_Total': 1}, 'resot': {'_Total': 1}, 'privit': {'_Total': 1}, 'ciftin': {'_Total': 1}, 'luch': {'_Total': 1}, 'ozel': {'_Total': 1}, 'promnic': {'_Total': 1}, 'colecting': {'_Total': 1}, 'fre': {'_Total': 17}, 'morch': {'_Total': 1}, 'clesto': {'_Total': 1}, 'retid': {'_Total': 1}, 'iner': {'_Total': 2}, 'sapposo': {'_Total': 1}, 'distenc': {'_Total': 2}, 'fronto': {'_Total': 1}, 'quicke': {'_Total': 1}, 'mah': {'_Total': 1}, 'hatcend': {'_Total': 1}, 'inerlocky': {'_Total': 1}, 'prisitid': {'_Total': 1}, 'orderaf': {'_Total': 1}, 'patle': {'_Total': 1}, 'quik': {'_Total': 1}, 'marthes': {'_Total': 1}, 'montons': {'_Total': 1}, 'gener': {'_Total': 1}, 'erfortes': {'_Total': 1}, 'covenenturs': {'_Total': 1}, 'thron': {'_Total': 1}, 'enterprie': {'_Total': 1}, 'betand': {'_Total': 1}, 'discoregd': {'_Total': 1}, 'conteed': {'_Total': 1}, 'coteis': {'_Total': 1}, 'prtetio': {'_Total': 1}, 'fese': {'_Total': 2}, 'loilists': {'_Total': 1}, 'dicipline': {'_Total': 1}, 'fornar': {'_Total': 1}, 'contentibl': {'_Total': 1}, 'ixact': {'_Total': 1}, 'gustd': {'_Total': 1}, 'comonders': {'_Total': 1}, 'orther': {'_Total': 1}, 'prerstans': {'_Total': 1}, 'umted': {'_Total': 1}, 'themsevs': {'_Total': 1}, 'maper': {'_Total': 1}, 'megiste': {'_Total': 1}, 'menter': {'_Total': 1}, 'titel': {'_Total': 1}, 'ele': {'_Total': 2}, 'contrying': {'_Total': 1}, 'pergustd': {'_Total': 1}, 'verly': {'_Total': 1}, 'generely': {'_Total': 1}, 'defesd': {'_Total': 1}, 'whais': {'_Total': 2}, 'duriyng': {'_Total': 1}, 'periedt': {'_Total': 2}, 'olso': {'_Total': 1}, 'tangd': {'_Total': 2}, 'bydthe': {'_Total': 1}, 'fortces': {'_Total': 1}, 'pelemet': {'_Total': 1}, 'perfectiont': {'_Total': 1}, 'minitery': {'_Total': 1}, 'concertin': {'_Total': 1}, 'jenre': {'_Total': 1}, 'aprations': {'_Total': 1}, 'feled': {'_Total': 2}, 'wongtong': {'_Total': 1}, \"mendi's\": {'_Total': 1}, 'porlemnt': {'_Total': 1}, 'puded': {'_Total': 1}, 'eminto': {'_Total': 1}, 'serven': {'_Total': 1}, 'ginels': {'_Total': 1}, 'frlop': {'_Total': 1}, 'commitions': {'_Total': 2}, 'wariely': {'_Total': 1}, 'progint': {'_Total': 1}, 'puiting': {'_Total': 2}, 'mearmy': {'_Total': 1}, 'torrly': {'_Total': 1}, 'anto': {'_Total': 2}, 'leoe': {'_Total': 1}, 'isri': {'_Total': 1}, 'asof': {'_Total': 1}, 'menof': {'_Total': 1}, 'juder': {'_Total': 1}, 'sadd': {'_Total': 1}, 'hatnd': {'_Total': 1}, 'havvil': {'_Total': 1}, 'vave': {'_Total': 1}, 'didedi': {'_Total': 1}, 'spis': {'_Total': 1}, 'oured': {'_Total': 1}, 'cing': {'_Total': 3}, 'reytan': {'_Total': 1}, 'aganstin': {'_Total': 1}, 'presint': {'_Total': 3}, 'cindition': {'_Total': 2}, 'pustd': {'_Total': 1}, 'geneorise': {'_Total': 1}, 'thand': {'_Total': 5}, 'prarse': {'_Total': 1}, 'parlenent': {'_Total': 1}, 'stote': {'_Total': 3}, 'prposons': {'_Total': 1}, 'mersy': {'_Total': 1}, 'mebe': {'_Total': 1}, 'stidou': {'_Total': 1}, 'wods': {'_Total': 4}, 'ngish': {'_Total': 1}, 'receving': {'_Total': 1}, 'whul': {'_Total': 4}, 'naver': {'_Total': 1}, 'poctedt': {'_Total': 1}, 'phardey': {'_Total': 1}, 'weakind': {'_Total': 1}, 'imses': {'_Total': 1}, 'masur': {'_Total': 1}, 'strith': {'_Total': 1}, 'pepule': {'_Total': 2}, 'fome': {'_Total': 2}, 'theng': {'_Total': 3}, 'scotesh': {'_Total': 1}, 'genneral': {'_Total': 1}, 'afictod': {'_Total': 1}, 'suppros': {'_Total': 1}, 'aperenc': {'_Total': 1}, 'exsteryu': {'_Total': 1}, 'duto': {'_Total': 1}, 'diinty': {'_Total': 1}, 'gried': {'_Total': 1}, 'aponhim': {'_Total': 1}, 'coler': {'_Total': 7}, 'pretection': {'_Total': 1}, 'melety': {'_Total': 1}, 'preatur': {'_Total': 1}, 'ofte': {'_Total': 1}, 'reproting': {'_Total': 1}, 'sface': {'_Total': 2}, 'governlent': {'_Total': 1}, 'orderd': {'_Total': 1}, 'dotiens': {'_Total': 1}, 'pityg': {'_Total': 1}, 'sgreatere': {'_Total': 1}, 'deffrence': {'_Total': 1}, 'mimister': {'_Total': 1}, 'formler': {'_Total': 1}, 'parloment': {'_Total': 1}, 'unixpected': {'_Total': 1}, 'shoued': {'_Total': 2}, 'privige': {'_Total': 1}, 'treathy': {'_Total': 1}, 'himly': {'_Total': 1}, 'lonlon': {'_Total': 1}, 'conjuntur': {'_Total': 1}, 'nasfortion': {'_Total': 1}, 'miitration': {'_Total': 1}, 'anterl': {'_Total': 1}, 'palenent': {'_Total': 1}, 'kndes': {'_Total': 1}, 'levety': {'_Total': 1}, 'melitary': {'_Total': 1}, 'forse': {'_Total': 8}, 'ordinised': {'_Total': 1}, 'modinto': {'_Total': 1}, 'planind': {'_Total': 1}, 'compiny': {'_Total': 1}, 'iand': {'_Total': 4}, 'iis': {'_Total': 1}, 'surender': {'_Total': 2}, 'orms': {'_Total': 3}, 'belongg': {'_Total': 1}, 'miletery': {'_Total': 1}, 'compines': {'_Total': 1}, 'inciteit': {'_Total': 1}, 'bilent': {'_Total': 2}, 'ponssy': {'_Total': 1}, 'summen': {'_Total': 2}, 'forther': {'_Total': 2}, 'epfert': {'_Total': 1}, 'reater': {'_Total': 1}, 'prisnol': {'_Total': 1}, 'wilonce': {'_Total': 1}, 'discice': {'_Total': 1}, 'prtect': {'_Total': 2}, 'reiscurd': {'_Total': 1}, 'cidicens': {'_Total': 1}, 'torny': {'_Total': 1}, 'ning': {'_Total': 2}, 'cumppeny': {'_Total': 1}, 'vraigins': {'_Total': 1}, 'bysel': {'_Total': 1}, 'whyether': {'_Total': 1}, 'latver': {'_Total': 1}, 'stils': {'_Total': 2}, 'prisnear': {'_Total': 1}, 'nher': {'_Total': 1}, 'praris': {'_Total': 2}, 'ecomptin': {'_Total': 1}, 'charg': {'_Total': 1}, 'optecirs': {'_Total': 1}, 'arny': {'_Total': 2}, 'sumed': {'_Total': 1}, 'charcter': {'_Total': 1}, 'sherfe': {'_Total': 1}, 'jons': {'_Total': 1}, 'pockis': {'_Total': 1}, 'alise': {'_Total': 1}, 'itiud': {'_Total': 1}, 'sperit': {'_Total': 2}, 'perciecution': {'_Total': 1}, 'oftond': {'_Total': 1}, 'bafled': {'_Total': 1}, 'sharpk': {'_Total': 1}, 'reaty': {'_Total': 3}, 'sorces': {'_Total': 1}, 'stak': {'_Total': 2}, 'stefied': {'_Total': 1}, 'comtrsting': {'_Total': 1}, 'creeatye': {'_Total': 1}, 'trurk': {'_Total': 1}, 'pispirt': {'_Total': 1}, 'sucity': {'_Total': 3}, 'massahues': {'_Total': 1}, 'triom': {'_Total': 1}, 'fhent': {'_Total': 1}, 'bendipation': {'_Total': 1}, 'convitions': {'_Total': 1}, 'antegencs': {'_Total': 1}, 'crurge': {'_Total': 1}, 'supord': {'_Total': 1}, 'secer': {'_Total': 1}, 'compenation': {'_Total': 1}, 'fishiols': {'_Total': 1}, 'bodis': {'_Total': 2}, 'corcs': {'_Total': 1}, 'melisio': {'_Total': 1}, 'afasirs': {'_Total': 1}, 'percening': {'_Total': 1}, 'wia': {'_Total': 2}, 'chatise': {'_Total': 1}, 'transparnd': {'_Total': 1}, 'braing': {'_Total': 2}, 'tlas': {'_Total': 1}, 'witmices': {'_Total': 1}, 'acesseris': {'_Total': 1}, 'cusstote': {'_Total': 1}, 'cickacr': {'_Total': 1}, 'rangurs': {'_Total': 1}, 'provd': {'_Total': 1}, 'akime': {'_Total': 1}, 'jeler': {'_Total': 1}, 'terilly': {'_Total': 1}, 'ucisted': {'_Total': 1}, 'dangurs': {'_Total': 1}, 'ctern': {'_Total': 1}, 'shanon': {'_Total': 1}, 'treth': {'_Total': 1}, 'igteng': {'_Total': 1}, 'fity': {'_Total': 2}, 'sixs': {'_Total': 1}, 'alection': {'_Total': 1}, 'aiten': {'_Total': 1}, 'cimne': {'_Total': 1}, 'strusfl': {'_Total': 1}, 'crushd': {'_Total': 1}, 'nopate': {'_Total': 1}, 'fotnot': {'_Total': 1}, 'roben': {'_Total': 3}, 'bheing': {'_Total': 2}, 'trabl': {'_Total': 1}, 'lecting': {'_Total': 1}, 'missery': {'_Total': 2}, 'preson': {'_Total': 1}, 'saly': {'_Total': 2}, 'movemencs': {'_Total': 1}, 'suble': {'_Total': 1}, 'canss': {'_Total': 1}, 'whih': {'_Total': 2}, 'haplly': {'_Total': 1}, 'sangginery': {'_Total': 1}, 'sela': {'_Total': 1}, 'caes': {'_Total': 1}, 'chand': {'_Total': 1}, 'risstred': {'_Total': 1}, 'varty': {'_Total': 1}, 'alaos': {'_Total': 1}, 'opingin': {'_Total': 1}, 'sahe': {'_Total': 1}, 'mhes': {'_Total': 2}, 'agan': {'_Total': 9}, 'baricatded': {'_Total': 1}, 'afied': {'_Total': 1}, 'dgrelings': {'_Total': 1}, 'campes': {'_Total': 1}, 'scolt': {'_Total': 1}, 'vinally': {'_Total': 1}, 'colmmenating': {'_Total': 1}, 'woving': {'_Total': 1}, 'pretetory': {'_Total': 1}, 'affe': {'_Total': 1}, 'offisser': {'_Total': 1}, 'ckanme': {'_Total': 1}, 'wihthey': {'_Total': 1}, 'recclisation': {'_Total': 1}, 'gover': {'_Total': 1}, 'shannen': {'_Total': 1}, 'theare': {'_Total': 1}, 'meverworth': {'_Total': 1}, 'dases': {'_Total': 1}, 'woere': {'_Total': 1}, 'concuomed': {'_Total': 1}, 'thesd': {'_Total': 1}, 'egotiuations': {'_Total': 1}, 'sprt': {'_Total': 1}, 'vengencs': {'_Total': 1}, 'yeald': {'_Total': 1}, 'summere': {'_Total': 1}, 'stace': {'_Total': 1}, 'strane': {'_Total': 2}, 'partince': {'_Total': 1}, 'desn': {'_Total': 1}, 'sidisens': {'_Total': 1}, 'juing': {'_Total': 1}, 'poscyy': {'_Total': 1}, 'baed': {'_Total': 1}, 'sisto': {'_Total': 1}, 'ovf': {'_Total': 4}, 'thith': {'_Total': 1}, 'avery': {'_Total': 1}, 'extinded': {'_Total': 1}, 'freplent': {'_Total': 1}, 'atrsius': {'_Total': 1}, 'tetills': {'_Total': 1}, 'pistl': {'_Total': 1}, 'dourself': {'_Total': 1}, 'comesd': {'_Total': 1}, 'formnobl': {'_Total': 1}, 'vaniges': {'_Total': 1}, 'wloded': {'_Total': 1}, 'ambaros': {'_Total': 1}, 'damigiing': {'_Total': 1}, 'xposur': {'_Total': 1}, 'juge': {'_Total': 1}, 'itud': {'_Total': 1}, 'agans': {'_Total': 2}, 'govener': {'_Total': 1}, 'frbllus': {'_Total': 1}, 'govenner': {'_Total': 1}, 'doufol': {'_Total': 1}, 'aovtem': {'_Total': 1}, 'floing': {'_Total': 1}, 'cansas': {'_Total': 1}, 'secur': {'_Total': 1}, 'fhaettl': {'_Total': 1}, 'ston': {'_Total': 2}, 'dilning': {'_Total': 1}, 'storis': {'_Total': 2}, 'hansomly': {'_Total': 1}, 'firnesh': {'_Total': 1}, 'preavisly': {'_Total': 1}, 'accu': {'_Total': 1}, 'longig': {'_Total': 1}, 'orns': {'_Total': 2}, 'oprend': {'_Total': 1}, 'comedations': {'_Total': 1}, 'problye': {'_Total': 1}, 'acation': {'_Total': 2}, 'soro': {'_Total': 3}, 'undeceved': {'_Total': 1}, 'werception': {'_Total': 1}, 'speach': {'_Total': 2}, 'wesport': {'_Total': 1}, 'leguslature': {'_Total': 1}, 'ien': {'_Total': 2}, 'forsced': {'_Total': 1}, 'lided': {'_Total': 1}, 'prosslaver': {'_Total': 1}, 'attigers': {'_Total': 1}, 'cantinued': {'_Total': 1}, 'prtended': {'_Total': 1}, 'scerch': {'_Total': 1}, 'arnd': {'_Total': 1}, 'errestd': {'_Total': 1}, 'pritit': {'_Total': 1}, 'prercons': {'_Total': 1}, 'benly': {'_Total': 1}, 'sotd': {'_Total': 1}, 'thortis': {'_Total': 1}, 'distruction': {'_Total': 1}, 'properdy': {'_Total': 1}, 'prary': {'_Total': 1}, 'prar': {'_Total': 2}, 'dyefenders': {'_Total': 1}, 'vir': {'_Total': 1}, 'shuding': {'_Total': 1}, 'shurrf': {'_Total': 1}, 'lorns': {'_Total': 1}, 'rertiol': {'_Total': 1}, 'aelli': {'_Total': 1}, 'depbeby': {'_Total': 1}, 'areasttin': {'_Total': 1}, 'disceverd': {'_Total': 1}, 'fenses': {'_Total': 1}, 'bagans': {'_Total': 1}, 'saces': {'_Total': 1}, 'munderd': {'_Total': 1}, 'promply': {'_Total': 1}, 'summencs': {'_Total': 1}, 'rermoed': {'_Total': 1}, 'apoined': {'_Total': 1}, 'owr': {'_Total': 2}, 'canind': {'_Total': 1}, 'wals': {'_Total': 4}, 'effertd': {'_Total': 1}, 'nhe': {'_Total': 2}, 'mericl': {'_Total': 1}, 'thefactions': {'_Total': 1}, 'eclth': {'_Total': 1}, 'actr': {'_Total': 1}, 'nariications': {'_Total': 1}, 'aliltle': {'_Total': 1}, 'couottd': {'_Total': 1}, 'dinanteris': {'_Total': 1}, 'goviner': {'_Total': 1}, 'prsided': {'_Total': 1}, 'survar': {'_Total': 1}, 'prenspl': {'_Total': 1}, 'spech': {'_Total': 2}, 'abllitionost': {'_Total': 1}, 'shie': {'_Total': 1}, 'tle': {'_Total': 2}, 'pribing': {'_Total': 1}, 'remars': {'_Total': 1}, 'latere': {'_Total': 1}, 'hemd': {'_Total': 1}, 'bownd': {'_Total': 1}, 'masios': {'_Total': 1}, 'varius': {'_Total': 1}, 'prcetings': {'_Total': 1}, 'ficiols': {'_Total': 1}, 'fromther': {'_Total': 1}, 'desent': {'_Total': 1}, 'complinces': {'_Total': 1}, 'heitation': {'_Total': 1}, 'siloncs': {'_Total': 1}, 'wevan': {'_Total': 1}, 'stron': {'_Total': 6}, 'levewort': {'_Total': 1}, 'teclared': {'_Total': 1}, 'hotility': {'_Total': 1}, 'welfer': {'_Total': 1}, 'proscriction': {'_Total': 1}, 'vilencs': {'_Total': 1}, 'toncs': {'_Total': 1}, 'firce': {'_Total': 2}, 'cnmpanin': {'_Total': 1}, 'infllenses': {'_Total': 1}, 'habs': {'_Total': 1}, 'inclnations': {'_Total': 1}, 'aordy': {'_Total': 1}, 'watin': {'_Total': 1}, 'dructions': {'_Total': 1}, 'ampressions': {'_Total': 1}, 'wourty': {'_Total': 1}, 'sidenly': {'_Total': 1}, 'birs': {'_Total': 1}, 'wepeng': {'_Total': 2}, 'sday': {'_Total': 1}, 'icen': {'_Total': 1}, 'anging': {'_Total': 1}, 'prentef': {'_Total': 1}, 'bilding': {'_Total': 1}, 'trane': {'_Total': 1}, 'paet': {'_Total': 1}, 'disting': {'_Total': 1}, 'caricters': {'_Total': 1}, 'dissplayy': {'_Total': 1}, 'faling': {'_Total': 1}, 'diffrnce': {'_Total': 1}, 'legislatur': {'_Total': 1}, 'numberd': {'_Total': 1}, 'sicx': {'_Total': 1}, 'affar': {'_Total': 2}, 'magnafie': {'_Total': 1}, 'croning': {'_Total': 1}, 'outlos': {'_Total': 1}, 'molitio': {'_Total': 1}, 'jennerls': {'_Total': 1}, 'suguste': {'_Total': 1}, 'governer': {'_Total': 1}, 'shold': {'_Total': 7}, 'autlas': {'_Total': 1}, 'lorncs': {'_Total': 1}, 'esswere': {'_Total': 1}, 'natther': {'_Total': 1}, 'aste': {'_Total': 1}, 'calloupt': {'_Total': 1}, 'havfban': {'_Total': 1}, 'auer': {'_Total': 1}, 'turnming': {'_Total': 1}, 'montrencs': {'_Total': 1}, 'proprieters': {'_Total': 1}, 'intol': {'_Total': 2}, 'plark': {'_Total': 1}, 'remod': {'_Total': 1}, 'personl': {'_Total': 1}, 'proferty': {'_Total': 1}, 'fron': {'_Total': 6}, 'oltel': {'_Total': 1}, 'shoullders': {'_Total': 1}, 'deturmind': {'_Total': 1}, 'catuplt': {'_Total': 1}, 'alixender': {'_Total': 1}, 'icouldnt': {'_Total': 1}, 'wisperd': {'_Total': 2}, 'kee': {'_Total': 2}, 'falowed': {'_Total': 1}, 'asolly': {'_Total': 1}, 'creakt': {'_Total': 1}, 'holde': {'_Total': 2}, 'wached': {'_Total': 1}, 'trombling': {'_Total': 1}, 'scerscely': {'_Total': 1}, 'brething': {'_Total': 1}, 'dorck': {'_Total': 1}, 'shatt': {'_Total': 1}, 'groing': {'_Total': 3}, 'hildi': {'_Total': 1}, 'bartley': {'_Total': 1}, 'kiscing': {'_Total': 1}, 'tird': {'_Total': 1}, 'ises': {'_Total': 1}, 'youe': {'_Total': 1}, 'miserble': {'_Total': 1}, 'yoes': {'_Total': 1}, 'herid': {'_Total': 1}, 'jenly': {'_Total': 1}, 'dro': {'_Total': 1}, 'fragrencs': {'_Total': 1}, 'dyou': {'_Total': 1}, 'loting': {'_Total': 1}, 'lole': {'_Total': 1}, 'diffrent': {'_Total': 1}, 'defiing': {'_Total': 1}, 'helda': {'_Total': 1}, 'bartly': {'_Total': 10}, 'madnow': {'_Total': 1}, 'differncs': {'_Total': 1}, 'anderstand': {'_Total': 1}, 'alxander': {'_Total': 2}, 'mning': {'_Total': 1}, 'butning': {'_Total': 1}, 'ollver': {'_Total': 1}, 'retuernd': {'_Total': 1}, 'hamop': {'_Total': 1}, 'hiledas': {'_Total': 1}, 'hildas': {'_Total': 1}, 'whisperd': {'_Total': 1}, 'thiecad': {'_Total': 1}, 'wev': {'_Total': 1}, 'somthing': {'_Total': 5}, 'jently': {'_Total': 2}, 'gratitud': {'_Total': 1}, 'stol': {'_Total': 4}, 'iththe': {'_Total': 1}, 'haret': {'_Total': 1}, 'nes': {'_Total': 7}, 'erchin': {'_Total': 1}, 'lafthing': {'_Total': 1}, 'wike': {'_Total': 3}, 'wernt': {'_Total': 1}, 'habpy': {'_Total': 1}, 'smild': {'_Total': 2}, 'fomled': {'_Total': 1}, 'fors': {'_Total': 3}, 'opstars': {'_Total': 1}, 'aexander': {'_Total': 2}, 'shouok': {'_Total': 2}, 'cowerdly': {'_Total': 1}, 'berable': {'_Total': 1}, 'afbout': {'_Total': 2}, 'tenminits': {'_Total': 1}, 'hepld': {'_Total': 1}, 'alxandere': {'_Total': 1}, 'lened': {'_Total': 2}, 'fored': {'_Total': 2}, 'wome': {'_Total': 1}, 'howd': {'_Total': 1}, 'mhadint': {'_Total': 1}, 'spokn': {'_Total': 1}, 'aword': {'_Total': 1}, 'loer': {'_Total': 2}, 'ovr': {'_Total': 1}, 'toln': {'_Total': 1}, 'thout': {'_Total': 11}, 'yoused': {'_Total': 2}, 'feltit': {'_Total': 1}, 'wolk': {'_Total': 1}, 'promus': {'_Total': 1}, 'doceeme': {'_Total': 1}, 'affen': {'_Total': 1}, 'metter': {'_Total': 1}, 'hored': {'_Total': 1}, 'ondrstand': {'_Total': 1}, 'townd': {'_Total': 1}, 'ius': {'_Total': 1}, 'morsy': {'_Total': 1}, 'whete': {'_Total': 1}, 'notded': {'_Total': 1}, 'dimlyeh': {'_Total': 1}, 'impationcs': {'_Total': 1}, 'rebergoing': {'_Total': 1}, 'womet': {'_Total': 1}, 'backin': {'_Total': 1}, 'flecthed': {'_Total': 1}, 'combenition': {'_Total': 1}, 'somethng': {'_Total': 1}, 'atily': {'_Total': 1}, 'conciter': {'_Total': 1}, 'mometin': {'_Total': 1}, 'mhensed': {'_Total': 1}, 'thek': {'_Total': 1}, 'nok': {'_Total': 1}, 'theiy': {'_Total': 1}, 'nowr': {'_Total': 1}, 'axander': {'_Total': 1}, 'hancsom': {'_Total': 1}, 'grokd': {'_Total': 1}, 'pak': {'_Total': 2}, 'chek': {'_Total': 1}, 'glok': {'_Total': 1}, 'tkin': {'_Total': 1}, 'myiself': {'_Total': 1}, 'onad': {'_Total': 1}, 'marye': {'_Total': 1}, 'hildat': {'_Total': 1}, 'olxander': {'_Total': 1}, 'cousy': {'_Total': 1}, 'bebinin': {'_Total': 1}, 'pem': {'_Total': 1}, 'entrest': {'_Total': 1}, 'donky': {'_Total': 1}, 'slickpen': {'_Total': 1}, 'wonding': {'_Total': 1}, 'toutd': {'_Total': 1}, 'hary': {'_Total': 1}, 'vemissly': {'_Total': 1}, 'weakes': {'_Total': 2}, 'havte': {'_Total': 1}, 'dusin': {'_Total': 1}, 'rety': {'_Total': 3}, 'afpot': {'_Total': 1}, 'erlythen': {'_Total': 1}, 'detout': {'_Total': 1}, 'amaritens': {'_Total': 1}, 'wisthat': {'_Total': 1}, 'unginears': {'_Total': 1}, 'ecanics': {'_Total': 1}, 'afted': {'_Total': 1}, 'firsht': {'_Total': 3}, 'tacttan': {'_Total': 1}, 'semd': {'_Total': 2}, 'certin': {'_Total': 1}, 'erself': {'_Total': 1}, 'aftir': {'_Total': 1}, 'afully': {'_Total': 1}, 'yowng': {'_Total': 2}, 'dancs': {'_Total': 2}, 'consios': {'_Total': 1}, 'nigt': {'_Total': 1}, 'sazs': {'_Total': 1}, 'secondact': {'_Total': 1}, 'nighke': {'_Total': 1}, 'hemn': {'_Total': 1}, 'sitin': {'_Total': 1}, 'getther': {'_Total': 1}, 'briace': {'_Total': 1}, 'whlthy': {'_Total': 1}, 'stiting': {'_Total': 1}, 'broat': {'_Total': 2}, 'thtye': {'_Total': 1}, 'soryfor': {'_Total': 1}, 'onthing': {'_Total': 1}, 'mhn': {'_Total': 1}, 'sheyot': {'_Total': 1}, 'noadout': {'_Total': 1}, 'whes': {'_Total': 2}, 'afly': {'_Total': 1}, 'actuly': {'_Total': 1}, 'fordet': {'_Total': 2}, 'shouldt': {'_Total': 1}, 'noww': {'_Total': 2}, 'anybute': {'_Total': 1}, 'heary': {'_Total': 1}, 'americon': {'_Total': 1}, 'sincs': {'_Total': 10}, 'nervs': {'_Total': 1}, 'continsy': {'_Total': 1}, 'lofking': {'_Total': 1}, 'myt': {'_Total': 3}, 'alexender': {'_Total': 1}, 'rapirt': {'_Total': 1}, 'timngling': {'_Total': 1}, 'featere': {'_Total': 1}, 'wouldne': {'_Total': 1}, 'fansy': {'_Total': 1}, 'relly': {'_Total': 2}, 'felit': {'_Total': 1}, 'womn': {'_Total': 1}, 'pasion': {'_Total': 1}, 'sencs': {'_Total': 7}, 'frihtin': {'_Total': 1}, 'skech': {'_Total': 1}, 'dessta': {'_Total': 1}, 'whent': {'_Total': 2}, 'overand': {'_Total': 1}, 'oen': {'_Total': 1}, 'muche': {'_Total': 2}, 'trumer': {'_Total': 1}, 'runeth': {'_Total': 1}, 'yoello': {'_Total': 1}, 'figur': {'_Total': 2}, 'askt': {'_Total': 3}, 'wof': {'_Total': 2}, 'wigke': {'_Total': 1}, 'wond': {'_Total': 2}, 'fromus': {'_Total': 2}, 'fule': {'_Total': 1}, 'omlet': {'_Total': 1}, 'shurms': {'_Total': 1}, 'troffles': {'_Total': 1}, 'artechos': {'_Total': 1}, 'dri': {'_Total': 3}, 'yelo': {'_Total': 1}, 'roneg': {'_Total': 1}, 'wingd': {'_Total': 1}, 'alwis': {'_Total': 2}, 'felos': {'_Total': 2}, 'loil': {'_Total': 1}, 'cuenched': {'_Total': 1}, 'howted': {'_Total': 1}, 'demerly': {'_Total': 1}, 'thingk': {'_Total': 2}, 'changus': {'_Total': 1}, 'qorter': {'_Total': 3}, 'manicsd': {'_Total': 1}, 'suomething': {'_Total': 1}, 'holping': {'_Total': 1}, 'hre': {'_Total': 1}, 'nowen': {'_Total': 1}, 'titing': {'_Total': 1}, 'cousan': {'_Total': 1}, 'sesons': {'_Total': 2}, 'sondey': {'_Total': 1}, 'eming': {'_Total': 1}, 'titl': {'_Total': 1}, 'conductid': {'_Total': 1}, 'mermerd': {'_Total': 1}, 'lasily': {'_Total': 1}, 'camean': {'_Total': 1}, 'coffly': {'_Total': 1}, 'foerst': {'_Total': 1}, 'tok': {'_Total': 7}, 'howm': {'_Total': 2}, 'hilda': {'_Total': 1}, 'hined': {'_Total': 3}, 'stedy': {'_Total': 3}, 'imself': {'_Total': 2}, 'wligke': {'_Total': 1}, 'stors': {'_Total': 2}, 'justlike': {'_Total': 1}, 'bavys': {'_Total': 1}, 'frerckles': {'_Total': 1}, 'buk': {'_Total': 1}, 'chelsy': {'_Total': 1}, 'spok': {'_Total': 4}, 'fery': {'_Total': 1}, 'tunderly': {'_Total': 1}, 'holda': {'_Total': 1}, 'joly': {'_Total': 1}, 'sholder': {'_Total': 2}, 'withourt': {'_Total': 1}, 'toching': {'_Total': 1}, 'pered': {'_Total': 2}, 'kevig': {'_Total': 1}, 'alaxander': {'_Total': 1}, 'shouo': {'_Total': 1}, 'comself': {'_Total': 1}, 'reveri': {'_Total': 1}, 'nonsencs': {'_Total': 1}, 'corsi': {'_Total': 1}, 'ferlly': {'_Total': 1}, 'waye': {'_Total': 2}, 'dou': {'_Total': 3}, 'cofein': {'_Total': 1}, 'hemembering': {'_Total': 1}, 'whend': {'_Total': 4}, 'goded': {'_Total': 1}, 'starded': {'_Total': 1}, 'elitle': {'_Total': 1}, 'thesid': {'_Total': 1}, 'hilldet': {'_Total': 1}, 'nise': {'_Total': 2}, 'agh': {'_Total': 1}, 'flushd': {'_Total': 1}, 'efferts': {'_Total': 3}, 'woling': {'_Total': 1}, 'nervely': {'_Total': 1}, 'paros': {'_Total': 1}, 'cristpl': {'_Total': 1}, 'pomus': {'_Total': 1}, 'temprary': {'_Total': 1}, 'ajibet': {'_Total': 1}, 'agantlet': {'_Total': 1}, 'perhap': {'_Total': 1}, 'othertind': {'_Total': 1}, 'sudim': {'_Total': 1}, 'bether': {'_Total': 1}, 'mevers': {'_Total': 1}, 'liqhi': {'_Total': 1}, 'bhutl': {'_Total': 1}, 'kanm': {'_Total': 1}, 'qustion': {'_Total': 1}, 'wliding': {'_Total': 1}, 'scatterd': {'_Total': 1}, 'severn': {'_Total': 1}, 'grupl': {'_Total': 1}, 'blolings': {'_Total': 1}, 'amot': {'_Total': 1}, 'contery': {'_Total': 2}, 'resitens': {'_Total': 1}, 'atenat': {'_Total': 1}, 'corec': {'_Total': 1}, 'lomic': {'_Total': 1}, 'sadit': {'_Total': 1}, 'dantur': {'_Total': 1}, 'leder': {'_Total': 2}, 'wmore': {'_Total': 1}, 'intrirsted': {'_Total': 1}, 'tecnicl': {'_Total': 1}, 'thenk': {'_Total': 2}, 'huvs': {'_Total': 1}, 'etisson': {'_Total': 1}, 'construckh': {'_Total': 1}, 'porm': {'_Total': 1}, 'bifl': {'_Total': 1}, 'whsh': {'_Total': 1}, 'prenco': {'_Total': 1}, 'poyed': {'_Total': 1}, 'edion': {'_Total': 1}, 'lectritity': {'_Total': 1}, 'cimmecl': {'_Total': 1}, 'substince': {'_Total': 1}, 'shems': {'_Total': 1}, 'beleaving': {'_Total': 1}, 'lodem': {'_Total': 1}, 'plinat': {'_Total': 1}, 'woses': {'_Total': 2}, 'wasd': {'_Total': 2}, 'temperary': {'_Total': 1}, 'permen': {'_Total': 1}, 'supling': {'_Total': 1}, 'befored': {'_Total': 1}, 'curtes': {'_Total': 1}, 'brelings': {'_Total': 1}, 'vicility': {'_Total': 1}, 'fabron': {'_Total': 1}, 'bidant': {'_Total': 1}, 'shene': {'_Total': 1}, 'boshd': {'_Total': 1}, 'fhor': {'_Total': 1}, 'bery': {'_Total': 10}, 'speades': {'_Total': 1}, 'bhelone': {'_Total': 1}, 'cintied': {'_Total': 1}, 'actid': {'_Total': 1}, 'ateme': {'_Total': 1}, 'savinten': {'_Total': 1}, 'reweay': {'_Total': 1}, 'meater': {'_Total': 1}, 'plathe': {'_Total': 1}, 'prsued': {'_Total': 1}, 'envestigation': {'_Total': 1}, 'alllan': {'_Total': 1}, 'pesition': {'_Total': 1}, 'eissin': {'_Total': 1}, 'cistom': {'_Total': 1}, 'undhore': {'_Total': 1}, 'copetetion': {'_Total': 1}, 'alwety': {'_Total': 1}, 'anprod': {'_Total': 1}, 'byh': {'_Total': 1}, 'infrduction': {'_Total': 1}, 'gaev': {'_Total': 1}, 'ameaty': {'_Total': 1}, 'impedis': {'_Total': 1}, 'incain': {'_Total': 1}, 'sree': {'_Total': 1}, 'instiled': {'_Total': 1}, 'conxpruction': {'_Total': 1}, 'compena': {'_Total': 1}, 'thathad': {'_Total': 1}, 'orgenis': {'_Total': 1}, 'avison': {'_Total': 1}, 'bild': {'_Total': 1}, 'stationcs': {'_Total': 1}, 'stort': {'_Total': 1}, 'suntl': {'_Total': 1}, 'suste': {'_Total': 1}, 'ork': {'_Total': 1}, 'monti': {'_Total': 1}, 'cistemt': {'_Total': 1}, 'feader': {'_Total': 1}, 'resolted': {'_Total': 1}, 'notebl': {'_Total': 1}, 'sadeng': {'_Total': 1}, 'thecost': {'_Total': 1}, 'conducters': {'_Total': 1}, 'tistreat': {'_Total': 1}, 'sestemt': {'_Total': 1}, 'trureut': {'_Total': 1}, 'cined': {'_Total': 2}, 'prumices': {'_Total': 1}, 'sercted': {'_Total': 1}, 'pobe': {'_Total': 1}, 'lightyn': {'_Total': 1}, 'burnd': {'_Total': 1}, 'shomenty': {'_Total': 1}, 'owars': {'_Total': 1}, 'nitly': {'_Total': 1}, 'mety': {'_Total': 1}, 'monet': {'_Total': 1}, 'pread': {'_Total': 1}, 'reaht': {'_Total': 1}, 'soubgi': {'_Total': 1}, 'torebad': {'_Total': 1}, 'thelap': {'_Total': 1}, 'mihe': {'_Total': 1}, 'ractiu': {'_Total': 1}, 'cemection': {'_Total': 1}, 'bemention': {'_Total': 1}, 'seceation': {'_Total': 1}, 'edision': {'_Total': 1}, 'combennes': {'_Total': 1}, 'sanm': {'_Total': 1}, 'adouct': {'_Total': 1}, 'ruseilition': {'_Total': 1}, 'nanimisl': {'_Total': 1}, 'etisso': {'_Total': 1}, 'meder': {'_Total': 3}, 'ackut': {'_Total': 1}, 'thatig': {'_Total': 1}, 'woas': {'_Total': 2}, 'onbous': {'_Total': 1}, 'wigtes': {'_Total': 1}, 'bariably': {'_Total': 1}, 'stationd': {'_Total': 1}, 'cirt': {'_Total': 1}, 'forn': {'_Total': 4}, 'aparades': {'_Total': 1}, 'berius': {'_Total': 1}, 'inchenes': {'_Total': 1}, 'detals': {'_Total': 1}, 'refin': {'_Total': 1}, 'bhens': {'_Total': 1}, 'sucur': {'_Total': 1}, 'ylarty': {'_Total': 1}, 'opration': {'_Total': 2}, 'fredem': {'_Total': 1}, 'inaccurace': {'_Total': 1}, 'imerety': {'_Total': 1}, 'sucgh': {'_Total': 1}, 'taperying': {'_Total': 1}, 'prmet': {'_Total': 1}, 'feft': {'_Total': 1}, 'daverge': {'_Total': 1}, 'spasielly': {'_Total': 1}, 'suded': {'_Total': 1}, 'tril': {'_Total': 1}, 'yel': {'_Total': 1}, 'lapes': {'_Total': 1}, 'concither': {'_Total': 1}, 'sumded': {'_Total': 1}, 'ediss': {'_Total': 1}, 'choty': {'_Total': 1}, 'knothing': {'_Total': 1}, 'bhit': {'_Total': 2}, 'couod': {'_Total': 2}, 'biye': {'_Total': 1}, 'evisin': {'_Total': 1}, 'helle': {'_Total': 1}, 'electrsidy': {'_Total': 1}, 'masurd': {'_Total': 1}, 'prceded': {'_Total': 1}, 'debellof': {'_Total': 1}, 'ameder': {'_Total': 1}, 'contined': {'_Total': 1}, 'injenel': {'_Total': 1}, 'survis': {'_Total': 1}, 'eteng': {'_Total': 1}, 'nindy': {'_Total': 1}, 'nin': {'_Total': 4}, 'problbly': {'_Total': 1}, 'ofp': {'_Total': 1}, 'scentery': {'_Total': 1}, 'idy': {'_Total': 1}, 'yacin': {'_Total': 1}, 'cranicly': {'_Total': 1}, 'oapposd': {'_Total': 1}, 'luse': {'_Total': 1}, 'wasfl': {'_Total': 2}, 'muthes': {'_Total': 1}, 'tupuans': {'_Total': 1}, 'enpir': {'_Total': 1}, 'musshy': {'_Total': 1}, 'secor': {'_Total': 1}, 'angin': {'_Total': 1}, 'runnin': {'_Total': 1}, 'acactuly': {'_Total': 1}, 'gven': {'_Total': 1}, 'laguli': {'_Total': 1}, 'themos': {'_Total': 1}, 'ovalibl': {'_Total': 1}, 'didebl': {'_Total': 1}, 'wefing': {'_Total': 1}, 'yoit': {'_Total': 1}, 'dimpossibl': {'_Total': 1}, 'giv': {'_Total': 2}, 'wli': {'_Total': 2}, 'plainve': {'_Total': 1}, 'staction': {'_Total': 1}, 'sistins': {'_Total': 1}, 'lopressiur': {'_Total': 1}, 'derec': {'_Total': 2}, 'curep': {'_Total': 1}, 'dencly': {'_Total': 1}, 'jistreces': {'_Total': 1}, 'ud': {'_Total': 1}, 'eversiol': {'_Total': 1}, 'doluvering': {'_Total': 1}, 'energe': {'_Total': 1}, 'concuers': {'_Total': 1}, 'etirson': {'_Total': 1}, 'forequt': {'_Total': 1}, 'oufe': {'_Total': 1}, 'oappolent': {'_Total': 1}, 'aternading': {'_Total': 1}, 'standerd': {'_Total': 2}, 'edisin': {'_Total': 1}, 'practes': {'_Total': 1}, 'remoed': {'_Total': 1}, 'tesels': {'_Total': 1}, 'wornce': {'_Total': 1}, 'omonh': {'_Total': 1}, 'bof': {'_Total': 2}, 'thesencl': {'_Total': 1}, 'compenny': {'_Total': 1}, 'bhene': {'_Total': 1}, 'dafin': {'_Total': 2}, 'wsate': {'_Total': 1}, 'albl': {'_Total': 1}, 'quikly': {'_Total': 1}, 'dividen': {'_Total': 1}, 'bacies': {'_Total': 1}, 'simfe': {'_Total': 1}, 'sceptices': {'_Total': 1}, 'subgict': {'_Total': 1}, 'wiere': {'_Total': 1}, 'ashol': {'_Total': 1}, 'subdet': {'_Total': 1}, 'topt': {'_Total': 1}, 'puble': {'_Total': 1}, 'topet': {'_Total': 1}, 'anly': {'_Total': 3}, 'intangibl': {'_Total': 1}, 'notgrea': {'_Total': 1}, 'waed': {'_Total': 3}, 'avernens': {'_Total': 1}, 'yuse': {'_Total': 4}, 'gould': {'_Total': 1}, 'regustration': {'_Total': 1}, 'moters': {'_Total': 1}, 'nading': {'_Total': 1}, 'corin': {'_Total': 1}, 'surckits': {'_Total': 1}, 'annd': {'_Total': 1}, 'afen': {'_Total': 1}, 'agancs': {'_Total': 1}, 'serisly': {'_Total': 2}, 'therl': {'_Total': 2}, 'ganthere': {'_Total': 1}, 'bretaed': {'_Total': 1}, 'continty': {'_Total': 1}, 'wias': {'_Total': 1}, 'lunne': {'_Total': 1}, 'ieren': {'_Total': 1}, 'starteard': {'_Total': 1}, 'tefole': {'_Total': 1}, 'shipe': {'_Total': 1}, 'lec': {'_Total': 1}, 'contindue': {'_Total': 1}, 'ronang': {'_Total': 1}, 'antillit': {'_Total': 1}, 'angun': {'_Total': 1}, 'perpises': {'_Total': 1}, 'messurs': {'_Total': 1}, 'jontion': {'_Total': 1}, 'hamere': {'_Total': 1}, 'aputotin': {'_Total': 1}, 'geas': {'_Total': 1}, 'secord': {'_Total': 1}, 'musfuld': {'_Total': 1}, 'justbin': {'_Total': 1}, 'werlader': {'_Total': 1}, 'urst': {'_Total': 1}, 'wesure': {'_Total': 1}, 'bichons': {'_Total': 1}, 'fily': {'_Total': 1}, 'brertire': {'_Total': 1}, 'fbe': {'_Total': 1}, 'soa': {'_Total': 2}, 'ateng': {'_Total': 1}, 'etoryy': {'_Total': 1}, 'avrything': {'_Total': 2}, 'consurbation': {'_Total': 1}, 'spase': {'_Total': 1}, 'cotur': {'_Total': 1}, 'couldnop': {'_Total': 1}, 'yused': {'_Total': 2}, 'couodid': {'_Total': 1}, 'chage': {'_Total': 1}, 'stoge': {'_Total': 1}, 'batteis': {'_Total': 1}, 'toaf': {'_Total': 1}, 'wigh': {'_Total': 1}, 'bility': {'_Total': 1}, 'eccornt': {'_Total': 1}, 'edisiont': {'_Total': 1}, 'alecter': {'_Total': 2}, 'littic': {'_Total': 1}, 'medere': {'_Total': 1}, 'sflihe': {'_Total': 1}, 'ectuan': {'_Total': 1}, 'qualides': {'_Total': 1}, 'whal': {'_Total': 3}, 'cule': {'_Total': 1}, 'teponme': {'_Total': 1}, 'repored': {'_Total': 1}, 'thefry': {'_Total': 1}, 'sciste': {'_Total': 1}, 'aningln': {'_Total': 1}, 'jone': {'_Total': 3}, 'hokinon': {'_Total': 1}, 'edisson': {'_Total': 1}, 'inteprundit': {'_Total': 1}, 'itenga': {'_Total': 1}, 'misterd': {'_Total': 1}, 'doubvi': {'_Total': 1}, 'gec': {'_Total': 1}, 'praplre': {'_Total': 1}, 'ners': {'_Total': 2}, 'sxcurs': {'_Total': 1}, 'hadop': {'_Total': 1}, 'tothat': {'_Total': 1}, 'genelelly': {'_Total': 1}, 'inyother': {'_Total': 1}, 'stild': {'_Total': 2}, 'aconema': {'_Total': 1}, 'nesisary': {'_Total': 1}, 'commertiol': {'_Total': 1}, 'suces': {'_Total': 1}, 'lorger': {'_Total': 1}, 'cheler': {'_Total': 1}, 'tiy': {'_Total': 2}, 'opuening': {'_Total': 1}, 'copact': {'_Total': 1}, 'distrit': {'_Total': 1}, 'sities': {'_Total': 1}, 'rectistation': {'_Total': 1}, 'greatey': {'_Total': 1}, 'connomy': {'_Total': 1}, 'geti': {'_Total': 1}, 'desird': {'_Total': 1}, 'speaed': {'_Total': 1}, 'blak': {'_Total': 4}, 'regulagur': {'_Total': 1}, 'speme': {'_Total': 1}, 'bhutld': {'_Total': 1}, 'woded': {'_Total': 1}, 'becader': {'_Total': 1}, 'bherfit': {'_Total': 1}, 'moht': {'_Total': 2}, 'ple': {'_Total': 1}, 'subjectol': {'_Total': 1}, 'propelye': {'_Total': 1}, 'ticust': {'_Total': 1}, 'diffrt': {'_Total': 1}, 'manafest': {'_Total': 1}, 'subgucd': {'_Total': 1}, 'anammals': {'_Total': 1}, 'effecs': {'_Total': 1}, 'sid': {'_Total': 15}, 'speare': {'_Total': 1}, 'allways': {'_Total': 1}, 'benchin': {'_Total': 1}, 'corear': {'_Total': 1}, 'peple': {'_Total': 6}, 'hudled': {'_Total': 1}, 'oppen': {'_Total': 2}, 'harind': {'_Total': 1}, 'coust': {'_Total': 1}, 'darke': {'_Total': 1}, 'fheu': {'_Total': 1}, 'harvf': {'_Total': 1}, 'ahd': {'_Total': 1}, 'tabls': {'_Total': 3}, 'unin': {'_Total': 1}, 'vited': {'_Total': 1}, 'setd': {'_Total': 1}, 'saed': {'_Total': 2}, 'hundtere': {'_Total': 1}, 'wours': {'_Total': 1}, 'feaseted': {'_Total': 1}, 'fal': {'_Total': 8}, 'battl': {'_Total': 1}, 'haur': {'_Total': 1}, 'nma': {'_Total': 1}, 'sive': {'_Total': 1}, 'lownely': {'_Total': 1}, 'reang': {'_Total': 1}, 'sipt': {'_Total': 2}, 'afve': {'_Total': 1}, 'pucth': {'_Total': 1}, 'canit': {'_Total': 1}, 'ost': {'_Total': 1}, 'yeare': {'_Total': 1}, 'cach': {'_Total': 1}, 'anggrly': {'_Total': 1}, 'aur': {'_Total': 1}, 'flacshed': {'_Total': 1}, 'downd': {'_Total': 4}, 'rolers': {'_Total': 2}, 'sangant': {'_Total': 1}, 'welth': {'_Total': 2}, 'sfair': {'_Total': 1}, 'darkh': {'_Total': 1}, 'lordlygest': {'_Total': 1}, 'thuth': {'_Total': 2}, 'brouht': {'_Total': 1}, 'harte': {'_Total': 1}, 'ies': {'_Total': 4}, 'torlyf': {'_Total': 1}, 'streched': {'_Total': 1}, 'neverlee': {'_Total': 1}, 'therty': {'_Total': 3}, 'cooe': {'_Total': 1}, 'sleaping': {'_Total': 1}, 'raht': {'_Total': 2}, \"brasl'so\": {'_Total': 1}, 'fromar': {'_Total': 1}, 'treaser': {'_Total': 1}, 'chaest': {'_Total': 1}, 'dragins': {'_Total': 1}, 'whuldy': {'_Total': 1}, 'loch': {'_Total': 3}, 'pantied': {'_Total': 1}, 'izs': {'_Total': 1}, 'angger': {'_Total': 1}, 'aponat': {'_Total': 1}, 'woached': {'_Total': 1}, 'boiyl': {'_Total': 1}, 'joed': {'_Total': 1}, 'bagan': {'_Total': 1}, 'folil': {'_Total': 1}, 'trals': {'_Total': 1}, 'allof': {'_Total': 1}, 'ansered': {'_Total': 1}, 'forsummer': {'_Total': 1}, 'quen': {'_Total': 2}, 'heartd': {'_Total': 1}, 'genly': {'_Total': 1}, 'torkl': {'_Total': 1}, 'torkal': {'_Total': 2}, 'leale': {'_Total': 1}, 'hobe': {'_Total': 1}, 'yousome': {'_Total': 1}, 'tme': {'_Total': 2}, 'hollle': {'_Total': 1}, 'farver': {'_Total': 1}, 'sagt': {'_Total': 1}, 'blomely': {'_Total': 1}, 'otte': {'_Total': 1}, 'youcan': {'_Total': 1}, 'pofls': {'_Total': 1}, 'baskelod': {'_Total': 1}, 'movts': {'_Total': 1}, 'hafitf': {'_Total': 1}, 'saiing': {'_Total': 1}, 'harald': {'_Total': 1}, 'hakin': {'_Total': 1}, 'constint': {'_Total': 1}, 'frn': {'_Total': 1}, 'imtashed': {'_Total': 1}, 'orm': {'_Total': 1}, 'shoutaed': {'_Total': 1}, 'cowor': {'_Total': 1}, 'smels': {'_Total': 2}, 'smok': {'_Total': 1}, 'mader': {'_Total': 1}, 'froly': {'_Total': 1}, 'wonty': {'_Total': 1}, 'follo': {'_Total': 2}, 'fif': {'_Total': 2}, 'olld': {'_Total': 2}, 'ollof': {'_Total': 1}, 'alweys': {'_Total': 1}, 'tralls': {'_Total': 1}, 'starne': {'_Total': 1}, 'tallup': {'_Total': 1}, 'notet': {'_Total': 1}, 'witht': {'_Total': 2}, 'hea': {'_Total': 2}, 'froning': {'_Total': 2}, 'odn': {'_Total': 1}, 'aman': {'_Total': 3}, 'stif': {'_Total': 1}, 'aflit': {'_Total': 1}, 'hungrey': {'_Total': 1}, 'fhilop': {'_Total': 1}, 'efrang': {'_Total': 1}, 'lokcher': {'_Total': 1}, 'jogou': {'_Total': 1}, 'oled': {'_Total': 1}, 'prsening': {'_Total': 1}, 'ambros': {'_Total': 1}, 'rerm': {'_Total': 1}, 'pardeve': {'_Total': 1}, 'reaity': {'_Total': 1}, 'antegan': {'_Total': 1}, 'stolst': {'_Total': 1}, 'ying': {'_Total': 1}, 'honthes': {'_Total': 1}, 'faverbly': {'_Total': 1}, 'ampreset': {'_Total': 1}, 'themp': {'_Total': 1}, 'misster': {'_Total': 1}, 'yhad': {'_Total': 1}, 'filik': {'_Total': 1}, 'prohit': {'_Total': 1}, 'gostly': {'_Total': 1}, 'vakin': {'_Total': 1}, 'mimber': {'_Total': 1}, 'surcal': {'_Total': 1}, 'instilly': {'_Total': 1}, 'inthond': {'_Total': 1}, 'lookedup': {'_Total': 1}, 'htd': {'_Total': 1}, 'nowo': {'_Total': 1}, 'plag': {'_Total': 1}, 'looke': {'_Total': 7}, 'slolly': {'_Total': 1}, 'menets': {'_Total': 1}, 'noling': {'_Total': 1}, 'friench': {'_Total': 1}, 'comepany': {'_Total': 1}, 'guldnit': {'_Total': 1}, 'cout': {'_Total': 5}, 'solli': {'_Total': 1}, 'itation': {'_Total': 1}, 'thmout': {'_Total': 1}, 'shu': {'_Total': 2}, 'weling': {'_Total': 1}, 'hiam': {'_Total': 1}, 'omay': {'_Total': 1}, 'farmerse': {'_Total': 1}, 'chiltrn': {'_Total': 1}, 'answerd': {'_Total': 2}, 'constrandly': {'_Total': 1}, 'oane': {'_Total': 1}, 'tarming': {'_Total': 1}, 'eder': {'_Total': 1}, 'puiedtly': {'_Total': 1}, 'fuom': {'_Total': 1}, 'procset': {'_Total': 1}, 'amfty': {'_Total': 1}, 'nex': {'_Total': 1}, 'rount': {'_Total': 1}, 'oppisot': {'_Total': 1}, 'sido': {'_Total': 1}, 'olter': {'_Total': 1}, 'natti': {'_Total': 1}, 'spuokemn': {'_Total': 1}, 'anmsef': {'_Total': 1}, 'erguse': {'_Total': 1}, 'whichats': {'_Total': 1}, 'ompthing': {'_Total': 1}, 'thfines': {'_Total': 1}, 'lancs': {'_Total': 1}, 'sorg': {'_Total': 1}, 'dofimns': {'_Total': 1}, 'drery': {'_Total': 1}, 'mourd': {'_Total': 1}, 'disuninad': {'_Total': 1}, 'otht': {'_Total': 1}, 'impreissions': {'_Total': 1}, 'rightin': {'_Total': 1}, 'prestions': {'_Total': 1}, 'quains': {'_Total': 1}, 'misto': {'_Total': 1}, 'yogo': {'_Total': 1}, 'strangtur': {'_Total': 1}, 'aperancs': {'_Total': 1}, 'welh': {'_Total': 1}, 'ocionf': {'_Total': 1}, 'inthe': {'_Total': 2}, 'trud': {'_Total': 1}, 'molust': {'_Total': 1}, 'centily': {'_Total': 1}, 'testebles': {'_Total': 1}, 'mamin': {'_Total': 1}, 'amat': {'_Total': 1}, 'efby': {'_Total': 1}, 'prprity': {'_Total': 1}, 'intrst': {'_Total': 1}, 'intust': {'_Total': 1}, 'lols': {'_Total': 2}, 'passin': {'_Total': 1}, 'sattyer': {'_Total': 1}, 'suppen': {'_Total': 1}, 'prity': {'_Total': 1}, 'gerll': {'_Total': 1}, 'topars': {'_Total': 1}, 'cojughd': {'_Total': 1}, 'gocerled': {'_Total': 1}, 'sholters': {'_Total': 1}, 'grh': {'_Total': 1}, 'oesly': {'_Total': 1}, 'triam': {'_Total': 1}, 'fagur': {'_Total': 1}, 'foar': {'_Total': 1}, 'ingwa': {'_Total': 1}, 'geaty': {'_Total': 1}, 'stronamer': {'_Total': 1}, 'cxsent': {'_Total': 1}, 'hmarica': {'_Total': 1}, 'boice': {'_Total': 3}, 'accant': {'_Total': 1}, 'greabl': {'_Total': 1}, 'heounely': {'_Total': 1}, 'churful': {'_Total': 1}, 'conversatiou': {'_Total': 1}, 'twr': {'_Total': 1}, 'kname': {'_Total': 1}, 'riht': {'_Total': 6}, 'yocow': {'_Total': 1}, 'sogars': {'_Total': 1}, 'poisin': {'_Total': 1}, 'sillas': {'_Total': 1}, 'groun': {'_Total': 1}, 'evat': {'_Total': 1}, 'enly': {'_Total': 1}, 'makting': {'_Total': 1}, 'fory': {'_Total': 5}, 'semg': {'_Total': 2}, 'thlower': {'_Total': 1}, 'racis': {'_Total': 1}, 'churmeing': {'_Total': 1}, 'whather': {'_Total': 1}, 'tolav': {'_Total': 1}, 'speaties': {'_Total': 1}, 'ridise': {'_Total': 1}, 'nanturl': {'_Total': 1}, 'folin': {'_Total': 3}, 'siterations': {'_Total': 1}, 'manelay': {'_Total': 1}, 'mnont': {'_Total': 1}, 'diffrncs': {'_Total': 1}, 'poch': {'_Total': 1}, 'sueche': {'_Total': 1}, 'iffrn': {'_Total': 1}, 'porints': {'_Total': 1}, 'spatioly': {'_Total': 1}, 'contan': {'_Total': 1}, 'pronsze': {'_Total': 1}, 'interst': {'_Total': 1}, 'outfe': {'_Total': 1}, 'croding': {'_Total': 1}, 'thef': {'_Total': 3}, 'bundl': {'_Total': 1}, 'sudenly': {'_Total': 3}, 'pronsy': {'_Total': 1}, 'avevrery': {'_Total': 1}, 'chancs': {'_Total': 2}, 'practtis': {'_Total': 1}, 'ovher': {'_Total': 1}, 'clammerus': {'_Total': 1}, 'boiys': {'_Total': 2}, 'aponther': {'_Total': 1}, 'flly': {'_Total': 1}, 'sesed': {'_Total': 3}, 'fli': {'_Total': 2}, 'ploirs': {'_Total': 1}, 'themon': {'_Total': 1}, 'belovely': {'_Total': 1}, 'rejosing': {'_Total': 1}, 'abole': {'_Total': 1}, 'gatan': {'_Total': 1}, 'whoset': {'_Total': 1}, 'prst': {'_Total': 1}, 'raftr': {'_Total': 1}, 'entrens': {'_Total': 1}, 'grasis': {'_Total': 1}, 'sertid': {'_Total': 1}, 'beamently': {'_Total': 1}, 'purieusly': {'_Total': 1}, 'lapi': {'_Total': 1}, 'gdid': {'_Total': 1}, 'prons': {'_Total': 1}, 'puasnt': {'_Total': 1}, 'gasked': {'_Total': 1}, 'contolling': {'_Total': 1}, 'sobes': {'_Total': 1}, 'japser': {'_Total': 1}, 'jakelat': {'_Total': 1}, 'thod': {'_Total': 1}, 'jentlmen': {'_Total': 2}, 'mosta': {'_Total': 1}, 'masebment': {'_Total': 1}, 'toget': {'_Total': 1}, 'anthe': {'_Total': 1}, 'intencs': {'_Total': 1}, 'slelling': {'_Total': 1}, 'kyou': {'_Total': 2}, 'sothingly': {'_Total': 1}, 'pating': {'_Total': 1}, 'bron': {'_Total': 4}, 'dearis': {'_Total': 1}, 'mistere': {'_Total': 2}, 'hoty': {'_Total': 1}, 'makte': {'_Total': 1}, 'manm': {'_Total': 2}, 'dugon': {'_Total': 1}, 'owngd': {'_Total': 1}, 'pepers': {'_Total': 1}, 'dispos': {'_Total': 1}, 'sut': {'_Total': 2}, 'bansy': {'_Total': 1}, 'witny': {'_Total': 1}, 'cinded': {'_Total': 1}, 'theke': {'_Total': 1}, 'hyou': {'_Total': 1}, 'frense': {'_Total': 1}, 'fase': {'_Total': 4}, 'goursly': {'_Total': 1}, 'pronse': {'_Total': 1}, 'dentle': {'_Total': 1}, 'alitid': {'_Total': 1}, 'withis': {'_Total': 1}, 'sisess': {'_Total': 1}, 'berstout': {'_Total': 1}, 'waseris': {'_Total': 1}, 'youle': {'_Total': 1}, 'persy': {'_Total': 1}, 'wla': {'_Total': 1}, 'spremed': {'_Total': 1}, 'howme': {'_Total': 1}, 'beming': {'_Total': 1}, 'stronet': {'_Total': 1}, 'lonher': {'_Total': 1}, 'allais': {'_Total': 1}, 'peano': {'_Total': 1}, 'bouty': {'_Total': 1}, 'haveban': {'_Total': 1}, 'vitly': {'_Total': 1}, 'complasontly': {'_Total': 1}, \"couldnin'\": {'_Total': 1}, 'justin': {'_Total': 1}, 'pomebled': {'_Total': 1}, 'batpwert': {'_Total': 1}, 'herebefor': {'_Total': 1}, 'ownlee': {'_Total': 1}, 'scol': {'_Total': 3}, 'teatry': {'_Total': 1}, 'mery': {'_Total': 4}, 'rersef': {'_Total': 1}, 'strioping': {'_Total': 1}, 'arnotther': {'_Total': 1}, 'sjivering': {'_Total': 1}, 'bres': {'_Total': 1}, 'wein': {'_Total': 1}, 'whitet': {'_Total': 1}, 'acros': {'_Total': 3}, 'nothng': {'_Total': 1}, 'onderstand': {'_Total': 1}, 'harses': {'_Total': 1}, 'pla': {'_Total': 1}, 'olitbl': {'_Total': 1}, 'misismery': {'_Total': 1}, 'wekt': {'_Total': 1}, 'resfes': {'_Total': 1}, 'dinen': {'_Total': 1}, 'uffover': {'_Total': 1}, 'mowd': {'_Total': 2}, 'hered': {'_Total': 5}, 'sdroping': {'_Total': 1}, 'smaly': {'_Total': 1}, 'ian': {'_Total': 2}, 'evhen': {'_Total': 1}, 'teeu': {'_Total': 1}, 'amarcan': {'_Total': 1}, 'waltke': {'_Total': 1}, 'wanything': {'_Total': 2}, 'wokt': {'_Total': 1}, 'dobi': {'_Total': 1}, 'aorm': {'_Total': 1}, 'brotit': {'_Total': 1}, 'jurck': {'_Total': 1}, 'culoth': {'_Total': 1}, 'emil': {'_Total': 2}, 'fanke': {'_Total': 1}, 'inglish': {'_Total': 3}, 'rett': {'_Total': 1}, 'thise': {'_Total': 2}, 'borcs': {'_Total': 1}, 'angreere': {'_Total': 1}, 'extiting': {'_Total': 1}, 'fasfh': {'_Total': 1}, 'inder': {'_Total': 2}, 'neveredo': {'_Total': 1}, 'xander': {'_Total': 1}, 'holps': {'_Total': 1}, 'memerd': {'_Total': 1}, 'acount': {'_Total': 1}, 'prayd': {'_Total': 1}, 'loly': {'_Total': 3}, 'damd': {'_Total': 1}, 'ranmes': {'_Total': 1}, 'operto': {'_Total': 1}, 'thattit': {'_Total': 1}, 'thain': {'_Total': 1}, 'shabat': {'_Total': 1}, 'bwith': {'_Total': 1}, 'meglect': {'_Total': 1}, 'reltenes': {'_Total': 1}, 'cale': {'_Total': 2}, 'obout': {'_Total': 1}, 'yoar': {'_Total': 1}, 'fello': {'_Total': 2}, 'wuk': {'_Total': 1}, 'sfitder': {'_Total': 1}, 'wepbs': {'_Total': 1}, 'alofvr': {'_Total': 1}, 'wonded': {'_Total': 1}, 'wetther': {'_Total': 1}, 'reachedot': {'_Total': 1}, 'branturs': {'_Total': 1}, 'packe': {'_Total': 1}, 'frut': {'_Total': 1}, 'ivere': {'_Total': 1}, 'tmakt': {'_Total': 1}, 'plike': {'_Total': 1}, 'wlike': {'_Total': 2}, 'grownd': {'_Total': 1}, 'undhedad': {'_Total': 1}, 'arcterd': {'_Total': 1}, 'spirkling': {'_Total': 1}, 'ripling': {'_Total': 1}, 'broting': {'_Total': 1}, 'crosd': {'_Total': 1}, 'feason': {'_Total': 1}, 'smel': {'_Total': 1}, 'bitation': {'_Total': 1}, 'toard': {'_Total': 1}, 'arount': {'_Total': 1}, 'thinkking': {'_Total': 1}, 'drope': {'_Total': 1}, 'cheris': {'_Total': 1}, 'besied': {'_Total': 1}, 'whihth': {'_Total': 1}, 'glemes': {'_Total': 1}, 'indivi': {'_Total': 1}, 'farme': {'_Total': 2}, 'tumedes': {'_Total': 1}, 'depal': {'_Total': 1}, 'eev': {'_Total': 1}, 'whied': {'_Total': 1}, 'behives': {'_Total': 1}, 'octurd': {'_Total': 1}, 'jres': {'_Total': 1}, 'youv': {'_Total': 2}, 'atly': {'_Total': 1}, 'ortured': {'_Total': 1}, 'norre': {'_Total': 1}, 'yired': {'_Total': 2}, 'tover': {'_Total': 2}, 'vaskt': {'_Total': 1}, 'marke': {'_Total': 1}, 'squars': {'_Total': 1}, 'quee': {'_Total': 1}, 'corne': {'_Total': 1}, 'dok': {'_Total': 1}, 'liet': {'_Total': 2}, 'wiut': {'_Total': 3}, 'rechcust': {'_Total': 1}, 'firmes': {'_Total': 1}, 'omon': {'_Total': 1}, 'slep': {'_Total': 1}, 'laht': {'_Total': 3}, 'siteng': {'_Total': 1}, 'berkson': {'_Total': 1}, 'perpes': {'_Total': 1}, 'graveyor': {'_Total': 1}, 'xkatet': {'_Total': 1}, 'panedted': {'_Total': 1}, 'gilved': {'_Total': 1}, 'beke': {'_Total': 1}, 'wenke': {'_Total': 1}, 'thuther': {'_Total': 1}, 'yelow': {'_Total': 2}, 'pelvs': {'_Total': 1}, 'gatherd': {'_Total': 1}, 'rans': {'_Total': 1}, 'jof': {'_Total': 1}, 'atlet': {'_Total': 1}, 'benala': {'_Total': 1}, 'scholer': {'_Total': 1}, 'spmandit': {'_Total': 1}, 'figer': {'_Total': 1}, 'straht': {'_Total': 2}, 'whitht': {'_Total': 1}, 'hansome': {'_Total': 1}, 'stek': {'_Total': 1}, 'derecerous': {'_Total': 1}, 'curieus': {'_Total': 1}, 'termingod': {'_Total': 1}, 'brath': {'_Total': 1}, 'cokesd': {'_Total': 1}, 'aran': {'_Total': 1}, 'cheges': {'_Total': 1}, 'gosy': {'_Total': 1}, 'moking': {'_Total': 1}, 'mifthing': {'_Total': 1}, 'irnd': {'_Total': 1}, 'hammere': {'_Total': 1}, 'portl': {'_Total': 1}, 'summens': {'_Total': 1}, 'gebeners': {'_Total': 1}, 'servents': {'_Total': 1}, 'nyers': {'_Total': 1}, 'scarlit': {'_Total': 1}, 'arnother': {'_Total': 1}, 'shouded': {'_Total': 1}, 'teriffic': {'_Total': 1}, 'lhus': {'_Total': 1}, 'hearte': {'_Total': 1}, 'feagives': {'_Total': 1}, 'wihthin': {'_Total': 1}, 'ferl': {'_Total': 2}, 'apcordingly': {'_Total': 1}, 'firther': {'_Total': 2}, 'delongd': {'_Total': 1}, 'viste': {'_Total': 1}, 'abarden': {'_Total': 1}, 'carpitid': {'_Total': 1}, 'shavin': {'_Total': 1}, 'borderd': {'_Total': 1}, 'inmetre': {'_Total': 1}, 'atempt': {'_Total': 1}, 'gratly': {'_Total': 1}, 'tintas': {'_Total': 1}, 'spente': {'_Total': 1}, 'louking': {'_Total': 1}, 'poishtd': {'_Total': 1}, 'worshop': {'_Total': 1}, 'meturils': {'_Total': 2}, 'doversity': {'_Total': 1}, 'plimmant': {'_Total': 1}, 'difert': {'_Total': 1}, 'nowd': {'_Total': 1}, 'susial': {'_Total': 1}, 'goven': {'_Total': 1}, 'pland': {'_Total': 2}, 'epitation': {'_Total': 1}, 'aftef': {'_Total': 1}, 'jentimen': {'_Total': 1}, 'fheris': {'_Total': 1}, 'ivf': {'_Total': 1}, 'vose': {'_Total': 1}, 'bishins': {'_Total': 1}, 'provobly': {'_Total': 1}, 'miste': {'_Total': 2}, 'hef': {'_Total': 1}, 'persen': {'_Total': 1}, 'ceted': {'_Total': 1}, 'abal': {'_Total': 1}, 'mantion': {'_Total': 1}, 'govender': {'_Total': 1}, 'boling': {'_Total': 1}, 'blobves': {'_Total': 1}, 'whishhe': {'_Total': 1}, 'frinced': {'_Total': 1}, 'hisoter': {'_Total': 1}, 'chans': {'_Total': 2}, 'desend': {'_Total': 1}, 'stranh': {'_Total': 1}, 'magitrcy': {'_Total': 1}, 'prepriter': {'_Total': 1}, 'apear': {'_Total': 1}, 'hoblus': {'_Total': 1}, 'efer': {'_Total': 2}, 'pect': {'_Total': 1}, 'thissid': {'_Total': 1}, 'stogl': {'_Total': 1}, 'naed': {'_Total': 1}, 'tingglishe': {'_Total': 1}, 'chact': {'_Total': 1}, 'orniamenttal': {'_Total': 1}, 'bartmingd': {'_Total': 1}, 'honerbl': {'_Total': 1}, 'wershop': {'_Total': 1}, 'likewie': {'_Total': 1}, 'lehe': {'_Total': 1}, 'perl': {'_Total': 6}, 'siing': {'_Total': 1}, 'rosebiches': {'_Total': 1}, 'crie': {'_Total': 4}, 'eppick': {'_Total': 1}, 'prestene': {'_Total': 1}, 'simplosity': {'_Total': 1}, 'hoaver': {'_Total': 1}, 'yben': {'_Total': 1}, 'sliter': {'_Total': 1}, 'povliche': {'_Total': 1}, 'anters': {'_Total': 2}, 'strantly': {'_Total': 1}, 'micstup': {'_Total': 1}, 'wirththe': {'_Total': 1}, 'delevberations': {'_Total': 1}, 'aof': {'_Total': 2}, 'legeslaters': {'_Total': 1}, 'peariand': {'_Total': 1}, 'thas': {'_Total': 5}, 'eralear': {'_Total': 1}, 'dispupe': {'_Total': 1}, 'consering': {'_Total': 1}, 'righte': {'_Total': 1}, 'poperty': {'_Total': 1}, 'apat': {'_Total': 1}, 'fearse': {'_Total': 1}, 'beiter': {'_Total': 1}, 'colany': {'_Total': 1}, 'meseltid': {'_Total': 1}, 'importe': {'_Total': 1}, 'motification': {'_Total': 1}, 'leguslatur': {'_Total': 1}, 'sfling': {'_Total': 1}, 'consequincs': {'_Total': 1}, 'igenidy': {'_Total': 1}, 'hester': {'_Total': 8}, 'perfickly': {'_Total': 1}, 'repers': {'_Total': 1}, 'scarlat': {'_Total': 1}, 'aparnce': {'_Total': 1}, 'solitly': {'_Total': 2}, 'tokin': {'_Total': 1}, 'sentoment': {'_Total': 1}, 'ingush': {'_Total': 1}, 'petaty': {'_Total': 1}, 'lufht': {'_Total': 1}, 'largs': {'_Total': 1}, 'tankerd': {'_Total': 1}, 'aperl': {'_Total': 1}, 'peopet': {'_Total': 1}, 'runment': {'_Total': 1}, 'resif': {'_Total': 1}, 'eal': {'_Total': 1}, 'apperce': {'_Total': 1}, 'flinkd': {'_Total': 1}, 'prejectiun': {'_Total': 1}, 'attiffes': {'_Total': 1}, 'inboh': {'_Total': 1}, 'latthis': {'_Total': 1}, 'windos': {'_Total': 2}, 'woode': {'_Total': 1}, 'sheters': {'_Total': 1}, 'cuas': {'_Total': 1}, 'readt': {'_Total': 1}, 'nowmany': {'_Total': 1}, 'deply': {'_Total': 2}, 'scor': {'_Total': 2}, 'tionto': {'_Total': 1}, 'brang': {'_Total': 1}, 'caxeptions': {'_Total': 1}, 'somdits': {'_Total': 1}, 'simelitud': {'_Total': 1}, 'wlatviin': {'_Total': 1}, 'menhy': {'_Total': 1}, 'owwors': {'_Total': 1}, 'anelity': {'_Total': 1}, 'bictin': {'_Total': 1}, 'ojec': {'_Total': 1}, 'offaction': {'_Total': 1}, 'emblome': {'_Total': 1}, 'tortereo': {'_Total': 1}, 'whil': {'_Total': 4}, 'mwas': {'_Total': 1}, 'epter': {'_Total': 1}, 'stabping': {'_Total': 1}, 'teretning': {'_Total': 1}, 'jusurs': {'_Total': 1}, 'sudely': {'_Total': 2}, 'unimis': {'_Total': 1}, 'buo': {'_Total': 1}, 'fliht': {'_Total': 2}, 'inforcen': {'_Total': 1}, 'dilivery': {'_Total': 1}, 'inpeld': {'_Total': 1}, 'sekh': {'_Total': 1}, 'inerbu': {'_Total': 1}, 'dectivity': {'_Total': 1}, 'setalment': {'_Total': 1}, 'frorthe': {'_Total': 1}, 'deckerad': {'_Total': 1}, 'semingly': {'_Total': 1}, 'cabllustic': {'_Total': 1}, 'thigurs': {'_Total': 1}, 'sotebl': {'_Total': 1}, 'tasd': {'_Total': 1}, 'wec': {'_Total': 1}, 'stupko': {'_Total': 1}, 'nuly': {'_Total': 1}, 'latd': {'_Total': 2}, 'dorabl': {'_Total': 1}, 'abration': {'_Total': 1}, 'firls': {'_Total': 1}, 'dudy': {'_Total': 1}, 'vivi': {'_Total': 1}, 'brih': {'_Total': 1}, 'pisessing': {'_Total': 1}, 'intentity': {'_Total': 1}, 'thadep': {'_Total': 1}, 'glosy': {'_Total': 1}, 'wiulh': {'_Total': 1}, 'nerly': {'_Total': 1}, 'aken': {'_Total': 1}, 'afected': {'_Total': 1}, 'pren': {'_Total': 1}, 'apprhention': {'_Total': 1}, 'alomanated': {'_Total': 1}, 'ratiance': {'_Total': 1}, 'ctilds': {'_Total': 1}, 'dispisition': {'_Total': 1}, 'ertly': {'_Total': 1}, 'axestens': {'_Total': 1}, 'prliftic': {'_Total': 1}, 'lwind': {'_Total': 1}, 'hoding': {'_Total': 1}, 'wascen': {'_Total': 1}, 'straaned': {'_Total': 1}, 'tordts': {'_Total': 1}, 'flaht': {'_Total': 1}, 'varyouly': {'_Total': 1}, 'snact': {'_Total': 1}, 'amblussom': {'_Total': 1}, 'presur': {'_Total': 1}, 'hrom': {'_Total': 1}, 'overfloing': {'_Total': 1}, 'towi': {'_Total': 1}, 'sholre': {'_Total': 1}, 'thep': {'_Total': 1}, 'perll': {'_Total': 1}, 'bload': {'_Total': 1}, 'telesefh': {'_Total': 1}, 'minful': {'_Total': 1}, 'soht': {'_Total': 1}, 'ampose': {'_Total': 1}, 'strik': {'_Total': 2}, 'canthro': {'_Total': 1}, 'imfent': {'_Total': 1}, 'ertality': {'_Total': 1}, 'comittid': {'_Total': 2}, 'cuind': {'_Total': 1}, 'wethe': {'_Total': 1}, 'drestd': {'_Total': 2}, 'lutle': {'_Total': 1}, 'migcht': {'_Total': 1}, 'reche': {'_Total': 1}, 'copreace': {'_Total': 1}, 'elld': {'_Total': 1}, 'oit': {'_Total': 1}, 'whuched': {'_Total': 1}, 'buty': {'_Total': 3}, 'efvery': {'_Total': 1}, 'brelient': {'_Total': 1}, 'sonchie': {'_Total': 1}, 'feturs': {'_Total': 2}, 'aborn': {'_Total': 1}, 'intentile': {'_Total': 1}, 'theles': {'_Total': 1}, 'theside': {'_Total': 1}, 'sovarity': {'_Total': 1}, 'gased': {'_Total': 1}, 'intenly': {'_Total': 1}, 'acquantence': {'_Total': 1}, 'ponishd': {'_Total': 1}, 'sonnerd': {'_Total': 1}, 'canec': {'_Total': 1}, 'parit': {'_Total': 2}, 'disent': {'_Total': 1}, 'mordls': {'_Total': 1}, 'hevhen': {'_Total': 1}, 'axpres': {'_Total': 1}, 'barius': {'_Total': 1}, 'praprties': {'_Total': 1}, 'birting': {'_Total': 1}, 'althes': {'_Total': 1}, 'spearet': {'_Total': 1}, 'ragularity': {'_Total': 1}, 'prosces': {'_Total': 1}, 'conguration': {'_Total': 1}, 'sfal': {'_Total': 1}, 'contrl': {'_Total': 3}, 'hansivl': {'_Total': 1}, 'telligen': {'_Total': 1}, 'pervears': {'_Total': 1}, 'sometome': {'_Total': 1}, 'melistios': {'_Total': 1}, 'jenmelly': {'_Total': 1}, 'compning': {'_Total': 1}, 'speratcs': {'_Total': 1}, 'codnout': {'_Total': 1}, 'hupf': {'_Total': 1}, 'pirll': {'_Total': 1}, 'minchiled': {'_Total': 1}, 'hatda': {'_Total': 1}, 'nadif': {'_Total': 1}, 'invariobly': {'_Total': 1}, 'colixist': {'_Total': 1}, 'peade': {'_Total': 1}, 'sempl': {'_Total': 1}, 'behoder': {'_Total': 1}, 'wireh': {'_Total': 1}, 'thap': {'_Total': 1}, 'prcisly': {'_Total': 1}, 'porodelle': {'_Total': 1}, 'acont': {'_Total': 2}, 'caricteure': {'_Total': 1}, 'yevan': {'_Total': 1}, 'matly': {'_Total': 1}, 'imperfictly': {'_Total': 1}, 'becoling': {'_Total': 1}, 'bhen': {'_Total': 3}, 'doring': {'_Total': 2}, 'madis': {'_Total': 1}, 'periad': {'_Total': 1}, 'peral': {'_Total': 1}, 'biving': {'_Total': 1}, 'hersel': {'_Total': 1}, 'spearwl': {'_Total': 1}, 'worled': {'_Total': 5}, 'batly': {'_Total': 1}, 'fraime': {'_Total': 1}, 'frommits': {'_Total': 1}, 'meteriol': {'_Total': 1}, 'weaknes': {'_Total': 2}, 'whyy': {'_Total': 1}, 'imdpresd': {'_Total': 1}, 'huny': {'_Total': 1}, 'cous': {'_Total': 2}, 'bety': {'_Total': 2}, 'bany': {'_Total': 2}, 'herseft': {'_Total': 1}, 'woige': {'_Total': 1}, 'herrd': {'_Total': 1}, 'tus': {'_Total': 2}, 'hergentl': {'_Total': 1}, 'lamintation': {'_Total': 1}, 'fols': {'_Total': 1}, 'puo': {'_Total': 1}, 'dra': {'_Total': 2}, 'creaations': {'_Total': 1}, 'briht': {'_Total': 5}, 'beuty': {'_Total': 3}, 'scater': {'_Total': 1}, 'evr': {'_Total': 1}, 'moket': {'_Total': 1}, 'breting': {'_Total': 1}, 'gipe': {'_Total': 1}, 'coinna': {'_Total': 1}, 'benish': {'_Total': 1}, 'perly': {'_Total': 1}, 'whou': {'_Total': 3}, 'sholfind': {'_Total': 1}, 'alint': {'_Total': 1}, 'nigto': {'_Total': 1}, 'allar': {'_Total': 1}, 'tenderflowers': {'_Total': 1}, 'downg': {'_Total': 1}, 'hoclis': {'_Total': 1}, 'rakid': {'_Total': 1}, 'weapeg': {'_Total': 1}, 'charish': {'_Total': 1}, 'modhers': {'_Total': 1}, 'smils': {'_Total': 2}, 'racturs': {'_Total': 1}, 'centing': {'_Total': 1}, 'bamy': {'_Total': 1}, 'vergin': {'_Total': 1}, 'tremgling': {'_Total': 1}, 'complaing': {'_Total': 2}, 'oice': {'_Total': 1}, 'holis': {'_Total': 1}, 'wrose': {'_Total': 1}, 'lilys': {'_Total': 1}, 'llefe': {'_Total': 1}, 'brihte': {'_Total': 1}, 'saydo': {'_Total': 1}, 'defind': {'_Total': 1}, 'partnerin': {'_Total': 1}, 'cloued': {'_Total': 1}, 'golven': {'_Total': 1}, 'maemerged': {'_Total': 1}, 'itsulf': {'_Total': 1}, 'caol': {'_Total': 1}, 'wek': {'_Total': 2}, 'fromits': {'_Total': 1}, 'shollt': {'_Total': 1}, 'asi': {'_Total': 1}, 'comeforth': {'_Total': 1}, 'silet': {'_Total': 1}, 'valy': {'_Total': 1}, 'chidren': {'_Total': 1}, 'sendo': {'_Total': 1}, 'thel': {'_Total': 3}, 'jentl': {'_Total': 1}, 'silin': {'_Total': 1}, 'valys': {'_Total': 1}, 'tinlit': {'_Total': 1}, 'mann': {'_Total': 1}, 'somlers': {'_Total': 1}, 'fontens': {'_Total': 1}, 'sprins': {'_Total': 1}, 'deflorsh': {'_Total': 1}, 'attirtl': {'_Total': 1}, 'vals': {'_Total': 2}, 'plagh': {'_Total': 1}, 'childde': {'_Total': 1}, 'crount': {'_Total': 1}, 'cintakek': {'_Total': 1}, 'gentl': {'_Total': 2}, 'swlet': {'_Total': 1}, 'sleke': {'_Total': 2}, 'wakith': {'_Total': 1}, 'goardin': {'_Total': 1}, 'evevming': {'_Total': 1}, 'wve': {'_Total': 1}, 'dovses': {'_Total': 1}, 'transent': {'_Total': 1}, 'muasic': {'_Total': 1}, 'litte': {'_Total': 1}, 'claud': {'_Total': 1}, 'thevergin': {'_Total': 1}, 'compla': {'_Total': 2}, 'ouedou': {'_Total': 1}, 'faetawa': {'_Total': 1}, 'seke': {'_Total': 1}, 'laktry': {'_Total': 1}, 'glaes': {'_Total': 1}, 'shas': {'_Total': 1}, 'dreas': {'_Total': 1}, 'hinfints': {'_Total': 1}, 'infincs': {'_Total': 1}, 'liy': {'_Total': 1}, 'bouly': {'_Total': 1}, 'breavting': {'_Total': 1}, 'lovl': {'_Total': 1}, 'anla': {'_Total': 1}, 'watry': {'_Total': 1}, 'ek': {'_Total': 1}, 'gilde': {'_Total': 1}, 'butterfli': {'_Total': 1}, 'sckerse': {'_Total': 1}, 'pricthis': {'_Total': 1}, 'yhet': {'_Total': 1}, 'diited': {'_Total': 1}, 'hevin': {'_Total': 1}, 'aun': {'_Total': 1}, 'vouly': {'_Total': 1}, 'rorn': {'_Total': 2}, 'sprancis': {'_Total': 1}, 'joice': {'_Total': 1}, 'grancs': {'_Total': 1}, 'thowd': {'_Total': 1}, 'flouer': {'_Total': 2}, 'fadces': {'_Total': 1}, 'canstd': {'_Total': 1}, 'cicnes': {'_Total': 1}, 'crison': {'_Total': 1}, 'sanek': {'_Total': 1}, 'fing': {'_Total': 2}, 'swemnes': {'_Total': 1}, 'preice': {'_Total': 1}, 'theret': {'_Total': 1}, 'prfet': {'_Total': 1}, 'pirpl': {'_Total': 1}, 'loes': {'_Total': 2}, 'chiltren': {'_Total': 1}, 'hapy': {'_Total': 1}, 'ilas': {'_Total': 1}, 'fromen': {'_Total': 1}, 'overd': {'_Total': 1}, 'prodigl': {'_Total': 1}, 'inwer': {'_Total': 1}, 'oth': {'_Total': 1}, 'lifses': {'_Total': 1}, 'strusting': {'_Total': 1}, 'seemd': {'_Total': 1}, 'onwered': {'_Total': 1}, 'overle': {'_Total': 1}, 'fhinger': {'_Total': 1}, 'fetur': {'_Total': 3}, 'shoud': {'_Total': 3}, 'iterinces': {'_Total': 1}, 'sulet': {'_Total': 1}, 'indors': {'_Total': 1}, 'tisupers': {'_Total': 1}, 'cil': {'_Total': 1}, 'hids': {'_Total': 1}, 'wetthout': {'_Total': 1}, 'lowng': {'_Total': 1}, 'naturl': {'_Total': 3}, 'lils': {'_Total': 1}, 'lho': {'_Total': 1}, 'buting': {'_Total': 1}, 'poelrem': {'_Total': 1}, 'gremles': {'_Total': 1}, 'inprl': {'_Total': 1}, 'calle': {'_Total': 1}, 'froma': {'_Total': 1}, 'pengules': {'_Total': 1}, 'betweem': {'_Total': 1}, 'derist': {'_Total': 1}, 'teaach': {'_Total': 1}, 'graditud': {'_Total': 1}, 'furely': {'_Total': 1}, 'turne': {'_Total': 1}, 'praes': {'_Total': 1}, 'thaink': {'_Total': 1}, 'alal': {'_Total': 1}, 'lofet': {'_Total': 1}, 'grome': {'_Total': 1}, 'amitist': {'_Total': 1}, 'ckins': {'_Total': 1}, 'diers': {'_Total': 1}, 'cuicgus': {'_Total': 1}, 'smi': {'_Total': 1}, 'rofth': {'_Total': 1}, 'weping': {'_Total': 1}, 'slo': {'_Total': 2}, 'greatings': {'_Total': 1}, 'shollin': {'_Total': 1}, 'geter': {'_Total': 1}, 'tulk': {'_Total': 1}, 'blesing': {'_Total': 1}, 'comming': {'_Total': 1}, 'eathin': {'_Total': 1}, 'etxstrange': {'_Total': 1}, 'florse': {'_Total': 1}, 'smis': {'_Total': 1}, 'myaliff': {'_Total': 1}, 'chus': {'_Total': 2}, 'shl': {'_Total': 2}, 'dath': {'_Total': 1}, 'greved': {'_Total': 1}, 'tonly': {'_Total': 1}, 'herand': {'_Total': 1}, 'terbly': {'_Total': 1}, 'lonly': {'_Total': 2}, 'tims': {'_Total': 3}, 'tallll': {'_Total': 1}, 'branthes': {'_Total': 1}, 'spradf': {'_Total': 1}, 'carind': {'_Total': 1}, 'oflast': {'_Total': 1}, 'sipkin': {'_Total': 1}, 'fais': {'_Total': 1}, 'picthure': {'_Total': 1}, 'onfol': {'_Total': 1}, 'ande': {'_Total': 2}, 'crons': {'_Total': 1}, 'chulderen': {'_Total': 1}, 'deroled': {'_Total': 1}, 'commerdcs': {'_Total': 1}, 'tinse': {'_Total': 1}, 'topp': {'_Total': 1}, 'gliterd': {'_Total': 1}, 'humppy': {'_Total': 1}, 'domppy': {'_Total': 1}, 'xtremebly': {'_Total': 1}, 'thid': {'_Total': 2}, 'rjoice': {'_Total': 1}, 'wentur': {'_Total': 1}, 'crind': {'_Total': 1}, 'dring': {'_Total': 1}, 'tords': {'_Total': 3}, 'trese': {'_Total': 3}, 'stipid': {'_Total': 1}, 'thelitl': {'_Total': 1}, 'lissend': {'_Total': 1}, 'firtre': {'_Total': 1}, 'beleded': {'_Total': 1}, 'becouse': {'_Total': 1}, 'wetoled': {'_Total': 1}, 'loking': {'_Total': 4}, 'whell': {'_Total': 2}, 'morningn': {'_Total': 1}, 'servmen': {'_Total': 1}, 'hostmand': {'_Total': 1}, 'camemin': {'_Total': 1}, 'quandtity': {'_Total': 1}, 'apeaple': {'_Total': 1}, 'freshh': {'_Total': 1}, 'obut': {'_Total': 2}, 'bakon': {'_Total': 1}, 'ttalow': {'_Total': 1}, 'cannos': {'_Total': 1}, 'youte': {'_Total': 1}, 'departur': {'_Total': 1}, 'wintur': {'_Total': 1}, 'sno': {'_Total': 1}, 'affin': {'_Total': 2}, 'conm': {'_Total': 1}, 'mepeing': {'_Total': 1}, 'jum': {'_Total': 2}, 'tremml': {'_Total': 1}, 'knowif': {'_Total': 1}, 'destingd': {'_Total': 1}, 'thik': {'_Total': 1}, 'waonm': {'_Total': 1}, 'siendof': {'_Total': 1}, 'frasar': {'_Total': 1}, 'catedge': {'_Total': 1}, 'childrin': {'_Total': 1}, 'pratled': {'_Total': 1}, 'stroberis': {'_Total': 1}, 'snufed': {'_Total': 1}, 'russtled': {'_Total': 1}, 'amoni': {'_Total': 1}, 'quicly': {'_Total': 1}, 'putd': {'_Total': 2}, 'evming': {'_Total': 1}, 'mosd': {'_Total': 1}, 'agencs': {'_Total': 1}, 'happend': {'_Total': 1}, 'ery': {'_Total': 1}, 'grong': {'_Total': 1}, 'comelysis': {'_Total': 1}, 'mivise': {'_Total': 1}, 'greate': {'_Total': 2}, 'ersth': {'_Total': 1}, 'wul': {'_Total': 1}, 'noins': {'_Total': 1}, 'crckin': {'_Total': 1}, 'brencies': {'_Total': 1}, 'hardlyt': {'_Total': 1}, 'nised': {'_Total': 1}, 'erlaing': {'_Total': 1}, 'nettls': {'_Total': 1}, 'gardnmers': {'_Total': 1}, 'schopt': {'_Total': 1}, 'evning': {'_Total': 3}, 'boht': {'_Total': 1}, 'traige': {'_Total': 1}, 'himtat': {'_Total': 1}, 'indto': {'_Total': 3}, 'dalighkt': {'_Total': 1}, 'leftin': {'_Total': 1}, 'bettersome': {'_Total': 1}, 'folllo': {'_Total': 1}, 'srly': {'_Total': 1}, 'fallo': {'_Total': 1}, 'consiterbly': {'_Total': 1}, 'acs': {'_Total': 1}, 'struc': {'_Total': 1}, 'pifh': {'_Total': 1}, 'erith': {'_Total': 1}, 'tuk': {'_Total': 1}, 'swond': {'_Total': 1}, 'happins': {'_Total': 1}, 'sarfule': {'_Total': 1}, 'sepperity': {'_Total': 1}, 'tplace': {'_Total': 1}, 'spron': {'_Total': 1}, 'litta': {'_Total': 1}, 'fary': {'_Total': 2}, 'plessent': {'_Total': 1}, 'mihce': {'_Total': 1}, 'lisen': {'_Total': 1}, 'foraa': {'_Total': 1}, 'shar': {'_Total': 2}, 'notf': {'_Total': 1}, 'groungd': {'_Total': 1}, 'sised': {'_Total': 1}, 'wrads': {'_Total': 1}, 'welas': {'_Total': 1}, 'afteral': {'_Total': 1}, 'pld': {'_Total': 1}, 'ouge': {'_Total': 1}, 'sron': {'_Total': 1}, 'buit': {'_Total': 1}, 'daligt': {'_Total': 1}, 'cristmas': {'_Total': 2}, 'famasly': {'_Total': 1}, 'humpe': {'_Total': 1}, 'dompy': {'_Total': 1}, 'yatf': {'_Total': 1}, 'maryied': {'_Total': 1}, 'princies': {'_Total': 1}, 'thygk': {'_Total': 1}, 'groth': {'_Total': 2}, 'berhaps': {'_Total': 1}, 'forisetle': {'_Total': 1}, 'bookat': {'_Total': 1}, 'servence': {'_Total': 2}, 'yong': {'_Total': 3}, 'latys': {'_Total': 2}, 'treng': {'_Total': 1}, 'amsef': {'_Total': 1}, 'unloded': {'_Total': 1}, 'yiared': {'_Total': 1}, 'splunded': {'_Total': 1}, 'choldn': {'_Total': 1}, 'danct': {'_Total': 1}, 'ifthim': {'_Total': 1}, 'latid': {'_Total': 1}, 'coutters': {'_Total': 1}, 'feld': {'_Total': 1}, 'largus': {'_Total': 1}, 'noth': {'_Total': 5}, 'rerflections': {'_Total': 1}, 'nightes': {'_Total': 1}, 'camnop': {'_Total': 1}, 'sunligt': {'_Total': 1}, 'wlin': {'_Total': 1}, 'tenmenits': {'_Total': 1}, 'lern': {'_Total': 1}, 'doble': {'_Total': 3}, 'wonderyng': {'_Total': 1}, 'beging': {'_Total': 1}, 'sedenly': {'_Total': 1}, 'easiwy': {'_Total': 1}, 'delinget': {'_Total': 1}, 'wam': {'_Total': 1}, 'thereden': {'_Total': 1}, 'esy': {'_Total': 3}, 'tetion': {'_Total': 1}, 'esulfh': {'_Total': 1}, 'intrdise': {'_Total': 1}, 'evines': {'_Total': 1}, 'relih': {'_Total': 1}, 'bheges': {'_Total': 1}, 'wodof': {'_Total': 1}, 'cluch': {'_Total': 1}, 'pomen': {'_Total': 1}, 'haffa': {'_Total': 1}, 'havt': {'_Total': 2}, 'mearly': {'_Total': 1}, 'fenishd': {'_Total': 1}, 'scole': {'_Total': 1}, 'suffor': {'_Total': 1}, 'drufe': {'_Total': 1}, 'horo': {'_Total': 1}, 'thene': {'_Total': 2}, 'canbygan': {'_Total': 1}, 'ples': {'_Total': 1}, 'matthes': {'_Total': 1}, 'buthlr': {'_Total': 1}, 'impassily': {'_Total': 1}, 'aamnd': {'_Total': 1}, 'thery': {'_Total': 4}, 'unen': {'_Total': 1}, 'fhend': {'_Total': 1}, 'sentisses': {'_Total': 1}, 'mutd': {'_Total': 1}, 'rhenon': {'_Total': 1}, 'mugh': {'_Total': 1}, 'natule': {'_Total': 1}, 'motdern': {'_Total': 1}, 'constructid': {'_Total': 1}, 'simplrings': {'_Total': 1}, 'madinary': {'_Total': 1}, 'andtels': {'_Total': 1}, 'todi': {'_Total': 1}, 'naterls': {'_Total': 1}, 'intur': {'_Total': 1}, 'fluffinose': {'_Total': 1}, 'axsating': {'_Total': 1}, 'diloe': {'_Total': 1}, 'rigt': {'_Total': 1}, 'oction': {'_Total': 1}, 'coont': {'_Total': 1}, 'thuts': {'_Total': 1}, 'seren': {'_Total': 2}, 'carcter': {'_Total': 4}, 'ottiencs': {'_Total': 1}, 'sulilique': {'_Total': 1}, 'woery': {'_Total': 1}, 'habpets': {'_Total': 1}, 'fminting': {'_Total': 1}, 'alond': {'_Total': 2}, 'haashel': {'_Total': 1}, 'ablidingd': {'_Total': 1}, 'damminge': {'_Total': 1}, 'irislytion': {'_Total': 1}, 'meang': {'_Total': 1}, 'theced': {'_Total': 1}, 'hemmit': {'_Total': 1}, 'cluver': {'_Total': 1}, 'plar': {'_Total': 1}, 'corte': {'_Total': 1}, 'eindecad': {'_Total': 1}, 'beholl': {'_Total': 1}, 'werging': {'_Total': 1}, 'butd': {'_Total': 1}, 'inii': {'_Total': 1}, 'shaes': {'_Total': 1}, 'meenge': {'_Total': 1}, 'relaptis': {'_Total': 1}, 'lics': {'_Total': 1}, 'uning': {'_Total': 1}, 'duchers': {'_Total': 1}, 'souft': {'_Total': 1}, 'brege': {'_Total': 1}, 'regi': {'_Total': 1}, 'regy': {'_Total': 1}, 'whath': {'_Total': 5}, 'quession': {'_Total': 2}, 'whitther': {'_Total': 1}, 'nobert': {'_Total': 1}, 'fiure': {'_Total': 1}, 'garting': {'_Total': 1}, 'allas': {'_Total': 1}, 'brerdy': {'_Total': 1}, 'heurige': {'_Total': 1}, 'stupting': {'_Total': 1}, 'actar': {'_Total': 1}, 'manningers': {'_Total': 1}, 'himt': {'_Total': 1}, 'adurs': {'_Total': 1}, 'aloven': {'_Total': 1}, 'tiged': {'_Total': 1}, 'sempos': {'_Total': 1}, 'theprace': {'_Total': 1}, 'bolbals': {'_Total': 1}, 'isthat': {'_Total': 1}, 'heratio': {'_Total': 1}, 'sigaret': {'_Total': 1}, 'chifoly': {'_Total': 1}, 'droleto': {'_Total': 1}, 'prersin': {'_Total': 1}, 'stakt': {'_Total': 1}, 'mhar': {'_Total': 1}, 'speu': {'_Total': 1}, 'therd': {'_Total': 1}, 'aeben': {'_Total': 1}, 'wonering': {'_Total': 1}, 'besines': {'_Total': 1}, 'homlly': {'_Total': 1}, 'wantd': {'_Total': 1}, 'swhu': {'_Total': 1}, 'odect': {'_Total': 1}, 'lequy': {'_Total': 1}, 'comitle': {'_Total': 1}, 'hemlect': {'_Total': 1}, 'faverct': {'_Total': 1}, 'promment': {'_Total': 1}, 'figurh': {'_Total': 1}, 'inoneye': {'_Total': 1}, 'whesity': {'_Total': 1}, 'carfl': {'_Total': 1}, 'somebety': {'_Total': 1}, 'sayso': {'_Total': 1}, 'evn': {'_Total': 1}, 'suxcessfl': {'_Total': 1}, 'dromitist': {'_Total': 1}, 'apla': {'_Total': 1}, 'nobls': {'_Total': 1}, 'oftin': {'_Total': 2}, 'puishth': {'_Total': 1}, 'nels': {'_Total': 1}, 'ountasted': {'_Total': 1}, 'alittl': {'_Total': 1}, 'oplay': {'_Total': 1}, 'afbut': {'_Total': 1}, 'womein': {'_Total': 1}, 'notar': {'_Total': 1}, 'secrt': {'_Total': 1}, 'hamlwit': {'_Total': 1}, 'fokin': {'_Total': 1}, 'montis': {'_Total': 1}, 'bher': {'_Total': 1}, 'anemo': {'_Total': 1}, 'thepart': {'_Total': 1}, 'confied': {'_Total': 1}, 'anml': {'_Total': 1}, 'sarros': {'_Total': 1}, 'hopet': {'_Total': 1}, 'otiats': {'_Total': 1}, 'hesbout': {'_Total': 1}, 'hotis': {'_Total': 1}, 'replacas': {'_Total': 1}, 'romep': {'_Total': 1}, 'tlines': {'_Total': 1}, 'inpy': {'_Total': 1}, 'momnt': {'_Total': 1}, 'paketad': {'_Total': 1}, 'brouwn': {'_Total': 1}, 'tesem': {'_Total': 1}, 'gopen': {'_Total': 1}, 'riting': {'_Total': 3}, 'mylatters': {'_Total': 1}, 'lrgd': {'_Total': 1}, 'poutin': {'_Total': 1}, 'taegin': {'_Total': 1}, 'kase': {'_Total': 1}, 'leftt': {'_Total': 1}, 'pockt': {'_Total': 1}, 'anjer': {'_Total': 1}, 'fotmen': {'_Total': 1}, 'womoue': {'_Total': 1}, 'huossis': {'_Total': 1}, 'togest': {'_Total': 1}, 'popelav': {'_Total': 1}, 'becostha': {'_Total': 1}, 'otins': {'_Total': 1}, 'acters': {'_Total': 1}, 'thrals': {'_Total': 1}, 'halltred': {'_Total': 1}, 'olan': {'_Total': 1}, 'pegle': {'_Total': 1}, 'jes': {'_Total': 5}, 'frequenely': {'_Total': 1}, 'nessessary': {'_Total': 1}, 'atins': {'_Total': 1}, 'hlo': {'_Total': 1}, 'hratio': {'_Total': 1}, 'hamla': {'_Total': 1}, 'ponkt': {'_Total': 1}, 'rapeds': {'_Total': 1}, 'impossibl': {'_Total': 1}, 'puerich': {'_Total': 1}, 'aftere': {'_Total': 2}, 'weat': {'_Total': 1}, 'lele': {'_Total': 1}, 'fholt': {'_Total': 1}, 'ofeb': {'_Total': 1}, 'mitnento': {'_Total': 1}, 'isheart': {'_Total': 1}, 'refede': {'_Total': 1}, 'haing': {'_Total': 1}, 'flin': {'_Total': 1}, 'worthth': {'_Total': 1}, 'wuth': {'_Total': 1}, 'hek': {'_Total': 1}, 'dosern': {'_Total': 1}, 'thisie': {'_Total': 1}, 'firly': {'_Total': 1}, 'ubstang': {'_Total': 1}, 'oncs': {'_Total': 4}, 'sfaly': {'_Total': 1}, 'hovery': {'_Total': 1}, 'weelde': {'_Total': 1}, 'herily': {'_Total': 1}, 'bek': {'_Total': 3}, 'tott': {'_Total': 1}, 'eges': {'_Total': 1}, 'huok': {'_Total': 1}, 'brliht': {'_Total': 1}, 'suckh': {'_Total': 1}, 'kaneis': {'_Total': 1}, 'fwluks': {'_Total': 1}, 'gorded': {'_Total': 1}, 'tovhicke': {'_Total': 1}, 'wores': {'_Total': 2}, 'stiking': {'_Total': 1}, 'retise': {'_Total': 1}, 'apering': {'_Total': 2}, 'dowerd': {'_Total': 1}, 'bresh': {'_Total': 2}, 'suden': {'_Total': 1}, 'sharpsting': {'_Total': 1}, 'berd': {'_Total': 1}, 'notisd': {'_Total': 1}, 'firse': {'_Total': 1}, 'fitiur': {'_Total': 1}, 'bak': {'_Total': 2}, 'strekt': {'_Total': 2}, 'swif': {'_Total': 1}, 'diveng': {'_Total': 1}, 'comrnt': {'_Total': 1}, 'torent': {'_Total': 1}, 'isuppered': {'_Total': 1}, 'beneh': {'_Total': 1}, 'surffese': {'_Total': 1}, 'regans': {'_Total': 1}, 'crecdtid': {'_Total': 1}, 'atf': {'_Total': 1}, 'dessin': {'_Total': 1}, 'lustrs': {'_Total': 1}, 'whiht': {'_Total': 3}, 'whihte': {'_Total': 2}, 'pensolth': {'_Total': 1}, 'blik': {'_Total': 1}, 'streked': {'_Total': 1}, 'weating': {'_Total': 1}, 'cuching': {'_Total': 1}, 'toluns': {'_Total': 1}, 'havf': {'_Total': 2}, 'ofbof': {'_Total': 1}, 'fogideds': {'_Total': 1}, 'aligted': {'_Total': 1}, 'opright': {'_Total': 1}, 'motionles': {'_Total': 1}, 'growd': {'_Total': 1}, 'picke': {'_Total': 1}, 'jas': {'_Total': 2}, 'trotd': {'_Total': 1}, 'vourit': {'_Total': 1}, 'fakt': {'_Total': 1}, 'lafs': {'_Total': 1}, 'troutes': {'_Total': 1}, 'hadjus': {'_Total': 1}, 'banice': {'_Total': 1}, 'woththe': {'_Total': 1}, 'strod': {'_Total': 1}, 'becplr': {'_Total': 1}, 'squpt': {'_Total': 1}, 'lotd': {'_Total': 2}, 'plin': {'_Total': 2}, 'oupt': {'_Total': 1}, 'impation': {'_Total': 1}, 'todrok': {'_Total': 1}, 'fis': {'_Total': 1}, 'spocht': {'_Total': 1}, 'wrh': {'_Total': 1}, 'bige': {'_Total': 1}, 'tfish': {'_Total': 1}, 'speating': {'_Total': 1}, 'instinly': {'_Total': 1}, 'orced': {'_Total': 1}, 'inbitered': {'_Total': 1}, 'qury': {'_Total': 1}, 'crcuct': {'_Total': 1}, 'wesl': {'_Total': 1}, 'shakon': {'_Total': 1}, 'veted': {'_Total': 1}, 'deced': {'_Total': 1}, 'haktes': {'_Total': 1}, 'savege': {'_Total': 1}, 'boler': {'_Total': 1}, 'troblild': {'_Total': 1}, 'grapends': {'_Total': 1}, 'branche': {'_Total': 1}, 'wakhd': {'_Total': 1}, 'qory': {'_Total': 1}, 'squiming': {'_Total': 1}, 'beh': {'_Total': 1}, 'serfes': {'_Total': 2}, 'leping': {'_Total': 1}, 'racpidge': {'_Total': 1}, 'prhes': {'_Total': 1}, 'prculer': {'_Total': 1}, 'youye': {'_Total': 1}, 'abup': {'_Total': 1}, 'flapt': {'_Total': 2}, 'hunlol': {'_Total': 1}, 'sankt': {'_Total': 1}, 'tareble': {'_Total': 1}, 'disu': {'_Total': 1}, 'vanenge': {'_Total': 1}, 'copard': {'_Total': 1}, 'egls': {'_Total': 1}, 'crlos': {'_Total': 1}, 'tomlp': {'_Total': 1}, 'brigt': {'_Total': 1}, 'grokin': {'_Total': 1}, 'splasshes': {'_Total': 1}, 'greakt': {'_Total': 1}, 'foulad': {'_Total': 1}, 'heridly': {'_Total': 1}, 'downwerd': {'_Total': 1}, 'havvet': {'_Total': 1}, 'cornere': {'_Total': 1}, 'haks': {'_Total': 1}, 'anwerly': {'_Total': 1}, 'itsef': {'_Total': 2}, 'firmmly': {'_Total': 1}, 'betnin': {'_Total': 1}, 'tlice': {'_Total': 1}, 'mendd': {'_Total': 1}, 'fusedto': {'_Total': 1}, 'mitter': {'_Total': 1}, 'pamend': {'_Total': 1}, 'hunterd': {'_Total': 1}, 'fiftye': {'_Total': 1}, 'obxerve': {'_Total': 1}, 'demeder': {'_Total': 1}, 'feling': {'_Total': 2}, 'trohth': {'_Total': 1}, 'kenneth': {'_Total': 3}, 'roders': {'_Total': 1}, 'wutn': {'_Total': 1}, 'leter': {'_Total': 1}, 'arond': {'_Total': 1}, 'aponder': {'_Total': 1}, 'whint': {'_Total': 1}, 'grayis': {'_Total': 1}, 'afe': {'_Total': 2}, 'metlice': {'_Total': 1}, 'doars': {'_Total': 1}, 'noince': {'_Total': 1}, 'twolve': {'_Total': 1}, 'eclot': {'_Total': 1}, 'couny': {'_Total': 1}, 'jal': {'_Total': 2}, 'rerery': {'_Total': 1}, 'markcom': {'_Total': 1}, 'jaler': {'_Total': 4}, 'relid': {'_Total': 1}, 'glolily': {'_Total': 1}, 'deliberatd': {'_Total': 1}, 'sefh': {'_Total': 1}, 'imploirs': {'_Total': 1}, 'prtecta': {'_Total': 1}, 'grl': {'_Total': 1}, 'woved': {'_Total': 1}, 'sircm': {'_Total': 1}, 'stantes': {'_Total': 1}, 'coldbe': {'_Total': 1}, 'ascort': {'_Total': 1}, 'testat': {'_Total': 1}, 'grasbing': {'_Total': 1}, 'balicge': {'_Total': 1}, 'disiere': {'_Total': 1}, 'youm': {'_Total': 1}, 'seemister': {'_Total': 1}, 'mushol': {'_Total': 1}, 'kannet': {'_Total': 1}, 'dicober': {'_Total': 1}, 'cando': {'_Total': 1}, 'sistyou': {'_Total': 1}, 'thanke': {'_Total': 1}, 'neroso': {'_Total': 1}, 'sometems': {'_Total': 1}, 'yernin': {'_Total': 1}, 'creay': {'_Total': 1}, 'diin': {'_Total': 1}, 'amasemen': {'_Total': 1}, 'shrd': {'_Total': 1}, 'seriis': {'_Total': 1}, 'ontl': {'_Total': 1}, 'bayd': {'_Total': 2}, 'serthe': {'_Total': 1}, 'linke': {'_Total': 1}, 'theturm': {'_Total': 1}, 'rerseption': {'_Total': 1}, 'frand': {'_Total': 1}, 'crilse': {'_Total': 1}, 'bil': {'_Total': 1}, 'rogurs': {'_Total': 1}, 'fisit': {'_Total': 1}, 'whots': {'_Total': 1}, 'librry': {'_Total': 1}, 'quistione': {'_Total': 1}, 'penilty': {'_Total': 1}, 'cjeck': {'_Total': 1}, 'dromn': {'_Total': 1}, 'kac': {'_Total': 1}, 'setl': {'_Total': 3}, 'woitd': {'_Total': 1}, 'chec': {'_Total': 1}, 'yaon': {'_Total': 1}, 'bealot': {'_Total': 1}, 'fradom': {'_Total': 1}, 'rookedup': {'_Total': 1}, 'wrather': {'_Total': 1}, 'seted': {'_Total': 2}, 'electionnering': {'_Total': 1}, 'lightt': {'_Total': 1}, 'loyr': {'_Total': 1}, 'tmisiters': {'_Total': 1}, 'stok': {'_Total': 2}, 'foish': {'_Total': 1}, 'cenneth': {'_Total': 1}, 'nowdising': {'_Total': 1}, 'cridicly': {'_Total': 1}, 'werth': {'_Total': 2}, 'passicge': {'_Total': 1}, 'suppostd': {'_Total': 1}, 'siin': {'_Total': 1}, 'checkes': {'_Total': 1}, 'ecace': {'_Total': 1}, 'licy': {'_Total': 1}, 'inicin': {'_Total': 1}, 'heresting': {'_Total': 1}, 'provly': {'_Total': 1}, 'blafh': {'_Total': 1}, 'sinitur': {'_Total': 1}, 'ovd': {'_Total': 1}, 'helptas': {'_Total': 1}, 'aciden': {'_Total': 1}, 'quily': {'_Total': 2}, 'resons': {'_Total': 1}, 'marshol': {'_Total': 1}, 'allone': {'_Total': 1}, 'passiges': {'_Total': 1}, 'cherful': {'_Total': 1}, 'plrasen': {'_Total': 1}, 'foics': {'_Total': 1}, 'gratful': {'_Total': 1}, 'ceverd': {'_Total': 1}, 'stred': {'_Total': 1}, 'whelplet': {'_Total': 1}, 'merhol': {'_Total': 1}, 'thankle': {'_Total': 1}, 'ior': {'_Total': 1}, 'didit': {'_Total': 1}, 'harted': {'_Total': 1}, 'impectuoes': {'_Total': 1}, 'dingn': {'_Total': 1}, 'caut': {'_Total': 1}, 'reur': {'_Total': 1}, 'keneth': {'_Total': 1}, 'intrested': {'_Total': 1}, 'ronds': {'_Total': 1}, 'dispiition': {'_Total': 1}, 'annesy': {'_Total': 1}, 'silencs': {'_Total': 2}, 'neged': {'_Total': 1}, 'regords': {'_Total': 1}, 'brobing': {'_Total': 1}, 'compny': {'_Total': 1}, 'adchec': {'_Total': 1}, 'manderdne': {'_Total': 1}, 'ternowver': {'_Total': 1}, 'inswer': {'_Total': 1}, 'aclosed': {'_Total': 1}, 'docided': {'_Total': 1}, 'aten': {'_Total': 1}, 'younow': {'_Total': 1}, 'carefor': {'_Total': 1}, 'linind': {'_Total': 1}, 'fik': {'_Total': 1}, 'renld': {'_Total': 1}, 'hopkins': {'_Total': 1}, 'ranghe': {'_Total': 1}, 'perconily': {'_Total': 1}, 'inggaged': {'_Total': 1}, 'discorse': {'_Total': 1}, 'harminy': {'_Total': 1}, 'prduce': {'_Total': 1}, 'reorsos': {'_Total': 1}, 'grayhos': {'_Total': 1}, 'taxs': {'_Total': 1}, 'thegues': {'_Total': 1}, 'attentents': {'_Total': 1}, 'aproting': {'_Total': 1}, 'whelt': {'_Total': 1}, 'lonin': {'_Total': 1}, 'romor': {'_Total': 1}, 'wascake': {'_Total': 1}, 'wanderd': {'_Total': 1}, 'momat': {'_Total': 1}, 'regadivd': {'_Total': 1}, 'composiur': {'_Total': 1}, 'hupkins': {'_Total': 1}, 'fankt': {'_Total': 1}, 'menchbet': {'_Total': 1}, 'eround': {'_Total': 1}, 'maka': {'_Total': 1}, 'carfu': {'_Total': 2}, 'condis': {'_Total': 1}, 'distrct': {'_Total': 1}, 'wasstil': {'_Total': 2}, 'acomplished': {'_Total': 1}, 'supprie': {'_Total': 1}, 'demecratic': {'_Total': 1}, 'comaty': {'_Total': 1}, 'mpkins': {'_Total': 1}, 'anonts': {'_Total': 1}, 'hapose': {'_Total': 1}, 'forits': {'_Total': 1}, 'agressaf': {'_Total': 1}, 'campan': {'_Total': 1}, 'dolers': {'_Total': 2}, 'myght': {'_Total': 2}, 'canp': {'_Total': 1}, 'pritested': {'_Total': 1}, 'gorl': {'_Total': 1}, 'eevin': {'_Total': 1}, 'milvely': {'_Total': 1}, 'atracted': {'_Total': 1}, 'danty': {'_Total': 1}, 'subsantiol': {'_Total': 1}, 'confusd': {'_Total': 1}, 'gazse': {'_Total': 2}, 'vissitter': {'_Total': 1}, 'folod': {'_Total': 3}, 'theyy': {'_Total': 1}, 'dicriction': {'_Total': 1}, 'rsection': {'_Total': 1}, 'wommens': {'_Total': 1}, 'politicallek': {'_Total': 1}, 'cumeris': {'_Total': 1}, 'doveirding': {'_Total': 1}, 'voth': {'_Total': 1}, 'lafhing': {'_Total': 1}, 'heartely': {'_Total': 1}, 'ofver': {'_Total': 3}, 'thingt': {'_Total': 1}, 'fhen': {'_Total': 1}, 'pasthem': {'_Total': 1}, 'hupkans': {'_Total': 1}, 'fald': {'_Total': 1}, 'nowdis': {'_Total': 1}, 'qucktly': {'_Total': 1}, 'ampetius': {'_Total': 1}, 'chustere': {'_Total': 1}, 'littllaf': {'_Total': 1}, 'replid': {'_Total': 3}, 'knol': {'_Total': 1}, 'imosab': {'_Total': 1}, 'parons': {'_Total': 1}, 'scovered': {'_Total': 1}, 'comversing': {'_Total': 1}, 'brugy': {'_Total': 1}, 'ruk': {'_Total': 1}, 'baccand': {'_Total': 1}, 'drustd': {'_Total': 1}, 'ragulation': {'_Total': 1}, 'emhurst': {'_Total': 1}, 'blactk': {'_Total': 1}, 'epren': {'_Total': 1}, 'spetial': {'_Total': 1}, 'favrit': {'_Total': 1}, 'avher': {'_Total': 1}, 'featurs': {'_Total': 5}, 'repres': {'_Total': 1}, 'evitnces': {'_Total': 1}, 'nervismis': {'_Total': 1}, 'hancs': {'_Total': 1}, 'differnd': {'_Total': 1}, 'whemen': {'_Total': 1}, 'flaterd': {'_Total': 1}, 'waecis': {'_Total': 1}, 'alecking': {'_Total': 1}, 'lise': {'_Total': 1}, \"parsn's\": {'_Total': 1}, 'reseltcs': {'_Total': 1}, 'coad': {'_Total': 1}, 'lwistetd': {'_Total': 1}, 'tafid': {'_Total': 1}, 'cople': {'_Total': 1}, 'sapkared': {'_Total': 1}, 'oposition': {'_Total': 1}, 'speke': {'_Total': 4}, 'ucadetd': {'_Total': 1}, 'wonduringly': {'_Total': 1}, 'commity': {'_Total': 1}, 'firscly': {'_Total': 1}, 'wrenols': {'_Total': 1}, 'alected': {'_Total': 1}, 'comnaty': {'_Total': 1}, 'prposed': {'_Total': 1}, 'saccafici': {'_Total': 1}, 'ader': {'_Total': 1}, 'copkins': {'_Total': 1}, 'beful': {'_Total': 1}, 'grol': {'_Total': 1}, 'hantomis': {'_Total': 1}, 'jhet': {'_Total': 1}, 'lisa': {'_Total': 1}, 'suppaster': {'_Total': 1}, 'chorme': {'_Total': 1}, 'whernd': {'_Total': 1}, 'sucton': {'_Total': 1}, 'diven': {'_Total': 1}, 'enurst': {'_Total': 1}, 'omly': {'_Total': 1}, 'mevery': {'_Total': 1}, 'anbyded': {'_Total': 1}, 'mareh': {'_Total': 1}, \"can'sspare\": {'_Total': 1}, 'mades': {'_Total': 1}, 'atendence': {'_Total': 1}, 'onyxpected': {'_Total': 1}, 'forseng': {'_Total': 1}, 'sexcesk': {'_Total': 1}, 'fiht': {'_Total': 2}, 'manther': {'_Total': 1}, 'neere': {'_Total': 1}, 'indipendet': {'_Total': 1}, 'comrr': {'_Total': 1}, 'aliencs': {'_Total': 1}, 'caryed': {'_Total': 1}, 'aswheare': {'_Total': 1}, 'drond': {'_Total': 1}, 'voge': {'_Total': 1}, 'shoutend': {'_Total': 1}, 'quie': {'_Total': 3}, 'satisfid': {'_Total': 1}, 'treger': {'_Total': 1}, 'soncs': {'_Total': 1}, 'smol': {'_Total': 1}, 'becos': {'_Total': 2}, 'asielle': {'_Total': 1}, 'polas': {'_Total': 1}, 'befory': {'_Total': 1}, 'whiche': {'_Total': 2}, 'progrers': {'_Total': 1}, 'wevis': {'_Total': 1}, 'puc': {'_Total': 1}, 'delli': {'_Total': 1}, 'fird': {'_Total': 1}, 'replit': {'_Total': 1}, 'battlacs': {'_Total': 1}, 'strubls': {'_Total': 1}, 'thinges': {'_Total': 1}, 'rlosd': {'_Total': 1}, 'shurs': {'_Total': 2}, 'pripres': {'_Total': 1}, 'seng': {'_Total': 4}, 'disce': {'_Total': 1}, 'araving': {'_Total': 1}, 'resivenc': {'_Total': 1}, 'fouwn': {'_Total': 2}, 'shalon': {'_Total': 1}, 'fiold': {'_Total': 1}, 'breant': {'_Total': 1}, 'compen': {'_Total': 1}, 'thinkind': {'_Total': 1}, 'whetk': {'_Total': 1}, 'wutch': {'_Total': 1}, 'coptin': {'_Total': 1}, 'amself': {'_Total': 1}, 'vessol': {'_Total': 1}, 'engln': {'_Total': 1}, 'possest': {'_Total': 1}, 'frthers': {'_Total': 1}, 'mydas': {'_Total': 1}, 'cuornerf': {'_Total': 1}, 'rme': {'_Total': 1}, 'eva': {'_Total': 2}, 'andwas': {'_Total': 1}, 'silenc': {'_Total': 1}, 'praies': {'_Total': 1}, 'lol': {'_Total': 2}, 'sujes': {'_Total': 1}, 'amatter': {'_Total': 1}, 'apinen': {'_Total': 1}, 'satesfie': {'_Total': 1}, 'repuluke': {'_Total': 1}, 'brtn': {'_Total': 2}, 'nula': {'_Total': 1}, 'deculare': {'_Total': 1}, 'nonyxistendt': {'_Total': 1}, 'betirsh': {'_Total': 1}, 'gobernar': {'_Total': 1}, 'stald': {'_Total': 1}, 'netver': {'_Total': 1}, 'prout': {'_Total': 1}, 'nando': {'_Total': 3}, 'forat': {'_Total': 1}, 'tyou': {'_Total': 1}, 'temnent': {'_Total': 1}, 'gaent': {'_Total': 1}, 'peconer': {'_Total': 1}, 'withthing': {'_Total': 1}, 'nowge': {'_Total': 1}, 'arery': {'_Total': 1}, 'owers': {'_Total': 1}, 'chamers': {'_Total': 1}, 'gragerly': {'_Total': 1}, 'kidnot': {'_Total': 1}, 'doel': {'_Total': 1}, 'duble': {'_Total': 1}, 'trbo': {'_Total': 1}, 'strugl': {'_Total': 1}, 'nequty': {'_Total': 1}, 'sceach': {'_Total': 1}, 'scuose': {'_Total': 1}, 'thol': {'_Total': 1}, 'whule': {'_Total': 1}, 'hrused': {'_Total': 1}, 'wordes': {'_Total': 1}, 'enpossibl': {'_Total': 1}, 'jisslik': {'_Total': 1}, 'mando': {'_Total': 1}, 'proscis': {'_Total': 1}, 'laies': {'_Total': 1}, 'jackwiule': {'_Total': 1}, 'ethas': {'_Total': 1}, 'hapby': {'_Total': 1}, 'huspen': {'_Total': 1}, 'eader': {'_Total': 1}, 'remainds': {'_Total': 1}, 'oan': {'_Total': 2}, 'oltwit': {'_Total': 1}, 'hatderman': {'_Total': 1}, 'norto': {'_Total': 1}, 'beving': {'_Total': 1}, 'megement': {'_Total': 1}, 'sofie': {'_Total': 1}, 'habece': {'_Total': 1}, 'beadiancs': {'_Total': 1}, 'knowhere': {'_Total': 1}, 'vance': {'_Total': 1}, 'yuving': {'_Total': 1}, 'fretitint': {'_Total': 1}, 'repoblict': {'_Total': 1}, 'mintl': {'_Total': 1}, 'diedtyg': {'_Total': 1}, 'migk': {'_Total': 1}, 'sumthing': {'_Total': 2}, 'somplicity': {'_Total': 1}, 'ortanary': {'_Total': 1}, 'avesur': {'_Total': 1}, 'upt': {'_Total': 1}, 'jener': {'_Total': 1}, 'presitant': {'_Total': 1}, 'conout': {'_Total': 1}, 'denind': {'_Total': 1}, 'quihe': {'_Total': 1}, 'shours': {'_Total': 1}, 'botlecs': {'_Total': 1}, 'boiteri': {'_Total': 1}, 'ifh': {'_Total': 1}, 'recturn': {'_Total': 1}, 'borgd': {'_Total': 1}, 'thth': {'_Total': 3}, 'battal': {'_Total': 1}, 'moarl': {'_Total': 1}, 'strech': {'_Total': 2}, 'urpoi': {'_Total': 1}, 'doland': {'_Total': 1}, 'dopatrof': {'_Total': 1}, 'sfr': {'_Total': 1}, 'matneised': {'_Total': 1}, 'givd': {'_Total': 1}, 'jentlemin': {'_Total': 1}, 'ocede': {'_Total': 1}, 'wharge': {'_Total': 1}, 'fellt': {'_Total': 1}, 'creswelers': {'_Total': 1}, 'thorear': {'_Total': 1}, 'nect': {'_Total': 2}, 'slection': {'_Total': 1}, 'consitution': {'_Total': 1}, 'ulusts': {'_Total': 1}, 'balt': {'_Total': 1}, 'onede': {'_Total': 1}, 'osumbly': {'_Total': 1}, 'sfrong': {'_Total': 1}, 'bottas': {'_Total': 1}, 'polbi': {'_Total': 1}, 'whemik': {'_Total': 1}, 'arkises': {'_Total': 1}, 'goverment': {'_Total': 1}, 'treaning': {'_Total': 1}, 'aubsolot': {'_Total': 1}, 'affisur': {'_Total': 1}, 'efther': {'_Total': 1}, 'jeac': {'_Total': 1}, 'stilo': {'_Total': 1}, 'coluge': {'_Total': 1}, 'caing': {'_Total': 1}, 'remande': {'_Total': 1}, 'manglen': {'_Total': 1}, 'bumet': {'_Total': 1}, 'suceved': {'_Total': 1}, 'carg': {'_Total': 1}, 'suceded': {'_Total': 1}, 'rayt': {'_Total': 1}, 'parcture': {'_Total': 1}, 'courdosi': {'_Total': 1}, 'hospe': {'_Total': 1}, 'tallty': {'_Total': 1}, 'caiter': {'_Total': 1}, 'anglhand': {'_Total': 1}, 'thispla': {'_Total': 1}, 'promese': {'_Total': 1}, 'kaning': {'_Total': 1}, 'oabl': {'_Total': 1}, 'fineplare': {'_Total': 1}, 'neverbend': {'_Total': 1}, 'memd': {'_Total': 1}, 'donter': {'_Total': 1}, 'prbiting': {'_Total': 1}, 'berds': {'_Total': 1}, 'beaset': {'_Total': 1}, 'fissies': {'_Total': 1}, 'jelies': {'_Total': 1}, 'dinnerof': {'_Total': 1}, 'amitind': {'_Total': 1}, 'coplis': {'_Total': 1}, 'thur': {'_Total': 2}, 'sucches': {'_Total': 1}, 'complaie': {'_Total': 1}, 'tyour': {'_Total': 1}, 'ixpressing': {'_Total': 1}, 'apinnin': {'_Total': 1}, 'ishou': {'_Total': 1}, 'wilng': {'_Total': 1}, 'havevbe': {'_Total': 1}, 'incomman': {'_Total': 1}, 'oppontid': {'_Total': 1}, 'doverner': {'_Total': 1}, 'calny': {'_Total': 1}, 'nuular': {'_Total': 1}, 'woulde': {'_Total': 1}, 'kidnat': {'_Total': 1}, 'dyo': {'_Total': 1}, 'havincs': {'_Total': 1}, 'mied': {'_Total': 1}, 'goveren': {'_Total': 1}, 'founden': {'_Total': 1}, 'nowladged': {'_Total': 1}, 'shurvad': {'_Total': 1}, 'towor': {'_Total': 1}, 'evl': {'_Total': 3}, 'acoplist': {'_Total': 1}, 'acored': {'_Total': 1}, 'thelast': {'_Total': 1}, 'sfoke': {'_Total': 1}, 'gratios': {'_Total': 1}, 'fhika': {'_Total': 1}, 'anygroge': {'_Total': 1}, 'powrer': {'_Total': 1}, 'suffisin': {'_Total': 1}, 'follos': {'_Total': 1}, 'druamk': {'_Total': 1}, 'complience': {'_Total': 1}, 'sefthis': {'_Total': 1}, 'caricteristic': {'_Total': 1}, 'onsah': {'_Total': 1}, 'ater': {'_Total': 1}, 'neverben': {'_Total': 1}, 'thear': {'_Total': 1}, 'presdin': {'_Total': 1}, 'repoblet': {'_Total': 1}, 'courtese': {'_Total': 1}, 'servrenes': {'_Total': 1}, 'friny': {'_Total': 1}, 'trer': {'_Total': 1}, 'leadig': {'_Total': 1}, 'conity': {'_Total': 1}, 'parht': {'_Total': 1}, 'yone': {'_Total': 1}, 'leppan': {'_Total': 1}, 'aganst': {'_Total': 1}, 'possple': {'_Total': 1}, 'ulo': {'_Total': 1}, 'previl': {'_Total': 1}, 'pastd': {'_Total': 3}, 'lethed': {'_Total': 1}, 'carage': {'_Total': 2}, 'brandin': {'_Total': 1}, 'wickit': {'_Total': 1}, 'redmins': {'_Total': 1}, 'truble': {'_Total': 1}, 'trobld': {'_Total': 1}, 'misseradly': {'_Total': 1}, 'rahels': {'_Total': 1}, 'sharppen': {'_Total': 1}, 'diladed': {'_Total': 1}, 'pamnful': {'_Total': 1}, 'suprise': {'_Total': 1}, 'mobved': {'_Total': 1}, 'mork': {'_Total': 1}, 'hekful': {'_Total': 1}, 'recilely': {'_Total': 1}, 'becom': {'_Total': 2}, 'promes': {'_Total': 1}, 'ugan': {'_Total': 1}, 'inddo': {'_Total': 1}, 'ters': {'_Total': 3}, 'worcll': {'_Total': 1}, 'havving': {'_Total': 1}, 'ofstruction': {'_Total': 1}, 'dorkes': {'_Total': 2}, 'looket': {'_Total': 1}, 'custens': {'_Total': 1}, 'intiopa': {'_Total': 1}, 'notketd': {'_Total': 1}, 'mayk': {'_Total': 1}, 'thinkcit': {'_Total': 1}, 'matnes': {'_Total': 1}, 'blanm': {'_Total': 1}, 'sudin': {'_Total': 2}, 'fieur': {'_Total': 1}, 'pation': {'_Total': 1}, 'flushtd': {'_Total': 1}, 'chenk': {'_Total': 1}, 'herlang': {'_Total': 1}, 'chell': {'_Total': 1}, 'wallder': {'_Total': 1}, 'knother': {'_Total': 1}, 'perssin': {'_Total': 1}, 'coti': {'_Total': 1}, 'uftera': {'_Total': 1}, 'stilld': {'_Total': 1}, 'suel': {'_Total': 1}, 'resembl': {'_Total': 1}, 'ferles': {'_Total': 1}, 'jeeres': {'_Total': 1}, 'frything': {'_Total': 1}, 'froningly': {'_Total': 1}, 'floer': {'_Total': 2}, 'torling': {'_Total': 1}, 'tiners': {'_Total': 1}, 'tranit': {'_Total': 1}, 'beadiful': {'_Total': 1}, 'glammor': {'_Total': 1}, 'giling': {'_Total': 1}, 'sencces': {'_Total': 1}, 'touth': {'_Total': 1}, 'dorcis': {'_Total': 1}, 'somktping': {'_Total': 1}, 'sqemnes': {'_Total': 1}, 'fones': {'_Total': 1}, 'comferting': {'_Total': 1}, 'retirne': {'_Total': 1}, 'greating': {'_Total': 1}, 'crinely': {'_Total': 1}, 'tholt': {'_Total': 1}, 'mre': {'_Total': 1}, 'cerform': {'_Total': 1}, 'vrusling': {'_Total': 1}, 'femnin': {'_Total': 1}, 'dreapreas': {'_Total': 1}, 'smalldor': {'_Total': 1}, 'opingd': {'_Total': 1}, 'rahul': {'_Total': 1}, 'enturd': {'_Total': 1}, 'apal': {'_Total': 1}, 'rolcome': {'_Total': 1}, 'wenin': {'_Total': 1}, 'pame': {'_Total': 3}, 'bhater': {'_Total': 1}, 'icupt': {'_Total': 1}, 'shane': {'_Total': 1}, 'dropes': {'_Total': 2}, 'jrund': {'_Total': 1}, 'nachur': {'_Total': 1}, 'racuol': {'_Total': 1}, 'deceat': {'_Total': 1}, 'wevencs': {'_Total': 1}, 'rachllt': {'_Total': 1}, 'stocae': {'_Total': 1}, 'hapoer': {'_Total': 1}, 'sy': {'_Total': 3}, 'nables': {'_Total': 1}, 'spearnts': {'_Total': 1}, 'hersexs': {'_Total': 1}, 'facse': {'_Total': 1}, 'quitly': {'_Total': 1}, 'sliy': {'_Total': 1}, 'thatsy': {'_Total': 1}, 'horri': {'_Total': 1}, 'contrey': {'_Total': 1}, 'ligfe': {'_Total': 2}, 'greting': {'_Total': 3}, 'coupin': {'_Total': 1}, 'usuly': {'_Total': 1}, 'fosin': {'_Total': 1}, 'ticurly': {'_Total': 1}, 'proed': {'_Total': 1}, 'tookhis': {'_Total': 1}, 'trnit': {'_Total': 1}, 'sli': {'_Total': 1}, 'musment': {'_Total': 1}, 'makeh': {'_Total': 1}, 'shoulvher': {'_Total': 1}, 'lagtht': {'_Total': 1}, 'suten': {'_Total': 1}, 'noassily': {'_Total': 1}, 'juar': {'_Total': 1}, 'jul': {'_Total': 1}, 'stinmd': {'_Total': 1}, 'calfor': {'_Total': 1}, 'tindid': {'_Total': 1}, 'seckencs': {'_Total': 1}, 'handidet': {'_Total': 1}, 'inicinly': {'_Total': 1}, 'timices': {'_Total': 1}, 'darty': {'_Total': 1}, 'chelford': {'_Total': 1}, 'xbrandin': {'_Total': 1}, 'receedit': {'_Total': 1}, 'gratiosly': {'_Total': 1}, 'momenterys': {'_Total': 1}, 'chupkling': {'_Total': 1}, 'beninintly': {'_Total': 1}, 'overe': {'_Total': 1}, 'belele': {'_Total': 1}, 'tase': {'_Total': 1}, 'juos': {'_Total': 1}, 'tlme': {'_Total': 1}, 'takking': {'_Total': 2}, 'chelferd': {'_Total': 1}, 'smielyng': {'_Total': 1}, 'cousens': {'_Total': 1}, 'quorters': {'_Total': 1}, 'aboud': {'_Total': 1}, 'hepint': {'_Total': 1}, 'hyeas': {'_Total': 1}, 'sothey': {'_Total': 1}, 'continid': {'_Total': 1}, 'nigter': {'_Total': 1}, 'satissfied': {'_Total': 1}, 'ratuel': {'_Total': 1}, 'trober': {'_Total': 1}, 'oaebout': {'_Total': 1}, 'treane': {'_Total': 1}, 'bancys': {'_Total': 1}, 'tefel': {'_Total': 1}, 'stiry': {'_Total': 1}, 'wlacht': {'_Total': 1}, 'chabwer': {'_Total': 1}, 'vittl': {'_Total': 1}, 'tomeble': {'_Total': 1}, 'chume': {'_Total': 1}, 'stotle': {'_Total': 1}, 'frerniture': {'_Total': 1}, 'longedto': {'_Total': 1}, 'sometimecs': {'_Total': 1}, 'trurme': {'_Total': 1}, 'outp': {'_Total': 1}, 'foishly': {'_Total': 1}, 'reatdy': {'_Total': 1}, 'wemn': {'_Total': 1}, 'ligk': {'_Total': 3}, 'wieked': {'_Total': 1}, 'suppe': {'_Total': 1}, 'bithy': {'_Total': 1}, 'bracpkin': {'_Total': 1}, 'intimegly': {'_Total': 1}, 'dorkis': {'_Total': 1}, 'liks': {'_Total': 1}, 'consee': {'_Total': 1}, 'stanry': {'_Total': 1}, 'hamgan': {'_Total': 1}, 'therewas': {'_Total': 1}, 'bropen': {'_Total': 1}, 'shaos': {'_Total': 1}, 'ober': {'_Total': 1}, 'hining': {'_Total': 1}, 'bous': {'_Total': 1}, 'ligtes': {'_Total': 1}, 'shatos': {'_Total': 1}, 'ontly': {'_Total': 1}, 'acrosis': {'_Total': 1}, 'youl': {'_Total': 2}, 'orgin': {'_Total': 2}, 'capastity': {'_Total': 1}, 'balting': {'_Total': 1}, 'wikeman': {'_Total': 1}, 'baoldes': {'_Total': 1}, 'cinme': {'_Total': 1}, 'twhe': {'_Total': 1}, 'stety': {'_Total': 3}, 'taidty': {'_Total': 1}, 'spefer': {'_Total': 1}, 'dekp': {'_Total': 1}, 'hownd': {'_Total': 1}, 'spel': {'_Total': 1}, 'heteeting': {'_Total': 1}, 'destingt': {'_Total': 1}, 'spesiol': {'_Total': 1}, 'acxtion': {'_Total': 1}, 'cheferd': {'_Total': 1}, 'waleder': {'_Total': 1}, 'returmned': {'_Total': 1}, 'scustid': {'_Total': 1}, 'roumineted': {'_Total': 1}, 'jenno': {'_Total': 1}, 'complementery': {'_Total': 1}, 'bhats': {'_Total': 1}, 'possibl': {'_Total': 4}, 'readty': {'_Total': 1}, 'theg': {'_Total': 1}, 'gontce': {'_Total': 1}, 'ixsep': {'_Total': 1}, 'togother': {'_Total': 1}, 'bolgly': {'_Total': 1}, 'cherot': {'_Total': 1}, 'diporf': {'_Total': 1}, 'toards': {'_Total': 1}, 'brandind': {'_Total': 1}, 'bekh': {'_Total': 1}, 'jigantic': {'_Total': 1}, 'ploms': {'_Total': 1}, 'afl': {'_Total': 1}, 'mno': {'_Total': 1}, 'shiing': {'_Total': 1}, 'witohe': {'_Total': 1}, 'cler': {'_Total': 3}, 'lightes': {'_Total': 1}, 'shados': {'_Total': 1}, 'ofscur': {'_Total': 1}, 'fhyma': {'_Total': 1}, 'acring': {'_Total': 1}, 'ligtses': {'_Total': 1}, 'gennerly': {'_Total': 1}, 'bractens': {'_Total': 1}, 'veriy': {'_Total': 1}, 'curtins': {'_Total': 1}, 'werof': {'_Total': 1}, 'tappustry': {'_Total': 1}, 'felows': {'_Total': 1}, 'besda': {'_Total': 1}, 'costion': {'_Total': 1}, 'chimmy': {'_Total': 1}, 'axcuptio': {'_Total': 1}, 'comterbl': {'_Total': 1}, 'egreat': {'_Total': 1}, 'alwys': {'_Total': 1}, 'inixxpressibly': {'_Total': 1}, 'aful': {'_Total': 2}, 'lrake': {'_Total': 1}, 'declineds': {'_Total': 1}, 'cariged': {'_Total': 1}, 'nigyt': {'_Total': 1}, 'belyfe': {'_Total': 1}, 'iae': {'_Total': 1}, 'lufto': {'_Total': 1}, 'veryepor': {'_Total': 1}, 'indestrus': {'_Total': 1}, 'hury': {'_Total': 2}, 'mistersomes': {'_Total': 1}, 'youeo': {'_Total': 1}, 'sposol': {'_Total': 1}, 'frincs': {'_Total': 1}, 'saincs': {'_Total': 1}, 'decrived': {'_Total': 1}, 'congunel': {'_Total': 1}, 'surondings': {'_Total': 1}, 'aproched': {'_Total': 1}, 'teoptol': {'_Total': 1}, 'nec': {'_Total': 2}, 'lokt': {'_Total': 1}, 'intothe': {'_Total': 1}, 'olntl': {'_Total': 1}, 'clapesd': {'_Total': 1}, 'oere': {'_Total': 2}, 'qlay': {'_Total': 1}, 'wiath': {'_Total': 1}, 'wlooks': {'_Total': 1}, 'wlik': {'_Total': 1}, 'sadust': {'_Total': 1}, 'momment': {'_Total': 1}, 'someond': {'_Total': 1}, 'remmege': {'_Total': 1}, 'anderstan': {'_Total': 1}, 'andter': {'_Total': 1}, 'yeuns': {'_Total': 1}, 'staemen': {'_Total': 1}, 'avencs': {'_Total': 1}, 'anip': {'_Total': 1}, 'tikuler': {'_Total': 1}, 'cluaes': {'_Total': 1}, 'cocerned': {'_Total': 1}, 'bper': {'_Total': 1}, 'lece': {'_Total': 1}, 'surned': {'_Total': 1}, 'stiopet': {'_Total': 1}, 'sedely': {'_Total': 1}, 'wasthat': {'_Total': 1}, 'xerf': {'_Total': 1}, 'thie': {'_Total': 1}, 'mhat': {'_Total': 2}, 'enterd': {'_Total': 3}, 'olstae': {'_Total': 1}, 'ugtation': {'_Total': 1}, 'acurd': {'_Total': 1}, 'mitst': {'_Total': 1}, 'reten': {'_Total': 1}, 'harid': {'_Total': 1}, 'rerplace': {'_Total': 1}, 'anyine': {'_Total': 1}, 'ventur': {'_Total': 1}, 'homsed': {'_Total': 1}, 'curtin': {'_Total': 1}, 'regidithy': {'_Total': 1}, 'anlerness': {'_Total': 1}, 'atitu': {'_Total': 1}, 'foran': {'_Total': 2}, 'whatson': {'_Total': 1}, 'injustes': {'_Total': 1}, 'panin': {'_Total': 2}, 'erlernd': {'_Total': 1}, 'hivty': {'_Total': 1}, 'sixpicion': {'_Total': 1}, 'profes': {'_Total': 1}, 'coule': {'_Total': 1}, 'wauld': {'_Total': 1}, 'druom': {'_Total': 1}, 'consel': {'_Total': 1}, 'hamself': {'_Total': 1}, 'tooke': {'_Total': 1}, 'sentel': {'_Total': 2}, 'imnt': {'_Total': 1}, 'faras': {'_Total': 1}, 'beonge': {'_Total': 1}, 'serbent': {'_Total': 1}, 'howhas': {'_Total': 1}, 'aufter': {'_Total': 1}, 'onisty': {'_Total': 1}, 'suspition': {'_Total': 1}, 'mik': {'_Total': 1}, 'fhr': {'_Total': 1}, 'retet': {'_Total': 1}, 'carfuly': {'_Total': 2}, 'soleltly': {'_Total': 1}, 'coret': {'_Total': 1}, 'profe': {'_Total': 1}, 'suffeing': {'_Total': 1}, 'reteng': {'_Total': 1}, 'studens': {'_Total': 1}, 'lnone': {'_Total': 1}, 'ousing': {'_Total': 1}, 'taqorter': {'_Total': 1}, 'ouar': {'_Total': 1}, 'homis': {'_Total': 1}, 'haledout': {'_Total': 1}, 'smoll': {'_Total': 2}, 'wouh': {'_Total': 1}, 'wotd': {'_Total': 1}, 'minit': {'_Total': 1}, 'wuld': {'_Total': 5}, 'flore': {'_Total': 1}, 'belonges': {'_Total': 1}, 'plarn': {'_Total': 1}, 'apsent': {'_Total': 1}, 'spisions': {'_Total': 1}, 'willok': {'_Total': 1}, 'disire': {'_Total': 2}, 'settl': {'_Total': 1}, 'matder': {'_Total': 1}, 'quirly': {'_Total': 1}, 'discreatly': {'_Total': 1}, 'heldit': {'_Total': 1}, 'weled': {'_Total': 1}, 'frmation': {'_Total': 1}, 'scrapboks': {'_Total': 1}, 'cemicls': {'_Total': 1}, 'tidiees': {'_Total': 1}, 'icxamination': {'_Total': 1}, 'pacecing': {'_Total': 1}, 'rooom': {'_Total': 1}, 'homs': {'_Total': 1}, 'cinly': {'_Total': 1}, 'canicus': {'_Total': 1}, 'youo': {'_Total': 1}, 'calis': {'_Total': 1}, 'crmel': {'_Total': 1}, 'sallved': {'_Total': 1}, 'simpul': {'_Total': 1}, 'annoh': {'_Total': 1}, 'onmly': {'_Total': 1}, 'knon': {'_Total': 2}, 'allt': {'_Total': 1}, 'cleverneis': {'_Total': 1}, 'opeare': {'_Total': 1}, 'doepres': {'_Total': 1}, 'felyeur': {'_Total': 1}, 'stroe': {'_Total': 1}, 'sholders': {'_Total': 1}, 'umerus': {'_Total': 1}, 'resigation': {'_Total': 1}, 'andiin': {'_Total': 1}, 'silouwet': {'_Total': 1}, 'opperld': {'_Total': 1}, 'sudnly': {'_Total': 3}, 'blined': {'_Total': 1}, 'stel': {'_Total': 1}, 'waith': {'_Total': 1}, 'egor': {'_Total': 1}, 'avan': {'_Total': 1}, 'yeu': {'_Total': 1}, 'houvf': {'_Total': 1}, 'quike': {'_Total': 1}, 'colige': {'_Total': 1}, 'unusul': {'_Total': 1}, 'imprestd': {'_Total': 1}, 'perfictly': {'_Total': 1}, 'confilencs': {'_Total': 1}, 'sugjestions': {'_Total': 1}, 'geul': {'_Total': 1}, 'arselv': {'_Total': 1}, 'surtiom': {'_Total': 1}, 'poers': {'_Total': 1}, 'oarselves': {'_Total': 1}, 'pribid': {'_Total': 1}, 'martiol': {'_Total': 1}, 'tolbl': {'_Total': 1}, 'injustece': {'_Total': 1}, 'approched': {'_Total': 1}, 'axam': {'_Total': 1}, 'qorse': {'_Total': 1}, 'conduc': {'_Total': 1}, 'uncurtiiss': {'_Total': 1}, 'noor': {'_Total': 1}, 'certinly': {'_Total': 1}, 'trompled': {'_Total': 1}, 'xpretion': {'_Total': 1}, 'blinke': {'_Total': 1}, 'firter': {'_Total': 1}, 'wiale': {'_Total': 1}, 'sinch': {'_Total': 1}, 'cannt': {'_Total': 1}, 'situlation': {'_Total': 1}, 'facedt': {'_Total': 1}, 'impuls': {'_Total': 1}, 'cammover': {'_Total': 1}, 'wilh': {'_Total': 2}, 'blac': {'_Total': 1}, 'clayt': {'_Total': 1}, 'pensl': {'_Total': 2}, 'thinkso': {'_Total': 1}, 'jomping': {'_Total': 1}, 'shus': {'_Total': 3}, 'vbitad': {'_Total': 1}, 'xpiks': {'_Total': 1}, 'gicrest': {'_Total': 1}, 'avercan': {'_Total': 1}, 'comit': {'_Total': 1}, 'suchan': {'_Total': 1}, 'thaut': {'_Total': 2}, 'gicrist': {'_Total': 1}, 'letther': {'_Total': 2}, 'sormes': {'_Total': 1}, 'youerly': {'_Total': 1}, 'upprased': {'_Total': 1}, 'triae': {'_Total': 1}, 'rithing': {'_Total': 1}, 'axamanation': {'_Total': 1}, 'skap': {'_Total': 1}, 'axamination': {'_Total': 1}, 'gomence': {'_Total': 1}, 'betwle': {'_Total': 1}, 'lecke': {'_Total': 1}, 'compet': {'_Total': 1}, 'biebe': {'_Total': 1}, 'worsd': {'_Total': 1}, 'reckerd': {'_Total': 1}, 'somes': {'_Total': 1}, 'gicrse': {'_Total': 1}, 'relis': {'_Total': 2}, 'habe': {'_Total': 2}, 'doar': {'_Total': 1}, 'persee': {'_Total': 1}, 'carlis': {'_Total': 2}, 'tnes': {'_Total': 1}, 'darcknis': {'_Total': 1}, 'quadringl': {'_Total': 1}, 'pisition': {'_Total': 1}, 'fhellol': {'_Total': 1}, 'importien': {'_Total': 1}, 'sorderd': {'_Total': 1}, 'almook': {'_Total': 1}, 'baxotation': {'_Total': 1}, 'astal': {'_Total': 1}, 'upcession': {'_Total': 1}, 'intolucted': {'_Total': 1}, 'biciuts': {'_Total': 1}, 'wherop': {'_Total': 1}, 'gudt': {'_Total': 1}, 'scisom': {'_Total': 1}, 'porokides': {'_Total': 1}, 'tapot': {'_Total': 1}, 'chorh': {'_Total': 1}, 'welo': {'_Total': 1}, 'comfind': {'_Total': 1}, 'apekin': {'_Total': 1}, 'billith': {'_Total': 1}, 'integrty': {'_Total': 1}, 'inestameble': {'_Total': 1}, 'pridlege': {'_Total': 1}, 'viladed': {'_Total': 1}, 'enpor': {'_Total': 1}, 'bive': {'_Total': 1}, 'mactens': {'_Total': 1}, 'persseccution': {'_Total': 1}, 'sexs': {'_Total': 1}, 'sentid': {'_Total': 1}, 'aflicted': {'_Total': 1}, 'aprest': {'_Total': 1}, 'tlimf': {'_Total': 1}, 'annoty': {'_Total': 1}, 'eben': {'_Total': 1}, 'cinfenct': {'_Total': 1}, 'puvblit': {'_Total': 1}, 'penens': {'_Total': 1}, 'admideed': {'_Total': 1}, 'caumin': {'_Total': 1}, 'sebl': {'_Total': 1}, 'atible': {'_Total': 1}, 'pors': {'_Total': 1}, 'domntist': {'_Total': 1}, 'stoll': {'_Total': 1}, 'tameden': {'_Total': 1}, 'probences': {'_Total': 1}, 'aperi': {'_Total': 1}, 'nunbers': {'_Total': 1}, 'hundgen': {'_Total': 1}, 'bisheps': {'_Total': 1}, 'nowoge': {'_Total': 1}, 'juristictuon': {'_Total': 1}, 'primat': {'_Total': 1}, 'efele': {'_Total': 1}, 'bllivd': {'_Total': 1}, 'heritixs': {'_Total': 1}, 'whuo': {'_Total': 1}, 'pisind': {'_Total': 1}, 'spu': {'_Total': 1}, 'opainens': {'_Total': 1}, 'whorh': {'_Total': 1}, 'poze': {'_Total': 1}, 'coamans': {'_Total': 1}, 'goty': {'_Total': 1}, 'serd': {'_Total': 1}, 'croinl': {'_Total': 1}, 'abtinecy': {'_Total': 1}, 'sesnibl': {'_Total': 1}, 'apletation': {'_Total': 1}, 'veridis': {'_Total': 1}, 'dangtur': {'_Total': 1}, 'evar': {'_Total': 1}, 'demation': {'_Total': 1}, 'copig': {'_Total': 1}, 'cuation': {'_Total': 1}, 'meferd': {'_Total': 1}, 'aplatid': {'_Total': 1}, 'bisiups': {'_Total': 1}, 'prestion': {'_Total': 1}, 'fothe': {'_Total': 2}, 'rihts': {'_Total': 1}, 'memety': {'_Total': 1}, 'gratfuol': {'_Total': 1}, 'aplas': {'_Total': 1}, 'cuargy': {'_Total': 1}, 'cossocrad': {'_Total': 1}, 'indod': {'_Total': 1}, 'pomoted': {'_Total': 1}, 'edid': {'_Total': 1}, 'melan': {'_Total': 1}, 'chade': {'_Total': 1}, 'evigil': {'_Total': 1}, 'rommin': {'_Total': 1}, 'tusing': {'_Total': 1}, 'weligin': {'_Total': 1}, 'crn': {'_Total': 1}, 'tif': {'_Total': 2}, 'borim': {'_Total': 1}, 'roung': {'_Total': 1}, 'brime': {'_Total': 1}, 'aro': {'_Total': 1}, 'oftinee': {'_Total': 1}, 'tancld': {'_Total': 1}, 'foirt': {'_Total': 1}, 'mountin': {'_Total': 1}, 'gillikins': {'_Total': 1}, 'paft': {'_Total': 1}, 'vidid': {'_Total': 1}, 'whuld': {'_Total': 1}, 'nily': {'_Total': 1}, 'beprod': {'_Total': 1}, 'glast': {'_Total': 2}, 'forsuch': {'_Total': 1}, 'ontri': {'_Total': 1}, 'mictur': {'_Total': 1}, 'colers': {'_Total': 2}, 'dicord': {'_Total': 1}, 'liffoe': {'_Total': 1}, 'bhon': {'_Total': 1}, 'siwit': {'_Total': 1}, 'oin': {'_Total': 1}, 'glas': {'_Total': 2}, 'megision': {'_Total': 1}, 'meks': {'_Total': 1}, 'whl': {'_Total': 1}, 'lorr': {'_Total': 1}, 'ofd': {'_Total': 2}, 'jec': {'_Total': 1}, 'cacsing': {'_Total': 1}, 'survent': {'_Total': 1}, 'melles': {'_Total': 1}, 'warh': {'_Total': 1}, 'adiches': {'_Total': 1}, 'pachwor': {'_Total': 1}, 'mobellat': {'_Total': 1}, 'stonisment': {'_Total': 1}, 'mxplang': {'_Total': 1}, 'nouit': {'_Total': 1}, 'megestiong': {'_Total': 1}, 'mers': {'_Total': 1}, 'naber': {'_Total': 2}, 'wollcon': {'_Total': 1}, 'wishe': {'_Total': 1}, 'oxplore': {'_Total': 1}, 'firplace': {'_Total': 1}, 'bln': {'_Total': 1}, 'loewas': {'_Total': 1}, 'blasing': {'_Total': 1}, 'owlr': {'_Total': 1}, 'thefir': {'_Total': 1}, 'cketals': {'_Total': 1}, 'bublan': {'_Total': 1}, 'graht': {'_Total': 1}, 'emneld': {'_Total': 1}, 'siby': {'_Total': 1}, 'aslelives': {'_Total': 1}, 'poppele': {'_Total': 1}, 'ojo': {'_Total': 4}, 'onmlucky': {'_Total': 1}, 'blosol': {'_Total': 1}, 'bupls': {'_Total': 1}, 'ofbre': {'_Total': 1}, 'roffld': {'_Total': 1}, 'wacet': {'_Total': 1}, 'jacka': {'_Total': 1}, 'bllil': {'_Total': 1}, 'bratin': {'_Total': 1}, 'tawiing': {'_Total': 1}, 'stakit': {'_Total': 1}, 'ress': {'_Total': 1}, 'teted': {'_Total': 1}, 'eversince': {'_Total': 1}, 'fime': {'_Total': 1}, 'conotet': {'_Total': 1}, 'houles': {'_Total': 1}, 'theby': {'_Total': 1}, 'plesnt': {'_Total': 1}, 'wonman': {'_Total': 1}, 'opendit': {'_Total': 1}, 'greted': {'_Total': 1}, 'crasy': {'_Total': 1}, 'patshes': {'_Total': 1}, 'misdop': {'_Total': 1}, 'distur': {'_Total': 1}, 'yevinif': {'_Total': 1}, 'balthey': {'_Total': 1}, 'mogelot': {'_Total': 1}, 'werl': {'_Total': 1}, 'gethere': {'_Total': 1}, 'hasbon': {'_Total': 1}, 'podrf': {'_Total': 1}, 'wlif': {'_Total': 1}, 'momby': {'_Total': 1}, 'liye': {'_Total': 1}, 'counte': {'_Total': 1}, 'gilikins': {'_Total': 1}, 'efra': {'_Total': 1}, 'muckh': {'_Total': 1}, 'laned': {'_Total': 1}, 'stardeid': {'_Total': 1}, 'insigt': {'_Total': 1}, 'houst': {'_Total': 2}, 'pipt': {'_Total': 1}, 'thothful': {'_Total': 1}, 'afi': {'_Total': 1}, 'lonmer': {'_Total': 1}, 'outsied': {'_Total': 1}, 'somply': {'_Total': 1}, 'insted': {'_Total': 1}, 'tornower': {'_Total': 1}, 'cof': {'_Total': 3}, 'trermged': {'_Total': 1}, 'penoutin': {'_Total': 1}, 'tronte': {'_Total': 1}, 'munchcin': {'_Total': 1}, 'placein': {'_Total': 1}, 'godjo': {'_Total': 1}, 'cuberd': {'_Total': 2}, 'lopen': {'_Total': 1}, 'servle': {'_Total': 1}, 'earsd': {'_Total': 1}, 'thismage': {'_Total': 1}, 'pothe': {'_Total': 1}, 'moled': {'_Total': 1}, 'tused': {'_Total': 1}, 'tosatis': {'_Total': 1}, 'mogalot': {'_Total': 1}, 'woneto': {'_Total': 1}, 'oftherong': {'_Total': 1}, 'ub': {'_Total': 1}, 'qrilt': {'_Total': 1}, 'ancolers': {'_Total': 1}, 'letly': {'_Total': 1}, 'soed': {'_Total': 1}, 'leaseing': {'_Total': 1}, 'ojol': {'_Total': 1}, 'simpa': {'_Total': 1}, 'thati': {'_Total': 1}, 'moge': {'_Total': 1}, 'nmad': {'_Total': 1}, 'pactht': {'_Total': 1}, 'quilet': {'_Total': 1}, 'scurt': {'_Total': 1}, 'appen': {'_Total': 1}, 'pockics': {'_Total': 1}, 'ateryal': {'_Total': 1}, 'herlot': {'_Total': 1}, 'labout': {'_Total': 1}, 'branns': {'_Total': 1}, 'contineud': {'_Total': 2}, 'quaeithes': {'_Total': 1}, 'naded': {'_Total': 1}, 'mettl': {'_Total': 1}, 'osed': {'_Total': 1}, 'porpisses': {'_Total': 1}, 'plible': {'_Total': 1}, 'reliefe': {'_Total': 1}, 'iwal': {'_Total': 1}, 'serted': {'_Total': 1}, 'magition': {'_Total': 1}, 'megition': {'_Total': 1}, 'goldind': {'_Total': 1}, 'spom': {'_Total': 1}, 'sconeful': {'_Total': 1}, 'exameng': {'_Total': 1}, 'contrivence': {'_Total': 1}, 'gread': {'_Total': 1}, 'magelot': {'_Total': 1}, 'tomuch': {'_Total': 1}, 'shurd': {'_Total': 1}, 'becone': {'_Total': 1}, 'pinden': {'_Total': 1}, 'abol': {'_Total': 1}, 'mageck': {'_Total': 1}, 'tecep': {'_Total': 1}, 'eusment': {'_Total': 1}, 'oapipt': {'_Total': 1}, 'snok': {'_Total': 1}, 'torditing': {'_Total': 1}, 'mokt': {'_Total': 1}, 'migition': {'_Total': 1}, 'conplement': {'_Total': 1}, 'contense': {'_Total': 1}, 'borled': {'_Total': 1}, 'leving': {'_Total': 1}, 'kettl': {'_Total': 1}, 'poder': {'_Total': 1}, 'dithis': {'_Total': 1}, 'poudere': {'_Total': 1}, 'womin': {'_Total': 3}, 'whec': {'_Total': 1}, 'duling': {'_Total': 1}, 'amentl': {'_Total': 1}, 'sactuary': {'_Total': 1}, 'gaden': {'_Total': 1}, 'soleckted': {'_Total': 1}, 'bottl': {'_Total': 1}, 'peper': {'_Total': 1}, 'sprincled': {'_Total': 1}, 'objecxt': {'_Total': 1}, 'odo': {'_Total': 1}, 'becime': {'_Total': 1}, 'oneasy': {'_Total': 1}, 'alreny': {'_Total': 1}, 'clevern': {'_Total': 1}, 'potder': {'_Total': 1}, 'comeforted': {'_Total': 1}, 'himsel': {'_Total': 1}, 'fith': {'_Total': 1}, 'etd': {'_Total': 2}, 'clevernes': {'_Total': 1}, 'yoran': {'_Total': 1}, 'neckin': {'_Total': 1}, 'sevel': {'_Total': 1}, 'wers': {'_Total': 2}, 'ustd': {'_Total': 1}, 'humeby': {'_Total': 1}, 'matiga': {'_Total': 1}, 'bentaking': {'_Total': 1}, 'glende': {'_Total': 1}, 'etting': {'_Total': 1}, 'prnty': {'_Total': 1}, 'gom': {'_Total': 1}, 'bealy': {'_Total': 1}, 'sorsores': {'_Total': 1}, 'quonnty': {'_Total': 1}, 'bottls': {'_Total': 1}, 'heletd': {'_Total': 1}, 'litet': {'_Total': 1}, 'kels': {'_Total': 1}, 'prihty': {'_Total': 1}, 'rongs': {'_Total': 1}, 'liverty': {'_Total': 1}, 'apsend': {'_Total': 1}, 'temttation': {'_Total': 1}, 'folems': {'_Total': 1}, 'wea': {'_Total': 2}, 'arht': {'_Total': 1}, 'foit': {'_Total': 2}, 'fathist': {'_Total': 1}, 'nimbl': {'_Total': 1}, 'harke': {'_Total': 1}, 'dofh': {'_Total': 1}, 'clatit': {'_Total': 1}, 'nevher': {'_Total': 1}, 'pearsdt': {'_Total': 1}, 'criste': {'_Total': 1}, 'deffendin': {'_Total': 1}, 'dolh': {'_Total': 1}, 'tled': {'_Total': 1}, 'thyf': {'_Total': 1}, 'parne': {'_Total': 1}, 'thoct': {'_Total': 1}, 'culs': {'_Total': 1}, 'noarck': {'_Total': 1}, 'muchd': {'_Total': 1}, 'erh': {'_Total': 1}, 'mond': {'_Total': 1}, 'reseding': {'_Total': 1}, 'elenmen': {'_Total': 1}, 'hety': {'_Total': 1}, 'ithes': {'_Total': 1}, 'winen': {'_Total': 1}, 'tuok': {'_Total': 1}, 'spo': {'_Total': 1}, 'obcevation': {'_Total': 1}, 'dudwis': {'_Total': 1}, 'nouto': {'_Total': 1}, 'mevely': {'_Total': 1}, 'laderan': {'_Total': 1}, 'eeming': {'_Total': 1}, 'plid': {'_Total': 2}, 'intristin': {'_Total': 1}, 'collitention': {'_Total': 1}, 'nanomas': {'_Total': 1}, 'proch': {'_Total': 1}, 'preockupid': {'_Total': 1}, 'quitad': {'_Total': 1}, 'groph': {'_Total': 1}, 'glihe': {'_Total': 1}, 'crlose': {'_Total': 1}, 'packit': {'_Total': 1}, 'hefins': {'_Total': 1}, 'dobris': {'_Total': 1}, 'lefore': {'_Total': 1}, 'indsiht': {'_Total': 1}, 'pittl': {'_Total': 1}, 'sercl': {'_Total': 1}, 'onf': {'_Total': 1}, 'nlighet': {'_Total': 1}, 'lanise': {'_Total': 1}, 'whasd': {'_Total': 1}, 'benfixed': {'_Total': 1}, 'tecos': {'_Total': 1}, 'conting': {'_Total': 1}, 'ficx': {'_Total': 1}, 'residencs': {'_Total': 1}, 'atravl': {'_Total': 1}, 'trolfeas': {'_Total': 1}, 'anod': {'_Total': 1}, 'meuvy': {'_Total': 1}, 'prced': {'_Total': 1}, 'sounde': {'_Total': 1}, 'somnded': {'_Total': 1}, 'strangge': {'_Total': 1}, 'becas': {'_Total': 2}, 'practiccrly': {'_Total': 1}, 'ralations': {'_Total': 1}, 'afasd': {'_Total': 1}, 'allhis': {'_Total': 1}, 'olmosd': {'_Total': 1}, 'howp': {'_Total': 1}, 'bende': {'_Total': 1}, 'trenty': {'_Total': 1}, 'griffein': {'_Total': 1}, 'rlitle': {'_Total': 1}, 'stinktly': {'_Total': 1}, 'nartife': {'_Total': 1}, 'axect': {'_Total': 1}, 'transxcript': {'_Total': 1}, 'isal': {'_Total': 1}, 'presm': {'_Total': 1}, 'lygove': {'_Total': 1}, 'neuvus': {'_Total': 1}, 'visionan': {'_Total': 1}, 'searious': {'_Total': 1}, 'dutes': {'_Total': 1}, 'mitl': {'_Total': 1}, 'reaaly': {'_Total': 1}, 'lolanus': {'_Total': 1}, \"ston'\": {'_Total': 1}, 'simte': {'_Total': 1}, 'hadent': {'_Total': 1}, 'culdse': {'_Total': 1}, 'greeoble': {'_Total': 1}, 'nowng': {'_Total': 1}, 'worthe': {'_Total': 1}, 'douglis': {'_Total': 1}, 'resente': {'_Total': 1}, 'scropls': {'_Total': 1}, 'lahtdy': {'_Total': 1}, 'governes': {'_Total': 1}, 'instoprem': {'_Total': 1}, 'ortgy': {'_Total': 1}, 'promused': {'_Total': 1}, 'momant': {'_Total': 1}, 'likind': {'_Total': 1}, 'departding': {'_Total': 1}, 'latie': {'_Total': 1}, 'depardetd': {'_Total': 1}, 'rangmens': {'_Total': 1}, 'smad': {'_Total': 1}, 'reand': {'_Total': 1}, 'oftury': {'_Total': 1}, 'ocity': {'_Total': 1}, 'prfestd': {'_Total': 1}, 'tuches': {'_Total': 1}, 'alrerdy': {'_Total': 1}, 'somemone': {'_Total': 1}, 'titelely': {'_Total': 1}, 'afective': {'_Total': 1}, 'folloing': {'_Total': 1}, 'anticipat': {'_Total': 1}, 'furst': {'_Total': 1}, 'vaed': {'_Total': 1}, 'ritind': {'_Total': 1}, 'staktment': {'_Total': 1}, 'howng': {'_Total': 2}, 'prompkt': {'_Total': 1}, 'howthink': {'_Total': 1}, 'reckod': {'_Total': 1}, 'anlo': {'_Total': 1}, 'louve': {'_Total': 1}, 'withn': {'_Total': 1}, 'turapli': {'_Total': 1}, 'dunblos': {'_Total': 1}, 'litturl': {'_Total': 1}, 'voldeir': {'_Total': 1}, 'pety': {'_Total': 1}, 'asd': {'_Total': 1}, 'problably': {'_Total': 1}, 'sectin': {'_Total': 1}, 'jifh': {'_Total': 1}, 'lastry': {'_Total': 1}, 'cingly': {'_Total': 1}, 'denk': {'_Total': 1}, 'wockt': {'_Total': 1}, 'gofht': {'_Total': 1}, 'greang': {'_Total': 1}, 'colit': {'_Total': 1}, 'propaed': {'_Total': 1}, 'poivint': {'_Total': 1}, 'noxit': {'_Total': 1}, 'woled': {'_Total': 1}, 'muh': {'_Total': 1}, 'prazeis': {'_Total': 1}, 'nade': {'_Total': 1}, 'fenc': {'_Total': 1}, 'chane': {'_Total': 1}, 'olr': {'_Total': 1}, 'noly': {'_Total': 1}, 'acsidense': {'_Total': 1}, 'kepin': {'_Total': 1}, 'trict': {'_Total': 1}, 'haneed': {'_Total': 1}, 'sacrd': {'_Total': 1}, 'aoltring': {'_Total': 1}, 'thingse': {'_Total': 1}, 'fering': {'_Total': 1}, 'timees': {'_Total': 2}, 'tarny': {'_Total': 2}, 'lobhe': {'_Total': 1}, 'sirtinty': {'_Total': 1}, 'restd': {'_Total': 1}, 'luvas': {'_Total': 1}, 'gev': {'_Total': 1}, 'retrne': {'_Total': 1}, 'robukt': {'_Total': 1}, 'nestic': {'_Total': 1}, 'cebl': {'_Total': 1}, 'mencs': {'_Total': 1}, 'inlist': {'_Total': 1}, 'solgers': {'_Total': 1}, 'poperla': {'_Total': 1}, 'trivens': {'_Total': 1}, 'weby': {'_Total': 1}, 'lovf': {'_Total': 2}, 'buht': {'_Total': 2}, 'agegre': {'_Total': 1}, 'wistdem': {'_Total': 1}, 'godplace': {'_Total': 1}, 'trerbl': {'_Total': 1}, 'hippucrit': {'_Total': 1}, 'deler': {'_Total': 1}, 'orfalts': {'_Total': 1}, 'agest': {'_Total': 1}, 'dolas': {'_Total': 1}, 'weting': {'_Total': 1}, 'husy': {'_Total': 1}, 'husbend': {'_Total': 2}, 'thenecx': {'_Total': 1}, 'tirse': {'_Total': 1}, 'prodect': {'_Total': 1}, 'tirmlus': {'_Total': 1}, 'bastger': {'_Total': 1}, 'guverment': {'_Total': 1}, 'menistur': {'_Total': 1}, 'oxelpt': {'_Total': 1}, 'offece': {'_Total': 1}, 'ordet': {'_Total': 1}, 'tugaind': {'_Total': 1}, 'noto': {'_Total': 1}, 'lasd': {'_Total': 1}, 'crist': {'_Total': 4}, 'behtuss': {'_Total': 1}, 'sighe': {'_Total': 1}, 'porpise': {'_Total': 1}, 'upesstle': {'_Total': 1}, 'caffe': {'_Total': 1}, 'preche': {'_Total': 1}, 'docttrim': {'_Total': 1}, 'govd': {'_Total': 1}, 'prnces': {'_Total': 1}, 'bishoups': {'_Total': 1}, 'docters': {'_Total': 1}, 'arians': {'_Total': 1}, 'supperer': {'_Total': 1}, 'emento': {'_Total': 1}, 'creded': {'_Total': 1}, 'heavin': {'_Total': 1}, 'annerth': {'_Total': 1}, 'jesesus': {'_Total': 1}, 'mself': {'_Total': 1}, 'possiol': {'_Total': 1}, 'brietin': {'_Total': 1}, 'pece': {'_Total': 7}, 'semtince': {'_Total': 1}, 'alsot': {'_Total': 1}, 'efines': {'_Total': 1}, 'greatin': {'_Total': 1}, 'sintl': {'_Total': 1}, 'sinm': {'_Total': 1}, 'tks': {'_Total': 1}, 'pritdin': {'_Total': 1}, 'menistry': {'_Total': 1}, 'frese': {'_Total': 1}, 'praceof': {'_Total': 1}, 'relise': {'_Total': 1}, 'imporice': {'_Total': 1}, 'appostle': {'_Total': 1}, 'setera': {'_Total': 1}, 'vicios': {'_Total': 1}, 'hinself': {'_Total': 2}, 'bretren': {'_Total': 1}, 'apistle': {'_Total': 1}, 'fallors': {'_Total': 1}, 'apostl': {'_Total': 1}, 'vurs': {'_Total': 1}, 'erfh': {'_Total': 1}, 'lhive': {'_Total': 1}, 'sufferd': {'_Total': 1}, 'crufid': {'_Total': 1}, 'cuerly': {'_Total': 1}, 'beforus': {'_Total': 1}, 'fastin': {'_Total': 1}, 'whoraset': {'_Total': 1}, 'godnes': {'_Total': 1}, 'tulrty': {'_Total': 1}, 'naturoe': {'_Total': 1}, 'prfound': {'_Total': 1}, 'givemn': {'_Total': 1}, 'reasan': {'_Total': 1}, 'bretrn': {'_Total': 1}, 'apostls': {'_Total': 1}, 'erkt': {'_Total': 1}, 'atituds': {'_Total': 1}, 'springcs': {'_Total': 1}, 'ofals': {'_Total': 1}, 'conseption': {'_Total': 1}, 'bygold': {'_Total': 1}, 'godlit': {'_Total': 1}, 'contioncs': {'_Total': 1}, 'beporn': {'_Total': 1}, 'cricet': {'_Total': 2}, 'arsins': {'_Total': 1}, 'hally': {'_Total': 1}, 'anticrstd': {'_Total': 1}, 'experingces': {'_Total': 1}, 'criset': {'_Total': 5}, 'onself': {'_Total': 1}, 'trth': {'_Total': 1}, 'aperen': {'_Total': 1}, 'devime': {'_Total': 1}, 'eacully': {'_Total': 1}, 'pordos': {'_Total': 1}, 'greaced': {'_Total': 1}, 'dottone': {'_Total': 1}, 'fahtd': {'_Total': 1}, 'cirs': {'_Total': 1}, 'taid': {'_Total': 1}, 'certinty': {'_Total': 1}, 'nobety': {'_Total': 1}, 'anderstod': {'_Total': 1}, 'spircs': {'_Total': 1}, 'boste': {'_Total': 1}, 'branse': {'_Total': 1}, 'pernissios': {'_Total': 1}, 'doctren': {'_Total': 2}, 'regarmis': {'_Total': 1}, 'apin': {'_Total': 1}, 'hommetd': {'_Total': 1}, 'alsu': {'_Total': 1}, 'hily': {'_Total': 2}, 'crmerat': {'_Total': 1}, 'esmiss': {'_Total': 1}, 'preverders': {'_Total': 1}, 'lechio': {'_Total': 1}, 'lighe': {'_Total': 1}, 'spechulah': {'_Total': 1}, 'spols': {'_Total': 1}, 'whele': {'_Total': 1}, 'anmece': {'_Total': 1}, 'gospl': {'_Total': 1}, 'cristions': {'_Total': 1}, 'eit': {'_Total': 1}, 'ministurst': {'_Total': 1}, 'dereckly': {'_Total': 1}, 'prophits': {'_Total': 1}, 'apastls': {'_Total': 1}, 'thelis': {'_Total': 1}, 'togethere': {'_Total': 3}, 'megur': {'_Total': 1}, 'infren': {'_Total': 1}, 'itmagisty': {'_Total': 1}, 'fals': {'_Total': 3}, 'apoustles': {'_Total': 1}, 'calld': {'_Total': 1}, 'meatere': {'_Total': 1}, 'reanc': {'_Total': 1}, 'inbrace': {'_Total': 1}, 'reserrection': {'_Total': 1}, 'cristt': {'_Total': 1}, 'victrry': {'_Total': 1}, 'deble': {'_Total': 1}, 'meather': {'_Total': 1}, 'heur': {'_Total': 2}, 'crised': {'_Total': 1}, 'apponted': {'_Total': 1}, 'devine': {'_Total': 1}, 'teatur': {'_Total': 1}, 'glations': {'_Total': 1}, 'prverded': {'_Total': 1}, 'nouts': {'_Total': 1}, 'oposstles': {'_Total': 1}, 'agence': {'_Total': 1}, 'bostin': {'_Total': 1}, 'falss': {'_Total': 1}, 'upostles': {'_Total': 1}, 'lle': {'_Total': 1}, 'defenc': {'_Total': 1}, 'aforty': {'_Total': 1}, 'inbals': {'_Total': 1}, 'consioncs': {'_Total': 1}, 'obtaine': {'_Total': 1}, 'remistion': {'_Total': 1}, 'underscor': {'_Total': 1}, 'contincss': {'_Total': 1}, 'beto': {'_Total': 1}, 'fromor': {'_Total': 2}, 'trums': {'_Total': 1}, 'canot': {'_Total': 2}, 'contammini': {'_Total': 1}, 'possls': {'_Total': 1}, 'becasther': {'_Total': 1}, 'besto': {'_Total': 1}, 'probencs': {'_Total': 1}, 'bplessens': {'_Total': 1}, 'atitur': {'_Total': 1}, 'prtixery': {'_Total': 1}, 'veife': {'_Total': 1}, 'themsells': {'_Total': 1}, 'beuter': {'_Total': 1}, 'nothers': {'_Total': 1}, 'comfore': {'_Total': 1}, 'apommer': {'_Total': 1}, 'golldher': {'_Total': 1}, 'passial': {'_Total': 1}, 'harth': {'_Total': 1}, 'persecutid': {'_Total': 1}, 'phises': {'_Total': 1}, 'knowidge': {'_Total': 1}, 'enouth': {'_Total': 1}, 'apossl': {'_Total': 1}, 'refressin': {'_Total': 1}, 'golations': {'_Total': 2}, 'makeng': {'_Total': 1}, 'tretes': {'_Total': 1}, 'resrection': {'_Total': 1}, 'clase': {'_Total': 1}, 'superflus': {'_Total': 1}, 'wure': {'_Total': 1}, 'dison': {'_Total': 1}, 'antir': {'_Total': 1}, 'gared': {'_Total': 1}, 'soterble': {'_Total': 1}, 'despar': {'_Total': 1}, 'clim': {'_Total': 1}, 'peperinin': {'_Total': 1}, 'remarkt': {'_Total': 1}, 'cerkl': {'_Total': 1}, 'difir': {'_Total': 1}, 'aboutet': {'_Total': 1}, 'worvds': {'_Total': 1}, 'theasetre': {'_Total': 1}, 'lecturs': {'_Total': 2}, 'istimes': {'_Total': 1}, 'puparod': {'_Total': 1}, 'hapbus': {'_Total': 1}, 'jenneral': {'_Total': 1}, 'condenced': {'_Total': 1}, 'promited': {'_Total': 1}, 'wethere': {'_Total': 1}, 'amaricon': {'_Total': 1}, 'streme': {'_Total': 1}, 'soi': {'_Total': 2}, 'yoae': {'_Total': 1}, 'peaple': {'_Total': 2}, 'arout': {'_Total': 1}, 'luteren': {'_Total': 1}, 'tolwit': {'_Total': 1}, 'beny': {'_Total': 1}, 'merikance': {'_Total': 1}, 'saitd': {'_Total': 1}, 'lethers': {'_Total': 2}, 'comminter': {'_Total': 1}, 'ingelations': {'_Total': 1}, 'uspoer': {'_Total': 1}, 'malsol': {'_Total': 1}, 'givus': {'_Total': 1}, 'servf': {'_Total': 1}, 'comentery': {'_Total': 1}, 'galations': {'_Total': 1}, 'presens': {'_Total': 1}, 'retins': {'_Total': 1}, 'cristiue': {'_Total': 1}, 'anoty': {'_Total': 1}, 'literery': {'_Total': 1}, 'taskk': {'_Total': 1}, 'opresseve': {'_Total': 1}, 'elliss': {'_Total': 1}, 'agand': {'_Total': 1}, 'pisling': {'_Total': 1}, 'cirten': {'_Total': 1}, 'offent': {'_Total': 1}, 'comlo': {'_Total': 1}, 'ageam': {'_Total': 1}, 'demr': {'_Total': 1}, 'aice': {'_Total': 1}, 'triy': {'_Total': 1}, 'thinge': {'_Total': 1}, 'oed': {'_Total': 1}, 'derections': {'_Total': 1}, 'wollook': {'_Total': 1}, 'thetime': {'_Total': 2}, 'tockeg': {'_Total': 1}, 'quer': {'_Total': 3}, 'evrythin': {'_Total': 1}, 'cjust': {'_Total': 1}, 'usul': {'_Total': 1}, 'ip': {'_Total': 2}, 'boutit': {'_Total': 2}, 'mabl': {'_Total': 1}, 'wolt': {'_Total': 1}, 'abot': {'_Total': 2}, 'shalbe': {'_Total': 1}, 'swhemming': {'_Total': 1}, 'gotto': {'_Total': 1}, 'cqinty': {'_Total': 1}, 'sherflly': {'_Total': 1}, 'grien': {'_Total': 1}, 'sprd': {'_Total': 1}, 'fisthes': {'_Total': 1}, 'wiot': {'_Total': 1}, 'getly': {'_Total': 1}, 'thingh': {'_Total': 1}, 'ravit': {'_Total': 2}, 'returnin': {'_Total': 1}, 'pirf': {'_Total': 1}, 'ckid': {'_Total': 1}, 'glvse': {'_Total': 1}, 'hina': {'_Total': 1}, 'trotding': {'_Total': 1}, 'metterin': {'_Total': 1}, 'toomself': {'_Total': 1}, 'ecain': {'_Total': 1}, 'duius': {'_Total': 1}, 'dechis': {'_Total': 1}, 'thike': {'_Total': 1}, 'feing': {'_Total': 2}, 'whishsh': {'_Total': 1}, 'swem': {'_Total': 1}, 'atmisfer': {'_Total': 1}, 'conditiong': {'_Total': 1}, 'monces': {'_Total': 1}, 'stensity': {'_Total': 1}, 'storn': {'_Total': 1}, 'clid': {'_Total': 1}, 'porining': {'_Total': 1}, 'herion': {'_Total': 1}, 'senm': {'_Total': 2}, 'croud': {'_Total': 2}, 'wergoine': {'_Total': 1}, 'cushd': {'_Total': 1}, 'suffercating': {'_Total': 1}, 'smill': {'_Total': 1}, 'mitugen': {'_Total': 1}, 'lons': {'_Total': 1}, 'isper': {'_Total': 1}, 'vapers': {'_Total': 1}, 'prvated': {'_Total': 1}, 'saling': {'_Total': 1}, 'wille': {'_Total': 1}, 'safist': {'_Total': 1}, 'noin': {'_Total': 2}, 'vilincs': {'_Total': 1}, 'redobls': {'_Total': 1}, 'tempicet': {'_Total': 1}, 'capsis': {'_Total': 1}, 'amomen': {'_Total': 1}, 'glids': {'_Total': 1}, 'itis': {'_Total': 1}, 'rihe': {'_Total': 3}, 'idstemp': {'_Total': 1}, 'thencs': {'_Total': 2}, 'lagtly': {'_Total': 1}, 'leaes': {'_Total': 1}, 'prvasion': {'_Total': 1}, 'bhah': {'_Total': 1}, 'skemes': {'_Total': 1}, 'horbl': {'_Total': 1}, 'thepodot': {'_Total': 1}, 'mipers': {'_Total': 1}, 'contenston': {'_Total': 1}, 'puit': {'_Total': 1}, 'ingda': {'_Total': 1}, 'coninsation': {'_Total': 1}, 'rousis': {'_Total': 1}, 'knods': {'_Total': 1}, 'rafpt': {'_Total': 1}, 'sofh': {'_Total': 2}, 'lurd': {'_Total': 1}, 'contil': {'_Total': 1}, 'evllition': {'_Total': 1}, 'componit': {'_Total': 1}, 'moletulls': {'_Total': 1}, 'omentcs': {'_Total': 1}, 'moshtur': {'_Total': 1}, 'colloms': {'_Total': 1}, 'whatter': {'_Total': 1}, 'wresh': {'_Total': 1}, 'fupplrts': {'_Total': 1}, 'wighte': {'_Total': 1}, 'fle': {'_Total': 1}, 'tuf': {'_Total': 1}, 'sonm': {'_Total': 1}, 'glemng': {'_Total': 1}, 'dantes': {'_Total': 1}, 'grayy': {'_Total': 1}, 'losis': {'_Total': 1}, 'shoule': {'_Total': 1}, 'testerios': {'_Total': 1}, 'membly': {'_Total': 1}, 'aporchis': {'_Total': 1}, 'ficis': {'_Total': 1}, 'sedily': {'_Total': 1}, 'oncl': {'_Total': 1}, 'bho': {'_Total': 1}, 'mees': {'_Total': 1}, 'voidit': {'_Total': 1}, 'abof': {'_Total': 1}, 'terrm': {'_Total': 1}, 'firvall': {'_Total': 1}, 'aszur': {'_Total': 1}, 'tatemt': {'_Total': 1}, 'solyt': {'_Total': 1}, 'wrer': {'_Total': 3}, 'boting': {'_Total': 1}, 'stotitiong': {'_Total': 1}, 'folossiy': {'_Total': 1}, 'prownd': {'_Total': 1}, 'alraty': {'_Total': 1}, 'alammenti': {'_Total': 1}, 'awils': {'_Total': 1}, 'scarcetly': {'_Total': 1}, 'caneetreat': {'_Total': 1}, 'curtn': {'_Total': 2}, 'trokt': {'_Total': 1}, 'terer': {'_Total': 1}, 'elontes': {'_Total': 1}, 'evedently': {'_Total': 1}, 'lectriscity': {'_Total': 1}, 'refir': {'_Total': 1}, 'themomeer': {'_Total': 1}, 'icates': {'_Total': 1}, 'worings': {'_Total': 1}, 'somepare': {'_Total': 1}, 'aquire': {'_Total': 1}, 'strenthe': {'_Total': 1}, 'resofar': {'_Total': 1}, 'winde': {'_Total': 2}, 'ression': {'_Total': 1}, 'agus': {'_Total': 2}, 'sixtenth': {'_Total': 1}, 'mosters': {'_Total': 1}, 'comotiont': {'_Total': 1}, 'reptels': {'_Total': 1}, 'prmiti': {'_Total': 1}, 'wirled': {'_Total': 1}, 'remembrece': {'_Total': 1}, 'mebout': {'_Total': 1}, 'prospecs': {'_Total': 1}, 'tinme': {'_Total': 2}, 'facktias': {'_Total': 1}, 'rve': {'_Total': 1}, 'llil': {'_Total': 1}, 'opor': {'_Total': 1}, 'iththy': {'_Total': 1}, 'submering': {'_Total': 1}, 'norason': {'_Total': 1}, 'tusday': {'_Total': 1}, 'seterna': {'_Total': 1}, 'agis': {'_Total': 2}, 'fiften': {'_Total': 1}, 'bokin': {'_Total': 1}, 'prfesser': {'_Total': 2}, 'repktis': {'_Total': 1}, 'ratpt': {'_Total': 1}, 'repotidy': {'_Total': 1}, 'expres': {'_Total': 1}, 'trints': {'_Total': 1}, 'atious': {'_Total': 1}, 'ukl': {'_Total': 1}, 'continely': {'_Total': 1}, 'oers': {'_Total': 1}, 'terble': {'_Total': 1}, 'woeme': {'_Total': 1}, 'infinit': {'_Total': 1}, 'shatl': {'_Total': 1}, 'clerly': {'_Total': 1}, 'serfecs': {'_Total': 1}, 'osorus': {'_Total': 1}, 'gloling': {'_Total': 1}, 'dangur': {'_Total': 1}, 'sufferins': {'_Total': 2}, 'meaded': {'_Total': 1}, 'strek': {'_Total': 1}, 'oparck': {'_Total': 1}, 'othir': {'_Total': 1}, 'resame': {'_Total': 1}, 'profeser': {'_Total': 1}, 'apinento': {'_Total': 1}, 'iumi': {'_Total': 1}, 'acter': {'_Total': 1}, 'havin': {'_Total': 1}, 'exanth': {'_Total': 1}, 'trversed': {'_Total': 1}, 'otiont': {'_Total': 1}, 'creaturse': {'_Total': 1}, 'greatus': {'_Total': 1}, 'aniamocity': {'_Total': 1}, 'oasors': {'_Total': 1}, 'plesi': {'_Total': 1}, 'sors': {'_Total': 1}, 'sappear': {'_Total': 1}, 'belo': {'_Total': 1}, 'worpo': {'_Total': 1}, 'etying': {'_Total': 1}, 'nowtin': {'_Total': 1}, 'piched': {'_Total': 1}, 'iggan': {'_Total': 1}, 'distences': {'_Total': 1}, 'hrison': {'_Total': 1}, 'tiking': {'_Total': 2}, 'nokt': {'_Total': 1}, 'slol': {'_Total': 1}, 'bput': {'_Total': 1}, 'myse': {'_Total': 1}, 'skiliten': {'_Total': 1}, 'creaturs': {'_Total': 1}, 'linth': {'_Total': 1}, 'scarcs': {'_Total': 1}, 'comn': {'_Total': 2}, 'sevvle': {'_Total': 1}, 'orer': {'_Total': 2}, 'mormes': {'_Total': 1}, 'couoding': {'_Total': 1}, 'naturlust': {'_Total': 1}, 'arme': {'_Total': 2}, 'henrd': {'_Total': 1}, 'aty': {'_Total': 1}, 'teteh': {'_Total': 1}, 'impationce': {'_Total': 1}, 'lanic': {'_Total': 1}, 'fateh': {'_Total': 1}, 'mounteins': {'_Total': 1}, 'stebhen': {'_Total': 1}, 'droing': {'_Total': 1}, 'scribler': {'_Total': 1}, 'lisened': {'_Total': 1}, 'heran': {'_Total': 2}, 'checket': {'_Total': 1}, 'vever': {'_Total': 1}, 'impeld': {'_Total': 1}, 'wishd': {'_Total': 1}, 'stepends': {'_Total': 1}, 'witthering': {'_Total': 1}, 'beniker': {'_Total': 1}, 'hosesd': {'_Total': 1}, 'cromble': {'_Total': 1}, 'crouption': {'_Total': 1}, 'concecrated': {'_Total': 1}, 'speces': {'_Total': 1}, 'lamen': {'_Total': 1}, 'tized': {'_Total': 1}, 'recter': {'_Total': 2}, 'caticcism': {'_Total': 2}, 'lesin': {'_Total': 1}, 'howi': {'_Total': 1}, 'itha': {'_Total': 1}, 'stildond': {'_Total': 1}, 'yuf': {'_Total': 1}, 'yusd': {'_Total': 1}, 'emast': {'_Total': 1}, 'fortion': {'_Total': 2}, 'togive': {'_Total': 1}, 'poun': {'_Total': 1}, 'anoly': {'_Total': 1}, 'thepond': {'_Total': 1}, 'inpresta': {'_Total': 1}, 'cruing': {'_Total': 1}, 'opotit': {'_Total': 1}, 'houe': {'_Total': 1}, 'claspe': {'_Total': 1}, 'givento': {'_Total': 1}, 'flad': {'_Total': 1}, 'wearilly': {'_Total': 1}, 'mesure': {'_Total': 1}, 'actul': {'_Total': 1}, 'beatitod': {'_Total': 1}, 'promses': {'_Total': 1}, 'hevento': {'_Total': 1}, 'secint': {'_Total': 1}, 'prommus': {'_Total': 1}, 'shepoes': {'_Total': 1}, 'ennis': {'_Total': 1}, 'haveba': {'_Total': 1}, 'regared': {'_Total': 1}, 'mivd': {'_Total': 1}, 'stranege': {'_Total': 1}, 'loing': {'_Total': 1}, 'fintly': {'_Total': 1}, 'fral': {'_Total': 1}, 'hemeliate': {'_Total': 1}, 'siner': {'_Total': 2}, 'wwo': {'_Total': 1}, 'prohd': {'_Total': 1}, 'nerer': {'_Total': 2}, 'recaled': {'_Total': 1}, 'shelys': {'_Total': 1}, 'ondering': {'_Total': 1}, 'companeles': {'_Total': 1}, 'weringnes': {'_Total': 2}, 'xaver': {'_Total': 2}, 'ofmaking': {'_Total': 1}, 'retret': {'_Total': 1}, 'woill': {'_Total': 1}, 'santk': {'_Total': 1}, 'fances': {'_Total': 1}, 'xa': {'_Total': 1}, 'hls': {'_Total': 1}, 'feaset': {'_Total': 1}, 'sater': {'_Total': 1}, 'cilencs': {'_Total': 1}, 'candoletd': {'_Total': 1}, 'depining': {'_Total': 1}, 'scolrom': {'_Total': 1}, 'coverdover': {'_Total': 1}, 'plasur': {'_Total': 1}, 'folllling': {'_Total': 1}, 'riged': {'_Total': 1}, 'doctrncs': {'_Total': 1}, 'panthe': {'_Total': 1}, 'curof': {'_Total': 1}, 'silenses': {'_Total': 1}, 'seterdy': {'_Total': 1}, 'sodelitty': {'_Total': 1}, 'metd': {'_Total': 1}, 'chapple': {'_Total': 1}, 'resightd': {'_Total': 1}, 'cuitiond': {'_Total': 1}, 'meling': {'_Total': 1}, 'alterf': {'_Total': 1}, 'whach': {'_Total': 2}, 'obose': {'_Total': 1}, 'thoou': {'_Total': 1}, 'resxponces': {'_Total': 1}, 'frida': {'_Total': 1}, 'sactemen': {'_Total': 1}, 'yucrest': {'_Total': 1}, 'speates': {'_Total': 1}, 'cick': {'_Total': 2}, 'bencgh': {'_Total': 1}, 'beurged': {'_Total': 1}, 'stepen': {'_Total': 1}, 'iad': {'_Total': 1}, 'questin': {'_Total': 1}, 'postle': {'_Total': 1}, 'indes': {'_Total': 1}, 'hopetd': {'_Total': 1}, 'ferdinner': {'_Total': 1}, 'turneps': {'_Total': 1}, 'caritsand': {'_Total': 1}, 'brusd': {'_Total': 1}, 'butadows': {'_Total': 1}, 'muten': {'_Total': 1}, 'peaes': {'_Total': 1}, 'peperd': {'_Total': 1}, 'fatand': {'_Total': 1}, 'bertiyy': {'_Total': 1}, 'locid': {'_Total': 1}, 'indifferencs': {'_Total': 1}, 'raned': {'_Total': 1}, 'itinguished': {'_Total': 1}, 'diffornt': {'_Total': 1}, 'nowledge': {'_Total': 2}, 'lihth': {'_Total': 1}, 'fhel': {'_Total': 1}, 'vanthy': {'_Total': 1}, 'appon': {'_Total': 1}, 'gandt': {'_Total': 1}, 'tospread': {'_Total': 1}, 'lidning': {'_Total': 1}, 'sengencs': {'_Total': 1}, 'sante': {'_Total': 2}, 'jamed': {'_Total': 1}, 'agencst': {'_Total': 1}, 'commanment': {'_Total': 1}, 'samne': {'_Total': 1}, 'swol': {'_Total': 1}, 'prae': {'_Total': 1}, 'darcnes': {'_Total': 1}, 'staktd': {'_Total': 1}, 'pasd': {'_Total': 1}, 'claspke': {'_Total': 1}, 'questins': {'_Total': 1}, 'dedelus': {'_Total': 1}, 'fale': {'_Total': 1}, 'yela': {'_Total': 1}, 'lihe': {'_Total': 1}, 'squallled': {'_Total': 1}, 'quorter': {'_Total': 1}, 'brofls': {'_Total': 1}, 'freancis': {'_Total': 1}, 'counsled': {'_Total': 1}, 'harminized': {'_Total': 1}, 'diding': {'_Total': 1}, 'poris': {'_Total': 1}, 'plenges': {'_Total': 1}, 'ruf': {'_Total': 1}, 'soping': {'_Total': 1}, 'sprambled': {'_Total': 1}, 'cremed': {'_Total': 1}, 'wefh': {'_Total': 1}, 'acardl': {'_Total': 1}, 'ckefh': {'_Total': 1}, 'stefanos': {'_Total': 1}, 'dedalos': {'_Total': 1}, 'voriging': {'_Total': 1}, 'acrost': {'_Total': 2}, 'desercs': {'_Total': 1}, 'scie': {'_Total': 1}, 'poaiging': {'_Total': 1}, 'irland': {'_Total': 1}, 'setisfaction': {'_Total': 1}, 'upplifted': {'_Total': 1}, 'pary': {'_Total': 1}, 'idlfr': {'_Total': 1}, 'jenerus': {'_Total': 1}, 'tordce': {'_Total': 1}, 'tellimsef': {'_Total': 1}, 'ifthe': {'_Total': 1}, 'canme': {'_Total': 1}, 'strie': {'_Total': 2}, 'beatin': {'_Total': 1}, 'andid': {'_Total': 1}, 'begers': {'_Total': 1}, 'wult': {'_Total': 1}, 'lrobing': {'_Total': 1}, 'selvs': {'_Total': 1}, 'olff': {'_Total': 1}, 'rupply': {'_Total': 1}, 'wakking': {'_Total': 1}, 'rapily': {'_Total': 1}, 'shre': {'_Total': 1}, 'mikt': {'_Total': 2}, 'coledien': {'_Total': 1}, 'momencs': {'_Total': 1}, 'pulee': {'_Total': 1}, 'berck': {'_Total': 1}, 'facis': {'_Total': 2}, 'pastom': {'_Total': 1}, 'orlived': {'_Total': 1}, 'strilved': {'_Total': 1}, 'mok': {'_Total': 2}, 'stangd': {'_Total': 1}, 'persionl': {'_Total': 2}, 'shamebant': {'_Total': 1}, 'commeseration': {'_Total': 1}, 'rosd': {'_Total': 1}, 'piity': {'_Total': 1}, 'contrit': {'_Total': 1}, 'sitmight': {'_Total': 1}, 'ritur': {'_Total': 1}, 'trbut': {'_Total': 1}, 'divotion': {'_Total': 1}, 'hias': {'_Total': 1}, 'gibft': {'_Total': 1}, 'laber': {'_Total': 1}, 'taderation': {'_Total': 1}, 'rfused': {'_Total': 1}, 'stepanos': {'_Total': 1}, 'comems': {'_Total': 1}, 'detelus': {'_Total': 1}, 'yurof': {'_Total': 1}, 'beond': {'_Total': 1}, 'yure': {'_Total': 1}, 'valad': {'_Total': 1}, 'adeld': {'_Total': 1}, 'trenchd': {'_Total': 1}, 'marfuld': {'_Total': 1}, 'caling': {'_Total': 1}, 'omeld': {'_Total': 1}, 'gosed': {'_Total': 1}, 'intindt': {'_Total': 1}, 'kindem': {'_Total': 1}, 'hease': {'_Total': 1}, 'rapp': {'_Total': 1}, 'hivll': {'_Total': 1}, 'bitering': {'_Total': 1}, 'finmly': {'_Total': 1}, 'arut': {'_Total': 1}, 'pastion': {'_Total': 1}, 'commadmit': {'_Total': 1}, 'oflove': {'_Total': 1}, 'baydes': {'_Total': 1}, 'arsevs': {'_Total': 1}, 'intencity': {'_Total': 1}, 'oselvs': {'_Total': 1}, 'kined': {'_Total': 2}, 'culd': {'_Total': 1}, 'wahte': {'_Total': 1}, 'collurs': {'_Total': 1}, 'univercity': {'_Total': 1}, 'repelent': {'_Total': 1}, 'pitye': {'_Total': 1}, 'nakednes': {'_Total': 1}, 'triet': {'_Total': 1}, 'hidtis': {'_Total': 1}, 'sworing': {'_Total': 1}, 'ofder': {'_Total': 1}, 'oflection': {'_Total': 1}, 'terind': {'_Total': 1}, 'tophevy': {'_Total': 1}, 'humbl': {'_Total': 1}, 'ligkt': {'_Total': 1}, 'blostly': {'_Total': 1}, 'haingd': {'_Total': 1}, 'cairicul': {'_Total': 1}, 'clodts': {'_Total': 1}, 'hikee': {'_Total': 1}, 'anable': {'_Total': 1}, 'decied': {'_Total': 1}, 'sholed': {'_Total': 1}, 'yane': {'_Total': 1}, 'mearecon': {'_Total': 1}, 'sofortion': {'_Total': 1}, 'opheng': {'_Total': 1}, 'suptest': {'_Total': 1}, 'herison': {'_Total': 1}, 'attin': {'_Total': 2}, 'lriding': {'_Total': 1}, 'fhilipk': {'_Total': 1}, 'importtint': {'_Total': 1}, 'thoutten': {'_Total': 1}, 'frens': {'_Total': 2}, 'welan': {'_Total': 1}, 'descever': {'_Total': 1}, 'practil': {'_Total': 1}, 'wordh': {'_Total': 1}, 'whyl': {'_Total': 1}, 'qlimt': {'_Total': 1}, 'epirk': {'_Total': 1}, 'inveriebly': {'_Total': 1}, 'tno': {'_Total': 1}, 'saitdl': {'_Total': 1}, 'distest': {'_Total': 1}, 'neu': {'_Total': 1}, 'marn': {'_Total': 1}, 'atamed': {'_Total': 1}, 'recting': {'_Total': 1}, 'pussistes': {'_Total': 1}, 'afoin': {'_Total': 1}, 'andpbing': {'_Total': 1}, 'fiurs': {'_Total': 1}, 'somtims': {'_Total': 1}, 'thoh': {'_Total': 1}, 'gostl': {'_Total': 1}, 'whuol': {'_Total': 1}, 'benobl': {'_Total': 1}, 'meself': {'_Total': 1}, 'ommiti': {'_Total': 1}, 'nated': {'_Total': 1}, 'retion': {'_Total': 1}, 'nighten': {'_Total': 1}, 'woths': {'_Total': 1}, 'blgl': {'_Total': 1}, 'opnites': {'_Total': 1}, 'afrae': {'_Total': 1}, 'whisan': {'_Total': 1}, 'dorong': {'_Total': 1}, 'convintion': {'_Total': 1}, 'insesion': {'_Total': 1}, 'mek': {'_Total': 1}, 'scech': {'_Total': 1}, 'wimin': {'_Total': 1}, 'plut': {'_Total': 1}, 'eteber': {'_Total': 1}, 'finme': {'_Total': 1}, 'seewach': {'_Total': 1}, 'yuld': {'_Total': 1}, 'nengmer': {'_Total': 1}, 'somwher': {'_Total': 1}, 'frontere': {'_Total': 1}, 'trditions': {'_Total': 2}, 'bined': {'_Total': 1}, 'hime': {'_Total': 1}, 'imfals': {'_Total': 1}, 'brak': {'_Total': 1}, 'awaf': {'_Total': 1}, 'opcepation': {'_Total': 1}, 'makekan': {'_Total': 1}, 'librariy': {'_Total': 1}, 'thelop': {'_Total': 1}, 'aford': {'_Total': 1}, 'routd': {'_Total': 1}, 'pluit': {'_Total': 1}, 'ipcl': {'_Total': 1}, 'sceme': {'_Total': 1}, 'wiuve': {'_Total': 1}, 'tofel': {'_Total': 1}, 'hur': {'_Total': 1}, 'thotes': {'_Total': 1}, 'telow': {'_Total': 1}, 'wlikh': {'_Total': 1}, 'frst': {'_Total': 1}, 'tapon': {'_Total': 1}, 'ofcemen': {'_Total': 1}, 'scilfl': {'_Total': 1}, 'manige': {'_Total': 1}, 'greatmes': {'_Total': 1}, 'enpidition': {'_Total': 1}, 'whichtin': {'_Total': 1}, 'itstrane': {'_Total': 1}, 'docter': {'_Total': 3}, 'helof': {'_Total': 1}, 'deligitly': {'_Total': 1}, 'litterry': {'_Total': 1}, 'nerist': {'_Total': 1}, 'ganus': {'_Total': 1}, 'weldy': {'_Total': 1}, 'bactid': {'_Total': 1}, 'largnaf': {'_Total': 1}, 'dingne': {'_Total': 1}, 'shaed': {'_Total': 1}, 'youar': {'_Total': 1}, 'thal': {'_Total': 1}, 'acontiecs': {'_Total': 1}, 'mbition': {'_Total': 1}, 'yusly': {'_Total': 1}, 'shollo': {'_Total': 1}, 'fronher': {'_Total': 1}, 'savig': {'_Total': 1}, 'scity': {'_Total': 1}, 'anbeins': {'_Total': 1}, 'veaver': {'_Total': 1}, 'adventiur': {'_Total': 1}, 'ofpis': {'_Total': 1}, 'opprater': {'_Total': 1}, 'frntear': {'_Total': 1}, 'bteyon': {'_Total': 1}, 'marcet': {'_Total': 1}, 'indiins': {'_Total': 1}, 'andt': {'_Total': 1}, 'deserte': {'_Total': 1}, 'desleht': {'_Total': 1}, 'metieng': {'_Total': 1}, 'pih': {'_Total': 1}, 'dosye': {'_Total': 1}, 'sectly': {'_Total': 1}, 'ruuth': {'_Total': 1}, 'debeusly': {'_Total': 1}, 'somting': {'_Total': 1}, 'reroid': {'_Total': 1}, 'apxactly': {'_Total': 1}, 'nopoentry': {'_Total': 1}, 'wilmen': {'_Total': 1}, 'pninto': {'_Total': 1}, 'mesered': {'_Total': 1}, 'putin': {'_Total': 1}, 'wego': {'_Total': 1}, 'vheld': {'_Total': 1}, 'andpenind': {'_Total': 1}, 'shetin': {'_Total': 1}, 'cim': {'_Total': 1}, 'wiuththe': {'_Total': 1}, 'wlook': {'_Total': 1}, 'inpli': {'_Total': 1}, 'turmend': {'_Total': 1}, 'wutae': {'_Total': 1}, 'botis': {'_Total': 3}, 'madep': {'_Total': 1}, 'compoltd': {'_Total': 1}, 'acortince': {'_Total': 1}, 'sponspl': {'_Total': 1}, 'canew': {'_Total': 1}, 'mesick': {'_Total': 1}, 'plad': {'_Total': 1}, 'thelit': {'_Total': 1}, 'tellntin': {'_Total': 1}, 'nath': {'_Total': 1}, 'wls': {'_Total': 1}, 'scrbling': {'_Total': 1}, 'tlk': {'_Total': 1}, 'wip': {'_Total': 1}, 'whisling': {'_Total': 1}, 'sertenly': {'_Total': 1}, 'roth': {'_Total': 2}, 'fuos': {'_Total': 1}, 'bloit': {'_Total': 1}, 'conselcted': {'_Total': 1}, 'mothere': {'_Total': 1}, 'crear': {'_Total': 1}, 'wonth': {'_Total': 1}, 'yerly': {'_Total': 1}, 'meing': {'_Total': 1}, 'rith': {'_Total': 1}, 'thelip': {'_Total': 1}, 'bisnes': {'_Total': 2}, 'wayse': {'_Total': 1}, 'rulations': {'_Total': 1}, 'meticin': {'_Total': 2}, 'quihth': {'_Total': 1}, 'atime': {'_Total': 2}, 'intemnt': {'_Total': 1}, 'floshd': {'_Total': 1}, 'spearits': {'_Total': 1}, 'rouh': {'_Total': 1}, 'antisius': {'_Total': 1}, 'tounding': {'_Total': 1}, 'eckle': {'_Total': 1}, 'wrs': {'_Total': 1}, 'prace': {'_Total': 1}, 'comidation': {'_Total': 1}, 'schole': {'_Total': 1}, 'wolts': {'_Total': 1}, 'thilap': {'_Total': 1}, 'pade': {'_Total': 1}, 'puition': {'_Total': 1}, 'worle': {'_Total': 1}, 'shur': {'_Total': 2}, 'taentd': {'_Total': 1}, 'crige': {'_Total': 1}, 'woule': {'_Total': 1}, 'meur': {'_Total': 1}, 'sterdoa': {'_Total': 1}, 'daly': {'_Total': 1}, 'apos': {'_Total': 1}, 'rese': {'_Total': 1}, 'anaction': {'_Total': 2}, 'cerall': {'_Total': 1}, 'ockke': {'_Total': 1}, 'piged': {'_Total': 1}, 'loneg': {'_Total': 1}, 'xact': {'_Total': 1}, 'stit': {'_Total': 1}, 'quivt': {'_Total': 1}, 'hovs': {'_Total': 1}, 'windewas': {'_Total': 1}, 'olpeng': {'_Total': 1}, 'kanse': {'_Total': 1}, 'plassid': {'_Total': 1}, 'wete': {'_Total': 2}, 'rebl': {'_Total': 1}, 'greaktd': {'_Total': 1}, 'forthine': {'_Total': 1}, 'ue': {'_Total': 1}, 'motheir': {'_Total': 1}, 'stedent': {'_Total': 1}, 'shae': {'_Total': 1}, 'empatiencs': {'_Total': 1}, 'plose': {'_Total': 1}, 'bitul': {'_Total': 1}, 'plcitity': {'_Total': 1}, 'shoult': {'_Total': 1}, 'ctrie': {'_Total': 1}, 'smorning': {'_Total': 2}, 'aror': {'_Total': 1}, 'tco': {'_Total': 1}, 'simppl': {'_Total': 1}, 'slihklyg': {'_Total': 1}, 'tallice': {'_Total': 1}, 'woice': {'_Total': 1}, 'seting': {'_Total': 1}, 'thelo': {'_Total': 1}, 'splutther': {'_Total': 1}, 'sanme': {'_Total': 1}, 'rard': {'_Total': 1}, \"wunder's\": {'_Total': 1}, 'menht': {'_Total': 1}, 'lorys': {'_Total': 1}, 'tiffa': {'_Total': 1}, 'declloration': {'_Total': 1}, 'presd': {'_Total': 1}, 'misiders': {'_Total': 1}, 'mich': {'_Total': 3}, 'spluenders': {'_Total': 1}, 'bargens': {'_Total': 1}, 'goone': {'_Total': 1}, 'sudy': {'_Total': 1}, 'sucth': {'_Total': 1}, 'yurly': {'_Total': 1}, 'medting': {'_Total': 1}, 'curbpston': {'_Total': 1}, 'cari': {'_Total': 1}, 'oute': {'_Total': 1}, 'leallie': {'_Total': 1}, 'breht': {'_Total': 1}, 'toureas': {'_Total': 1}, 'ime': {'_Total': 1}, 'aurfe': {'_Total': 1}, 'whowever': {'_Total': 1}, 'lovis': {'_Total': 1}, 'werver': {'_Total': 1}, 'flaters': {'_Total': 1}, 'pleasus': {'_Total': 1}, 'montala': {'_Total': 1}, 'retermed': {'_Total': 1}, 'theter': {'_Total': 1}, 'retily': {'_Total': 1}, 'apowerful': {'_Total': 1}, 'ofreson': {'_Total': 1}, 'streangely': {'_Total': 1}, 'fround': {'_Total': 1}, 'brookin': {'_Total': 1}, 'prcevedo': {'_Total': 1}, 'suprised': {'_Total': 1}, 'micst': {'_Total': 1}, 'disires': {'_Total': 1}, 'conceling': {'_Total': 1}, 'yunder': {'_Total': 1}, 'sovering': {'_Total': 1}, 'brantios': {'_Total': 1}, 'chestmets': {'_Total': 1}, 'difficolt': {'_Total': 1}, 'replihd': {'_Total': 1}, 'mademaisele': {'_Total': 1}, 'toniy': {'_Total': 1}, 'nathing': {'_Total': 1}, 'laodly': {'_Total': 1}, 'ero': {'_Total': 1}, 'onded': {'_Total': 1}, 'tonna': {'_Total': 2}, 'chalent': {'_Total': 1}, 'gouod': {'_Total': 1}, 'fritind': {'_Total': 1}, 'hexplang': {'_Total': 1}, 'kaneg': {'_Total': 1}, 'ilenot': {'_Total': 1}, 'greatios': {'_Total': 1}, 'eterfere': {'_Total': 1}, 'amusyou': {'_Total': 1}, 'emad': {'_Total': 1}, 'languichingly': {'_Total': 1}, 'comt': {'_Total': 1}, 'mesteriius': {'_Total': 1}, 'hapitencs': {'_Total': 1}, 'fesont': {'_Total': 1}, 'athal': {'_Total': 1}, 'lissining': {'_Total': 1}, 'quict': {'_Total': 1}, 'montalay': {'_Total': 2}, 'misself': {'_Total': 1}, 'opoitis': {'_Total': 1}, 'tonay': {'_Total': 1}, 'charnt': {'_Total': 1}, 'amplory': {'_Total': 1}, 'positev': {'_Total': 1}, 'alreaty': {'_Total': 2}, 'replightd': {'_Total': 1}, 'liise': {'_Total': 1}, 'forgitmy': {'_Total': 2}, 'nowhut': {'_Total': 1}, 'athous': {'_Total': 1}, 'intimes': {'_Total': 1}, 'rihte': {'_Total': 2}, 'grintl': {'_Total': 1}, 'exci': {'_Total': 1}, 'complatly': {'_Total': 1}, 'exquisit': {'_Total': 1}, 'turfof': {'_Total': 1}, 'confirs': {'_Total': 1}, 'opponme': {'_Total': 1}, 'afserv': {'_Total': 1}, 'protration': {'_Total': 1}, 'aprostration': {'_Total': 1}, 'mory': {'_Total': 1}, 'marcbl': {'_Total': 1}, 'ercustom': {'_Total': 1}, 'widerd': {'_Total': 1}, 'elther': {'_Total': 1}, 'brird': {'_Total': 1}, 'inteligencs': {'_Total': 1}, 'demd': {'_Total': 1}, 'cariges': {'_Total': 1}, 'culdbe': {'_Total': 1}, 'herdin': {'_Total': 1}, 'ofbon': {'_Total': 1}, 'follored': {'_Total': 1}, 'themotan': {'_Total': 1}, 'calliers': {'_Total': 1}, 'royl': {'_Total': 1}, 'hinoss': {'_Total': 1}, 'somed': {'_Total': 1}, 'perfe': {'_Total': 1}, 'tarmeny': {'_Total': 1}, 'wlet': {'_Total': 1}, 'isron': {'_Total': 1}, 'altery': {'_Total': 1}, 'greasfly': {'_Total': 1}, 'spirte': {'_Total': 1}, 'gresens': {'_Total': 1}, 'betwring': {'_Total': 1}, 'thiccust': {'_Total': 1}, 'purk': {'_Total': 1}, 'pliyd': {'_Total': 1}, 'hindifference': {'_Total': 1}, 'youngerls': {'_Total': 1}, 'themselfe': {'_Total': 1}, 'bisibl': {'_Total': 1}, 'tossay': {'_Total': 1}, 'nothin': {'_Total': 2}, 'montilay': {'_Total': 1}, 'masele': {'_Total': 1}, 'thena': {'_Total': 1}, 'oned': {'_Total': 1}, 'nosit': {'_Total': 1}, 'canout': {'_Total': 1}, 'recee': {'_Total': 1}, 'cindly': {'_Total': 1}, 'prnistion': {'_Total': 1}, 'happines': {'_Total': 3}, 'brlincy': {'_Total': 1}, 'sigted': {'_Total': 1}, 'neasines': {'_Total': 1}, 'lems': {'_Total': 1}, 'hevlely': {'_Total': 1}, 'grupet': {'_Total': 1}, 'stpefid': {'_Total': 1}, 'magistys': {'_Total': 1}, 'thind': {'_Total': 1}, 'nogerections': {'_Total': 1}, 'mesitions': {'_Total': 1}, 'retindin': {'_Total': 1}, 'alis': {'_Total': 1}, 'cosly': {'_Total': 1}, 'imeport': {'_Total': 1}, 'ancs': {'_Total': 1}, 'balay': {'_Total': 1}, 'affectt': {'_Total': 1}, 'beatifl': {'_Total': 1}, 'itht': {'_Total': 1}, 'berst': {'_Total': 1}, 'molity': {'_Total': 1}, 'pcuriy': {'_Total': 1}, 'sumpl': {'_Total': 1}, 'tutered': {'_Total': 1}, 'pandamone': {'_Total': 1}, 'natero': {'_Total': 1}, 'icont': {'_Total': 1}, 'defront': {'_Total': 1}, 'thacters': {'_Total': 1}, 'trimt': {'_Total': 1}, 'shuk': {'_Total': 1}, 'tamltus': {'_Total': 1}, 'therfore': {'_Total': 1}, 'dvotend': {'_Total': 1}, 'prohesd': {'_Total': 1}, 'beform': {'_Total': 1}, 'siccasion': {'_Total': 1}, 'summallers': {'_Total': 1}, 'batl': {'_Total': 1}, 'progresit': {'_Total': 1}, 'cundld': {'_Total': 1}, 'cocetry': {'_Total': 1}, 'whild': {'_Total': 2}, 'hambition': {'_Total': 1}, 'sertly': {'_Total': 1}, 'imust': {'_Total': 1}, 'monyk': {'_Total': 1}, 'beled': {'_Total': 1}, 'dislayal': {'_Total': 1}, 'pertas': {'_Total': 1}, 'spriring': {'_Total': 1}, 'acompany': {'_Total': 1}, 'courpt': {'_Total': 1}, 'apperns': {'_Total': 1}, 'rady': {'_Total': 1}, 'bala': {'_Total': 1}, 'sucses': {'_Total': 1}, 'norc': {'_Total': 1}, 'noligement': {'_Total': 1}, 'thouht': {'_Total': 1}, 'nuthing': {'_Total': 1}, 'bobly': {'_Total': 1}, 'reganing': {'_Total': 1}, 'markend': {'_Total': 1}, 'prefference': {'_Total': 1}, 'tde': {'_Total': 1}, 'angyon': {'_Total': 1}, 'vellori': {'_Total': 1}, 'chakt': {'_Total': 1}, 'isplad': {'_Total': 1}, 'greadaed': {'_Total': 1}, 'beannge': {'_Total': 1}, 'coller': {'_Total': 2}, 'trancs': {'_Total': 1}, 'flushh': {'_Total': 1}, 'plesed': {'_Total': 1}, 'presnt': {'_Total': 1}, 'qurens': {'_Total': 1}, 'takan': {'_Total': 1}, 'auppon': {'_Total': 1}, 'meght': {'_Total': 1}, 'nufisend': {'_Total': 1}, 'plyt': {'_Total': 1}, 'arecti': {'_Total': 1}, 'uppon': {'_Total': 1}, 'lapk': {'_Total': 1}, 'theetter': {'_Total': 1}, 'onderful': {'_Total': 1}, 'contruction': {'_Total': 1}, 'cng': {'_Total': 1}, 'complated': {'_Total': 1}, 'torlet': {'_Total': 1}, 'aclack': {'_Total': 1}, 'appared': {'_Total': 1}, 'olpen': {'_Total': 1}, 'duckerite': {'_Total': 1}, 'reanchies': {'_Total': 1}, 'meand': {'_Total': 1}, 'inquird': {'_Total': 1}, 'lois': {'_Total': 1}, 'ckang': {'_Total': 1}, 'reeallity': {'_Total': 1}, 'prencipl': {'_Total': 1}, 'dancster': {'_Total': 1}, 'quadriel': {'_Total': 1}, 'quish': {'_Total': 1}, 'trible': {'_Total': 1}, 'wlt': {'_Total': 1}, 'comman': {'_Total': 1}, 'ifcul': {'_Total': 1}, 'ceping': {'_Total': 1}, 'acarront': {'_Total': 1}, 'conpercation': {'_Total': 1}, 'mame': {'_Total': 3}, 'curtyers': {'_Total': 1}, 'givan': {'_Total': 1}, 'havebot': {'_Total': 1}, 'togivt': {'_Total': 1}, 'conclosion': {'_Total': 1}, 'bancuon': {'_Total': 1}, 'waeserve': {'_Total': 1}, 'dhet': {'_Total': 1}, 'cabenet': {'_Total': 1}, 'perplis': {'_Total': 1}, 'tring': {'_Total': 1}, 'solabraty': {'_Total': 1}, 'tostome': {'_Total': 1}, 'sprng': {'_Total': 1}, 'reselt': {'_Total': 1}, 'ofs': {'_Total': 2}, 'amagination': {'_Total': 1}, 'someany': {'_Total': 1}, 'iners': {'_Total': 1}, 'onoben': {'_Total': 1}, 'priven': {'_Total': 1}, 'trasur': {'_Total': 1}, 'whutdid': {'_Total': 1}, 'carige': {'_Total': 1}, 'boant': {'_Total': 1}, 'movmencs': {'_Total': 1}, 'amortl': {'_Total': 1}, 'dandc': {'_Total': 1}, 'isent': {'_Total': 1}, 'greactis': {'_Total': 1}, 'geting': {'_Total': 2}, 'squdling': {'_Total': 1}, 'tleening': {'_Total': 1}, 'intd': {'_Total': 1}, 'onourved': {'_Total': 1}, 'afternon': {'_Total': 2}, 'prd': {'_Total': 1}, 'brom': {'_Total': 2}, 'dus': {'_Total': 6}, 'cantl': {'_Total': 1}, 'prtgiust': {'_Total': 1}, 'contince': {'_Total': 1}, 'shappan': {'_Total': 1}, 'ererthen': {'_Total': 1}, 'eppe': {'_Total': 1}, 'seixtete': {'_Total': 1}, 'eateen': {'_Total': 1}, 'saixthy': {'_Total': 1}, 'probly': {'_Total': 1}, 'sunely': {'_Total': 1}, 'queryd': {'_Total': 1}, 'toice': {'_Total': 1}, 'frniture': {'_Total': 1}, 'picturs': {'_Total': 2}, 'loigan': {'_Total': 1}, 'havint': {'_Total': 1}, 'aseseel': {'_Total': 1}, 'firsh': {'_Total': 1}, 'bicture': {'_Total': 1}, 'sbin': {'_Total': 1}, 'surfis': {'_Total': 1}, 'atlese': {'_Total': 1}, 'ermod': {'_Total': 1}, 'frnetur': {'_Total': 1}, 'ict': {'_Total': 1}, 'reo': {'_Total': 1}, 'clozs': {'_Total': 1}, 'reagulor': {'_Total': 1}, 'toinniset': {'_Total': 1}, 'bades': {'_Total': 1}, 'scertly': {'_Total': 1}, 'sulition': {'_Total': 1}, 'mabout': {'_Total': 1}, 'joiyce': {'_Total': 1}, 'allat': {'_Total': 1}, 'candl': {'_Total': 1}, 'compangen': {'_Total': 1}, 'cinthi': {'_Total': 1}, 'sproue': {'_Total': 1}, 'entere': {'_Total': 1}, 'goliat': {'_Total': 1}, 'usubal': {'_Total': 1}, 'pering': {'_Total': 1}, 'disturbv': {'_Total': 1}, 'mitur': {'_Total': 1}, 'thelor': {'_Total': 1}, 'spording': {'_Total': 1}, 'afteri': {'_Total': 1}, 'ckiten': {'_Total': 1}, 'sintise': {'_Total': 1}, 'sitif': {'_Total': 1}, 'fherse': {'_Total': 1}, 'happn': {'_Total': 1}, 'evidintly': {'_Total': 1}, 'bouthat': {'_Total': 1}, 'pecture': {'_Total': 1}, 'golith': {'_Total': 1}, 'huving': {'_Total': 1}, 'aridy': {'_Total': 1}, 'difflrence': {'_Total': 1}, 'aspectd': {'_Total': 1}, 'forgiding': {'_Total': 1}, 'candls': {'_Total': 1}, 'thoe': {'_Total': 1}, 'sfinding': {'_Total': 1}, 'tuckd': {'_Total': 1}, 'wory': {'_Total': 2}, 'teibly': {'_Total': 1}, 'loely': {'_Total': 1}, 'furnitur': {'_Total': 1}, 'desta': {'_Total': 1}, 'lovere': {'_Total': 2}, 'skeme': {'_Total': 1}, 'avle': {'_Total': 1}, 'inflonce': {'_Total': 1}, 'bmack': {'_Total': 1}, 'wonderd': {'_Total': 1}, 'teribl': {'_Total': 1}, 'contusnes': {'_Total': 1}, 'fihting': {'_Total': 1}, 'fihding': {'_Total': 1}, 'grauly': {'_Total': 1}, 'aponet': {'_Total': 1}, 'beca': {'_Total': 1}, 'caaffer': {'_Total': 1}, 'notevin': {'_Total': 1}, 'wris': {'_Total': 1}, 'attachd': {'_Total': 1}, 'eleft': {'_Total': 1}, 'brote': {'_Total': 1}, 'stilnes': {'_Total': 1}, 'homin': {'_Total': 1}, 'larg': {'_Total': 1}, 'shaply': {'_Total': 1}, 'appered': {'_Total': 1}, 'terbl': {'_Total': 1}, 'rember': {'_Total': 1}, 'evdning': {'_Total': 1}, 'langoigh': {'_Total': 1}, 'otterd': {'_Total': 1}, 'thant': {'_Total': 1}, 'somho': {'_Total': 1}, 'indistinht': {'_Total': 1}, 'roht': {'_Total': 1}, 'nurves': {'_Total': 1}, 'yelede': {'_Total': 1}, 'telus': {'_Total': 2}, 'onr': {'_Total': 1}, 'distint': {'_Total': 1}, 'behined': {'_Total': 1}, 'blla': {'_Total': 1}, 'ige': {'_Total': 1}, 'woll': {'_Total': 3}, 'geleming': {'_Total': 1}, 'liftet': {'_Total': 1}, 'bouh': {'_Total': 1}, 'strighte': {'_Total': 1}, 'strinth': {'_Total': 1}, 'tanman': {'_Total': 1}, 'hurd': {'_Total': 1}, 'fromme': {'_Total': 1}, 'scarssl': {'_Total': 1}, 'lookedut': {'_Total': 1}, 'othe': {'_Total': 1}, 'reckognises': {'_Total': 1}, 'fotars': {'_Total': 1}, 'gcafir': {'_Total': 1}, 'lihd': {'_Total': 1}, 'dased': {'_Total': 1}, 'bewilderd': {'_Total': 1}, 'ingfluence': {'_Total': 1}, 'mancs': {'_Total': 2}, 'caffers': {'_Total': 1}, 'beckin': {'_Total': 1}, 'afferh': {'_Total': 1}, 'rememberd': {'_Total': 1}, 'nofthing': {'_Total': 2}, 'distintly': {'_Total': 1}, 'scuare': {'_Total': 1}, 'howtel': {'_Total': 1}, 'shatis': {'_Total': 1}, 'indersected': {'_Total': 1}, 'dems': {'_Total': 1}, 'shuge': {'_Total': 1}, 'losak': {'_Total': 1}, 'yello': {'_Total': 1}, 'magin': {'_Total': 1}, 'viment': {'_Total': 1}, 'tumes': {'_Total': 1}, 'hadd': {'_Total': 1}, 'noances': {'_Total': 1}, \"cou'\": {'_Total': 1}, 'hadt': {'_Total': 1}, 'himsef': {'_Total': 1}, 'sholers': {'_Total': 1}, 'agens': {'_Total': 1}, 'pertition': {'_Total': 1}, 'berid': {'_Total': 1}, 'cheast': {'_Total': 1}, 'clearee': {'_Total': 1}, 'splonditd': {'_Total': 1}, 'tempist': {'_Total': 1}, 'pstdeway': {'_Total': 1}, 'swle': {'_Total': 1}, 'inflenes': {'_Total': 1}, 'pese': {'_Total': 3}, 'securdy': {'_Total': 1}, 'averywhere': {'_Total': 1}, 'sptibly': {'_Total': 1}, 'rerceed': {'_Total': 1}, 'futur': {'_Total': 1}, 'egteted': {'_Total': 1}, 'moned': {'_Total': 1}, 'returng': {'_Total': 1}, 'nolonger': {'_Total': 1}, 'bralon': {'_Total': 1}, 'lashtdd': {'_Total': 1}, 'sumetime': {'_Total': 1}, 'liscin': {'_Total': 1}, 'siede': {'_Total': 1}, 'stumbers': {'_Total': 1}, 'manycome': {'_Total': 1}, 'smord': {'_Total': 1}, 'imperisly': {'_Total': 1}, 'filit': {'_Total': 1}, 'cuend': {'_Total': 1}, 'fromn': {'_Total': 1}, 'aderlation': {'_Total': 1}, 'whic': {'_Total': 1}, 'trete': {'_Total': 1}, 'ogect': {'_Total': 1}, 'worthef': {'_Total': 1}, 'motherd': {'_Total': 1}, 'ganed': {'_Total': 1}, 'frienche': {'_Total': 1}, 'fection': {'_Total': 1}, 'fuances': {'_Total': 1}, 'hernat': {'_Total': 1}, 'happingis': {'_Total': 1}, 'inglen': {'_Total': 1}, 'ainlend': {'_Total': 1}, 'flaence': {'_Total': 1}, 'bastkits': {'_Total': 1}, 'afflors': {'_Total': 1}, 'wochd': {'_Total': 1}, 'frdasin': {'_Total': 1}, 'rerbl': {'_Total': 1}, 'princesk': {'_Total': 1}, 'inrturnd': {'_Total': 1}, 'indviteld': {'_Total': 1}, 'inwishtd': {'_Total': 1}, 'geven': {'_Total': 1}, 'perceve': {'_Total': 1}, 'lov': {'_Total': 1}, 'clely': {'_Total': 1}, 'contryt': {'_Total': 1}, 'frnly': {'_Total': 1}, 'pressier': {'_Total': 1}, 'ralu': {'_Total': 1}, 'dotect': {'_Total': 1}, 'intrn': {'_Total': 1}, 'conflikt': {'_Total': 1}, 'congragulations': {'_Total': 1}, 'apone': {'_Total': 1}, 'prencses': {'_Total': 1}, 'jurny': {'_Total': 2}, 'mistakin': {'_Total': 1}, 'distresin': {'_Total': 1}, 'gestur': {'_Total': 1}, 'dtay': {'_Total': 1}, 'concor': {'_Total': 1}, 'amites': {'_Total': 1}, 'cogin': {'_Total': 1}, 'introted': {'_Total': 1}, 'mmmant': {'_Total': 1}, 'heven': {'_Total': 2}, 'praetd': {'_Total': 1}, 'fraench': {'_Total': 1}, 'whoar': {'_Total': 1}, 'knouses': {'_Total': 1}, 'tholis': {'_Total': 1}, 'indiscre': {'_Total': 1}, 'recclis': {'_Total': 1}, 'capl': {'_Total': 1}, 'bll': {'_Total': 1}, 'beran': {'_Total': 1}, 'harrassing': {'_Total': 1}, 'yongman': {'_Total': 1}, 'iise': {'_Total': 1}, 'ficxs': {'_Total': 1}, 'fameliarity': {'_Total': 1}, 'alowd': {'_Total': 1}, 'diffencs': {'_Total': 1}, 'noing': {'_Total': 3}, 'temprl': {'_Total': 1}, 'rilation': {'_Total': 2}, 'remmembertd': {'_Total': 1}, 'efent': {'_Total': 1}, 'remembert': {'_Total': 1}, 'levents': {'_Total': 1}, 'someponce': {'_Total': 1}, 'ficsed': {'_Total': 1}, 'carturistic': {'_Total': 1}, 'memmery': {'_Total': 3}, 'acoun': {'_Total': 1}, 'knowlege': {'_Total': 1}, 'thingd': {'_Total': 1}, 'pretis': {'_Total': 1}, 'ixsistence': {'_Total': 1}, 'burtou': {'_Total': 1}, 'mygt': {'_Total': 1}, 'deffinition': {'_Total': 2}, 'singl': {'_Total': 1}, 'compitence': {'_Total': 1}, 'accurese': {'_Total': 1}, 'ememery': {'_Total': 1}, 'imege': {'_Total': 3}, 'bacet': {'_Total': 1}, 'imegh': {'_Total': 1}, 'wecan': {'_Total': 1}, 'voke': {'_Total': 1}, 'pasktnd': {'_Total': 1}, 'comparet': {'_Total': 1}, 'inmege': {'_Total': 1}, 'reckignition': {'_Total': 1}, 'corting': {'_Total': 1}, 'wiche': {'_Total': 1}, 'immiges': {'_Total': 2}, 'arp': {'_Total': 1}, 'descus': {'_Total': 1}, 'thece': {'_Total': 1}, 'cossites': {'_Total': 1}, 'knoleg': {'_Total': 1}, 'deing': {'_Total': 1}, 'lighcul': {'_Total': 1}, 'anolices': {'_Total': 1}, 'accurs': {'_Total': 1}, 'rmember': {'_Total': 2}, 'regired': {'_Total': 1}, 'rfiring': {'_Total': 1}, 'reknnition': {'_Total': 1}, 'mescarly': {'_Total': 1}, 'inbote': {'_Total': 1}, 'mortd': {'_Total': 1}, 'secution': {'_Total': 1}, 'ajec': {'_Total': 1}, 'momet': {'_Total': 2}, 'suceaded': {'_Total': 1}, 'pernd': {'_Total': 1}, 'logicule': {'_Total': 1}, 'papices': {'_Total': 1}, 'springan': {'_Total': 1}, 'ixactly': {'_Total': 1}, 'popelation': {'_Total': 1}, 'rmemberd': {'_Total': 1}, 'holyt': {'_Total': 1}, 'ril': {'_Total': 1}, 'sihe': {'_Total': 1}, 'poom': {'_Total': 1}, 'doas': {'_Total': 1}, 'shodti': {'_Total': 1}, 'yprevi': {'_Total': 1}, 'seccasion': {'_Total': 1}, 'sitet': {'_Total': 1}, 'ratitt': {'_Total': 1}, 'amember': {'_Total': 1}, 'rimembered': {'_Total': 1}, 'brecfis': {'_Total': 1}, 'wholy': {'_Total': 1}, 'haebet': {'_Total': 1}, 'mabls': {'_Total': 2}, 'dedes': {'_Total': 1}, 'evinence': {'_Total': 1}, 'logkl': {'_Total': 1}, 'posble': {'_Total': 1}, 'clih': {'_Total': 1}, 'corecly': {'_Total': 1}, 'mimery': {'_Total': 1}, 'inou': {'_Total': 1}, 'nowlige': {'_Total': 2}, 'sirvs': {'_Total': 1}, 'macke': {'_Total': 1}, 'poblom': {'_Total': 1}, 'concernd': {'_Total': 2}, 'ecpetations': {'_Total': 1}, 'dicerv': {'_Total': 1}, 'megi': {'_Total': 1}, 'gubut': {'_Total': 1}, 'knolige': {'_Total': 1}, 'grem': {'_Total': 1}, 'offon': {'_Total': 1}, 'hopuf': {'_Total': 1}, 'setabl': {'_Total': 1}, 'reckerds': {'_Total': 1}, 'mahdr': {'_Total': 1}, 'afones': {'_Total': 1}, 'geleve': {'_Total': 1}, 'tojedge': {'_Total': 1}, 'reckeg': {'_Total': 1}, 'nises': {'_Total': 1}, 'andn': {'_Total': 1}, 'sennand': {'_Total': 1}, 'jugemet': {'_Total': 1}, 'pobeply': {'_Total': 1}, 'amposbl': {'_Total': 1}, 'anmacs': {'_Total': 1}, 'vrepignition': {'_Total': 1}, 'fammer': {'_Total': 1}, 'whall': {'_Total': 1}, 'fiul': {'_Total': 1}, 'haturust': {'_Total': 1}, 'atemps': {'_Total': 1}, 'reckured': {'_Total': 1}, 'hagure': {'_Total': 1}, 'recturd': {'_Total': 1}, 'nowsis': {'_Total': 1}, 'nolige': {'_Total': 2}, 'occopiess': {'_Total': 1}, 'intilthe': {'_Total': 1}, 'thertent': {'_Total': 1}, 'flectur': {'_Total': 1}, 'endtrprise': {'_Total': 1}, 'consept': {'_Total': 1}, 'bobeing': {'_Total': 1}, 'urnces': {'_Total': 1}, 'silert': {'_Total': 1}, 'obencs': {'_Total': 1}, 'differt': {'_Total': 1}, 'compitet': {'_Total': 1}, 'suchif': {'_Total': 1}, 'fhenon': {'_Total': 1}, 'menon': {'_Total': 1}, 'trus': {'_Total': 1}, 'bencs': {'_Total': 1}, 'aturely': {'_Total': 1}, 'meands': {'_Total': 1}, 'timperl': {'_Total': 1}, 'sentiel': {'_Total': 1}, 'proces': {'_Total': 1}, 'badingd': {'_Total': 1}, 'retamed': {'_Total': 1}, 'nolege': {'_Total': 1}, 'whoe': {'_Total': 1}, 'proplem': {'_Total': 1}, 'sinmpl': {'_Total': 1}, 'simence': {'_Total': 1}, 'mentiond': {'_Total': 1}, 'erlyr': {'_Total': 1}, 'memey': {'_Total': 1}, 'coslyy': {'_Total': 1}, 'beus': {'_Total': 1}, 'cific': {'_Total': 1}, 'becaled': {'_Total': 1}, 'pastones': {'_Total': 1}, 'iyn': {'_Total': 1}, 'croncernd': {'_Total': 1}, 'prception': {'_Total': 1}, 'sensatinal': {'_Total': 1}, 'ingreiencs': {'_Total': 1}, 'brgnup': {'_Total': 1}, 'bithel': {'_Total': 1}, 'setiy': {'_Total': 1}, 'enmegus': {'_Total': 1}, 'hexpectations': {'_Total': 1}, 'esurl': {'_Total': 1}, 'corimlets': {'_Total': 1}, 'subjectinly': {'_Total': 1}, 'betakin': {'_Total': 1}, 'bance': {'_Total': 1}, 'vay': {'_Total': 1}, 'understading': {'_Total': 1}, 'practese': {'_Total': 1}, 'itdis': {'_Total': 1}, 'actuol': {'_Total': 1}, 'verius': {'_Total': 1}, 'facters': {'_Total': 1}, 'ingivingnes': {'_Total': 1}, 'motemes': {'_Total': 1}, 'imemberd': {'_Total': 1}, 'ivent': {'_Total': 1}, 'acurs': {'_Total': 2}, 'defement': {'_Total': 1}, 'oten': {'_Total': 1}, 'leasus': {'_Total': 1}, 'tocerch': {'_Total': 1}, 'birmments': {'_Total': 1}, 'afound': {'_Total': 1}, 'othert': {'_Total': 1}, 'leexefs': {'_Total': 1}, 'jugmentt': {'_Total': 1}, 'femir': {'_Total': 1}, 'welible': {'_Total': 1}, 'somtime': {'_Total': 1}, 'asperisd': {'_Total': 1}, 'aasisted': {'_Total': 1}, 'wuect': {'_Total': 1}, 'actiolely': {'_Total': 1}, 'haphens': {'_Total': 1}, 'ajugment': {'_Total': 1}, 'recignition': {'_Total': 1}, 'icxprus': {'_Total': 1}, 'lebl': {'_Total': 1}, 'nomis': {'_Total': 1}, 'cquiht': {'_Total': 1}, 'mentury': {'_Total': 1}, 'acurince': {'_Total': 1}, 'remebering': {'_Total': 1}, 'presen': {'_Total': 2}, 'iccurnce': {'_Total': 1}, 'resemblyne': {'_Total': 1}, 'orlated': {'_Total': 1}, 'remembertd': {'_Total': 1}, 'eample': {'_Total': 1}, 'someparts': {'_Total': 1}, 'mafil': {'_Total': 1}, 'morfh': {'_Total': 1}, 'femiured': {'_Total': 1}, 'otthers': {'_Total': 1}, 'shapencs': {'_Total': 1}, 'weafef': {'_Total': 1}, 'accuresy': {'_Total': 1}, 'femiur': {'_Total': 1}, 'bhan': {'_Total': 1}, 'frmel': {'_Total': 1}, 'arpats': {'_Total': 1}, 'horever': {'_Total': 1}, 'savfl': {'_Total': 1}, 'pointce': {'_Total': 1}, 'mhuch': {'_Total': 1}, 'coreact': {'_Total': 1}, 'befine': {'_Total': 1}, 'singlhas': {'_Total': 1}, 'ixistid': {'_Total': 1}, 'defimition': {'_Total': 1}, 'experince': {'_Total': 1}, 'everthing': {'_Total': 1}, 'nected': {'_Total': 1}, 'veryus': {'_Total': 1}, 'armung': {'_Total': 1}, 'thoun': {'_Total': 1}, 'fumiliarity': {'_Total': 1}, 'capoble': {'_Total': 1}, 'whethere': {'_Total': 1}, 'anot': {'_Total': 1}, 'prencspl': {'_Total': 2}, 'libl': {'_Total': 1}, 'acceptions': {'_Total': 1}, 'theord': {'_Total': 1}, 'exactoy': {'_Total': 1}, 'sinnan': {'_Total': 1}, 'overstatmet': {'_Total': 1}, 'corect': {'_Total': 1}, 'repersent': {'_Total': 1}, 'anpretions': {'_Total': 1}, 'dhat': {'_Total': 1}, 'nomens': {'_Total': 1}, 'wely': {'_Total': 1}, 'dono': {'_Total': 1}, 'truast': {'_Total': 1}, 'axaple': {'_Total': 1}, 'fittee': {'_Total': 1}, 'friencs': {'_Total': 1}, 'crerlin': {'_Total': 1}, 'porbly': {'_Total': 1}, 'destorted': {'_Total': 1}, 'infrence': {'_Total': 1}, 'ventrst': {'_Total': 1}, 'noledge': {'_Total': 1}, 'yorur': {'_Total': 1}, 'rturnd': {'_Total': 1}, 'anglnd': {'_Total': 1}, 'alpationt': {'_Total': 1}, 'anotherp': {'_Total': 1}, 'contolation': {'_Total': 1}, 'stuptly': {'_Total': 1}, 'rades': {'_Total': 1}, 'certly': {'_Total': 1}, 'colere': {'_Total': 1}, 'cheks': {'_Total': 1}, 'upsot': {'_Total': 1}, 'astrippling': {'_Total': 1}, 'ito': {'_Total': 2}, 'amad': {'_Total': 1}, 'ckame': {'_Total': 1}, 'monficha': {'_Total': 1}, 'ranto': {'_Total': 1}, 'opning': {'_Total': 1}, 'tento': {'_Total': 1}, 'admis': {'_Total': 1}, 'mastder': {'_Total': 1}, 'glantes': {'_Total': 1}, 'fantly': {'_Total': 1}, 'restlers': {'_Total': 1}, 'berus': {'_Total': 1}, 'sherafs': {'_Total': 1}, 'monseld': {'_Total': 1}, 'sherof': {'_Total': 1}, 'hamd': {'_Total': 1}, 'monkfichey': {'_Total': 1}, 'rscu': {'_Total': 1}, 'holkd': {'_Total': 1}, 'swoihly': {'_Total': 1}, 'himselfh': {'_Total': 1}, 'notting': {'_Total': 2}, 'admittencs': {'_Total': 1}, 'nel': {'_Total': 1}, 'mavbls': {'_Total': 1}, 'wilebe': {'_Total': 1}, 'seckend': {'_Total': 1}, 'metn': {'_Total': 1}, 'orhthing': {'_Total': 1}, 'thankes': {'_Total': 1}, 'gyovd': {'_Total': 1}, 'yesy': {'_Total': 1}, 'fresed': {'_Total': 1}, 'palightly': {'_Total': 1}, 'nibl': {'_Total': 1}, 'youde': {'_Total': 1}, 'anstrh': {'_Total': 1}, 'sollin': {'_Total': 1}, 'apprentis': {'_Total': 1}, 'becd': {'_Total': 1}, 'snahd': {'_Total': 1}, 'restled': {'_Total': 1}, 'playde': {'_Total': 1}, 'seckan': {'_Total': 1}, 'ropin': {'_Total': 2}, 'fitzoth': {'_Total': 2}, 'mummeris': {'_Total': 1}, 'monfiche': {'_Total': 1}, 'forgin': {'_Total': 1}, 'dinidy': {'_Total': 1}, 'strolers': {'_Total': 1}, 'partn': {'_Total': 1}, 'fose': {'_Total': 1}, 'lillingly': {'_Total': 1}, 'tren': {'_Total': 1}, 'batle': {'_Total': 1}, 'brobhen': {'_Total': 1}, 'scilent': {'_Total': 1}, 'capterd': {'_Total': 1}, 'aprentese': {'_Total': 1}, 'upban': {'_Total': 1}, 'insten': {'_Total': 1}, 'cristl': {'_Total': 1}, 'childit': {'_Total': 1}, 'anstured': {'_Total': 1}, 'twopos': {'_Total': 1}, 'anyting': {'_Total': 1}, 'stroly': {'_Total': 1}, 'voic': {'_Total': 1}, 'heade': {'_Total': 1}, 'chefof': {'_Total': 1}, 'taprentis': {'_Total': 1}, 'cquenchd': {'_Total': 1}, 'thists': {'_Total': 1}, 'mander': {'_Total': 1}, 'vandigd': {'_Total': 1}, 'squirs': {'_Total': 2}, 'ancarged': {'_Total': 1}, 'robens': {'_Total': 1}, 'retly': {'_Total': 1}, 'treedid': {'_Total': 1}, 'mistres': {'_Total': 1}, 'rearof': {'_Total': 1}, 'tept': {'_Total': 1}, 'riiting': {'_Total': 1}, 'afho': {'_Total': 1}, 'clice': {'_Total': 1}, 'solfver': {'_Total': 1}, 'wissl': {'_Total': 1}, 'wilel': {'_Total': 1}, 'tomeple': {'_Total': 1}, 'thetre': {'_Total': 1}, 'toforge': {'_Total': 1}, 'vainiely': {'_Total': 1}, 'toupom': {'_Total': 1}, 'themsels': {'_Total': 1}, 'strolere': {'_Total': 1}, 'pressenly': {'_Total': 1}, 'pushe': {'_Total': 1}, 'eno': {'_Total': 2}, 'dorge': {'_Total': 2}, 'gamewel': {'_Total': 2}, 'shuarpply': {'_Total': 1}, 'entroncs': {'_Total': 1}, 'resht': {'_Total': 1}, 'bertdin': {'_Total': 1}, 'conplaint': {'_Total': 1}, 'genst': {'_Total': 1}, 'wissurd': {'_Total': 1}, 'vanishd': {'_Total': 1}, 'wleft': {'_Total': 1}, 'folous': {'_Total': 1}, 'whean': {'_Total': 1}, 'sheye': {'_Total': 1}, 'citicens': {'_Total': 1}, 'fhellos': {'_Total': 1}, 'someprty': {'_Total': 1}, 'stroler': {'_Total': 1}, 'capplass': {'_Total': 1}, 'terfied': {'_Total': 1}, 'efert': {'_Total': 1}, 'hige': {'_Total': 1}, 'falt': {'_Total': 1}, 'tinggers': {'_Total': 1}, 'tighte': {'_Total': 1}, 'worty': {'_Total': 1}, 'pressintly': {'_Total': 1}, 'winet': {'_Total': 1}, 'marfle': {'_Total': 1}, 'madesi': {'_Total': 1}, 'sonis': {'_Total': 1}, 'bropin': {'_Total': 1}, 'doinghis': {'_Total': 1}, 'dotyi': {'_Total': 1}, 'comberlin': {'_Total': 1}, 'escupades': {'_Total': 1}, 'tlilit': {'_Total': 1}, 'stutly': {'_Total': 2}, 'chameber': {'_Total': 1}, 'ancer': {'_Total': 1}, 'laskt': {'_Total': 1}, 'nand': {'_Total': 1}, 'coryer': {'_Total': 1}, 'gamewell': {'_Total': 1}, 'stutely': {'_Total': 1}, 'everist': {'_Total': 1}, 'wthe': {'_Total': 1}, 'quiitly': {'_Total': 1}, 'pastigh': {'_Total': 1}, 'huat': {'_Total': 1}, 'jeffery': {'_Total': 1}, 'hiting': {'_Total': 1}, 'otlas': {'_Total': 1}, 'farest': {'_Total': 1}, 'commandi': {'_Total': 1}, 'sosem': {'_Total': 1}, 'covrse': {'_Total': 1}, 'clurck': {'_Total': 1}, 'befollan': {'_Total': 1}, 'antios': {'_Total': 1}, 'interd': {'_Total': 1}, 'agant': {'_Total': 1}, 'progec': {'_Total': 1}, 'squir': {'_Total': 1}, 'roban': {'_Total': 2}, 'gouodty': {'_Total': 1}, 'mastrers': {'_Total': 1}, 'rarly': {'_Total': 1}, 'rened': {'_Total': 1}, 'savf': {'_Total': 1}, 'crossting': {'_Total': 1}, 'stabl': {'_Total': 1}, 'rofs': {'_Total': 1}, 'blacknis': {'_Total': 1}, 'byhind': {'_Total': 1}, 'dracking': {'_Total': 1}, 'unrelling': {'_Total': 1}, 'folish': {'_Total': 1}, 'fitzeith': {'_Total': 1}, 'crosly': {'_Total': 1}, 'porse': {'_Total': 1}, 'screk': {'_Total': 1}, 'gref': {'_Total': 1}, 'heake': {'_Total': 1}, 'regang': {'_Total': 1}, 'aparntly': {'_Total': 1}, 'hotld': {'_Total': 1}, 'gamewoll': {'_Total': 1}, 'prusintly': {'_Total': 1}, 'felleship': {'_Total': 1}, 'herlded': {'_Total': 1}, 'treme': {'_Total': 1}, 'disendd': {'_Total': 1}, 'homself': {'_Total': 1}, 'cacuosly': {'_Total': 1}, 'ibout': {'_Total': 1}, 'geforn': {'_Total': 1}, 'tofinds': {'_Total': 1}, 'omething': {'_Total': 1}, 'warentoned': {'_Total': 1}, 'forfild': {'_Total': 1}, 'mision': {'_Total': 1}, 'fitzoith': {'_Total': 1}, 'worinton': {'_Total': 1}, 'harblring': {'_Total': 1}, 'warin': {'_Total': 1}, 'spolk': {'_Total': 1}, 'astaht': {'_Total': 1}, 'vording': {'_Total': 1}, 'ansterd': {'_Total': 1}, 'warinton': {'_Total': 1}, 'laf': {'_Total': 1}, 'crad': {'_Total': 1}, 'wavig': {'_Total': 1}, 'goses': {'_Total': 1}, 'frint': {'_Total': 1}, 'heflash': {'_Total': 1}, 'fiing': {'_Total': 1}, 'cherepfter': {'_Total': 1}, 'takgit': {'_Total': 1}, 'rols': {'_Total': 1}, 'wearm': {'_Total': 1}, 'monkfichas': {'_Total': 1}, 'regjuice': {'_Total': 1}, 'cra': {'_Total': 1}, 'stuch': {'_Total': 1}, 'slaping': {'_Total': 1}, 'gamewels': {'_Total': 1}, 'inglan': {'_Total': 1}, 'gamwel': {'_Total': 1}, 'prouly': {'_Total': 1}, 'howurs': {'_Total': 1}, 'wearaly': {'_Total': 1}, 'loobent': {'_Total': 1}, 'topprong': {'_Total': 1}, 'spoly': {'_Total': 1}, 'beger': {'_Total': 1}, 'bouwer': {'_Total': 1}, 'therers': {'_Total': 1}, 'presintly': {'_Total': 1}, 'counsl': {'_Total': 1}, 'itmeny': {'_Total': 1}, 'lans': {'_Total': 2}, 'tojurethe': {'_Total': 1}, 'customns': {'_Total': 1}, 'havitcs': {'_Total': 1}, 'woment': {'_Total': 1}, 'presius': {'_Total': 1}, 'malind': {'_Total': 1}, 'mormens': {'_Total': 1}, 'westd': {'_Total': 1}, 'bepl': {'_Total': 1}, \"masur's\": {'_Total': 1}, 'corts': {'_Total': 1}, 'pesentin': {'_Total': 1}, 'intace': {'_Total': 1}, 'uftecas': {'_Total': 1}, 'differe': {'_Total': 1}, 'fases': {'_Total': 1}, 'subgect': {'_Total': 1}, 'maesure': {'_Total': 1}, 'tettrel': {'_Total': 1}, 'juges': {'_Total': 1}, 'yenidid': {'_Total': 1}, 'turniyse': {'_Total': 1}, 'noutoh': {'_Total': 1}, 'woordnout': {'_Total': 1}, 'mormencs': {'_Total': 2}, 'rihused': {'_Total': 1}, 'intertane': {'_Total': 1}, 'poteko': {'_Total': 1}, 'cacches': {'_Total': 1}, 'maniftrest': {'_Total': 1}, 'anjust': {'_Total': 1}, 'aise': {'_Total': 1}, 'alrety': {'_Total': 1}, 'seute': {'_Total': 1}, 'palso': {'_Total': 1}, 'efore': {'_Total': 1}, 'travisty': {'_Total': 1}, 'broht': {'_Total': 1}, 'rerversol': {'_Total': 1}, 'deservtd': {'_Total': 1}, 'prisond': {'_Total': 1}, 'dnoe': {'_Total': 1}, 'boarst': {'_Total': 1}, 'dosef': {'_Total': 1}, 'posativele': {'_Total': 1}, 'bloty': {'_Total': 1}, 'strite': {'_Total': 1}, 'anlusson': {'_Total': 1}, 'summend': {'_Total': 1}, 'ondcs': {'_Total': 1}, 'tofrnish': {'_Total': 1}, 'armce': {'_Total': 1}, 'codtres': {'_Total': 1}, 'atin': {'_Total': 1}, 'nakte': {'_Total': 1}, 'prerpes': {'_Total': 1}, 'suprusing': {'_Total': 1}, 'marige': {'_Total': 3}, 'pedickkid': {'_Total': 1}, 'insetion': {'_Total': 1}, 'nationle': {'_Total': 1}, 'staket': {'_Total': 1}, 'igins': {'_Total': 1}, 'prectes': {'_Total': 1}, 'pebl': {'_Total': 1}, 'clined': {'_Total': 1}, 'rebellin': {'_Total': 1}, 'getder': {'_Total': 1}, 'wihetd': {'_Total': 1}, 'omronds': {'_Total': 1}, 'fenoly': {'_Total': 1}, 'yit': {'_Total': 1}, 'riten': {'_Total': 1}, 'contiguuly': {'_Total': 1}, 'stagis': {'_Total': 1}, 'progres': {'_Total': 1}, 'samts': {'_Total': 1}, 'precdis': {'_Total': 1}, 'selesta': {'_Total': 1}, 'paraity': {'_Total': 1}, 'whice': {'_Total': 1}, 'insinendt': {'_Total': 1}, 'mendt': {'_Total': 1}, 'olege': {'_Total': 1}, 'comgers': {'_Total': 1}, 'fiscrived': {'_Total': 1}, 'pentlthe': {'_Total': 1}, 'sicmoncs': {'_Total': 1}, 'prisment': {'_Total': 1}, 'honther': {'_Total': 1}, 'amprisin': {'_Total': 1}, 'formeny': {'_Total': 1}, 'turmcs': {'_Total': 1}, 'natturalife': {'_Total': 1}, 'toan': {'_Total': 1}, 'sentenses': {'_Total': 1}, 'itenso': {'_Total': 1}, 'ligt': {'_Total': 1}, 'niinds': {'_Total': 1}, 'blle': {'_Total': 1}, 'litdl': {'_Total': 1}, 'reserection': {'_Total': 1}, 'actild': {'_Total': 1}, 'reckegnise': {'_Total': 1}, 'ofigd': {'_Total': 1}, 'bexisting': {'_Total': 1}, 'oanert': {'_Total': 1}, 'ofparid': {'_Total': 1}, 'insistervd': {'_Total': 1}, 'arby': {'_Total': 1}, 'poverdty': {'_Total': 1}, 'themmin': {'_Total': 1}, 'comparid': {'_Total': 2}, 'propery': {'_Total': 2}, 'wlh': {'_Total': 1}, 'persinl': {'_Total': 1}, 'coffiskated': {'_Total': 1}, 'sheaty': {'_Total': 1}, 'gevermet': {'_Total': 1}, 'ofle': {'_Total': 1}, 'rerstord': {'_Total': 1}, 'wusat': {'_Total': 1}, 'cever': {'_Total': 1}, 'worven': {'_Total': 1}, 'churche': {'_Total': 1}, 'topad': {'_Total': 1}, 'natil': {'_Total': 1}, 'dereme': {'_Total': 1}, 'rentel': {'_Total': 1}, 'ecpedition': {'_Total': 1}, 'ingenel': {'_Total': 1}, 'foits': {'_Total': 1}, 'advige': {'_Total': 1}, 'gecaninc': {'_Total': 1}, 'oreteo': {'_Total': 1}, 'meeteryd': {'_Total': 1}, 'youto': {'_Total': 1}, 'stensibly': {'_Total': 1}, 'stal': {'_Total': 2}, 'serdn': {'_Total': 1}, 'fetel': {'_Total': 1}, 'afitials': {'_Total': 1}, 'represh': {'_Total': 1}, 'belliinm': {'_Total': 1}, 'infat': {'_Total': 1}, 'dxistencs': {'_Total': 1}, 'firtherd': {'_Total': 1}, 'intretes': {'_Total': 1}, 'terobl': {'_Total': 1}, 'pamision': {'_Total': 1}, 'lerd': {'_Total': 1}, 'sikgnificanc': {'_Total': 1}, 'ined': {'_Total': 1}, 'asorty': {'_Total': 1}, 'anihing': {'_Total': 1}, 'blotidg': {'_Total': 1}, 'bucchury': {'_Total': 1}, 'xerfet': {'_Total': 1}, 'ganizetd': {'_Total': 1}, 'eded': {'_Total': 1}, 'sible': {'_Total': 1}, 'offiers': {'_Total': 1}, 'govirer': {'_Total': 1}, 'acpters': {'_Total': 1}, 'incaty': {'_Total': 1}, 'agins': {'_Total': 1}, 'politiple': {'_Total': 1}, 'amotes': {'_Total': 1}, 'plonder': {'_Total': 1}, 'revhanh': {'_Total': 1}, 'sedos': {'_Total': 1}, 'regelarly': {'_Total': 1}, 'afiet': {'_Total': 1}, 'herencs': {'_Total': 1}, 'ordanisation': {'_Total': 1}, 'nemrers': {'_Total': 1}, 'hudeld': {'_Total': 1}, 'tous': {'_Total': 1}, 'feret': {'_Total': 1}, 'sanht': {'_Total': 1}, 'embly': {'_Total': 1}, 'relligis': {'_Total': 1}, 'sesembly': {'_Total': 1}, 'meracans': {'_Total': 1}, 'imotions': {'_Total': 1}, 'obeginses': {'_Total': 1}, 'nean': {'_Total': 1}, 'ckild': {'_Total': 1}, 'pepple': {'_Total': 1}, 'wagat': {'_Total': 1}, 'blictury': {'_Total': 1}, 'thavd': {'_Total': 1}, 'huted': {'_Total': 1}, 'houdee': {'_Total': 1}, 'becets': {'_Total': 1}, 'chall': {'_Total': 1}, 'wmed': {'_Total': 1}, 'histry': {'_Total': 1}, 'oncontry': {'_Total': 1}, 'pareble': {'_Total': 1}, 'isthese': {'_Total': 1}, 'ackibition': {'_Total': 1}, 'injuestes': {'_Total': 1}, 'inhem': {'_Total': 1}, 'mithin': {'_Total': 1}, 'tnen': {'_Total': 1}, 'refeng': {'_Total': 1}, 'sheltere': {'_Total': 1}, 'omong': {'_Total': 1}, 'huspittble': {'_Total': 1}, 'cla': {'_Total': 2}, 'themselfs': {'_Total': 1}, 'counmy': {'_Total': 1}, 'tharin': {'_Total': 1}, 'tanding': {'_Total': 1}, 'sinly': {'_Total': 1}, 'cronicled': {'_Total': 1}, 'scrie': {'_Total': 1}, 'tove': {'_Total': 2}, 'nelles': {'_Total': 1}, 'smolust': {'_Total': 1}, 'alsedes': {'_Total': 1}, 'ataned': {'_Total': 1}, 'preportioncs': {'_Total': 1}, 'treev': {'_Total': 1}, 'nesthing': {'_Total': 1}, 'eacore': {'_Total': 1}, 'okn': {'_Total': 1}, 'petection': {'_Total': 1}, 'sadifaction': {'_Total': 1}, 'pevrey': {'_Total': 1}, 'polgrom': {'_Total': 1}, 'jurneng': {'_Total': 1}, 'headben': {'_Total': 1}, 'tounded': {'_Total': 1}, 'mormend': {'_Total': 1}, 'sanmblys': {'_Total': 1}, 'sirvdius': {'_Total': 1}, 'terty': {'_Total': 1}, 'combenty': {'_Total': 1}, 'forly': {'_Total': 1}, 'setlers': {'_Total': 1}, 'whicherd': {'_Total': 1}, 'sosins': {'_Total': 1}, 'converdts': {'_Total': 1}, 'woar': {'_Total': 1}, 'perctos': {'_Total': 1}, 'miszeury': {'_Total': 1}, 'dopedince': {'_Total': 1}, 'jecks': {'_Total': 1}, 'honnyg': {'_Total': 1}, 'frome': {'_Total': 1}, 'firstt': {'_Total': 1}, 'misseris': {'_Total': 1}, 'noteble': {'_Total': 1}, 'ini': {'_Total': 1}, 'trivds': {'_Total': 1}, 'gerly': {'_Total': 1}, 'barthad': {'_Total': 1}, 'eligong': {'_Total': 1}, 'seiing': {'_Total': 1}, 'bloal': {'_Total': 1}, 'morman': {'_Total': 2}, 'strakking': {'_Total': 1}, 'pructis': {'_Total': 1}, 'prvents': {'_Total': 1}, 'bolen': {'_Total': 1}, 'nup': {'_Total': 1}, 'strantining': {'_Total': 1}, 'uffor': {'_Total': 1}, 'branhies': {'_Total': 1}, 'muchis': {'_Total': 1}, 'seldten': {'_Total': 1}, 'rony': {'_Total': 1}, 'ixist': {'_Total': 1}, 'picening': {'_Total': 1}, 'stranke': {'_Total': 1}, 'gurm': {'_Total': 1}, 'incsig': {'_Total': 1}, 'nifican': {'_Total': 1}, 'hadly': {'_Total': 1}, 'oppisition': {'_Total': 1}, 'stavls': {'_Total': 1}, 'churh': {'_Total': 1}, 'prilitl': {'_Total': 1}, 'amons': {'_Total': 1}, 'wlakh': {'_Total': 1}, 'sorosed': {'_Total': 1}, 'motternd': {'_Total': 1}, 'sixt': {'_Total': 1}, 'thirdy': {'_Total': 1}, 'curctor': {'_Total': 1}, 'crae': {'_Total': 1}, 'laterd': {'_Total': 1}, 'saintes': {'_Total': 1}, 'fomenly': {'_Total': 1}, 'gorginiced': {'_Total': 1}, 'tocon': {'_Total': 1}, 'lebel': {'_Total': 1}, 'axistencs': {'_Total': 1}, 'buokco': {'_Total': 1}, 'origon': {'_Total': 1}, 'dustiny': {'_Total': 1}, 'marican': {'_Total': 1}, 'ibians': {'_Total': 1}, 'rendenct': {'_Total': 1}, 'wondce': {'_Total': 1}, 'myty': {'_Total': 1}, 'mormenisom': {'_Total': 1}, 'heartes': {'_Total': 1}, 'terndt': {'_Total': 1}, 'anticepation': {'_Total': 1}, 'woue': {'_Total': 1}, 'geveming': {'_Total': 1}, 'worcet': {'_Total': 1}, 'cariy': {'_Total': 1}, 'weskt': {'_Total': 1}, 'stablishd': {'_Total': 1}, 'tanin': {'_Total': 1}, 'guverner': {'_Total': 1}, 'libern': {'_Total': 1}, 'ubovgh': {'_Total': 1}, 'oard': {'_Total': 1}, 'prnoustt': {'_Total': 1}, 'torope': {'_Total': 1}, 'peried': {'_Total': 1}, 'trubls': {'_Total': 1}, 'sempilhe': {'_Total': 1}, 'perseurs': {'_Total': 1}, 'bretality': {'_Total': 1}, 'qotd': {'_Total': 1}, 'fromf': {'_Total': 1}, 'quinccy': {'_Total': 1}, 'argis': {'_Total': 1}, 'marcch': {'_Total': 1}, 'sixtens': {'_Total': 1}, 'serdy': {'_Total': 1}, 'quorl': {'_Total': 1}, 'mormence': {'_Total': 1}, 'owhat': {'_Total': 1}, 'rekerd': {'_Total': 1}, 'pitured': {'_Total': 1}, 'affle': {'_Total': 1}, 'esagle': {'_Total': 1}, 'hammlet': {'_Total': 1}, 'smolise': {'_Total': 1}, 'memberse': {'_Total': 1}, 'wedaed': {'_Total': 1}, 'sebea': {'_Total': 1}, 'huderd': {'_Total': 1}, 'orted': {'_Total': 1}, 'wornds': {'_Total': 1}, 'thech': {'_Total': 1}, 'prestet': {'_Total': 1}, 'onjest': {'_Total': 1}, 'frmees': {'_Total': 1}, 'beleby': {'_Total': 1}, 'toma': {'_Total': 1}, 'adnd': {'_Total': 1}, 'sanper': {'_Total': 1}, 'sercastic': {'_Total': 1}, 'slere': {'_Total': 1}, 'frbad': {'_Total': 1}, 'waht': {'_Total': 1}, 'prmcete': {'_Total': 1}, 'orten': {'_Total': 1}, 'feenits': {'_Total': 1}, 'abfter': {'_Total': 1}, 'prerhaps': {'_Total': 1}, 'ofher': {'_Total': 1}, 'fortiun': {'_Total': 1}, 'betdy': {'_Total': 1}, 'captitayt': {'_Total': 1}, 'alver': {'_Total': 1}, 'folys': {'_Total': 1}, 'frankmes': {'_Total': 1}, 'aphected': {'_Total': 1}, 'fhots': {'_Total': 1}, 'vascity': {'_Total': 1}, 'combersation': {'_Total': 1}, 'wilth': {'_Total': 1}, 'solis': {'_Total': 1}, 'onher': {'_Total': 1}, 'demener': {'_Total': 1}, 'nices': {'_Total': 1}, 'sentments': {'_Total': 1}, 'strongis': {'_Total': 1}, 'thonter': {'_Total': 1}, 'stannyng': {'_Total': 1}, \"nonmer'salection\": {'_Total': 1}, 'husmen': {'_Total': 1}, 'derect': {'_Total': 1}, 'knowt': {'_Total': 1}, 'rerplied': {'_Total': 1}, 'stoisman': {'_Total': 1}, 'singad': {'_Total': 1}, 'prpict': {'_Total': 1}, 'shorencs': {'_Total': 1}, 'frumboh': {'_Total': 1}, 'beluvt': {'_Total': 1}, 'swotly': {'_Total': 1}, 'averst': {'_Total': 1}, 'sujec': {'_Total': 1}, 'loven': {'_Total': 1}, 'axtent': {'_Total': 1}, 'hru': {'_Total': 1}, 'veris': {'_Total': 1}, 'uon': {'_Total': 1}, 'hoeverd': {'_Total': 1}, 'vanqueshd': {'_Total': 1}, 'shallp': {'_Total': 1}, 'crimd': {'_Total': 1}, 'wirge': {'_Total': 1}, 'forcibe': {'_Total': 1}, 'acxsant': {'_Total': 1}, 'yowire': {'_Total': 1}, 'persn': {'_Total': 1}, 'onner': {'_Total': 1}, 'tresting': {'_Total': 1}, 'serche': {'_Total': 2}, 'toas': {'_Total': 2}, 'questons': {'_Total': 1}, 'anclinations': {'_Total': 1}, 'memers': {'_Total': 1}, 'tasetd': {'_Total': 1}, 'depravd': {'_Total': 1}, 'canyou': {'_Total': 1}, 'woldly': {'_Total': 1}, 'misteriu': {'_Total': 1}, 'woranted': {'_Total': 1}, 'cogerit': {'_Total': 1}, 'acanipl': {'_Total': 1}, 'esk': {'_Total': 1}, 'mahte': {'_Total': 1}, 'serl': {'_Total': 1}, 'betterwy': {'_Total': 1}, 'igus': {'_Total': 1}, 'drothy': {'_Total': 1}, 'anmol': {'_Total': 1}, 'fether': {'_Total': 1}, \"nanchi's\": {'_Total': 1}, 'olovdes': {'_Total': 1}, 'luoke': {'_Total': 1}, 'blacter': {'_Total': 1}, 'ufppeal': {'_Total': 1}, 'hersencs': {'_Total': 1}, 'beatye': {'_Total': 1}, 'transpered': {'_Total': 1}, 'candhes': {'_Total': 1}, 'apae': {'_Total': 1}, 'worl': {'_Total': 3}, 'burtwerse': {'_Total': 1}, 'merders': {'_Total': 1}, 'wikt': {'_Total': 1}, 'peaters': {'_Total': 1}, 'allers': {'_Total': 1}, 'bouthe': {'_Total': 1}, 'jel': {'_Total': 1}, 'prowild': {'_Total': 1}, 'prolobly': {'_Total': 1}, 'eprovecation': {'_Total': 1}, 'bty': {'_Total': 1}, 'helike': {'_Total': 1}, 'tendearis': {'_Total': 1}, 'nopin': {'_Total': 1}, 'hanlort': {'_Total': 1}, 'degre': {'_Total': 1}, 'pecge': {'_Total': 1}, 'creadit': {'_Total': 1}, 'soolicgy': {'_Total': 1}, 'colee': {'_Total': 1}, 'pesd': {'_Total': 1}, 'seris': {'_Total': 2}, 'sinte': {'_Total': 1}, 'tecxt': {'_Total': 1}, 'iwang': {'_Total': 1}, 'poup': {'_Total': 1}, 'whoth': {'_Total': 1}, 'temvs': {'_Total': 1}, 'pusitiong': {'_Total': 1}, 'shaut': {'_Total': 2}, 'fanly': {'_Total': 1}, 'codt': {'_Total': 1}, 'olovs': {'_Total': 1}, 'mornful': {'_Total': 1}, 'nmanys': {'_Total': 1}, 'sperpling': {'_Total': 1}, 'woterful': {'_Total': 1}, 'evher': {'_Total': 1}, 'teyur': {'_Total': 1}, 'towm': {'_Total': 1}, 'eapter': {'_Total': 1}, 'tremwing': {'_Total': 1}, 'reprdos': {'_Total': 1}, 'whuth': {'_Total': 1}, 'tersef': {'_Total': 1}, 'freny': {'_Total': 1}, 'thern': {'_Total': 1}, 'ceeder': {'_Total': 1}, 'holod': {'_Total': 1}, 'pangry': {'_Total': 1}, 'wesenful': {'_Total': 1}, 'creto': {'_Total': 1}, 'dowm': {'_Total': 1}, 'ferve': {'_Total': 1}, 'sences': {'_Total': 1}, 'kepes': {'_Total': 1}, 'comamentcs': {'_Total': 1}, 'firstra': {'_Total': 1}, 'granfauther': {'_Total': 1}, 'cilld': {'_Total': 1}, 'eritable': {'_Total': 1}, 'covd': {'_Total': 1}, 'indiffernt': {'_Total': 1}, 'couldntt': {'_Total': 1}, 'poppam': {'_Total': 1}, 'narite': {'_Total': 1}, 'woild': {'_Total': 1}, 'sarch': {'_Total': 1}, 'riplie': {'_Total': 1}, 'sirl': {'_Total': 1}, 'tolooe': {'_Total': 1}, 'poppom': {'_Total': 1}, 'couldnot': {'_Total': 1}, 'inher': {'_Total': 1}, 'pictiurs': {'_Total': 1}, 'jelman': {'_Total': 1}, 'opgect': {'_Total': 1}, 'conceavd': {'_Total': 1}, 'prece': {'_Total': 1}, 'gremn': {'_Total': 1}, 'fhelt': {'_Total': 1}, 'necs': {'_Total': 1}, 'olivses': {'_Total': 1}, 'hellpe': {'_Total': 1}, 'sermmoniecs': {'_Total': 1}, 'harmen': {'_Total': 2}, 'thrie': {'_Total': 1}, 'cich': {'_Total': 1}, 'sigrlly': {'_Total': 1}, 'savbl': {'_Total': 1}, 'toring': {'_Total': 1}, 'eening': {'_Total': 1}, 'rene': {'_Total': 2}, 'ciction': {'_Total': 1}, 'belad': {'_Total': 1}, 'continlol': {'_Total': 1}, 'marple': {'_Total': 1}, 'myk': {'_Total': 1}, 'flaers': {'_Total': 1}, 'bemand': {'_Total': 1}, 'mener': {'_Total': 1}, 'shatto': {'_Total': 1}, 'shinds': {'_Total': 1}, 'behund': {'_Total': 1}, 'thinsat': {'_Total': 1}, 'erno': {'_Total': 1}, 'orne': {'_Total': 1}, 'ammencs': {'_Total': 1}, 'olwo': {'_Total': 1}, 'pentid': {'_Total': 1}, 'motow': {'_Total': 1}, 'panil': {'_Total': 1}, 'pandes': {'_Total': 1}, 'popem': {'_Total': 1}, 'thefire': {'_Total': 1}, 'ied': {'_Total': 1}, 'detply': {'_Total': 1}, 'fited': {'_Total': 1}, 'prpard': {'_Total': 1}, 'serlice': {'_Total': 1}, 'ligting': {'_Total': 1}, 'stans': {'_Total': 1}, 'thirset': {'_Total': 1}, 'lingd': {'_Total': 1}, 'beloterd': {'_Total': 1}, 'hars': {'_Total': 1}, 'splendet': {'_Total': 1}, 'pokus': {'_Total': 1}, 'thaye': {'_Total': 1}, 'gratest': {'_Total': 1}, 'precting': {'_Total': 1}, 'carple': {'_Total': 1}, 'artikcl': {'_Total': 1}, 'thesenter': {'_Total': 1}, 'mnoe': {'_Total': 1}, 'excleamed': {'_Total': 1}, 'hasf': {'_Total': 1}, 'olfh': {'_Total': 1}, 'courme': {'_Total': 1}, 'wealler': {'_Total': 1}, 'thirse': {'_Total': 1}, 'biell': {'_Total': 1}, 'rufpers': {'_Total': 1}, 'nister': {'_Total': 1}, 'messus': {'_Total': 1}, 'poppul': {'_Total': 1}, 'gobpes': {'_Total': 1}, 'goiht': {'_Total': 1}, 'otere': {'_Total': 1}, 'shoid': {'_Total': 1}, 'tiliht': {'_Total': 1}, 'diing': {'_Total': 1}, 'evrythiing': {'_Total': 1}, 'copof': {'_Total': 1}, 'panow': {'_Total': 1}, 'yoered': {'_Total': 1}, 'femly': {'_Total': 1}, 'indoit': {'_Total': 1}, 'nertiong': {'_Total': 1}, 'ecsersions': {'_Total': 1}, 'harmmand': {'_Total': 1}, 'fhit': {'_Total': 1}, 'pravetly': {'_Total': 1}, 'kek': {'_Total': 1}, 'cruver': {'_Total': 1}, 'resad': {'_Total': 1}, 'tirm': {'_Total': 1}, 'mantey': {'_Total': 1}, 'poppieler': {'_Total': 1}, 'anincs': {'_Total': 1}, 'gipt': {'_Total': 1}, 'ellor': {'_Total': 1}, 'havs': {'_Total': 1}, 'necx': {'_Total': 1}, 'purth': {'_Total': 1}, 'probrem': {'_Total': 1}, 'hafp': {'_Total': 1}, 'procetion': {'_Total': 1}, 'starsed': {'_Total': 1}, 'beterm': {'_Total': 1}, 'cofpy': {'_Total': 1}, 'nany': {'_Total': 1}, 'ethersep': {'_Total': 1}, 'salites': {'_Total': 1}, 'cacke': {'_Total': 1}, 'domats': {'_Total': 1}, 'tworch': {'_Total': 1}, 'resiis': {'_Total': 1}, 'beatoffe': {'_Total': 1}, 'ritin': {'_Total': 1}, 'somesech': {'_Total': 1}, 'perpis': {'_Total': 1}, 'grenkinus': {'_Total': 1}, 'artent': {'_Total': 1}, 'congrmove': {'_Total': 1}, 'suppery': {'_Total': 1}, 'statis': {'_Total': 1}, 'harbl': {'_Total': 1}, 'toforit': {'_Total': 1}, 'farter': {'_Total': 1}, 'wotfe': {'_Total': 1}, 'hertoins': {'_Total': 1}, 'tinteity': {'_Total': 1}, 'sucht': {'_Total': 1}, 'consemption': {'_Total': 4}, 'fuls': {'_Total': 1}, 'wiman': {'_Total': 1}, 'incidentl': {'_Total': 1}, 'contie': {'_Total': 1}, 'lape': {'_Total': 1}, 'therownd': {'_Total': 1}, 'foles': {'_Total': 1}, 'thenever': {'_Total': 1}, 'sevis': {'_Total': 1}, 'derecelet': {'_Total': 1}, 'lusuer': {'_Total': 1}, 'fitin': {'_Total': 1}, 'aquis': {'_Total': 1}, 'osamany': {'_Total': 1}, 'athrast': {'_Total': 1}, 'ocrute': {'_Total': 1}, 'restygre': {'_Total': 1}, 'acpects': {'_Total': 1}, 'prersnis': {'_Total': 1}, 'grepo': {'_Total': 1}, 'bycaris': {'_Total': 1}, 'concime': {'_Total': 1}, 'indthe': {'_Total': 1}, 'pessiens': {'_Total': 1}, 'thutern': {'_Total': 1}, 'taers': {'_Total': 1}, 'setreh': {'_Total': 1}, 'firterd': {'_Total': 1}, 'foncs': {'_Total': 1}, 'regores': {'_Total': 1}, 'wotdev': {'_Total': 1}, 'tereish': {'_Total': 1}, 'bacis': {'_Total': 1}, 'ditintion': {'_Total': 1}, 'woich': {'_Total': 1}, 'rerk': {'_Total': 1}, 'itof': {'_Total': 1}, 'commention': {'_Total': 1}, 'vhe': {'_Total': 1}, 'sclene': {'_Total': 1}, 'concemption': {'_Total': 1}, 'esinly': {'_Total': 1}, 'fissis': {'_Total': 1}, 'prfor': {'_Total': 1}, 'nplimant': {'_Total': 1}, 'croses': {'_Total': 1}, 'nagl': {'_Total': 1}, 'govee': {'_Total': 1}, 'hamting': {'_Total': 1}, 'hac': {'_Total': 1}, 'shopt': {'_Total': 1}, 'iby': {'_Total': 1}, 'petitryn': {'_Total': 1}, 'puonents': {'_Total': 1}, 'sumany': {'_Total': 1}, 'makgap': {'_Total': 1}, 'hiangerys': {'_Total': 1}, 'licaries': {'_Total': 1}, 'concemer': {'_Total': 1}, 'wethut': {'_Total': 1}, 'qofication': {'_Total': 1}, 'cuotications': {'_Total': 1}, 'patra': {'_Total': 1}, 'gretuel': {'_Total': 1}, 'leakont': {'_Total': 1}, 'generowl': {'_Total': 1}, 'vinding': {'_Total': 1}, 'thatc': {'_Total': 1}, 'wemen': {'_Total': 1}, 'concem': {'_Total': 1}, 'mastes': {'_Total': 1}, 'lebert': {'_Total': 1}, 'sistim': {'_Total': 2}, 'greaes': {'_Total': 1}, 'custim': {'_Total': 1}, 'feustave': {'_Total': 1}, 'gedlings': {'_Total': 1}, 'poboble': {'_Total': 1}, 'comle': {'_Total': 1}, 'lhelition': {'_Total': 1}, 'mentie': {'_Total': 1}, 'pressen': {'_Total': 1}, 'continge': {'_Total': 1}, 'genel': {'_Total': 1}, 'disstintion': {'_Total': 1}, 'imn': {'_Total': 1}, 'nacture': {'_Total': 1}, 'lecturise': {'_Total': 1}, 'comfortes': {'_Total': 1}, 'warers': {'_Total': 1}, 'ofromes': {'_Total': 1}, 'livrase': {'_Total': 1}, 'refe': {'_Total': 1}, 'devidid': {'_Total': 1}, 'tocrosces': {'_Total': 1}, 'servie': {'_Total': 1}, 'negl': {'_Total': 1}, 'agnble': {'_Total': 1}, 'arrety': {'_Total': 1}, 'pontien': {'_Total': 1}, 'ccon': {'_Total': 1}, 'nady': {'_Total': 1}, 'concembtion': {'_Total': 1}, 'oficide': {'_Total': 1}, 'anevidencs': {'_Total': 1}, 'bhegen': {'_Total': 1}, 'wherke': {'_Total': 1}, 'morarles': {'_Total': 1}, 'soleber': {'_Total': 1}, 'comsumption': {'_Total': 1}, 'lejuris': {'_Total': 1}, 'trcencs': {'_Total': 1}, 'comsumptiond': {'_Total': 1}, 'concemmer': {'_Total': 1}, 'hinesef': {'_Total': 1}, 'andis': {'_Total': 1}, 'thefor': {'_Total': 1}, 'tiofe': {'_Total': 1}, 'concemtion': {'_Total': 2}, 'crast': {'_Total': 1}, 'nivery': {'_Total': 1}, 'tomely': {'_Total': 1}, 'warit': {'_Total': 1}, 'jentem': {'_Total': 1}, 'lisur': {'_Total': 1}, 'meser': {'_Total': 1}, 'thero': {'_Total': 1}, 'onle': {'_Total': 1}, 'postilys': {'_Total': 1}, 'beratid': {'_Total': 1}, 'licaris': {'_Total': 1}, 'concimes': {'_Total': 1}, 'geuni': {'_Total': 1}, 'livrice': {'_Total': 1}, 'ocon': {'_Total': 1}, 'siterpl': {'_Total': 1}, 'dependense': {'_Total': 1}, 'maeven': {'_Total': 1}, 'bysed': {'_Total': 1}, 'sevitud': {'_Total': 1}, 'entictuls': {'_Total': 1}, 'serte': {'_Total': 1}, 'bevergus': {'_Total': 1}, 'supere': {'_Total': 1}, 'abgiction': {'_Total': 1}, 'cuos': {'_Total': 1}, 'prsens': {'_Total': 1}, 'ovsef': {'_Total': 1}, 'wimens': {'_Total': 1}, 'sjres': {'_Total': 1}, 'houwol': {'_Total': 1}, 'itdol': {'_Total': 1}, 'seequt': {'_Total': 1}, 'omot': {'_Total': 1}, 'ofthis': {'_Total': 1}, 'happendt': {'_Total': 1}, 'deszese': {'_Total': 1}, 'ortgin': {'_Total': 1}, 'avber': {'_Total': 1}, 'sinenem': {'_Total': 1}, 'orgentl': {'_Total': 1}, 'obdicky': {'_Total': 1}, 'pristere': {'_Total': 1}, 'dieni': {'_Total': 1}, 'gretification': {'_Total': 1}, 'spertuel': {'_Total': 1}, 'greact': {'_Total': 1}, 'obelity': {'_Total': 1}, 'labrine': {'_Total': 1}, 'prentin': {'_Total': 1}, 'hanmy': {'_Total': 1}, 'ethert': {'_Total': 1}, 'defime': {'_Total': 1}, 'butdy': {'_Total': 1}, 'worcken': {'_Total': 1}, 'coendo': {'_Total': 1}, 'somtini': {'_Total': 1}, 'sentin': {'_Total': 1}, 'levl': {'_Total': 1}, 'indigencs': {'_Total': 1}, 'mirgion': {'_Total': 1}, 'slemce': {'_Total': 1}, 'tutrn': {'_Total': 1}, 'bercto': {'_Total': 1}, 'cese': {'_Total': 1}, 'coneom': {'_Total': 1}, 'boliegl': {'_Total': 1}, 'wominwy': {'_Total': 1}, 'hoshols': {'_Total': 1}, 'pecunery': {'_Total': 1}, 'deceeicy': {'_Total': 1}, 'delegeto': {'_Total': 1}, 'stitis': {'_Total': 1}, 'fwife': {'_Total': 1}, 'expeck': {'_Total': 1}, 'tidin': {'_Total': 1}, 'lakhet': {'_Total': 1}, 'detes': {'_Total': 1}, 'propom': {'_Total': 1}, 'grechol': {'_Total': 1}, 'naros': {'_Total': 1}, 'tevin': {'_Total': 1}, 'therrfor': {'_Total': 1}, 'trened': {'_Total': 1}, 'beloment': {'_Total': 1}, 'egin': {'_Total': 2}, 'deritio': {'_Total': 1}, 'hiping': {'_Total': 1}, 'comncemption': {'_Total': 1}, 'compard': {'_Total': 1}, 'lesure': {'_Total': 1}, 'equll': {'_Total': 1}, 'erli': {'_Total': 1}, 'staties': {'_Total': 1}, 'grouth': {'_Total': 1}, 'poinh': {'_Total': 1}, 'presenty': {'_Total': 1}, 'lecetd': {'_Total': 1}, 'dutis': {'_Total': 1}, 'careis': {'_Total': 1}, 'lesier': {'_Total': 1}, 'debolbe': {'_Total': 1}, 'comfitis': {'_Total': 1}, 'achuved': {'_Total': 1}, 'morlous': {'_Total': 1}, 'furtu': {'_Total': 1}, 'bechee': {'_Total': 1}, 'pracetid': {'_Total': 1}, 'effit': {'_Total': 1}, 'consistentle': {'_Total': 1}, 'coinsite': {'_Total': 1}, 'metteds': {'_Total': 1}, 'effictivbly': {'_Total': 1}, 'reahe': {'_Total': 1}, 'persencs': {'_Total': 1}, 'condictions': {'_Total': 1}, 'iteds': {'_Total': 1}, 'tesired': {'_Total': 1}, 'ffect': {'_Total': 1}, 'alementin': {'_Total': 1}, 'hisels': {'_Total': 1}, 'meti': {'_Total': 1}, 'subole': {'_Total': 1}, 'sincy': {'_Total': 1}, 'ei': {'_Total': 1}, 'comento': {'_Total': 1}, 'comtic': {'_Total': 1}, 'widst': {'_Total': 1}, 'wober': {'_Total': 1}, 'oty': {'_Total': 1}, 'greakost': {'_Total': 1}, 'commetes': {'_Total': 1}, 'wuston': {'_Total': 1}, 'coture': {'_Total': 1}, 'porin': {'_Total': 1}, 'oamong': {'_Total': 1}, 'emidld': {'_Total': 1}, 'cras': {'_Total': 1}, 'squolere': {'_Total': 1}, 'angurd': {'_Total': 1}, 'cuneary': {'_Total': 1}, 'poutwayy': {'_Total': 1}, 'popenation': {'_Total': 1}, 'atxplace': {'_Total': 1}, 'somics': {'_Total': 1}, 'satings': {'_Total': 1}, 'comefet': {'_Total': 1}, 'tanegin': {'_Total': 1}, 'mabent': {'_Total': 1}, 'cosi': {'_Total': 1}, 'suffition': {'_Total': 1}, 'pertis': {'_Total': 1}, 'ecunery': {'_Total': 1}, 'mottern': {'_Total': 1}, 'orgonixation': {'_Total': 1}, 'inxtry': {'_Total': 1}, 'wrcke': {'_Total': 1}, 'notheron': {'_Total': 1}, 'setlite': {'_Total': 1}, 'td': {'_Total': 1}, 'consu': {'_Total': 1}, 'wased': {'_Total': 1}, 'salind': {'_Total': 1}, 'peaties': {'_Total': 1}, 'deveopment': {'_Total': 1}, 'othar': {'_Total': 1}, 'groance': {'_Total': 1}, 'lihfe': {'_Total': 2}, 'himplie': {'_Total': 1}, 'prcatioe': {'_Total': 1}, 'secoms': {'_Total': 1}, 'sthucs': {'_Total': 1}, 'pormiting': {'_Total': 1}, 'instine': {'_Total': 1}, 'thespos': {'_Total': 1}, 'fabrer': {'_Total': 1}, 'omn': {'_Total': 1}, 'humn': {'_Total': 1}, 'prpestefl': {'_Total': 1}, 'affectiv': {'_Total': 1}, 'vetitiome': {'_Total': 1}, 'shoutd': {'_Total': 1}, 'ekxpeck': {'_Total': 1}, 'lesture': {'_Total': 1}, 'conspike': {'_Total': 1}, 'consumbtion': {'_Total': 1}, 'goncs': {'_Total': 1}, 'dibiding': {'_Total': 1}, 'feof': {'_Total': 1}, 'ctu': {'_Total': 1}, 'anlation': {'_Total': 1}, 'pruhtyt': {'_Total': 1}, 'beren': {'_Total': 1}, 'yesed': {'_Total': 1}, 'speacht': {'_Total': 1}, 'wortd': {'_Total': 1}, 'leton': {'_Total': 1}, 'prication': {'_Total': 1}, 'actiol': {'_Total': 1}, 'dife': {'_Total': 1}, 'taze': {'_Total': 1}, 'ansdas': {'_Total': 1}, 'omentin': {'_Total': 1}, 'standered': {'_Total': 1}, 'deonsty': {'_Total': 1}, 'quorss': {'_Total': 1}, 'comtier': {'_Total': 1}, 'comficting': {'_Total': 1}, 'quimance': {'_Total': 1}, 'rys': {'_Total': 1}, 'meke': {'_Total': 1}, 'belith': {'_Total': 1}, 'inin': {'_Total': 1}, 'cok': {'_Total': 1}, 'purlikt': {'_Total': 1}, 'servinsis': {'_Total': 1}, 'tutis': {'_Total': 1}, 'serm': {'_Total': 1}, 'lotur': {'_Total': 1}, 'devello': {'_Total': 1}, 'manyeor': {'_Total': 1}, 'panesation': {'_Total': 1}, 'officiol': {'_Total': 1}, 'antiptl': {'_Total': 1}, 'theri': {'_Total': 1}, 'smech': {'_Total': 1}, 'telkkis': {'_Total': 1}, 'hevecation': {'_Total': 1}, 'wucht': {'_Total': 1}, 'fect': {'_Total': 1}, 'truftet': {'_Total': 1}, 'grase': {'_Total': 1}, 'theyfoe': {'_Total': 1}, 'inplie': {'_Total': 1}, 'deprcation': {'_Total': 1}, 'contumer': {'_Total': 1}, 'canin': {'_Total': 1}, 'stickt': {'_Total': 1}, 'accures': {'_Total': 1}, 'undder': {'_Total': 1}, 'conspickes': {'_Total': 1}, 'incardt': {'_Total': 1}, 'pecanery': {'_Total': 1}, 'thorout': {'_Total': 1}, 'exxpenniture': {'_Total': 1}, 'servisis': {'_Total': 1}, 'orhu': {'_Total': 1}, 'ligteh': {'_Total': 1}, 'thec': {'_Total': 1}, 'turl': {'_Total': 1}, 'concemis': {'_Total': 1}, 'giot': {'_Total': 1}, 'exxpeniture': {'_Total': 1}, 'marpuld': {'_Total': 1}, 'dhesired': {'_Total': 1}, 'beenformed': {'_Total': 1}, 'breffly': {'_Total': 1}, 'scridem': {'_Total': 1}, 'measiure': {'_Total': 1}, 'sek': {'_Total': 2}, 'retisturs': {'_Total': 1}, 'fountyd': {'_Total': 1}, 'qord': {'_Total': 1}, 'agept': {'_Total': 1}, 'wlhusn': {'_Total': 1}, 'atal': {'_Total': 1}, 'solerns': {'_Total': 1}, 'frent': {'_Total': 1}, 'drpites': {'_Total': 1}, 'wmy': {'_Total': 1}, 'grenfather': {'_Total': 1}, 'toden': {'_Total': 1}, 'creadiees': {'_Total': 1}, 'solllon': {'_Total': 1}, 'timaas': {'_Total': 1}, 'approes': {'_Total': 1}, 'pprove': {'_Total': 1}, 'otther': {'_Total': 1}, 'heins': {'_Total': 1}, 'diertid': {'_Total': 1}, 'repal': {'_Total': 1}, 'apqor': {'_Total': 1}, 'liveit': {'_Total': 1}, 'peilirs': {'_Total': 1}, 'sogrites': {'_Total': 1}, 'timas': {'_Total': 2}, 'selery': {'_Total': 1}, 'republike': {'_Total': 1}, 'ubxeve': {'_Total': 1}, 'whak': {'_Total': 1}, 'ceare': {'_Total': 1}, 'persiot': {'_Total': 1}, 'whistom': {'_Total': 1}, 'scirchong': {'_Total': 1}, 'famus': {'_Total': 1}, 'ection': {'_Total': 1}, 'thengin': {'_Total': 1}, 'indeaged': {'_Total': 1}, 'theirefort': {'_Total': 1}, 'iturn': {'_Total': 1}, 'sitis': {'_Total': 1}, 'atwonce': {'_Total': 1}, 'cretius': {'_Total': 1}, 'alle': {'_Total': 1}, 'afthens': {'_Total': 1}, 'sinelely': {'_Total': 1}, 'complishd': {'_Total': 1}, 'mocrites': {'_Total': 1}, 'fite': {'_Total': 1}, 'edication': {'_Total': 1}, 'sheare': {'_Total': 1}, 'childend': {'_Total': 1}, 'ixis': {'_Total': 1}, 'lonvis': {'_Total': 1}, 'oden': {'_Total': 1}, 'xplanto': {'_Total': 1}, 'antotiet': {'_Total': 1}, 'natiel': {'_Total': 1}, 'wio': {'_Total': 1}, 'origion': {'_Total': 1}, 'qoin': {'_Total': 1}, 'preadet': {'_Total': 1}, 'egecat': {'_Total': 1}, 'lostd': {'_Total': 1}, 'theimn': {'_Total': 1}, 'sitisens': {'_Total': 1}, 'rattherd': {'_Total': 1}, 'sfok': {'_Total': 1}, 'recitend': {'_Total': 1}, 'boises': {'_Total': 1}, 'eplenation': {'_Total': 1}, 'shallos': {'_Total': 1}, 'partd': {'_Total': 1}, 'atlanty': {'_Total': 1}, 'othoen': {'_Total': 1}, 'sumgect': {'_Total': 1}, 'peirson': {'_Total': 1}, 'remork': {'_Total': 1}, 'flar': {'_Total': 1}, 'attis': {'_Total': 1}, 'greates': {'_Total': 1}, 'siyse': {'_Total': 1}, 'nolis': {'_Total': 1}, 'dece': {'_Total': 1}, 'conssitition': {'_Total': 1}, 'onther': {'_Total': 1}, 'defece': {'_Total': 1}, 'tesirs': {'_Total': 1}, 'haved': {'_Total': 1}, 'strukle': {'_Total': 1}, 'icxploits': {'_Total': 1}, 'pasteway': {'_Total': 1}, 'wepes': {'_Total': 1}, 'theecters': {'_Total': 1}, 'faimos': {'_Total': 1}, 'overtheol': {'_Total': 1}, 'ilond': {'_Total': 1}, 'plantes': {'_Total': 1}, 'spekat': {'_Total': 1}, 'bekcus': {'_Total': 1}, 'wonked': {'_Total': 1}, 'fanccye': {'_Total': 1}, 'mne': {'_Total': 1}, 'platnests': {'_Total': 1}, 'intrting': {'_Total': 1}, 'begis': {'_Total': 1}, 'icivi': {'_Total': 1}, 'thase': {'_Total': 1}, 'huon': {'_Total': 1}, 'frefal': {'_Total': 1}, 'wivly': {'_Total': 1}, 'sentres': {'_Total': 1}, 'ecxtent': {'_Total': 1}, 'wetthere': {'_Total': 1}, 'oftem': {'_Total': 1}, 'cies': {'_Total': 1}, 'totrilithes': {'_Total': 1}, 'ixpresly': {'_Total': 1}, 'coneti': {'_Total': 1}, 'prason': {'_Total': 1}, 'platel': {'_Total': 1}, 'nop': {'_Total': 1}, 'yeart': {'_Total': 1}, 'fastion': {'_Total': 1}, 'byht': {'_Total': 1}, 'fisicol': {'_Total': 1}, 'thenomene': {'_Total': 1}, 'dhets': {'_Total': 1}, 'tillo': {'_Total': 1}, 'plaenest': {'_Total': 1}, 'juowish': {'_Total': 1}, 'stripters': {'_Total': 1}, 'ofthem': {'_Total': 1}, 'elesitde': {'_Total': 1}, 'boctrns': {'_Total': 1}, 'aderiuns': {'_Total': 1}, 'platol': {'_Total': 2}, 'fingd': {'_Total': 1}, 'sorct': {'_Total': 1}, 'plosinus': {'_Total': 1}, 'curact': {'_Total': 1}, 'semse': {'_Total': 1}, 'mati': {'_Total': 1}, 'givenot': {'_Total': 1}, 'hevs': {'_Total': 1}, 'asyect': {'_Total': 1}, 'flingd': {'_Total': 1}, 'pitl': {'_Total': 1}, 'rinin': {'_Total': 1}, 'theers': {'_Total': 1}, 'nowlee': {'_Total': 1}, 'ataterus': {'_Total': 1}, 'atho': {'_Total': 1}, 'aleens': {'_Total': 1}, 'reson': {'_Total': 1}, 'cabl': {'_Total': 1}, 'suduin': {'_Total': 1}, 'supoos': {'_Total': 1}, 'contingd': {'_Total': 1}, 'banture': {'_Total': 1}, 'comentaters': {'_Total': 1}, 'tomaus': {'_Total': 1}, 'folling': {'_Total': 1}, 'intold': {'_Total': 1}, 'aplatinists': {'_Total': 1}, 'plastos': {'_Total': 1}, 'brtly': {'_Total': 1}, 'fromperss': {'_Total': 1}, 'ideus': {'_Total': 1}, 'mumbers': {'_Total': 1}, 'dhes': {'_Total': 1}, 'nommers': {'_Total': 1}, 'topercs': {'_Total': 1}, 'hevercs': {'_Total': 1}, 'tronnmy': {'_Total': 1}, 'feuses': {'_Total': 1}, 'stemwish': {'_Total': 1}, 'sunget': {'_Total': 1}, 'ophet': {'_Total': 1}, 'qases': {'_Total': 1}, 'drening': {'_Total': 1}, 'metecl': {'_Total': 1}, 'figurs': {'_Total': 1}, 'defact': {'_Total': 1}, 'ritom': {'_Total': 1}, 'somtimes': {'_Total': 1}, 'greaver': {'_Total': 1}, 'afosition': {'_Total': 1}, 'platos': {'_Total': 1}, 'erlye': {'_Total': 1}, 'ratencs': {'_Total': 1}, 'elmencs': {'_Total': 1}, 'preso': {'_Total': 1}, 'qreati': {'_Total': 1}, 'clunded': {'_Total': 1}, 'tieius': {'_Total': 1}, 'thewere': {'_Total': 1}, 'theality': {'_Total': 1}, 'theminen': {'_Total': 1}, 'mamg': {'_Total': 1}, 'affor': {'_Total': 1}, 'conlec': {'_Total': 1}, 'timaus': {'_Total': 1}, 'eterscise': {'_Total': 1}, 'tosterity': {'_Total': 1}, 'misunder': {'_Total': 1}, 'presontay': {'_Total': 1}, 'himnself': {'_Total': 1}, 'contemperary': {'_Total': 1}, 'histr': {'_Total': 1}, 'apohtd': {'_Total': 1}, 'tias': {'_Total': 1}, 'difer': {'_Total': 1}, 'dillos': {'_Total': 1}, 'dilok': {'_Total': 1}, 'prinerly': {'_Total': 1}, 'incluting': {'_Total': 1}, 'havenly': {'_Total': 1}, 'ason': {'_Total': 1}, 'enimes': {'_Total': 1}, 'mastry': {'_Total': 1}, 'intrmon': {'_Total': 1}, 'xivis': {'_Total': 1}, 'beagers': {'_Total': 1}, 'simposin': {'_Total': 1}, 'platl': {'_Total': 1}, 'pruguse': {'_Total': 1}, 'perfic': {'_Total': 1}, 'tecome': {'_Total': 1}, 'formcs': {'_Total': 1}, 'animls': {'_Total': 1}, 'provible': {'_Total': 1}, 'melation': {'_Total': 1}, 'adeus': {'_Total': 1}, 'conceved': {'_Total': 1}, 'byi': {'_Total': 1}, 'ece': {'_Total': 1}, 'arv': {'_Total': 1}, 'tintoduction': {'_Total': 1}, 'gusing': {'_Total': 1}, 'wordcs': {'_Total': 1}, 'afcter': {'_Total': 1}, 'monint': {'_Total': 1}, 'clost': {'_Total': 1}, 'prapely': {'_Total': 1}, 'hommenise': {'_Total': 1}, 'prestios': {'_Total': 1}, 'frad': {'_Total': 1}, 'treded': {'_Total': 1}, 'roundet': {'_Total': 1}, 'thelittle': {'_Total': 1}, 'bimens': {'_Total': 1}, 'chos': {'_Total': 1}, 'grdated': {'_Total': 1}, 'tirner': {'_Total': 2}, 'princspls': {'_Total': 1}, 'perfecly': {'_Total': 1}, 'avey': {'_Total': 1}, 'formlly': {'_Total': 1}, 'prirtely': {'_Total': 1}, 'realisd': {'_Total': 1}, 'knoive': {'_Total': 1}, 'bintiing': {'_Total': 1}, 'scoe': {'_Total': 1}, 'lastd': {'_Total': 1}, 'claed': {'_Total': 1}, 'nithicl': {'_Total': 1}, 'subjexce': {'_Total': 1}, 'suroun': {'_Total': 1}, 'natre': {'_Total': 1}, 'soffering': {'_Total': 1}, 'dignefied': {'_Total': 1}, 'beiffe': {'_Total': 1}, 'stutis': {'_Total': 1}, 'stitiuss': {'_Total': 1}, 'scurest': {'_Total': 1}, 'debots': {'_Total': 1}, 'reprsentation': {'_Total': 1}, 'sepperated': {'_Total': 1}, 'collorust': {'_Total': 1}, 'habp': {'_Total': 1}, 'canmen': {'_Total': 1}, 'rangement': {'_Total': 1}, 'devisions': {'_Total': 1}, 'raffi': {'_Total': 1}, 'eyxactly': {'_Total': 1}, 'lefe': {'_Total': 1}, 'fornme': {'_Total': 1}, 'grangely': {'_Total': 1}, 'distencs': {'_Total': 1}, 'oxerve': {'_Total': 1}, 'wyou': {'_Total': 1}, 'cononly': {'_Total': 1}, 'striting': {'_Total': 1}, 'creaht': {'_Total': 1}, 'beaty': {'_Total': 3}, 'magination': {'_Total': 1}, 'cicte': {'_Total': 1}, 'fucons': {'_Total': 1}, 'whoenc': {'_Total': 1}, 'thelas': {'_Total': 1}, 'woerds': {'_Total': 1}, 'shek': {'_Total': 1}, 'riod': {'_Total': 1}, 'lides': {'_Total': 1}, 'vanidy': {'_Total': 1}, 'wowol': {'_Total': 1}, 'imposm': {'_Total': 1}, 'retane': {'_Total': 1}, 'temperen': {'_Total': 1}, 'folliste': {'_Total': 1}, 'affath': {'_Total': 1}, 'anmes': {'_Total': 1}, 'prmorting': {'_Total': 1}, 'practi': {'_Total': 1}, 'lifeh': {'_Total': 1}, 'eved': {'_Total': 1}, 'trasis': {'_Total': 1}, 'emn': {'_Total': 1}, 'siming': {'_Total': 1}, 'maestes': {'_Total': 1}, 'torectings': {'_Total': 1}, 'placetd': {'_Total': 1}, 'mish': {'_Total': 1}, 'trancle': {'_Total': 1}, 'alholl': {'_Total': 1}, 'woel': {'_Total': 1}, 'yuniht': {'_Total': 1}, 'quirny': {'_Total': 1}, 'sometem': {'_Total': 1}, 'colorests': {'_Total': 1}, 'churse': {'_Total': 1}, 'scuruss': {'_Total': 1}, 'sujict': {'_Total': 1}, 'afirst': {'_Total': 1}, 'nme': {'_Total': 1}, 'aculy': {'_Total': 1}, 'teficl': {'_Total': 1}, 'willcon': {'_Total': 1}, 'slaghtly': {'_Total': 1}, 'nofh': {'_Total': 1}, 'towrs': {'_Total': 1}, 'carfor': {'_Total': 1}, 'serave': {'_Total': 1}, 'septi': {'_Total': 1}, 'uffect': {'_Total': 1}, 'sounchin': {'_Total': 1}, 'whemest': {'_Total': 1}, 'pollo': {'_Total': 1}, 'py': {'_Total': 1}, 'tcint': {'_Total': 1}, 'miced': {'_Total': 1}, 'ltle': {'_Total': 1}, 'mygkt': {'_Total': 1}, 'adge': {'_Total': 1}, 'restrainedor': {'_Total': 1}, 'asfore': {'_Total': 1}, 'ranius': {'_Total': 1}, 'etonl': {'_Total': 1}, 'lighfe': {'_Total': 1}, 'afferd': {'_Total': 1}, 'scoles': {'_Total': 1}, 'crestle': {'_Total': 1}, 'scrid': {'_Total': 1}, 'litterlly': {'_Total': 1}, 'anye': {'_Total': 1}, 'trasser': {'_Total': 1}, 'tendermend': {'_Total': 1}, 'amserving': {'_Total': 1}, 'houvein': {'_Total': 1}, 'crernnes': {'_Total': 1}, 'brightnes': {'_Total': 1}, 'crampmnis': {'_Total': 1}, 'poverdy': {'_Total': 1}, 'intendend': {'_Total': 1}, 'beyon': {'_Total': 1}, 'nezistin': {'_Total': 1}, 'tenment': {'_Total': 1}, 'somdid': {'_Total': 1}, 'favertoise': {'_Total': 1}, 'indtim': {'_Total': 1}, 'fliliht': {'_Total': 1}, 'brihdis': {'_Total': 1}, 'sonesents': {'_Total': 1}, 'sprdes': {'_Total': 1}, 'cherly': {'_Total': 1}, 'wilbe': {'_Total': 1}, 'pressist': {'_Total': 1}, 'practigl': {'_Total': 1}, 'comfiction': {'_Total': 1}, 'doun': {'_Total': 1}, 'concer': {'_Total': 1}, 'scaed': {'_Total': 1}, 'kepout': {'_Total': 1}, 'firsd': {'_Total': 1}, 'reasom': {'_Total': 1}, 'inforsed': {'_Total': 1}, 'risistence': {'_Total': 1}, 'migte': {'_Total': 1}, 'magttend': {'_Total': 1}, 'dustent': {'_Total': 1}, 'surever': {'_Total': 1}, 'spessialty': {'_Total': 1}, 'crampe': {'_Total': 1}, 'broun': {'_Total': 1}, 'leaft': {'_Total': 1}, 'mospart': {'_Total': 1}, 'blacke': {'_Total': 1}, 'poith': {'_Total': 1}, 'dhart': {'_Total': 1}, 'greayd': {'_Total': 1}, 'qrivering': {'_Total': 1}, 'puch': {'_Total': 1}, 'wighth': {'_Total': 1}, 'mendible': {'_Total': 1}, 'contiey': {'_Total': 1}, 'titin': {'_Total': 1}, 'tintervet': {'_Total': 1}, 'televe': {'_Total': 1}, 'afflos': {'_Total': 1}, 'onley': {'_Total': 1}, 'ranafon': {'_Total': 1}, 'graus': {'_Total': 1}, 'plaht': {'_Total': 1}, 'grean': {'_Total': 2}, 'inctiently': {'_Total': 1}, 'menifld': {'_Total': 1}, 'lisiosness': {'_Total': 1}, 'hoecon': {'_Total': 1}, 'oln': {'_Total': 1}, 'stom': {'_Total': 1}, 'cuh': {'_Total': 1}, 'compells': {'_Total': 1}, 'tonder': {'_Total': 1}, 'workis': {'_Total': 1}, 'revesencs': {'_Total': 1}, 'betiful': {'_Total': 1}, 'ijis': {'_Total': 1}, 'prdutin': {'_Total': 1}, 'werpk': {'_Total': 1}, 'rotherd': {'_Total': 1}, 'olerbld': {'_Total': 1}, 'indee': {'_Total': 1}, 'yool': {'_Total': 1}, 'felyr': {'_Total': 1}, 'spesil': {'_Total': 1}, 'regididy': {'_Total': 1}, 'pandefuly': {'_Total': 1}, 'thesponded': {'_Total': 1}, 'glenner': {'_Total': 1}, 'corine': {'_Total': 1}, 'warternow': {'_Total': 1}, 'scarely': {'_Total': 1}, 'eble': {'_Total': 1}, 'begitit': {'_Total': 1}, 'scollef': {'_Total': 1}, 'hius': {'_Total': 1}, 'tenstly': {'_Total': 1}, 'sternnest': {'_Total': 1}, 'intlec': {'_Total': 1}, 'notele': {'_Total': 1}, 'othet': {'_Total': 1}, \"ther's\": {'_Total': 1}, 'dudly': {'_Total': 1}, 'flrient': {'_Total': 1}, 'flowr': {'_Total': 1}, 'copotus': {'_Total': 1}, 'jorge': {'_Total': 1}, 'gocpic': {'_Total': 1}, 'schol': {'_Total': 1}, 'mesy': {'_Total': 1}, 'brn': {'_Total': 1}, 'jeons': {'_Total': 1}, 'siking': {'_Total': 1}, 'antuduction': {'_Total': 1}, 'sikyg': {'_Total': 1}, 'troblse': {'_Total': 1}, 'lised': {'_Total': 1}, 'cliing': {'_Total': 1}, 'intanled': {'_Total': 1}, 'schos': {'_Total': 1}, 'eryvin': {'_Total': 1}, 'sinclerly': {'_Total': 1}, 'leasht': {'_Total': 1}, 'fantnes': {'_Total': 1}, 'litfule': {'_Total': 1}, 'amentry': {'_Total': 1}, 'pracktis': {'_Total': 1}, 'pinting': {'_Total': 1}, 'evre': {'_Total': 1}, 'chacers': {'_Total': 1}, 'dreme': {'_Total': 1}, 'arcatian': {'_Total': 1}, 'contanes': {'_Total': 1}, 'feeborn': {'_Total': 1}, 'fagurs': {'_Total': 1}, 'chaldisn': {'_Total': 1}, 'hannd': {'_Total': 1}, 'certe': {'_Total': 1}, 'ristic': {'_Total': 1}, 'gotict': {'_Total': 1}, 'collorus': {'_Total': 1}, 'delishs': {'_Total': 1}, 'parca': {'_Total': 1}, 'rbe': {'_Total': 1}, 'shalby': {'_Total': 1}, 'vhen': {'_Total': 1}, 'crestin': {'_Total': 1}, 'ennor': {'_Total': 1}, 'blarke': {'_Total': 1}, 'inslinm': {'_Total': 1}, 'sprnny': {'_Total': 1}, 'cuat': {'_Total': 1}, 'apllole': {'_Total': 1}, 'blar': {'_Total': 1}, 'mhay': {'_Total': 1}, 'coor': {'_Total': 1}, 'powe': {'_Total': 1}, 'virthe': {'_Total': 1}, 'inboth': {'_Total': 1}, 'refinemt': {'_Total': 1}, 'mones': {'_Total': 1}, 'ceswick': {'_Total': 1}, 'seckin': {'_Total': 2}, 'therg': {'_Total': 1}, 'telisin': {'_Total': 1}, 'repumment': {'_Total': 1}, 'levber': {'_Total': 1}, 'yobsence': {'_Total': 1}, 'dicision': {'_Total': 3}, 'tavvy': {'_Total': 1}, 'tener': {'_Total': 1}, 'talve': {'_Total': 1}, 'sherlet': {'_Total': 1}, 'whne': {'_Total': 1}, 'rednes': {'_Total': 1}, 'rterne': {'_Total': 1}, 'parcinence': {'_Total': 1}, 'happby': {'_Total': 1}, 'surplal': {'_Total': 1}, 'wicth': {'_Total': 1}, 'naturs': {'_Total': 1}, 'axpandid': {'_Total': 1}, 'monst': {'_Total': 1}, 'cristmes': {'_Total': 1}, 'menot': {'_Total': 1}, 'cotion': {'_Total': 1}, 'contane': {'_Total': 1}, 'invetation': {'_Total': 1}, 'goan': {'_Total': 1}, 'poit': {'_Total': 1}, 'shevisited': {'_Total': 1}, 'thelaks': {'_Total': 1}, 'lettder': {'_Total': 1}, 'wlis': {'_Total': 1}, 'daend': {'_Total': 1}, 'dranin': {'_Total': 1}, 'confeste': {'_Total': 1}, 'duthink': {'_Total': 1}, 'troubl': {'_Total': 1}, 'ternty': {'_Total': 1}, 'divitid': {'_Total': 1}, 'brahn': {'_Total': 1}, 'onsertin': {'_Total': 1}, 'tetliy': {'_Total': 1}, 'afver': {'_Total': 1}, 'contrtion': {'_Total': 1}, 'drin': {'_Total': 1}, 'coetin': {'_Total': 1}, 'neber': {'_Total': 1}, 'avtang': {'_Total': 1}, 'slaten': {'_Total': 1}, 'convictiond': {'_Total': 1}, 'dasly': {'_Total': 1}, 'trnster': {'_Total': 1}, 'darkand': {'_Total': 1}, 'sharad': {'_Total': 1}, 'espert': {'_Total': 1}, 'kinenot': {'_Total': 1}, 'mysef': {'_Total': 2}, 'tindts': {'_Total': 1}, 'hyeu': {'_Total': 1}, 'consolt': {'_Total': 1}, 'factiur': {'_Total': 1}, 'conenot': {'_Total': 1}, 'ics': {'_Total': 1}, 'nocerging': {'_Total': 1}, 'danjrs': {'_Total': 1}, 'stakte': {'_Total': 1}, 'rmambering': {'_Total': 1}, 'comended': {'_Total': 1}, 'resxo': {'_Total': 1}, 'simet': {'_Total': 1}, 'mitby': {'_Total': 1}, 'yele': {'_Total': 1}, 'alse': {'_Total': 1}, 'silndt': {'_Total': 1}, 'alfor': {'_Total': 1}, 'inddede': {'_Total': 1}, 'couolbe': {'_Total': 1}, 'odmeded': {'_Total': 1}, 'rlot': {'_Total': 1}, 'prdes': {'_Total': 1}, 'resxolt': {'_Total': 1}, 'soleberty': {'_Total': 1}, 'aftoer': {'_Total': 1}, 'dara': {'_Total': 1}, 'sertinty': {'_Total': 1}, 'plesur': {'_Total': 1}, 'fitity': {'_Total': 1}, 'teenye': {'_Total': 1}, 'oftfor': {'_Total': 1}, 'contammenation': {'_Total': 1}, 'intomat': {'_Total': 1}, 'tand': {'_Total': 1}, 'whyh': {'_Total': 1}, 'agslity': {'_Total': 1}, 'whitch': {'_Total': 1}, 'gand': {'_Total': 1}, 'hartys': {'_Total': 1}, 'sharlit': {'_Total': 1}, 'crature': {'_Total': 1}, 'chandis': {'_Total': 1}, 'brery': {'_Total': 1}, 'danegr': {'_Total': 1}, 'trn': {'_Total': 1}, 'intirv': {'_Total': 1}, 'heas': {'_Total': 1}, 'stiffnes': {'_Total': 1}, 'sepration': {'_Total': 1}, 'nabeom': {'_Total': 1}, 'brotas': {'_Total': 1}, 'aclever': {'_Total': 1}, 'intoe': {'_Total': 1}, 'keaes': {'_Total': 1}, \"adrude's\": {'_Total': 1}, 'shopk': {'_Total': 1}, 'worisb': {'_Total': 1}, 'pissition': {'_Total': 1}, 'dofrs': {'_Total': 1}, 'acecgh': {'_Total': 1}, 'tafren': {'_Total': 1}, 'andsiknes': {'_Total': 1}, 'anddeth': {'_Total': 1}, 'rowd': {'_Total': 1}, 'torde': {'_Total': 1}, 'cercter': {'_Total': 1}, 'incient': {'_Total': 1}, 'coec': {'_Total': 1}, 'tabys': {'_Total': 1}, 'fracsier': {'_Total': 1}, 'aborind': {'_Total': 1}, 'preocopation': {'_Total': 1}, 'eccen': {'_Total': 1}, 'trecity': {'_Total': 1}, 'mightwl': {'_Total': 1}, 'ilov': {'_Total': 1}, 'nanctuo': {'_Total': 1}, 'prcetes': {'_Total': 1}, 'dett': {'_Total': 1}, 'sercle': {'_Total': 1}, 'bialint': {'_Total': 1}, 'raticols': {'_Total': 1}, 'docenters': {'_Total': 1}, 'treny': {'_Total': 1}, \"yeur's\": {'_Total': 1}, 'hgo': {'_Total': 1}, 'cuigin': {'_Total': 1}, 'rcemt': {'_Total': 1}, 'trle': {'_Total': 1}, 'loeden': {'_Total': 1}, 'onnerd': {'_Total': 1}, 'ingavge': {'_Total': 1}, 'lszur': {'_Total': 1}, 'ven': {'_Total': 1}, 'rectreaation': {'_Total': 1}, 'cergimuns': {'_Total': 1}, 'dottere': {'_Total': 1}, \"oiy's\": {'_Total': 1}, 'noridy': {'_Total': 1}, 'vilin': {'_Total': 1}, 'sentind': {'_Total': 1}, 'crission': {'_Total': 1}, 'prfection': {'_Total': 1}, 'selvation': {'_Total': 1}, 'samvd': {'_Total': 1}, 'hatbed': {'_Total': 1}, 'decid': {'_Total': 1}, 'memberto': {'_Total': 1}, 'leok': {'_Total': 1}, 'perfikly': {'_Total': 1}, 'bentold': {'_Total': 1}, 'nele': {'_Total': 1}, 'usely': {'_Total': 1}, 'antakong': {'_Total': 1}, 'proates': {'_Total': 1}, 'tetime': {'_Total': 1}, 'andsind': {'_Total': 1}, 'meol': {'_Total': 1}, 'wentoway': {'_Total': 1}, 'antece': {'_Total': 1}, 'coneno': {'_Total': 1}, 'brating': {'_Total': 1}, 'bpuly': {'_Total': 1}, 'stiy': {'_Total': 1}, 'bewated': {'_Total': 1}, 'pover': {'_Total': 1}, 'sorfle': {'_Total': 1}, 'mentime': {'_Total': 1}, 'jihol': {'_Total': 1}, 'prefection': {'_Total': 1}, 'pract': {'_Total': 1}, 'bly': {'_Total': 1}, 'disped': {'_Total': 1}, 'bou': {'_Total': 1}, 'potece': {'_Total': 1}, 'rerligion': {'_Total': 1}, 'ouw': {'_Total': 1}, 'somear': {'_Total': 1}, 'steap': {'_Total': 1}, 'iceson': {'_Total': 1}, 'fhol': {'_Total': 1}, 'aneso': {'_Total': 1}, 'misshnce': {'_Total': 1}, 'cackt': {'_Total': 1}, 'atengin': {'_Total': 1}, 'epas': {'_Total': 1}, 'ebi': {'_Total': 1}, 'gef': {'_Total': 1}, 'uppos': {'_Total': 1}, 'gatheing': {'_Total': 1}, 'strinkth': {'_Total': 1}, 'strugle': {'_Total': 1}, 'stune': {'_Total': 1}, 'xigdy': {'_Total': 1}, 'upbrated': {'_Total': 1}, 'oble': {'_Total': 1}, 'fansidin': {'_Total': 1}, 'defrencs': {'_Total': 1}, 'houlth': {'_Total': 1}, 'farwel': {'_Total': 1}, 'mantining': {'_Total': 1}, 'hensefe': {'_Total': 1}, 'givenye': {'_Total': 1}, 'plisur': {'_Total': 1}, 'forgil': {'_Total': 1}, 'benture': {'_Total': 1}, 'opli': {'_Total': 1}, 'thenty': {'_Total': 1}, 'insiden': {'_Total': 1}, 'renuld': {'_Total': 1}, 'ifiled': {'_Total': 1}, 'choll': {'_Total': 1}, 'rmeber': {'_Total': 1}, 'theirty': {'_Total': 1}, 'hemns': {'_Total': 1}, 'braht': {'_Total': 1}, 'jrin': {'_Total': 1}, 'bebe': {'_Total': 1}, 'rere': {'_Total': 1}, 'luving': {'_Total': 1}, 'creater': {'_Total': 1}, 'idolitwe': {'_Total': 1}, 'creathure': {'_Total': 1}, 'theirfor': {'_Total': 2}, 'dunty': {'_Total': 1}, 'luf': {'_Total': 1}, 'engratios': {'_Total': 1}, 'biser': {'_Total': 1}, 'lowmey': {'_Total': 1}, 'sescrid': {'_Total': 1}, 'myselfs': {'_Total': 1}, 'happinnes': {'_Total': 1}, 'herafter': {'_Total': 1}, 'trurfend': {'_Total': 1}, 'wobert': {'_Total': 1}, 'soty': {'_Total': 1}, 'suppoas': {'_Total': 1}, 'disparige': {'_Total': 1}, 'syou': {'_Total': 1}, 'poszes': {'_Total': 1}, 'discuride': {'_Total': 1}, 'youfo': {'_Total': 1}, 'acsrcising': {'_Total': 1}, 'thinco': {'_Total': 1}, 'uus': {'_Total': 1}, 'renderi': {'_Total': 1}, 'condic': {'_Total': 1}, 'grnd': {'_Total': 1}, 'satar': {'_Total': 1}, 'ardy': {'_Total': 1}, 'andthen': {'_Total': 1}, 'nisseis': {'_Total': 1}, 'janyeary': {'_Total': 1}, 'fabye': {'_Total': 1}, 'reary': {'_Total': 1}, 'eatin': {'_Total': 1}, 'therdye': {'_Total': 1}, 'rpli': {'_Total': 1}, 'sothe': {'_Total': 1}, 'suced': {'_Total': 1}, 'intiching': {'_Total': 1}, 'soing': {'_Total': 1}, 'wildrather': {'_Total': 1}, 'afprvation': {'_Total': 1}, 'prvation': {'_Total': 1}, 'taby': {'_Total': 1}, 'tendded': {'_Total': 1}, 'firmety': {'_Total': 1}, 'anages': {'_Total': 1}, 'ogist': {'_Total': 1}, 'etimn': {'_Total': 1}}\n",
            "Test set: Average loss: 0.5925, Average CER: 0.186361 Average WER: 0.4826\n",
            "\n"
          ],
          "name": "stdout"
        }
      ]
    },
    {
      "cell_type": "code",
      "metadata": {
        "id": "toFx1uY0veRq",
        "outputId": "474c7a39-beb1-40a0-9dc1-0916fcfe5b6e",
        "colab": {
          "base_uri": "https://localhost:8080/",
          "height": 1000
        }
      },
      "source": [
        "# Understand GreedyDecoder output\n",
        "# stops for debugging on errors (?)\n",
        "#%debug\n",
        "\n",
        "#del decoded_preds, decoded_targets\n",
        "with torch.no_grad():\n",
        "    # groups side depends on batch_size=5\n",
        "    for i, _data in enumerate(test_loader):\n",
        "        spectrograms, labels, input_lengths, label_lengths = _data \n",
        "        spectrograms, labels = spectrograms.to(device), labels.to(device)\n",
        "\n",
        "        output = model1(spectrograms)  # (batch, time, n_class)\n",
        "        output = F.log_softmax(output, dim=2)\n",
        "        output = output.transpose(0, 1) # (time, batch, n_class)\n",
        "\n",
        "        print(f\"#Inference output #dim={output.dim()}, {output.size()}, {output.transpose(0, 1).size()}\")\n",
        "        print(f\"# reference text: {text_transform.int_to_text(labels[i][:label_lengths[i]].tolist())}\")\n",
        "        #print(labels[i][:label_lengths[i]])\n",
        "        \n",
        "        outputCopy = output.detach().clone()\n",
        "        for jj in range(label_lengths[i]):\n",
        "            outputArgmax1 = int(torch.argmax(outputCopy[jj][0][:]))\n",
        "            outputMax1    = float(outputCopy[jj][0][outputArgmax1])\n",
        "            outputCopy[jj][0][outputArgmax1] = -100.0\n",
        "            outputArgmax2 = int(torch.argmax(outputCopy[jj][0][:]))\n",
        "            outputMax2    = float(outputCopy[jj][0][outputArgmax2])\n",
        "\n",
        "            print(f\"{outputArgmax1:2d} {text_transform.int_to_char(outputArgmax1):2} {outputMax1:4.2f}; \\\n",
        "                    {outputArgmax2:2d} {text_transform.int_to_char(outputArgmax2):2} {outputMax2:4.2f}\")\n",
        "            \n",
        "\n",
        "        decoded_preds, decoded_targets = GreedyDecoder(output.transpose(0, 1), labels, label_lengths)\n",
        "        print(type(decoded_preds), len(decoded_preds), type(decoded_preds[0]))\n",
        "\n",
        "\n",
        "        print(f\"# predicted text: !{decoded_preds}!\")\n",
        "\n",
        "\n",
        "        break"
      ],
      "execution_count": null,
      "outputs": [
        {
          "output_type": "stream",
          "text": [
            "#Inference output #dim=3, torch.Size([430, 5, 29]), torch.Size([5, 430, 29])\n",
            "# reference text: i will make no unjust use of what i know he replied with firmness i believe you my lord\n",
            "28 -  -0.00;                     10 i  -9.96\n",
            "28 -  -0.00;                     10 i  -10.07\n",
            "28 -  -0.00;                     10 i  -10.31\n",
            "28 -  -0.00;                     10 i  -10.28\n",
            "28 -  -0.00;                     10 i  -9.98\n",
            "28 -  -0.00;                     10 i  -9.87\n",
            "28 -  -0.00;                     10 i  -10.28\n",
            "28 -  -0.00;                     10 i  -9.92\n",
            "28 -  -0.00;                     10 i  -9.83\n",
            "28 -  -0.00;                     10 i  -9.78\n",
            "28 -  -0.00;                     10 i  -9.88\n",
            "28 -  -0.00;                     21 t  -10.49\n",
            "28 -  -0.00;                     21 t  -7.15\n",
            "28 -  -0.00;                     10 i  -6.39\n",
            "10 i  -0.02;                      6 e  -4.50\n",
            "28 -  -0.02;                     26 y  -4.97\n",
            "28 -  -0.11;                      1    -2.66\n",
            " 1    -0.02;                      6 e  -5.45\n",
            " 1    -0.01;                     28 -  -5.40\n",
            "24 w  -0.01;                     28 -  -5.56\n",
            "10 i  -0.71;                     28 -  -1.77\n",
            "13 l  -0.22;                      2 a  -2.66\n",
            "13 l  -0.42;                     28 -  -1.12\n",
            "13 l  -0.39;                     28 -  -1.39\n",
            "28 -  -0.52;                     13 l  -1.67\n",
            " 1    -0.05;                     28 -  -3.12\n",
            "14 m  -0.01;                     15 n  -5.50\n",
            "28 -  -0.05;                     14 m  -3.06\n",
            " 2 a  -0.07;                      6 e  -2.86\n",
            "28 -  -0.16;                      2 a  -2.56\n",
            "28 -  -0.01;                      8 g  -4.56\n",
            "28 -  -0.19;                      8 g  -1.76\n",
            "28 -  -0.29;                      8 g  -2.15\n",
            "12 k  -0.09;                     28 -  -3.33\n",
            "12 k  -0.34;                      6 e  -1.52\n",
            " 6 e  -0.58;                     28 -  -0.99\n",
            "28 -  -0.03;                      6 e  -4.10\n",
            " 1    -0.06;                     28 -  -2.91\n",
            " 1    -0.01;                     28 -  -5.28\n",
            " 1    -0.30;                     12 k  -1.45\n",
            "15 n  -0.01;                     12 k  -5.35\n",
            "16 o  -0.71;                     28 -  -1.22\n",
            "16 o  -0.01;                      6 e  -5.62\n",
            "28 -  -0.47;                     24 w  -1.02\n",
            "28 -  -0.26;                     24 w  -1.54\n",
            "28 -  -0.07;                      1    -3.62\n",
            " 1    -0.04;                     28 -  -3.29\n",
            " 1    -0.11;                     28 -  -2.84\n",
            "16 o  -0.77;                      2 a  -1.38\n",
            "28 -  -0.05;                      0 '  -3.65\n",
            "15 n  -0.03;                     28 -  -3.65\n",
            "15 n  -0.16;                     28 -  -1.99\n",
            "28 -  -0.03;                      5 d  -3.76\n",
            "28 -  -0.20;                      1    -1.78\n",
            "11 j  -0.06;                      8 g  -2.98\n",
            " 6 e  -0.41;                     22 u  -1.17\n",
            "28 -  -0.18;                     22 u  -2.46\n",
            "28 -  -0.02;                      2 a  -4.96\n",
            "28 -  -0.01;                     19 r  -5.30\n",
            "28 -  -0.03;                     20 s  -3.60\n",
            "20 s  -0.53;                     28 -  -0.91\n",
            "20 s  -0.13;                     28 -  -2.14\n",
            "20 s  -0.27;                     28 -  -1.47\n",
            "28 -  -0.15;                     20 s  -2.22\n",
            "28 -  -0.28;                     21 t  -1.58\n",
            "21 t  -0.20;                     28 -  -1.79\n",
            "21 t  -0.16;                     28 -  -2.55\n",
            "28 -  -0.70;                     21 t  -0.77\n",
            "28 -  -0.28;                      1    -1.99\n",
            " 1    -0.07;                     21 t  -2.92\n",
            " 1    -0.27;                     20 s  -2.08\n",
            "26 y  -0.26;                     28 -  -2.18\n",
            "28 -  -0.82;                      6 e  -1.35\n",
            "28 -  -0.67;                      6 e  -1.51\n",
            "28 -  -0.61;                     22 u  -0.91\n",
            "28 -  -0.63;                     22 u  -0.86\n",
            "22 u  -0.66;                     28 -  -0.78\n",
            "28 -  -0.18;                     22 u  -2.07\n",
            "28 -  -0.01;                     22 u  -5.34\n",
            "28 -  -0.01;                     20 s  -5.53\n",
            "20 s  -0.52;                     28 -  -1.01\n",
            "20 s  -0.08;                      6 e  -2.69\n",
            "20 s  -0.14;                      6 e  -2.38\n",
            "28 -  -0.02;                     20 s  -4.11\n",
            "28 -  -0.00;                     20 s  -6.89\n",
            "28 -  -0.00;                     20 s  -8.46\n",
            "28 -  -0.00;                     20 s  -9.97\n",
            "<class 'list'> 5 <class 'str'>\n",
            "# predicted text: !['i wil make no onjest yus of what i know he replid with frmees i be leby o mi nor', 'no thet i nowt not one more that i now of he rerplid woirhtha stoisman at whath she had in singad and yat with a prpict e shorencs thet she was in the wron', 'bat the more fergetfonest had then frbaed the more po full was the force of rer memberincs men she awok', 'toas any mor questons of you lid b ly wiuld be un fare', 'if she des not no how th esta mate her on dau i do']!\n"
          ],
          "name": "stdout"
        }
      ]
    },
    {
      "cell_type": "markdown",
      "metadata": {
        "id": "T57YOK2WjsPm"
      },
      "source": [
        "## Original Main"
      ]
    },
    {
      "cell_type": "code",
      "metadata": {
        "id": "XZodve8PGKfS"
      },
      "source": [
        "learning_rate = 5e-4\n",
        "batch_size = 10\n",
        "epochs = 10\n",
        "libri_train_set = \"train-clean-100\"\n",
        "libri_test_set = \"test-clean\"\n",
        "\n",
        "main(learning_rate, batch_size, epochs, libri_train_set, libri_test_set, experiment)"
      ],
      "execution_count": null,
      "outputs": []
    },
    {
      "cell_type": "code",
      "metadata": {
        "id": "92kVVEr7GR6j"
      },
      "source": [
        "experiment.end()"
      ],
      "execution_count": null,
      "outputs": []
    },
    {
      "cell_type": "code",
      "metadata": {
        "id": "ucfQX3qN21az"
      },
      "source": [
        ""
      ],
      "execution_count": null,
      "outputs": []
    },
    {
      "cell_type": "markdown",
      "metadata": {
        "id": "c7J9Gf4QtvNs"
      },
      "source": [
        "# My learning code \n"
      ]
    },
    {
      "cell_type": "code",
      "metadata": {
        "id": "wOlL3uB6t4ZS"
      },
      "source": [
        "if not os.path.isdir(\"./data\"):\n",
        "        os.makedirs(\"./data\")\n",
        "        \n",
        "test_url=\"test-clean\"\n",
        "test_dataset = torchaudio.datasets.LIBRISPEECH(\"./data\", url=test_url, download=True)\n"
      ],
      "execution_count": null,
      "outputs": []
    },
    {
      "cell_type": "code",
      "metadata": {
        "id": "8Cei39GivZFE",
        "outputId": "bce6746e-92c2-4a7a-9120-4567e97571a4",
        "colab": {
          "base_uri": "https://localhost:8080/",
          "height": 67
        }
      },
      "source": [
        "print(type(test_dataset))\n",
        "\n",
        "# https://pytorch.org/docs/stable/data.html\n",
        "\n",
        "use_cuda = torch.cuda.is_available()\n",
        "torch.manual_seed(7)\n",
        "device = torch.device(\"cuda\" if use_cuda else \"cpu\")\n",
        "\n",
        "print(use_cuda)\n",
        "kwargs = {'num_workers': 1, 'pin_memory': True} if use_cuda else {}\n",
        "\n",
        "test_loader = data.DataLoader(dataset=test_dataset,\n",
        "                                batch_size=5, # originaly 20\n",
        "                                shuffle=False,\n",
        "                                collate_fn=lambda x: data_processing(x, 'valid'),\n",
        "                                **kwargs)\n",
        "\n",
        "print(type(test_loader))"
      ],
      "execution_count": null,
      "outputs": [
        {
          "output_type": "stream",
          "text": [
            "<class 'torchaudio.datasets.librispeech.LIBRISPEECH'>\n",
            "True\n",
            "<class 'torch.utils.data.dataloader.DataLoader'>\n"
          ],
          "name": "stdout"
        }
      ]
    },
    {
      "cell_type": "code",
      "metadata": {
        "id": "WIe3KLAwzgZo"
      },
      "source": [
        "import matplotlib.pyplot as plt\n",
        "\n",
        "local_audio_transforms = nn.Sequential(\n",
        "    # https://pytorch.org/audio/transforms.html#melspectrogram\n",
        "    torchaudio.transforms.MelSpectrogram(sample_rate=16000, n_mels=128)#,\n",
        "    # https://pytorch.org/audio/transforms.html#frequencymasking\n",
        "    #torchaudio.transforms.FrequencyMasking(freq_mask_param=30),\n",
        "    # https://pytorch.org/audio/transforms.html#timemasking\n",
        "    #torchaudio.transforms.TimeMasking(time_mask_param=100)\n",
        ")\n",
        "\n",
        "spectrograms = []\n",
        "labels = []\n",
        "input_lengths = []\n",
        "label_lengths = []\n",
        "\n",
        "inx = 0\n",
        "for (waveform, sample_rate, utterance, B, C, D) in test_dataset:\n",
        "    inx += 1\n",
        "    print(type(sample_rate))\n",
        "    print(type(B))\n",
        "    print(type(C))\n",
        "    print(type(D))\n",
        "    print(type(waveform))\n",
        "    print(type(utterance))\n",
        "    print(utterance)\n",
        "    print(f\"sample_rate={sample_rate} B={B} C={C} D={D}\")\n",
        "    \n",
        "    print(type(waveform))\n",
        "    print(\"Shape of waveform: {}\".format(waveform.size()))\n",
        "    print(\"Sample rate of waveform: {}\".format(sample_rate))\n",
        "\n",
        "    if inx == 10:\n",
        "        # define 2 sub plots\n",
        "        fig, axs = plt.subplots(2)\n",
        "        #fig.suptitle('Vertically stacked subplots')\n",
        "        #axs[0].plot(x, y)\n",
        "        #axs[1].plot(x, -y)\n",
        "\n",
        "        #plt.figure()\n",
        "        axs[0].plot(waveform.t().numpy())  \n",
        "\n",
        "        spec = local_audio_transforms(waveform).squeeze(0).transpose(0, 1)\n",
        "        print(\"type(spec) is \", type(spec)) \n",
        "        print(\"Shape of spec: {}\".format(spec.size()))\n",
        "        #    axs[1].imshow(spec.log2().detach().numpy(), cmap='gray')\n",
        "        axs[1].imshow(torch.transpose(spec, 0, 1).log2().numpy(), cmap='gray')\n",
        "\n",
        "\n",
        "    # the 4 elements of the test_loader are defined by  def data_processing(..)\n",
        "    #           return  spectrograms, labels, input_lengths, label_lengths\n",
        "    spectrograms.append(spec)\n",
        "    print(\"#>\", len(spectrograms))\n",
        "    label = torch.Tensor(text_transform.text_to_int(utterance.lower()))\n",
        "    print(utterance.lower())\n",
        "    print(text_transform.text_to_int(utterance.lower()))\n",
        "    #labels.append(label)\n",
        "    input_lengths.append(spec.shape[0]//2)\n",
        "    print(spec.shape)\n",
        "    print(spec.shape[0]//2)\n",
        "    #label_lengths.append(len(label))\n",
        "    print(len(label))\n",
        "\n",
        "\n",
        "    if inx == 5:\n",
        "        break\n",
        "\n"
      ],
      "execution_count": null,
      "outputs": []
    },
    {
      "cell_type": "code",
      "metadata": {
        "id": "f2Vftj3hfdBD"
      },
      "source": [
        "# https://pytorch.org/tutorials/intermediate/tensorboard_tutorial.html\n",
        "\n",
        "from torch.utils.tensorboard import SummaryWriter\n",
        "\n",
        "# default `log_dir` is \"runs\" - we'll be more specific here\n",
        "writer = SummaryWriter('runs/fashion_mnist_experiment_1')\n",
        "\n",
        "learning_rate=5e-4\n",
        "batch_size=20\n",
        "epochs=10\n",
        "hparams = {\n",
        "        \"n_cnn_layers\": 3,\n",
        "        \"n_rnn_layers\": 5,\n",
        "        \"rnn_dim\": 512,\n",
        "        \"n_class\": 29,\n",
        "        \"n_feats\": 128,\n",
        "        \"stride\":2,\n",
        "        \"dropout\": 0.1,\n",
        "        \"learning_rate\": learning_rate,\n",
        "        \"batch_size\": batch_size,\n",
        "        \"epochs\": epochs\n",
        "    }\n",
        "\n",
        "model = SpeechRecognitionModel(\n",
        "    hparams['n_cnn_layers'], hparams['n_rnn_layers'], hparams['rnn_dim'],\n",
        "    hparams['n_class'], hparams['n_feats'], hparams['stride'], hparams['dropout']\n",
        "    ).to(device)\n",
        "\n",
        "print(model)\n",
        "print('Num Model Parameters', sum([param.nelement() for param in model.parameters()]))\n",
        "\n",
        "oneWhat = next(iter(test_loader))\n",
        "#oneWhat = iter(test_loader)\n",
        "print(type(oneWhat))\n",
        "print(len(oneWhat))\n",
        "print([type(x) for x in oneWhat])\n",
        "print(oneWhat[0].size())\n",
        "print(oneWhat[1].size())\n",
        "print(oneWhat[2])\n",
        "print(sum(oneWhat[2]))\n",
        "print(oneWhat[3])\n",
        "print(sum(oneWhat[3]))\n",
        "\n",
        "#writer.add_graph(model, oneWhat)\n",
        "#writer.close()"
      ],
      "execution_count": null,
      "outputs": []
    }
  ]
}