{
  "nbformat": 4,
  "nbformat_minor": 0,
  "metadata": {
    "colab": {
      "name": "Untitled0.ipynb",
      "provenance": [],
      "collapsed_sections": [],
      "authorship_tag": "ABX9TyPZHCN9gN0HbrIxKoug84CN",
      "include_colab_link": true
    },
    "kernelspec": {
      "name": "python3",
      "display_name": "Python 3"
    }
  },
  "cells": [
    {
      "cell_type": "markdown",
      "metadata": {
        "id": "view-in-github",
        "colab_type": "text"
      },
      "source": [
        "<a href=\"https://colab.research.google.com/github/TzurV/TestMe/blob/master/Learn20200514.ipynb\" target=\"_parent\"><img src=\"https://colab.research.google.com/assets/colab-badge.svg\" alt=\"Open In Colab\"/></a>"
      ]
    },
    {
      "cell_type": "code",
      "metadata": {
        "id": "BmZHQYZqkZvq",
        "colab_type": "code",
        "outputId": "870f7d6b-1300-4448-ccd4-57342c977d57",
        "colab": {
          "base_uri": "https://localhost:8080/",
          "height": 108
        }
      },
      "source": [
        "#from functools import reduce\n",
        "\n",
        "a = []\n",
        "for b in range(1,5):\n",
        "  print(b)\n",
        "  a.insert(0,b)\n",
        "  a.append(b)\n",
        "\n",
        "print(a)\n",
        "\n",
        "\n"
      ],
      "execution_count": 0,
      "outputs": [
        {
          "output_type": "stream",
          "text": [
            "1\n",
            "2\n",
            "3\n",
            "4\n",
            "[4, 3, 2, 1, 1, 2, 3, 4]\n"
          ],
          "name": "stdout"
        }
      ]
    },
    {
      "cell_type": "markdown",
      "metadata": {
        "id": "8pl4RzrqiJqe",
        "colab_type": "text"
      },
      "source": [
        ""
      ]
    },
    {
      "cell_type": "markdown",
      "metadata": {
        "id": "554UgO5xyRtg",
        "colab_type": "text"
      },
      "source": [
        "https://www.w3schools.com/python/python_lambda.asp\n",
        "\n",
        "Syntax\n",
        "lambda arguments : expression\n",
        "\n",
        "We use lambda functions when we require a nameless function for a short period of time.\n"
      ]
    },
    {
      "cell_type": "code",
      "metadata": {
        "id": "U744jbqVyXJ2",
        "colab_type": "code",
        "outputId": "6f7aec64-3025-45c5-9d31-40950cf27d81",
        "colab": {
          "base_uri": "https://localhost:8080/",
          "height": 90
        }
      },
      "source": [
        "x = lambda a : a + 10\n",
        "print(x(5))\n",
        "x = lambda a, b : a * b\n",
        "print(x(5, 6))\n",
        "\n",
        "# Program to filter out only the even items from a list\n",
        "my_list = [1, 5, 4, 6, 8, 11, 3, 12]\n",
        "\n",
        "new_list = list(filter(lambda x: (x%2 == 0) , my_list))\n",
        "\n",
        "print(new_list)\n",
        "\n",
        "\n",
        "# Program to double each item in a list using map()\n",
        "\n",
        "my_list = [1, 5, 4, 6, 8, 11, 3, 12]\n",
        "\n",
        "new_list = list(map(lambda x: x * 2 , my_list))\n",
        "\n",
        "print(new_list)"
      ],
      "execution_count": 0,
      "outputs": [
        {
          "output_type": "stream",
          "text": [
            "15\n",
            "30\n",
            "[4, 6, 8, 12]\n",
            "[2, 10, 8, 12, 16, 22, 6, 24]\n"
          ],
          "name": "stdout"
        }
      ]
    },
    {
      "cell_type": "markdown",
      "metadata": {
        "id": "ARFZNuYriM3-",
        "colab_type": "text"
      },
      "source": [
        "Tuple Values\n",
        "Once a tuple is created, you cannot change its values. Tuples are unchangeable, or immutable as it also is called."
      ]
    },
    {
      "cell_type": "code",
      "metadata": {
        "id": "uIQYhSZ4iWj-",
        "colab_type": "code",
        "colab": {
          "base_uri": "https://localhost:8080/",
          "height": 146
        },
        "outputId": "5985689f-bbc2-406c-8913-5c3c7c47f9e0"
      },
      "source": [
        "x = (\"apple\", \"banana\", \"cherry\")\n",
        "y = list(x)\n",
        "y[1] = \"kiwi\"\n",
        "x = tuple(y)\n",
        "\n",
        "print(x)\n",
        "\n",
        "#Create a tuple with different data types\n",
        "tuplex = (\"tuple\", False, 3.2, 1)\n",
        "print(tuplex)\n",
        "\n",
        "MyList = [12, 33, 'aaa', False]\n",
        "print(MyList)\n",
        "\n",
        "tuplex1 = tuplex\n",
        "MyList1 = MyList\n",
        "\n",
        "MyList\n",
        "MyList1\n",
        "tuplex\n",
        "tuplex1\n",
        "\n",
        "print(type(tuplex))\n",
        "print(dir(tuplex))\n",
        "print(id(tuplex), id(tuplex1))\n",
        "\n",
        "\n",
        "\n",
        "\n",
        "\n"
      ],
      "execution_count": 9,
      "outputs": [
        {
          "output_type": "stream",
          "text": [
            "('apple', 'kiwi', 'cherry')\n",
            "('tuple', False, 3.2, 1)\n",
            "[12, 33, 'aaa', False]\n",
            "<class 'tuple'>\n",
            "['__add__', '__class__', '__contains__', '__delattr__', '__dir__', '__doc__', '__eq__', '__format__', '__ge__', '__getattribute__', '__getitem__', '__getnewargs__', '__gt__', '__hash__', '__init__', '__init_subclass__', '__iter__', '__le__', '__len__', '__lt__', '__mul__', '__ne__', '__new__', '__reduce__', '__reduce_ex__', '__repr__', '__rmul__', '__setattr__', '__sizeof__', '__str__', '__subclasshook__', 'count', 'index']\n",
            "140289730197768 140289730197768\n"
          ],
          "name": "stdout"
        }
      ]
    },
    {
      "cell_type": "markdown",
      "metadata": {
        "id": "9XFR-Pn4kxlF",
        "colab_type": "text"
      },
      "source": [
        "Set\n",
        "A set is a collection which is unordered and unindexed. In Python sets are written with curly brackets.\n",
        "\n",
        "Access Items\n",
        "You cannot access items in a set by referring to an index, since sets are unordered the items has no index.\n",
        "\n",
        "But you can loop through the set items using a for loop, or ask if a specified value is present in a set, by using the in keyword.\n"
      ]
    },
    {
      "cell_type": "code",
      "metadata": {
        "id": "4hDSYVyrkzvK",
        "colab_type": "code",
        "colab": {
          "base_uri": "https://localhost:8080/",
          "height": 126
        },
        "outputId": "d7373c46-c611-4cf2-af4e-705cf4ba9c48"
      },
      "source": [
        "thisset = {\"apple\", \"banana\", \"cherry\"}\n",
        "print(thisset)\n",
        "\n",
        "\n",
        "for x in thisset:\n",
        "  print(x)\n",
        "\n",
        "thisset.add(\"orange\")\n",
        "print(thisset)\n",
        "\n",
        "thisset.update([\"orange\", \"mango\", \"grapes\"])\n",
        "\n",
        "print(thisset)\n"
      ],
      "execution_count": 12,
      "outputs": [
        {
          "output_type": "stream",
          "text": [
            "{'apple', 'cherry', 'banana'}\n",
            "apple\n",
            "cherry\n",
            "banana\n",
            "{'orange', 'apple', 'cherry', 'banana'}\n",
            "{'orange', 'mango', 'apple', 'cherry', 'grapes', 'banana'}\n"
          ],
          "name": "stdout"
        }
      ]
    }
  ]
}