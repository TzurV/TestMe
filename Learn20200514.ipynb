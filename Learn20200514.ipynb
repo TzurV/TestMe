{
  "nbformat": 4,
  "nbformat_minor": 0,
  "metadata": {
    "colab": {
      "name": "Untitled0.ipynb",
      "provenance": [],
      "collapsed_sections": [],
      "authorship_tag": "ABX9TyOtsTaRSoGbUxrMEKPG/h4T",
      "include_colab_link": true
    },
    "kernelspec": {
      "name": "python3",
      "display_name": "Python 3"
    }
  },
  "cells": [
    {
      "cell_type": "markdown",
      "metadata": {
        "id": "view-in-github",
        "colab_type": "text"
      },
      "source": [
        "<a href=\"https://colab.research.google.com/github/TzurV/TestMe/blob/master/Learn20200514.ipynb\" target=\"_parent\"><img src=\"https://colab.research.google.com/assets/colab-badge.svg\" alt=\"Open In Colab\"/></a>"
      ]
    },
    {
      "cell_type": "code",
      "metadata": {
        "id": "BmZHQYZqkZvq",
        "colab_type": "code",
        "outputId": "870f7d6b-1300-4448-ccd4-57342c977d57",
        "colab": {
          "base_uri": "https://localhost:8080/",
          "height": 108
        }
      },
      "source": [
        "#from functools import reduce\n",
        "\n",
        "a = []\n",
        "for b in range(1,5):\n",
        "  print(b)\n",
        "  a.insert(0,b)\n",
        "  a.append(b)\n",
        "\n",
        "print(a)\n",
        "\n",
        "\n"
      ],
      "execution_count": 0,
      "outputs": [
        {
          "output_type": "stream",
          "text": [
            "1\n",
            "2\n",
            "3\n",
            "4\n",
            "[4, 3, 2, 1, 1, 2, 3, 4]\n"
          ],
          "name": "stdout"
        }
      ]
    },
    {
      "cell_type": "markdown",
      "metadata": {
        "id": "8pl4RzrqiJqe",
        "colab_type": "text"
      },
      "source": [
        ""
      ]
    },
    {
      "cell_type": "markdown",
      "metadata": {
        "id": "554UgO5xyRtg",
        "colab_type": "text"
      },
      "source": [
        "https://www.w3schools.com/python/python_lambda.asp\n",
        "\n",
        "Syntax\n",
        "lambda arguments : expression\n",
        "\n",
        "We use lambda functions when we require a nameless function for a short period of time.\n"
      ]
    },
    {
      "cell_type": "code",
      "metadata": {
        "id": "U744jbqVyXJ2",
        "colab_type": "code",
        "outputId": "6f7aec64-3025-45c5-9d31-40950cf27d81",
        "colab": {
          "base_uri": "https://localhost:8080/",
          "height": 90
        }
      },
      "source": [
        "x = lambda a : a + 10\n",
        "print(x(5))\n",
        "x = lambda a, b : a * b\n",
        "print(x(5, 6))\n",
        "\n",
        "# Program to filter out only the even items from a list\n",
        "my_list = [1, 5, 4, 6, 8, 11, 3, 12]\n",
        "\n",
        "new_list = list(filter(lambda x: (x%2 == 0) , my_list))\n",
        "\n",
        "print(new_list)\n",
        "\n",
        "\n",
        "# Program to double each item in a list using map()\n",
        "\n",
        "my_list = [1, 5, 4, 6, 8, 11, 3, 12]\n",
        "\n",
        "new_list = list(map(lambda x: x * 2 , my_list))\n",
        "\n",
        "print(new_list)"
      ],
      "execution_count": 0,
      "outputs": [
        {
          "output_type": "stream",
          "text": [
            "15\n",
            "30\n",
            "[4, 6, 8, 12]\n",
            "[2, 10, 8, 12, 16, 22, 6, 24]\n"
          ],
          "name": "stdout"
        }
      ]
    },
    {
      "cell_type": "markdown",
      "metadata": {
        "id": "ARFZNuYriM3-",
        "colab_type": "text"
      },
      "source": [
        "Tuple Values\n",
        "Once a tuple is created, you cannot change its values. Tuples are unchangeable, or immutable as it also is called."
      ]
    },
    {
      "cell_type": "code",
      "metadata": {
        "id": "uIQYhSZ4iWj-",
        "colab_type": "code",
        "outputId": "5985689f-bbc2-406c-8913-5c3c7c47f9e0",
        "colab": {
          "base_uri": "https://localhost:8080/",
          "height": 146
        }
      },
      "source": [
        "x = (\"apple\", \"banana\", \"cherry\")\n",
        "y = list(x)\n",
        "y[1] = \"kiwi\"\n",
        "x = tuple(y)\n",
        "\n",
        "print(x)\n",
        "\n",
        "#Create a tuple with different data types\n",
        "tuplex = (\"tuple\", False, 3.2, 1)\n",
        "print(tuplex)\n",
        "\n",
        "MyList = [12, 33, 'aaa', False]\n",
        "print(MyList)\n",
        "\n",
        "tuplex1 = tuplex\n",
        "MyList1 = MyList\n",
        "\n",
        "MyList\n",
        "MyList1\n",
        "tuplex\n",
        "tuplex1\n",
        "\n",
        "print(type(tuplex))\n",
        "print(dir(tuplex))\n",
        "print(id(tuplex), id(tuplex1))\n",
        "\n",
        "\n",
        "\n",
        "\n",
        "\n"
      ],
      "execution_count": 0,
      "outputs": [
        {
          "output_type": "stream",
          "text": [
            "('apple', 'kiwi', 'cherry')\n",
            "('tuple', False, 3.2, 1)\n",
            "[12, 33, 'aaa', False]\n",
            "<class 'tuple'>\n",
            "['__add__', '__class__', '__contains__', '__delattr__', '__dir__', '__doc__', '__eq__', '__format__', '__ge__', '__getattribute__', '__getitem__', '__getnewargs__', '__gt__', '__hash__', '__init__', '__init_subclass__', '__iter__', '__le__', '__len__', '__lt__', '__mul__', '__ne__', '__new__', '__reduce__', '__reduce_ex__', '__repr__', '__rmul__', '__setattr__', '__sizeof__', '__str__', '__subclasshook__', 'count', 'index']\n",
            "140289730197768 140289730197768\n"
          ],
          "name": "stdout"
        }
      ]
    },
    {
      "cell_type": "markdown",
      "metadata": {
        "id": "9XFR-Pn4kxlF",
        "colab_type": "text"
      },
      "source": [
        "Set\n",
        "A set is a collection which is unordered and unindexed. In Python sets are written with curly brackets.\n",
        "\n",
        "Access Items\n",
        "You cannot access items in a set by referring to an index, since sets are unordered the items has no index.\n",
        "\n",
        "But you can loop through the set items using a for loop, or ask if a specified value is present in a set, by using the in keyword.\n",
        "\n",
        "You can also use the pop(), method to remove an item, but this method will remove the last item. Remember that sets are unordered, so you will not know what item that gets removed.\n",
        "\n",
        "The return value of the pop() method is the removed item.\n"
      ]
    },
    {
      "cell_type": "code",
      "metadata": {
        "id": "4hDSYVyrkzvK",
        "colab_type": "code",
        "outputId": "a3b7b502-507b-4780-e478-8bce9ce28bae",
        "colab": {
          "base_uri": "https://localhost:8080/",
          "height": 163
        }
      },
      "source": [
        "thisset = {\"apple\", \"banana\", \"cherry\"}\n",
        "print(thisset)\n",
        "\n",
        "\n",
        "for x in thisset:\n",
        "  print(x)\n",
        "\n",
        "thisset.add(\"orange\")\n",
        "print(thisset)\n",
        "\n",
        "thisset.update([\"orange\", \"mango\", \"grapes\"])\n",
        "\n",
        "print(thisset)\n",
        "\n",
        "x = thisset.pop()\n",
        "\n",
        "print(x)\n",
        "\n",
        "print(thisset)\n"
      ],
      "execution_count": 0,
      "outputs": [
        {
          "output_type": "stream",
          "text": [
            "{'apple', 'cherry', 'banana'}\n",
            "apple\n",
            "cherry\n",
            "banana\n",
            "{'orange', 'apple', 'cherry', 'banana'}\n",
            "{'orange', 'mango', 'apple', 'cherry', 'grapes', 'banana'}\n",
            "orange\n",
            "{'mango', 'apple', 'cherry', 'grapes', 'banana'}\n"
          ],
          "name": "stdout"
        }
      ]
    },
    {
      "cell_type": "markdown",
      "metadata": {
        "id": "P59cWAxYn7B0",
        "colab_type": "text"
      },
      "source": [
        "Dictionary\n",
        "A dictionary is a collection which is unordered, changeable and indexed. In Python dictionaries are written with curly brackets, and they have keys and values."
      ]
    },
    {
      "cell_type": "code",
      "metadata": {
        "id": "aV7EQS-hn885",
        "colab_type": "code",
        "outputId": "1c2d4c84-86bd-44ba-8d00-9541b21acd69",
        "colab": {
          "base_uri": "https://localhost:8080/",
          "height": 326
        }
      },
      "source": [
        "thisdict = {\n",
        "  \"brand\": \"Ford\",\n",
        "  \"model\": \"Mustang\",\n",
        "  \"year\": 1964\n",
        "}\n",
        "print(thisdict)\n",
        "print(thisdict[\"model\"])\n",
        "\n",
        "x = thisdict.get(\"model\")\n",
        "\n",
        "#Change Values\n",
        "thisdict[\"year\"] = 2018\n",
        "\n",
        "#Loop Through a Dictionary\n",
        "for x in thisdict:\n",
        "  print(x)\n",
        "\n",
        "#Print all values in the dictionary\n",
        "for x in thisdict:\n",
        "  print(thisdict[x])\n",
        "for x in thisdict.values():\n",
        "  print(x)\n",
        "\n",
        "#Loop through both keys and values\n",
        "for x, y in thisdict.items():\n",
        "  print(x, \":\", y)\n",
        "\n",
        "\n",
        "#Copy a Dictionary\n",
        "#You cannot copy a dictionary simply by typing dict2 = dict1, because: dict2 will only be a reference to dict1, \n",
        "# and changes made in dict1 will automatically also be made in dict2.\n",
        "\n",
        "mydict = thisdict.copy()\n",
        "print(mydict)\n",
        "\n",
        "print(id(mydict), id(thisdict))\n",
        "\n",
        "# Make a copy of a dictionary with the dict() function:\n",
        "mydict = dict(thisdict)\n",
        "\n",
        "#dict() Constructor\n",
        "thisdict = dict(brand=\"Ford\", model=\"Mustang\", year=1964)\n",
        "# note that keywords are not string literals\n",
        "# note the use of equals rather than colon for the assignment\n",
        "print(thisdict)\n"
      ],
      "execution_count": 0,
      "outputs": [
        {
          "output_type": "stream",
          "text": [
            "{'brand': 'Ford', 'model': 'Mustang', 'year': 1964}\n",
            "Mustang\n",
            "brand\n",
            "model\n",
            "year\n",
            "Ford\n",
            "Mustang\n",
            "2018\n",
            "Ford\n",
            "Mustang\n",
            "2018\n",
            "brand : Ford\n",
            "model : Mustang\n",
            "year : 2018\n",
            "{'brand': 'Ford', 'model': 'Mustang', 'year': 2018}\n",
            "140289729837240 140289729836664\n",
            "{'brand': 'Ford', 'model': 'Mustang', 'year': 1964}\n"
          ],
          "name": "stdout"
        }
      ]
    },
    {
      "cell_type": "code",
      "metadata": {
        "id": "QBJas6kqNybX",
        "colab_type": "code",
        "outputId": "58f52688-06cc-467a-e581-4211306ab9c4",
        "colab": {
          "base_uri": "https://localhost:8080/",
          "height": 72
        }
      },
      "source": [
        "# Why Python Is Great:\n",
        "# Function argument unpacking\n",
        "\n",
        "def myfunc(x, y, z):\n",
        "    print(x, y, z)\n",
        "\n",
        "tuple_vec = (1, 0, 1)\n",
        "dict_vec = {'x': 1, 'y': 0, 'z': 1}\n",
        "\n",
        "myfunc(*tuple_vec)\n",
        "\n",
        "myfunc(**dict_vec)\n",
        "\n",
        "dict_vec1 = {'x1': 1, 'y': 0, 'z': 1}\n",
        "\n",
        "# this will fail\n",
        "#myfunc(**dict_vec1)\n",
        "\n",
        "\n",
        "def my_function(child3, child2, child1):\n",
        "  print(\"The youngest child is \" + child3)\n",
        "\n",
        "my_function(child1 = \"Emil\", child2 = \"Tobias\", child3 = \"Linus\")\n",
        "\n",
        "# The phrase Keyword Arguments are often shortened to kwargs in Python documentations.\n",
        "\n",
        "\n",
        "# function definitions cannot be empty, put in the pass statement to avoid getting an error.\n",
        "def myfunction():\n",
        "  pass"
      ],
      "execution_count": 0,
      "outputs": [
        {
          "output_type": "stream",
          "text": [
            "1 0 1\n",
            "1 0 1\n",
            "The youngest child is Linus\n"
          ],
          "name": "stdout"
        }
      ]
    },
    {
      "cell_type": "code",
      "metadata": {
        "id": "Qivd3tF1SB5S",
        "colab_type": "code",
        "outputId": "f3674b2c-28a0-4e85-c684-001948ac4194",
        "colab": {
          "base_uri": "https://localhost:8080/",
          "height": 90
        }
      },
      "source": [
        "# classes\n",
        "\n",
        "class Person:\n",
        "  def __init__(self, name, age):\n",
        "    self.name = name\n",
        "    self.age = age\n",
        "\n",
        "  def myfunc(self):\n",
        "    print(\"Hello my name is \" + self.name)    \n",
        "\n",
        "p1 = Person(\"John\", 36)\n",
        "\n",
        "print(p1.name)\n",
        "print(p1.age)\n",
        "\n",
        "p1.myfunc()\n",
        "\n",
        "# The self Parameter\n",
        "#The self parameter is a reference to the current instance of the class, and is used to access variables that belongs to the class.\n",
        "#It does not have to be named self , you can call it whatever you like, but it has to be the first parameter of any function in the class:\n",
        "\n",
        "\n",
        "class Person1:\n",
        "  def __init__(mysillyobject, name, age):\n",
        "    mysillyobject.name = name\n",
        "    mysillyobject.age = age\n",
        "\n",
        "  def myfunc(abc):\n",
        "    print(\"Hello my name is \" + abc.name)\n",
        "\n",
        "p1 = Person1(\"John\", 36)\n",
        "p1.myfunc()\n"
      ],
      "execution_count": 0,
      "outputs": [
        {
          "output_type": "stream",
          "text": [
            "John\n",
            "36\n",
            "Hello my name is John\n",
            "Hello my name is John\n"
          ],
          "name": "stdout"
        }
      ]
    },
    {
      "cell_type": "code",
      "metadata": {
        "id": "wu3RsBs_lNUr",
        "colab_type": "code",
        "outputId": "eb87bee0-c77b-4372-df4f-f29b17ef84d2",
        "colab": {
          "base_uri": "https://localhost:8080/",
          "height": 181
        }
      },
      "source": [
        "mystr = \"banana\"\n",
        "myit = iter(mystr)\n",
        "\n",
        "print(next(myit))\n",
        "print(next(myit))\n",
        "print(next(myit))\n",
        "print(next(myit))\n",
        "print(next(myit))\n",
        "print(next(myit))\n",
        "\n",
        "\n",
        "mytuple = {\"apple\", \"banana\", \"cherry\"}\n",
        "myit = iter(mytuple)\n",
        "\n",
        "print(next(myit))\n",
        "print(next(myit))\n",
        "print(next(myit))"
      ],
      "execution_count": 0,
      "outputs": [
        {
          "output_type": "stream",
          "text": [
            "b\n",
            "a\n",
            "n\n",
            "a\n",
            "n\n",
            "a\n",
            "banana\n",
            "apple\n",
            "cherry\n"
          ],
          "name": "stdout"
        }
      ]
    },
    {
      "cell_type": "code",
      "metadata": {
        "id": "LbHvkV3jl_wU",
        "colab_type": "code",
        "outputId": "3e14fd53-520e-40a4-dbe9-e69b30f1d796",
        "colab": {
          "base_uri": "https://localhost:8080/",
          "height": 54
        }
      },
      "source": [
        "def myfunc():\n",
        "  global x\n",
        "  x = 300\n",
        "  print(x)\n",
        "\n",
        "myfunc()\n",
        "\n",
        "print(x)"
      ],
      "execution_count": 0,
      "outputs": [
        {
          "output_type": "stream",
          "text": [
            "300\n",
            "300\n"
          ],
          "name": "stdout"
        }
      ]
    },
    {
      "cell_type": "markdown",
      "metadata": {
        "id": "ku1IfDz6mJv2",
        "colab_type": "text"
      },
      "source": [
        "https://www.w3schools.com/python/python_modules.asp\n",
        "\n",
        "# What is a Module?\n",
        "Consider a module to be the same as a code library.\n",
        "\n",
        "A file containing a set of functions you want to include in your application.\n",
        "\n",
        "# python dates\n",
        "https://www.w3schools.com/python/python_datetime.asp\n"
      ]
    },
    {
      "cell_type": "code",
      "metadata": {
        "id": "e-gKj8ENmTNf",
        "colab_type": "code",
        "outputId": "460b8f25-f304-4f25-99f0-d762d49124e8",
        "colab": {
          "base_uri": "https://localhost:8080/",
          "height": 72
        }
      },
      "source": [
        "# Python Dates\n",
        "\n",
        "import datetime\n",
        "\n",
        "x = datetime.datetime.now()\n",
        "print(x)\n",
        "\n",
        "print(x.year)\n",
        "print(x.strftime(\"%A - %H - %b\"))"
      ],
      "execution_count": 0,
      "outputs": [
        {
          "output_type": "stream",
          "text": [
            "2020-05-18 16:30:05.706145\n",
            "2020\n",
            "Monday - 16 - May\n"
          ],
          "name": "stdout"
        }
      ]
    },
    {
      "cell_type": "code",
      "metadata": {
        "id": "F5oM0WHSopIh",
        "colab_type": "code",
        "outputId": "d2022472-a065-4f15-a93b-1c5727a28f14",
        "colab": {
          "base_uri": "https://localhost:8080/",
          "height": 526
        }
      },
      "source": [
        "# RegEx in Python\n",
        "import re\n",
        "\n",
        "txt = \"The rain in Spain\"\n",
        "x = re.search(\"^The.*Spain$\", txt)\n",
        "print(x)\n",
        "\n",
        "x = re.findall(\"ai\", txt)\n",
        "print(x)\n",
        "\n",
        "x = re.search(\"\\s\", txt)\n",
        "print(\"The first white-space character is located in position:\", x.start())\n",
        "\n",
        "x = re.finditer(\"ai\", txt)\n",
        "print(id(x), \" \", type(x))\n",
        "for b in x:\n",
        "  print(b)\n",
        "\n",
        "#  \"\\s\" is white space\n",
        "x = re.split(\"\\s\", txt)\n",
        "print(x)\n",
        "\n",
        "import this"
      ],
      "execution_count": 0,
      "outputs": [
        {
          "output_type": "stream",
          "text": [
            "<_sre.SRE_Match object; span=(0, 17), match='The rain in Spain'>\n",
            "['ai', 'ai']\n",
            "The first white-space character is located in position: 3\n",
            "140136600758368   <class 'callable_iterator'>\n",
            "<_sre.SRE_Match object; span=(5, 7), match='ai'>\n",
            "<_sre.SRE_Match object; span=(14, 16), match='ai'>\n",
            "['The', 'rain', 'in', 'Spain']\n",
            "The Zen of Python, by Tim Peters\n",
            "\n",
            "Beautiful is better than ugly.\n",
            "Explicit is better than implicit.\n",
            "Simple is better than complex.\n",
            "Complex is better than complicated.\n",
            "Flat is better than nested.\n",
            "Sparse is better than dense.\n",
            "Readability counts.\n",
            "Special cases aren't special enough to break the rules.\n",
            "Although practicality beats purity.\n",
            "Errors should never pass silently.\n",
            "Unless explicitly silenced.\n",
            "In the face of ambiguity, refuse the temptation to guess.\n",
            "There should be one-- and preferably only one --obvious way to do it.\n",
            "Although that way may not be obvious at first unless you're Dutch.\n",
            "Now is better than never.\n",
            "Although never is often better than *right* now.\n",
            "If the implementation is hard to explain, it's a bad idea.\n",
            "If the implementation is easy to explain, it may be a good idea.\n",
            "Namespaces are one honking great idea -- let's do more of those!\n"
          ],
          "name": "stdout"
        }
      ]
    },
    {
      "cell_type": "code",
      "metadata": {
        "id": "xpQGoLFqGUXR",
        "colab_type": "code",
        "colab": {
          "base_uri": "https://localhost:8080/",
          "height": 345
        },
        "outputId": "8355e430-3dbf-440e-c595-ce9434d977c4"
      },
      "source": [
        "# Python NumPy\n",
        "\n",
        "import numpy as np\n",
        "\n",
        "arr = np.array([1, 2, 3, 4, 5])\n",
        "\n",
        "print(arr)\n",
        "print(type(arr))\n",
        "\n",
        "# Use a tuple to create a NumPy array:\n",
        "arr = np.array((1, 2, 3, 4, 5))\n",
        "print(arr)\n",
        "\n",
        "# Create a 0-D array with value 42 - one element\n",
        "arr0 = np.array(42)\n",
        "\n",
        "arr2 = np.array([[1, 2, 3], [4, 5, 6]])\n",
        "\n",
        "print(arr0.ndim, \" \", arr2.ndim)\n",
        "\n",
        "#==============\n",
        "#Create an array with 5 dimensions and verify that it has 5 dimensions:\n",
        "\n",
        "arr = np.array([1, 2, 3, 4], ndmin=5)\n",
        "\n",
        "print(arr)\n",
        "print('number of dimensions :', arr.ndim)\n",
        "\n",
        "npr = np.random.rand(3,2,2)\n",
        "print(npr.ndim)\n",
        "print(npr)\n",
        "\n",
        "print(npr[2,1,1])\n",
        "print(\"--\")\n",
        "\n",
        "#Slicing arrays\n",
        "print(npr[1:2,1,:])\n",
        "\n",
        "\n",
        "\n"
      ],
      "execution_count": 15,
      "outputs": [
        {
          "output_type": "stream",
          "text": [
            "[1 2 3 4 5]\n",
            "<class 'numpy.ndarray'>\n",
            "[1 2 3 4 5]\n",
            "0   2\n",
            "[[[[[1 2 3 4]]]]]\n",
            "number of dimensions : 5\n",
            "3\n",
            "[[[0.14815855 0.3156179 ]\n",
            "  [0.17906167 0.61144368]]\n",
            "\n",
            " [[0.20377381 0.23639003]\n",
            "  [0.46232359 0.12403448]]\n",
            "\n",
            " [[0.34947437 0.35936366]\n",
            "  [0.76221055 0.6490745 ]]]\n",
            "0.6490745001497558\n",
            "--\n",
            "[[0.46232359 0.12403448]]\n"
          ],
          "name": "stdout"
        }
      ]
    }
  ]
}