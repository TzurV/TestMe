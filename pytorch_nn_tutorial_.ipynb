{
  "nbformat": 4,
  "nbformat_minor": 0,
  "metadata": {
    "colab": {
      "name": "pytorch-nn_tutorial .ipynb",
      "provenance": [],
      "collapsed_sections": [],
      "authorship_tag": "ABX9TyMU/ZIU+qXWM92Y6gH6hjK5",
      "include_colab_link": true
    },
    "kernelspec": {
      "name": "python3",
      "display_name": "Python 3"
    }
  },
  "cells": [
    {
      "cell_type": "markdown",
      "metadata": {
        "id": "view-in-github",
        "colab_type": "text"
      },
      "source": [
        "<a href=\"https://colab.research.google.com/github/TzurV/TestMe/blob/master/pytorch_nn_tutorial_.ipynb\" target=\"_parent\"><img src=\"https://colab.research.google.com/assets/colab-badge.svg\" alt=\"Open In Colab\"/></a>"
      ]
    },
    {
      "cell_type": "code",
      "metadata": {
        "id": "-SENDya7vJf_",
        "colab_type": "code",
        "colab": {}
      },
      "source": [
        "# https://pytorch.org/tutorials/beginner/nn_tutorial.html\n",
        "#=========================================================\n",
        "\n",
        "from pathlib import Path\n",
        "import requests\n",
        "\n",
        "DATA_PATH = Path(\"data\")\n",
        "PATH = DATA_PATH / \"mnist\"\n",
        "\n",
        "PATH.mkdir(parents=True, exist_ok=True)\n",
        "\n",
        "URL = \"http://deeplearning.net/data/mnist/\"\n",
        "FILENAME = \"mnist.pkl.gz\"\n",
        "\n",
        "if not (PATH / FILENAME).exists():\n",
        "        content = requests.get(URL + FILENAME).content\n",
        "        (PATH / FILENAME).open(\"wb\").write(content)"
      ],
      "execution_count": 0,
      "outputs": []
    },
    {
      "cell_type": "code",
      "metadata": {
        "id": "pz3d5AMqwMnl",
        "colab_type": "code",
        "colab": {}
      },
      "source": [
        "import pickle\n",
        "import gzip\n",
        "from matplotlib import pyplot\n",
        "import numpy as np\n",
        "\n",
        "# This dataset is in numpy array format, and has been stored using pickle, a python-specific format for serializing data.\n",
        "with gzip.open((PATH / FILENAME).as_posix(), \"rb\") as f:\n",
        "        ((x_train, y_train), (x_valid, y_valid), _) = pickle.load(f, encoding=\"latin-1\")\n",
        "        "
      ],
      "execution_count": 0,
      "outputs": []
    },
    {
      "cell_type": "code",
      "metadata": {
        "id": "r8rJ_4NdwtiZ",
        "colab_type": "code",
        "colab": {
          "base_uri": "https://localhost:8080/",
          "height": 709
        },
        "outputId": "73567166-fa57-4a62-a497-5754cba38e32"
      },
      "source": [
        "#https://ipython.readthedocs.io/en/stable/interactive/magics.html\n",
        "\n",
        "\n",
        "#Print all interactive variables, with some minimal formatting.\n",
        "print(\" --- %who ----\")\n",
        "%who\n",
        "# Return a sorted list of all interactive variables.\n",
        "print(\" --- %who_ls ----\")\n",
        "%who_ls\n",
        "# Like %who, but gives some extra information about each variable.\n",
        "print(\" --- %whos ----\")\n",
        "%whos\n",
        "\n",
        "# https://medium.com/@chrieke/jupyter-tips-and-tricks-994fdddb2057\n",
        "# stops and interactive python command line runs !\n",
        "#%debug"
      ],
      "execution_count": 25,
      "outputs": [
        {
          "output_type": "stream",
          "text": [
            " --- %who ----\n",
            "DATA_PATH\t F\t FILENAME\t PATH\t Path\t URL\t accuracy\t bias\t bs\t \n",
            "c\t content\t f\t gzip\t log_softmax\t loss_func\t math\t model\t n\t \n",
            "np\t pickle\t preds\t pyplot\t requests\t torch\t weights\t x_train\t x_valid\t \n",
            "xb\t y_train\t y_valid\t yb\t \n",
            " --- %who_ls ----\n",
            " --- %whos ----\n",
            "Variable      Type         Data/Info\n",
            "------------------------------------\n",
            "DATA_PATH     PosixPath    data\n",
            "F             module       <module 'torch.nn.functio<...>/torch/nn/functional.py'>\n",
            "FILENAME      str          mnist.pkl.gz\n",
            "PATH          PosixPath    data/mnist\n",
            "Path          type         <class 'pathlib.Path'>\n",
            "URL           str          http://deeplearning.net/data/mnist/\n",
            "accuracy      function     <function accuracy at 0x7fcb49e97510>\n",
            "bias          Tensor       tensor([0., 0., 0., 0., 0<...> 0.], requires_grad=True)\n",
            "bs            int          64\n",
            "c             int          784\n",
            "content       bytes        b'\\x1f\\x8b\\x08\\x08\\x14UOK<...>\\x84\\x1b\\x04o\\xd6(\\x1e\\r'\n",
            "f             GzipFile     <gzip on 0x7fcb49e964a8>\n",
            "gzip          module       <module 'gzip' from '/usr/lib/python3.6/gzip.py'>\n",
            "log_softmax   function     <function log_softmax at 0x7fcb49e97950>\n",
            "loss_func     function     <function cross_entropy at 0x7fcb4a6e7ae8>\n",
            "math          module       <module 'math' (built-in)>\n",
            "model         function     <function model at 0x7fcb49e978c8>\n",
            "n             int          50000\n",
            "np            module       <module 'numpy' from '/us<...>kages/numpy/__init__.py'>\n",
            "pickle        module       <module 'pickle' from '/u<...>lib/python3.6/pickle.py'>\n",
            "preds         Tensor       tensor([[-2.7105, -2.4436<...>, grad_fn=<SubBackward0>)\n",
            "pyplot        module       <module 'matplotlib.pyplo<...>es/matplotlib/pyplot.py'>\n",
            "requests      module       <module 'requests' from '<...>es/requests/__init__.py'>\n",
            "torch         module       <module 'torch' from '/us<...>kages/torch/__init__.py'>\n",
            "weights       Tensor       tensor([[-0.0457, -0.0251<...>      requires_grad=True)\n",
            "x_train       ndarray      50000x784: 39200000 elems, type `float32`, 156800000 bytes (149.5361328125 Mb)\n",
            "x_valid       ndarray      10000x784: 7840000 elems, type `float32`, 31360000 bytes (29.9072265625 Mb)\n",
            "xb            Tensor       tensor([[0., 0., 0.,  ...<...>, 0.,  ..., 0., 0., 0.]])\n",
            "y_train       ndarray      50000: 50000 elems, type `int64`, 400000 bytes (390.625 kb)\n",
            "y_valid       ndarray      10000: 10000 elems, type `int64`, 80000 bytes\n",
            "yb            Tensor       tensor([5, 0, 4, 1, 9, 2,<...> 0, 9, 4, 1, 4, 4, 6, 0])\n"
          ],
          "name": "stdout"
        }
      ]
    },
    {
      "cell_type": "code",
      "metadata": {
        "id": "TMkD4oKyyA57",
        "colab_type": "code",
        "colab": {
          "base_uri": "https://localhost:8080/",
          "height": 282
        },
        "outputId": "9bf10eb5-05ad-4487-f9e8-0088e495d086"
      },
      "source": [
        "#Each image is 28 x 28, and is being stored as a flattened row of length 784 (=28x28). Let’s take a look at one; we need to reshape it to 2d first.\n",
        "pyplot.imshow(x_train[0].reshape((28, 28)), cmap=\"gray\")\n",
        "print(x_train.shape)\n"
      ],
      "execution_count": 26,
      "outputs": [
        {
          "output_type": "stream",
          "text": [
            "(50000, 784)\n"
          ],
          "name": "stdout"
        },
        {
          "output_type": "display_data",
          "data": {
            "image/png": "[encoded data removed]",
            "text/plain": [
              "<Figure size 432x288 with 1 Axes>"
            ]
          },
          "metadata": {
            "tags": [],
            "needs_background": "light"
          }
        }
      ]
    },
    {
      "cell_type": "code",
      "metadata": {
        "id": "UIIXFaCAyRSv",
        "colab_type": "code",
        "colab": {
          "base_uri": "https://localhost:8080/",
          "height": 168
        },
        "outputId": "1744713c-03b8-4793-c5e7-33e15fbf1584"
      },
      "source": [
        "#PyTorch uses torch.tensor, rather than numpy arrays, so we need to convert our data.\n",
        "\n",
        "import torch\n",
        "x_train, y_train, x_valid, y_valid = map(torch.tensor, (x_train, y_train, x_valid, y_valid))\n",
        "n, c = x_train.shape\n",
        "x_train, x_train.shape, y_train.min(), y_train.max()\n",
        "print(x_train, y_train)\n",
        "print(x_train.shape)\n",
        "print(y_train.min(), y_train.max())\n"
      ],
      "execution_count": 27,
      "outputs": [
        {
          "output_type": "stream",
          "text": [
            "tensor([[0., 0., 0.,  ..., 0., 0., 0.],\n",
            "        [0., 0., 0.,  ..., 0., 0., 0.],\n",
            "        [0., 0., 0.,  ..., 0., 0., 0.],\n",
            "        ...,\n",
            "        [0., 0., 0.,  ..., 0., 0., 0.],\n",
            "        [0., 0., 0.,  ..., 0., 0., 0.],\n",
            "        [0., 0., 0.,  ..., 0., 0., 0.]]) tensor([5, 0, 4,  ..., 8, 4, 8])\n",
            "torch.Size([50000, 784])\n",
            "tensor(0) tensor(9)\n"
          ],
          "name": "stdout"
        }
      ]
    },
    {
      "cell_type": "code",
      "metadata": {
        "id": "IXlZpq_35JqW",
        "colab_type": "code",
        "colab": {
          "base_uri": "https://localhost:8080/",
          "height": 67
        },
        "outputId": "fed3f2dc-91b9-4122-8049-182591ef21a2"
      },
      "source": [
        "import math\n",
        "\n",
        "# We are initializing the weights here with Xavier initialisation (by multiplying with 1/sqrt(n)).\n",
        "weights = torch.randn(784, 10) / math.sqrt(784)\n",
        "weights.requires_grad_()\n",
        "bias = torch.zeros(10, requires_grad=True)\n",
        "\n",
        "def log_softmax(x):\n",
        "    return x - x.exp().sum(-1).log().unsqueeze(-1)\n",
        "\n",
        "def model(xb):\n",
        "    return log_softmax(xb @ weights + bias)\n",
        "\n",
        "def accuracy(out, yb):\n",
        "    preds = torch.argmax(out, dim=1)\n",
        "    return (preds == yb).float().mean()\n",
        "    \n",
        "bs = 64  # batch size\n",
        "\n",
        "xb = x_train[0:bs]  # a mini-batch from x\n",
        "preds = model(xb)  # predictions\n",
        "preds[0], preds.shape\n",
        "print(preds[0], preds.shape)\n",
        "\n",
        "yb = y_train[0:bs]\n",
        "print(loss_func(preds, yb))\n",
        "\n"
      ],
      "execution_count": 28,
      "outputs": [
        {
          "output_type": "stream",
          "text": [
            "tensor([-2.3821, -2.3080, -2.5421, -2.8338, -2.8057, -2.0847, -2.2849, -2.3061,\n",
            "        -1.7278, -2.2370], grad_fn=<SelectBackward>) torch.Size([64, 10])\n",
            "tensor(2.3651, grad_fn=<NllLossBackward>)\n"
          ],
          "name": "stdout"
        }
      ]
    },
    {
      "cell_type": "code",
      "metadata": {
        "id": "1QgT7p4l27h5",
        "colab_type": "code",
        "outputId": "b698b666-8577-4db2-ccce-9c616ceaccfe",
        "colab": {
          "base_uri": "https://localhost:8080/",
          "height": 34
        }
      },
      "source": [
        "## Using torch.nn.functional ===\n",
        "\n",
        "import torch.nn.functional as F\n",
        "\n",
        "loss_func = F.cross_entropy\n",
        "\n",
        "def model(xb):\n",
        "    return xb @ weights + bias\n",
        "\n",
        "# Note that we no longer call log_softmax in the model function. \n",
        "# Let’s confirm that our loss and accuracy are the same as before:\n",
        "\n",
        "print(loss_func(model(xb), yb), accuracy(model(xb), yb))\n",
        "\n",
        "\n"
      ],
      "execution_count": 0,
      "outputs": [
        {
          "output_type": "stream",
          "text": [
            "tensor(2.3651, grad_fn=<NllLossBackward>) tensor(0.0938)\n"
          ],
          "name": "stdout"
        }
      ]
    },
    {
      "cell_type": "code",
      "metadata": {
        "id": "jafVbkE8NQqW",
        "colab_type": "code",
        "colab": {
          "base_uri": "https://localhost:8080/",
          "height": 67
        },
        "outputId": "914f2262-cb67-4241-f069-69d0e4c65bbc"
      },
      "source": [
        "#@Refactor using nn.Module\n",
        "\n",
        "from torch import nn\n",
        "\n",
        "class Mnist_Logistic(nn.Module):\n",
        "    def __init__(self):\n",
        "        super().__init__()\n",
        "        self.weights = nn.Parameter(torch.randn(784, 10) / math.sqrt(784))\n",
        "        self.bias = nn.Parameter(torch.zeros(10))\n",
        "\n",
        "    def forward(self, xb):\n",
        "        return xb @ self.weights + self.bias\n",
        "\n",
        "#we first have to instantiate our model:\n",
        "model = Mnist_Logistic()\n",
        "\n",
        "print(\"1> \", loss_func(model(xb), yb))\n",
        "\n",
        "# for our training loop\n",
        "# we can take advantage of model.parameters() and model.zero_grad() \n",
        "# (which are both defined by PyTorch for nn.Module) \n",
        "# to make those steps more concise and less prone to the error \n",
        "# of forgetting some of our parameters, particularly if we had a more \n",
        "# complicated model:\n",
        "\n",
        "\n",
        "lr = 0.5  # learning rate\n",
        "epochs = 4  # how many epochs to train for\n",
        "\n",
        "\n",
        "from torch import optim\n",
        "\n",
        "#We’ll define a little function to create our model and optimizer so we can reuse it in the future.\n",
        "def get_model():\n",
        "    model = Mnist_Logistic()\n",
        "    return model, optim.SGD(model.parameters(), lr=lr)\n",
        "\n",
        "model, opt = get_model()\n",
        "print(\"2> \", loss_func(model(xb), yb))\n",
        "\n",
        "for epoch in range(epochs):\n",
        "    for i in range((n - 1) // bs + 1):\n",
        "        start_i = i * bs\n",
        "        end_i = start_i + bs\n",
        "        xb = x_train[start_i:end_i]\n",
        "        yb = y_train[start_i:end_i]\n",
        "        pred = model(xb)\n",
        "        loss = loss_func(pred, yb)\n",
        "\n",
        "        loss.backward()\n",
        "        opt.step()\n",
        "        opt.zero_grad()\n",
        "\n",
        "print(\"3> \", loss_func(model(xb), yb))"
      ],
      "execution_count": 37,
      "outputs": [
        {
          "output_type": "stream",
          "text": [
            "1>  tensor(2.5194, grad_fn=<NllLossBackward>)\n",
            "2>  tensor(2.3521, grad_fn=<NllLossBackward>)\n",
            "3>  tensor(0.0664, grad_fn=<NllLossBackward>)\n"
          ],
          "name": "stdout"
        }
      ]
    },
    {
      "cell_type": "markdown",
      "metadata": {
        "id": "zbErZcHPP71k",
        "colab_type": "text"
      },
      "source": [
        "# Refactor using Dataset\n",
        "\n",
        "[link text](https://pytorch.org/tutorials/beginner/nn_tutorial.html#refactor-using-dataset)\n",
        "\n",
        "\n",
        "PyTorch has an abstract Dataset class. A Dataset can be anything that has a __len__ function (called by Python’s standard len function) and a __getitem__ function as a way of indexing into it. This tutorial walks through a nice example of creating a custom FacialLandmarkDataset class as a subclass of Dataset.\n",
        "\n",
        "PyTorch’s TensorDataset is a Dataset wrapping tensors. By defining a length and way of indexing, this also gives us a way to iterate, index, and slice along the first dimension of a tensor. This will make it easier to access both the independent and dependent variables in the same line as we train.\n"
      ]
    },
    {
      "cell_type": "code",
      "metadata": {
        "id": "rb-XHwYAQOup",
        "colab_type": "code",
        "colab": {}
      },
      "source": [
        ""
      ],
      "execution_count": 0,
      "outputs": []
    }
  ]
}