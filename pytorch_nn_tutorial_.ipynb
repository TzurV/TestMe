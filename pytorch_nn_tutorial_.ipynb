{
  "nbformat": 4,
  "nbformat_minor": 0,
  "metadata": {
    "colab": {
      "name": "pytorch-nn_tutorial .ipynb",
      "provenance": [],
      "collapsed_sections": [],
      "authorship_tag": "ABX9TyNaaMRjTHjlWvjUNJ5ftjwR",
      "include_colab_link": true
    },
    "kernelspec": {
      "name": "python3",
      "display_name": "Python 3"
    }
  },
  "cells": [
    {
      "cell_type": "markdown",
      "metadata": {
        "id": "view-in-github",
        "colab_type": "text"
      },
      "source": [
        "<a href=\"https://colab.research.google.com/github/TzurV/TestMe/blob/master/pytorch_nn_tutorial_.ipynb\" target=\"_parent\"><img src=\"https://colab.research.google.com/assets/colab-badge.svg\" alt=\"Open In Colab\"/></a>"
      ]
    },
    {
      "cell_type": "code",
      "metadata": {
        "id": "-SENDya7vJf_",
        "colab_type": "code",
        "colab": {}
      },
      "source": [
        "# https://pytorch.org/tutorials/beginner/nn_tutorial.html\n",
        "#=========================================================\n",
        "\n",
        "from pathlib import Path\n",
        "import requests\n",
        "\n",
        "DATA_PATH = Path(\"data\")\n",
        "PATH = DATA_PATH / \"mnist\"\n",
        "\n",
        "PATH.mkdir(parents=True, exist_ok=True)\n",
        "\n",
        "URL = \"http://deeplearning.net/data/mnist/\"\n",
        "FILENAME = \"mnist.pkl.gz\"\n",
        "\n",
        "if not (PATH / FILENAME).exists():\n",
        "        content = requests.get(URL + FILENAME).content\n",
        "        (PATH / FILENAME).open(\"wb\").write(content)"
      ],
      "execution_count": null,
      "outputs": []
    },
    {
      "cell_type": "code",
      "metadata": {
        "id": "pz3d5AMqwMnl",
        "colab_type": "code",
        "colab": {}
      },
      "source": [
        "import pickle\n",
        "import gzip\n",
        "from matplotlib import pyplot\n",
        "import numpy as np\n",
        "\n",
        "# This dataset is in numpy array format, and has been stored using pickle, a python-specific format for serializing data.\n",
        "with gzip.open((PATH / FILENAME).as_posix(), \"rb\") as f:\n",
        "        ((x_train, y_train), (x_valid, y_valid), _) = pickle.load(f, encoding=\"latin-1\")\n",
        "        "
      ],
      "execution_count": null,
      "outputs": []
    },
    {
      "cell_type": "code",
      "metadata": {
        "id": "r8rJ_4NdwtiZ",
        "colab_type": "code",
        "colab": {
          "base_uri": "https://localhost:8080/",
          "height": 403
        },
        "outputId": "87fcb1a0-16ac-423a-de28-d3a08a03d2ec"
      },
      "source": [
        "#https://ipython.readthedocs.io/en/stable/interactive/magics.html\n",
        "\n",
        "\n",
        "#Print all interactive variables, with some minimal formatting.\n",
        "print(\" --- %who ----\")\n",
        "%who\n",
        "# Return a sorted list of all interactive variables.\n",
        "print(\" --- %who_ls ----\")\n",
        "%who_ls\n",
        "# Like %who, but gives some extra information about each variable.\n",
        "print(\" --- %whos ----\")\n",
        "%whos\n",
        "\n",
        "# https://medium.com/@chrieke/jupyter-tips-and-tricks-994fdddb2057\n",
        "# stops and interactive python command line runs !\n",
        "#%debug"
      ],
      "execution_count": null,
      "outputs": [
        {
          "output_type": "stream",
          "text": [
            " --- %who ----\n",
            "DATA_PATH\t FILENAME\t PATH\t Path\t URL\t content\t f\t gzip\t np\t \n",
            "pickle\t pyplot\t requests\t x_train\t x_valid\t y_train\t y_valid\t \n",
            " --- %who_ls ----\n",
            " --- %whos ----\n",
            "Variable    Type         Data/Info\n",
            "----------------------------------\n",
            "DATA_PATH   PosixPath    data\n",
            "FILENAME    str          mnist.pkl.gz\n",
            "PATH        PosixPath    data/mnist\n",
            "Path        type         <class 'pathlib.Path'>\n",
            "URL         str          http://deeplearning.net/data/mnist/\n",
            "content     bytes        b'\\x1f\\x8b\\x08\\x08\\x14UOK<...>\\x84\\x1b\\x04o\\xd6(\\x1e\\r'\n",
            "f           GzipFile     <gzip on 0x7f32465ff438>\n",
            "gzip        module       <module 'gzip' from '/usr/lib/python3.6/gzip.py'>\n",
            "np          module       <module 'numpy' from '/us<...>kages/numpy/__init__.py'>\n",
            "pickle      module       <module 'pickle' from '/u<...>lib/python3.6/pickle.py'>\n",
            "pyplot      module       <module 'matplotlib.pyplo<...>es/matplotlib/pyplot.py'>\n",
            "requests    module       <module 'requests' from '<...>es/requests/__init__.py'>\n",
            "x_train     ndarray      50000x784: 39200000 elems, type `float32`, 156800000 bytes (149.5361328125 Mb)\n",
            "x_valid     ndarray      10000x784: 7840000 elems, type `float32`, 31360000 bytes (29.9072265625 Mb)\n",
            "y_train     ndarray      50000: 50000 elems, type `int64`, 400000 bytes (390.625 kb)\n",
            "y_valid     ndarray      10000: 10000 elems, type `int64`, 80000 bytes\n"
          ],
          "name": "stdout"
        }
      ]
    },
    {
      "cell_type": "code",
      "metadata": {
        "id": "TMkD4oKyyA57",
        "colab_type": "code",
        "colab": {
          "base_uri": "https://localhost:8080/",
          "height": 282
        },
        "outputId": "e5cd353a-7fb9-4c0d-af44-761f7342d437"
      },
      "source": [
        "#Each image is 28 x 28, and is being stored as a flattened row of length 784 (=28x28). Let’s take a look at one; we need to reshape it to 2d first.\n",
        "pyplot.imshow(x_train[0].reshape((28, 28)), cmap=\"gray\")\n",
        "print(x_train.shape)\n"
      ],
      "execution_count": null,
      "outputs": [
        {
          "output_type": "stream",
          "text": [
            "(50000, 784)\n"
          ],
          "name": "stdout"
        },
        {
          "output_type": "display_data",
          "data": {
            "image/png": "[encoded data removed]",
            "text/plain": [
              "<Figure size 432x288 with 1 Axes>"
            ]
          },
          "metadata": {
            "tags": [],
            "needs_background": "light"
          }
        }
      ]
    },
    {
      "cell_type": "code",
      "metadata": {
        "id": "UIIXFaCAyRSv",
        "colab_type": "code",
        "colab": {
          "base_uri": "https://localhost:8080/",
          "height": 168
        },
        "outputId": "49aa5eb5-b0c2-4b63-cf24-c896ee47b26b"
      },
      "source": [
        "#PyTorch uses torch.tensor, rather than numpy arrays, so we need to convert our data.\n",
        "\n",
        "import torch\n",
        "x_train, y_train, x_valid, y_valid = map(torch.tensor, (x_train, y_train, x_valid, y_valid))\n",
        "n, c = x_train.shape\n",
        "x_train, x_train.shape, y_train.min(), y_train.max()\n",
        "print(x_train, y_train)\n",
        "print(x_train.shape)\n",
        "print(y_train.min(), y_train.max())\n"
      ],
      "execution_count": null,
      "outputs": [
        {
          "output_type": "stream",
          "text": [
            "tensor([[0., 0., 0.,  ..., 0., 0., 0.],\n",
            "        [0., 0., 0.,  ..., 0., 0., 0.],\n",
            "        [0., 0., 0.,  ..., 0., 0., 0.],\n",
            "        ...,\n",
            "        [0., 0., 0.,  ..., 0., 0., 0.],\n",
            "        [0., 0., 0.,  ..., 0., 0., 0.],\n",
            "        [0., 0., 0.,  ..., 0., 0., 0.]]) tensor([5, 0, 4,  ..., 8, 4, 8])\n",
            "torch.Size([50000, 784])\n",
            "tensor(0) tensor(9)\n"
          ],
          "name": "stdout"
        }
      ]
    },
    {
      "cell_type": "code",
      "metadata": {
        "id": "IXlZpq_35JqW",
        "colab_type": "code",
        "colab": {
          "base_uri": "https://localhost:8080/",
          "height": 67
        },
        "outputId": "2f0dde90-22f7-4416-c551-5eb9c1e4195d"
      },
      "source": [
        "import math\n",
        "\n",
        "# We are initializing the weights here with Xavier initialisation (by multiplying with 1/sqrt(n)).\n",
        "weights = torch.randn(784, 10) / math.sqrt(784)\n",
        "weights.requires_grad_()\n",
        "bias = torch.zeros(10, requires_grad=True)\n",
        "\n",
        "def log_softmax(x):\n",
        "    return x - x.exp().sum(-1).log().unsqueeze(-1)\n",
        "\n",
        "def model(xb):\n",
        "    return log_softmax(xb @ weights + bias)\n",
        "\n",
        "def accuracy(out, yb):\n",
        "    preds = torch.argmax(out, dim=1)\n",
        "    return (preds == yb).float().mean()\n",
        "    \n",
        "def nll(input, target):\n",
        "    return -input[range(target.shape[0]), target].mean()\n",
        "\n",
        "loss_func = nll\n",
        "\n",
        "bs = 64  # batch size\n",
        "\n",
        "xb = x_train[0:bs]  # a mini-batch from x\n",
        "preds = model(xb)  # predictions\n",
        "preds[0], preds.shape\n",
        "print(preds[0], preds.shape)\n",
        "\n",
        "yb = y_train[0:bs]\n",
        "print(loss_func(preds, yb))\n",
        "\n"
      ],
      "execution_count": 8,
      "outputs": [
        {
          "output_type": "stream",
          "text": [
            "tensor([-2.2628, -2.3141, -2.3516, -2.1881, -2.1966, -2.6931, -2.3251, -2.3796,\n",
            "        -2.2372, -2.1736], grad_fn=<SelectBackward>) torch.Size([64, 10])\n",
            "tensor(2.3135, grad_fn=<NegBackward>)\n"
          ],
          "name": "stdout"
        }
      ]
    },
    {
      "cell_type": "code",
      "metadata": {
        "id": "1QgT7p4l27h5",
        "colab_type": "code",
        "colab": {
          "base_uri": "https://localhost:8080/",
          "height": 34
        },
        "outputId": "2090ac5b-2dca-43a1-c3cf-0761bed4882f"
      },
      "source": [
        "## Using torch.nn.functional ===\n",
        "\n",
        "import torch.nn.functional as F\n",
        "\n",
        "loss_func = F.cross_entropy\n",
        "\n",
        "def model(xb):\n",
        "    return xb @ weights + bias\n",
        "\n",
        "# Note that we no longer call log_softmax in the model function. \n",
        "# Let’s confirm that our loss and accuracy are the same as before:\n",
        "\n",
        "print(loss_func(model(xb), yb), accuracy(model(xb), yb))\n",
        "\n",
        "\n"
      ],
      "execution_count": 12,
      "outputs": [
        {
          "output_type": "stream",
          "text": [
            "tensor(2.2864, grad_fn=<NllLossBackward>) tensor(0.0625)\n"
          ],
          "name": "stdout"
        }
      ]
    },
    {
      "cell_type": "code",
      "metadata": {
        "id": "jafVbkE8NQqW",
        "colab_type": "code",
        "colab": {
          "base_uri": "https://localhost:8080/",
          "height": 67
        },
        "outputId": "accc5c84-4a17-4dda-a894-b3aefc385e39"
      },
      "source": [
        "#@Refactor using nn.Module\n",
        "\n",
        "from torch import nn\n",
        "\n",
        "class Mnist_Logistic(nn.Module):\n",
        "    def __init__(self):\n",
        "        super().__init__()\n",
        "        self.weights = nn.Parameter(torch.randn(784, 10) / math.sqrt(784))\n",
        "        self.bias = nn.Parameter(torch.zeros(10))\n",
        "\n",
        "    def forward(self, xb):\n",
        "        return xb @ self.weights + self.bias\n",
        "\n",
        "#we first have to instantiate our model:\n",
        "model = Mnist_Logistic()\n",
        "\n",
        "print(\"1> \", loss_func(model(xb), yb))\n",
        "\n",
        "# for our training loop\n",
        "# we can take advantage of model.parameters() and model.zero_grad() \n",
        "# (which are both defined by PyTorch for nn.Module) \n",
        "# to make those steps more concise and less prone to the error \n",
        "# of forgetting some of our parameters, particularly if we had a more \n",
        "# complicated model:\n",
        "\n",
        "\n",
        "lr = 0.5  # learning rate\n",
        "epochs = 4  # how many epochs to train for\n",
        "\n",
        "\n",
        "from torch import optim\n",
        "\n",
        "#We’ll define a little function to create our model and optimizer so we can reuse it in the future.\n",
        "def get_model():\n",
        "    model = Mnist_Logistic()\n",
        "    return model, optim.SGD(model.parameters(), lr=lr)\n",
        "\n",
        "model, opt = get_model()\n",
        "print(\"2> \", loss_func(model(xb), yb))\n",
        "\n",
        "for epoch in range(epochs):\n",
        "    for i in range((n - 1) // bs + 1):\n",
        "        start_i = i * bs\n",
        "        end_i = start_i + bs\n",
        "        xb = x_train[start_i:end_i]\n",
        "        yb = y_train[start_i:end_i]\n",
        "        pred = model(xb)\n",
        "        loss = loss_func(pred, yb)\n",
        "\n",
        "        loss.backward()\n",
        "        opt.step()\n",
        "        opt.zero_grad()\n",
        "\n",
        "print(\"3> \", loss_func(model(xb), yb))"
      ],
      "execution_count": 13,
      "outputs": [
        {
          "output_type": "stream",
          "text": [
            "1>  tensor(2.4465, grad_fn=<NllLossBackward>)\n",
            "2>  tensor(2.5491, grad_fn=<NllLossBackward>)\n",
            "3>  tensor(0.0657, grad_fn=<NllLossBackward>)\n"
          ],
          "name": "stdout"
        }
      ]
    },
    {
      "cell_type": "markdown",
      "metadata": {
        "id": "zbErZcHPP71k",
        "colab_type": "text"
      },
      "source": [
        "# Refactor using Dataset\n",
        "\n",
        "[link text](https://pytorch.org/tutorials/beginner/nn_tutorial.html#refactor-using-dataset)\n",
        "\n",
        "\n",
        "PyTorch has an abstract Dataset class. A Dataset can be anything that has a __len__ function (called by Python’s standard len function) and a __getitem__ function as a way of indexing into it. This tutorial walks through a nice example of creating a custom FacialLandmarkDataset class as a subclass of Dataset.\n",
        "\n",
        "PyTorch’s TensorDataset is a Dataset wrapping tensors. By defining a length and way of indexing, this also gives us a way to iterate, index, and slice along the first dimension of a tensor. This will make it easier to access both the independent and dependent variables in the same line as we train.\n"
      ]
    },
    {
      "cell_type": "code",
      "metadata": {
        "id": "rb-XHwYAQOup",
        "colab_type": "code",
        "colab": {
          "base_uri": "https://localhost:8080/",
          "height": 67
        },
        "outputId": "3ca890c6-e7bd-4714-b7b8-4ba246c2947d"
      },
      "source": [
        "from torch.utils.data import TensorDataset\n",
        "\n",
        "\n",
        "print(type(x_train), x_train.dim)\n",
        "\n",
        "# Both x_train and y_train can be combined in a single TensorDataset, \n",
        "# which will be easier to iterate over and slice.\n",
        "# https://pytorch.org/docs/stable/data.html\n",
        "\n",
        "\n",
        "train_ds = TensorDataset(x_train, y_train)\n",
        "print(type(train_ds))\n",
        "\n",
        "\n",
        "model, opt = get_model()\n",
        "\n",
        "for epoch in range(epochs):\n",
        "    for i in range((n - 1) // bs + 1):\n",
        "        xb, yb = train_ds[i * bs: i * bs + bs]\n",
        "        pred = model(xb)\n",
        "        loss = loss_func(pred, yb)\n",
        "\n",
        "        loss.backward()\n",
        "        opt.step()\n",
        "        opt.zero_grad()\n",
        "\n",
        "print(loss_func(model(xb), yb))"
      ],
      "execution_count": 16,
      "outputs": [
        {
          "output_type": "stream",
          "text": [
            "<class 'torch.Tensor'> <built-in method dim of Tensor object at 0x7f324592bab0>\n",
            "<class 'torch.utils.data.dataset.TensorDataset'>\n",
            "tensor(0.0654, grad_fn=<NllLossBackward>)\n"
          ],
          "name": "stdout"
        }
      ]
    },
    {
      "cell_type": "code",
      "metadata": {
        "id": "N8yqisG8eZ1e",
        "colab_type": "code",
        "colab": {
          "base_uri": "https://localhost:8080/",
          "height": 101
        },
        "outputId": "5e82755b-1134-49a4-9b49-7f96eb99080f"
      },
      "source": [
        "# Pytorch’s DataLoader is responsible for managing batches.\n",
        "\n",
        "# Pytorch’s DataLoader is responsible for managing batches. \n",
        "# You can create a DataLoader from any Dataset. DataLoader makes it easier to iterate over batches. \n",
        "# Rather than having to use train_ds[i*bs : i*bs+bs], the DataLoader gives us each minibatch automatically.\n",
        "\n",
        "from torch.utils.data import DataLoader\n",
        "\n",
        "train_ds = TensorDataset(x_train, y_train)\n",
        "train_dl = DataLoader(train_ds, batch_size=bs)\n",
        "\n",
        "\n",
        "# Now, our loop is much cleaner, as (xb, yb) are loaded automatically from the data loader:\n",
        "for epoch in range(epochs):\n",
        "    for xb, yb in train_dl:\n",
        "        pred = model(xb)\n",
        "        loss = loss_func(pred, yb)\n",
        "\n",
        "        loss.backward()\n",
        "        opt.step()\n",
        "        opt.zero_grad()\n",
        "\n",
        "print(loss_func(model(xb), yb))\n",
        "\n",
        "\n",
        "# Add validation\n",
        "train_ds = TensorDataset(x_train, y_train)\n",
        "train_dl = DataLoader(train_ds, batch_size=bs, shuffle=True)\n",
        "\n",
        "valid_ds = TensorDataset(x_valid, y_valid)\n",
        "valid_dl = DataLoader(valid_ds, batch_size=bs * 2)\n",
        "\n",
        "# We will calculate and print the validation loss at the end of each epoch.\n",
        "# Note that we always call model.train() before training, and model.eval() before inference, \n",
        "# because these are used by layers such as nn.BatchNorm2d and nn.Dropout to \n",
        "# ensure appropriate behaviour for these different phases.\n",
        "\n",
        "model, opt = get_model()\n",
        "\n",
        "for epoch in range(epochs):\n",
        "    model.train()\n",
        "    for xb, yb in train_dl:\n",
        "        pred = model(xb)\n",
        "        loss = loss_func(pred, yb)\n",
        "\n",
        "        loss.backward()\n",
        "        opt.step()\n",
        "        opt.zero_grad()\n",
        "\n",
        "    # set model in evaluation mode\n",
        "    model.eval()\n",
        "    with torch.no_grad():\n",
        "        valid_loss = sum(loss_func(model(xb), yb) for xb, yb in valid_dl)\n",
        "\n",
        "    print(epoch, valid_loss / len(valid_dl))"
      ],
      "execution_count": 18,
      "outputs": [
        {
          "output_type": "stream",
          "text": [
            "tensor(0.0541, grad_fn=<NllLossBackward>)\n",
            "0 tensor(0.3084)\n",
            "1 tensor(0.2926)\n",
            "2 tensor(0.2769)\n",
            "3 tensor(0.2902)\n"
          ],
          "name": "stdout"
        }
      ]
    },
    {
      "cell_type": "code",
      "metadata": {
        "id": "4gniJLQ2gUqL",
        "colab_type": "code",
        "colab": {}
      },
      "source": [
        "# Create fit() and get_data()\n",
        "# https://pytorch.org/tutorials/beginner/nn_tutorial.html#create-fit-and-get-data\n",
        "\n",
        "# We’ll now do a little refactoring of our own. \n",
        "# Since we go through a similar process twice of calculating the loss for both the \n",
        "# training set and the validation set, let’s make that into its own function, \n",
        "# loss_batch, which computes the loss for one batch.\n",
        "\n",
        "import numpy as np\n",
        "\n",
        "def loss_batch(model, loss_func, xb, yb, opt=None):\n",
        "    loss = loss_func(model(xb), yb)\n",
        "\n",
        "    if opt is not None:\n",
        "        loss.backward()\n",
        "        opt.step()\n",
        "        opt.zero_grad()\n",
        "\n",
        "    return loss.item(), len(xb)\n",
        "\n",
        "\n",
        "\n",
        "def fit(epochs, model, loss_func, opt, train_dl, valid_dl):\n",
        "    for epoch in range(epochs):\n",
        "        model.train()\n",
        "        for xb, yb in train_dl:\n",
        "            loss_batch(model, loss_func, xb, yb, opt)\n",
        "\n",
        "        model.eval()\n",
        "        with torch.no_grad():\n",
        "            losses, nums = zip(\n",
        "                *[loss_batch(model, loss_func, xb, yb) for xb, yb in valid_dl]\n",
        "            )\n",
        "        val_loss = np.sum(np.multiply(losses, nums)) / np.sum(nums)\n",
        "\n",
        "        print(epoch, val_loss)    \n",
        "\n",
        "\n",
        "def get_data(train_ds, valid_ds, bs):\n",
        "    \"\"\" get_data returns dataloaders for the training and validation sets.\n",
        "    \"\"\"\n",
        "    return (\n",
        "        DataLoader(train_ds, batch_size=bs, shuffle=True),\n",
        "        DataLoader(valid_ds, batch_size=bs * 2),\n",
        "    )\n",
        "\n"
      ],
      "execution_count": 19,
      "outputs": []
    }
  ]
}